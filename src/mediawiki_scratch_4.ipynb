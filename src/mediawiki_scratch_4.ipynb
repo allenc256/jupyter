{
 "cells": [
  {
   "cell_type": "code",
   "execution_count": 1,
   "metadata": {},
   "outputs": [],
   "source": [
    "import json\n",
    "import nltk\n",
    "import gzip\n",
    "import tensorflow as tf\n",
    "from modules import bpencoding\n",
    "from nltk.tokenize import TreebankWordTokenizer\n",
    "from intervaltree import Interval, IntervalTree\n",
    "from tqdm import tqdm\n",
    "from random import shuffle"
   ]
  },
  {
   "cell_type": "code",
   "execution_count": 2,
   "metadata": {},
   "outputs": [],
   "source": [
    "with gzip.open('../data/simplewiki/simplewiki-20171103.sentences.json.gz', 'rt', encoding='utf8') as f:\n",
    "    sentences = json.load(f)\n",
    "# N.B., globally pre-shuffle data since we'll be streaming it during training,\n",
    "# and will only be able to shuffle within a small lookahead buffer.\n",
    "# Also, we want to ensure that our train/dev/test sets have the same distribution.\n",
    "shuffle(sentences)"
   ]
  },
  {
   "cell_type": "code",
   "execution_count": 3,
   "metadata": {},
   "outputs": [],
   "source": [
    "with open('../data/simplewiki/simplewiki-20171103.encoder_table_10k.txt', 'rt', encoding='utf-8') as f:\n",
    "    lines = f.readlines()\n",
    "# reserve index 10000 for \"unknown\" token\n",
    "table = [l.strip() for l in lines][:9999]"
   ]
  },
  {
   "cell_type": "code",
   "execution_count": 4,
   "metadata": {},
   "outputs": [],
   "source": [
    "encoder = bpencoding.Encoder(table)"
   ]
  },
  {
   "cell_type": "code",
   "execution_count": 5,
   "metadata": {},
   "outputs": [],
   "source": [
    "def align_tokens(tokens, sentence):\n",
    "    point = 0\n",
    "    offsets = []\n",
    "    for token in tokens:\n",
    "        if token == '``' or token == \"''\":\n",
    "            token = '\"'\n",
    "        try:\n",
    "            start = sentence.index(token, point)\n",
    "        except ValueError:\n",
    "            raise ValueError('substring \"{}\" not found in \"{}\"'.format(token, sentence))\n",
    "        point = start + len(token)\n",
    "        offsets.append((start, point))\n",
    "    return offsets\n",
    "\n",
    "def span_tokenize(sentence):\n",
    "    return align_tokens(nltk.word_tokenize(sentence), sentence)\n",
    "\n",
    "def generate_example(sentence, encoder):\n",
    "    links = IntervalTree()\n",
    "    for l in sentence['links']:\n",
    "        links[l['start']:l['finish']] = l['target']\n",
    "\n",
    "    text = sentence['text'].lower()\n",
    "    text = text.replace(\"``\", '\"')\n",
    "    text = text.replace(\"''\", '\"')\n",
    "    inputs = []\n",
    "    word_endings = []\n",
    "    targets = []\n",
    "    \n",
    "    for s in span_tokenize(text): \n",
    "        offset = s[0]\n",
    "        word = text[s[0]:s[1]]\n",
    "        wfs = encoder.encode(word)\n",
    "        for i, wf in enumerate(wfs):\n",
    "            start = offset\n",
    "            end = offset + len(wf.text)\n",
    "            inputs.append(wf.index)\n",
    "            word_endings.append(int(i == len(wfs)-1))\n",
    "            targets.append(int(bool(links[start:end])))\n",
    "            offset = end\n",
    "            \n",
    "    return tf.train.Example(features = tf.train.Features(feature = {\n",
    "        'inputs': tf.train.Feature(int64_list = tf.train.Int64List(value = inputs)),\n",
    "        'word_endings': tf.train.Feature(int64_list = tf.train.Int64List(value = word_endings)),\n",
    "        'targets': tf.train.Feature(int64_list = tf.train.Int64List(value = targets)),\n",
    "    }))"
   ]
  },
  {
   "cell_type": "code",
   "execution_count": 6,
   "metadata": {},
   "outputs": [],
   "source": [
    "dev_set_size = 30000\n",
    "test_set_size = 30000\n",
    "\n",
    "dev_set_sentences = sentences[:dev_set_size]\n",
    "test_set_sentences = sentences[dev_set_size:dev_set_size+test_set_size]\n",
    "train_set_sentences = sentences[dev_set_size+test_set_size:]"
   ]
  },
  {
   "cell_type": "code",
   "execution_count": null,
   "metadata": {},
   "outputs": [],
   "source": [
    "def write_tfrecords(sentences, file):\n",
    "    with tf.python_io.TFRecordWriter(file) as writer:\n",
    "        for s in tqdm(sentences):\n",
    "            example = generate_example(s, encoder)\n",
    "            writer.write(example.SerializeToString())"
   ]
  },
  {
   "cell_type": "code",
   "execution_count": null,
   "metadata": {},
   "outputs": [
    {
     "name": "stderr",
     "output_type": "stream",
     "text": [
      "100%|██████████| 30000/30000 [00:12<00:00, 2319.31it/s]\n",
      "100%|██████████| 30000/30000 [00:12<00:00, 2322.62it/s]\n",
      " 96%|█████████▌| 989621/1035155 [07:21<00:20, 2241.90it/s]"
     ]
    }
   ],
   "source": [
    "write_tfrecords(dev_set_sentences, '../data/simplewiki/simplewiki-20171103.entity_recognition.dev.tfrecords')\n",
    "write_tfrecords(test_set_sentences, '../data/simplewiki/simplewiki-20171103.entity_recognition.test.tfrecords')\n",
    "write_tfrecords(train_set_sentences, '../data/simplewiki/simplewiki-20171103.entity_recognition.train.tfrecords')"
   ]
  },
  {
   "cell_type": "code",
   "execution_count": null,
   "metadata": {},
   "outputs": [],
   "source": []
  }
 ],
 "metadata": {
  "kernelspec": {
   "display_name": "Python 3",
   "language": "python",
   "name": "python3"
  },
  "language_info": {
   "codemirror_mode": {
    "name": "ipython",
    "version": 3
   },
   "file_extension": ".py",
   "mimetype": "text/x-python",
   "name": "python",
   "nbconvert_exporter": "python",
   "pygments_lexer": "ipython3",
   "version": "3.5.4"
  }
 },
 "nbformat": 4,
 "nbformat_minor": 2
}
