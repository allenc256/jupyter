{
 "cells": [
  {
   "cell_type": "code",
   "execution_count": 1,
   "metadata": {},
   "outputs": [
    {
     "name": "stderr",
     "output_type": "stream",
     "text": [
      "/home/achang/anaconda3/lib/python3.5/site-packages/h5py/__init__.py:36: FutureWarning: Conversion of the second argument of issubdtype from `float` to `np.floating` is deprecated. In future, it will be treated as `np.float64 == np.dtype(float).type`.\n",
      "  from ._conv import register_converters as _register_converters\n"
     ]
    }
   ],
   "source": [
    "import nltk\n",
    "import re\n",
    "import collections\n",
    "import random\n",
    "import itertools\n",
    "import numpy as np\n",
    "import tensorflow as tf\n",
    "import matplotlib.pyplot as plt\n",
    "from tqdm import tqdm_notebook"
   ]
  },
  {
   "cell_type": "code",
   "execution_count": 2,
   "metadata": {},
   "outputs": [],
   "source": [
    "with open('../../data/misc/the_last_question.txt', 'rt') as f:\n",
    "    lines = [l.strip() for l in f]"
   ]
  },
  {
   "cell_type": "code",
   "execution_count": 3,
   "metadata": {},
   "outputs": [],
   "source": [
    "sents = []\n",
    "for l in lines:\n",
    "    sents.extend(nltk.sent_tokenize(l))"
   ]
  },
  {
   "cell_type": "code",
   "execution_count": 4,
   "metadata": {},
   "outputs": [],
   "source": [
    "counter = collections.Counter()\n",
    "for s in sents:\n",
    "    counter.update(s)"
   ]
  },
  {
   "cell_type": "code",
   "execution_count": 5,
   "metadata": {},
   "outputs": [],
   "source": [
    "id_to_char = ['<NULL>', '<START>', '<END>'] + [c for c, _ in counter.most_common()]\n",
    "char_to_id = { c: cid for cid, c in enumerate(id_to_char) }"
   ]
  },
  {
   "cell_type": "code",
   "execution_count": 6,
   "metadata": {},
   "outputs": [],
   "source": [
    "max_len = max(len(s) for s in sents) + 1"
   ]
  },
  {
   "cell_type": "code",
   "execution_count": 7,
   "metadata": {},
   "outputs": [],
   "source": [
    "random.shuffle(sents)"
   ]
  },
  {
   "cell_type": "code",
   "execution_count": 8,
   "metadata": {},
   "outputs": [
    {
     "data": {
      "text/plain": [
       "(335, 40)"
      ]
     },
     "execution_count": 8,
     "metadata": {},
     "output_type": "execute_result"
    }
   ],
   "source": [
    "dev_sents = sents[:40]\n",
    "train_sents = sents[40:]\n",
    "len(train_sents), len(dev_sents)"
   ]
  },
  {
   "cell_type": "code",
   "execution_count": 9,
   "metadata": {},
   "outputs": [],
   "source": [
    "def convert_sent(s, x, y):\n",
    "    for i in range(len(s)):\n",
    "        x[i] = char_to_id[s[i - 1]] if i > 0 else char_to_id['<START>']\n",
    "        y[i] = char_to_id[s[i]]\n",
    "    x[len(s)] = char_to_id[s[-1]]\n",
    "    y[len(s)] = char_to_id['<END>']\n",
    "\n",
    "def convert_sents(ss):\n",
    "    max_len =  max(len(s) for s in ss) + 1\n",
    "    x = np.zeros([len(ss), max_len], np.int64)\n",
    "    y = np.zeros([len(ss), max_len], np.int64)\n",
    "    lens = np.zeros([len(ss)], np.int64)\n",
    "    for i in range(len(ss)):\n",
    "        convert_sent(ss[i], x[i], y[i])\n",
    "        lens[i] = len(ss[i]) + 1\n",
    "    return x, y, lens"
   ]
  },
  {
   "cell_type": "code",
   "execution_count": 10,
   "metadata": {},
   "outputs": [],
   "source": [
    "xs_dev, ys_dev, ls_dev = convert_sents(dev_sents)\n",
    "xs_train, ys_train, ls_train = convert_sents(train_sents)"
   ]
  },
  {
   "cell_type": "code",
   "execution_count": 11,
   "metadata": {},
   "outputs": [],
   "source": [
    "def reset_tf(sess = None, log_device_placement = False):\n",
    "    if sess:\n",
    "        sess.close()\n",
    "    tf.reset_default_graph()\n",
    "    tf.set_random_seed(0)\n",
    "    return tf.InteractiveSession()\n",
    "\n",
    "def dump_statistics():\n",
    "    total_parameters = 0\n",
    "    for variable in tf.trainable_variables():\n",
    "        # shape is an array of tf.Dimension\n",
    "        shape = variable.get_shape()\n",
    "        variable_parameters = 1\n",
    "        for dim in shape:\n",
    "            variable_parameters *= dim.value\n",
    "        print('parameters for \"%s\": %d' % (variable.name, variable_parameters))\n",
    "        total_parameters += variable_parameters\n",
    "    print('total parameters: %d' % total_parameters)"
   ]
  },
  {
   "cell_type": "code",
   "execution_count": 12,
   "metadata": {},
   "outputs": [],
   "source": [
    "sess = None"
   ]
  },
  {
   "cell_type": "code",
   "execution_count": 13,
   "metadata": {},
   "outputs": [],
   "source": [
    "def rnn_dropout(input_data, rate, training, recurrent = True):\n",
    "    # sizes\n",
    "    batch_size = tf.shape(input_data)[0]\n",
    "    size = input_data.shape[-1].value\n",
    "\n",
    "    # noise mask\n",
    "    ns = None\n",
    "    if recurrent:\n",
    "        ns = [batch_size, 1, size]\n",
    "\n",
    "    # apply dropout\n",
    "    return tf.layers.dropout(input_data, rate = rate, training = training, noise_shape = ns)\n",
    "\n",
    "def _rnn(input_data, input_hidden, size, dropout_rate, training, recurrent_dropout = True):\n",
    "    # sizes\n",
    "    batch_size = tf.shape(input_data)[0]\n",
    "    input_len = tf.shape(input_data)[1]\n",
    "\n",
    "    # GRU\n",
    "    gru = tf.contrib.cudnn_rnn.CudnnGRU(\n",
    "        num_layers = 1,\n",
    "        num_units = size,\n",
    "        input_size = input_data.shape[-1].value)\n",
    "    \n",
    "    # variables\n",
    "    gru_params = tf.get_variable(\n",
    "        'gru_params',\n",
    "        [gru.params_size().eval()])\n",
    "    \n",
    "    # dropout\n",
    "    d_in = rnn_dropout(input_data, dropout_rate, training, recurrent_dropout)\n",
    "    \n",
    "    # tranpose to time-major\n",
    "    d_in = tf.transpose(d_in, perm = [1, 0, 2])\n",
    "    \n",
    "    # tile input states\n",
    "    h_in = tf.expand_dims(input_hidden, 0)\n",
    "\n",
    "    # compute GRU\n",
    "    d_out, h_out = gru(d_in, h_in, gru_params)\n",
    "    \n",
    "    # untranspose from time-major\n",
    "    d_out = tf.transpose(d_out, perm = [1, 0, 2])\n",
    "    \n",
    "    # trim layers axis (always is 1)\n",
    "    h_out = tf.squeeze(h_out, axis = 0)\n",
    "    \n",
    "    return d_out, h_out\n",
    "\n",
    "def rnn(input_data, input_hidden, size, num_layers, dropout_rate, training, recurrent_dropout = True):\n",
    "    d_in = input_data\n",
    "    d_out = []\n",
    "    h_out = []\n",
    "    for i in range(num_layers):\n",
    "        with tf.variable_scope('rnn_%d' % i):\n",
    "            d, h = _rnn(d_in, input_hidden[i], size, dropout_rate, training, recurrent_dropout)\n",
    "            d_out.append(d)\n",
    "            h_out.append(h)\n",
    "            d_in = d\n",
    "    return tf.stack(d_out), tf.stack(h_out)"
   ]
  },
  {
   "cell_type": "code",
   "execution_count": 14,
   "metadata": {},
   "outputs": [],
   "source": [
    "def run(dim = 32, num_layers = 3, dropout_rate = 0.2, dropout_recurrent = True):\n",
    "    global sess\n",
    "    \n",
    "    sess = reset_tf(sess)\n",
    "\n",
    "    vocab_size = len(id_to_char)\n",
    "\n",
    "    emb = tf.get_variable('emb', [vocab_size, dim])\n",
    "    h_init = tf.get_variable('h_init', [num_layers, dim])\n",
    "\n",
    "    xs = tf.placeholder(tf.int64, [None, None])\n",
    "    ys = tf.placeholder(tf.int64, [None, None])\n",
    "    ls = tf.placeholder(tf.int64, [None])\n",
    "    training = tf.placeholder(tf.bool, [])\n",
    "    N = tf.shape(xs)[0]\n",
    "\n",
    "    xs_emb = tf.nn.embedding_lookup(emb, xs)\n",
    "    ys_emb = tf.nn.embedding_lookup(emb, ys)\n",
    "\n",
    "    mask = tf.sequence_mask(ls, maxlen = tf.shape(xs)[1], dtype = tf.float32)\n",
    "\n",
    "    h_in = tf.expand_dims(h_init, 1)\n",
    "    h_in = tf.tile(h_in, [1, N, 1])\n",
    "\n",
    "    d_out, h_out = rnn(xs_emb, h_in, dim, num_layers, dropout_rate, training, dropout_recurrent)\n",
    "\n",
    "    d_out = tf.concat(tf.unstack(d_out), axis = -1)\n",
    "    d_out = rnn_dropout(d_out, dropout_rate, training, dropout_recurrent)\n",
    "\n",
    "    logits = tf.layers.dense(d_out, vocab_size)\n",
    "\n",
    "    ys_prob = tf.nn.softmax(logits)\n",
    "    ys_est = tf.argmax(ys_prob, axis = -1)\n",
    "\n",
    "    losses = tf.nn.sparse_softmax_cross_entropy_with_logits(labels = ys, logits = logits)\n",
    "    losses *= mask\n",
    "    mean_loss = tf.reduce_sum(losses) / tf.cast(tf.reduce_sum(ls), tf.float32)\n",
    "\n",
    "    matches = tf.cast(tf.equal(ys_est, ys), tf.float32)\n",
    "    matches *= mask\n",
    "    mean_acc = tf.reduce_sum(matches) / tf.cast(tf.reduce_sum(ls), tf.float32)\n",
    "\n",
    "    lr = tf.placeholder_with_default(tf.constant(1e-3), [])\n",
    "    optimizer = tf.train.AdamOptimizer(learning_rate = lr)\n",
    "    gradients, variables = zip(*optimizer.compute_gradients(mean_loss))\n",
    "    gradients, _ = tf.clip_by_global_norm(gradients, 5.0)\n",
    "    train_op = optimizer.apply_gradients(zip(gradients, variables))\n",
    "\n",
    "    #dump_statistics()\n",
    "\n",
    "    sess.run(tf.global_variables_initializer())\n",
    "\n",
    "    curr_lr = 1e-3\n",
    "    patience = 0\n",
    "    patience_loss = 1e10\n",
    "    max_patience = 1\n",
    "    loss_train = 0\n",
    "    loss_dev = 0\n",
    "    acc_train = 0\n",
    "    acc_dev = 0\n",
    "    tr = tqdm_notebook(range(2000))\n",
    "    for i in tr:\n",
    "        sess.run(train_op, feed_dict = { xs: xs_train, ys: ys_train, ls: ls_train, lr: curr_lr, training: True })\n",
    "        if i % 50 == 0:\n",
    "            loss_train, acc_train = sess.run([mean_loss, mean_acc], feed_dict = { xs: xs_train, ys: ys_train, ls: ls_train, training: False })\n",
    "            loss_dev, acc_dev = sess.run([mean_loss, mean_acc], feed_dict = { xs: xs_dev, ys: ys_dev, ls: ls_dev, training: False })\n",
    "            tr.set_postfix(train_loss = loss_train, train_acc = acc_train, dev_loss = loss_dev, dev_acc = acc_dev, lr = curr_lr)\n",
    "            if loss_dev < patience_loss:\n",
    "                patience = 0\n",
    "                patience_loss = loss_dev\n",
    "            else:\n",
    "                patience += 1\n",
    "            if patience > max_patience:\n",
    "                curr_lr /= 2\n",
    "                patience = 0\n",
    "                patience_loss = loss_dev\n",
    "                \n",
    "    return loss_train, loss_dev, acc_train, acc_dev"
   ]
  },
  {
   "cell_type": "code",
   "execution_count": 15,
   "metadata": {},
   "outputs": [
    {
     "data": {
      "application/vnd.jupyter.widget-view+json": {
       "model_id": "baa527b2cb7e4c0fb5c4b23a2e49fa7d",
       "version_major": 2,
       "version_minor": 0
      },
      "text/html": [
       "<p>Failed to display Jupyter Widget of type <code>HBox</code>.</p>\n",
       "<p>\n",
       "  If you're reading this message in the Jupyter Notebook or JupyterLab Notebook, it may mean\n",
       "  that the widgets JavaScript is still loading. If this message persists, it\n",
       "  likely means that the widgets JavaScript library is either not installed or\n",
       "  not enabled. See the <a href=\"https://ipywidgets.readthedocs.io/en/stable/user_install.html\">Jupyter\n",
       "  Widgets Documentation</a> for setup instructions.\n",
       "</p>\n",
       "<p>\n",
       "  If you're reading this message in another frontend (for example, a static\n",
       "  rendering on GitHub or <a href=\"https://nbviewer.jupyter.org/\">NBViewer</a>),\n",
       "  it may mean that your frontend doesn't currently support widgets.\n",
       "</p>\n"
      ],
      "text/plain": [
       "HBox(children=(IntProgress(value=0, max=2000), HTML(value='')))"
      ]
     },
     "metadata": {},
     "output_type": "display_data"
    },
    {
     "name": "stdout",
     "output_type": "stream",
     "text": [
      "\n"
     ]
    },
    {
     "data": {
      "application/vnd.jupyter.widget-view+json": {
       "model_id": "69f386eb1d6143d685e71f2c4c01c050",
       "version_major": 2,
       "version_minor": 0
      },
      "text/html": [
       "<p>Failed to display Jupyter Widget of type <code>HBox</code>.</p>\n",
       "<p>\n",
       "  If you're reading this message in the Jupyter Notebook or JupyterLab Notebook, it may mean\n",
       "  that the widgets JavaScript is still loading. If this message persists, it\n",
       "  likely means that the widgets JavaScript library is either not installed or\n",
       "  not enabled. See the <a href=\"https://ipywidgets.readthedocs.io/en/stable/user_install.html\">Jupyter\n",
       "  Widgets Documentation</a> for setup instructions.\n",
       "</p>\n",
       "<p>\n",
       "  If you're reading this message in another frontend (for example, a static\n",
       "  rendering on GitHub or <a href=\"https://nbviewer.jupyter.org/\">NBViewer</a>),\n",
       "  it may mean that your frontend doesn't currently support widgets.\n",
       "</p>\n"
      ],
      "text/plain": [
       "HBox(children=(IntProgress(value=0, max=2000), HTML(value='')))"
      ]
     },
     "metadata": {},
     "output_type": "display_data"
    },
    {
     "name": "stdout",
     "output_type": "stream",
     "text": [
      "\n"
     ]
    },
    {
     "data": {
      "application/vnd.jupyter.widget-view+json": {
       "model_id": "2fcb8cd843b54f419474c32f66485b74",
       "version_major": 2,
       "version_minor": 0
      },
      "text/html": [
       "<p>Failed to display Jupyter Widget of type <code>HBox</code>.</p>\n",
       "<p>\n",
       "  If you're reading this message in the Jupyter Notebook or JupyterLab Notebook, it may mean\n",
       "  that the widgets JavaScript is still loading. If this message persists, it\n",
       "  likely means that the widgets JavaScript library is either not installed or\n",
       "  not enabled. See the <a href=\"https://ipywidgets.readthedocs.io/en/stable/user_install.html\">Jupyter\n",
       "  Widgets Documentation</a> for setup instructions.\n",
       "</p>\n",
       "<p>\n",
       "  If you're reading this message in another frontend (for example, a static\n",
       "  rendering on GitHub or <a href=\"https://nbviewer.jupyter.org/\">NBViewer</a>),\n",
       "  it may mean that your frontend doesn't currently support widgets.\n",
       "</p>\n"
      ],
      "text/plain": [
       "HBox(children=(IntProgress(value=0, max=2000), HTML(value='')))"
      ]
     },
     "metadata": {},
     "output_type": "display_data"
    },
    {
     "name": "stdout",
     "output_type": "stream",
     "text": [
      "\n"
     ]
    },
    {
     "data": {
      "application/vnd.jupyter.widget-view+json": {
       "model_id": "e4ef910182dd4809a9cc4ad66d469a9e",
       "version_major": 2,
       "version_minor": 0
      },
      "text/html": [
       "<p>Failed to display Jupyter Widget of type <code>HBox</code>.</p>\n",
       "<p>\n",
       "  If you're reading this message in the Jupyter Notebook or JupyterLab Notebook, it may mean\n",
       "  that the widgets JavaScript is still loading. If this message persists, it\n",
       "  likely means that the widgets JavaScript library is either not installed or\n",
       "  not enabled. See the <a href=\"https://ipywidgets.readthedocs.io/en/stable/user_install.html\">Jupyter\n",
       "  Widgets Documentation</a> for setup instructions.\n",
       "</p>\n",
       "<p>\n",
       "  If you're reading this message in another frontend (for example, a static\n",
       "  rendering on GitHub or <a href=\"https://nbviewer.jupyter.org/\">NBViewer</a>),\n",
       "  it may mean that your frontend doesn't currently support widgets.\n",
       "</p>\n"
      ],
      "text/plain": [
       "HBox(children=(IntProgress(value=0, max=2000), HTML(value='')))"
      ]
     },
     "metadata": {},
     "output_type": "display_data"
    },
    {
     "name": "stdout",
     "output_type": "stream",
     "text": [
      "\n"
     ]
    },
    {
     "data": {
      "application/vnd.jupyter.widget-view+json": {
       "model_id": "92557ed92f134b619081cb0824af3174",
       "version_major": 2,
       "version_minor": 0
      },
      "text/html": [
       "<p>Failed to display Jupyter Widget of type <code>HBox</code>.</p>\n",
       "<p>\n",
       "  If you're reading this message in the Jupyter Notebook or JupyterLab Notebook, it may mean\n",
       "  that the widgets JavaScript is still loading. If this message persists, it\n",
       "  likely means that the widgets JavaScript library is either not installed or\n",
       "  not enabled. See the <a href=\"https://ipywidgets.readthedocs.io/en/stable/user_install.html\">Jupyter\n",
       "  Widgets Documentation</a> for setup instructions.\n",
       "</p>\n",
       "<p>\n",
       "  If you're reading this message in another frontend (for example, a static\n",
       "  rendering on GitHub or <a href=\"https://nbviewer.jupyter.org/\">NBViewer</a>),\n",
       "  it may mean that your frontend doesn't currently support widgets.\n",
       "</p>\n"
      ],
      "text/plain": [
       "HBox(children=(IntProgress(value=0, max=2000), HTML(value='')))"
      ]
     },
     "metadata": {},
     "output_type": "display_data"
    },
    {
     "name": "stdout",
     "output_type": "stream",
     "text": [
      "\n"
     ]
    },
    {
     "data": {
      "application/vnd.jupyter.widget-view+json": {
       "model_id": "717dd6d7442b4c78bb8b6fd63f8dd69f",
       "version_major": 2,
       "version_minor": 0
      },
      "text/html": [
       "<p>Failed to display Jupyter Widget of type <code>HBox</code>.</p>\n",
       "<p>\n",
       "  If you're reading this message in the Jupyter Notebook or JupyterLab Notebook, it may mean\n",
       "  that the widgets JavaScript is still loading. If this message persists, it\n",
       "  likely means that the widgets JavaScript library is either not installed or\n",
       "  not enabled. See the <a href=\"https://ipywidgets.readthedocs.io/en/stable/user_install.html\">Jupyter\n",
       "  Widgets Documentation</a> for setup instructions.\n",
       "</p>\n",
       "<p>\n",
       "  If you're reading this message in another frontend (for example, a static\n",
       "  rendering on GitHub or <a href=\"https://nbviewer.jupyter.org/\">NBViewer</a>),\n",
       "  it may mean that your frontend doesn't currently support widgets.\n",
       "</p>\n"
      ],
      "text/plain": [
       "HBox(children=(IntProgress(value=0, max=2000), HTML(value='')))"
      ]
     },
     "metadata": {},
     "output_type": "display_data"
    },
    {
     "name": "stdout",
     "output_type": "stream",
     "text": [
      "\n"
     ]
    },
    {
     "data": {
      "application/vnd.jupyter.widget-view+json": {
       "model_id": "afbc06088cd641df8e8b7b79c56ad38e",
       "version_major": 2,
       "version_minor": 0
      },
      "text/html": [
       "<p>Failed to display Jupyter Widget of type <code>HBox</code>.</p>\n",
       "<p>\n",
       "  If you're reading this message in the Jupyter Notebook or JupyterLab Notebook, it may mean\n",
       "  that the widgets JavaScript is still loading. If this message persists, it\n",
       "  likely means that the widgets JavaScript library is either not installed or\n",
       "  not enabled. See the <a href=\"https://ipywidgets.readthedocs.io/en/stable/user_install.html\">Jupyter\n",
       "  Widgets Documentation</a> for setup instructions.\n",
       "</p>\n",
       "<p>\n",
       "  If you're reading this message in another frontend (for example, a static\n",
       "  rendering on GitHub or <a href=\"https://nbviewer.jupyter.org/\">NBViewer</a>),\n",
       "  it may mean that your frontend doesn't currently support widgets.\n",
       "</p>\n"
      ],
      "text/plain": [
       "HBox(children=(IntProgress(value=0, max=2000), HTML(value='')))"
      ]
     },
     "metadata": {},
     "output_type": "display_data"
    },
    {
     "name": "stdout",
     "output_type": "stream",
     "text": [
      "\n"
     ]
    },
    {
     "data": {
      "application/vnd.jupyter.widget-view+json": {
       "model_id": "0323771168ac4ceca2faeded7fc4a729",
       "version_major": 2,
       "version_minor": 0
      },
      "text/html": [
       "<p>Failed to display Jupyter Widget of type <code>HBox</code>.</p>\n",
       "<p>\n",
       "  If you're reading this message in the Jupyter Notebook or JupyterLab Notebook, it may mean\n",
       "  that the widgets JavaScript is still loading. If this message persists, it\n",
       "  likely means that the widgets JavaScript library is either not installed or\n",
       "  not enabled. See the <a href=\"https://ipywidgets.readthedocs.io/en/stable/user_install.html\">Jupyter\n",
       "  Widgets Documentation</a> for setup instructions.\n",
       "</p>\n",
       "<p>\n",
       "  If you're reading this message in another frontend (for example, a static\n",
       "  rendering on GitHub or <a href=\"https://nbviewer.jupyter.org/\">NBViewer</a>),\n",
       "  it may mean that your frontend doesn't currently support widgets.\n",
       "</p>\n"
      ],
      "text/plain": [
       "HBox(children=(IntProgress(value=0, max=2000), HTML(value='')))"
      ]
     },
     "metadata": {},
     "output_type": "display_data"
    },
    {
     "name": "stdout",
     "output_type": "stream",
     "text": [
      "\n"
     ]
    },
    {
     "data": {
      "application/vnd.jupyter.widget-view+json": {
       "model_id": "3cdf58e0e6aa414195d66014a844b2cf",
       "version_major": 2,
       "version_minor": 0
      },
      "text/html": [
       "<p>Failed to display Jupyter Widget of type <code>HBox</code>.</p>\n",
       "<p>\n",
       "  If you're reading this message in the Jupyter Notebook or JupyterLab Notebook, it may mean\n",
       "  that the widgets JavaScript is still loading. If this message persists, it\n",
       "  likely means that the widgets JavaScript library is either not installed or\n",
       "  not enabled. See the <a href=\"https://ipywidgets.readthedocs.io/en/stable/user_install.html\">Jupyter\n",
       "  Widgets Documentation</a> for setup instructions.\n",
       "</p>\n",
       "<p>\n",
       "  If you're reading this message in another frontend (for example, a static\n",
       "  rendering on GitHub or <a href=\"https://nbviewer.jupyter.org/\">NBViewer</a>),\n",
       "  it may mean that your frontend doesn't currently support widgets.\n",
       "</p>\n"
      ],
      "text/plain": [
       "HBox(children=(IntProgress(value=0, max=2000), HTML(value='')))"
      ]
     },
     "metadata": {},
     "output_type": "display_data"
    },
    {
     "name": "stdout",
     "output_type": "stream",
     "text": [
      "\n"
     ]
    },
    {
     "data": {
      "application/vnd.jupyter.widget-view+json": {
       "model_id": "89c817b0f91e40d3979007afb6bc84bd",
       "version_major": 2,
       "version_minor": 0
      },
      "text/html": [
       "<p>Failed to display Jupyter Widget of type <code>HBox</code>.</p>\n",
       "<p>\n",
       "  If you're reading this message in the Jupyter Notebook or JupyterLab Notebook, it may mean\n",
       "  that the widgets JavaScript is still loading. If this message persists, it\n",
       "  likely means that the widgets JavaScript library is either not installed or\n",
       "  not enabled. See the <a href=\"https://ipywidgets.readthedocs.io/en/stable/user_install.html\">Jupyter\n",
       "  Widgets Documentation</a> for setup instructions.\n",
       "</p>\n",
       "<p>\n",
       "  If you're reading this message in another frontend (for example, a static\n",
       "  rendering on GitHub or <a href=\"https://nbviewer.jupyter.org/\">NBViewer</a>),\n",
       "  it may mean that your frontend doesn't currently support widgets.\n",
       "</p>\n"
      ],
      "text/plain": [
       "HBox(children=(IntProgress(value=0, max=2000), HTML(value='')))"
      ]
     },
     "metadata": {},
     "output_type": "display_data"
    },
    {
     "name": "stdout",
     "output_type": "stream",
     "text": [
      "\n"
     ]
    },
    {
     "data": {
      "application/vnd.jupyter.widget-view+json": {
       "model_id": "d9f7a6911fb446b0a69110de3e069118",
       "version_major": 2,
       "version_minor": 0
      },
      "text/html": [
       "<p>Failed to display Jupyter Widget of type <code>HBox</code>.</p>\n",
       "<p>\n",
       "  If you're reading this message in the Jupyter Notebook or JupyterLab Notebook, it may mean\n",
       "  that the widgets JavaScript is still loading. If this message persists, it\n",
       "  likely means that the widgets JavaScript library is either not installed or\n",
       "  not enabled. See the <a href=\"https://ipywidgets.readthedocs.io/en/stable/user_install.html\">Jupyter\n",
       "  Widgets Documentation</a> for setup instructions.\n",
       "</p>\n",
       "<p>\n",
       "  If you're reading this message in another frontend (for example, a static\n",
       "  rendering on GitHub or <a href=\"https://nbviewer.jupyter.org/\">NBViewer</a>),\n",
       "  it may mean that your frontend doesn't currently support widgets.\n",
       "</p>\n"
      ],
      "text/plain": [
       "HBox(children=(IntProgress(value=0, max=2000), HTML(value='')))"
      ]
     },
     "metadata": {},
     "output_type": "display_data"
    },
    {
     "name": "stdout",
     "output_type": "stream",
     "text": [
      "\n"
     ]
    },
    {
     "data": {
      "application/vnd.jupyter.widget-view+json": {
       "model_id": "c31d08712698403d98ebf69224bc7a48",
       "version_major": 2,
       "version_minor": 0
      },
      "text/html": [
       "<p>Failed to display Jupyter Widget of type <code>HBox</code>.</p>\n",
       "<p>\n",
       "  If you're reading this message in the Jupyter Notebook or JupyterLab Notebook, it may mean\n",
       "  that the widgets JavaScript is still loading. If this message persists, it\n",
       "  likely means that the widgets JavaScript library is either not installed or\n",
       "  not enabled. See the <a href=\"https://ipywidgets.readthedocs.io/en/stable/user_install.html\">Jupyter\n",
       "  Widgets Documentation</a> for setup instructions.\n",
       "</p>\n",
       "<p>\n",
       "  If you're reading this message in another frontend (for example, a static\n",
       "  rendering on GitHub or <a href=\"https://nbviewer.jupyter.org/\">NBViewer</a>),\n",
       "  it may mean that your frontend doesn't currently support widgets.\n",
       "</p>\n"
      ],
      "text/plain": [
       "HBox(children=(IntProgress(value=0, max=2000), HTML(value='')))"
      ]
     },
     "metadata": {},
     "output_type": "display_data"
    },
    {
     "name": "stdout",
     "output_type": "stream",
     "text": [
      "\n"
     ]
    }
   ],
   "source": [
    "dims = [16, 32, 64]\n",
    "num_layers = [3]\n",
    "dropout_rate = [0, 0.2]\n",
    "dropout_recurrent = [True, False]\n",
    "\n",
    "results = {}\n",
    "\n",
    "for t in itertools.product(dims, num_layers, dropout_rate, dropout_recurrent):\n",
    "    results[t] = run(*t)"
   ]
  },
  {
   "cell_type": "markdown",
   "metadata": {},
   "source": [
    "| dim | # layers | dropout | recurrent | train loss | dev loss | train acc | dev acc |\n",
    "|---|---|---|---|---|---|---|---|\n",
    "| 16 | 3 | 0 | False | 1.605356 | 2.0294902 | 0.5277155 | 0.4494184 |\n",
    "| 16 | 3 | 0 | True | 1.605796 | 2.0296583 | 0.5278052 | 0.44871342 |\n",
    "| 16 | 3 | 0.2 | False | 1.9435242 | 2.092892 | 0.43290877 | 0.3979556 |\n",
    "| 16 | 3 | 0.2 | True | 1.9414033 | 2.0937834 | 0.43909767 | 0.40853015 |\n",
    "| 32 | 3 | 0 | False | 1.2924329 | 1.9977351 | 0.6201453 | 0.47127247 |\n",
    "| 32 | 3 | 0 | True | 1.2910846 | 1.9989576 | 0.6203247 | 0.4705675 |\n",
    "| 32 | 3 | 0.2 | False | 1.4973029 | 1.8856517 | 0.5551171 | 0.4751498 |\n",
    "| 32 | 3 | 0.2 | True | 1.4210378 | 1.8215412 | 0.5735043 | 0.49277407 |\n",
    "| 64 | 3 | 0 | False | 0.798262 | 2.0995255 | 0.77065206 | 0.4871343 |\n",
    "| 64 | 3 | 0 | True | 0.8089056 | 2.0918274 | 0.7645529 | 0.48537186 |\n",
    "| 64 | 3 | 0.2 | False | 0.97265005 | 1.7454623 | 0.6990313 | 0.51850545 |\n",
    "| 64 | 3 | 0.2 | True | 0.92839587 | 1.7715378 | 0.7123509 | 0.5227353 |"
   ]
  },
  {
   "cell_type": "markdown",
   "metadata": {},
   "source": [
    "## Recurrent dropout\n",
    "\n",
    "Params:\n",
    "\n",
    "```\n",
    "dim = 64\n",
    "num_layers = 3\n",
    "dropout_rate = 0.4\n",
    "learning_rate = 1e-3\n",
    "```"
   ]
  },
  {
   "cell_type": "code",
   "execution_count": 260,
   "metadata": {},
   "outputs": [
    {
     "data": {
      "image/png": "[encoded data removed]",
      "text/plain": [
       "<matplotlib.figure.Figure at 0x7ff37ec8e438>"
      ]
     },
     "metadata": {},
     "output_type": "display_data"
    }
   ],
   "source": [
    "plt.plot(losses_train)\n",
    "plt.plot(losses_dev)\n",
    "plt.show()"
   ]
  },
  {
   "cell_type": "code",
   "execution_count": 261,
   "metadata": {},
   "outputs": [
    {
     "data": {
      "image/png": "[encoded data removed]",
      "text/plain": [
       "<matplotlib.figure.Figure at 0x7ff37e3f3048>"
      ]
     },
     "metadata": {},
     "output_type": "display_data"
    }
   ],
   "source": [
    "plt.plot(accs_train)\n",
    "plt.plot(accs_dev)\n",
    "plt.show()"
   ]
  },
  {
   "cell_type": "markdown",
   "metadata": {},
   "source": [
    "## Recurrent (0.2)\n",
    "\n",
    "```\n",
    "dim = 64\n",
    "num_layers = 3\n",
    "vocab_size = len(id_to_char)\n",
    "dropout_rate = 0.2\n",
    "dropout_recurrent = True\n",
    "learning_rate = 1e-3\n",
    "```"
   ]
  },
  {
   "cell_type": "code",
   "execution_count": 278,
   "metadata": {},
   "outputs": [
    {
     "data": {
      "image/png": "[encoded data removed]",
      "text/plain": [
       "<matplotlib.figure.Figure at 0x7ff37f7e15c0>"
      ]
     },
     "metadata": {},
     "output_type": "display_data"
    }
   ],
   "source": [
    "plt.plot(losses_train)\n",
    "plt.plot(losses_dev)\n",
    "plt.show()"
   ]
  },
  {
   "cell_type": "code",
   "execution_count": 279,
   "metadata": {},
   "outputs": [
    {
     "data": {
      "image/png": "[encoded data removed]",
      "text/plain": [
       "<matplotlib.figure.Figure at 0x7ff37f7a1470>"
      ]
     },
     "metadata": {},
     "output_type": "display_data"
    }
   ],
   "source": [
    "plt.plot(accs_train)\n",
    "plt.plot(accs_dev)\n",
    "plt.show()"
   ]
  },
  {
   "cell_type": "code",
   "execution_count": 280,
   "metadata": {},
   "outputs": [],
   "source": [
    "def sample():\n",
    "    xs_samp = [[char_to_id['<START>']]]\n",
    "    ls_samp = [1]\n",
    "    result = []\n",
    "\n",
    "    p, h = sess.run([ys_prob, h_out], feed_dict = { xs: xs_samp, ls: ls_samp, training: False })\n",
    "    p = p[0, 0]\n",
    "    \n",
    "    for i in range(500):\n",
    "        cid = np.random.choice(p.size, p = p)\n",
    "        if cid == char_to_id['<END>']:\n",
    "            break\n",
    "        else:\n",
    "            result.append(id_to_char[cid])\n",
    "        xs_samp[0][0] = cid\n",
    "        p, h = sess.run([ys_prob, h_out], feed_dict = { xs: xs_samp, ls: ls_samp, h_in: h, training: False })\n",
    "        p = p[0, 0]\n",
    "        \n",
    "    return ''.join(result)"
   ]
  },
  {
   "cell_type": "code",
   "execution_count": 307,
   "metadata": {},
   "outputs": [
    {
     "data": {
      "text/plain": [
       "'That said, “THERE IS ANUDEINUFIO I HAVE.”'"
      ]
     },
     "execution_count": 307,
     "metadata": {},
     "output_type": "execute_result"
    }
   ],
   "source": [
    "sample()"
   ]
  },
  {
   "cell_type": "code",
   "execution_count": null,
   "metadata": {},
   "outputs": [],
   "source": []
  }
 ],
 "metadata": {
  "kernelspec": {
   "display_name": "Python 3",
   "language": "python",
   "name": "python3"
  },
  "language_info": {
   "codemirror_mode": {
    "name": "ipython",
    "version": 3
   },
   "file_extension": ".py",
   "mimetype": "text/x-python",
   "name": "python",
   "nbconvert_exporter": "python",
   "pygments_lexer": "ipython3",
   "version": "3.5.4"
  }
 },
 "nbformat": 4,
 "nbformat_minor": 2
}
