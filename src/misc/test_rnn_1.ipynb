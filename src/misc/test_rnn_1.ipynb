{
 "cells": [
  {
   "cell_type": "code",
   "execution_count": 37,
   "metadata": {},
   "outputs": [],
   "source": [
    "import nltk\n",
    "import re\n",
    "import collections\n",
    "import random\n",
    "import tensorflow as tf"
   ]
  },
  {
   "cell_type": "code",
   "execution_count": 5,
   "metadata": {},
   "outputs": [],
   "source": [
    "with open('../../data/misc/the_last_question.txt', 'rt') as f:\n",
    "    lines = [l.strip() for l in f]"
   ]
  },
  {
   "cell_type": "code",
   "execution_count": 21,
   "metadata": {},
   "outputs": [],
   "source": [
    "sents = []\n",
    "for l in lines:\n",
    "    sents.extend(nltk.sent_tokenize(l))"
   ]
  },
  {
   "cell_type": "code",
   "execution_count": 24,
   "metadata": {},
   "outputs": [],
   "source": [
    "counter = collections.Counter()\n",
    "for s in sents:\n",
    "    counter.update(s)"
   ]
  },
  {
   "cell_type": "code",
   "execution_count": 41,
   "metadata": {},
   "outputs": [],
   "source": [
    "id_to_char = ['<NULL>', '<START>', '<END>'] + [c for c, _ in counter.most_common()]\n",
    "char_to_id = { c: cid for cid, c in enumerate(id_to_char) }"
   ]
  },
  {
   "cell_type": "code",
   "execution_count": 42,
   "metadata": {},
   "outputs": [],
   "source": [
    "max_len = max(len(s) for s in sents) + 1"
   ]
  },
  {
   "cell_type": "code",
   "execution_count": 69,
   "metadata": {},
   "outputs": [],
   "source": [
    "random.shuffle(sents)"
   ]
  },
  {
   "cell_type": "code",
   "execution_count": 70,
   "metadata": {},
   "outputs": [
    {
     "data": {
      "text/plain": [
       "'It was only two inches cubed and nothing in itself, but it was connected through hyperspace with the great Galactic AC that served all mankind.'"
      ]
     },
     "execution_count": 70,
     "metadata": {},
     "output_type": "execute_result"
    }
   ],
   "source": []
  },
  {
   "cell_type": "code",
   "execution_count": 45,
   "metadata": {},
   "outputs": [],
   "source": [
    "def create_example(s):\n",
    "    x = [0] * max_len\n",
    "    y = [0] * max_len\n",
    "    for i in range(len(s)):\n",
    "        x[i] = char_to_id[s[i - 1]] if i > 0 else char_to_id['<START>']\n",
    "        y[i] = char_to_id[s[i]]\n",
    "    x[len(s)] = char_to_id[s[-1]]\n",
    "    y[len(s)] = char_to_id['<END>']\n",
    "    return { 'x': x, 'y': y, 'len': len(s) }"
   ]
  },
  {
   "cell_type": "code",
   "execution_count": 55,
   "metadata": {},
   "outputs": [],
   "source": [
    "examples = [create_example(s) for s in sents]"
   ]
  },
  {
   "cell_type": "code",
   "execution_count": 61,
   "metadata": {},
   "outputs": [],
   "source": [
    "random.shuffle(examples)"
   ]
  },
  {
   "cell_type": "code",
   "execution_count": 68,
   "metadata": {},
   "outputs": [
    {
     "data": {
      "text/plain": [
       "(335, 40)"
      ]
     },
     "execution_count": 68,
     "metadata": {},
     "output_type": "execute_result"
    }
   ],
   "source": [
    "dev_ex = examples[:40]\n",
    "train_ex = examples[40:]\n",
    "len(train_ex), len(dev_ex)"
   ]
  },
  {
   "cell_type": "code",
   "execution_count": 59,
   "metadata": {},
   "outputs": [],
   "source": [
    "sess = tf.InteractiveSession()"
   ]
  },
  {
   "cell_type": "code",
   "execution_count": null,
   "metadata": {},
   "outputs": [],
   "source": [
    "def rnn(input_data, size):\n",
    "    # sizes\n",
    "    batch_size, input_len, _ = tf.shape(input_data)\n",
    "\n",
    "    # GRU\n",
    "    gru = tf.contrib.cudnn_rnn.CudnnGRU(\n",
    "        num_layers = 1\n",
    "        num_units = size,\n",
    "        input_size = input_data.shape[-1].value)\n",
    "    \n",
    "    # variables\n",
    "    gru_params = tf.Variable(\n",
    "        tf.random_uniform([gru.params_size()], -0.1, 0.1),\n",
    "        name = 'gru_params'\n",
    "        validate_shape = False)\n",
    "    gru_input_h = tf.Variable(\n",
    "        tf.zeros([1, batch_size, size]),\n",
    "        name = 'gru_input_h')\n",
    "    \n",
    "    # tranpose to time-major\n",
    "    input_data = tf.transpose(input_data, perm = [1, 0, 2])     # [input_len, batch_size, size]\n",
    "    \n",
    "    # tile input states\n",
    "    input_h = tf.tile(gru_input_h, [input_len, 1, 1])\n",
    "\n",
    "    # compute GRU\n",
    "    out, _ = gru(input_data, input_h, gru_params)\n",
    "    \n",
    "    return out"
   ]
  }
 ],
 "metadata": {
  "kernelspec": {
   "display_name": "Python 3",
   "language": "python",
   "name": "python3"
  },
  "language_info": {
   "codemirror_mode": {
    "name": "ipython",
    "version": 3
   },
   "file_extension": ".py",
   "mimetype": "text/x-python",
   "name": "python",
   "nbconvert_exporter": "python",
   "pygments_lexer": "ipython3",
   "version": "3.5.4"
  }
 },
 "nbformat": 4,
 "nbformat_minor": 2
}
