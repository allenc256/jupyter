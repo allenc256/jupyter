{
 "cells": [
  {
   "cell_type": "code",
   "execution_count": 1,
   "metadata": {},
   "outputs": [],
   "source": [
    "import json\n",
    "import nltk\n",
    "import gzip\n",
    "import tensorflow as tf\n",
    "import random\n",
    "import collections\n",
    "from modules import bpencoding\n",
    "from nltk.tokenize import TreebankWordTokenizer\n",
    "from intervaltree import Interval, IntervalTree\n",
    "from tqdm import tqdm_notebook"
   ]
  },
  {
   "cell_type": "code",
   "execution_count": 2,
   "metadata": {},
   "outputs": [],
   "source": [
    "with gzip.open('../data/simplewiki/simplewiki-20171103.sentences.json.gz', 'rt', encoding='utf8') as f:\n",
    "    sentences = json.load(f)"
   ]
  },
  {
   "cell_type": "code",
   "execution_count": 3,
   "metadata": {},
   "outputs": [],
   "source": [
    "# N.B., globally pre-shuffle data since we'll be streaming it during training,\n",
    "# and will only be able to shuffle within a small lookahead buffer.\n",
    "# Also, we want to ensure that our train/dev/test sets have the same distribution.\n",
    "random.shuffle(sentences)"
   ]
  },
  {
   "cell_type": "code",
   "execution_count": 4,
   "metadata": {},
   "outputs": [],
   "source": [
    "def normalize_text(text):\n",
    "    text = text.lower()\n",
    "    # N.B., replacements necessary for nltk.word_tokenize + alignment \n",
    "    # doesn't get confused.\n",
    "    text = text.replace(\"``\", '\"')\n",
    "    text = text.replace(\"''\", '\"')\n",
    "    return text"
   ]
  },
  {
   "cell_type": "code",
   "execution_count": 5,
   "metadata": {},
   "outputs": [
    {
     "data": {
      "application/vnd.jupyter.widget-view+json": {
       "model_id": "b8eeddd87bbc4c3399af87c871d49314",
       "version_major": 2,
       "version_minor": 0
      },
      "text/html": [
       "<p>Failed to display Jupyter Widget of type <code>HBox</code>.</p>\n",
       "<p>\n",
       "  If you're reading this message in the Jupyter Notebook or JupyterLab Notebook, it may mean\n",
       "  that the widgets JavaScript is still loading. If this message persists, it\n",
       "  likely means that the widgets JavaScript library is either not installed or\n",
       "  not enabled. See the <a href=\"https://ipywidgets.readthedocs.io/en/stable/user_install.html\">Jupyter\n",
       "  Widgets Documentation</a> for setup instructions.\n",
       "</p>\n",
       "<p>\n",
       "  If you're reading this message in another frontend (for example, a static\n",
       "  rendering on GitHub or <a href=\"https://nbviewer.jupyter.org/\">NBViewer</a>),\n",
       "  it may mean that your frontend doesn't currently support widgets.\n",
       "</p>\n"
      ],
      "text/plain": [
       "HBox(children=(IntProgress(value=0, max=1047430), HTML(value='')))"
      ]
     },
     "metadata": {},
     "output_type": "display_data"
    },
    {
     "name": "stdout",
     "output_type": "stream",
     "text": [
      "\n"
     ]
    }
   ],
   "source": [
    "word_freqs = collections.Counter()\n",
    "for sentence in tqdm_notebook(sentences):\n",
    "    text = normalize_text(sentence['text'])\n",
    "    word_freqs.update(nltk.word_tokenize(text))"
   ]
  },
  {
   "cell_type": "code",
   "execution_count": null,
   "metadata": {},
   "outputs": [],
   "source": [
    "sentences"
   ]
  },
  {
   "cell_type": "code",
   "execution_count": 15,
   "metadata": {},
   "outputs": [],
   "source": [
    "id_to_word_30k = [word for word, _ in word_freqs.most_common(30000 - 1)] + ['<UNK>']\n",
    "word_to_id_30k = dict((word, id) for id, word in enumerate(id_to_word_30k))"
   ]
  },
  {
   "cell_type": "code",
   "execution_count": 20,
   "metadata": {},
   "outputs": [],
   "source": [
    "def align_tokens(tokens, text):\n",
    "    point = 0\n",
    "    offsets = []\n",
    "    for token in tokens:\n",
    "        if token == '``' or token == \"''\":\n",
    "            token = '\"'\n",
    "        try:\n",
    "            start = text.index(token, point)\n",
    "        except ValueError:\n",
    "            raise ValueError('substring \"{}\" not found in \"{}\"'.format(token, text))\n",
    "        point = start + len(token)\n",
    "        offsets.append((start, point))\n",
    "    return offsets\n",
    "\n",
    "def span_tokenize(text):\n",
    "    return align_tokens(nltk.word_tokenize(text), text)\n",
    "\n",
    "def generate_example(sentence):\n",
    "    links = IntervalTree()\n",
    "    for l in sentence['links']:\n",
    "        links[l['start']:l['finish']] = l['target']\n",
    "\n",
    "    text = normalize_text(sentence['text'])\n",
    "    inputs = []\n",
    "    targets = []\n",
    "    \n",
    "    for s in span_tokenize(text): \n",
    "        word = text[s[0]:s[1]]\n",
    "        word_id = word_to_id_30k.get(word)\n",
    "        \n",
    "        if word_id:\n",
    "            inputs.append(word_id)\n",
    "            targets.append(int(bool(links[s[0]:s[1]])))\n",
    "        else:\n",
    "            inputs.append(len(id_to_word_30k)-1)\n",
    "            targets.append(0)\n",
    "            \n",
    "    return tf.train.Example(features = tf.train.Features(feature = {\n",
    "        'page_id': tf.train.Feature(int64_list = tf.train.Int64List(value = [sentence['page_id']])),\n",
    "        'para_id': tf.train.Feature(int64_list = tf.train.Int64List(value = [sentence['para_id']])),\n",
    "        'sentence_id': tf.train.Feature(int64_list = tf.train.Int64List(value = [sentence['sentence_id']])),\n",
    "        'inputs': tf.train.Feature(int64_list = tf.train.Int64List(value = inputs)),\n",
    "        'targets': tf.train.Feature(int64_list = tf.train.Int64List(value = targets)),\n",
    "    }))"
   ]
  },
  {
   "cell_type": "code",
   "execution_count": 21,
   "metadata": {},
   "outputs": [],
   "source": [
    "dev_set_size = 30000\n",
    "test_set_size = 30000\n",
    "\n",
    "dev_set_sentences = sentences[:dev_set_size]\n",
    "test_set_sentences = sentences[dev_set_size:dev_set_size+test_set_size]\n",
    "train_set_sentences = sentences[dev_set_size+test_set_size:]"
   ]
  },
  {
   "cell_type": "code",
   "execution_count": 22,
   "metadata": {},
   "outputs": [],
   "source": [
    "def write_tfrecords(sentences, file):\n",
    "    with tf.python_io.TFRecordWriter(file) as writer:\n",
    "        for s in tqdm_notebook(sentences):\n",
    "            example = generate_example(s)\n",
    "            writer.write(example.SerializeToString())"
   ]
  },
  {
   "cell_type": "code",
   "execution_count": 23,
   "metadata": {},
   "outputs": [
    {
     "data": {
      "application/vnd.jupyter.widget-view+json": {
       "model_id": "0610ed47c5c34902bfbb7932fba564cb",
       "version_major": 2,
       "version_minor": 0
      },
      "text/html": [
       "<p>Failed to display Jupyter Widget of type <code>HBox</code>.</p>\n",
       "<p>\n",
       "  If you're reading this message in the Jupyter Notebook or JupyterLab Notebook, it may mean\n",
       "  that the widgets JavaScript is still loading. If this message persists, it\n",
       "  likely means that the widgets JavaScript library is either not installed or\n",
       "  not enabled. See the <a href=\"https://ipywidgets.readthedocs.io/en/stable/user_install.html\">Jupyter\n",
       "  Widgets Documentation</a> for setup instructions.\n",
       "</p>\n",
       "<p>\n",
       "  If you're reading this message in another frontend (for example, a static\n",
       "  rendering on GitHub or <a href=\"https://nbviewer.jupyter.org/\">NBViewer</a>),\n",
       "  it may mean that your frontend doesn't currently support widgets.\n",
       "</p>\n"
      ],
      "text/plain": [
       "HBox(children=(IntProgress(value=0, max=30000), HTML(value='')))"
      ]
     },
     "metadata": {},
     "output_type": "display_data"
    },
    {
     "name": "stdout",
     "output_type": "stream",
     "text": [
      "\n"
     ]
    },
    {
     "data": {
      "application/vnd.jupyter.widget-view+json": {
       "model_id": "d29d79126de44dfe86c274fc378ef69a",
       "version_major": 2,
       "version_minor": 0
      },
      "text/html": [
       "<p>Failed to display Jupyter Widget of type <code>HBox</code>.</p>\n",
       "<p>\n",
       "  If you're reading this message in the Jupyter Notebook or JupyterLab Notebook, it may mean\n",
       "  that the widgets JavaScript is still loading. If this message persists, it\n",
       "  likely means that the widgets JavaScript library is either not installed or\n",
       "  not enabled. See the <a href=\"https://ipywidgets.readthedocs.io/en/stable/user_install.html\">Jupyter\n",
       "  Widgets Documentation</a> for setup instructions.\n",
       "</p>\n",
       "<p>\n",
       "  If you're reading this message in another frontend (for example, a static\n",
       "  rendering on GitHub or <a href=\"https://nbviewer.jupyter.org/\">NBViewer</a>),\n",
       "  it may mean that your frontend doesn't currently support widgets.\n",
       "</p>\n"
      ],
      "text/plain": [
       "HBox(children=(IntProgress(value=0, max=30000), HTML(value='')))"
      ]
     },
     "metadata": {},
     "output_type": "display_data"
    },
    {
     "name": "stdout",
     "output_type": "stream",
     "text": [
      "\n"
     ]
    },
    {
     "data": {
      "application/vnd.jupyter.widget-view+json": {
       "model_id": "659b5461986a4bc0bf1c44a07c93fa0c",
       "version_major": 2,
       "version_minor": 0
      },
      "text/html": [
       "<p>Failed to display Jupyter Widget of type <code>HBox</code>.</p>\n",
       "<p>\n",
       "  If you're reading this message in the Jupyter Notebook or JupyterLab Notebook, it may mean\n",
       "  that the widgets JavaScript is still loading. If this message persists, it\n",
       "  likely means that the widgets JavaScript library is either not installed or\n",
       "  not enabled. See the <a href=\"https://ipywidgets.readthedocs.io/en/stable/user_install.html\">Jupyter\n",
       "  Widgets Documentation</a> for setup instructions.\n",
       "</p>\n",
       "<p>\n",
       "  If you're reading this message in another frontend (for example, a static\n",
       "  rendering on GitHub or <a href=\"https://nbviewer.jupyter.org/\">NBViewer</a>),\n",
       "  it may mean that your frontend doesn't currently support widgets.\n",
       "</p>\n"
      ],
      "text/plain": [
       "HBox(children=(IntProgress(value=0, max=1324036), HTML(value='')))"
      ]
     },
     "metadata": {},
     "output_type": "display_data"
    },
    {
     "name": "stdout",
     "output_type": "stream",
     "text": [
      "\n"
     ]
    }
   ],
   "source": [
    "write_tfrecords(dev_set_sentences, '../data/simplewiki/simplewiki-20171103.entity_recognition.dev.tfrecords')\n",
    "write_tfrecords(test_set_sentences, '../data/simplewiki/simplewiki-20171103.entity_recognition.test.tfrecords')\n",
    "write_tfrecords(train_set_sentences, '../data/simplewiki/simplewiki-20171103.entity_recognition.train.tfrecords')"
   ]
  },
  {
   "cell_type": "code",
   "execution_count": 25,
   "metadata": {},
   "outputs": [],
   "source": [
    "with open('../data/simplewiki/simplewiki-20171103.vocab_30k.txt', 'wt', encoding='utf-8') as f:\n",
    "    for word in id_to_word_30k:\n",
    "        print(word, file=f)"
   ]
  },
  {
   "cell_type": "code",
   "execution_count": null,
   "metadata": {},
   "outputs": [],
   "source": []
  }
 ],
 "metadata": {
  "kernelspec": {
   "display_name": "Python 3",
   "language": "python",
   "name": "python3"
  },
  "language_info": {
   "codemirror_mode": {
    "name": "ipython",
    "version": 3
   },
   "file_extension": ".py",
   "mimetype": "text/x-python",
   "name": "python",
   "nbconvert_exporter": "python",
   "pygments_lexer": "ipython3",
   "version": "3.5.4"
  }
 },
 "nbformat": 4,
 "nbformat_minor": 2
}
