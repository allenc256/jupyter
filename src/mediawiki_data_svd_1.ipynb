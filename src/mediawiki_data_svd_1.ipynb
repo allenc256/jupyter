{
 "cells": [
  {
   "cell_type": "code",
   "execution_count": 1,
   "metadata": {},
   "outputs": [],
   "source": [
    "import json\n",
    "import gzip\n",
    "import nltk.data\n",
    "import nltk.corpus\n",
    "import nltk.stem\n",
    "import re\n",
    "import collections\n",
    "import random\n",
    "import tensorflow as tf\n",
    "import numpy as np\n",
    "from tqdm import tqdm_notebook"
   ]
  },
  {
   "cell_type": "code",
   "execution_count": 2,
   "metadata": {},
   "outputs": [],
   "source": [
    "with gzip.open('../data/simplewiki/simplewiki-20171103.parsed.norm.json.gz', 'rt', encoding='utf-8') as f:\n",
    "    wiki = json.load(f)"
   ]
  },
  {
   "cell_type": "code",
   "execution_count": 4,
   "metadata": {},
   "outputs": [],
   "source": [
    "def compute_degrees(wiki):\n",
    "    # sort pages by ID\n",
    "    pages = sorted(wiki.values(), key = lambda page: page['id'])\n",
    "    \n",
    "    # compute in-degrees\n",
    "    counter = collections.Counter()\n",
    "    for _, page in tqdm_notebook(wiki.items(), leave = False):\n",
    "        for link in page['links']:\n",
    "            target_page_id = wiki[link['target']]['id']\n",
    "            counter[target_page_id] += 1\n",
    "    in_degrees = [counter.get(i) or 0 for i in range(len(pages))]\n",
    "    \n",
    "    # compute out-degrees\n",
    "    out_degrees = [len(page['links']) for page in pages]\n",
    "    \n",
    "    return in_degrees, out_degrees"
   ]
  },
  {
   "cell_type": "code",
   "execution_count": 5,
   "metadata": {},
   "outputs": [
    {
     "data": {
      "application/vnd.jupyter.widget-view+json": {
       "model_id": "385a308ba4634ac7aad6e11132fc6f91",
       "version_major": 2,
       "version_minor": 0
      },
      "text/html": [
       "<p>Failed to display Jupyter Widget of type <code>HBox</code>.</p>\n",
       "<p>\n",
       "  If you're reading this message in the Jupyter Notebook or JupyterLab Notebook, it may mean\n",
       "  that the widgets JavaScript is still loading. If this message persists, it\n",
       "  likely means that the widgets JavaScript library is either not installed or\n",
       "  not enabled. See the <a href=\"https://ipywidgets.readthedocs.io/en/stable/user_install.html\">Jupyter\n",
       "  Widgets Documentation</a> for setup instructions.\n",
       "</p>\n",
       "<p>\n",
       "  If you're reading this message in another frontend (for example, a static\n",
       "  rendering on GitHub or <a href=\"https://nbviewer.jupyter.org/\">NBViewer</a>),\n",
       "  it may mean that your frontend doesn't currently support widgets.\n",
       "</p>\n"
      ],
      "text/plain": [
       "HBox(children=(IntProgress(value=0, max=125947), HTML(value='')))"
      ]
     },
     "metadata": {},
     "output_type": "display_data"
    },
    {
     "name": "stdout",
     "output_type": "stream",
     "text": [
      "\r"
     ]
    }
   ],
   "source": [
    "in_degrees, out_degrees = compute_degrees(wiki)\n",
    "non_empty_pages = (page for page in wiki.values() if len(page['text']) > 0)\n",
    "top_3k_pages = sorted(non_empty_pages, key = lambda page: in_degrees[page['id']], reverse = True)[:3000]"
   ]
  },
  {
   "cell_type": "code",
   "execution_count": 6,
   "metadata": {},
   "outputs": [],
   "source": [
    "stopwords = set(nltk.corpus.stopwords.words('english'))\n",
    "stemmer = nltk.stem.SnowballStemmer('english')\n",
    "lemmatizer = nltk.stem.WordNetLemmatizer()\n",
    "\n",
    "def word_tokenize(text):\n",
    "    for word in nltk.word_tokenize(text):\n",
    "        # skip stopwords\n",
    "        if word in stopwords:\n",
    "            continue\n",
    "        \n",
    "        # apply lemmatization\n",
    "        word = lemmatizer.lemmatize(word)\n",
    "\n",
    "        # apply stemming\n",
    "        word = stemmer.stem(word)\n",
    "        \n",
    "        # skip non-words\n",
    "        if not re.match(r'[a-z]', word):\n",
    "            continue\n",
    "        \n",
    "        yield word"
   ]
  },
  {
   "cell_type": "code",
   "execution_count": 7,
   "metadata": {},
   "outputs": [
    {
     "data": {
      "application/vnd.jupyter.widget-view+json": {
       "model_id": "54f070e65a504fa994ccbb8410c2ae21",
       "version_major": 2,
       "version_minor": 0
      },
      "text/html": [
       "<p>Failed to display Jupyter Widget of type <code>HBox</code>.</p>\n",
       "<p>\n",
       "  If you're reading this message in the Jupyter Notebook or JupyterLab Notebook, it may mean\n",
       "  that the widgets JavaScript is still loading. If this message persists, it\n",
       "  likely means that the widgets JavaScript library is either not installed or\n",
       "  not enabled. See the <a href=\"https://ipywidgets.readthedocs.io/en/stable/user_install.html\">Jupyter\n",
       "  Widgets Documentation</a> for setup instructions.\n",
       "</p>\n",
       "<p>\n",
       "  If you're reading this message in another frontend (for example, a static\n",
       "  rendering on GitHub or <a href=\"https://nbviewer.jupyter.org/\">NBViewer</a>),\n",
       "  it may mean that your frontend doesn't currently support widgets.\n",
       "</p>\n"
      ],
      "text/plain": [
       "HBox(children=(IntProgress(value=0, max=3000), HTML(value='')))"
      ]
     },
     "metadata": {},
     "output_type": "display_data"
    },
    {
     "name": "stdout",
     "output_type": "stream",
     "text": [
      "\r"
     ]
    }
   ],
   "source": [
    "page_tfs = []\n",
    "for page in tqdm_notebook(top_3k_pages, leave = False):\n",
    "    page_tfs.append((page['id'], collections.Counter(word_tokenize(page['text']))))"
   ]
  },
  {
   "cell_type": "code",
   "execution_count": 8,
   "metadata": {},
   "outputs": [],
   "source": [
    "wiki_tfs = collections.Counter()\n",
    "for _, counter in page_tfs:\n",
    "    wiki_tfs.update(counter)"
   ]
  },
  {
   "cell_type": "code",
   "execution_count": 9,
   "metadata": {},
   "outputs": [],
   "source": [
    "id_to_word_10k = [word for word, _ in wiki_tfs.most_common(10000)]\n",
    "word_to_id_10k = { word: word_id for word_id, word in enumerate(id_to_word_10k) }"
   ]
  },
  {
   "cell_type": "code",
   "execution_count": 22,
   "metadata": {},
   "outputs": [],
   "source": [
    "def compute_word_idfs(page_tfs, words):\n",
    "    word_idfs = []\n",
    "    for word in tqdm_notebook(words, leave = False):\n",
    "        n = sum(1 for _, counter in page_tfs if counter[word] > 0)\n",
    "        word_idfs.append(-np.log(n / len(page_tfs)))\n",
    "    return word_idfs"
   ]
  },
  {
   "cell_type": "code",
   "execution_count": 30,
   "metadata": {},
   "outputs": [
    {
     "data": {
      "application/vnd.jupyter.widget-view+json": {
       "model_id": "9ac5e397db2e434e954ac922eaf3d3f0",
       "version_major": 2,
       "version_minor": 0
      },
      "text/html": [
       "<p>Failed to display Jupyter Widget of type <code>HBox</code>.</p>\n",
       "<p>\n",
       "  If you're reading this message in the Jupyter Notebook or JupyterLab Notebook, it may mean\n",
       "  that the widgets JavaScript is still loading. If this message persists, it\n",
       "  likely means that the widgets JavaScript library is either not installed or\n",
       "  not enabled. See the <a href=\"https://ipywidgets.readthedocs.io/en/stable/user_install.html\">Jupyter\n",
       "  Widgets Documentation</a> for setup instructions.\n",
       "</p>\n",
       "<p>\n",
       "  If you're reading this message in another frontend (for example, a static\n",
       "  rendering on GitHub or <a href=\"https://nbviewer.jupyter.org/\">NBViewer</a>),\n",
       "  it may mean that your frontend doesn't currently support widgets.\n",
       "</p>\n"
      ],
      "text/plain": [
       "HBox(children=(IntProgress(value=0, max=10000), HTML(value='')))"
      ]
     },
     "metadata": {},
     "output_type": "display_data"
    },
    {
     "name": "stdout",
     "output_type": "stream",
     "text": [
      "\r"
     ]
    }
   ],
   "source": [
    "word_idfs = compute_word_idfs(page_tfs, id_to_word_10k)"
   ]
  },
  {
   "cell_type": "code",
   "execution_count": 33,
   "metadata": {},
   "outputs": [],
   "source": [
    "def build_factorization_matrix(page_tfs, word_idfs, word_to_id_index):\n",
    "    result = np.zeros([len(page_tfs), len(word_to_id_index)])\n",
    "    \n",
    "    # build TF matrix\n",
    "    for i, (page_id, counter) in enumerate(page_tfs):\n",
    "        for word, word_freq in counter.items():\n",
    "            word_id = word_to_id_index.get(word)\n",
    "            if word_id is None:\n",
    "                continue\n",
    "            result[i, word_id] = word_freq\n",
    "\n",
    "    # normalize TFs\n",
    "    norms = np.sum(result, axis = -1, keepdims = True)\n",
    "    norms = np.maximum(1, norms)\n",
    "    result /= norms\n",
    "    \n",
    "    # multiply by IDFs\n",
    "    result *= np.reshape(word_idfs, [1, -1])\n",
    "    \n",
    "    return result"
   ]
  },
  {
   "cell_type": "code",
   "execution_count": 35,
   "metadata": {},
   "outputs": [],
   "source": [
    "factorization_matrix = build_factorization_matrix(page_tfs, word_idfs, word_to_id_10k)"
   ]
  },
  {
   "cell_type": "code",
   "execution_count": 40,
   "metadata": {},
   "outputs": [
    {
     "data": {
      "text/plain": [
       "((3000, 3000), (3000,), (3000, 10000))"
      ]
     },
     "execution_count": 40,
     "metadata": {},
     "output_type": "execute_result"
    }
   ],
   "source": [
    "U, s, V = np.linalg.svd(factorization_matrix, full_matrices = False)\n",
    "U.shape, s.shape, V.shape"
   ]
  },
  {
   "cell_type": "code",
   "execution_count": 41,
   "metadata": {},
   "outputs": [],
   "source": [
    "def compute_approximation(U, s, V, k):\n",
    "    s_k = np.array(s)\n",
    "    s_k[k:] = 0\n",
    "    return np.matmul(U, np.matmul(np.diag(s_k), V))"
   ]
  },
  {
   "cell_type": "code",
   "execution_count": 48,
   "metadata": {},
   "outputs": [],
   "source": [
    "def compute_error_rates(actual, approx):\n",
    "    errors = np.sum(\n",
    "        np.abs(actual - approx),\n",
    "        axis = -1,\n",
    "        keepdims = True) / 2\n",
    "    norms = np.sum(actual, axis = -1, keepdims = True)\n",
    "    norms = np.maximum(norms, 1e-9)\n",
    "    return errors / norms"
   ]
  },
  {
   "cell_type": "code",
   "execution_count": 49,
   "metadata": {},
   "outputs": [],
   "source": [
    "def test_approximation(k):\n",
    "    approx = compute_approximation(U, s, V, k)\n",
    "    error_rates = compute_error_rates(factorization_matrix, approx)\n",
    "    return np.percentile(error_rates, [1, 10, 25, 50, 75, 90, 99])"
   ]
  },
  {
   "cell_type": "code",
   "execution_count": 50,
   "metadata": {},
   "outputs": [],
   "source": [
    "def test_approximations(ks):\n",
    "    return np.stack([test_approximation(k) for k in ks])"
   ]
  },
  {
   "cell_type": "code",
   "execution_count": 51,
   "metadata": {},
   "outputs": [
    {
     "data": {
      "text/plain": [
       "array([[  5.00350827e-01,   5.00540571e-01,   5.00715422e-01,\n",
       "          5.01146240e-01,   5.02129284e-01,   5.03861365e-01,\n",
       "          5.37439149e-01],\n",
       "       [  4.69824156e-01,   7.77216879e-01,   8.40672246e-01,\n",
       "          9.12692350e-01,   1.00879315e+00,   1.13196912e+00,\n",
       "          1.58110920e+00],\n",
       "       [  4.03113538e-01,   8.26816431e-01,   9.36405370e-01,\n",
       "          1.09686814e+00,   1.31689470e+00,   1.63268948e+00,\n",
       "          2.84907311e+00],\n",
       "       [  3.46705829e-01,   9.65896027e-01,   1.24200840e+00,\n",
       "          1.59300349e+00,   1.97867265e+00,   2.34254683e+00,\n",
       "          2.98240312e+00],\n",
       "       [  1.27916086e-01,   3.37307943e-01,   5.86064774e-01,\n",
       "          1.04014358e+00,   1.35869301e+00,   1.60631104e+00,\n",
       "          2.08562450e+00],\n",
       "       [  2.27413610e-14,   2.73837692e-14,   3.08269521e-14,\n",
       "          3.49972412e-14,   3.95543249e-14,   4.45635477e-14,\n",
       "          5.83279850e-14]])"
      ]
     },
     "execution_count": 51,
     "metadata": {},
     "output_type": "execute_result"
    }
   ],
   "source": [
    "test_approximations([1, 10, 100, 1000, 2000, 3000])"
   ]
  },
  {
   "cell_type": "code",
   "execution_count": null,
   "metadata": {},
   "outputs": [],
   "source": []
  }
 ],
 "metadata": {
  "kernelspec": {
   "display_name": "Python 3",
   "language": "python",
   "name": "python3"
  },
  "language_info": {
   "codemirror_mode": {
    "name": "ipython",
    "version": 3
   },
   "file_extension": ".py",
   "mimetype": "text/x-python",
   "name": "python",
   "nbconvert_exporter": "python",
   "pygments_lexer": "ipython3",
   "version": "3.5.4"
  }
 },
 "nbformat": 4,
 "nbformat_minor": 2
}
