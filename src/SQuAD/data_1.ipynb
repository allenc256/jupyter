{
 "cells": [
  {
   "cell_type": "code",
   "execution_count": 1,
   "metadata": {},
   "outputs": [
    {
     "name": "stderr",
     "output_type": "stream",
     "text": [
      "/home/achang/anaconda3/lib/python3.5/site-packages/h5py/__init__.py:36: FutureWarning: Conversion of the second argument of issubdtype from `float` to `np.floating` is deprecated. In future, it will be treated as `np.float64 == np.dtype(float).type`.\n",
      "  from ._conv import register_converters as _register_converters\n"
     ]
    }
   ],
   "source": [
    "import json\n",
    "import nltk\n",
    "import collections\n",
    "import fastText\n",
    "import fastText_tokenize\n",
    "import re\n",
    "import gzip\n",
    "import random\n",
    "import os\n",
    "import shutil\n",
    "import tensorflow as tf\n",
    "import numpy as np\n",
    "from tqdm import tqdm_notebook\n",
    "from intervaltree import Interval, IntervalTree"
   ]
  },
  {
   "cell_type": "code",
   "execution_count": 3,
   "metadata": {},
   "outputs": [],
   "source": [
    "with open('../../data/SQuAD/train-v1.1.json', 'rt') as f:\n",
    "    train_json = json.load(f)\n",
    "with open('../../data/SQuAD/dev-v1.1.json', 'rt') as f:\n",
    "    dev_json = json.load(f)"
   ]
  },
  {
   "cell_type": "markdown",
   "metadata": {},
   "source": [
    "# Vocab / Embeddings"
   ]
  },
  {
   "cell_type": "code",
   "execution_count": 4,
   "metadata": {},
   "outputs": [
    {
     "data": {
      "application/vnd.jupyter.widget-view+json": {
       "model_id": "35a9b662091440499c0decf74f166989",
       "version_major": 2,
       "version_minor": 0
      },
      "text/html": [
       "<p>Failed to display Jupyter Widget of type <code>HBox</code>.</p>\n",
       "<p>\n",
       "  If you're reading this message in the Jupyter Notebook or JupyterLab Notebook, it may mean\n",
       "  that the widgets JavaScript is still loading. If this message persists, it\n",
       "  likely means that the widgets JavaScript library is either not installed or\n",
       "  not enabled. See the <a href=\"https://ipywidgets.readthedocs.io/en/stable/user_install.html\">Jupyter\n",
       "  Widgets Documentation</a> for setup instructions.\n",
       "</p>\n",
       "<p>\n",
       "  If you're reading this message in another frontend (for example, a static\n",
       "  rendering on GitHub or <a href=\"https://nbviewer.jupyter.org/\">NBViewer</a>),\n",
       "  it may mean that your frontend doesn't currently support widgets.\n",
       "</p>\n"
      ],
      "text/plain": [
       "HBox(children=(IntProgress(value=0, max=490), HTML(value='')))"
      ]
     },
     "metadata": {},
     "output_type": "display_data"
    },
    {
     "name": "stdout",
     "output_type": "stream",
     "text": [
      "\n"
     ]
    }
   ],
   "source": [
    "counter = collections.Counter()\n",
    "for page in tqdm_notebook(train_json['data'] + dev_json['data']):\n",
    "    for para in page['paragraphs']:\n",
    "        counter.update(fastText_tokenize.word_tokenize(para['context']))\n",
    "        for qa in para['qas']:\n",
    "            counter.update(fastText_tokenize.word_tokenize(qa['question']))"
   ]
  },
  {
   "cell_type": "code",
   "execution_count": 5,
   "metadata": {},
   "outputs": [],
   "source": [
    "id_to_word = ['<NULL>'] + [word for word, _ in counter.most_common()]\n",
    "word_to_id = { word: word_id for word_id, word in enumerate(id_to_word) }"
   ]
  },
  {
   "cell_type": "code",
   "execution_count": 11,
   "metadata": {},
   "outputs": [],
   "source": [
    "fasttext_model = fastText.FastText.load_model('../../data/SQuAD/wiki.en.bin')"
   ]
  },
  {
   "cell_type": "code",
   "execution_count": 14,
   "metadata": {},
   "outputs": [
    {
     "data": {
      "text/plain": [
       "(80727, 9724)"
      ]
     },
     "execution_count": 14,
     "metadata": {},
     "output_type": "execute_result"
    }
   ],
   "source": [
    "in_vocab = [word for word in counter.keys() if fasttext_model.get_word_id(word) >= 0]\n",
    "out_of_vocab = [word for word in counter.keys() if fasttext_model.get_word_id(word) < 0]\n",
    "len(in_vocab), len(out_of_vocab)"
   ]
  },
  {
   "cell_type": "code",
   "execution_count": 15,
   "metadata": {},
   "outputs": [],
   "source": [
    "embeddings = np.zeros([len(id_to_word), 300])\n",
    "for i, word in enumerate(id_to_word):\n",
    "    if i > 0:\n",
    "        embeddings[i, :] = fasttext_model.get_word_vector(word)"
   ]
  },
  {
   "cell_type": "code",
   "execution_count": 17,
   "metadata": {},
   "outputs": [],
   "source": [
    "with gzip.open('../../data/SQuAD/data_1.vocab.embeddings.npy.gz', 'wb') as f:\n",
    "    np.save(f, embeddings)"
   ]
  },
  {
   "cell_type": "code",
   "execution_count": 18,
   "metadata": {},
   "outputs": [],
   "source": [
    "with open('../../data/SQuAD/data_1.vocab.txt', 'wt') as f:\n",
    "    for word in id_to_word:\n",
    "        print(word, file = f)"
   ]
  },
  {
   "cell_type": "markdown",
   "metadata": {},
   "source": [
    "# Examples"
   ]
  },
  {
   "cell_type": "code",
   "execution_count": 6,
   "metadata": {},
   "outputs": [],
   "source": [
    "def generate_examples(json):\n",
    "    for page in tqdm_notebook(json['data']):\n",
    "        for ex in generate_examples_page(page):\n",
    "            yield ex\n",
    "\n",
    "def generate_examples_page(page):\n",
    "    for para in page['paragraphs']:\n",
    "        for ex in generate_examples_para(para, page['title']):\n",
    "            yield ex\n",
    "        \n",
    "def generate_examples_para(para, title):\n",
    "    # grab context\n",
    "    context_text = para['context']\n",
    "\n",
    "    # tokenize context\n",
    "    context_tokens = list(fastText_tokenize.full_tokenize(context_text))\n",
    "\n",
    "    # index context spans\n",
    "    context_spans = IntervalTree()\n",
    "    for token_index, (_, (start, end)) in enumerate(context_tokens):\n",
    "        context_spans[start:end] = token_index\n",
    "\n",
    "    # convert context\n",
    "    context = []\n",
    "    for token, _ in context_tokens:\n",
    "        context.append(word_to_id[token])\n",
    "\n",
    "    # questions\n",
    "    for qa in para['qas']:\n",
    "        # grab question text/id\n",
    "        question_text = qa['question']\n",
    "        question_id = qa['id']\n",
    "\n",
    "        # convert question\n",
    "        question = []\n",
    "        for token, _ in fastText_tokenize.full_tokenize(question_text):\n",
    "            question.append(word_to_id[token])\n",
    "\n",
    "        # convert answers\n",
    "        answers = []\n",
    "        for answer in qa['answers']:\n",
    "            # grab answer\n",
    "            answer_start = answer['answer_start']\n",
    "            answer_end = answer_start + len(answer['text'])\n",
    "\n",
    "            # convert to token indices\n",
    "            min_index = min(i.data for i in context_spans[answer_start:answer_end])\n",
    "            max_index = max(i.data for i in context_spans[answer_start:answer_end])\n",
    "\n",
    "            answers.append((min_index, max_index))\n",
    "\n",
    "        yield {\n",
    "            'id': question_id,\n",
    "            'title': title,\n",
    "            'context': context,\n",
    "            'question': question,\n",
    "            'answers': answers }"
   ]
  },
  {
   "cell_type": "code",
   "execution_count": null,
   "metadata": {},
   "outputs": [
    {
     "data": {
      "application/vnd.jupyter.widget-view+json": {
       "model_id": "474e5abb50d9490e81dc2e6da9d22a61",
       "version_major": 2,
       "version_minor": 0
      },
      "text/html": [
       "<p>Failed to display Jupyter Widget of type <code>HBox</code>.</p>\n",
       "<p>\n",
       "  If you're reading this message in the Jupyter Notebook or JupyterLab Notebook, it may mean\n",
       "  that the widgets JavaScript is still loading. If this message persists, it\n",
       "  likely means that the widgets JavaScript library is either not installed or\n",
       "  not enabled. See the <a href=\"https://ipywidgets.readthedocs.io/en/stable/user_install.html\">Jupyter\n",
       "  Widgets Documentation</a> for setup instructions.\n",
       "</p>\n",
       "<p>\n",
       "  If you're reading this message in another frontend (for example, a static\n",
       "  rendering on GitHub or <a href=\"https://nbviewer.jupyter.org/\">NBViewer</a>),\n",
       "  it may mean that your frontend doesn't currently support widgets.\n",
       "</p>\n"
      ],
      "text/plain": [
       "HBox(children=(IntProgress(value=0, max=442), HTML(value='')))"
      ]
     },
     "metadata": {},
     "output_type": "display_data"
    }
   ],
   "source": [
    "train_examples = list(generate_examples(train_json))\n",
    "dev_examples = list(generate_examples(dev_json))"
   ]
  },
  {
   "cell_type": "code",
   "execution_count": null,
   "metadata": {},
   "outputs": [],
   "source": [
    "len(train_examples)"
   ]
  },
  {
   "cell_type": "code",
   "execution_count": 21,
   "metadata": {},
   "outputs": [],
   "source": [
    "random.shuffle(train_examples)\n",
    "random.shuffle(dev_examples)"
   ]
  },
  {
   "cell_type": "code",
   "execution_count": 22,
   "metadata": {},
   "outputs": [],
   "source": [
    "def convert_to_tfrecord(example):\n",
    "    ex_id = example['id']\n",
    "    title = example['title']\n",
    "    context = example['context']\n",
    "    question = example['question']\n",
    "    answers = example['answers']\n",
    "    \n",
    "    answer_starts = [s[0] for s in answers]\n",
    "    answer_ends = [s[1] for s in answers]\n",
    "    \n",
    "    return tf.train.Example(features = tf.train.Features(feature = {\n",
    "        'id': tf.train.Feature(bytes_list = tf.train.BytesList(value = [bytes(ex_id, 'utf-8')])),\n",
    "        'title': tf.train.Feature(bytes_list = tf.train.BytesList(value = [bytes(title, 'utf-8')])),\n",
    "        'context': tf.train.Feature(int64_list = tf.train.Int64List(value = context)),\n",
    "        'question': tf.train.Feature(int64_list = tf.train.Int64List(value = question)),\n",
    "        'answer_starts': tf.train.Feature(int64_list = tf.train.Int64List(value = answer_starts)),\n",
    "        'answer_ends': tf.train.Feature(int64_list = tf.train.Int64List(value = answer_ends)),\n",
    "    }))\n",
    "\n",
    "def write_examples(examples, path, batch_size = 1000):\n",
    "    # remove old directory\n",
    "    shutil.rmtree(path, ignore_errors = True)\n",
    "    \n",
    "    # make directory\n",
    "    os.makedirs(path, exist_ok = True)\n",
    "    \n",
    "    # write batches\n",
    "    for offset in tqdm_notebook(range(0, len(examples), batch_size)):\n",
    "        batch = examples[offset:offset + batch_size]\n",
    "        batch_path = os.path.join(path, 'examples.%010d.tfrecords.gz' % offset)\n",
    "        options = tf.python_io.TFRecordOptions(tf.python_io.TFRecordCompressionType.GZIP)\n",
    "        with tf.python_io.TFRecordWriter(batch_path, options = options) as writer:\n",
    "            for example in batch:\n",
    "                writer.write(convert_to_tfrecord(example).SerializeToString())"
   ]
  },
  {
   "cell_type": "code",
   "execution_count": 23,
   "metadata": {},
   "outputs": [
    {
     "data": {
      "application/vnd.jupyter.widget-view+json": {
       "model_id": "0c3d364c427c46f7bd8fdcd299b0c005",
       "version_major": 2,
       "version_minor": 0
      },
      "text/html": [
       "<p>Failed to display Jupyter Widget of type <code>HBox</code>.</p>\n",
       "<p>\n",
       "  If you're reading this message in the Jupyter Notebook or JupyterLab Notebook, it may mean\n",
       "  that the widgets JavaScript is still loading. If this message persists, it\n",
       "  likely means that the widgets JavaScript library is either not installed or\n",
       "  not enabled. See the <a href=\"https://ipywidgets.readthedocs.io/en/stable/user_install.html\">Jupyter\n",
       "  Widgets Documentation</a> for setup instructions.\n",
       "</p>\n",
       "<p>\n",
       "  If you're reading this message in another frontend (for example, a static\n",
       "  rendering on GitHub or <a href=\"https://nbviewer.jupyter.org/\">NBViewer</a>),\n",
       "  it may mean that your frontend doesn't currently support widgets.\n",
       "</p>\n"
      ],
      "text/plain": [
       "HBox(children=(IntProgress(value=0, max=88), HTML(value='')))"
      ]
     },
     "metadata": {},
     "output_type": "display_data"
    },
    {
     "name": "stdout",
     "output_type": "stream",
     "text": [
      "\n"
     ]
    },
    {
     "data": {
      "application/vnd.jupyter.widget-view+json": {
       "model_id": "c34d96daf3c540808b80c8a16c6f2e92",
       "version_major": 2,
       "version_minor": 0
      },
      "text/html": [
       "<p>Failed to display Jupyter Widget of type <code>HBox</code>.</p>\n",
       "<p>\n",
       "  If you're reading this message in the Jupyter Notebook or JupyterLab Notebook, it may mean\n",
       "  that the widgets JavaScript is still loading. If this message persists, it\n",
       "  likely means that the widgets JavaScript library is either not installed or\n",
       "  not enabled. See the <a href=\"https://ipywidgets.readthedocs.io/en/stable/user_install.html\">Jupyter\n",
       "  Widgets Documentation</a> for setup instructions.\n",
       "</p>\n",
       "<p>\n",
       "  If you're reading this message in another frontend (for example, a static\n",
       "  rendering on GitHub or <a href=\"https://nbviewer.jupyter.org/\">NBViewer</a>),\n",
       "  it may mean that your frontend doesn't currently support widgets.\n",
       "</p>\n"
      ],
      "text/plain": [
       "HBox(children=(IntProgress(value=0, max=11), HTML(value='')))"
      ]
     },
     "metadata": {},
     "output_type": "display_data"
    },
    {
     "name": "stdout",
     "output_type": "stream",
     "text": [
      "\n"
     ]
    }
   ],
   "source": [
    "write_examples(train_examples, '../../data/SQuAD/data_1.train')\n",
    "write_examples(dev_examples, '../../data/SQuAD/data_1.dev')"
   ]
  },
  {
   "cell_type": "code",
   "execution_count": 24,
   "metadata": {},
   "outputs": [
    {
     "data": {
      "text/plain": [
       "846"
      ]
     },
     "execution_count": 24,
     "metadata": {},
     "output_type": "execute_result"
    }
   ],
   "source": [
    "max(len(e['context']) for e in train_examples + dev_examples)"
   ]
  },
  {
   "cell_type": "code",
   "execution_count": 25,
   "metadata": {},
   "outputs": [
    {
     "data": {
      "text/plain": [
       "60"
      ]
     },
     "execution_count": 25,
     "metadata": {},
     "output_type": "execute_result"
    }
   ],
   "source": [
    "max(len(e['question']) for e in train_examples + dev_examples)"
   ]
  },
  {
   "cell_type": "code",
   "execution_count": 26,
   "metadata": {},
   "outputs": [
    {
     "data": {
      "text/plain": [
       "6"
      ]
     },
     "execution_count": 26,
     "metadata": {},
     "output_type": "execute_result"
    }
   ],
   "source": [
    "max(len(e['answers']) for e in train_examples + dev_examples)"
   ]
  },
  {
   "cell_type": "code",
   "execution_count": null,
   "metadata": {},
   "outputs": [],
   "source": []
  }
 ],
 "metadata": {
  "kernelspec": {
   "display_name": "Python 3",
   "language": "python",
   "name": "python3"
  },
  "language_info": {
   "codemirror_mode": {
    "name": "ipython",
    "version": 3
   },
   "file_extension": ".py",
   "mimetype": "text/x-python",
   "name": "python",
   "nbconvert_exporter": "python",
   "pygments_lexer": "ipython3",
   "version": "3.5.4"
  },
  "widgets": {
   "application/vnd.jupyter.widget-state+json": {
    "state": {
     "0010bf466d664774b1d0c93c8386ec39": {
      "model_module": "@jupyter-widgets/controls",
      "model_module_version": "1.0.0",
      "model_name": "DescriptionStyleModel",
      "state": {
       "description_width": ""
      }
     },
     "01826e4a54af46c09e6571b649fb97ec": {
      "model_module": "@jupyter-widgets/base",
      "model_module_version": "1.0.0",
      "model_name": "LayoutModel",
      "state": {}
     },
     "061745b5a8c94c1c8017000df0686277": {
      "model_module": "@jupyter-widgets/base",
      "model_module_version": "1.0.0",
      "model_name": "LayoutModel",
      "state": {}
     },
     "0643235fa3f840b89a9dca4d2d41b475": {
      "model_module": "@jupyter-widgets/base",
      "model_module_version": "1.0.0",
      "model_name": "LayoutModel",
      "state": {}
     },
     "09282b72dd774f0cb07f3b3d5ce08463": {
      "model_module": "@jupyter-widgets/controls",
      "model_module_version": "1.0.0",
      "model_name": "IntProgressModel",
      "state": {
       "bar_style": "success",
       "layout": "IPY_MODEL_e5d0084235c44dd69ebd34e63ac96e4e",
       "max": 490,
       "style": "IPY_MODEL_985910f4147d45c8a238e43fad8720f2",
       "value": 490
      }
     },
     "099045e382484c329e478dc8e805d9cb": {
      "model_module": "@jupyter-widgets/controls",
      "model_module_version": "1.0.0",
      "model_name": "IntProgressModel",
      "state": {
       "bar_style": "success",
       "layout": "IPY_MODEL_877262fafe724e8a84f2f285b7f93955",
       "max": 490,
       "style": "IPY_MODEL_39ad2b22a5c74ab0bda5b7cf84cbf600",
       "value": 490
      }
     },
     "09d60dd4ab6e4e99bd5907b01f130c96": {
      "model_module": "@jupyter-widgets/controls",
      "model_module_version": "1.0.0",
      "model_name": "IntProgressModel",
      "state": {
       "bar_style": "success",
       "layout": "IPY_MODEL_3e7592b98a43420386ba1038a01d89ff",
       "max": 490,
       "style": "IPY_MODEL_ca9cbb548a324d80881d20c2f08a5dda",
       "value": 490
      }
     },
     "0a46e1ca23754ea0a85cb9d5b118c6c5": {
      "model_module": "@jupyter-widgets/controls",
      "model_module_version": "1.0.0",
      "model_name": "DescriptionStyleModel",
      "state": {
       "description_width": ""
      }
     },
     "0bf23237314c475b82ef6c195bd0fd54": {
      "model_module": "@jupyter-widgets/base",
      "model_module_version": "1.0.0",
      "model_name": "LayoutModel",
      "state": {}
     },
     "0c030c950f20414c9dd15529bc172591": {
      "model_module": "@jupyter-widgets/base",
      "model_module_version": "1.0.0",
      "model_name": "LayoutModel",
      "state": {}
     },
     "1016ac9678a14e7e8769b46304307bef": {
      "model_module": "@jupyter-widgets/controls",
      "model_module_version": "1.0.0",
      "model_name": "HBoxModel",
      "state": {
       "children": [
        "IPY_MODEL_1ec05ba3dea04339b25a137827918353",
        "IPY_MODEL_ac66b1d959e3446fbf02ecf1c4148541"
       ],
       "layout": "IPY_MODEL_ea91b56ca17a40e9be878115919e71cb"
      }
     },
     "1019454a1cad410e9d1faead8e86c053": {
      "model_module": "@jupyter-widgets/controls",
      "model_module_version": "1.0.0",
      "model_name": "IntProgressModel",
      "state": {
       "bar_style": "danger",
       "layout": "IPY_MODEL_25799bc1e6f74de89a4ad642af374b97",
       "max": 88,
       "style": "IPY_MODEL_d2286416c0c047acbb3a489cfaa4b745",
       "value": 32
      }
     },
     "10ef33ea6d244a82b2f1967543e085b5": {
      "model_module": "@jupyter-widgets/controls",
      "model_module_version": "1.0.0",
      "model_name": "DescriptionStyleModel",
      "state": {
       "description_width": ""
      }
     },
     "1142e92e80b04caea95ecf628de588cc": {
      "model_module": "@jupyter-widgets/controls",
      "model_module_version": "1.0.0",
      "model_name": "HTMLModel",
      "state": {
       "layout": "IPY_MODEL_2ca9f2d30c554eaa856973cfd44c55db",
       "style": "IPY_MODEL_d1bb32cf6f4c4b59b3222dceb55cd3f2",
       "value": "100% 490/490 [00:07&lt;00:00, 63.29it/s]"
      }
     },
     "12a5eba8f6a34dfaa645e0c4f1c3010d": {
      "model_module": "@jupyter-widgets/controls",
      "model_module_version": "1.0.0",
      "model_name": "IntProgressModel",
      "state": {
       "bar_style": "danger",
       "layout": "IPY_MODEL_428b5da4e73f400f9cf5d07517e6b200",
       "max": 442,
       "style": "IPY_MODEL_3a38b8b6e16d4839bc0c367f97574290",
       "value": 7
      }
     },
     "1359ccc15387431c8eb2fec034af5983": {
      "model_module": "@jupyter-widgets/base",
      "model_module_version": "1.0.0",
      "model_name": "LayoutModel",
      "state": {}
     },
     "146615e2674448dfadfc00142dfa93aa": {
      "model_module": "@jupyter-widgets/controls",
      "model_module_version": "1.0.0",
      "model_name": "DescriptionStyleModel",
      "state": {
       "description_width": ""
      }
     },
     "162814876c8d47a084a0982707bd2bc9": {
      "model_module": "@jupyter-widgets/controls",
      "model_module_version": "1.0.0",
      "model_name": "HBoxModel",
      "state": {
       "children": [
        "IPY_MODEL_1b0b310532cb461e89e2ab74bcda2b0b",
        "IPY_MODEL_b9996b6dcef24d5eb21ca852329c3b77"
       ],
       "layout": "IPY_MODEL_5cd83877bcef47f6a1f0423cc991bdd9"
      }
     },
     "169540e8d0a946a88d2f65df0c1aa43a": {
      "model_module": "@jupyter-widgets/controls",
      "model_module_version": "1.0.0",
      "model_name": "IntProgressModel",
      "state": {
       "bar_style": "success",
       "layout": "IPY_MODEL_7656b92ccf914fdea1c153f5e7fdd999",
       "max": 11,
       "style": "IPY_MODEL_dd51890d02a04ac78276d6071c95e89b",
       "value": 11
      }
     },
     "17db11203dcb410883d44cc1c3a8b079": {
      "model_module": "@jupyter-widgets/controls",
      "model_module_version": "1.0.0",
      "model_name": "HTMLModel",
      "state": {
       "layout": "IPY_MODEL_1f9924cfc7a4429e8ce495b77d3163b4",
       "style": "IPY_MODEL_4bce7ae5ee1c4571b593444072b7ecbc",
       "value": "100% 490/490 [00:15&lt;00:00, 31.96it/s]"
      }
     },
     "1b0b310532cb461e89e2ab74bcda2b0b": {
      "model_module": "@jupyter-widgets/controls",
      "model_module_version": "1.0.0",
      "model_name": "IntProgressModel",
      "state": {
       "bar_style": "success",
       "layout": "IPY_MODEL_da730f00e3d049ac9934b28c6eaeabb2",
       "max": 490,
       "style": "IPY_MODEL_6ad0e0fbac614a6e9c3cadcd82fb24c7",
       "value": 490
      }
     },
     "1b2c306f2a2247fea30a17380e3b928b": {
      "model_module": "@jupyter-widgets/controls",
      "model_module_version": "1.0.0",
      "model_name": "ProgressStyleModel",
      "state": {
       "description_width": ""
      }
     },
     "1bd433cbbecc4001834e33591c98568f": {
      "model_module": "@jupyter-widgets/base",
      "model_module_version": "1.0.0",
      "model_name": "LayoutModel",
      "state": {}
     },
     "1be20874992a471689da2a74ef7e3fd4": {
      "model_module": "@jupyter-widgets/base",
      "model_module_version": "1.0.0",
      "model_name": "LayoutModel",
      "state": {}
     },
     "1d244bdc304d432c8f66e7d0f1730cf6": {
      "model_module": "@jupyter-widgets/controls",
      "model_module_version": "1.0.0",
      "model_name": "HBoxModel",
      "state": {
       "children": [
        "IPY_MODEL_4aa09cd453da46df9093d920da3a2866",
        "IPY_MODEL_3174bb2214e44915b90739f2cdfecd4a"
       ],
       "layout": "IPY_MODEL_061745b5a8c94c1c8017000df0686277"
      }
     },
     "1e3993e8c4ad48aa86b6e9bea38fa6b6": {
      "model_module": "@jupyter-widgets/controls",
      "model_module_version": "1.0.0",
      "model_name": "DescriptionStyleModel",
      "state": {
       "description_width": ""
      }
     },
     "1ec05ba3dea04339b25a137827918353": {
      "model_module": "@jupyter-widgets/controls",
      "model_module_version": "1.0.0",
      "model_name": "IntProgressModel",
      "state": {
       "bar_style": "success",
       "layout": "IPY_MODEL_01826e4a54af46c09e6571b649fb97ec",
       "max": 490,
       "style": "IPY_MODEL_e4eacb0893be4d6f8ee5cbaa55f5521e",
       "value": 490
      }
     },
     "1f6e9806e30c49ad99dd2597731c905f": {
      "model_module": "@jupyter-widgets/base",
      "model_module_version": "1.0.0",
      "model_name": "LayoutModel",
      "state": {}
     },
     "1f9924cfc7a4429e8ce495b77d3163b4": {
      "model_module": "@jupyter-widgets/base",
      "model_module_version": "1.0.0",
      "model_name": "LayoutModel",
      "state": {}
     },
     "21e2090d4a704a7cbb05951c7b896d0e": {
      "model_module": "@jupyter-widgets/base",
      "model_module_version": "1.0.0",
      "model_name": "LayoutModel",
      "state": {}
     },
     "231e43ba364a4501956bce374314dc6a": {
      "model_module": "@jupyter-widgets/controls",
      "model_module_version": "1.0.0",
      "model_name": "IntProgressModel",
      "state": {
       "bar_style": "success",
       "layout": "IPY_MODEL_86137c99e12c4a1bb1fcd928ec054511",
       "max": 490,
       "style": "IPY_MODEL_1b2c306f2a2247fea30a17380e3b928b",
       "value": 490
      }
     },
     "23ab646edcdd4b2496d67929a74415e8": {
      "model_module": "@jupyter-widgets/controls",
      "model_module_version": "1.0.0",
      "model_name": "DescriptionStyleModel",
      "state": {
       "description_width": ""
      }
     },
     "241fd8ef85214039b746ca1c4fb5a1df": {
      "model_module": "@jupyter-widgets/controls",
      "model_module_version": "1.0.0",
      "model_name": "IntProgressModel",
      "state": {
       "bar_style": "success",
       "layout": "IPY_MODEL_c5c91008abf34fd085860b8ab7568cf9",
       "max": 490,
       "style": "IPY_MODEL_d255fac19d7e470abf1c9d5cff7dd54f",
       "value": 490
      }
     },
     "25799bc1e6f74de89a4ad642af374b97": {
      "model_module": "@jupyter-widgets/base",
      "model_module_version": "1.0.0",
      "model_name": "LayoutModel",
      "state": {}
     },
     "290a1314c26541eb8035a558c0a6a50c": {
      "model_module": "@jupyter-widgets/base",
      "model_module_version": "1.0.0",
      "model_name": "LayoutModel",
      "state": {}
     },
     "2ca9f2d30c554eaa856973cfd44c55db": {
      "model_module": "@jupyter-widgets/base",
      "model_module_version": "1.0.0",
      "model_name": "LayoutModel",
      "state": {}
     },
     "2cba89ea4009415bb547ffd3701f5096": {
      "model_module": "@jupyter-widgets/controls",
      "model_module_version": "1.0.0",
      "model_name": "DescriptionStyleModel",
      "state": {
       "description_width": ""
      }
     },
     "2eebd387419d4e2b904b55262e26eaea": {
      "model_module": "@jupyter-widgets/controls",
      "model_module_version": "1.0.0",
      "model_name": "IntProgressModel",
      "state": {
       "layout": "IPY_MODEL_7f536cf99971474bbadde34feda62d53",
       "max": 2,
       "style": "IPY_MODEL_cfbf9b811f384c0e8dd27e7cbb3b9123",
       "value": 1
      }
     },
     "30bce94dfd064c95a96d999ac3951be9": {
      "model_module": "@jupyter-widgets/base",
      "model_module_version": "1.0.0",
      "model_name": "LayoutModel",
      "state": {}
     },
     "3174bb2214e44915b90739f2cdfecd4a": {
      "model_module": "@jupyter-widgets/controls",
      "model_module_version": "1.0.0",
      "model_name": "HTMLModel",
      "state": {
       "layout": "IPY_MODEL_a7fc39c234ea4f0698940532b35f86a6",
       "style": "IPY_MODEL_370b9d7415a541c8a606b4613b52f326",
       "value": "100% 490/490 [00:31&lt;00:00, 15.72it/s]"
      }
     },
     "3259754775bc4ddba26d770f01b0bb7f": {
      "model_module": "@jupyter-widgets/controls",
      "model_module_version": "1.0.0",
      "model_name": "HTMLModel",
      "state": {
       "layout": "IPY_MODEL_4d0c4e6908f049e9ae89ddb13329b956",
       "style": "IPY_MODEL_eb76df93ce644ebbbcb549106c9e5503",
       "value": " 50% 1/2 [00:01&lt;00:01,  1.04s/it]"
      }
     },
     "339a5f0fec0f4fecbe75c2a9ea975637": {
      "model_module": "@jupyter-widgets/base",
      "model_module_version": "1.0.0",
      "model_name": "LayoutModel",
      "state": {}
     },
     "34ef348dcea247d2bab60825ea94b1e4": {
      "model_module": "@jupyter-widgets/base",
      "model_module_version": "1.0.0",
      "model_name": "LayoutModel",
      "state": {}
     },
     "36f5e3f164514aa7b41301336cc79020": {
      "model_module": "@jupyter-widgets/base",
      "model_module_version": "1.0.0",
      "model_name": "LayoutModel",
      "state": {}
     },
     "370b9d7415a541c8a606b4613b52f326": {
      "model_module": "@jupyter-widgets/controls",
      "model_module_version": "1.0.0",
      "model_name": "DescriptionStyleModel",
      "state": {
       "description_width": ""
      }
     },
     "39ad2b22a5c74ab0bda5b7cf84cbf600": {
      "model_module": "@jupyter-widgets/controls",
      "model_module_version": "1.0.0",
      "model_name": "ProgressStyleModel",
      "state": {
       "description_width": ""
      }
     },
     "3a38b8b6e16d4839bc0c367f97574290": {
      "model_module": "@jupyter-widgets/controls",
      "model_module_version": "1.0.0",
      "model_name": "ProgressStyleModel",
      "state": {
       "description_width": ""
      }
     },
     "3a5e841f3a3e4381b35e71b0562cf0c8": {
      "model_module": "@jupyter-widgets/controls",
      "model_module_version": "1.0.0",
      "model_name": "HTMLModel",
      "state": {
       "layout": "IPY_MODEL_f7da436120dc44a4a9e85a84a438c214",
       "style": "IPY_MODEL_0010bf466d664774b1d0c93c8386ec39",
       "value": "  0% 0/490 [00:00&lt;?, ?it/s]"
      }
     },
     "3bad10d3849540b0bdb6460f3aace785": {
      "model_module": "@jupyter-widgets/controls",
      "model_module_version": "1.0.0",
      "model_name": "DescriptionStyleModel",
      "state": {
       "description_width": ""
      }
     },
     "3ca9a050ed4b47869901e87999365f56": {
      "model_module": "@jupyter-widgets/controls",
      "model_module_version": "1.0.0",
      "model_name": "DescriptionStyleModel",
      "state": {
       "description_width": ""
      }
     },
     "3e17282eac6c418eb3a879232cf716c1": {
      "model_module": "@jupyter-widgets/controls",
      "model_module_version": "1.0.0",
      "model_name": "HBoxModel",
      "state": {
       "children": [
        "IPY_MODEL_09d60dd4ab6e4e99bd5907b01f130c96",
        "IPY_MODEL_1142e92e80b04caea95ecf628de588cc"
       ],
       "layout": "IPY_MODEL_36f5e3f164514aa7b41301336cc79020"
      }
     },
     "3e7592b98a43420386ba1038a01d89ff": {
      "model_module": "@jupyter-widgets/base",
      "model_module_version": "1.0.0",
      "model_name": "LayoutModel",
      "state": {}
     },
     "3ea340b48a44448fa818a89b8713a17c": {
      "model_module": "@jupyter-widgets/controls",
      "model_module_version": "1.0.0",
      "model_name": "HBoxModel",
      "state": {
       "children": [
        "IPY_MODEL_169540e8d0a946a88d2f65df0c1aa43a",
        "IPY_MODEL_b681f1f7374c4e0583e219be48563a05"
       ],
       "layout": "IPY_MODEL_45cf2a3e59644b7fb5e75c9b8bc1a43a"
      }
     },
     "3f793e8d1435436cb164314479cb9934": {
      "model_module": "@jupyter-widgets/controls",
      "model_module_version": "1.0.0",
      "model_name": "HBoxModel",
      "state": {
       "children": [
        "IPY_MODEL_7a977b5a51b14d09833fba0ea8798b29",
        "IPY_MODEL_ad649a9c2af04f8cb41a0e2b9af7861e"
       ],
       "layout": "IPY_MODEL_e1dfab75ec1c4e27a77ce79f491022ca"
      }
     },
     "40779e349c8543b29f35127b5c45b4d6": {
      "model_module": "@jupyter-widgets/base",
      "model_module_version": "1.0.0",
      "model_name": "LayoutModel",
      "state": {}
     },
     "4226f709dde44c799c552b2f44f5e19f": {
      "model_module": "@jupyter-widgets/base",
      "model_module_version": "1.0.0",
      "model_name": "LayoutModel",
      "state": {}
     },
     "428b5da4e73f400f9cf5d07517e6b200": {
      "model_module": "@jupyter-widgets/base",
      "model_module_version": "1.0.0",
      "model_name": "LayoutModel",
      "state": {}
     },
     "4390aaf3fcab4b6d898337bf52d441af": {
      "model_module": "@jupyter-widgets/controls",
      "model_module_version": "1.0.0",
      "model_name": "HTMLModel",
      "state": {
       "layout": "IPY_MODEL_5c36f5ce743749c188d43d0f9dc01929",
       "style": "IPY_MODEL_ec49157550c94ad3b86c37cfaa9c06c4",
       "value": "100% 490/490 [00:21&lt;00:00, 22.72it/s]"
      }
     },
     "45cf2a3e59644b7fb5e75c9b8bc1a43a": {
      "model_module": "@jupyter-widgets/base",
      "model_module_version": "1.0.0",
      "model_name": "LayoutModel",
      "state": {}
     },
     "478279b3345c4790a218590d95d73c28": {
      "model_module": "@jupyter-widgets/base",
      "model_module_version": "1.0.0",
      "model_name": "LayoutModel",
      "state": {}
     },
     "489d7d4caae4442ab3d2f0572863963d": {
      "model_module": "@jupyter-widgets/controls",
      "model_module_version": "1.0.0",
      "model_name": "ProgressStyleModel",
      "state": {
       "description_width": ""
      }
     },
     "4947d9ab77ca4acab3358b092f414e36": {
      "model_module": "@jupyter-widgets/base",
      "model_module_version": "1.0.0",
      "model_name": "LayoutModel",
      "state": {}
     },
     "49b97b648f5e4121963f86557ea9775b": {
      "model_module": "@jupyter-widgets/controls",
      "model_module_version": "1.0.0",
      "model_name": "DescriptionStyleModel",
      "state": {
       "description_width": ""
      }
     },
     "4a0a463ada584a07994a85b1dad1db4e": {
      "model_module": "@jupyter-widgets/controls",
      "model_module_version": "1.0.0",
      "model_name": "IntProgressModel",
      "state": {
       "layout": "IPY_MODEL_eeca9d7b873b41198e0c635dc4ec802a",
       "max": 9,
       "style": "IPY_MODEL_dd5ae960e7a344a58c04a5bcde05b96f",
       "value": 9
      }
     },
     "4aa09cd453da46df9093d920da3a2866": {
      "model_module": "@jupyter-widgets/controls",
      "model_module_version": "1.0.0",
      "model_name": "IntProgressModel",
      "state": {
       "bar_style": "success",
       "layout": "IPY_MODEL_4f0505836c024f18b203f6ce24dfcbc8",
       "max": 490,
       "style": "IPY_MODEL_675a59992c164872b86665730b426b39",
       "value": 490
      }
     },
     "4bce7ae5ee1c4571b593444072b7ecbc": {
      "model_module": "@jupyter-widgets/controls",
      "model_module_version": "1.0.0",
      "model_name": "DescriptionStyleModel",
      "state": {
       "description_width": ""
      }
     },
     "4bdceee02a0b412d90bee862b1d22ea9": {
      "model_module": "@jupyter-widgets/controls",
      "model_module_version": "1.0.0",
      "model_name": "HBoxModel",
      "state": {
       "children": [
        "IPY_MODEL_09282b72dd774f0cb07f3b3d5ce08463",
        "IPY_MODEL_b74e3d9e812a44fc981d76fdaa63aeba"
       ],
       "layout": "IPY_MODEL_ac973df0c11f4f0e859c1b3928425892"
      }
     },
     "4cde54cae58043439b863f66601671f1": {
      "model_module": "@jupyter-widgets/controls",
      "model_module_version": "1.0.0",
      "model_name": "HBoxModel",
      "state": {
       "children": [
        "IPY_MODEL_5fa47077b91d4cc491a7e4e5213a89b2",
        "IPY_MODEL_98587c3c4ecf400ab490110966be65ff"
       ],
       "layout": "IPY_MODEL_b3f76f0cde2d4b66abca7e295f00eb8b"
      }
     },
     "4d0c4e6908f049e9ae89ddb13329b956": {
      "model_module": "@jupyter-widgets/base",
      "model_module_version": "1.0.0",
      "model_name": "LayoutModel",
      "state": {}
     },
     "4d91db9c3d1a43c5a6ba101bf655750f": {
      "model_module": "@jupyter-widgets/controls",
      "model_module_version": "1.0.0",
      "model_name": "IntProgressModel",
      "state": {
       "bar_style": "success",
       "layout": "IPY_MODEL_0643235fa3f840b89a9dca4d2d41b475",
       "max": 490,
       "style": "IPY_MODEL_aae198c8b0e340c788708a267c3bd006",
       "value": 490
      }
     },
     "4f0505836c024f18b203f6ce24dfcbc8": {
      "model_module": "@jupyter-widgets/base",
      "model_module_version": "1.0.0",
      "model_name": "LayoutModel",
      "state": {}
     },
     "4fef8af27396415f9600d35639b519c1": {
      "model_module": "@jupyter-widgets/controls",
      "model_module_version": "1.0.0",
      "model_name": "IntProgressModel",
      "state": {
       "bar_style": "success",
       "layout": "IPY_MODEL_7e5bb3afbef541aa927007657d7c72e1",
       "max": 48,
       "style": "IPY_MODEL_dd7878b265184ca28c9b4893e4884f15",
       "value": 48
      }
     },
     "53d3ae8057104fdd8b3c378182d882ab": {
      "model_module": "@jupyter-widgets/controls",
      "model_module_version": "1.0.0",
      "model_name": "ProgressStyleModel",
      "state": {
       "description_width": ""
      }
     },
     "5508e4be482247dcbcf42bb14827c0d8": {
      "model_module": "@jupyter-widgets/controls",
      "model_module_version": "1.0.0",
      "model_name": "HBoxModel",
      "state": {
       "children": [
        "IPY_MODEL_099045e382484c329e478dc8e805d9cb",
        "IPY_MODEL_64e67925aefa496ba778e4ae10d8a145"
       ],
       "layout": "IPY_MODEL_cc4013b6dd844a8ea797a8bd9e9e226a"
      }
     },
     "57ab5926cb564cdc8465d3e3dfc18698": {
      "model_module": "@jupyter-widgets/base",
      "model_module_version": "1.0.0",
      "model_name": "LayoutModel",
      "state": {}
     },
     "5988c411d4c5441fa3afb8698338dd59": {
      "model_module": "@jupyter-widgets/controls",
      "model_module_version": "1.0.0",
      "model_name": "DescriptionStyleModel",
      "state": {
       "description_width": ""
      }
     },
     "5c36f5ce743749c188d43d0f9dc01929": {
      "model_module": "@jupyter-widgets/base",
      "model_module_version": "1.0.0",
      "model_name": "LayoutModel",
      "state": {}
     },
     "5cd83877bcef47f6a1f0423cc991bdd9": {
      "model_module": "@jupyter-widgets/base",
      "model_module_version": "1.0.0",
      "model_name": "LayoutModel",
      "state": {}
     },
     "5f36aca1a18e45e492881b3cb5d5cbb8": {
      "model_module": "@jupyter-widgets/controls",
      "model_module_version": "1.0.0",
      "model_name": "ProgressStyleModel",
      "state": {
       "description_width": ""
      }
     },
     "5fa47077b91d4cc491a7e4e5213a89b2": {
      "model_module": "@jupyter-widgets/controls",
      "model_module_version": "1.0.0",
      "model_name": "IntProgressModel",
      "state": {
       "bar_style": "success",
       "layout": "IPY_MODEL_57ab5926cb564cdc8465d3e3dfc18698",
       "max": 490,
       "style": "IPY_MODEL_fcfbcfeebef44af1bc281c7f1afbf570",
       "value": 490
      }
     },
     "6341d1d021bf4ca6996906345c37ced7": {
      "model_module": "@jupyter-widgets/controls",
      "model_module_version": "1.0.0",
      "model_name": "HTMLModel",
      "state": {
       "layout": "IPY_MODEL_1f6e9806e30c49ad99dd2597731c905f",
       "style": "IPY_MODEL_97b6563b2078407f8d5e05d1cc7b36d4",
       "value": "  2% 7/442 [00:02&lt;02:47,  2.59it/s]"
      }
     },
     "642fa127e12a414690120149a80f942b": {
      "model_module": "@jupyter-widgets/controls",
      "model_module_version": "1.0.0",
      "model_name": "IntProgressModel",
      "state": {
       "bar_style": "success",
       "layout": "IPY_MODEL_db51f1d5e45b4581ab5c2e32ffd58cb2",
       "max": 490,
       "style": "IPY_MODEL_5f36aca1a18e45e492881b3cb5d5cbb8",
       "value": 490
      }
     },
     "64e67925aefa496ba778e4ae10d8a145": {
      "model_module": "@jupyter-widgets/controls",
      "model_module_version": "1.0.0",
      "model_name": "HTMLModel",
      "state": {
       "layout": "IPY_MODEL_f14df76eebe54978a9464a3f863ee0cf",
       "style": "IPY_MODEL_5988c411d4c5441fa3afb8698338dd59",
       "value": "100% 490/490 [00:11&lt;00:00, 41.27it/s]"
      }
     },
     "675a59992c164872b86665730b426b39": {
      "model_module": "@jupyter-widgets/controls",
      "model_module_version": "1.0.0",
      "model_name": "ProgressStyleModel",
      "state": {
       "description_width": ""
      }
     },
     "67fbc5bba656469fbdbb458c58844018": {
      "model_module": "@jupyter-widgets/base",
      "model_module_version": "1.0.0",
      "model_name": "LayoutModel",
      "state": {}
     },
     "6973ac20834e443db0ba6262cbf49e08": {
      "model_module": "@jupyter-widgets/base",
      "model_module_version": "1.0.0",
      "model_name": "LayoutModel",
      "state": {}
     },
     "6ad0e0fbac614a6e9c3cadcd82fb24c7": {
      "model_module": "@jupyter-widgets/controls",
      "model_module_version": "1.0.0",
      "model_name": "ProgressStyleModel",
      "state": {
       "description_width": ""
      }
     },
     "6c31c71c5c354795880664d19f25b966": {
      "model_module": "@jupyter-widgets/controls",
      "model_module_version": "1.0.0",
      "model_name": "HTMLModel",
      "state": {
       "layout": "IPY_MODEL_4226f709dde44c799c552b2f44f5e19f",
       "style": "IPY_MODEL_7e8f3ad1d8164e24a75fae0ab2fb8f7f",
       "value": " 36% 32/88 [00:03&lt;00:06,  9.18it/s]"
      }
     },
     "6c31f0eb5e1d4a29ad0f73e37be295ca": {
      "model_module": "@jupyter-widgets/base",
      "model_module_version": "1.0.0",
      "model_name": "LayoutModel",
      "state": {}
     },
     "6f1d1178cf994310a163ecf2875b86cf": {
      "model_module": "@jupyter-widgets/base",
      "model_module_version": "1.0.0",
      "model_name": "LayoutModel",
      "state": {}
     },
     "6f39b602f0d142e4bb96d313611e05ec": {
      "model_module": "@jupyter-widgets/base",
      "model_module_version": "1.0.0",
      "model_name": "LayoutModel",
      "state": {}
     },
     "7112fdcbe24c42f285756905d1a48bef": {
      "model_module": "@jupyter-widgets/controls",
      "model_module_version": "1.0.0",
      "model_name": "HBoxModel",
      "state": {
       "children": [
        "IPY_MODEL_b6464308d0d84df69ee8ebb44da01bfa",
        "IPY_MODEL_85eca97a654049b793d88151c49f0f33"
       ],
       "layout": "IPY_MODEL_21e2090d4a704a7cbb05951c7b896d0e"
      }
     },
     "721f4347574e403a95f04be824e58bae": {
      "model_module": "@jupyter-widgets/base",
      "model_module_version": "1.0.0",
      "model_name": "LayoutModel",
      "state": {}
     },
     "724fd9555bbe4c85bab049246ca1d828": {
      "model_module": "@jupyter-widgets/base",
      "model_module_version": "1.0.0",
      "model_name": "LayoutModel",
      "state": {}
     },
     "7656b92ccf914fdea1c153f5e7fdd999": {
      "model_module": "@jupyter-widgets/base",
      "model_module_version": "1.0.0",
      "model_name": "LayoutModel",
      "state": {}
     },
     "7a977b5a51b14d09833fba0ea8798b29": {
      "model_module": "@jupyter-widgets/controls",
      "model_module_version": "1.0.0",
      "model_name": "IntProgressModel",
      "state": {
       "bar_style": "success",
       "layout": "IPY_MODEL_6973ac20834e443db0ba6262cbf49e08",
       "max": 490,
       "style": "IPY_MODEL_9bb5897a62c64e58b9a37a49a10202b8",
       "value": 490
      }
     },
     "7b88dc9ba44a47988f221ef8d85b94c6": {
      "model_module": "@jupyter-widgets/controls",
      "model_module_version": "1.0.0",
      "model_name": "ProgressStyleModel",
      "state": {
       "description_width": ""
      }
     },
     "7c9f46dd4374440481e49a7e58ae1cb2": {
      "model_module": "@jupyter-widgets/controls",
      "model_module_version": "1.0.0",
      "model_name": "HBoxModel",
      "state": {
       "children": [
        "IPY_MODEL_231e43ba364a4501956bce374314dc6a",
        "IPY_MODEL_e0e6812a65ec43179adcce8c40471f07"
       ],
       "layout": "IPY_MODEL_f7a3b12db2e54ef6ac8a76eaa887fc00"
      }
     },
     "7e5bb3afbef541aa927007657d7c72e1": {
      "model_module": "@jupyter-widgets/base",
      "model_module_version": "1.0.0",
      "model_name": "LayoutModel",
      "state": {}
     },
     "7e8f3ad1d8164e24a75fae0ab2fb8f7f": {
      "model_module": "@jupyter-widgets/controls",
      "model_module_version": "1.0.0",
      "model_name": "DescriptionStyleModel",
      "state": {
       "description_width": ""
      }
     },
     "7f536cf99971474bbadde34feda62d53": {
      "model_module": "@jupyter-widgets/base",
      "model_module_version": "1.0.0",
      "model_name": "LayoutModel",
      "state": {}
     },
     "81582e1d9fc24e97820a6e73dd9e5e4f": {
      "model_module": "@jupyter-widgets/controls",
      "model_module_version": "1.0.0",
      "model_name": "HBoxModel",
      "state": {
       "children": [
        "IPY_MODEL_241fd8ef85214039b746ca1c4fb5a1df",
        "IPY_MODEL_a3a490936c814a6799b9086c8222c52f"
       ],
       "layout": "IPY_MODEL_1bd433cbbecc4001834e33591c98568f"
      }
     },
     "81c3a967c2234262b9e32764374cf31c": {
      "model_module": "@jupyter-widgets/base",
      "model_module_version": "1.0.0",
      "model_name": "LayoutModel",
      "state": {}
     },
     "82206faa5cb84ed4b4b1df09236c2af9": {
      "model_module": "@jupyter-widgets/controls",
      "model_module_version": "1.0.0",
      "model_name": "HBoxModel",
      "state": {
       "children": [
        "IPY_MODEL_642fa127e12a414690120149a80f942b",
        "IPY_MODEL_17db11203dcb410883d44cc1c3a8b079"
       ],
       "layout": "IPY_MODEL_bc3a5497e11843dd80402af26536c64b"
      }
     },
     "8551c4f513bf49c09f62a47e78b80550": {
      "model_module": "@jupyter-widgets/controls",
      "model_module_version": "1.0.0",
      "model_name": "IntProgressModel",
      "state": {
       "bar_style": "success",
       "layout": "IPY_MODEL_478279b3345c4790a218590d95d73c28",
       "max": 490,
       "style": "IPY_MODEL_b0eb206f0c0e4d47b5fb39dcf848dce1",
       "value": 490
      }
     },
     "85eca97a654049b793d88151c49f0f33": {
      "model_module": "@jupyter-widgets/controls",
      "model_module_version": "1.0.0",
      "model_name": "HTMLModel",
      "state": {
       "layout": "IPY_MODEL_9a3298373078418a94732910cf492524",
       "style": "IPY_MODEL_23ab646edcdd4b2496d67929a74415e8",
       "value": "100% 88/88 [00:09&lt;00:00,  9.26it/s]"
      }
     },
     "86137c99e12c4a1bb1fcd928ec054511": {
      "model_module": "@jupyter-widgets/base",
      "model_module_version": "1.0.0",
      "model_name": "LayoutModel",
      "state": {}
     },
     "877262fafe724e8a84f2f285b7f93955": {
      "model_module": "@jupyter-widgets/base",
      "model_module_version": "1.0.0",
      "model_name": "LayoutModel",
      "state": {}
     },
     "89174b78a28145ad9c81421186cfcae1": {
      "model_module": "@jupyter-widgets/controls",
      "model_module_version": "1.0.0",
      "model_name": "DescriptionStyleModel",
      "state": {
       "description_width": ""
      }
     },
     "8ce2ff84f1374439915e98364ad5a948": {
      "model_module": "@jupyter-widgets/controls",
      "model_module_version": "1.0.0",
      "model_name": "HTMLModel",
      "state": {
       "layout": "IPY_MODEL_6f39b602f0d142e4bb96d313611e05ec",
       "style": "IPY_MODEL_3bad10d3849540b0bdb6460f3aace785",
       "value": "100% 490/490 [00:11&lt;00:00, 41.02it/s]"
      }
     },
     "8d0bc5aed4ee48b682cc1c17cb18a986": {
      "model_module": "@jupyter-widgets/controls",
      "model_module_version": "1.0.0",
      "model_name": "HBoxModel",
      "state": {
       "children": [
        "IPY_MODEL_bccbb1b9a16c40d9a7a9a59d2c01297a",
        "IPY_MODEL_4390aaf3fcab4b6d898337bf52d441af"
       ],
       "layout": "IPY_MODEL_bd2165cec7d44aec9dc44bf9579dfceb"
      }
     },
     "8fa597d77b8042f985ab8e4734c05a31": {
      "model_module": "@jupyter-widgets/base",
      "model_module_version": "1.0.0",
      "model_name": "LayoutModel",
      "state": {}
     },
     "91a28be2ea7f48958dacd7494d41d0be": {
      "model_module": "@jupyter-widgets/base",
      "model_module_version": "1.0.0",
      "model_name": "LayoutModel",
      "state": {}
     },
     "9272e12369dc45d494256d449e31c9e8": {
      "model_module": "@jupyter-widgets/controls",
      "model_module_version": "1.0.0",
      "model_name": "DescriptionStyleModel",
      "state": {
       "description_width": ""
      }
     },
     "96263b75d89e4353b6aee4d7aee9073e": {
      "model_module": "@jupyter-widgets/base",
      "model_module_version": "1.0.0",
      "model_name": "LayoutModel",
      "state": {}
     },
     "97b6563b2078407f8d5e05d1cc7b36d4": {
      "model_module": "@jupyter-widgets/controls",
      "model_module_version": "1.0.0",
      "model_name": "DescriptionStyleModel",
      "state": {
       "description_width": ""
      }
     },
     "98587c3c4ecf400ab490110966be65ff": {
      "model_module": "@jupyter-widgets/controls",
      "model_module_version": "1.0.0",
      "model_name": "HTMLModel",
      "state": {
       "layout": "IPY_MODEL_67fbc5bba656469fbdbb458c58844018",
       "style": "IPY_MODEL_ecefa4dbb29f494cb2e15c2b05314f0f",
       "value": "100% 490/490 [00:30&lt;00:00, 16.22it/s]"
      }
     },
     "985910f4147d45c8a238e43fad8720f2": {
      "model_module": "@jupyter-widgets/controls",
      "model_module_version": "1.0.0",
      "model_name": "ProgressStyleModel",
      "state": {
       "description_width": ""
      }
     },
     "9a3298373078418a94732910cf492524": {
      "model_module": "@jupyter-widgets/base",
      "model_module_version": "1.0.0",
      "model_name": "LayoutModel",
      "state": {}
     },
     "9bb5897a62c64e58b9a37a49a10202b8": {
      "model_module": "@jupyter-widgets/controls",
      "model_module_version": "1.0.0",
      "model_name": "ProgressStyleModel",
      "state": {
       "description_width": ""
      }
     },
     "a204edd2bb0c49ae9788157a84d456f9": {
      "model_module": "@jupyter-widgets/controls",
      "model_module_version": "1.0.0",
      "model_name": "DescriptionStyleModel",
      "state": {
       "description_width": ""
      }
     },
     "a312708838ca4c43852f0b79646b1ed0": {
      "model_module": "@jupyter-widgets/controls",
      "model_module_version": "1.0.0",
      "model_name": "HBoxModel",
      "state": {
       "children": [
        "IPY_MODEL_4fef8af27396415f9600d35639b519c1",
        "IPY_MODEL_b10656ac382a4ed1a694c4645df65f8e"
       ],
       "layout": "IPY_MODEL_dfa8d30dcf4842cd9a823b05080343cf"
      }
     },
     "a3a490936c814a6799b9086c8222c52f": {
      "model_module": "@jupyter-widgets/controls",
      "model_module_version": "1.0.0",
      "model_name": "HTMLModel",
      "state": {
       "layout": "IPY_MODEL_1be20874992a471689da2a74ef7e3fd4",
       "style": "IPY_MODEL_3ca9a050ed4b47869901e87999365f56",
       "value": "100% 490/490 [00:28&lt;00:00, 17.29it/s]"
      }
     },
     "a7fc39c234ea4f0698940532b35f86a6": {
      "model_module": "@jupyter-widgets/base",
      "model_module_version": "1.0.0",
      "model_name": "LayoutModel",
      "state": {}
     },
     "a8e7072612d94ba1900c39ff285c7226": {
      "model_module": "@jupyter-widgets/base",
      "model_module_version": "1.0.0",
      "model_name": "LayoutModel",
      "state": {}
     },
     "aae198c8b0e340c788708a267c3bd006": {
      "model_module": "@jupyter-widgets/controls",
      "model_module_version": "1.0.0",
      "model_name": "ProgressStyleModel",
      "state": {
       "description_width": ""
      }
     },
     "abe0b5ebef3d47fda91a4731f4d1173d": {
      "model_module": "@jupyter-widgets/base",
      "model_module_version": "1.0.0",
      "model_name": "LayoutModel",
      "state": {}
     },
     "ac66b1d959e3446fbf02ecf1c4148541": {
      "model_module": "@jupyter-widgets/controls",
      "model_module_version": "1.0.0",
      "model_name": "HTMLModel",
      "state": {
       "layout": "IPY_MODEL_34ef348dcea247d2bab60825ea94b1e4",
       "style": "IPY_MODEL_d56efc25231b4bd1bf9c75f0578993c9",
       "value": "100% 490/490 [00:28&lt;00:00, 17.17it/s]"
      }
     },
     "ac973df0c11f4f0e859c1b3928425892": {
      "model_module": "@jupyter-widgets/base",
      "model_module_version": "1.0.0",
      "model_name": "LayoutModel",
      "state": {}
     },
     "ad240293caf04e50b5e0a9c959477320": {
      "model_module": "@jupyter-widgets/controls",
      "model_module_version": "1.0.0",
      "model_name": "HBoxModel",
      "state": {
       "children": [
        "IPY_MODEL_4d91db9c3d1a43c5a6ba101bf655750f",
        "IPY_MODEL_dc8b2477c0714d5a91a25bd569479306"
       ],
       "layout": "IPY_MODEL_4947d9ab77ca4acab3358b092f414e36"
      }
     },
     "ad649a9c2af04f8cb41a0e2b9af7861e": {
      "model_module": "@jupyter-widgets/controls",
      "model_module_version": "1.0.0",
      "model_name": "HTMLModel",
      "state": {
       "layout": "IPY_MODEL_724fd9555bbe4c85bab049246ca1d828",
       "style": "IPY_MODEL_9272e12369dc45d494256d449e31c9e8",
       "value": "100% 490/490 [00:18&lt;00:00, 26.95it/s]"
      }
     },
     "b0eb206f0c0e4d47b5fb39dcf848dce1": {
      "model_module": "@jupyter-widgets/controls",
      "model_module_version": "1.0.0",
      "model_name": "ProgressStyleModel",
      "state": {
       "description_width": ""
      }
     },
     "b10656ac382a4ed1a694c4645df65f8e": {
      "model_module": "@jupyter-widgets/controls",
      "model_module_version": "1.0.0",
      "model_name": "HTMLModel",
      "state": {
       "layout": "IPY_MODEL_b67f0cf74d184e81820fe03fababa6f6",
       "style": "IPY_MODEL_146615e2674448dfadfc00142dfa93aa",
       "value": "100% 48/48 [00:13&lt;00:00,  3.58it/s]"
      }
     },
     "b3f0fa6afa344c89bc8009b90670e145": {
      "model_module": "@jupyter-widgets/controls",
      "model_module_version": "1.0.0",
      "model_name": "HTMLModel",
      "state": {
       "layout": "IPY_MODEL_290a1314c26541eb8035a558c0a6a50c",
       "style": "IPY_MODEL_0a46e1ca23754ea0a85cb9d5b118c6c5",
       "value": "100% 9/9 [00:09&lt;00:00,  1.01s/it]"
      }
     },
     "b3f76f0cde2d4b66abca7e295f00eb8b": {
      "model_module": "@jupyter-widgets/base",
      "model_module_version": "1.0.0",
      "model_name": "LayoutModel",
      "state": {}
     },
     "b6464308d0d84df69ee8ebb44da01bfa": {
      "model_module": "@jupyter-widgets/controls",
      "model_module_version": "1.0.0",
      "model_name": "IntProgressModel",
      "state": {
       "bar_style": "success",
       "layout": "IPY_MODEL_d8b5362ca57340338cfa20a3386fe61f",
       "max": 88,
       "style": "IPY_MODEL_c509649ac9d94b09a9b1adca48143789",
       "value": 88
      }
     },
     "b67f0cf74d184e81820fe03fababa6f6": {
      "model_module": "@jupyter-widgets/base",
      "model_module_version": "1.0.0",
      "model_name": "LayoutModel",
      "state": {}
     },
     "b681f1f7374c4e0583e219be48563a05": {
      "model_module": "@jupyter-widgets/controls",
      "model_module_version": "1.0.0",
      "model_name": "HTMLModel",
      "state": {
       "layout": "IPY_MODEL_cd0bed9b811c4aa9bcdd700b581406c0",
       "style": "IPY_MODEL_49b97b648f5e4121963f86557ea9775b",
       "value": "100% 11/11 [00:01&lt;00:00,  9.21it/s]"
      }
     },
     "b74e3d9e812a44fc981d76fdaa63aeba": {
      "model_module": "@jupyter-widgets/controls",
      "model_module_version": "1.0.0",
      "model_name": "HTMLModel",
      "state": {
       "layout": "IPY_MODEL_81c3a967c2234262b9e32764374cf31c",
       "style": "IPY_MODEL_a204edd2bb0c49ae9788157a84d456f9",
       "value": "100% 490/490 [00:30&lt;00:00, 16.04it/s]"
      }
     },
     "b9996b6dcef24d5eb21ca852329c3b77": {
      "model_module": "@jupyter-widgets/controls",
      "model_module_version": "1.0.0",
      "model_name": "HTMLModel",
      "state": {
       "layout": "IPY_MODEL_f42162609400411e9f84dddb9e86b501",
       "style": "IPY_MODEL_10ef33ea6d244a82b2f1967543e085b5",
       "value": "100% 490/490 [00:07&lt;00:00, 63.00it/s]"
      }
     },
     "bc3a5497e11843dd80402af26536c64b": {
      "model_module": "@jupyter-widgets/base",
      "model_module_version": "1.0.0",
      "model_name": "LayoutModel",
      "state": {}
     },
     "bccbb1b9a16c40d9a7a9a59d2c01297a": {
      "model_module": "@jupyter-widgets/controls",
      "model_module_version": "1.0.0",
      "model_name": "IntProgressModel",
      "state": {
       "bar_style": "success",
       "layout": "IPY_MODEL_96263b75d89e4353b6aee4d7aee9073e",
       "max": 490,
       "style": "IPY_MODEL_53d3ae8057104fdd8b3c378182d882ab",
       "value": 490
      }
     },
     "bd2165cec7d44aec9dc44bf9579dfceb": {
      "model_module": "@jupyter-widgets/base",
      "model_module_version": "1.0.0",
      "model_name": "LayoutModel",
      "state": {}
     },
     "c509649ac9d94b09a9b1adca48143789": {
      "model_module": "@jupyter-widgets/controls",
      "model_module_version": "1.0.0",
      "model_name": "ProgressStyleModel",
      "state": {
       "description_width": ""
      }
     },
     "c5c91008abf34fd085860b8ab7568cf9": {
      "model_module": "@jupyter-widgets/base",
      "model_module_version": "1.0.0",
      "model_name": "LayoutModel",
      "state": {}
     },
     "c628f09bb7ea48639709ce79b85088f4": {
      "model_module": "@jupyter-widgets/controls",
      "model_module_version": "1.0.0",
      "model_name": "HBoxModel",
      "state": {
       "children": [
        "IPY_MODEL_8551c4f513bf49c09f62a47e78b80550",
        "IPY_MODEL_e83dc2da84494326a0b3fec67b3611bd"
       ],
       "layout": "IPY_MODEL_a8e7072612d94ba1900c39ff285c7226"
      }
     },
     "ca9cbb548a324d80881d20c2f08a5dda": {
      "model_module": "@jupyter-widgets/controls",
      "model_module_version": "1.0.0",
      "model_name": "ProgressStyleModel",
      "state": {
       "description_width": ""
      }
     },
     "cc4013b6dd844a8ea797a8bd9e9e226a": {
      "model_module": "@jupyter-widgets/base",
      "model_module_version": "1.0.0",
      "model_name": "LayoutModel",
      "state": {}
     },
     "cd0bed9b811c4aa9bcdd700b581406c0": {
      "model_module": "@jupyter-widgets/base",
      "model_module_version": "1.0.0",
      "model_name": "LayoutModel",
      "state": {}
     },
     "cfbf9b811f384c0e8dd27e7cbb3b9123": {
      "model_module": "@jupyter-widgets/controls",
      "model_module_version": "1.0.0",
      "model_name": "ProgressStyleModel",
      "state": {
       "description_width": ""
      }
     },
     "d1bb32cf6f4c4b59b3222dceb55cd3f2": {
      "model_module": "@jupyter-widgets/controls",
      "model_module_version": "1.0.0",
      "model_name": "DescriptionStyleModel",
      "state": {
       "description_width": ""
      }
     },
     "d2286416c0c047acbb3a489cfaa4b745": {
      "model_module": "@jupyter-widgets/controls",
      "model_module_version": "1.0.0",
      "model_name": "ProgressStyleModel",
      "state": {
       "description_width": ""
      }
     },
     "d255fac19d7e470abf1c9d5cff7dd54f": {
      "model_module": "@jupyter-widgets/controls",
      "model_module_version": "1.0.0",
      "model_name": "ProgressStyleModel",
      "state": {
       "description_width": ""
      }
     },
     "d56efc25231b4bd1bf9c75f0578993c9": {
      "model_module": "@jupyter-widgets/controls",
      "model_module_version": "1.0.0",
      "model_name": "DescriptionStyleModel",
      "state": {
       "description_width": ""
      }
     },
     "d5f04e772dcc43998b396624dd97c02b": {
      "model_module": "@jupyter-widgets/controls",
      "model_module_version": "1.0.0",
      "model_name": "HTMLModel",
      "state": {
       "layout": "IPY_MODEL_6f1d1178cf994310a163ecf2875b86cf",
       "style": "IPY_MODEL_1e3993e8c4ad48aa86b6e9bea38fa6b6",
       "value": "100% 442/442 [01:39&lt;00:00,  4.45it/s]"
      }
     },
     "d888acb89c6a4af6bd5399bc746e3c59": {
      "model_module": "@jupyter-widgets/controls",
      "model_module_version": "1.0.0",
      "model_name": "HBoxModel",
      "state": {
       "children": [
        "IPY_MODEL_e28de6e7d16746f1a4224c3efca373c4",
        "IPY_MODEL_d5f04e772dcc43998b396624dd97c02b"
       ],
       "layout": "IPY_MODEL_dc94ecc45b2d4c09bb67082433bfc285"
      }
     },
     "d8b5362ca57340338cfa20a3386fe61f": {
      "model_module": "@jupyter-widgets/base",
      "model_module_version": "1.0.0",
      "model_name": "LayoutModel",
      "state": {}
     },
     "da730f00e3d049ac9934b28c6eaeabb2": {
      "model_module": "@jupyter-widgets/base",
      "model_module_version": "1.0.0",
      "model_name": "LayoutModel",
      "state": {}
     },
     "db51f1d5e45b4581ab5c2e32ffd58cb2": {
      "model_module": "@jupyter-widgets/base",
      "model_module_version": "1.0.0",
      "model_name": "LayoutModel",
      "state": {}
     },
     "dc00ff7fff83449db4aa76d2d597479b": {
      "model_module": "@jupyter-widgets/controls",
      "model_module_version": "1.0.0",
      "model_name": "DescriptionStyleModel",
      "state": {
       "description_width": ""
      }
     },
     "dc8b2477c0714d5a91a25bd569479306": {
      "model_module": "@jupyter-widgets/controls",
      "model_module_version": "1.0.0",
      "model_name": "HTMLModel",
      "state": {
       "layout": "IPY_MODEL_8fa597d77b8042f985ab8e4734c05a31",
       "style": "IPY_MODEL_89174b78a28145ad9c81421186cfcae1",
       "value": "100% 490/490 [00:12&lt;00:00, 39.97it/s]"
      }
     },
     "dc94ecc45b2d4c09bb67082433bfc285": {
      "model_module": "@jupyter-widgets/base",
      "model_module_version": "1.0.0",
      "model_name": "LayoutModel",
      "state": {}
     },
     "dd51890d02a04ac78276d6071c95e89b": {
      "model_module": "@jupyter-widgets/controls",
      "model_module_version": "1.0.0",
      "model_name": "ProgressStyleModel",
      "state": {
       "description_width": ""
      }
     },
     "dd5ae960e7a344a58c04a5bcde05b96f": {
      "model_module": "@jupyter-widgets/controls",
      "model_module_version": "1.0.0",
      "model_name": "ProgressStyleModel",
      "state": {
       "description_width": ""
      }
     },
     "dd7878b265184ca28c9b4893e4884f15": {
      "model_module": "@jupyter-widgets/controls",
      "model_module_version": "1.0.0",
      "model_name": "ProgressStyleModel",
      "state": {
       "description_width": ""
      }
     },
     "dfa8d30dcf4842cd9a823b05080343cf": {
      "model_module": "@jupyter-widgets/base",
      "model_module_version": "1.0.0",
      "model_name": "LayoutModel",
      "state": {}
     },
     "e0ca348b6f2f4060826f80d4b88f667e": {
      "model_module": "@jupyter-widgets/controls",
      "model_module_version": "1.0.0",
      "model_name": "HBoxModel",
      "state": {
       "children": [
        "IPY_MODEL_1019454a1cad410e9d1faead8e86c053",
        "IPY_MODEL_6c31c71c5c354795880664d19f25b966"
       ],
       "layout": "IPY_MODEL_0bf23237314c475b82ef6c195bd0fd54"
      }
     },
     "e0e6812a65ec43179adcce8c40471f07": {
      "model_module": "@jupyter-widgets/controls",
      "model_module_version": "1.0.0",
      "model_name": "HTMLModel",
      "state": {
       "layout": "IPY_MODEL_6c31f0eb5e1d4a29ad0f73e37be295ca",
       "style": "IPY_MODEL_2cba89ea4009415bb547ffd3701f5096",
       "value": "100% 490/490 [00:18&lt;00:00, 26.83it/s]"
      }
     },
     "e1dfab75ec1c4e27a77ce79f491022ca": {
      "model_module": "@jupyter-widgets/base",
      "model_module_version": "1.0.0",
      "model_name": "LayoutModel",
      "state": {}
     },
     "e28de6e7d16746f1a4224c3efca373c4": {
      "model_module": "@jupyter-widgets/controls",
      "model_module_version": "1.0.0",
      "model_name": "IntProgressModel",
      "state": {
       "bar_style": "success",
       "layout": "IPY_MODEL_339a5f0fec0f4fecbe75c2a9ea975637",
       "max": 442,
       "style": "IPY_MODEL_7b88dc9ba44a47988f221ef8d85b94c6",
       "value": 442
      }
     },
     "e47d01596c0d417f8650d9a259c010e4": {
      "model_module": "@jupyter-widgets/controls",
      "model_module_version": "1.0.0",
      "model_name": "ProgressStyleModel",
      "state": {
       "description_width": ""
      }
     },
     "e4eacb0893be4d6f8ee5cbaa55f5521e": {
      "model_module": "@jupyter-widgets/controls",
      "model_module_version": "1.0.0",
      "model_name": "ProgressStyleModel",
      "state": {
       "description_width": ""
      }
     },
     "e5d0084235c44dd69ebd34e63ac96e4e": {
      "model_module": "@jupyter-widgets/base",
      "model_module_version": "1.0.0",
      "model_name": "LayoutModel",
      "state": {}
     },
     "e83dc2da84494326a0b3fec67b3611bd": {
      "model_module": "@jupyter-widgets/controls",
      "model_module_version": "1.0.0",
      "model_name": "HTMLModel",
      "state": {
       "layout": "IPY_MODEL_721f4347574e403a95f04be824e58bae",
       "style": "IPY_MODEL_dc00ff7fff83449db4aa76d2d597479b",
       "value": "100% 490/490 [00:18&lt;00:00, 26.58it/s]"
      }
     },
     "ea91b56ca17a40e9be878115919e71cb": {
      "model_module": "@jupyter-widgets/base",
      "model_module_version": "1.0.0",
      "model_name": "LayoutModel",
      "state": {}
     },
     "eb76df93ce644ebbbcb549106c9e5503": {
      "model_module": "@jupyter-widgets/controls",
      "model_module_version": "1.0.0",
      "model_name": "DescriptionStyleModel",
      "state": {
       "description_width": ""
      }
     },
     "ec49157550c94ad3b86c37cfaa9c06c4": {
      "model_module": "@jupyter-widgets/controls",
      "model_module_version": "1.0.0",
      "model_name": "DescriptionStyleModel",
      "state": {
       "description_width": ""
      }
     },
     "ecefa4dbb29f494cb2e15c2b05314f0f": {
      "model_module": "@jupyter-widgets/controls",
      "model_module_version": "1.0.0",
      "model_name": "DescriptionStyleModel",
      "state": {
       "description_width": ""
      }
     },
     "ee85bb94c74044d4a030c7cb0680637a": {
      "model_module": "@jupyter-widgets/controls",
      "model_module_version": "1.0.0",
      "model_name": "HBoxModel",
      "state": {
       "children": [
        "IPY_MODEL_12a5eba8f6a34dfaa645e0c4f1c3010d",
        "IPY_MODEL_6341d1d021bf4ca6996906345c37ced7"
       ],
       "layout": "IPY_MODEL_0c030c950f20414c9dd15529bc172591"
      }
     },
     "eeca9d7b873b41198e0c635dc4ec802a": {
      "model_module": "@jupyter-widgets/base",
      "model_module_version": "1.0.0",
      "model_name": "LayoutModel",
      "state": {}
     },
     "f14df76eebe54978a9464a3f863ee0cf": {
      "model_module": "@jupyter-widgets/base",
      "model_module_version": "1.0.0",
      "model_name": "LayoutModel",
      "state": {}
     },
     "f245e41e36c646eda35ede969e2d0c63": {
      "model_module": "@jupyter-widgets/controls",
      "model_module_version": "1.0.0",
      "model_name": "HBoxModel",
      "state": {
       "children": [
        "IPY_MODEL_fa9ec87e94e14b7cace535fd000c33f1",
        "IPY_MODEL_8ce2ff84f1374439915e98364ad5a948"
       ],
       "layout": "IPY_MODEL_30bce94dfd064c95a96d999ac3951be9"
      }
     },
     "f2aa17f39c254877b3c516aa5073ddeb": {
      "model_module": "@jupyter-widgets/controls",
      "model_module_version": "1.0.0",
      "model_name": "IntProgressModel",
      "state": {
       "bar_style": "danger",
       "layout": "IPY_MODEL_fed3e0032f0b4bf397ee13b086d2bb9a",
       "max": 490,
       "style": "IPY_MODEL_e47d01596c0d417f8650d9a259c010e4"
      }
     },
     "f42162609400411e9f84dddb9e86b501": {
      "model_module": "@jupyter-widgets/base",
      "model_module_version": "1.0.0",
      "model_name": "LayoutModel",
      "state": {}
     },
     "f7a3b12db2e54ef6ac8a76eaa887fc00": {
      "model_module": "@jupyter-widgets/base",
      "model_module_version": "1.0.0",
      "model_name": "LayoutModel",
      "state": {}
     },
     "f7da436120dc44a4a9e85a84a438c214": {
      "model_module": "@jupyter-widgets/base",
      "model_module_version": "1.0.0",
      "model_name": "LayoutModel",
      "state": {}
     },
     "fa9ec87e94e14b7cace535fd000c33f1": {
      "model_module": "@jupyter-widgets/controls",
      "model_module_version": "1.0.0",
      "model_name": "IntProgressModel",
      "state": {
       "bar_style": "success",
       "layout": "IPY_MODEL_40779e349c8543b29f35127b5c45b4d6",
       "max": 490,
       "style": "IPY_MODEL_489d7d4caae4442ab3d2f0572863963d",
       "value": 490
      }
     },
     "fcfbcfeebef44af1bc281c7f1afbf570": {
      "model_module": "@jupyter-widgets/controls",
      "model_module_version": "1.0.0",
      "model_name": "ProgressStyleModel",
      "state": {
       "description_width": ""
      }
     },
     "fed3e0032f0b4bf397ee13b086d2bb9a": {
      "model_module": "@jupyter-widgets/base",
      "model_module_version": "1.0.0",
      "model_name": "LayoutModel",
      "state": {}
     },
     "fed72f96568c4d509db1ce93ee86a15b": {
      "model_module": "@jupyter-widgets/controls",
      "model_module_version": "1.0.0",
      "model_name": "HBoxModel",
      "state": {
       "children": [
        "IPY_MODEL_f2aa17f39c254877b3c516aa5073ddeb",
        "IPY_MODEL_3a5e841f3a3e4381b35e71b0562cf0c8"
       ],
       "layout": "IPY_MODEL_1359ccc15387431c8eb2fec034af5983"
      }
     }
    },
    "version_major": 2,
    "version_minor": 0
   }
  }
 },
 "nbformat": 4,
 "nbformat_minor": 2
}
