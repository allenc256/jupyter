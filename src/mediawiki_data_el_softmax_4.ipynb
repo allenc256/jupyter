{
 "cells": [
  {
   "cell_type": "code",
   "execution_count": 14,
   "metadata": {},
   "outputs": [],
   "source": [
    "import nltk\n",
    "import re\n",
    "import gzip\n",
    "import json\n",
    "import collections\n",
    "import tensorflow as tf\n",
    "import random\n",
    "import shutil\n",
    "import os\n",
    "import gensim\n",
    "import numpy as np\n",
    "from tqdm import tqdm_notebook\n",
    "from intervaltree import Interval, IntervalTree"
   ]
  },
  {
   "cell_type": "code",
   "execution_count": 2,
   "metadata": {},
   "outputs": [],
   "source": [
    "with gzip.open('../data/simplewiki/simplewiki-20171103.parsed.norm.json.gz', 'rt', encoding='utf-8') as f:\n",
    "    wiki = json.load(f)"
   ]
  },
  {
   "cell_type": "code",
   "execution_count": 3,
   "metadata": {},
   "outputs": [],
   "source": [
    "def word_tokenize(text):\n",
    "    for word in nltk.word_tokenize(text):\n",
    "        if word == '``' or word == \"''\":\n",
    "            word = '\"'\n",
    "        for subword in re.split('([-/])', word):\n",
    "            yield subword\n",
    "            \n",
    "def span_tokenize(text):\n",
    "    return nltk.tokenize.util.align_tokens(word_tokenize(text), text)"
   ]
  },
  {
   "cell_type": "code",
   "execution_count": 4,
   "metadata": {},
   "outputs": [
    {
     "data": {
      "application/vnd.jupyter.widget-view+json": {
       "model_id": "ccad6f20441444a588d77ecb84a6672f",
       "version_major": 2,
       "version_minor": 0
      },
      "text/html": [
       "<p>Failed to display Jupyter Widget of type <code>HBox</code>.</p>\n",
       "<p>\n",
       "  If you're reading this message in the Jupyter Notebook or JupyterLab Notebook, it may mean\n",
       "  that the widgets JavaScript is still loading. If this message persists, it\n",
       "  likely means that the widgets JavaScript library is either not installed or\n",
       "  not enabled. See the <a href=\"https://ipywidgets.readthedocs.io/en/stable/user_install.html\">Jupyter\n",
       "  Widgets Documentation</a> for setup instructions.\n",
       "</p>\n",
       "<p>\n",
       "  If you're reading this message in another frontend (for example, a static\n",
       "  rendering on GitHub or <a href=\"https://nbviewer.jupyter.org/\">NBViewer</a>),\n",
       "  it may mean that your frontend doesn't currently support widgets.\n",
       "</p>\n"
      ],
      "text/plain": [
       "HBox(children=(IntProgress(value=0, max=125947), HTML(value='')))"
      ]
     },
     "metadata": {},
     "output_type": "display_data"
    },
    {
     "name": "stdout",
     "output_type": "stream",
     "text": [
      "\r"
     ]
    }
   ],
   "source": [
    "all_words = []\n",
    "for _, page in tqdm_notebook(wiki.items(), leave = False):\n",
    "    all_words.append(list(word_tokenize(page['text'])))"
   ]
  },
  {
   "cell_type": "code",
   "execution_count": 5,
   "metadata": {},
   "outputs": [],
   "source": [
    "word2vec_model = gensim.models.word2vec.Word2Vec(all_words, iter = 15, size = 128)"
   ]
  },
  {
   "cell_type": "code",
   "execution_count": 22,
   "metadata": {},
   "outputs": [],
   "source": [
    "embeddings = np.concatenate([\n",
    "    word2vec_model.wv.syn0,\n",
    "    word2vec_model.seeded_vector('<UNK>').reshape([1, -1]),\n",
    "    word2vec_model.seeded_vector('<OOB>').reshape([1, -1])])"
   ]
  },
  {
   "cell_type": "code",
   "execution_count": 27,
   "metadata": {},
   "outputs": [],
   "source": [
    "id_to_word = word2vec_model.wv.index2word + ['<UNK>', '<OOB>']\n",
    "word_to_id = { word: id for id, word in enumerate(id_to_word) }"
   ]
  },
  {
   "cell_type": "code",
   "execution_count": 29,
   "metadata": {},
   "outputs": [
    {
     "data": {
      "application/vnd.jupyter.widget-view+json": {
       "model_id": "547fda0c0a4f4eff91de65cbe3401187",
       "version_major": 2,
       "version_minor": 0
      },
      "text/html": [
       "<p>Failed to display Jupyter Widget of type <code>HBox</code>.</p>\n",
       "<p>\n",
       "  If you're reading this message in the Jupyter Notebook or JupyterLab Notebook, it may mean\n",
       "  that the widgets JavaScript is still loading. If this message persists, it\n",
       "  likely means that the widgets JavaScript library is either not installed or\n",
       "  not enabled. See the <a href=\"https://ipywidgets.readthedocs.io/en/stable/user_install.html\">Jupyter\n",
       "  Widgets Documentation</a> for setup instructions.\n",
       "</p>\n",
       "<p>\n",
       "  If you're reading this message in another frontend (for example, a static\n",
       "  rendering on GitHub or <a href=\"https://nbviewer.jupyter.org/\">NBViewer</a>),\n",
       "  it may mean that your frontend doesn't currently support widgets.\n",
       "</p>\n"
      ],
      "text/plain": [
       "HBox(children=(IntProgress(value=0, max=125947), HTML(value='')))"
      ]
     },
     "metadata": {},
     "output_type": "display_data"
    },
    {
     "name": "stdout",
     "output_type": "stream",
     "text": [
      "\r"
     ]
    }
   ],
   "source": [
    "counter = collections.Counter()\n",
    "for _, page in tqdm_notebook(wiki.items(), leave=False):\n",
    "    for link in page['links']:\n",
    "        counter[link['target']] += 1\n",
    "id_to_target_2k = list(target for target, _ in counter.most_common(2000))\n",
    "target_to_id_2k = dict((target, target_id) for target_id, target in enumerate(id_to_target_2k))\n",
    "top_2k_targets = set(id_to_target_2k)"
   ]
  },
  {
   "cell_type": "code",
   "execution_count": 30,
   "metadata": {},
   "outputs": [],
   "source": [
    "def generate_examples_with_words(page, context_width, valid_link_targets):\n",
    "    page_id = page['id']\n",
    "    page_links = page['links']\n",
    "    page_text = page['text']\n",
    "    \n",
    "    link_spans = IntervalTree()\n",
    "    for link in page_links:\n",
    "        link_spans[link['start']:link['end']] = link['target']\n",
    "\n",
    "    word_spans = span_tokenize(page_text)\n",
    "    processed_targets = set()\n",
    "    for i, word_span in enumerate(word_spans):\n",
    "        for target in link_spans[word_span[0]:word_span[1]]:\n",
    "            if target.data not in valid_link_targets:\n",
    "                continue\n",
    "            if target in processed_targets:\n",
    "                continue\n",
    "            processed_targets.add(target)\n",
    "            context = []\n",
    "            link_mask = []\n",
    "            for j in range(i - context_width, i + context_width + 1):\n",
    "                if j < 0 or j >= len(word_spans):\n",
    "                    context.append('<OOB>')\n",
    "                    link_mask.append(False)\n",
    "                else:\n",
    "                    s = word_spans[j]\n",
    "                    w = page_text[s[0]:s[1]]\n",
    "                    context.append(w)\n",
    "                    link_mask.append(target.overlaps(s[0], s[1]))\n",
    "            yield (page_id, target.data, context, link_mask)"
   ]
  },
  {
   "cell_type": "code",
   "execution_count": 31,
   "metadata": {},
   "outputs": [
    {
     "data": {
      "application/vnd.jupyter.widget-view+json": {
       "model_id": "3f2dfc9a63cb41bca7c4fb8cb9630359",
       "version_major": 2,
       "version_minor": 0
      },
      "text/html": [
       "<p>Failed to display Jupyter Widget of type <code>HBox</code>.</p>\n",
       "<p>\n",
       "  If you're reading this message in the Jupyter Notebook or JupyterLab Notebook, it may mean\n",
       "  that the widgets JavaScript is still loading. If this message persists, it\n",
       "  likely means that the widgets JavaScript library is either not installed or\n",
       "  not enabled. See the <a href=\"https://ipywidgets.readthedocs.io/en/stable/user_install.html\">Jupyter\n",
       "  Widgets Documentation</a> for setup instructions.\n",
       "</p>\n",
       "<p>\n",
       "  If you're reading this message in another frontend (for example, a static\n",
       "  rendering on GitHub or <a href=\"https://nbviewer.jupyter.org/\">NBViewer</a>),\n",
       "  it may mean that your frontend doesn't currently support widgets.\n",
       "</p>\n"
      ],
      "text/plain": [
       "HBox(children=(IntProgress(value=0, max=125947), HTML(value='')))"
      ]
     },
     "metadata": {},
     "output_type": "display_data"
    },
    {
     "name": "stdout",
     "output_type": "stream",
     "text": [
      "\r"
     ]
    }
   ],
   "source": [
    "examples = []\n",
    "for _, page in tqdm_notebook(wiki.items(), leave=False):\n",
    "    examples.extend(generate_examples_with_words(page, 40, top_2k_targets))\n",
    "random.shuffle(examples)"
   ]
  },
  {
   "cell_type": "code",
   "execution_count": 32,
   "metadata": {},
   "outputs": [
    {
     "data": {
      "text/plain": [
       "(20000, 20000, 497099)"
      ]
     },
     "execution_count": 32,
     "metadata": {},
     "output_type": "execute_result"
    }
   ],
   "source": [
    "dev_set_size = 20000\n",
    "test_set_size = 20000\n",
    "\n",
    "dev_set = examples[:dev_set_size]\n",
    "test_set = examples[dev_set_size:dev_set_size+test_set_size]\n",
    "train_set = examples[dev_set_size+test_set_size:]\n",
    "\n",
    "len(dev_set), len(test_set), len(train_set)"
   ]
  },
  {
   "cell_type": "code",
   "execution_count": 43,
   "metadata": {},
   "outputs": [],
   "source": [
    "def convert_to_tfrecord(example):\n",
    "    page_id, target, context, link_mask = example\n",
    "    \n",
    "    # convert target to ID\n",
    "    target_id = target_to_id_2k[target]\n",
    "    \n",
    "    # convert context to IDs\n",
    "    context_word_ids = []\n",
    "    for word in context:\n",
    "        word_id = word_to_id.get(word)\n",
    "        if word_id is None:\n",
    "            word_id = word_to_id['<UNK>']\n",
    "        context_word_ids.append(word_id)\n",
    "\n",
    "    # convert link mask to integers\n",
    "    link_mask_ints = [int(l) for l in link_mask]\n",
    "    \n",
    "    return tf.train.Example(features = tf.train.Features(feature = {\n",
    "        'page_id': tf.train.Feature(int64_list = tf.train.Int64List(value = [page_id])),\n",
    "        'target_id': tf.train.Feature(int64_list = tf.train.Int64List(value = [target_id])),\n",
    "        'context_word_ids': tf.train.Feature(int64_list = tf.train.Int64List(value = context_word_ids)),\n",
    "        'link_mask': tf.train.Feature(int64_list = tf.train.Int64List(value = link_mask_ints))\n",
    "    }))\n",
    "\n",
    "\n",
    "def write_tfrecords(examples, path, batch_size = 10000):\n",
    "    # remove old directory\n",
    "    shutil.rmtree(path, ignore_errors = True)\n",
    "    \n",
    "    # make directory\n",
    "    os.makedirs(path, exist_ok = True)\n",
    "    \n",
    "    # write batches\n",
    "    for offset in tqdm_notebook(range(0, len(examples), batch_size), leave = False):\n",
    "        batch = examples[offset:offset + batch_size]\n",
    "        batch_path = os.path.join(path, 'examples.%010d.tfrecords.gz' % offset)\n",
    "        options = tf.python_io.TFRecordOptions(tf.python_io.TFRecordCompressionType.GZIP)\n",
    "        with tf.python_io.TFRecordWriter(batch_path, options = options) as writer:\n",
    "            for example in batch:\n",
    "                writer.write(convert_to_tfrecord(example).SerializeToString())"
   ]
  },
  {
   "cell_type": "code",
   "execution_count": 35,
   "metadata": {},
   "outputs": [],
   "source": [
    "with open('../data/simplewiki/simplewiki-20171103.el_softmax_4.vocab.txt', 'wt') as f:\n",
    "    for word in id_to_word:\n",
    "        print(word, file = f)"
   ]
  },
  {
   "cell_type": "code",
   "execution_count": 36,
   "metadata": {},
   "outputs": [],
   "source": [
    "with open('../data/simplewiki/simplewiki-20171103.el_softmax_4.targets.txt', 'wt') as f:\n",
    "    for target in id_to_target_2k:\n",
    "        print(target, file = f)"
   ]
  },
  {
   "cell_type": "code",
   "execution_count": 39,
   "metadata": {},
   "outputs": [],
   "source": [
    "np.save('../data/simplewiki/simplewiki-20171103.el_softmax_4.embeddings.npy', embeddings)"
   ]
  },
  {
   "cell_type": "code",
   "execution_count": 44,
   "metadata": {},
   "outputs": [
    {
     "data": {
      "application/vnd.jupyter.widget-view+json": {
       "model_id": "d4e2d3023a714bca87575fae11da1697",
       "version_major": 2,
       "version_minor": 0
      },
      "text/html": [
       "<p>Failed to display Jupyter Widget of type <code>HBox</code>.</p>\n",
       "<p>\n",
       "  If you're reading this message in the Jupyter Notebook or JupyterLab Notebook, it may mean\n",
       "  that the widgets JavaScript is still loading. If this message persists, it\n",
       "  likely means that the widgets JavaScript library is either not installed or\n",
       "  not enabled. See the <a href=\"https://ipywidgets.readthedocs.io/en/stable/user_install.html\">Jupyter\n",
       "  Widgets Documentation</a> for setup instructions.\n",
       "</p>\n",
       "<p>\n",
       "  If you're reading this message in another frontend (for example, a static\n",
       "  rendering on GitHub or <a href=\"https://nbviewer.jupyter.org/\">NBViewer</a>),\n",
       "  it may mean that your frontend doesn't currently support widgets.\n",
       "</p>\n"
      ],
      "text/plain": [
       "HBox(children=(IntProgress(value=0, max=2), HTML(value='')))"
      ]
     },
     "metadata": {},
     "output_type": "display_data"
    },
    {
     "name": "stdout",
     "output_type": "stream",
     "text": [
      "\r"
     ]
    },
    {
     "data": {
      "application/vnd.jupyter.widget-view+json": {
       "model_id": "e5fcd36654614f468c052e088ca8c772",
       "version_major": 2,
       "version_minor": 0
      },
      "text/html": [
       "<p>Failed to display Jupyter Widget of type <code>HBox</code>.</p>\n",
       "<p>\n",
       "  If you're reading this message in the Jupyter Notebook or JupyterLab Notebook, it may mean\n",
       "  that the widgets JavaScript is still loading. If this message persists, it\n",
       "  likely means that the widgets JavaScript library is either not installed or\n",
       "  not enabled. See the <a href=\"https://ipywidgets.readthedocs.io/en/stable/user_install.html\">Jupyter\n",
       "  Widgets Documentation</a> for setup instructions.\n",
       "</p>\n",
       "<p>\n",
       "  If you're reading this message in another frontend (for example, a static\n",
       "  rendering on GitHub or <a href=\"https://nbviewer.jupyter.org/\">NBViewer</a>),\n",
       "  it may mean that your frontend doesn't currently support widgets.\n",
       "</p>\n"
      ],
      "text/plain": [
       "HBox(children=(IntProgress(value=0, max=2), HTML(value='')))"
      ]
     },
     "metadata": {},
     "output_type": "display_data"
    },
    {
     "name": "stdout",
     "output_type": "stream",
     "text": [
      "\r"
     ]
    },
    {
     "data": {
      "application/vnd.jupyter.widget-view+json": {
       "model_id": "f270071d604f4bf7923a92e0a7488b30",
       "version_major": 2,
       "version_minor": 0
      },
      "text/html": [
       "<p>Failed to display Jupyter Widget of type <code>HBox</code>.</p>\n",
       "<p>\n",
       "  If you're reading this message in the Jupyter Notebook or JupyterLab Notebook, it may mean\n",
       "  that the widgets JavaScript is still loading. If this message persists, it\n",
       "  likely means that the widgets JavaScript library is either not installed or\n",
       "  not enabled. See the <a href=\"https://ipywidgets.readthedocs.io/en/stable/user_install.html\">Jupyter\n",
       "  Widgets Documentation</a> for setup instructions.\n",
       "</p>\n",
       "<p>\n",
       "  If you're reading this message in another frontend (for example, a static\n",
       "  rendering on GitHub or <a href=\"https://nbviewer.jupyter.org/\">NBViewer</a>),\n",
       "  it may mean that your frontend doesn't currently support widgets.\n",
       "</p>\n"
      ],
      "text/plain": [
       "HBox(children=(IntProgress(value=0, max=50), HTML(value='')))"
      ]
     },
     "metadata": {},
     "output_type": "display_data"
    },
    {
     "name": "stdout",
     "output_type": "stream",
     "text": [
      "\r"
     ]
    }
   ],
   "source": [
    "write_tfrecords(dev_set, '../data/simplewiki/simplewiki-20171103.el_softmax_4.dev')\n",
    "write_tfrecords(test_set, '../data/simplewiki/simplewiki-20171103.el_softmax_4.test')\n",
    "write_tfrecords(train_set, '../data/simplewiki/simplewiki-20171103.el_softmax_4.train')"
   ]
  },
  {
   "cell_type": "code",
   "execution_count": null,
   "metadata": {},
   "outputs": [],
   "source": []
  }
 ],
 "metadata": {
  "kernelspec": {
   "display_name": "Python 3",
   "language": "python",
   "name": "python3"
  },
  "language_info": {
   "codemirror_mode": {
    "name": "ipython",
    "version": 3
   },
   "file_extension": ".py",
   "mimetype": "text/x-python",
   "name": "python",
   "nbconvert_exporter": "python",
   "pygments_lexer": "ipython3",
   "version": "3.5.4"
  }
 },
 "nbformat": 4,
 "nbformat_minor": 2
}
