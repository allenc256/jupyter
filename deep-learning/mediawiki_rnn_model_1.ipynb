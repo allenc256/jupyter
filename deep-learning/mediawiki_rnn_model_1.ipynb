{
 "cells": [
  {
   "cell_type": "code",
   "execution_count": 1,
   "metadata": {},
   "outputs": [],
   "source": [
    "import tensorflow as tf\n",
    "import numpy as np\n",
    "from tqdm import tqdm"
   ]
  },
  {
   "cell_type": "code",
   "execution_count": 2,
   "metadata": {},
   "outputs": [],
   "source": [
    "def reset_tf():\n",
    "    global sess\n",
    "    sess.close()\n",
    "    tf.reset_default_graph()\n",
    "    tf.set_random_seed(0)\n",
    "    sess = tf.InteractiveSession(config=tf.ConfigProto(log_device_placement=True))"
   ]
  },
  {
   "cell_type": "code",
   "execution_count": 3,
   "metadata": {},
   "outputs": [],
   "source": [
    "sess = tf.InteractiveSession(config=tf.ConfigProto(log_device_placement=True))"
   ]
  },
  {
   "cell_type": "code",
   "execution_count": 4,
   "metadata": {},
   "outputs": [],
   "source": [
    "class HyperParameters():\n",
    "    # maximum number of symbols in an input sequence\n",
    "    max_sequence_length = 40\n",
    "\n",
    "    # number of symbols in vocabulary\n",
    "    # (symbols are expected to be in range(vocab_size))\n",
    "    vocab_size = 10000\n",
    "\n",
    "    # number of dimensions in input embeddings\n",
    "    embedding_size = 256\n",
    "    \n",
    "    # number of dimensions in hidden state\n",
    "    rnn_hidden_state_size = 256\n",
    "    \n",
    "    # feed-forward hidden state size\n",
    "    ff_hidden_state_size = 512\n",
    "    \n",
    "    # number of sequences per batch\n",
    "    batch_size = 256\n",
    "    \n",
    "    # dropout rate\n",
    "    dropout_rate = 0.1\n",
    "    \n",
    "    # number of parsing threads in data pipeline\n",
    "    dataset_pipeline_parallel_calls = 4\n",
    "    \n",
    "    # size of prefetch in data pipeline\n",
    "    dataset_pipeline_prefetch = batch_size * 16\n",
    "    \n",
    "    # shuffle buffer size\n",
    "    dataset_pipeline_shuffle_buffer_size = 10000\n",
    "\n",
    "hp = HyperParameters()"
   ]
  },
  {
   "cell_type": "code",
   "execution_count": 5,
   "metadata": {},
   "outputs": [],
   "source": [
    "def parse_example(example_proto, max_sequence_length=hp.max_sequence_length):\n",
    "    features = {\n",
    "        'inputs': tf.VarLenFeature(tf.int64),\n",
    "        'word_endings': tf.VarLenFeature(tf.int64),\n",
    "        'targets': tf.VarLenFeature(tf.int64)\n",
    "    }\n",
    "    \n",
    "    parsed = tf.parse_single_example(example_proto, features)\n",
    "    \n",
    "    def convert_and_pad(sparse_tensor):\n",
    "        result = tf.sparse_tensor_to_dense(sparse_tensor)\n",
    "        # TODO: properly ignore elements which are too large (right now we just clip)\n",
    "        result = result[:max_sequence_length]\n",
    "        result = tf.pad(result, [[0, max_sequence_length - tf.shape(result)[0]]])\n",
    "        return result\n",
    "    \n",
    "    return (convert_and_pad(parsed['inputs']),\n",
    "            tf.shape(parsed['inputs'])[0],\n",
    "            convert_and_pad(parsed['word_endings']),\n",
    "            convert_and_pad(parsed['targets']))"
   ]
  },
  {
   "cell_type": "code",
   "execution_count": 6,
   "metadata": {},
   "outputs": [
    {
     "name": "stdout",
     "output_type": "stream",
     "text": [
      "parameters for \"input_sequence_embeddings:0\": 2560000\n",
      "parameters for \"input_position_embeddings:0\": 10240\n",
      "parameters for \"input_word_ending_embeddings:0\": 512\n",
      "parameters for \"bidirectional_rnn/fw/gru_cell/gates/kernel:0\": 262144\n",
      "parameters for \"bidirectional_rnn/fw/gru_cell/gates/bias:0\": 512\n",
      "parameters for \"bidirectional_rnn/fw/gru_cell/candidate/kernel:0\": 131072\n",
      "parameters for \"bidirectional_rnn/fw/gru_cell/candidate/bias:0\": 256\n",
      "parameters for \"bidirectional_rnn/bw/gru_cell/gates/kernel:0\": 262144\n",
      "parameters for \"bidirectional_rnn/bw/gru_cell/gates/bias:0\": 512\n",
      "parameters for \"bidirectional_rnn/bw/gru_cell/candidate/kernel:0\": 131072\n",
      "parameters for \"bidirectional_rnn/bw/gru_cell/candidate/bias:0\": 256\n",
      "parameters for \"feed_forward/kernel:0\": 262144\n",
      "parameters for \"feed_forward/bias:0\": 512\n",
      "parameters for \"softmax/kernel:0\": 1024\n",
      "parameters for \"softmax/bias:0\": 2\n",
      "total parameters: 3622402\n"
     ]
    }
   ],
   "source": [
    "reset_tf()\n",
    "\n",
    "# Data pipeline\n",
    "# -------------\n",
    "\n",
    "dataset_filenames = tf.placeholder(tf.string, shape=[None])\n",
    "\n",
    "dataset = tf.data.TFRecordDataset(dataset_filenames)\n",
    "dataset = dataset.map(parse_example, \n",
    "                      num_parallel_calls = hp.dataset_pipeline_parallel_calls)\n",
    "dataset = dataset.shuffle(hp.dataset_pipeline_shuffle_buffer_size)\n",
    "dataset = dataset.prefetch(hp.dataset_pipeline_prefetch)\n",
    "dataset = dataset.batch(hp.batch_size)\n",
    "\n",
    "dataset_iterator = dataset.make_initializable_iterator()\n",
    "(input_sequences_it,\n",
    " input_lengths_it,\n",
    " input_word_endings_it,\n",
    " target_sequences_it) = dataset_iterator.get_next()\n",
    "\n",
    "# Placeholders\n",
    "# ------------\n",
    "\n",
    "input_sequences = tf.placeholder_with_default(input_sequences_it,\n",
    "                                              shape = [None, hp.max_sequence_length],\n",
    "                                              name = 'input_sequences')\n",
    "input_lengths = tf.placeholder_with_default(input_lengths_it,\n",
    "                                            shape = [None],\n",
    "                                            name = 'input_lengths')\n",
    "input_word_endings = tf.placeholder_with_default(input_word_endings_it,\n",
    "                                                 shape = [None, hp.max_sequence_length],\n",
    "                                                 name = 'input_word_endings')\n",
    "target_sequences = tf.placeholder_with_default(target_sequences_it,\n",
    "                                               shape = [None, hp.max_sequence_length],\n",
    "                                               name = 'target_sequences')\n",
    "\n",
    "# sequences of input positions (not a placeholder)\n",
    "input_positions = tf.range(hp.max_sequence_length, dtype=tf.int32)\n",
    "input_positions = tf.tile(input_positions, [tf.shape(input_sequences)[0]])\n",
    "input_positions = tf.reshape(input_positions, \n",
    "                             (tf.shape(input_sequences)[0], hp.max_sequence_length), \n",
    "                             name = 'input_positions')\n",
    "\n",
    "is_training = tf.placeholder(tf.bool)\n",
    "\n",
    "\n",
    "# Embeddings\n",
    "# ----------\n",
    "\n",
    "input_sequence_embeddings = tf.get_variable('input_sequence_embeddings', \n",
    "                                            (hp.vocab_size, hp.embedding_size))\n",
    "input_sequences_embedded = tf.nn.embedding_lookup(input_sequence_embeddings, \n",
    "                                                  input_sequences,\n",
    "                                                  name = 'input_sequences_embedded')\n",
    "\n",
    "input_position_embeddings = tf.get_variable('input_position_embeddings', \n",
    "                                            (hp.max_sequence_length, hp.embedding_size))\n",
    "input_positions_embedded = tf.nn.embedding_lookup(input_position_embeddings, input_positions)\n",
    "\n",
    "input_word_ending_embeddings = tf.get_variable('input_word_ending_embeddings',\n",
    "                                               (2, hp.embedding_size))\n",
    "input_word_endings_embedded = tf.nn.embedding_lookup(input_word_ending_embeddings, \n",
    "                                                     input_word_endings,\n",
    "                                                     name = 'input_word_endings_embedded')\n",
    "\n",
    "input_combined_embedded = tf.add_n([input_sequences_embedded, \n",
    "                                    input_positions_embedded, \n",
    "                                    input_word_endings_embedded])\n",
    "input_combined_embedded = tf.layers.dropout(input_combined_embedded,\n",
    "                                            rate = hp.dropout_rate,\n",
    "                                            training = is_training)\n",
    "\n",
    "# RNNs\n",
    "# ----\n",
    "\n",
    "dropout_keep_prob = tf.cond(is_training,\n",
    "                            lambda: tf.constant(1.0),\n",
    "                            lambda: tf.constant(1.0 - hp.dropout_rate))\n",
    "\n",
    "fw_rnn_cell = tf.nn.rnn_cell.GRUCell(hp.rnn_hidden_state_size)\n",
    "fw_rnn_cell = tf.nn.rnn_cell.DropoutWrapper(fw_rnn_cell,\n",
    "                                            input_keep_prob = dropout_keep_prob,\n",
    "                                            output_keep_prob = dropout_keep_prob)\n",
    "\n",
    "bw_rnn_cell = tf.nn.rnn_cell.GRUCell(hp.rnn_hidden_state_size)\n",
    "bw_rnn_cell = tf.nn.rnn_cell.DropoutWrapper(bw_rnn_cell,\n",
    "                                            input_keep_prob = dropout_keep_prob,\n",
    "                                            output_keep_prob = dropout_keep_prob)\n",
    "\n",
    "rnn_outputs, _ = tf.nn.bidirectional_dynamic_rnn(fw_rnn_cell,\n",
    "                                                 bw_rnn_cell,\n",
    "                                                 input_combined_embedded,\n",
    "                                                 sequence_length = input_lengths,\n",
    "                                                 dtype = tf.float32)\n",
    "rnn_outputs = tf.concat(rnn_outputs, 2)\n",
    "\n",
    "# Feed-forward\n",
    "# ------------\n",
    "\n",
    "# TODO: more layers here?\n",
    "feed_forward = tf.layers.dense(rnn_outputs,\n",
    "                               hp.ff_hidden_state_size,\n",
    "                               activation = tf.nn.relu,\n",
    "                               name = 'feed_forward')\n",
    "feed_forward = tf.layers.dropout(feed_forward,\n",
    "                                 rate = hp.dropout_rate,\n",
    "                                 training = is_training)\n",
    "\n",
    "\n",
    "# Mask\n",
    "# ----\n",
    "\n",
    "sequence_mask = tf.sequence_mask(input_lengths,\n",
    "                                 hp.max_sequence_length,\n",
    "                                 dtype = tf.bool)\n",
    "\n",
    "\n",
    "# Softmax\n",
    "# -------\n",
    "\n",
    "output_logits = tf.layers.dense(feed_forward, 2, name='softmax')\n",
    "\n",
    "# TODO: is the softmax here really necessary?\n",
    "output_sequences = tf.nn.softmax(output_logits)\n",
    "output_sequences = tf.argmax(output_sequences, axis = -1)\n",
    "output_sequences *= tf.cast(sequence_mask, tf.int64)\n",
    "\n",
    "# Loss\n",
    "# ----\n",
    "\n",
    "losses = tf.nn.sparse_softmax_cross_entropy_with_logits(labels = target_sequences,\n",
    "                                                        logits = output_logits)\n",
    "losses *= tf.cast(sequence_mask, tf.float32)\n",
    "\n",
    "total_loss = tf.reduce_sum(losses)\n",
    "total_input_length = tf.reduce_sum(input_lengths)\n",
    "mean_loss  = total_loss / tf.cast(total_input_length, tf.float32)\n",
    "\n",
    "true_positives = tf.reduce_sum(output_sequences * target_sequences)\n",
    "false_positives = tf.reduce_sum(tf.maximum(output_sequences - target_sequences, 0))\n",
    "false_negatives = tf.reduce_sum(tf.maximum(target_sequences - output_sequences, 0))\n",
    "\n",
    "# Training\n",
    "# --------\n",
    "\n",
    "global_step = tf.Variable(0, name='global_step', trainable=False)\n",
    "optimizer = tf.train.AdamOptimizer(learning_rate=1e-3)\n",
    "train_op = optimizer.minimize(mean_loss, global_step=global_step)\n",
    "\n",
    "# Summary\n",
    "# -------\n",
    "\n",
    "total_parameters = 0\n",
    "for variable in tf.trainable_variables():\n",
    "    # shape is an array of tf.Dimension\n",
    "    shape = variable.get_shape()\n",
    "    variable_parameters = 1\n",
    "    for dim in shape:\n",
    "        variable_parameters *= dim.value\n",
    "    print('parameters for \"%s\": %d' % (variable.name, variable_parameters))\n",
    "    total_parameters += variable_parameters\n",
    "print('total parameters: %d' % total_parameters)"
   ]
  },
  {
   "cell_type": "code",
   "execution_count": 7,
   "metadata": {},
   "outputs": [],
   "source": [
    "def evaluate_dataset(filename, header='results', train=False, show_progress=True):\n",
    "    cum_loss = 0\n",
    "    cum_input_length = 0\n",
    "    \n",
    "    cum_true_positives = 0\n",
    "    cum_false_positives = 0\n",
    "    cum_false_negatives = 0\n",
    "    \n",
    "    sess.run(dataset_iterator.initializer, feed_dict={\n",
    "        dataset_filenames: [filename]\n",
    "    })\n",
    "    \n",
    "    if show_progress:\n",
    "        progress = tqdm()\n",
    "        \n",
    "    while True:\n",
    "        try:\n",
    "            (_,\n",
    "             curr_loss, \n",
    "             curr_input_length, \n",
    "             curr_true_positives,\n",
    "             curr_false_positives,\n",
    "             curr_false_negatives) = sess.run((train_op if train else [],\n",
    "                                               total_loss,\n",
    "                                               total_input_length,\n",
    "                                               true_positives,\n",
    "                                               false_positives,\n",
    "                                               false_negatives),\n",
    "                                              feed_dict = { is_training: train })\n",
    "        except tf.errors.OutOfRangeError:\n",
    "            break\n",
    "\n",
    "        if show_progress:\n",
    "            progress.update(curr_input_length)\n",
    "\n",
    "        cum_loss += curr_loss\n",
    "        cum_input_length += curr_input_length\n",
    "        cum_true_positives += curr_true_positives\n",
    "        cum_false_positives += curr_false_positives\n",
    "        cum_false_negatives += curr_false_negatives\n",
    "    \n",
    "    if show_progress:\n",
    "        progress.close()\n",
    "\n",
    "    precision = cum_true_positives / (cum_true_positives + cum_false_positives)\n",
    "    recall = cum_true_positives / (cum_true_positives + cum_false_negatives)\n",
    "    F1 = 2 * (precision * recall) / (precision + recall)\n",
    "    \n",
    "    print('%s: loss=%g, precision=%g, recall=%g, F1=%g' % (header,\n",
    "                                                           cum_loss/cum_input_length, \n",
    "                                                           precision, \n",
    "                                                           recall, \n",
    "                                                           F1))"
   ]
  },
  {
   "cell_type": "code",
   "execution_count": null,
   "metadata": {},
   "outputs": [],
   "source": [
    "sess.run(tf.global_variables_initializer())"
   ]
  },
  {
   "cell_type": "code",
   "execution_count": null,
   "metadata": {},
   "outputs": [
    {
     "name": "stderr",
     "output_type": "stream",
     "text": [
      "23718333it [04:39, 84757.77it/s] \n"
     ]
    },
    {
     "name": "stdout",
     "output_type": "stream",
     "text": [
      "train 0: loss=0.166985, precision=0.701448, recall=0.333386, F1=0.451963\n"
     ]
    },
    {
     "name": "stderr",
     "output_type": "stream",
     "text": [
      "\r",
      "0it [00:00, ?it/s]"
     ]
    },
    {
     "name": "stdout",
     "output_type": "stream",
     "text": [
      "dev 0: loss=0.163846, precision=0.777298, recall=0.300349, F1=0.433279\n"
     ]
    },
    {
     "name": "stderr",
     "output_type": "stream",
     "text": [
      "23718333it [04:22, 90373.30it/s] \n"
     ]
    },
    {
     "name": "stdout",
     "output_type": "stream",
     "text": [
      "train 1: loss=0.15313, precision=0.725064, recall=0.404923, F1=0.519643\n"
     ]
    },
    {
     "name": "stderr",
     "output_type": "stream",
     "text": [
      "\r",
      "0it [00:00, ?it/s]"
     ]
    },
    {
     "name": "stdout",
     "output_type": "stream",
     "text": [
      "dev 1: loss=0.157979, precision=0.730166, recall=0.3904, F1=0.508773\n"
     ]
    },
    {
     "name": "stderr",
     "output_type": "stream",
     "text": [
      "23718333it [04:13, 93558.51it/s] \n"
     ]
    },
    {
     "name": "stdout",
     "output_type": "stream",
     "text": [
      "train 2: loss=0.147236, precision=0.736967, recall=0.435679, F1=0.547618\n"
     ]
    },
    {
     "name": "stderr",
     "output_type": "stream",
     "text": [
      "\r",
      "0it [00:00, ?it/s]"
     ]
    },
    {
     "name": "stdout",
     "output_type": "stream",
     "text": [
      "dev 2: loss=0.156589, precision=0.72778, recall=0.403838, F1=0.519443\n"
     ]
    },
    {
     "name": "stderr",
     "output_type": "stream",
     "text": [
      "23718333it [04:10, 94571.83it/s] \n"
     ]
    },
    {
     "name": "stdout",
     "output_type": "stream",
     "text": [
      "train 3: loss=0.142314, precision=0.746003, recall=0.461487, F1=0.570225\n"
     ]
    },
    {
     "name": "stderr",
     "output_type": "stream",
     "text": [
      "\r",
      "0it [00:00, ?it/s]"
     ]
    },
    {
     "name": "stdout",
     "output_type": "stream",
     "text": [
      "dev 3: loss=0.156557, precision=0.707631, recall=0.437842, F1=0.540965\n"
     ]
    },
    {
     "name": "stderr",
     "output_type": "stream",
     "text": [
      "23718333it [04:09, 95168.25it/s] \n"
     ]
    },
    {
     "name": "stdout",
     "output_type": "stream",
     "text": [
      "train 4: loss=0.137961, precision=0.754986, recall=0.48534, F1=0.590852\n"
     ]
    },
    {
     "name": "stderr",
     "output_type": "stream",
     "text": [
      "\r",
      "0it [00:00, ?it/s]"
     ]
    },
    {
     "name": "stdout",
     "output_type": "stream",
     "text": [
      "dev 4: loss=0.157917, precision=0.689128, recall=0.458165, F1=0.550398\n"
     ]
    },
    {
     "name": "stderr",
     "output_type": "stream",
     "text": [
      "23718333it [04:08, 95304.86it/s] \n"
     ]
    },
    {
     "name": "stdout",
     "output_type": "stream",
     "text": [
      "train 5: loss=0.13282, precision=0.765011, recall=0.511791, F1=0.613292\n"
     ]
    },
    {
     "name": "stderr",
     "output_type": "stream",
     "text": [
      "\r",
      "0it [00:00, ?it/s]"
     ]
    },
    {
     "name": "stdout",
     "output_type": "stream",
     "text": [
      "dev 5: loss=0.160341, precision=0.683092, recall=0.460303, F1=0.549992\n"
     ]
    },
    {
     "name": "stderr",
     "output_type": "stream",
     "text": [
      "23718333it [04:08, 95419.21it/s] \n"
     ]
    },
    {
     "name": "stdout",
     "output_type": "stream",
     "text": [
      "train 6: loss=0.13005, precision=0.771252, recall=0.525087, F1=0.624797\n"
     ]
    },
    {
     "name": "stderr",
     "output_type": "stream",
     "text": [
      "\r",
      "0it [00:00, ?it/s]"
     ]
    },
    {
     "name": "stdout",
     "output_type": "stream",
     "text": [
      "dev 6: loss=0.162775, precision=0.673233, recall=0.46637, F1=0.551026\n"
     ]
    },
    {
     "name": "stderr",
     "output_type": "stream",
     "text": [
      "23718333it [04:08, 95428.81it/s] \n"
     ]
    },
    {
     "name": "stdout",
     "output_type": "stream",
     "text": [
      "train 7: loss=0.126893, precision=0.777464, recall=0.541115, F1=0.638108\n"
     ]
    },
    {
     "name": "stderr",
     "output_type": "stream",
     "text": [
      "\r",
      "0it [00:00, ?it/s]"
     ]
    },
    {
     "name": "stdout",
     "output_type": "stream",
     "text": [
      "dev 7: loss=0.164984, precision=0.677227, recall=0.462285, F1=0.549484\n"
     ]
    },
    {
     "name": "stderr",
     "output_type": "stream",
     "text": [
      "23718333it [04:08, 95413.82it/s] \n"
     ]
    },
    {
     "name": "stdout",
     "output_type": "stream",
     "text": [
      "train 8: loss=0.124738, precision=0.782073, recall=0.552399, F1=0.647472\n"
     ]
    },
    {
     "name": "stderr",
     "output_type": "stream",
     "text": [
      "\r",
      "0it [00:00, ?it/s]"
     ]
    },
    {
     "name": "stdout",
     "output_type": "stream",
     "text": [
      "dev 8: loss=0.16409, precision=0.669475, recall=0.471064, F1=0.553011\n"
     ]
    },
    {
     "name": "stderr",
     "output_type": "stream",
     "text": [
      "23718333it [04:08, 95456.64it/s] \n"
     ]
    },
    {
     "name": "stdout",
     "output_type": "stream",
     "text": [
      "train 9: loss=0.122373, precision=0.786348, recall=0.563903, F1=0.656802\n"
     ]
    },
    {
     "name": "stderr",
     "output_type": "stream",
     "text": [
      "\r",
      "0it [00:00, ?it/s]"
     ]
    },
    {
     "name": "stdout",
     "output_type": "stream",
     "text": [
      "dev 9: loss=0.165288, precision=0.667674, recall=0.47235, F1=0.553279\n"
     ]
    },
    {
     "name": "stderr",
     "output_type": "stream",
     "text": [
      "23718333it [04:08, 95437.27it/s] \n"
     ]
    },
    {
     "name": "stdout",
     "output_type": "stream",
     "text": [
      "train 10: loss=0.120855, precision=0.789439, recall=0.571339, F1=0.662911\n"
     ]
    },
    {
     "name": "stderr",
     "output_type": "stream",
     "text": [
      "\r",
      "0it [00:00, ?it/s]"
     ]
    },
    {
     "name": "stdout",
     "output_type": "stream",
     "text": [
      "dev 10: loss=0.169176, precision=0.664376, recall=0.468873, F1=0.549761\n"
     ]
    },
    {
     "name": "stderr",
     "output_type": "stream",
     "text": [
      "23718333it [04:08, 95359.66it/s] \n"
     ]
    },
    {
     "name": "stdout",
     "output_type": "stream",
     "text": [
      "train 11: loss=0.119521, precision=0.792041, recall=0.57768, F1=0.668087\n"
     ]
    },
    {
     "name": "stderr",
     "output_type": "stream",
     "text": [
      "\r",
      "0it [00:00, ?it/s]"
     ]
    },
    {
     "name": "stdout",
     "output_type": "stream",
     "text": [
      "dev 11: loss=0.170174, precision=0.666285, recall=0.464788, F1=0.547588\n"
     ]
    },
    {
     "name": "stderr",
     "output_type": "stream",
     "text": [
      "23718333it [04:08, 95373.60it/s] \n"
     ]
    },
    {
     "name": "stdout",
     "output_type": "stream",
     "text": [
      "train 12: loss=0.117297, precision=0.796467, recall=0.587422, F1=0.676156\n"
     ]
    },
    {
     "name": "stderr",
     "output_type": "stream",
     "text": [
      "\r",
      "0it [00:00, ?it/s]"
     ]
    },
    {
     "name": "stdout",
     "output_type": "stream",
     "text": [
      "dev 12: loss=0.170753, precision=0.663979, recall=0.47388, F1=0.55305\n"
     ]
    },
    {
     "name": "stderr",
     "output_type": "stream",
     "text": [
      "23718333it [04:08, 95454.72it/s] \n"
     ]
    },
    {
     "name": "stdout",
     "output_type": "stream",
     "text": [
      "train 13: loss=0.116077, precision=0.798201, recall=0.593398, F1=0.680729\n"
     ]
    },
    {
     "name": "stderr",
     "output_type": "stream",
     "text": [
      "\r",
      "0it [00:00, ?it/s]"
     ]
    },
    {
     "name": "stdout",
     "output_type": "stream",
     "text": [
      "dev 13: loss=0.173182, precision=0.661426, recall=0.469551, F1=0.549213\n"
     ]
    },
    {
     "name": "stderr",
     "output_type": "stream",
     "text": [
      "23718333it [04:08, 95321.76it/s] \n"
     ]
    },
    {
     "name": "stdout",
     "output_type": "stream",
     "text": [
      "train 14: loss=0.11548, precision=0.799365, recall=0.596576, F1=0.683241\n"
     ]
    },
    {
     "name": "stderr",
     "output_type": "stream",
     "text": [
      "\r",
      "0it [00:00, ?it/s]"
     ]
    },
    {
     "name": "stdout",
     "output_type": "stream",
     "text": [
      "dev 14: loss=0.173429, precision=0.664465, recall=0.473845, F1=0.553195\n"
     ]
    },
    {
     "name": "stderr",
     "output_type": "stream",
     "text": [
      "23718333it [04:09, 95162.61it/s] \n"
     ]
    },
    {
     "name": "stdout",
     "output_type": "stream",
     "text": [
      "train 15: loss=0.11462, precision=0.801129, recall=0.601278, F1=0.686964\n"
     ]
    },
    {
     "name": "stderr",
     "output_type": "stream",
     "text": [
      "\r",
      "0it [00:00, ?it/s]"
     ]
    },
    {
     "name": "stdout",
     "output_type": "stream",
     "text": [
      "dev 15: loss=0.17376, precision=0.664581, recall=0.463415, F1=0.54606\n"
     ]
    },
    {
     "name": "stderr",
     "output_type": "stream",
     "text": [
      "23718333it [04:08, 95315.73it/s] \n"
     ]
    },
    {
     "name": "stdout",
     "output_type": "stream",
     "text": [
      "train 16: loss=0.113739, precision=0.802275, recall=0.6048, F1=0.68968\n"
     ]
    },
    {
     "name": "stderr",
     "output_type": "stream",
     "text": [
      "\r",
      "0it [00:00, ?it/s]"
     ]
    },
    {
     "name": "stdout",
     "output_type": "stream",
     "text": [
      "dev 16: loss=0.174748, precision=0.652199, recall=0.478035, F1=0.551698\n"
     ]
    },
    {
     "name": "stderr",
     "output_type": "stream",
     "text": [
      "23718333it [04:10, 94856.42it/s] \n"
     ]
    },
    {
     "name": "stdout",
     "output_type": "stream",
     "text": [
      "train 17: loss=0.111992, precision=0.805573, recall=0.612821, F1=0.6961\n"
     ]
    },
    {
     "name": "stderr",
     "output_type": "stream",
     "text": [
      "\r",
      "0it [00:00, ?it/s]"
     ]
    },
    {
     "name": "stdout",
     "output_type": "stream",
     "text": [
      "dev 17: loss=0.17467, precision=0.644614, recall=0.4885, F1=0.555803\n"
     ]
    },
    {
     "name": "stderr",
     "output_type": "stream",
     "text": [
      "23718333it [04:08, 95391.45it/s] \n"
     ]
    },
    {
     "name": "stdout",
     "output_type": "stream",
     "text": [
      "train 18: loss=0.110395, precision=0.808361, recall=0.619301, F1=0.701313\n"
     ]
    },
    {
     "name": "stderr",
     "output_type": "stream",
     "text": [
      "\r",
      "0it [00:00, ?it/s]"
     ]
    },
    {
     "name": "stdout",
     "output_type": "stream",
     "text": [
      "dev 18: loss=0.175401, precision=0.650733, recall=0.47687, F1=0.550398\n"
     ]
    },
    {
     "name": "stderr",
     "output_type": "stream",
     "text": [
      "23718333it [04:08, 95296.16it/s] \n"
     ]
    },
    {
     "name": "stdout",
     "output_type": "stream",
     "text": [
      "train 19: loss=0.10928, precision=0.81064, recall=0.625211, F1=0.705952\n"
     ]
    },
    {
     "name": "stderr",
     "output_type": "stream",
     "text": [
      "\r",
      "0it [00:00, ?it/s]"
     ]
    },
    {
     "name": "stdout",
     "output_type": "stream",
     "text": [
      "dev 19: loss=0.177881, precision=0.633372, recall=0.495836, F1=0.556228\n"
     ]
    },
    {
     "name": "stderr",
     "output_type": "stream",
     "text": [
      "23718333it [04:08, 95415.83it/s] \n"
     ]
    },
    {
     "name": "stdout",
     "output_type": "stream",
     "text": [
      "train 20: loss=0.108294, precision=0.812461, recall=0.62898, F1=0.709043\n"
     ]
    },
    {
     "name": "stderr",
     "output_type": "stream",
     "text": [
      "\r",
      "0it [00:00, ?it/s]"
     ]
    },
    {
     "name": "stdout",
     "output_type": "stream",
     "text": [
      "dev 20: loss=0.178441, precision=0.633572, recall=0.505311, F1=0.562219\n"
     ]
    },
    {
     "name": "stderr",
     "output_type": "stream",
     "text": [
      "23718333it [04:08, 95401.78it/s] \n"
     ]
    },
    {
     "name": "stdout",
     "output_type": "stream",
     "text": [
      "train 21: loss=0.107241, precision=0.815018, recall=0.633614, F1=0.712958\n"
     ]
    },
    {
     "name": "stderr",
     "output_type": "stream",
     "text": [
      "\r",
      "0it [00:00, ?it/s]"
     ]
    },
    {
     "name": "stdout",
     "output_type": "stream",
     "text": [
      "dev 21: loss=0.178902, precision=0.644973, recall=0.487909, F1=0.555553\n"
     ]
    },
    {
     "name": "stderr",
     "output_type": "stream",
     "text": [
      "23718333it [04:08, 95418.65it/s] \n"
     ]
    },
    {
     "name": "stdout",
     "output_type": "stream",
     "text": [
      "train 22: loss=0.106635, precision=0.815607, recall=0.636242, F1=0.714845\n"
     ]
    },
    {
     "name": "stderr",
     "output_type": "stream",
     "text": [
      "\r",
      "0it [00:00, ?it/s]"
     ]
    },
    {
     "name": "stdout",
     "output_type": "stream",
     "text": [
      "dev 22: loss=0.178093, precision=0.645326, recall=0.486449, F1=0.554736\n"
     ]
    },
    {
     "name": "stderr",
     "output_type": "stream",
     "text": [
      "23718333it [04:08, 95427.77it/s] \n"
     ]
    },
    {
     "name": "stdout",
     "output_type": "stream",
     "text": [
      "train 23: loss=0.106449, precision=0.816215, recall=0.637426, F1=0.715825\n"
     ]
    },
    {
     "name": "stderr",
     "output_type": "stream",
     "text": [
      "\r",
      "0it [00:00, ?it/s]"
     ]
    },
    {
     "name": "stdout",
     "output_type": "stream",
     "text": [
      "dev 23: loss=0.180715, precision=0.63952, recall=0.488309, F1=0.553778\n"
     ]
    },
    {
     "name": "stderr",
     "output_type": "stream",
     "text": [
      "23718333it [04:09, 95235.99it/s] \n"
     ]
    },
    {
     "name": "stdout",
     "output_type": "stream",
     "text": [
      "train 24: loss=0.105331, precision=0.817934, recall=0.642061, F1=0.719404\n"
     ]
    },
    {
     "name": "stderr",
     "output_type": "stream",
     "text": [
      "\r",
      "0it [00:00, ?it/s]"
     ]
    },
    {
     "name": "stdout",
     "output_type": "stream",
     "text": [
      "dev 24: loss=0.18362, precision=0.636785, recall=0.494811, F1=0.556891\n"
     ]
    },
    {
     "name": "stderr",
     "output_type": "stream",
     "text": [
      "23718333it [04:08, 95307.35it/s] \n"
     ]
    },
    {
     "name": "stdout",
     "output_type": "stream",
     "text": [
      "train 25: loss=0.105876, precision=0.81676, recall=0.639498, F1=0.717341\n"
     ]
    },
    {
     "name": "stderr",
     "output_type": "stream",
     "text": [
      "\r",
      "0it [00:00, ?it/s]"
     ]
    },
    {
     "name": "stdout",
     "output_type": "stream",
     "text": [
      "dev 25: loss=0.178752, precision=0.632977, recall=0.495593, F1=0.555923\n"
     ]
    },
    {
     "name": "stderr",
     "output_type": "stream",
     "text": [
      "23718333it [04:08, 95388.16it/s] \n"
     ]
    },
    {
     "name": "stdout",
     "output_type": "stream",
     "text": [
      "train 26: loss=0.105683, precision=0.816822, recall=0.641006, F1=0.718312\n"
     ]
    },
    {
     "name": "stderr",
     "output_type": "stream",
     "text": [
      "\r",
      "0it [00:00, ?it/s]"
     ]
    },
    {
     "name": "stdout",
     "output_type": "stream",
     "text": [
      "dev 26: loss=0.181935, precision=0.636727, recall=0.492707, F1=0.555535\n"
     ]
    },
    {
     "name": "stderr",
     "output_type": "stream",
     "text": [
      "23718333it [04:08, 95337.03it/s] \n"
     ]
    },
    {
     "name": "stdout",
     "output_type": "stream",
     "text": [
      "train 27: loss=0.106646, precision=0.814877, recall=0.636728, F1=0.714871\n"
     ]
    },
    {
     "name": "stderr",
     "output_type": "stream",
     "text": [
      "\r",
      "0it [00:00, ?it/s]"
     ]
    },
    {
     "name": "stdout",
     "output_type": "stream",
     "text": [
      "dev 27: loss=0.181296, precision=0.647585, recall=0.479652, F1=0.551109\n"
     ]
    },
    {
     "name": "stderr",
     "output_type": "stream",
     "text": [
      "23718333it [04:08, 95290.23it/s] \n"
     ]
    },
    {
     "name": "stdout",
     "output_type": "stream",
     "text": [
      "train 28: loss=0.106161, precision=0.815518, recall=0.638781, F1=0.71641\n"
     ]
    },
    {
     "name": "stderr",
     "output_type": "stream",
     "text": [
      "\r",
      "0it [00:00, ?it/s]"
     ]
    },
    {
     "name": "stdout",
     "output_type": "stream",
     "text": [
      "dev 28: loss=0.183078, precision=0.638891, recall=0.486518, F1=0.55239\n"
     ]
    },
    {
     "name": "stderr",
     "output_type": "stream",
     "text": [
      "23718333it [04:10, 94804.94it/s] \n"
     ]
    },
    {
     "name": "stdout",
     "output_type": "stream",
     "text": [
      "train 29: loss=0.105212, precision=0.817753, recall=0.642603, F1=0.719674\n"
     ]
    },
    {
     "name": "stderr",
     "output_type": "stream",
     "text": [
      "\r",
      "0it [00:00, ?it/s]"
     ]
    },
    {
     "name": "stdout",
     "output_type": "stream",
     "text": [
      "dev 29: loss=0.185162, precision=0.642317, recall=0.479825, F1=0.549306\n"
     ]
    },
    {
     "name": "stderr",
     "output_type": "stream",
     "text": [
      "23718333it [04:09, 95206.12it/s] \n"
     ]
    },
    {
     "name": "stdout",
     "output_type": "stream",
     "text": [
      "train 30: loss=0.105771, precision=0.81585, recall=0.640381, F1=0.717544\n"
     ]
    },
    {
     "name": "stderr",
     "output_type": "stream",
     "text": [
      "\r",
      "0it [00:00, ?it/s]"
     ]
    },
    {
     "name": "stdout",
     "output_type": "stream",
     "text": [
      "dev 30: loss=0.186464, precision=0.639685, recall=0.479061, F1=0.547842\n"
     ]
    },
    {
     "name": "stderr",
     "output_type": "stream",
     "text": [
      "23718333it [04:09, 95227.58it/s] \n"
     ]
    },
    {
     "name": "stdout",
     "output_type": "stream",
     "text": [
      "train 31: loss=0.106827, precision=0.813507, recall=0.636084, F1=0.713938\n"
     ]
    },
    {
     "name": "stderr",
     "output_type": "stream",
     "text": [
      "\r",
      "0it [00:00, ?it/s]"
     ]
    },
    {
     "name": "stdout",
     "output_type": "stream",
     "text": [
      "dev 31: loss=0.185132, precision=0.654055, recall=0.471811, F1=0.548183\n"
     ]
    },
    {
     "name": "stderr",
     "output_type": "stream",
     "text": [
      "23718333it [04:09, 95207.40it/s] \n"
     ]
    },
    {
     "name": "stdout",
     "output_type": "stream",
     "text": [
      "train 32: loss=0.105785, precision=0.815672, recall=0.640595, F1=0.71761\n"
     ]
    },
    {
     "name": "stderr",
     "output_type": "stream",
     "text": [
      "\r",
      "0it [00:00, ?it/s]"
     ]
    },
    {
     "name": "stdout",
     "output_type": "stream",
     "text": [
      "dev 32: loss=0.186371, precision=0.643258, recall=0.478191, F1=0.548577\n"
     ]
    },
    {
     "name": "stderr",
     "output_type": "stream",
     "text": [
      "23718333it [04:08, 95308.60it/s] \n"
     ]
    },
    {
     "name": "stdout",
     "output_type": "stream",
     "text": [
      "train 33: loss=0.105267, precision=0.816822, recall=0.643249, F1=0.719718\n"
     ]
    },
    {
     "name": "stderr",
     "output_type": "stream",
     "text": [
      "\r",
      "0it [00:00, ?it/s]"
     ]
    },
    {
     "name": "stdout",
     "output_type": "stream",
     "text": [
      "dev 33: loss=0.183821, precision=0.652554, recall=0.472385, F1=0.548042\n"
     ]
    },
    {
     "name": "stderr",
     "output_type": "stream",
     "text": [
      "23718333it [04:08, 95318.11it/s] \n"
     ]
    },
    {
     "name": "stdout",
     "output_type": "stream",
     "text": [
      "train 34: loss=0.104493, precision=0.818492, recall=0.647023, F1=0.722726\n"
     ]
    },
    {
     "name": "stderr",
     "output_type": "stream",
     "text": [
      "\r",
      "0it [00:00, ?it/s]"
     ]
    },
    {
     "name": "stdout",
     "output_type": "stream",
     "text": [
      "dev 34: loss=0.184114, precision=0.636125, recall=0.480608, F1=0.547538\n"
     ]
    },
    {
     "name": "stderr",
     "output_type": "stream",
     "text": [
      "23718333it [04:09, 95021.10it/s] \n"
     ]
    },
    {
     "name": "stdout",
     "output_type": "stream",
     "text": [
      "train 35: loss=0.103887, precision=0.819437, recall=0.648283, F1=0.723881\n"
     ]
    },
    {
     "name": "stderr",
     "output_type": "stream",
     "text": [
      "\r",
      "0it [00:00, ?it/s]"
     ]
    },
    {
     "name": "stdout",
     "output_type": "stream",
     "text": [
      "dev 35: loss=0.188456, precision=0.656377, recall=0.466127, F1=0.545129\n"
     ]
    },
    {
     "name": "stderr",
     "output_type": "stream",
     "text": [
      "23718333it [04:09, 95229.32it/s] \n"
     ]
    },
    {
     "name": "stdout",
     "output_type": "stream",
     "text": [
      "train 36: loss=0.104309, precision=0.818493, recall=0.647002, F1=0.722713\n"
     ]
    },
    {
     "name": "stderr",
     "output_type": "stream",
     "text": [
      "\r",
      "0it [00:00, ?it/s]"
     ]
    },
    {
     "name": "stdout",
     "output_type": "stream",
     "text": [
      "dev 36: loss=0.184156, precision=0.634838, recall=0.489126, F1=0.552537\n"
     ]
    },
    {
     "name": "stderr",
     "output_type": "stream",
     "text": [
      "23718333it [04:08, 95359.46it/s] \n"
     ]
    },
    {
     "name": "stdout",
     "output_type": "stream",
     "text": [
      "train 37: loss=0.103874, precision=0.818799, recall=0.648972, F1=0.724061\n"
     ]
    },
    {
     "name": "stderr",
     "output_type": "stream",
     "text": [
      "\r",
      "0it [00:00, ?it/s]"
     ]
    },
    {
     "name": "stdout",
     "output_type": "stream",
     "text": [
      "dev 37: loss=0.188961, precision=0.634378, recall=0.487162, F1=0.551108\n"
     ]
    },
    {
     "name": "stderr",
     "output_type": "stream",
     "text": [
      "23718333it [04:08, 95322.52it/s] \n"
     ]
    },
    {
     "name": "stdout",
     "output_type": "stream",
     "text": [
      "train 38: loss=0.103345, precision=0.819485, recall=0.651167, F1=0.725694\n"
     ]
    },
    {
     "name": "stderr",
     "output_type": "stream",
     "text": [
      "\r",
      "0it [00:00, ?it/s]"
     ]
    },
    {
     "name": "stdout",
     "output_type": "stream",
     "text": [
      "dev 38: loss=0.189267, precision=0.650531, recall=0.463502, F1=0.541316\n"
     ]
    },
    {
     "name": "stderr",
     "output_type": "stream",
     "text": [
      "23718333it [04:09, 95235.20it/s] \n"
     ]
    },
    {
     "name": "stdout",
     "output_type": "stream",
     "text": [
      "train 39: loss=0.10357, precision=0.819314, recall=0.650426, F1=0.725167\n"
     ]
    },
    {
     "name": "stderr",
     "output_type": "stream",
     "text": [
      "\r",
      "0it [00:00, ?it/s]"
     ]
    },
    {
     "name": "stdout",
     "output_type": "stream",
     "text": [
      "dev 39: loss=0.185919, precision=0.642537, recall=0.483285, F1=0.551648\n"
     ]
    },
    {
     "name": "stderr",
     "output_type": "stream",
     "text": [
      "23718333it [04:08, 95255.94it/s] \n"
     ]
    },
    {
     "name": "stdout",
     "output_type": "stream",
     "text": [
      "train 40: loss=0.103595, precision=0.819653, recall=0.650096, F1=0.725094\n"
     ]
    },
    {
     "name": "stderr",
     "output_type": "stream",
     "text": [
      "\r",
      "0it [00:00, ?it/s]"
     ]
    },
    {
     "name": "stdout",
     "output_type": "stream",
     "text": [
      "dev 40: loss=0.185958, precision=0.649841, recall=0.47581, F1=0.549372\n"
     ]
    },
    {
     "name": "stderr",
     "output_type": "stream",
     "text": [
      "23718333it [04:09, 95250.32it/s] \n"
     ]
    },
    {
     "name": "stdout",
     "output_type": "stream",
     "text": [
      "train 41: loss=0.103745, precision=0.818674, recall=0.649897, F1=0.724587\n"
     ]
    },
    {
     "name": "stderr",
     "output_type": "stream",
     "text": [
      "\r",
      "0it [00:00, ?it/s]"
     ]
    },
    {
     "name": "stdout",
     "output_type": "stream",
     "text": [
      "dev 41: loss=0.186373, precision=0.637553, recall=0.479547, F1=0.547376\n"
     ]
    },
    {
     "name": "stderr",
     "output_type": "stream",
     "text": [
      "23718333it [04:08, 95272.38it/s] \n"
     ]
    },
    {
     "name": "stdout",
     "output_type": "stream",
     "text": [
      "train 42: loss=0.104189, precision=0.818138, recall=0.647485, F1=0.722876\n"
     ]
    },
    {
     "name": "stderr",
     "output_type": "stream",
     "text": [
      "\r",
      "0it [00:00, ?it/s]"
     ]
    },
    {
     "name": "stdout",
     "output_type": "stream",
     "text": [
      "dev 42: loss=0.191498, precision=0.654708, recall=0.461902, F1=0.541659\n"
     ]
    },
    {
     "name": "stderr",
     "output_type": "stream",
     "text": [
      "23718333it [04:08, 95260.54it/s] \n"
     ]
    },
    {
     "name": "stdout",
     "output_type": "stream",
     "text": [
      "train 43: loss=0.105205, precision=0.816093, recall=0.643965, F1=0.719883\n"
     ]
    },
    {
     "name": "stderr",
     "output_type": "stream",
     "text": [
      "\r",
      "0it [00:00, ?it/s]"
     ]
    },
    {
     "name": "stdout",
     "output_type": "stream",
     "text": [
      "dev 43: loss=0.186359, precision=0.637884, recall=0.485441, F1=0.551318\n"
     ]
    },
    {
     "name": "stderr",
     "output_type": "stream",
     "text": [
      "23718333it [04:09, 95039.84it/s] \n"
     ]
    },
    {
     "name": "stdout",
     "output_type": "stream",
     "text": [
      "train 44: loss=0.105139, precision=0.815333, recall=0.64362, F1=0.719372\n"
     ]
    },
    {
     "name": "stderr",
     "output_type": "stream",
     "text": [
      "\r",
      "0it [00:00, ?it/s]"
     ]
    },
    {
     "name": "stdout",
     "output_type": "stream",
     "text": [
      "dev 44: loss=0.187063, precision=0.641728, recall=0.469847, F1=0.542498\n"
     ]
    },
    {
     "name": "stderr",
     "output_type": "stream",
     "text": [
      "23718333it [04:09, 95234.48it/s] \n"
     ]
    },
    {
     "name": "stdout",
     "output_type": "stream",
     "text": [
      "train 45: loss=0.105831, precision=0.814523, recall=0.640787, F1=0.717285\n"
     ]
    },
    {
     "name": "stderr",
     "output_type": "stream",
     "text": [
      "\r",
      "0it [00:00, ?it/s]"
     ]
    },
    {
     "name": "stdout",
     "output_type": "stream",
     "text": [
      "dev 45: loss=0.185802, precision=0.637673, recall=0.484815, F1=0.550836\n"
     ]
    },
    {
     "name": "stderr",
     "output_type": "stream",
     "text": [
      "23718333it [04:09, 95246.48it/s] \n"
     ]
    },
    {
     "name": "stdout",
     "output_type": "stream",
     "text": [
      "train 46: loss=0.106355, precision=0.813437, recall=0.638646, F1=0.715521\n"
     ]
    },
    {
     "name": "stderr",
     "output_type": "stream",
     "text": [
      "\r",
      "0it [00:00, ?it/s]"
     ]
    },
    {
     "name": "stdout",
     "output_type": "stream",
     "text": [
      "dev 46: loss=0.186134, precision=0.639452, recall=0.480364, F1=0.548608\n"
     ]
    },
    {
     "name": "stderr",
     "output_type": "stream",
     "text": [
      "23718333it [04:09, 95126.74it/s] \n"
     ]
    },
    {
     "name": "stdout",
     "output_type": "stream",
     "text": [
      "train 47: loss=0.105902, precision=0.813926, recall=0.640322, F1=0.716762\n"
     ]
    },
    {
     "name": "stderr",
     "output_type": "stream",
     "text": [
      "\r",
      "0it [00:00, ?it/s]"
     ]
    },
    {
     "name": "stdout",
     "output_type": "stream",
     "text": [
      "dev 47: loss=0.187906, precision=0.633963, recall=0.478191, F1=0.545168\n"
     ]
    },
    {
     "name": "stderr",
     "output_type": "stream",
     "text": [
      "23718333it [04:09, 95205.41it/s] \n"
     ]
    },
    {
     "name": "stdout",
     "output_type": "stream",
     "text": [
      "train 48: loss=0.105291, precision=0.815542, recall=0.643355, F1=0.719287\n"
     ]
    },
    {
     "name": "stderr",
     "output_type": "stream",
     "text": [
      "\r",
      "0it [00:00, ?it/s]"
     ]
    },
    {
     "name": "stdout",
     "output_type": "stream",
     "text": [
      "dev 48: loss=0.185183, precision=0.639192, recall=0.476835, F1=0.546204\n"
     ]
    },
    {
     "name": "stderr",
     "output_type": "stream",
     "text": [
      "23718333it [04:09, 95158.47it/s] \n"
     ]
    },
    {
     "name": "stdout",
     "output_type": "stream",
     "text": [
      "train 49: loss=0.106053, precision=0.814239, recall=0.640478, F1=0.716981\n"
     ]
    },
    {
     "name": "stderr",
     "output_type": "stream",
     "text": [
      "\r",
      "0it [00:00, ?it/s]"
     ]
    },
    {
     "name": "stdout",
     "output_type": "stream",
     "text": [
      "dev 49: loss=0.183132, precision=0.646533, recall=0.471916, F1=0.545593\n"
     ]
    },
    {
     "name": "stderr",
     "output_type": "stream",
     "text": [
      "23718333it [04:09, 95107.47it/s] \n"
     ]
    },
    {
     "name": "stdout",
     "output_type": "stream",
     "text": [
      "train 50: loss=0.107939, precision=0.810317, recall=0.632393, F1=0.710384\n"
     ]
    },
    {
     "name": "stderr",
     "output_type": "stream",
     "text": [
      "\r",
      "0it [00:00, ?it/s]"
     ]
    },
    {
     "name": "stdout",
     "output_type": "stream",
     "text": [
      "dev 50: loss=0.182128, precision=0.64335, recall=0.471672, F1=0.544295\n"
     ]
    },
    {
     "name": "stderr",
     "output_type": "stream",
     "text": [
      "23718333it [04:09, 95117.99it/s] \n"
     ]
    },
    {
     "name": "stdout",
     "output_type": "stream",
     "text": [
      "train 51: loss=0.107059, precision=0.811653, recall=0.635679, F1=0.712968\n"
     ]
    },
    {
     "name": "stderr",
     "output_type": "stream",
     "text": [
      "\r",
      "0it [00:00, ?it/s]"
     ]
    },
    {
     "name": "stdout",
     "output_type": "stream",
     "text": [
      "dev 51: loss=0.184172, precision=0.629897, recall=0.484137, F1=0.547481\n"
     ]
    },
    {
     "name": "stderr",
     "output_type": "stream",
     "text": [
      "23718333it [04:09, 95164.37it/s] \n"
     ]
    },
    {
     "name": "stdout",
     "output_type": "stream",
     "text": [
      "train 52: loss=0.107213, precision=0.811124, recall=0.634993, F1=0.712333\n"
     ]
    },
    {
     "name": "stderr",
     "output_type": "stream",
     "text": [
      "\r",
      "0it [00:00, ?it/s]"
     ]
    },
    {
     "name": "stdout",
     "output_type": "stream",
     "text": [
      "dev 52: loss=0.183883, precision=0.644973, recall=0.47016, F1=0.543864\n"
     ]
    },
    {
     "name": "stderr",
     "output_type": "stream",
     "text": [
      "23718333it [04:09, 95148.84it/s] \n"
     ]
    },
    {
     "name": "stdout",
     "output_type": "stream",
     "text": [
      "train 53: loss=0.1064, precision=0.813463, recall=0.639112, F1=0.715824\n"
     ]
    },
    {
     "name": "stderr",
     "output_type": "stream",
     "text": [
      "\r",
      "0it [00:00, ?it/s]"
     ]
    },
    {
     "name": "stdout",
     "output_type": "stream",
     "text": [
      "dev 53: loss=0.18827, precision=0.634926, recall=0.482207, F1=0.548128\n"
     ]
    },
    {
     "name": "stderr",
     "output_type": "stream",
     "text": [
      "23718333it [04:09, 95169.68it/s] \n"
     ]
    },
    {
     "name": "stdout",
     "output_type": "stream",
     "text": [
      "train 54: loss=0.106742, precision=0.812098, recall=0.637059, F1=0.714007\n"
     ]
    },
    {
     "name": "stderr",
     "output_type": "stream",
     "text": [
      "\r",
      "0it [00:00, ?it/s]"
     ]
    },
    {
     "name": "stdout",
     "output_type": "stream",
     "text": [
      "dev 54: loss=0.183684, precision=0.639552, recall=0.48591, F1=0.552244\n"
     ]
    },
    {
     "name": "stderr",
     "output_type": "stream",
     "text": [
      "23718333it [04:09, 95175.90it/s] \n"
     ]
    },
    {
     "name": "stdout",
     "output_type": "stream",
     "text": [
      "train 55: loss=0.106466, precision=0.812908, recall=0.638593, F1=0.715284\n"
     ]
    },
    {
     "name": "stderr",
     "output_type": "stream",
     "text": [
      "\r",
      "0it [00:00, ?it/s]"
     ]
    },
    {
     "name": "stdout",
     "output_type": "stream",
     "text": [
      "dev 55: loss=0.185309, precision=0.642329, recall=0.476105, F1=0.546865\n"
     ]
    },
    {
     "name": "stderr",
     "output_type": "stream",
     "text": [
      "23718333it [04:09, 95151.87it/s] \n"
     ]
    },
    {
     "name": "stdout",
     "output_type": "stream",
     "text": [
      "train 56: loss=0.106887, precision=0.812331, recall=0.63688, F1=0.713985\n"
     ]
    },
    {
     "name": "stderr",
     "output_type": "stream",
     "text": [
      "\r",
      "0it [00:00, ?it/s]"
     ]
    },
    {
     "name": "stdout",
     "output_type": "stream",
     "text": [
      "dev 56: loss=0.187657, precision=0.633516, recall=0.478504, F1=0.545206\n"
     ]
    },
    {
     "name": "stderr",
     "output_type": "stream",
     "text": [
      "23718333it [04:09, 95088.69it/s] \n"
     ]
    },
    {
     "name": "stdout",
     "output_type": "stream",
     "text": [
      "train 57: loss=0.107181, precision=0.811814, recall=0.636495, F1=0.713543\n"
     ]
    },
    {
     "name": "stderr",
     "output_type": "stream",
     "text": [
      "\r",
      "0it [00:00, ?it/s]"
     ]
    },
    {
     "name": "stdout",
     "output_type": "stream",
     "text": [
      "dev 57: loss=0.185041, precision=0.647217, recall=0.469534, F1=0.54424\n"
     ]
    },
    {
     "name": "stderr",
     "output_type": "stream",
     "text": [
      "23718333it [04:09, 94894.55it/s] \n"
     ]
    },
    {
     "name": "stdout",
     "output_type": "stream",
     "text": [
      "train 58: loss=0.106277, precision=0.812989, recall=0.639453, F1=0.715854\n"
     ]
    },
    {
     "name": "stderr",
     "output_type": "stream",
     "text": [
      "\r",
      "0it [00:00, ?it/s]"
     ]
    },
    {
     "name": "stdout",
     "output_type": "stream",
     "text": [
      "dev 58: loss=0.187604, precision=0.641275, recall=0.476662, F1=0.546849\n"
     ]
    },
    {
     "name": "stderr",
     "output_type": "stream",
     "text": [
      "23718333it [04:09, 95127.47it/s] \n"
     ]
    },
    {
     "name": "stdout",
     "output_type": "stream",
     "text": [
      "train 59: loss=0.105694, precision=0.814142, recall=0.641855, F1=0.717805\n"
     ]
    },
    {
     "name": "stderr",
     "output_type": "stream",
     "text": [
      "\r",
      "0it [00:00, ?it/s]"
     ]
    },
    {
     "name": "stdout",
     "output_type": "stream",
     "text": [
      "dev 59: loss=0.18914, precision=0.633257, recall=0.482624, F1=0.547774\n"
     ]
    },
    {
     "name": "stderr",
     "output_type": "stream",
     "text": [
      "23718333it [04:09, 95122.13it/s] \n"
     ]
    },
    {
     "name": "stdout",
     "output_type": "stream",
     "text": [
      "train 60: loss=0.105968, precision=0.813535, recall=0.640471, F1=0.716703\n"
     ]
    },
    {
     "name": "stderr",
     "output_type": "stream",
     "text": [
      "\r",
      "0it [00:00, ?it/s]"
     ]
    },
    {
     "name": "stdout",
     "output_type": "stream",
     "text": [
      "dev 60: loss=0.186023, precision=0.641958, recall=0.476957, F1=0.547292\n"
     ]
    },
    {
     "name": "stderr",
     "output_type": "stream",
     "text": [
      "23718333it [04:09, 95145.35it/s] \n"
     ]
    },
    {
     "name": "stdout",
     "output_type": "stream",
     "text": [
      "train 61: loss=0.106478, precision=0.812617, recall=0.637755, F1=0.714645\n"
     ]
    },
    {
     "name": "stderr",
     "output_type": "stream",
     "text": [
      "\r",
      "0it [00:00, ?it/s]"
     ]
    },
    {
     "name": "stdout",
     "output_type": "stream",
     "text": [
      "dev 61: loss=0.184513, precision=0.658276, recall=0.457347, F1=0.539718\n"
     ]
    },
    {
     "name": "stderr",
     "output_type": "stream",
     "text": [
      "23718333it [04:16, 92610.74it/s] \n"
     ]
    },
    {
     "name": "stdout",
     "output_type": "stream",
     "text": [
      "train 62: loss=0.107474, precision=0.810831, recall=0.634501, F1=0.71191\n"
     ]
    },
    {
     "name": "stderr",
     "output_type": "stream",
     "text": [
      "\r",
      "0it [00:00, ?it/s]"
     ]
    },
    {
     "name": "stdout",
     "output_type": "stream",
     "text": [
      "dev 62: loss=0.187137, precision=0.637214, recall=0.479547, F1=0.547251\n"
     ]
    },
    {
     "name": "stderr",
     "output_type": "stream",
     "text": [
      "12191419it [02:08, 94210.27it/s] "
     ]
    }
   ],
   "source": [
    "num_epochs = 100\n",
    "\n",
    "for epoch in range(num_epochs):\n",
    "    result = evaluate_dataset('../data/simplewiki/simplewiki-20171103.entity_recognition.train.tfrecords',\n",
    "                              header='train %d' % epoch,\n",
    "                              train=True,\n",
    "                              show_progress=True)\n",
    "    result = evaluate_dataset('../data/simplewiki/simplewiki-20171103.entity_recognition.dev.tfrecords',\n",
    "                              header='dev %d' % epoch,\n",
    "                              train=False,\n",
    "                              show_progress=False)"
   ]
  },
  {
   "cell_type": "code",
   "execution_count": null,
   "metadata": {},
   "outputs": [],
   "source": []
  }
 ],
 "metadata": {
  "kernelspec": {
   "display_name": "Python 3",
   "language": "python",
   "name": "python3"
  },
  "language_info": {
   "codemirror_mode": {
    "name": "ipython",
    "version": 3
   },
   "file_extension": ".py",
   "mimetype": "text/x-python",
   "name": "python",
   "nbconvert_exporter": "python",
   "pygments_lexer": "ipython3",
   "version": "3.5.4"
  }
 },
 "nbformat": 4,
 "nbformat_minor": 2
}
