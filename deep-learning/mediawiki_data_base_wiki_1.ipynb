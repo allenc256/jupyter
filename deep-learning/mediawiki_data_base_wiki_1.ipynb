{
 "cells": [
  {
   "cell_type": "markdown",
   "metadata": {},
   "source": [
    "TODO: handle disambiguation pages"
   ]
  },
  {
   "cell_type": "code",
   "execution_count": 1,
   "metadata": {},
   "outputs": [],
   "source": [
    "from lxml import etree\n",
    "import lxml.html\n",
    "import wikitextparser as wtp\n",
    "import nltk.data\n",
    "import re\n",
    "import json\n",
    "import gzip\n",
    "from tqdm import tqdm_notebook\n",
    "from collections import defaultdict"
   ]
  },
  {
   "cell_type": "code",
   "execution_count": 2,
   "metadata": {},
   "outputs": [],
   "source": [
    "with gzip.open('../data/simplewiki/simplewiki-20171103-pages-meta-current.xml.gz', 'rt', 'utf-8') as f:\n",
    "    tree = etree.parse(f)"
   ]
  },
  {
   "cell_type": "code",
   "execution_count": 3,
   "metadata": {},
   "outputs": [],
   "source": [
    "namespaces = {\n",
    "    'mediawiki': 'http://www.mediawiki.org/xml/export-0.10/'\n",
    "}"
   ]
  },
  {
   "cell_type": "code",
   "execution_count": 4,
   "metadata": {},
   "outputs": [
    {
     "data": {
      "text/plain": [
       "('Shell (weapons)',\n",
       " '0',\n",
       " [<Element {http://www.mediawiki.org/xml/export-0.10/}redirect at 0x7fe3198f6f08>])"
      ]
     },
     "execution_count": 4,
     "metadata": {},
     "output_type": "execute_result"
    }
   ],
   "source": [
    "index = 200000\n",
    "page = tree.xpath('mediawiki:page[%d]' % index, namespaces = namespaces)[0]\n",
    "redirect = tree.xpath('mediawiki:page[%d]/mediawiki:redirect' % index, namespaces = namespaces)\n",
    "ns = tree.xpath('mediawiki:page[%d]/mediawiki:ns' % index, namespaces = namespaces)\n",
    "title = tree.xpath('mediawiki:page[%d]/mediawiki:title' % index, namespaces = namespaces)[0].text\n",
    "text = tree.xpath('mediawiki:page[%d]/mediawiki:revision/mediawiki:text' % index, namespaces = namespaces)[0].text\n",
    "title, ns[0].text, redirect"
   ]
  },
  {
   "cell_type": "code",
   "execution_count": 5,
   "metadata": {},
   "outputs": [],
   "source": [
    "def parse(title, raw_text):\n",
    "    keep_tags = {'i','p','u','b','tt'}\n",
    "    wiki_text = wtp.parse(raw_text)\n",
    "    regions = []\n",
    "    strs = []\n",
    "    links = {}\n",
    "    offset = 0\n",
    "    \n",
    "    for l in wiki_text.wikilinks:\n",
    "        span = l.span\n",
    "        discard = re.match(r'^[^:]+:', l.target) and not l.target.startswith('wikt:')\n",
    "        target = l.target if not discard and not l.target.startswith('wikt:') else None\n",
    "        text = l.text or l.target\n",
    "        regions.append((span, discard, target, text))\n",
    "        \n",
    "    for l in wiki_text.external_links:\n",
    "        span = l.span\n",
    "        discard = False\n",
    "        target = None\n",
    "        text = l.text or l.url\n",
    "        regions.append((span, discard, target, text))\n",
    "        \n",
    "    for t in wiki_text.templates:\n",
    "        span = t.span\n",
    "        discard = True\n",
    "        target = None\n",
    "        text = None\n",
    "        regions.append((span, discard, target, text))\n",
    "    \n",
    "    for t in wiki_text.tags():\n",
    "        span = t.span\n",
    "        target = None\n",
    "        if (span[1] <= span[0]) or (span[1] - span[0] > 100):\n",
    "            discard = True\n",
    "            text = None\n",
    "        else:\n",
    "            try:\n",
    "                discard = t.name not in keep_tags\n",
    "                text = t.contents\n",
    "            except (TypeError, AttributeError) as e:\n",
    "                discard = True\n",
    "                text = None\n",
    "        regions.append((span, discard, target, text))\n",
    "    \n",
    "    for t in wiki_text.tables:\n",
    "        span = t.span\n",
    "        discard = True\n",
    "        target = None\n",
    "        text = None\n",
    "        regions.append((span, discard, target, text))\n",
    "    \n",
    "    for l in wiki_text.lists():\n",
    "        span = l.span\n",
    "        discard = True\n",
    "        target = None\n",
    "        text = None\n",
    "        regions.append((span, discard, target, text))\n",
    "        \n",
    "    for pf in wiki_text.parser_functions:\n",
    "        span = pf.span\n",
    "        discard = True\n",
    "        target = None\n",
    "        text = None\n",
    "        regions.append((span, discard, target, text))\n",
    "        \n",
    "    for c in wiki_text.comments:\n",
    "        span = c.span\n",
    "        discard = True\n",
    "        target = None\n",
    "        text = None\n",
    "        regions.append((span, discard, target, text))\n",
    "        \n",
    "    regions.sort()\n",
    "    \n",
    "    for (span, discard, target, text) in regions:\n",
    "        if span[0] < offset:\n",
    "            continue\n",
    "        strs.append(wiki_text.string[offset:span[0]])\n",
    "        if not discard:\n",
    "            if target:\n",
    "                token = '{{%d}}' % len(links)\n",
    "                strs.append(token)\n",
    "                links[token] = {'text': text, 'target': target.upper()}\n",
    "            else:\n",
    "                strs.append(text)\n",
    "        offset = span[1]\n",
    "    \n",
    "    strs.append(wiki_text.string[offset:])\n",
    "    \n",
    "    text = ''.join(strs)\n",
    "    \n",
    "    lines = []\n",
    "    \n",
    "    for line in text.split('\\n'):\n",
    "        line = line.strip()\n",
    "        line = re.sub(r'\\{\\{[^0-9][^}]+\\}\\}', '', line)\n",
    "        line = re.sub(r'\\[\\[(?:[^\\]]+\\|)?([^\\|\\]]+)\\]\\]', r'\\1', line)\n",
    "        line = re.sub(r'\\[(?:[^\\]]+\\|)?([^\\|\\]]+)\\]', r'\\1', line)\n",
    "        line = re.sub(r'<[^>]+>', '', line)\n",
    "        line = re.sub(r'^(\\[?\\[?Image:|\\[?\\[?File:|align=|-|\\||!|\\*|\\{\\|).*', '', line)\n",
    "        line = re.sub(r\"''+\", '', line)\n",
    "        line = re.sub(r\"==+[^=\\n]+==+\", '', line)\n",
    "        line = re.sub(r'&nbsp;', ' ', line)\n",
    "        if len(line) > 0 and line.count('|')/len(line) > 0.2:\n",
    "            line = ''\n",
    "        lines.append(line.strip())\n",
    "    \n",
    "    text = '\\n'.join(lines)\n",
    "    text = re.sub('\\n\\n+', '\\n\\n', text)\n",
    "    text = text.strip()\n",
    "    \n",
    "    return {\n",
    "        'title': title.upper(),\n",
    "        'text': text,\n",
    "        'links': links\n",
    "    }"
   ]
  },
  {
   "cell_type": "code",
   "execution_count": 6,
   "metadata": {},
   "outputs": [],
   "source": [
    "def parse_page_xml(page_xml):\n",
    "    redirects = page_xml.xpath('mediawiki:redirect', namespaces = namespaces)\n",
    "    ns = page_xml.xpath('mediawiki:ns', namespaces = namespaces)\n",
    "    titles = page_xml.xpath('mediawiki:title', namespaces = namespaces)\n",
    "    texts = page_xml.xpath('mediawiki:revision/mediawiki:text', namespaces = namespaces)\n",
    "    \n",
    "    if len(redirects) > 1:\n",
    "        raise Exception('found multiple redirects')\n",
    "    if len(ns) > 1:\n",
    "        raise Exception('found multiple namespaces')\n",
    "    if len(titles) > 1:\n",
    "        raise Exception('found multiple titles')\n",
    "    if len(texts) > 1:\n",
    "        raise Exception('found multiple texts')\n",
    "    \n",
    "    if ns[0].text != '0':\n",
    "        return None\n",
    "    if not texts[0].text or not titles[0].text:\n",
    "        return None\n",
    "    \n",
    "    if len(redirects) > 0:\n",
    "        target = redirects[0].attrib['title']\n",
    "        if target:\n",
    "            return {'title': titles[0].text.upper(), 'redirect': target.upper()}\n",
    "        else:\n",
    "            return None\n",
    "    \n",
    "    return parse(titles[0].text.upper(), texts[0].text)"
   ]
  },
  {
   "cell_type": "code",
   "execution_count": 7,
   "metadata": {
    "scrolled": true
   },
   "outputs": [],
   "source": [
    "def parse_dump_xml(dump_xml, limit = None):\n",
    "    path = 'mediawiki:page'\n",
    "    if limit:\n",
    "        path += '[position() < %d]' % limit\n",
    "    page_xmls = dump_xml.xpath(path, namespaces = namespaces)\n",
    "    \n",
    "    result = {}\n",
    "    for page_xml in tqdm_notebook(page_xmls):\n",
    "        parsed_page = parse_page_xml(page_xml)\n",
    "        if parsed_page:\n",
    "            result[parsed_page['title']] = parsed_page\n",
    "    return result"
   ]
  },
  {
   "cell_type": "code",
   "execution_count": 8,
   "metadata": {},
   "outputs": [
    {
     "data": {
      "application/vnd.jupyter.widget-view+json": {
       "model_id": "d5f231fe2cc44b259a6bbd32e941be15",
       "version_major": 2,
       "version_minor": 0
      },
      "text/html": [
       "<p>Failed to display Jupyter Widget of type <code>HBox</code>.</p>\n",
       "<p>\n",
       "  If you're reading this message in the Jupyter Notebook or JupyterLab Notebook, it may mean\n",
       "  that the widgets JavaScript is still loading. If this message persists, it\n",
       "  likely means that the widgets JavaScript library is either not installed or\n",
       "  not enabled. See the <a href=\"https://ipywidgets.readthedocs.io/en/stable/user_install.html\">Jupyter\n",
       "  Widgets Documentation</a> for setup instructions.\n",
       "</p>\n",
       "<p>\n",
       "  If you're reading this message in another frontend (for example, a static\n",
       "  rendering on GitHub or <a href=\"https://nbviewer.jupyter.org/\">NBViewer</a>),\n",
       "  it may mean that your frontend doesn't currently support widgets.\n",
       "</p>\n"
      ],
      "text/plain": [
       "HBox(children=(IntProgress(value=0, max=437190), HTML(value='')))"
      ]
     },
     "metadata": {},
     "output_type": "display_data"
    },
    {
     "name": "stdout",
     "output_type": "stream",
     "text": [
      "\n"
     ]
    }
   ],
   "source": [
    "parsed = parse_dump_xml(tree)"
   ]
  },
  {
   "cell_type": "code",
   "execution_count": 9,
   "metadata": {},
   "outputs": [],
   "source": [
    "def resolve_redirects(parsed):\n",
    "    for title, page in tqdm_notebook(parsed.items()):\n",
    "        if 'links' in page:\n",
    "            for token, link in page['links'].items():\n",
    "                old_target = parsed.get(link['target'])\n",
    "                new_target = old_target\n",
    "                depth = 0\n",
    "                while depth < 100 and new_target and 'redirect' in new_target:\n",
    "                    new_target = parsed.get(new_target['redirect'])\n",
    "                    depth += 1\n",
    "                if new_target and not (old_target is new_target):\n",
    "                    #print('redirecting %s -> %s' % (old_target[\"title\"], new_target[\"title\"]))\n",
    "                    link['target'] = new_target['title']"
   ]
  },
  {
   "cell_type": "code",
   "execution_count": 10,
   "metadata": {},
   "outputs": [
    {
     "data": {
      "application/vnd.jupyter.widget-view+json": {
       "model_id": "afffd4ad45464177b1e26cf7a8595426",
       "version_major": 2,
       "version_minor": 0
      },
      "text/html": [
       "<p>Failed to display Jupyter Widget of type <code>HBox</code>.</p>\n",
       "<p>\n",
       "  If you're reading this message in the Jupyter Notebook or JupyterLab Notebook, it may mean\n",
       "  that the widgets JavaScript is still loading. If this message persists, it\n",
       "  likely means that the widgets JavaScript library is either not installed or\n",
       "  not enabled. See the <a href=\"https://ipywidgets.readthedocs.io/en/stable/user_install.html\">Jupyter\n",
       "  Widgets Documentation</a> for setup instructions.\n",
       "</p>\n",
       "<p>\n",
       "  If you're reading this message in another frontend (for example, a static\n",
       "  rendering on GitHub or <a href=\"https://nbviewer.jupyter.org/\">NBViewer</a>),\n",
       "  it may mean that your frontend doesn't currently support widgets.\n",
       "</p>\n"
      ],
      "text/plain": [
       "HBox(children=(IntProgress(value=0, max=177277), HTML(value='')))"
      ]
     },
     "metadata": {},
     "output_type": "display_data"
    },
    {
     "name": "stdout",
     "output_type": "stream",
     "text": [
      "\n"
     ]
    }
   ],
   "source": [
    "resolve_redirects(parsed)"
   ]
  },
  {
   "cell_type": "code",
   "execution_count": 11,
   "metadata": {},
   "outputs": [],
   "source": [
    "def remove_unresolved_links(parsed):\n",
    "    num_resolved = 0\n",
    "    num_unresolved = 0\n",
    "    for title, page in tqdm_notebook(parsed.items()):\n",
    "        if 'links' in page:\n",
    "            unresolved = {}\n",
    "            for token, link in page['links'].items():\n",
    "                target = parsed.get(link['target'])\n",
    "                if not target or 'redirect' in target:\n",
    "                    num_unresolved += 1\n",
    "                    unresolved[token] = link['text']\n",
    "                else:\n",
    "                    num_resolved += 1\n",
    "            for token, text in unresolved.items():\n",
    "                page['text'] = page['text'].replace(token, text)\n",
    "                page['links'].pop(token, None)\n",
    "    print(num_resolved, num_unresolved)"
   ]
  },
  {
   "cell_type": "code",
   "execution_count": 12,
   "metadata": {},
   "outputs": [
    {
     "data": {
      "application/vnd.jupyter.widget-view+json": {
       "model_id": "0a21ffa96ba44ae9856833ff3189104c",
       "version_major": 2,
       "version_minor": 0
      },
      "text/html": [
       "<p>Failed to display Jupyter Widget of type <code>HBox</code>.</p>\n",
       "<p>\n",
       "  If you're reading this message in the Jupyter Notebook or JupyterLab Notebook, it may mean\n",
       "  that the widgets JavaScript is still loading. If this message persists, it\n",
       "  likely means that the widgets JavaScript library is either not installed or\n",
       "  not enabled. See the <a href=\"https://ipywidgets.readthedocs.io/en/stable/user_install.html\">Jupyter\n",
       "  Widgets Documentation</a> for setup instructions.\n",
       "</p>\n",
       "<p>\n",
       "  If you're reading this message in another frontend (for example, a static\n",
       "  rendering on GitHub or <a href=\"https://nbviewer.jupyter.org/\">NBViewer</a>),\n",
       "  it may mean that your frontend doesn't currently support widgets.\n",
       "</p>\n"
      ],
      "text/plain": [
       "HBox(children=(IntProgress(value=0, max=177277), HTML(value='')))"
      ]
     },
     "metadata": {},
     "output_type": "display_data"
    },
    {
     "name": "stdout",
     "output_type": "stream",
     "text": [
      "\n",
      "1055666 313335\n"
     ]
    }
   ],
   "source": [
    "remove_unresolved_links(parsed)"
   ]
  },
  {
   "cell_type": "code",
   "execution_count": 13,
   "metadata": {},
   "outputs": [],
   "source": [
    "def remove_redirect_pages(parsed):\n",
    "    to_remove = [title for title, page in tqdm_notebook(parsed.items()) if 'redirect' in page]\n",
    "    for title in to_remove:\n",
    "        del parsed[title]\n",
    "    print(len(to_remove))"
   ]
  },
  {
   "cell_type": "code",
   "execution_count": 14,
   "metadata": {},
   "outputs": [
    {
     "data": {
      "application/vnd.jupyter.widget-view+json": {
       "model_id": "9eb5b4d662a14d388f3cf482c1fd576a",
       "version_major": 2,
       "version_minor": 0
      },
      "text/html": [
       "<p>Failed to display Jupyter Widget of type <code>HBox</code>.</p>\n",
       "<p>\n",
       "  If you're reading this message in the Jupyter Notebook or JupyterLab Notebook, it may mean\n",
       "  that the widgets JavaScript is still loading. If this message persists, it\n",
       "  likely means that the widgets JavaScript library is either not installed or\n",
       "  not enabled. See the <a href=\"https://ipywidgets.readthedocs.io/en/stable/user_install.html\">Jupyter\n",
       "  Widgets Documentation</a> for setup instructions.\n",
       "</p>\n",
       "<p>\n",
       "  If you're reading this message in another frontend (for example, a static\n",
       "  rendering on GitHub or <a href=\"https://nbviewer.jupyter.org/\">NBViewer</a>),\n",
       "  it may mean that your frontend doesn't currently support widgets.\n",
       "</p>\n"
      ],
      "text/plain": [
       "HBox(children=(IntProgress(value=0, max=177277), HTML(value='')))"
      ]
     },
     "metadata": {},
     "output_type": "display_data"
    },
    {
     "name": "stdout",
     "output_type": "stream",
     "text": [
      "\n",
      "51330\n"
     ]
    }
   ],
   "source": [
    "remove_redirect_pages(parsed)"
   ]
  },
  {
   "cell_type": "code",
   "execution_count": 15,
   "metadata": {},
   "outputs": [],
   "source": [
    "def assign_ids(parsed):\n",
    "    counter = 0\n",
    "    for _, page in tqdm_notebook(parsed.items()):\n",
    "        page['id'] = counter\n",
    "        counter += 1"
   ]
  },
  {
   "cell_type": "code",
   "execution_count": 16,
   "metadata": {},
   "outputs": [
    {
     "data": {
      "application/vnd.jupyter.widget-view+json": {
       "model_id": "d1d079b81e904b3aa78893f8a35f3689",
       "version_major": 2,
       "version_minor": 0
      },
      "text/html": [
       "<p>Failed to display Jupyter Widget of type <code>HBox</code>.</p>\n",
       "<p>\n",
       "  If you're reading this message in the Jupyter Notebook or JupyterLab Notebook, it may mean\n",
       "  that the widgets JavaScript is still loading. If this message persists, it\n",
       "  likely means that the widgets JavaScript library is either not installed or\n",
       "  not enabled. See the <a href=\"https://ipywidgets.readthedocs.io/en/stable/user_install.html\">Jupyter\n",
       "  Widgets Documentation</a> for setup instructions.\n",
       "</p>\n",
       "<p>\n",
       "  If you're reading this message in another frontend (for example, a static\n",
       "  rendering on GitHub or <a href=\"https://nbviewer.jupyter.org/\">NBViewer</a>),\n",
       "  it may mean that your frontend doesn't currently support widgets.\n",
       "</p>\n"
      ],
      "text/plain": [
       "HBox(children=(IntProgress(value=0, max=125947), HTML(value='')))"
      ]
     },
     "metadata": {},
     "output_type": "display_data"
    },
    {
     "name": "stdout",
     "output_type": "stream",
     "text": [
      "\n"
     ]
    }
   ],
   "source": [
    "assign_ids(parsed)"
   ]
  },
  {
   "cell_type": "code",
   "execution_count": 17,
   "metadata": {},
   "outputs": [
    {
     "data": {
      "text/plain": [
       "125947"
      ]
     },
     "execution_count": 17,
     "metadata": {},
     "output_type": "execute_result"
    }
   ],
   "source": [
    "len(parsed)"
   ]
  },
  {
   "cell_type": "code",
   "execution_count": 18,
   "metadata": {},
   "outputs": [],
   "source": [
    "with gzip.open('../data/simplewiki/simplewiki-20171103.parsed.json.gz', 'wt', encoding='utf-8') as f:\n",
    "    json.dump(parsed, f, indent=1)"
   ]
  },
  {
   "cell_type": "code",
   "execution_count": null,
   "metadata": {},
   "outputs": [],
   "source": []
  }
 ],
 "metadata": {
  "kernelspec": {
   "display_name": "Python 3",
   "language": "python",
   "name": "python3"
  },
  "language_info": {
   "codemirror_mode": {
    "name": "ipython",
    "version": 3
   },
   "file_extension": ".py",
   "mimetype": "text/x-python",
   "name": "python",
   "nbconvert_exporter": "python",
   "pygments_lexer": "ipython3",
   "version": "3.5.4"
  }
 },
 "nbformat": 4,
 "nbformat_minor": 2
}
