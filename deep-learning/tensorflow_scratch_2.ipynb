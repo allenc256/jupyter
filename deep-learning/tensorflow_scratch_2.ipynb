{
 "cells": [
  {
   "cell_type": "code",
   "execution_count": 2,
   "metadata": {
    "collapsed": true
   },
   "outputs": [],
   "source": [
    "import tensorflow as tf\n",
    "import numpy as np\n",
    "import matplotlib.pyplot as plt\n",
    "import math"
   ]
  },
  {
   "cell_type": "code",
   "execution_count": 3,
   "metadata": {
    "collapsed": true
   },
   "outputs": [],
   "source": [
    "def reset_tf():\n",
    "    global sess\n",
    "    sess.close()\n",
    "    tf.reset_default_graph()\n",
    "    sess = tf.InteractiveSession()"
   ]
  },
  {
   "cell_type": "code",
   "execution_count": 4,
   "metadata": {
    "collapsed": true
   },
   "outputs": [],
   "source": [
    "sess = tf.InteractiveSession()"
   ]
  },
  {
   "cell_type": "code",
   "execution_count": 46,
   "metadata": {},
   "outputs": [],
   "source": [
    "reset_tf()\n",
    "\n",
    "n_h = 5\n",
    "n_steps = 4\n",
    "n_x = 3\n",
    "\n",
    "X_raw = tf.placeholder(tf.int32, [None, n_steps])\n",
    "Y_raw = tf.placeholder(tf.int32, [None, n_steps])\n",
    "H_init = tf.placeholder(tf.float32, [None, n_h])\n",
    "\n",
    "W_xh = tf.get_variable(\"W_xh\", shape=[n_x, n_h])\n",
    "W_hh = tf.get_variable(\"W_hh\", shape=[n_h, n_h])\n",
    "W_ha = tf.get_variable(\"W_ha\", shape=[n_h, n_x])\n",
    "b_h = tf.get_variable(\"b_h\", shape=[1, n_h])\n",
    "b_a = tf.get_variable(\"b_a\", shape=[1, n_x])\n",
    "\n",
    "X   = [None] + tf.unstack(tf.one_hot(X_raw, n_x), axis=1)\n",
    "Y   = [None] + tf.unstack(tf.one_hot(Y_raw, n_x), axis=1)\n",
    "H   = [H_init] + [None] * n_steps\n",
    "Z_h = [None] * (n_steps+1)\n",
    "Z_a = [None] * (n_steps+1)\n",
    "A   = [None] * (n_steps+1)\n",
    "\n",
    "for i in range(1, n_steps):\n",
    "    Z_h[i] = tf.matmul(X[i], W_xh) + tf.matmul(H[i - 1], W_hh) + b_h\n",
    "    H[i]   = tf.tanh(Z_h[i])\n",
    "    Z_a[i] = tf.matmul(H[i], W_ha) + b_a\n",
    "    A[i]   = tf.nn.softmax(Z_a[i])\n",
    "    \n",
    "loss = tf.constant(0.0)\n",
    "for i in range(1, n_steps):\n",
    "    loss += tf.reduce_sum(tf.nn.softmax_cross_entropy_with_logits(labels=Y[i], logits=Z_a[i]))\n",
    "loss /= tf.cast(tf.size(X_raw), tf.float32)\n",
    "\n",
    "train_step = tf.train.AdamOptimizer(0.01).minimize(loss)\n",
    "\n",
    "sess.run(tf.global_variables_initializer())"
   ]
  },
  {
   "cell_type": "code",
   "execution_count": 47,
   "metadata": {},
   "outputs": [
    {
     "data": {
      "text/plain": [
       "1.0968565"
      ]
     },
     "execution_count": 47,
     "metadata": {},
     "output_type": "execute_result"
    }
   ],
   "source": [
    "def generate_repeating_dataset(n, n_x, n_steps):\n",
    "    X = np.array([i % n_x for i in range(n)]).reshape(-1, n_steps)\n",
    "    Y = np.array([(i+1) % n_x for i in range(n)]).reshape(-1, n_steps)\n",
    "    return X, Y\n",
    "\n",
    "n_batches = 3\n",
    "\n",
    "inputs, outputs = generate_repeating_dataset(n_steps * n_batches, n_x, n_steps)\n",
    "\n",
    "sess.run(loss, feed_dict = {\n",
    "    X_raw: inputs, \n",
    "    Y_raw: outputs, \n",
    "    H_init: np.zeros((n_batches, n_h))})\n",
    "\n",
    "#np.pad(, n_steps - (len(s) % n_steps), 'constant', constant_values='#').reshape(-1, n_steps)"
   ]
  },
  {
   "cell_type": "code",
   "execution_count": null,
   "metadata": {
    "collapsed": true
   },
   "outputs": [],
   "source": []
  }
 ],
 "metadata": {
  "kernelspec": {
   "display_name": "Python 3",
   "language": "python",
   "name": "python3"
  },
  "language_info": {
   "codemirror_mode": {
    "name": "ipython",
    "version": 3
   },
   "file_extension": ".py",
   "mimetype": "text/x-python",
   "name": "python",
   "nbconvert_exporter": "python",
   "pygments_lexer": "ipython3",
   "version": "3.6.1"
  }
 },
 "nbformat": 4,
 "nbformat_minor": 2
}
