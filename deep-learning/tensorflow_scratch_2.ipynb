{
 "cells": [
  {
   "cell_type": "code",
   "execution_count": 2,
   "metadata": {
    "collapsed": true
   },
   "outputs": [],
   "source": [
    "import tensorflow as tf\n",
    "import numpy as np\n",
    "import matplotlib.pyplot as plt\n",
    "import math"
   ]
  },
  {
   "cell_type": "code",
   "execution_count": null,
   "metadata": {
    "collapsed": true
   },
   "outputs": [],
   "source": [
    "tf.reset_default_graph()\n",
    "\n",
    "n_alphabet = 2\n",
    "n_h = 50\n",
    "n_steps = 10\n",
    "\n",
    "X = tf.placeholder(tf.int32, [None, n_steps])\n",
    "Y = tf.placeholder(tf.int32, [None, n_steps])\n",
    "H_0 = tf.placeholder(tf.float32, [None, n_h])\n",
    "X_unstacked = tf.unstack(tf.one_hot(X, n_alphabet), axis=1)\n",
    "Y_unstacked = tf.unstack(tf.one_hot(Y, n_alphabet), axis=1)\n",
    "\n",
    "W_xh = tf.get_variable(\"W_xh\", shape=[n_x, n_h])\n",
    "W_hh = tf.get_variable(\"W_hh\", shape=[n_h, n_h])\n",
    "W_ha = tf.get_variable(\"W_ha\", shape=[n_h, n_x])\n",
    "b_h = tf.get_variable(\"b_h\", shape=[1, n_h])\n",
    "b_a = tf.get_variable(\"b_a\", shape=[1, n_x])\n",
    "\n",
    "Z_hs = [None]\n",
    "Hs   = [H_0]\n",
    "As   = [None]\n",
    "\n",
    "for i in range(1, n_steps+1):\n",
    "    Z_h = tf.matmul(X_unstacked[i], W_xh) + tf.matmul(Hs[i-1], W_hh) + b_h\n",
    "    H   = tf.tanh(Z_h)\n",
    "    Z_a = tf.matmul(H, W_ha) + b_a\n",
    "    A   = tf.nn.softmax(Z_a)\n",
    "    Z_hs.push(Z_h)\n",
    "    Hs.push(H)\n",
    "    As.push(A)\n",
    "\n",
    "loss = "
   ]
  },
  {
   "cell_type": "code",
   "execution_count": 9,
   "metadata": {},
   "outputs": [
    {
     "data": {
      "text/plain": [
       "[array([[ 1.,  0.,  0.,  0.],\n",
       "        [ 0.,  0.,  1.,  0.],\n",
       "        [ 1.,  0.,  0.,  0.]], dtype=float32), array([[ 0.,  1.,  0.,  0.],\n",
       "        [ 0.,  0.,  0.,  1.],\n",
       "        [ 0.,  1.,  0.,  0.]], dtype=float32)]"
      ]
     },
     "execution_count": 9,
     "metadata": {},
     "output_type": "execute_result"
    }
   ],
   "source": [
    "x = tf.placeholder(tf.int32, [3, 2])\n",
    "# sess.run(x, feed_dict={x:[[0, 1], [2, 3], [0, 1]]})\n",
    "\n",
    "x_one_hot = tf.one_hot(x, 4)\n",
    "# sess.run(x_one_hot, feed_dict={x:[[0, 1], [2, 3], [0, 1]]})\n",
    "\n",
    "rnn_inputs = tf.unstack(x_one_hot, axis=1)\n",
    "sess.run(rnn_inputs, feed_dict={x:[[0, 1], [2, 3], [0, 1]]})\n",
    "\n"
   ]
  },
  {
   "cell_type": "code",
   "execution_count": 12,
   "metadata": {},
   "outputs": [
    {
     "name": "stdout",
     "output_type": "stream",
     "text": [
      "1\n",
      "2\n",
      "3\n",
      "4\n",
      "5\n",
      "6\n",
      "7\n",
      "8\n",
      "9\n"
     ]
    }
   ],
   "source": [
    "for i in range(1,10): print(i)"
   ]
  },
  {
   "cell_type": "code",
   "execution_count": null,
   "metadata": {
    "collapsed": true
   },
   "outputs": [],
   "source": []
  }
 ],
 "metadata": {
  "kernelspec": {
   "display_name": "Python 3",
   "language": "python",
   "name": "python3"
  },
  "language_info": {
   "codemirror_mode": {
    "name": "ipython",
    "version": 3
   },
   "file_extension": ".py",
   "mimetype": "text/x-python",
   "name": "python",
   "nbconvert_exporter": "python",
   "pygments_lexer": "ipython3",
   "version": "3.6.3"
  }
 },
 "nbformat": 4,
 "nbformat_minor": 2
}
