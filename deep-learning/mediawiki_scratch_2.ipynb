{
 "cells": [
  {
   "cell_type": "code",
   "execution_count": 19,
   "metadata": {
    "collapsed": true
   },
   "outputs": [],
   "source": [
    "import json\n",
    "import nltk.data\n",
    "import re"
   ]
  },
  {
   "cell_type": "code",
   "execution_count": 13,
   "metadata": {},
   "outputs": [],
   "source": [
    "with open('C:\\\\Users\\\\achang\\\\Documents\\\\jupyter\\\\data\\\\simplewiki\\\\simplewiki-20171103.parsed.json') as f:\n",
    "    wiki = json.load(f)"
   ]
  },
  {
   "cell_type": "code",
   "execution_count": 18,
   "metadata": {},
   "outputs": [],
   "source": [
    "sentence_tokenizer = nltk.data.load('tokenizers/punkt/english.pickle')"
   ]
  },
  {
   "cell_type": "code",
   "execution_count": 39,
   "metadata": {},
   "outputs": [],
   "source": [
    "def print_stats(wiki):\n",
    "    num_with = 0\n",
    "    num_without = 0\n",
    "    num_links = 0\n",
    "    for title, page in wiki.items():\n",
    "        sentences = sentence_tokenizer.tokenize(page['text'])\n",
    "        for sentence in sentences:\n",
    "            if re.search(r'\\{\\{\\d+\\}\\}', sentence):\n",
    "                num_with += 1\n",
    "            else:\n",
    "                num_without += 1\n",
    "        num_links += len(page['links'])\n",
    "    print('with:', num_with)\n",
    "    print('without:', num_without)\n",
    "    print('links:', num_links)"
   ]
  },
  {
   "cell_type": "code",
   "execution_count": 40,
   "metadata": {},
   "outputs": [
    {
     "name": "stdout",
     "output_type": "stream",
     "text": [
      "with: 539837\n",
      "without: 555318\n",
      "links: 1055666\n"
     ]
    }
   ],
   "source": [
    "print_stats(wiki)"
   ]
  },
  {
   "cell_type": "code",
   "execution_count": 91,
   "metadata": {},
   "outputs": [],
   "source": [
    "def parse_sentences(wki):\n",
    "    result = []\n",
    "    for title, page in wiki.items():\n",
    "        sentences = sentence_tokenizer.tokenize(page['text'])\n",
    "        for sentence in sentences:\n",
    "            src_offset = 0\n",
    "            dst_offset = 0\n",
    "            links = []\n",
    "            strs = []\n",
    "            \n",
    "            for match in re.finditer(r'\\{\\{\\d+\\}\\}', sentence):\n",
    "                token = sentence[match.start():match.end()]\n",
    "                link = page['links'][token]\n",
    "                \n",
    "                src_fragment = sentence[src_offset:match.start()]\n",
    "                \n",
    "                link_target = link['target']\n",
    "                link_text = link['text']\n",
    "                link_start = dst_offset + len(src_fragment)\n",
    "                link_finish = link_start + len(link_text)\n",
    "                \n",
    "                strs.append(src_fragment)\n",
    "                strs.append(link_text)\n",
    "                \n",
    "                links.append({\n",
    "                    'start': link_start,\n",
    "                    'finish': link_finish,\n",
    "                    'target': link_target\n",
    "                })\n",
    "                \n",
    "                src_offset = match.end()\n",
    "                dst_offset += len(src_fragment) + len(link_text)\n",
    "                \n",
    "            strs.append(sentence[src_offset:])\n",
    "                \n",
    "            result.append({\n",
    "                'text': ''.join(strs),\n",
    "                'links': links\n",
    "            })\n",
    "    return result"
   ]
  },
  {
   "cell_type": "code",
   "execution_count": 92,
   "metadata": {},
   "outputs": [],
   "source": [
    "sentences = parse_sentences(wiki)"
   ]
  },
  {
   "cell_type": "code",
   "execution_count": 103,
   "metadata": {
    "collapsed": true
   },
   "outputs": [],
   "source": [
    "with open('C:\\\\Users\\\\achang\\\\Documents\\\\jupyter\\\\data\\\\simplewiki\\\\simplewiki-20171103.sentences.json', 'w') as f:\n",
    "    json.dump(sentences, f, indent = 1)"
   ]
  },
  {
   "cell_type": "code",
   "execution_count": null,
   "metadata": {
    "collapsed": true
   },
   "outputs": [],
   "source": []
  }
 ],
 "metadata": {
  "kernelspec": {
   "display_name": "Python 3",
   "language": "python",
   "name": "python3"
  },
  "language_info": {
   "codemirror_mode": {
    "name": "ipython",
    "version": 3
   },
   "file_extension": ".py",
   "mimetype": "text/x-python",
   "name": "python",
   "nbconvert_exporter": "python",
   "pygments_lexer": "ipython3",
   "version": "3.6.3"
  }
 },
 "nbformat": 4,
 "nbformat_minor": 2
}
