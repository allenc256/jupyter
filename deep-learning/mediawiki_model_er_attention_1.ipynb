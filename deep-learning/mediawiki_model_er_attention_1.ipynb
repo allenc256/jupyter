{
 "cells": [
  {
   "cell_type": "code",
   "execution_count": 1,
   "metadata": {},
   "outputs": [],
   "source": [
    "import tensorflow as tf\n",
    "import modules.mediawiki_er as mw_er\n",
    "import numpy as np\n",
    "import gzip\n",
    "from tensorflow.python.client import timeline\n",
    "from tqdm import tqdm"
   ]
  },
  {
   "cell_type": "code",
   "execution_count": 2,
   "metadata": {},
   "outputs": [],
   "source": [
    "sess = None"
   ]
  },
  {
   "cell_type": "code",
   "execution_count": 3,
   "metadata": {},
   "outputs": [],
   "source": [
    "class HyperParameters():\n",
    "    # adam learning rate\n",
    "    learning_rate = 1e-3\n",
    "    \n",
    "    # maximum number of symbols in an input sequence\n",
    "    max_sequence_length = 40\n",
    "\n",
    "    # number of symbols in vocabulary\n",
    "    # (symbols are expected to be in range(vocab_size))\n",
    "    vocab_size = 10000\n",
    "\n",
    "    # number of dimensions in input embeddings\n",
    "    embedding_size = 128\n",
    "    \n",
    "    # number of hidden units in ff layer \n",
    "    ff_size = 256\n",
    "    \n",
    "    # number of combined (attention + feed forward) layers\n",
    "    num_layers = 4\n",
    "    \n",
    "    # dropout rate\n",
    "    dropout_rate = 0.1\n",
    "    \n",
    "    # number of sequences per batch\n",
    "    pipeline_batch_size = 1024\n",
    "    \n",
    "    # number of parsing threads in data pipeline\n",
    "    pipeline_num_parallel_calls = 4\n",
    "    \n",
    "    # size of prefetch in data pipeline\n",
    "    pipeline_prefetch_size = pipeline_batch_size * 16\n",
    "    \n",
    "    # shuffle buffer size\n",
    "    pipeline_shuffle_size = 10000\n",
    "\n",
    "hp = HyperParameters()"
   ]
  },
  {
   "cell_type": "code",
   "execution_count": 4,
   "metadata": {},
   "outputs": [],
   "source": [
    "class AttentionModel(mw_er.BaseModel):\n",
    "    def __init__(self, hp):\n",
    "        with gzip.open('../data/simplewiki/simplewiki-20171103.topic_model_1_128.embedding.npy.gz', 'rb') as f:\n",
    "            self._page_id_embeddings = tf.constant(np.load(f), dtype=tf.float32)\n",
    "        \n",
    "        super().__init__(hp)\n",
    "    \n",
    "    def _build_prediction_model_internal(self):\n",
    "        # Layer normalization\n",
    "        # -------------------\n",
    "\n",
    "        def layer_norm(x, scope, reuse=None, epsilon=1e-6):\n",
    "            with tf.variable_scope(scope, reuse=reuse):\n",
    "                num_units = self._hp.embedding_size\n",
    "                scale = tf.get_variable(\n",
    "                    \"layer_norm_scale\", [num_units], initializer=tf.ones_initializer())\n",
    "                bias = tf.get_variable(\n",
    "                    \"layer_norm_bias\", [num_units], initializer=tf.zeros_initializer())\n",
    "                result = layer_norm_compute(x, epsilon, scale, bias)\n",
    "                return result\n",
    "\n",
    "        def layer_norm_compute(x, epsilon, scale, bias):\n",
    "            # TODO: incorporate length into layer normalization?\n",
    "            mean = tf.reduce_mean(x, axis=[-1], keep_dims=True)\n",
    "            variance = tf.reduce_mean(tf.square(x - mean), axis=[-1], keep_dims=True)\n",
    "            norm_x = (x - mean) * tf.rsqrt(variance + epsilon)\n",
    "            return norm_x * scale + bias\n",
    "        \n",
    "        # Embeddings\n",
    "        # ----------\n",
    "        \n",
    "        with tf.variable_scope('embeddings'):\n",
    "            input_page_ids_embedded = tf.nn.embedding_lookup(self._page_id_embeddings,\n",
    "                                                             self._input_page_ids)\n",
    "            input_page_ids_embedded = tf.tile(input_page_ids_embedded,\n",
    "                                              [1, self._hp.max_sequence_length, 1])\n",
    "            \n",
    "            input_sequence_embeddings = tf.get_variable('input_sequence_embeddings', \n",
    "                                                        (self._hp.vocab_size, self._hp.embedding_size))\n",
    "            input_sequences_embedded = tf.nn.embedding_lookup(input_sequence_embeddings, \n",
    "                                                              self._input_sequences)\n",
    "\n",
    "            input_position_embeddings = tf.get_variable('input_position_embeddings', \n",
    "                                                        (self._hp.max_sequence_length, self._hp.embedding_size))\n",
    "            input_positions_embedded = tf.nn.embedding_lookup(input_position_embeddings, self._input_positions)\n",
    "\n",
    "            sequence_mask = tf.sequence_mask(self._input_lengths,\n",
    "                                             self._hp.max_sequence_length,\n",
    "                                             dtype = tf.float32)\n",
    "            sequence_mask = tf.expand_dims(sequence_mask, 2)\n",
    "            \n",
    "            input_concat = tf.concat([input_sequences_embedded, \n",
    "                                      input_positions_embedded, \n",
    "                                      input_page_ids_embedded], \n",
    "                                     axis=-1)\n",
    "            \n",
    "            input_combined = tf.layers.dense(input_concat, \n",
    "                                             self._hp.embedding_size, \n",
    "                                             activation=tf.nn.relu, \n",
    "                                             name='input_combined')\n",
    "            input_combined = tf.layers.dropout(input_combined,\n",
    "                                               rate=self._hp.dropout_rate,\n",
    "                                               training=self._is_training)\n",
    "            input_combined = layer_norm(input_combined,\n",
    "                                        scope='input_combined')\n",
    "            input_combined *= sequence_mask\n",
    "\n",
    "        # Attention\n",
    "        # ---------\n",
    "\n",
    "        def attention_layer(A):\n",
    "            A_T = tf.transpose(A, perm=[0, 2, 1])\n",
    "            scaled_logits = tf.matmul(A, A_T) / tf.sqrt(tf.cast(tf.shape(A)[-1], tf.float32))\n",
    "            result = tf.matmul(tf.nn.softmax(scaled_logits), A)\n",
    "            result = tf.layers.dropout(result, rate = self._hp.dropout_rate, training = self._is_training)\n",
    "            return result\n",
    "\n",
    "        # Feed-forward\n",
    "        # ------------\n",
    "\n",
    "        def feed_forward_layer(A, scope, reuse=None):\n",
    "            with tf.variable_scope(scope, reuse=reuse):\n",
    "                A = tf.layers.dense(A, self._hp.ff_size, activation=tf.nn.relu, name='fc1')\n",
    "                A = tf.layers.dense(A, self._hp.embedding_size, name='fc2')\n",
    "                A = tf.layers.dropout(A, rate = self._hp.dropout_rate, training = self._is_training)\n",
    "                return A\n",
    "\n",
    "        # Layers\n",
    "        # ------\n",
    "\n",
    "        def combined_layer(A, scope, reuse=None):\n",
    "            with tf.variable_scope(scope, reuse=reuse):\n",
    "                A = layer_norm(A + attention_layer(A), scope='attention_norm')\n",
    "                A = layer_norm(A + feed_forward_layer(A, 'ff'), scope='ff_norm')\n",
    "                A *= sequence_mask\n",
    "                return A\n",
    "\n",
    "        with tf.variable_scope('layers'):\n",
    "            layer = input_combined\n",
    "            for i in range(self._hp.num_layers):\n",
    "                layer = combined_layer(layer, 'layer_%d' % i)\n",
    "            \n",
    "        # Softmax\n",
    "        # -------\n",
    "\n",
    "        with tf.variable_scope('softmax'):\n",
    "            output_logits = tf.layers.dense(layer, 2, name = 'softmax')\n",
    "        \n",
    "        return output_logits"
   ]
  },
  {
   "cell_type": "code",
   "execution_count": 5,
   "metadata": {},
   "outputs": [
    {
     "name": "stdout",
     "output_type": "stream",
     "text": [
      "parameters for \"embeddings/input_sequence_embeddings:0\": 1280000\n",
      "parameters for \"embeddings/input_position_embeddings:0\": 5120\n",
      "parameters for \"embeddings/input_combined/kernel:0\": 49152\n",
      "parameters for \"embeddings/input_combined/bias:0\": 128\n",
      "parameters for \"embeddings/input_combined/layer_norm_scale:0\": 128\n",
      "parameters for \"embeddings/input_combined/layer_norm_bias:0\": 128\n",
      "parameters for \"layers/layer_0/attention_norm/layer_norm_scale:0\": 128\n",
      "parameters for \"layers/layer_0/attention_norm/layer_norm_bias:0\": 128\n",
      "parameters for \"layers/layer_0/ff/fc1/kernel:0\": 32768\n",
      "parameters for \"layers/layer_0/ff/fc1/bias:0\": 256\n",
      "parameters for \"layers/layer_0/ff/fc2/kernel:0\": 32768\n",
      "parameters for \"layers/layer_0/ff/fc2/bias:0\": 128\n",
      "parameters for \"layers/layer_0/ff_norm/layer_norm_scale:0\": 128\n",
      "parameters for \"layers/layer_0/ff_norm/layer_norm_bias:0\": 128\n",
      "parameters for \"layers/layer_1/attention_norm/layer_norm_scale:0\": 128\n",
      "parameters for \"layers/layer_1/attention_norm/layer_norm_bias:0\": 128\n",
      "parameters for \"layers/layer_1/ff/fc1/kernel:0\": 32768\n",
      "parameters for \"layers/layer_1/ff/fc1/bias:0\": 256\n",
      "parameters for \"layers/layer_1/ff/fc2/kernel:0\": 32768\n",
      "parameters for \"layers/layer_1/ff/fc2/bias:0\": 128\n",
      "parameters for \"layers/layer_1/ff_norm/layer_norm_scale:0\": 128\n",
      "parameters for \"layers/layer_1/ff_norm/layer_norm_bias:0\": 128\n",
      "parameters for \"layers/layer_2/attention_norm/layer_norm_scale:0\": 128\n",
      "parameters for \"layers/layer_2/attention_norm/layer_norm_bias:0\": 128\n",
      "parameters for \"layers/layer_2/ff/fc1/kernel:0\": 32768\n",
      "parameters for \"layers/layer_2/ff/fc1/bias:0\": 256\n",
      "parameters for \"layers/layer_2/ff/fc2/kernel:0\": 32768\n",
      "parameters for \"layers/layer_2/ff/fc2/bias:0\": 128\n",
      "parameters for \"layers/layer_2/ff_norm/layer_norm_scale:0\": 128\n",
      "parameters for \"layers/layer_2/ff_norm/layer_norm_bias:0\": 128\n",
      "parameters for \"layers/layer_3/attention_norm/layer_norm_scale:0\": 128\n",
      "parameters for \"layers/layer_3/attention_norm/layer_norm_bias:0\": 128\n",
      "parameters for \"layers/layer_3/ff/fc1/kernel:0\": 32768\n",
      "parameters for \"layers/layer_3/ff/fc1/bias:0\": 256\n",
      "parameters for \"layers/layer_3/ff/fc2/kernel:0\": 32768\n",
      "parameters for \"layers/layer_3/ff/fc2/bias:0\": 128\n",
      "parameters for \"layers/layer_3/ff_norm/layer_norm_scale:0\": 128\n",
      "parameters for \"layers/layer_3/ff_norm/layer_norm_bias:0\": 128\n",
      "parameters for \"softmax/softmax/kernel:0\": 256\n",
      "parameters for \"softmax/softmax/bias:0\": 2\n",
      "total parameters: 1600642\n"
     ]
    }
   ],
   "source": [
    "sess = mw_er.reset_tf(sess)\n",
    "model = AttentionModel(hp)\n",
    "model.dump_statistics()"
   ]
  },
  {
   "cell_type": "code",
   "execution_count": null,
   "metadata": {},
   "outputs": [],
   "source": [
    "sess.run(tf.global_variables_initializer())"
   ]
  },
  {
   "cell_type": "code",
   "execution_count": null,
   "metadata": {},
   "outputs": [
    {
     "data": {
      "application/vnd.jupyter.widget-view+json": {
       "model_id": "f55379f307874103b19b64b4ede8858d",
       "version_major": 2,
       "version_minor": 0
      },
      "text/html": [
       "<p>Failed to display Jupyter Widget of type <code>HBox</code>.</p>\n",
       "<p>\n",
       "  If you're reading this message in the Jupyter Notebook or JupyterLab Notebook, it may mean\n",
       "  that the widgets JavaScript is still loading. If this message persists, it\n",
       "  likely means that the widgets JavaScript library is either not installed or\n",
       "  not enabled. See the <a href=\"https://ipywidgets.readthedocs.io/en/stable/user_install.html\">Jupyter\n",
       "  Widgets Documentation</a> for setup instructions.\n",
       "</p>\n",
       "<p>\n",
       "  If you're reading this message in another frontend (for example, a static\n",
       "  rendering on GitHub or <a href=\"https://nbviewer.jupyter.org/\">NBViewer</a>),\n",
       "  it may mean that your frontend doesn't currently support widgets.\n",
       "</p>\n"
      ],
      "text/plain": [
       "HBox(children=(IntProgress(value=1, bar_style='info', max=1), HTML(value='')))"
      ]
     },
     "metadata": {},
     "output_type": "display_data"
    },
    {
     "name": "stdout",
     "output_type": "stream",
     "text": [
      "\n",
      "train 0 (1294): loss=0.159197, precision=0.690282, recall=0.266831, F1=0.384883\n",
      "dev 0 (1294): loss=0.14953, precision=0.750021, recall=0.30455, F1=0.433198\n"
     ]
    },
    {
     "data": {
      "application/vnd.jupyter.widget-view+json": {
       "model_id": "d1a0cc2c92ed4cf6b84df1929a439964",
       "version_major": 2,
       "version_minor": 0
      },
      "text/html": [
       "<p>Failed to display Jupyter Widget of type <code>HBox</code>.</p>\n",
       "<p>\n",
       "  If you're reading this message in the Jupyter Notebook or JupyterLab Notebook, it may mean\n",
       "  that the widgets JavaScript is still loading. If this message persists, it\n",
       "  likely means that the widgets JavaScript library is either not installed or\n",
       "  not enabled. See the <a href=\"https://ipywidgets.readthedocs.io/en/stable/user_install.html\">Jupyter\n",
       "  Widgets Documentation</a> for setup instructions.\n",
       "</p>\n",
       "<p>\n",
       "  If you're reading this message in another frontend (for example, a static\n",
       "  rendering on GitHub or <a href=\"https://nbviewer.jupyter.org/\">NBViewer</a>),\n",
       "  it may mean that your frontend doesn't currently support widgets.\n",
       "</p>\n"
      ],
      "text/plain": [
       "HBox(children=(IntProgress(value=1, bar_style='info', max=1), HTML(value='')))"
      ]
     },
     "metadata": {},
     "output_type": "display_data"
    },
    {
     "name": "stdout",
     "output_type": "stream",
     "text": [
      "\n",
      "train 1 (2588): loss=0.142806, precision=0.7279, recall=0.338825, F1=0.462407\n",
      "dev 1 (2588): loss=0.144777, precision=0.741856, recall=0.351263, F1=0.476776\n"
     ]
    },
    {
     "data": {
      "application/vnd.jupyter.widget-view+json": {
       "model_id": "4f9d05154ece417bab2c76bf5f591b2b",
       "version_major": 2,
       "version_minor": 0
      },
      "text/html": [
       "<p>Failed to display Jupyter Widget of type <code>HBox</code>.</p>\n",
       "<p>\n",
       "  If you're reading this message in the Jupyter Notebook or JupyterLab Notebook, it may mean\n",
       "  that the widgets JavaScript is still loading. If this message persists, it\n",
       "  likely means that the widgets JavaScript library is either not installed or\n",
       "  not enabled. See the <a href=\"https://ipywidgets.readthedocs.io/en/stable/user_install.html\">Jupyter\n",
       "  Widgets Documentation</a> for setup instructions.\n",
       "</p>\n",
       "<p>\n",
       "  If you're reading this message in another frontend (for example, a static\n",
       "  rendering on GitHub or <a href=\"https://nbviewer.jupyter.org/\">NBViewer</a>),\n",
       "  it may mean that your frontend doesn't currently support widgets.\n",
       "</p>\n"
      ],
      "text/plain": [
       "HBox(children=(IntProgress(value=1, bar_style='info', max=1), HTML(value='')))"
      ]
     },
     "metadata": {},
     "output_type": "display_data"
    },
    {
     "name": "stdout",
     "output_type": "stream",
     "text": [
      "\n",
      "train 2 (3882): loss=0.137332, precision=0.734383, recall=0.369122, F1=0.491302\n",
      "dev 2 (3882): loss=0.137493, precision=0.702803, recall=0.407833, F1=0.516148\n"
     ]
    },
    {
     "data": {
      "application/vnd.jupyter.widget-view+json": {
       "model_id": "9fa38b1d33f54926af91952adb47a2ce",
       "version_major": 2,
       "version_minor": 0
      },
      "text/html": [
       "<p>Failed to display Jupyter Widget of type <code>HBox</code>.</p>\n",
       "<p>\n",
       "  If you're reading this message in the Jupyter Notebook or JupyterLab Notebook, it may mean\n",
       "  that the widgets JavaScript is still loading. If this message persists, it\n",
       "  likely means that the widgets JavaScript library is either not installed or\n",
       "  not enabled. See the <a href=\"https://ipywidgets.readthedocs.io/en/stable/user_install.html\">Jupyter\n",
       "  Widgets Documentation</a> for setup instructions.\n",
       "</p>\n",
       "<p>\n",
       "  If you're reading this message in another frontend (for example, a static\n",
       "  rendering on GitHub or <a href=\"https://nbviewer.jupyter.org/\">NBViewer</a>),\n",
       "  it may mean that your frontend doesn't currently support widgets.\n",
       "</p>\n"
      ],
      "text/plain": [
       "HBox(children=(IntProgress(value=1, bar_style='info', max=1), HTML(value='')))"
      ]
     },
     "metadata": {},
     "output_type": "display_data"
    },
    {
     "name": "stdout",
     "output_type": "stream",
     "text": [
      "\n",
      "train 3 (5176): loss=0.13349, precision=0.741135, recall=0.388612, F1=0.509873\n",
      "dev 3 (5176): loss=0.134626, precision=0.718207, recall=0.406224, F1=0.518934\n"
     ]
    },
    {
     "data": {
      "application/vnd.jupyter.widget-view+json": {
       "model_id": "770b629331a9439ba5868271917fa625",
       "version_major": 2,
       "version_minor": 0
      },
      "text/html": [
       "<p>Failed to display Jupyter Widget of type <code>HBox</code>.</p>\n",
       "<p>\n",
       "  If you're reading this message in the Jupyter Notebook or JupyterLab Notebook, it may mean\n",
       "  that the widgets JavaScript is still loading. If this message persists, it\n",
       "  likely means that the widgets JavaScript library is either not installed or\n",
       "  not enabled. See the <a href=\"https://ipywidgets.readthedocs.io/en/stable/user_install.html\">Jupyter\n",
       "  Widgets Documentation</a> for setup instructions.\n",
       "</p>\n",
       "<p>\n",
       "  If you're reading this message in another frontend (for example, a static\n",
       "  rendering on GitHub or <a href=\"https://nbviewer.jupyter.org/\">NBViewer</a>),\n",
       "  it may mean that your frontend doesn't currently support widgets.\n",
       "</p>\n"
      ],
      "text/plain": [
       "HBox(children=(IntProgress(value=1, bar_style='info', max=1), HTML(value='')))"
      ]
     },
     "metadata": {},
     "output_type": "display_data"
    },
    {
     "name": "stdout",
     "output_type": "stream",
     "text": [
      "\n",
      "train 4 (6470): loss=0.130632, precision=0.747488, recall=0.403033, F1=0.523697\n",
      "dev 4 (6470): loss=0.133772, precision=0.710924, recall=0.424466, F1=0.531558\n"
     ]
    },
    {
     "data": {
      "application/vnd.jupyter.widget-view+json": {
       "model_id": "189096d641ac489c8c6d241d5da51050",
       "version_major": 2,
       "version_minor": 0
      },
      "text/html": [
       "<p>Failed to display Jupyter Widget of type <code>HBox</code>.</p>\n",
       "<p>\n",
       "  If you're reading this message in the Jupyter Notebook or JupyterLab Notebook, it may mean\n",
       "  that the widgets JavaScript is still loading. If this message persists, it\n",
       "  likely means that the widgets JavaScript library is either not installed or\n",
       "  not enabled. See the <a href=\"https://ipywidgets.readthedocs.io/en/stable/user_install.html\">Jupyter\n",
       "  Widgets Documentation</a> for setup instructions.\n",
       "</p>\n",
       "<p>\n",
       "  If you're reading this message in another frontend (for example, a static\n",
       "  rendering on GitHub or <a href=\"https://nbviewer.jupyter.org/\">NBViewer</a>),\n",
       "  it may mean that your frontend doesn't currently support widgets.\n",
       "</p>\n"
      ],
      "text/plain": [
       "HBox(children=(IntProgress(value=1, bar_style='info', max=1), HTML(value='')))"
      ]
     },
     "metadata": {},
     "output_type": "display_data"
    },
    {
     "name": "stdout",
     "output_type": "stream",
     "text": [
      "\n",
      "train 5 (7764): loss=0.128472, precision=0.75219, recall=0.414223, F1=0.534243\n",
      "dev 5 (7764): loss=0.132043, precision=0.735763, recall=0.406827, F1=0.523947\n"
     ]
    },
    {
     "data": {
      "application/vnd.jupyter.widget-view+json": {
       "model_id": "3ccbec430f5a45d9b83da0f3de1e4bfc",
       "version_major": 2,
       "version_minor": 0
      },
      "text/html": [
       "<p>Failed to display Jupyter Widget of type <code>HBox</code>.</p>\n",
       "<p>\n",
       "  If you're reading this message in the Jupyter Notebook or JupyterLab Notebook, it may mean\n",
       "  that the widgets JavaScript is still loading. If this message persists, it\n",
       "  likely means that the widgets JavaScript library is either not installed or\n",
       "  not enabled. See the <a href=\"https://ipywidgets.readthedocs.io/en/stable/user_install.html\">Jupyter\n",
       "  Widgets Documentation</a> for setup instructions.\n",
       "</p>\n",
       "<p>\n",
       "  If you're reading this message in another frontend (for example, a static\n",
       "  rendering on GitHub or <a href=\"https://nbviewer.jupyter.org/\">NBViewer</a>),\n",
       "  it may mean that your frontend doesn't currently support widgets.\n",
       "</p>\n"
      ],
      "text/plain": [
       "HBox(children=(IntProgress(value=1, bar_style='info', max=1), HTML(value='')))"
      ]
     },
     "metadata": {},
     "output_type": "display_data"
    },
    {
     "name": "stdout",
     "output_type": "stream",
     "text": [
      "\n",
      "train 6 (9058): loss=0.12655, precision=0.755369, recall=0.423556, F1=0.542767\n",
      "dev 6 (9058): loss=0.13195, precision=0.752404, recall=0.393548, F1=0.516788\n"
     ]
    },
    {
     "data": {
      "application/vnd.jupyter.widget-view+json": {
       "model_id": "0f9f90b2ae184c61a27f375df01e97db",
       "version_major": 2,
       "version_minor": 0
      },
      "text/html": [
       "<p>Failed to display Jupyter Widget of type <code>HBox</code>.</p>\n",
       "<p>\n",
       "  If you're reading this message in the Jupyter Notebook or JupyterLab Notebook, it may mean\n",
       "  that the widgets JavaScript is still loading. If this message persists, it\n",
       "  likely means that the widgets JavaScript library is either not installed or\n",
       "  not enabled. See the <a href=\"https://ipywidgets.readthedocs.io/en/stable/user_install.html\">Jupyter\n",
       "  Widgets Documentation</a> for setup instructions.\n",
       "</p>\n",
       "<p>\n",
       "  If you're reading this message in another frontend (for example, a static\n",
       "  rendering on GitHub or <a href=\"https://nbviewer.jupyter.org/\">NBViewer</a>),\n",
       "  it may mean that your frontend doesn't currently support widgets.\n",
       "</p>\n"
      ],
      "text/plain": [
       "HBox(children=(IntProgress(value=1, bar_style='info', max=1), HTML(value='')))"
      ]
     },
     "metadata": {},
     "output_type": "display_data"
    }
   ],
   "source": [
    "num_epochs = 100\n",
    "\n",
    "for epoch in range(num_epochs):\n",
    "    model.evaluate_dataset(sess,\n",
    "                           '../data/simplewiki/simplewiki-20171103.entity_recognition.train.tfrecords',\n",
    "                           header='train %d' % epoch,\n",
    "                           train=True,\n",
    "                           show_progress=True)\n",
    "    model.evaluate_dataset(sess,\n",
    "                           '../data/simplewiki/simplewiki-20171103.entity_recognition.dev.tfrecords',\n",
    "                           header='dev %d' % epoch,\n",
    "                           train=False,\n",
    "                           show_progress=False)"
   ]
  },
  {
   "cell_type": "code",
   "execution_count": null,
   "metadata": {},
   "outputs": [],
   "source": []
  }
 ],
 "metadata": {
  "kernelspec": {
   "display_name": "Python 3",
   "language": "python",
   "name": "python3"
  },
  "language_info": {
   "codemirror_mode": {
    "name": "ipython",
    "version": 3
   },
   "file_extension": ".py",
   "mimetype": "text/x-python",
   "name": "python",
   "nbconvert_exporter": "python",
   "pygments_lexer": "ipython3",
   "version": "3.5.4"
  }
 },
 "nbformat": 4,
 "nbformat_minor": 2
}
