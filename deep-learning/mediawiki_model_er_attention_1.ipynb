{
 "cells": [
  {
   "cell_type": "code",
   "execution_count": 1,
   "metadata": {},
   "outputs": [],
   "source": [
    "import tensorflow as tf\n",
    "import modules.mediawiki_er as mw_er\n",
    "import numpy as np\n",
    "import gzip\n",
    "from tensorflow.python.client import timeline\n",
    "from tqdm import tqdm"
   ]
  },
  {
   "cell_type": "code",
   "execution_count": 2,
   "metadata": {},
   "outputs": [],
   "source": [
    "sess = None"
   ]
  },
  {
   "cell_type": "code",
   "execution_count": 3,
   "metadata": {},
   "outputs": [],
   "source": [
    "class HyperParameters():\n",
    "    # adam learning rate\n",
    "    learning_rate = 1e-3\n",
    "    \n",
    "    # maximum number of symbols in an input sequence\n",
    "    max_sequence_length = 40\n",
    "\n",
    "    # number of symbols in vocabulary\n",
    "    # (symbols are expected to be in range(vocab_size))\n",
    "    vocab_size = 10000\n",
    "\n",
    "    # number of dimensions in input embeddings\n",
    "    embedding_size = 128\n",
    "    \n",
    "    # number of hidden units in ff layer \n",
    "    ff_size = 256\n",
    "    \n",
    "    # number of combined (attention + feed forward) layers\n",
    "    num_layers = 4\n",
    "    \n",
    "    # dropout rate\n",
    "    dropout_rate = 0.1\n",
    "    \n",
    "    # number of sequences per batch\n",
    "    pipeline_batch_size = 1024\n",
    "    \n",
    "    # number of parsing threads in data pipeline\n",
    "    pipeline_num_parallel_calls = 4\n",
    "    \n",
    "    # size of prefetch in data pipeline\n",
    "    pipeline_prefetch_size = pipeline_batch_size * 16\n",
    "    \n",
    "    # shuffle buffer size\n",
    "    pipeline_shuffle_size = 10000\n",
    "\n",
    "hp = HyperParameters()"
   ]
  },
  {
   "cell_type": "code",
   "execution_count": 4,
   "metadata": {},
   "outputs": [],
   "source": [
    "class AttentionModel(mw_er.BaseModel):\n",
    "    def __init__(self, hp):\n",
    "#         with gzip.open('../data/simplewiki/simplewiki-20171103.topic_model_1_128.embedding.npy.gz', 'rb') as f:\n",
    "#             self._page_id_embeddings = tf.constant(np.load(f), dtype=tf.float32)\n",
    "        \n",
    "        super().__init__(hp)\n",
    "    \n",
    "    def _build_prediction_model_internal(self):\n",
    "        # Layer normalization\n",
    "        # -------------------\n",
    "\n",
    "        def layer_norm(x, scope, reuse=None, epsilon=1e-6):\n",
    "            with tf.variable_scope(scope, reuse=reuse):\n",
    "                num_units = self._hp.embedding_size\n",
    "                scale = tf.get_variable(\n",
    "                    \"layer_norm_scale\", [num_units], initializer=tf.ones_initializer())\n",
    "                bias = tf.get_variable(\n",
    "                    \"layer_norm_bias\", [num_units], initializer=tf.zeros_initializer())\n",
    "                result = layer_norm_compute(x, epsilon, scale, bias)\n",
    "                return result\n",
    "\n",
    "        def layer_norm_compute(x, epsilon, scale, bias):\n",
    "            # TODO: incorporate length into layer normalization?\n",
    "            mean = tf.reduce_mean(x, axis=[-1], keep_dims=True)\n",
    "            variance = tf.reduce_mean(tf.square(x - mean), axis=[-1], keep_dims=True)\n",
    "            norm_x = (x - mean) * tf.rsqrt(variance + epsilon)\n",
    "            return norm_x * scale + bias\n",
    "        \n",
    "        # Embeddings\n",
    "        # ----------\n",
    "        \n",
    "        with tf.variable_scope('embeddings'):\n",
    "#             input_page_ids_embedded = tf.nn.embedding_lookup(self._page_id_embeddings,\n",
    "#                                                              self._input_page_ids)\n",
    "#             input_page_ids_embedded = tf.tile(input_page_ids_embedded,\n",
    "#                                               [1, self._hp.max_sequence_length, 1])\n",
    "            \n",
    "            input_sequence_embeddings = tf.get_variable('input_sequence_embeddings', \n",
    "                                                        (self._hp.vocab_size, self._hp.embedding_size))\n",
    "            input_sequences_embedded = tf.nn.embedding_lookup(input_sequence_embeddings, \n",
    "                                                              self._input_sequences)\n",
    "\n",
    "            input_position_embeddings = tf.get_variable('input_position_embeddings', \n",
    "                                                        (self._hp.max_sequence_length, self._hp.embedding_size))\n",
    "            input_positions_embedded = tf.nn.embedding_lookup(input_position_embeddings, self._input_positions)\n",
    "\n",
    "            sequence_mask = tf.sequence_mask(self._input_lengths,\n",
    "                                             self._hp.max_sequence_length,\n",
    "                                             dtype = tf.float32)\n",
    "            sequence_mask = tf.expand_dims(sequence_mask, 2)\n",
    "            \n",
    "#             input_concat = tf.concat([input_sequences_embedded, \n",
    "#                                       input_positions_embedded, \n",
    "#                                       input_page_ids_embedded], \n",
    "#                                      axis=-1)\n",
    "            input_concat = tf.concat([input_sequences_embedded, \n",
    "                                      input_positions_embedded], \n",
    "                                     axis=-1)\n",
    "            \n",
    "            input_combined = tf.layers.dense(input_concat, \n",
    "                                             self._hp.embedding_size, \n",
    "                                             activation=tf.nn.relu, \n",
    "                                             name='input_combined')\n",
    "            input_combined = tf.layers.dropout(input_combined,\n",
    "                                               rate=self._hp.dropout_rate,\n",
    "                                               training=self._is_training)\n",
    "            input_combined = layer_norm(input_combined,\n",
    "                                        scope='input_combined')\n",
    "            input_combined *= sequence_mask\n",
    "\n",
    "        # Attention\n",
    "        # ---------\n",
    "\n",
    "        def attention_layer(A):\n",
    "            A_T = tf.transpose(A, perm=[0, 2, 1])\n",
    "            scaled_logits = tf.matmul(A, A_T) / tf.sqrt(tf.cast(tf.shape(A)[-1], tf.float32))\n",
    "            result = tf.matmul(tf.nn.softmax(scaled_logits), A)\n",
    "            result = tf.layers.dropout(result, rate = self._hp.dropout_rate, training = self._is_training)\n",
    "            return result\n",
    "\n",
    "        # Feed-forward\n",
    "        # ------------\n",
    "\n",
    "        def feed_forward_layer(A, scope, reuse=None):\n",
    "            with tf.variable_scope(scope, reuse=reuse):\n",
    "                A = tf.layers.dense(A, self._hp.ff_size, activation=tf.nn.relu, name='fc1')\n",
    "                A = tf.layers.dense(A, self._hp.embedding_size, name='fc2')\n",
    "                A = tf.layers.dropout(A, rate = self._hp.dropout_rate, training = self._is_training)\n",
    "                return A\n",
    "\n",
    "        # Layers\n",
    "        # ------\n",
    "\n",
    "        def combined_layer(A, scope, reuse=None):\n",
    "            with tf.variable_scope(scope, reuse=reuse):\n",
    "                A = layer_norm(A + attention_layer(A), scope='attention_norm')\n",
    "                A = layer_norm(A + feed_forward_layer(A, 'ff'), scope='ff_norm')\n",
    "                A *= sequence_mask\n",
    "                return A\n",
    "\n",
    "        with tf.variable_scope('layers'):\n",
    "            layer = input_combined\n",
    "            for i in range(self._hp.num_layers):\n",
    "                layer = combined_layer(layer, 'layer_%d' % i)\n",
    "            \n",
    "        # Softmax\n",
    "        # -------\n",
    "\n",
    "        with tf.variable_scope('softmax'):\n",
    "            output_logits = tf.layers.dense(layer, 2, name = 'softmax')\n",
    "        \n",
    "        return output_logits"
   ]
  },
  {
   "cell_type": "code",
   "execution_count": 5,
   "metadata": {},
   "outputs": [
    {
     "name": "stdout",
     "output_type": "stream",
     "text": [
      "parameters for \"embeddings/input_sequence_embeddings:0\": 1280000\n",
      "parameters for \"embeddings/input_position_embeddings:0\": 5120\n",
      "parameters for \"embeddings/input_combined/kernel:0\": 32768\n",
      "parameters for \"embeddings/input_combined/bias:0\": 128\n",
      "parameters for \"embeddings/input_combined/layer_norm_scale:0\": 128\n",
      "parameters for \"embeddings/input_combined/layer_norm_bias:0\": 128\n",
      "parameters for \"layers/layer_0/attention_norm/layer_norm_scale:0\": 128\n",
      "parameters for \"layers/layer_0/attention_norm/layer_norm_bias:0\": 128\n",
      "parameters for \"layers/layer_0/ff/fc1/kernel:0\": 32768\n",
      "parameters for \"layers/layer_0/ff/fc1/bias:0\": 256\n",
      "parameters for \"layers/layer_0/ff/fc2/kernel:0\": 32768\n",
      "parameters for \"layers/layer_0/ff/fc2/bias:0\": 128\n",
      "parameters for \"layers/layer_0/ff_norm/layer_norm_scale:0\": 128\n",
      "parameters for \"layers/layer_0/ff_norm/layer_norm_bias:0\": 128\n",
      "parameters for \"layers/layer_1/attention_norm/layer_norm_scale:0\": 128\n",
      "parameters for \"layers/layer_1/attention_norm/layer_norm_bias:0\": 128\n",
      "parameters for \"layers/layer_1/ff/fc1/kernel:0\": 32768\n",
      "parameters for \"layers/layer_1/ff/fc1/bias:0\": 256\n",
      "parameters for \"layers/layer_1/ff/fc2/kernel:0\": 32768\n",
      "parameters for \"layers/layer_1/ff/fc2/bias:0\": 128\n",
      "parameters for \"layers/layer_1/ff_norm/layer_norm_scale:0\": 128\n",
      "parameters for \"layers/layer_1/ff_norm/layer_norm_bias:0\": 128\n",
      "parameters for \"layers/layer_2/attention_norm/layer_norm_scale:0\": 128\n",
      "parameters for \"layers/layer_2/attention_norm/layer_norm_bias:0\": 128\n",
      "parameters for \"layers/layer_2/ff/fc1/kernel:0\": 32768\n",
      "parameters for \"layers/layer_2/ff/fc1/bias:0\": 256\n",
      "parameters for \"layers/layer_2/ff/fc2/kernel:0\": 32768\n",
      "parameters for \"layers/layer_2/ff/fc2/bias:0\": 128\n",
      "parameters for \"layers/layer_2/ff_norm/layer_norm_scale:0\": 128\n",
      "parameters for \"layers/layer_2/ff_norm/layer_norm_bias:0\": 128\n",
      "parameters for \"layers/layer_3/attention_norm/layer_norm_scale:0\": 128\n",
      "parameters for \"layers/layer_3/attention_norm/layer_norm_bias:0\": 128\n",
      "parameters for \"layers/layer_3/ff/fc1/kernel:0\": 32768\n",
      "parameters for \"layers/layer_3/ff/fc1/bias:0\": 256\n",
      "parameters for \"layers/layer_3/ff/fc2/kernel:0\": 32768\n",
      "parameters for \"layers/layer_3/ff/fc2/bias:0\": 128\n",
      "parameters for \"layers/layer_3/ff_norm/layer_norm_scale:0\": 128\n",
      "parameters for \"layers/layer_3/ff_norm/layer_norm_bias:0\": 128\n",
      "parameters for \"softmax/softmax/kernel:0\": 256\n",
      "parameters for \"softmax/softmax/bias:0\": 2\n",
      "total parameters: 1584258\n"
     ]
    }
   ],
   "source": [
    "sess = mw_er.reset_tf(sess)\n",
    "model = AttentionModel(hp)\n",
    "model.dump_statistics()"
   ]
  },
  {
   "cell_type": "code",
   "execution_count": 6,
   "metadata": {},
   "outputs": [],
   "source": [
    "sess.run(tf.global_variables_initializer())"
   ]
  },
  {
   "cell_type": "code",
   "execution_count": 7,
   "metadata": {},
   "outputs": [
    {
     "data": {
      "application/vnd.jupyter.widget-view+json": {
       "model_id": "bba9f4b434df4bd986788d5de90a15ce",
       "version_major": 2,
       "version_minor": 0
      },
      "text/html": [
       "<p>Failed to display Jupyter Widget of type <code>HBox</code>.</p>\n",
       "<p>\n",
       "  If you're reading this message in the Jupyter Notebook or JupyterLab Notebook, it may mean\n",
       "  that the widgets JavaScript is still loading. If this message persists, it\n",
       "  likely means that the widgets JavaScript library is either not installed or\n",
       "  not enabled. See the <a href=\"https://ipywidgets.readthedocs.io/en/stable/user_install.html\">Jupyter\n",
       "  Widgets Documentation</a> for setup instructions.\n",
       "</p>\n",
       "<p>\n",
       "  If you're reading this message in another frontend (for example, a static\n",
       "  rendering on GitHub or <a href=\"https://nbviewer.jupyter.org/\">NBViewer</a>),\n",
       "  it may mean that your frontend doesn't currently support widgets.\n",
       "</p>\n"
      ],
      "text/plain": [
       "HBox(children=(IntProgress(value=1, bar_style='info', max=1), HTML(value='')))"
      ]
     },
     "metadata": {},
     "output_type": "display_data"
    },
    {
     "name": "stdout",
     "output_type": "stream",
     "text": [
      "\n",
      "train 0 (1294): loss=0.161792, precision=0.679477, recall=0.254492, F1=0.370294\n",
      "dev 0 (1294): loss=0.159657, precision=0.555457, recall=0.439154, F1=0.490505\n"
     ]
    },
    {
     "data": {
      "application/vnd.jupyter.widget-view+json": {
       "model_id": "d2f28733754c425286767b7f8a973231",
       "version_major": 2,
       "version_minor": 0
      },
      "text/html": [
       "<p>Failed to display Jupyter Widget of type <code>HBox</code>.</p>\n",
       "<p>\n",
       "  If you're reading this message in the Jupyter Notebook or JupyterLab Notebook, it may mean\n",
       "  that the widgets JavaScript is still loading. If this message persists, it\n",
       "  likely means that the widgets JavaScript library is either not installed or\n",
       "  not enabled. See the <a href=\"https://ipywidgets.readthedocs.io/en/stable/user_install.html\">Jupyter\n",
       "  Widgets Documentation</a> for setup instructions.\n",
       "</p>\n",
       "<p>\n",
       "  If you're reading this message in another frontend (for example, a static\n",
       "  rendering on GitHub or <a href=\"https://nbviewer.jupyter.org/\">NBViewer</a>),\n",
       "  it may mean that your frontend doesn't currently support widgets.\n",
       "</p>\n"
      ],
      "text/plain": [
       "HBox(children=(IntProgress(value=1, bar_style='info', max=1), HTML(value='')))"
      ]
     },
     "metadata": {},
     "output_type": "display_data"
    },
    {
     "name": "stdout",
     "output_type": "stream",
     "text": [
      "\n",
      "train 1 (2588): loss=0.14513, precision=0.722012, recall=0.32609, F1=0.449271\n",
      "dev 1 (2588): loss=0.148754, precision=0.633007, recall=0.379431, F1=0.474463\n"
     ]
    },
    {
     "data": {
      "application/vnd.jupyter.widget-view+json": {
       "model_id": "d5b2228caaee44e9b10cbe4f0e7daacb",
       "version_major": 2,
       "version_minor": 0
      },
      "text/html": [
       "<p>Failed to display Jupyter Widget of type <code>HBox</code>.</p>\n",
       "<p>\n",
       "  If you're reading this message in the Jupyter Notebook or JupyterLab Notebook, it may mean\n",
       "  that the widgets JavaScript is still loading. If this message persists, it\n",
       "  likely means that the widgets JavaScript library is either not installed or\n",
       "  not enabled. See the <a href=\"https://ipywidgets.readthedocs.io/en/stable/user_install.html\">Jupyter\n",
       "  Widgets Documentation</a> for setup instructions.\n",
       "</p>\n",
       "<p>\n",
       "  If you're reading this message in another frontend (for example, a static\n",
       "  rendering on GitHub or <a href=\"https://nbviewer.jupyter.org/\">NBViewer</a>),\n",
       "  it may mean that your frontend doesn't currently support widgets.\n",
       "</p>\n"
      ],
      "text/plain": [
       "HBox(children=(IntProgress(value=1, bar_style='info', max=1), HTML(value='')))"
      ]
     },
     "metadata": {},
     "output_type": "display_data"
    },
    {
     "name": "stdout",
     "output_type": "stream",
     "text": [
      "\n",
      "train 2 (3882): loss=0.13959, precision=0.73059, recall=0.354431, F1=0.477306\n",
      "dev 2 (3882): loss=0.141333, precision=0.774503, recall=0.314543, F1=0.447391\n"
     ]
    },
    {
     "data": {
      "application/vnd.jupyter.widget-view+json": {
       "model_id": "66275807687543c1b5b64bc6ef5dccb3",
       "version_major": 2,
       "version_minor": 0
      },
      "text/html": [
       "<p>Failed to display Jupyter Widget of type <code>HBox</code>.</p>\n",
       "<p>\n",
       "  If you're reading this message in the Jupyter Notebook or JupyterLab Notebook, it may mean\n",
       "  that the widgets JavaScript is still loading. If this message persists, it\n",
       "  likely means that the widgets JavaScript library is either not installed or\n",
       "  not enabled. See the <a href=\"https://ipywidgets.readthedocs.io/en/stable/user_install.html\">Jupyter\n",
       "  Widgets Documentation</a> for setup instructions.\n",
       "</p>\n",
       "<p>\n",
       "  If you're reading this message in another frontend (for example, a static\n",
       "  rendering on GitHub or <a href=\"https://nbviewer.jupyter.org/\">NBViewer</a>),\n",
       "  it may mean that your frontend doesn't currently support widgets.\n",
       "</p>\n"
      ],
      "text/plain": [
       "HBox(children=(IntProgress(value=1, bar_style='info', max=1), HTML(value='')))"
      ]
     },
     "metadata": {},
     "output_type": "display_data"
    },
    {
     "name": "stdout",
     "output_type": "stream",
     "text": [
      "\n",
      "train 3 (5176): loss=0.135603, precision=0.737728, recall=0.374208, F1=0.496546\n",
      "dev 3 (5176): loss=0.13728, precision=0.704097, recall=0.38436, F1=0.497267\n"
     ]
    },
    {
     "data": {
      "application/vnd.jupyter.widget-view+json": {
       "model_id": "805cde29ffc542a2bda0383e568817eb",
       "version_major": 2,
       "version_minor": 0
      },
      "text/html": [
       "<p>Failed to display Jupyter Widget of type <code>HBox</code>.</p>\n",
       "<p>\n",
       "  If you're reading this message in the Jupyter Notebook or JupyterLab Notebook, it may mean\n",
       "  that the widgets JavaScript is still loading. If this message persists, it\n",
       "  likely means that the widgets JavaScript library is either not installed or\n",
       "  not enabled. See the <a href=\"https://ipywidgets.readthedocs.io/en/stable/user_install.html\">Jupyter\n",
       "  Widgets Documentation</a> for setup instructions.\n",
       "</p>\n",
       "<p>\n",
       "  If you're reading this message in another frontend (for example, a static\n",
       "  rendering on GitHub or <a href=\"https://nbviewer.jupyter.org/\">NBViewer</a>),\n",
       "  it may mean that your frontend doesn't currently support widgets.\n",
       "</p>\n"
      ],
      "text/plain": [
       "HBox(children=(IntProgress(value=1, bar_style='info', max=1), HTML(value='')))"
      ]
     },
     "metadata": {},
     "output_type": "display_data"
    },
    {
     "name": "stdout",
     "output_type": "stream",
     "text": [
      "\n",
      "train 4 (6470): loss=0.132764, precision=0.743637, recall=0.38874, F1=0.510574\n",
      "dev 4 (6470): loss=0.134943, precision=0.752187, recall=0.369069, F1=0.495175\n"
     ]
    },
    {
     "data": {
      "application/vnd.jupyter.widget-view+json": {
       "model_id": "af23914be057437faaf00cf9fe64fb0f",
       "version_major": 2,
       "version_minor": 0
      },
      "text/html": [
       "<p>Failed to display Jupyter Widget of type <code>HBox</code>.</p>\n",
       "<p>\n",
       "  If you're reading this message in the Jupyter Notebook or JupyterLab Notebook, it may mean\n",
       "  that the widgets JavaScript is still loading. If this message persists, it\n",
       "  likely means that the widgets JavaScript library is either not installed or\n",
       "  not enabled. See the <a href=\"https://ipywidgets.readthedocs.io/en/stable/user_install.html\">Jupyter\n",
       "  Widgets Documentation</a> for setup instructions.\n",
       "</p>\n",
       "<p>\n",
       "  If you're reading this message in another frontend (for example, a static\n",
       "  rendering on GitHub or <a href=\"https://nbviewer.jupyter.org/\">NBViewer</a>),\n",
       "  it may mean that your frontend doesn't currently support widgets.\n",
       "</p>\n"
      ],
      "text/plain": [
       "HBox(children=(IntProgress(value=1, bar_style='info', max=1), HTML(value='')))"
      ]
     },
     "metadata": {},
     "output_type": "display_data"
    },
    {
     "name": "stdout",
     "output_type": "stream",
     "text": [
      "\n",
      "train 5 (7764): loss=0.130305, precision=0.748738, recall=0.401389, F1=0.522612\n",
      "dev 5 (7764): loss=0.137743, precision=0.825066, recall=0.301767, F1=0.441907\n"
     ]
    },
    {
     "data": {
      "application/vnd.jupyter.widget-view+json": {
       "model_id": "383363f500ed4201ab5e0242a3549b0c",
       "version_major": 2,
       "version_minor": 0
      },
      "text/html": [
       "<p>Failed to display Jupyter Widget of type <code>HBox</code>.</p>\n",
       "<p>\n",
       "  If you're reading this message in the Jupyter Notebook or JupyterLab Notebook, it may mean\n",
       "  that the widgets JavaScript is still loading. If this message persists, it\n",
       "  likely means that the widgets JavaScript library is either not installed or\n",
       "  not enabled. See the <a href=\"https://ipywidgets.readthedocs.io/en/stable/user_install.html\">Jupyter\n",
       "  Widgets Documentation</a> for setup instructions.\n",
       "</p>\n",
       "<p>\n",
       "  If you're reading this message in another frontend (for example, a static\n",
       "  rendering on GitHub or <a href=\"https://nbviewer.jupyter.org/\">NBViewer</a>),\n",
       "  it may mean that your frontend doesn't currently support widgets.\n",
       "</p>\n"
      ],
      "text/plain": [
       "HBox(children=(IntProgress(value=1, bar_style='info', max=1), HTML(value='')))"
      ]
     },
     "metadata": {},
     "output_type": "display_data"
    },
    {
     "name": "stdout",
     "output_type": "stream",
     "text": [
      "\n",
      "train 6 (9058): loss=0.128431, precision=0.752496, recall=0.410904, F1=0.531552\n",
      "dev 6 (9058): loss=0.133407, precision=0.737931, recall=0.398276, F1=0.517336\n"
     ]
    },
    {
     "data": {
      "application/vnd.jupyter.widget-view+json": {
       "model_id": "355cb60ba6064ece93dfc1e4a68de354",
       "version_major": 2,
       "version_minor": 0
      },
      "text/html": [
       "<p>Failed to display Jupyter Widget of type <code>HBox</code>.</p>\n",
       "<p>\n",
       "  If you're reading this message in the Jupyter Notebook or JupyterLab Notebook, it may mean\n",
       "  that the widgets JavaScript is still loading. If this message persists, it\n",
       "  likely means that the widgets JavaScript library is either not installed or\n",
       "  not enabled. See the <a href=\"https://ipywidgets.readthedocs.io/en/stable/user_install.html\">Jupyter\n",
       "  Widgets Documentation</a> for setup instructions.\n",
       "</p>\n",
       "<p>\n",
       "  If you're reading this message in another frontend (for example, a static\n",
       "  rendering on GitHub or <a href=\"https://nbviewer.jupyter.org/\">NBViewer</a>),\n",
       "  it may mean that your frontend doesn't currently support widgets.\n",
       "</p>\n"
      ],
      "text/plain": [
       "HBox(children=(IntProgress(value=1, bar_style='info', max=1), HTML(value='')))"
      ]
     },
     "metadata": {},
     "output_type": "display_data"
    },
    {
     "name": "stdout",
     "output_type": "stream",
     "text": [
      "\n",
      "train 7 (10352): loss=0.126717, precision=0.754465, recall=0.420651, F1=0.540145\n",
      "dev 7 (10352): loss=0.132731, precision=0.725277, recall=0.410952, F1=0.524637\n"
     ]
    },
    {
     "data": {
      "application/vnd.jupyter.widget-view+json": {
       "model_id": "aeffa0f1080340899eeea5e98b92021d",
       "version_major": 2,
       "version_minor": 0
      },
      "text/html": [
       "<p>Failed to display Jupyter Widget of type <code>HBox</code>.</p>\n",
       "<p>\n",
       "  If you're reading this message in the Jupyter Notebook or JupyterLab Notebook, it may mean\n",
       "  that the widgets JavaScript is still loading. If this message persists, it\n",
       "  likely means that the widgets JavaScript library is either not installed or\n",
       "  not enabled. See the <a href=\"https://ipywidgets.readthedocs.io/en/stable/user_install.html\">Jupyter\n",
       "  Widgets Documentation</a> for setup instructions.\n",
       "</p>\n",
       "<p>\n",
       "  If you're reading this message in another frontend (for example, a static\n",
       "  rendering on GitHub or <a href=\"https://nbviewer.jupyter.org/\">NBViewer</a>),\n",
       "  it may mean that your frontend doesn't currently support widgets.\n",
       "</p>\n"
      ],
      "text/plain": [
       "HBox(children=(IntProgress(value=1, bar_style='info', max=1), HTML(value='')))"
      ]
     },
     "metadata": {},
     "output_type": "display_data"
    },
    {
     "name": "stdout",
     "output_type": "stream",
     "text": [
      "\n",
      "train 8 (11646): loss=0.125242, precision=0.758628, recall=0.428532, F1=0.547687\n",
      "dev 8 (11646): loss=0.133137, precision=0.710079, recall=0.424533, F1=0.531375\n"
     ]
    },
    {
     "data": {
      "application/vnd.jupyter.widget-view+json": {
       "model_id": "e7a30aff9b394169b977ec16fdcc12f8",
       "version_major": 2,
       "version_minor": 0
      },
      "text/html": [
       "<p>Failed to display Jupyter Widget of type <code>HBox</code>.</p>\n",
       "<p>\n",
       "  If you're reading this message in the Jupyter Notebook or JupyterLab Notebook, it may mean\n",
       "  that the widgets JavaScript is still loading. If this message persists, it\n",
       "  likely means that the widgets JavaScript library is either not installed or\n",
       "  not enabled. See the <a href=\"https://ipywidgets.readthedocs.io/en/stable/user_install.html\">Jupyter\n",
       "  Widgets Documentation</a> for setup instructions.\n",
       "</p>\n",
       "<p>\n",
       "  If you're reading this message in another frontend (for example, a static\n",
       "  rendering on GitHub or <a href=\"https://nbviewer.jupyter.org/\">NBViewer</a>),\n",
       "  it may mean that your frontend doesn't currently support widgets.\n",
       "</p>\n"
      ],
      "text/plain": [
       "HBox(children=(IntProgress(value=1, bar_style='info', max=1), HTML(value='')))"
      ]
     },
     "metadata": {},
     "output_type": "display_data"
    },
    {
     "name": "stdout",
     "output_type": "stream",
     "text": [
      "\n",
      "train 9 (12940): loss=0.123929, precision=0.76003, recall=0.435393, F1=0.553631\n",
      "dev 9 (12940): loss=0.134817, precision=0.667766, recall=0.468697, F1=0.550796\n"
     ]
    },
    {
     "data": {
      "application/vnd.jupyter.widget-view+json": {
       "model_id": "3820bfc952474bd2aba938bb438c2ecc",
       "version_major": 2,
       "version_minor": 0
      },
      "text/html": [
       "<p>Failed to display Jupyter Widget of type <code>HBox</code>.</p>\n",
       "<p>\n",
       "  If you're reading this message in the Jupyter Notebook or JupyterLab Notebook, it may mean\n",
       "  that the widgets JavaScript is still loading. If this message persists, it\n",
       "  likely means that the widgets JavaScript library is either not installed or\n",
       "  not enabled. See the <a href=\"https://ipywidgets.readthedocs.io/en/stable/user_install.html\">Jupyter\n",
       "  Widgets Documentation</a> for setup instructions.\n",
       "</p>\n",
       "<p>\n",
       "  If you're reading this message in another frontend (for example, a static\n",
       "  rendering on GitHub or <a href=\"https://nbviewer.jupyter.org/\">NBViewer</a>),\n",
       "  it may mean that your frontend doesn't currently support widgets.\n",
       "</p>\n"
      ],
      "text/plain": [
       "HBox(children=(IntProgress(value=1, bar_style='info', max=1), HTML(value='')))"
      ]
     },
     "metadata": {},
     "output_type": "display_data"
    },
    {
     "name": "stdout",
     "output_type": "stream",
     "text": [
      "\n",
      "train 10 (14234): loss=0.122753, precision=0.761939, recall=0.441956, F1=0.559424\n",
      "dev 10 (14234): loss=0.133953, precision=0.682807, recall=0.457731, F1=0.548061\n"
     ]
    },
    {
     "data": {
      "application/vnd.jupyter.widget-view+json": {
       "model_id": "d6f8003c5c824f4c820e50aec26463b1",
       "version_major": 2,
       "version_minor": 0
      },
      "text/html": [
       "<p>Failed to display Jupyter Widget of type <code>HBox</code>.</p>\n",
       "<p>\n",
       "  If you're reading this message in the Jupyter Notebook or JupyterLab Notebook, it may mean\n",
       "  that the widgets JavaScript is still loading. If this message persists, it\n",
       "  likely means that the widgets JavaScript library is either not installed or\n",
       "  not enabled. See the <a href=\"https://ipywidgets.readthedocs.io/en/stable/user_install.html\">Jupyter\n",
       "  Widgets Documentation</a> for setup instructions.\n",
       "</p>\n",
       "<p>\n",
       "  If you're reading this message in another frontend (for example, a static\n",
       "  rendering on GitHub or <a href=\"https://nbviewer.jupyter.org/\">NBViewer</a>),\n",
       "  it may mean that your frontend doesn't currently support widgets.\n",
       "</p>\n"
      ],
      "text/plain": [
       "HBox(children=(IntProgress(value=1, bar_style='info', max=1), HTML(value='')))"
      ]
     },
     "metadata": {},
     "output_type": "display_data"
    },
    {
     "name": "stdout",
     "output_type": "stream",
     "text": [
      "\n",
      "train 11 (15528): loss=0.121654, precision=0.764691, recall=0.448288, F1=0.565223\n",
      "dev 11 (15528): loss=0.134003, precision=0.682363, recall=0.458234, F1=0.548278\n"
     ]
    },
    {
     "data": {
      "application/vnd.jupyter.widget-view+json": {
       "model_id": "d1d3af8cfdc3478b9c6da3fe33da1160",
       "version_major": 2,
       "version_minor": 0
      },
      "text/html": [
       "<p>Failed to display Jupyter Widget of type <code>HBox</code>.</p>\n",
       "<p>\n",
       "  If you're reading this message in the Jupyter Notebook or JupyterLab Notebook, it may mean\n",
       "  that the widgets JavaScript is still loading. If this message persists, it\n",
       "  likely means that the widgets JavaScript library is either not installed or\n",
       "  not enabled. See the <a href=\"https://ipywidgets.readthedocs.io/en/stable/user_install.html\">Jupyter\n",
       "  Widgets Documentation</a> for setup instructions.\n",
       "</p>\n",
       "<p>\n",
       "  If you're reading this message in another frontend (for example, a static\n",
       "  rendering on GitHub or <a href=\"https://nbviewer.jupyter.org/\">NBViewer</a>),\n",
       "  it may mean that your frontend doesn't currently support widgets.\n",
       "</p>\n"
      ],
      "text/plain": [
       "HBox(children=(IntProgress(value=1, bar_style='info', max=1), HTML(value='')))"
      ]
     },
     "metadata": {},
     "output_type": "display_data"
    },
    {
     "name": "stdout",
     "output_type": "stream",
     "text": [
      "\n",
      "train 12 (16822): loss=0.120622, precision=0.765749, recall=0.453816, F1=0.56989\n",
      "dev 12 (16822): loss=0.135664, precision=0.656288, recall=0.484189, F1=0.557254\n"
     ]
    },
    {
     "data": {
      "application/vnd.jupyter.widget-view+json": {
       "model_id": "bef426478f3c44e484e262ada7ee16ff",
       "version_major": 2,
       "version_minor": 0
      },
      "text/html": [
       "<p>Failed to display Jupyter Widget of type <code>HBox</code>.</p>\n",
       "<p>\n",
       "  If you're reading this message in the Jupyter Notebook or JupyterLab Notebook, it may mean\n",
       "  that the widgets JavaScript is still loading. If this message persists, it\n",
       "  likely means that the widgets JavaScript library is either not installed or\n",
       "  not enabled. See the <a href=\"https://ipywidgets.readthedocs.io/en/stable/user_install.html\">Jupyter\n",
       "  Widgets Documentation</a> for setup instructions.\n",
       "</p>\n",
       "<p>\n",
       "  If you're reading this message in another frontend (for example, a static\n",
       "  rendering on GitHub or <a href=\"https://nbviewer.jupyter.org/\">NBViewer</a>),\n",
       "  it may mean that your frontend doesn't currently support widgets.\n",
       "</p>\n"
      ],
      "text/plain": [
       "HBox(children=(IntProgress(value=1, bar_style='info', max=1), HTML(value='')))"
      ]
     },
     "metadata": {},
     "output_type": "display_data"
    },
    {
     "name": "stdout",
     "output_type": "stream",
     "text": [
      "\n",
      "train 13 (18116): loss=0.119726, precision=0.767562, recall=0.458778, F1=0.574295\n",
      "dev 13 (18116): loss=0.135363, precision=0.670304, recall=0.473827, F1=0.555195\n"
     ]
    },
    {
     "data": {
      "application/vnd.jupyter.widget-view+json": {
       "model_id": "122ea625342d41bfafcb3bd3a953bf0a",
       "version_major": 2,
       "version_minor": 0
      },
      "text/html": [
       "<p>Failed to display Jupyter Widget of type <code>HBox</code>.</p>\n",
       "<p>\n",
       "  If you're reading this message in the Jupyter Notebook or JupyterLab Notebook, it may mean\n",
       "  that the widgets JavaScript is still loading. If this message persists, it\n",
       "  likely means that the widgets JavaScript library is either not installed or\n",
       "  not enabled. See the <a href=\"https://ipywidgets.readthedocs.io/en/stable/user_install.html\">Jupyter\n",
       "  Widgets Documentation</a> for setup instructions.\n",
       "</p>\n",
       "<p>\n",
       "  If you're reading this message in another frontend (for example, a static\n",
       "  rendering on GitHub or <a href=\"https://nbviewer.jupyter.org/\">NBViewer</a>),\n",
       "  it may mean that your frontend doesn't currently support widgets.\n",
       "</p>\n"
      ],
      "text/plain": [
       "HBox(children=(IntProgress(value=1, bar_style='info', max=1), HTML(value='')))"
      ]
     },
     "metadata": {},
     "output_type": "display_data"
    },
    {
     "name": "stdout",
     "output_type": "stream",
     "text": [
      "\n",
      "train 14 (19410): loss=0.118833, precision=0.768997, recall=0.463328, F1=0.578253\n",
      "dev 14 (19410): loss=0.133735, precision=0.690313, recall=0.452601, F1=0.546736\n"
     ]
    },
    {
     "data": {
      "application/vnd.jupyter.widget-view+json": {
       "model_id": "b15f86ec4d1e458f9a6a78df834c4191",
       "version_major": 2,
       "version_minor": 0
      },
      "text/html": [
       "<p>Failed to display Jupyter Widget of type <code>HBox</code>.</p>\n",
       "<p>\n",
       "  If you're reading this message in the Jupyter Notebook or JupyterLab Notebook, it may mean\n",
       "  that the widgets JavaScript is still loading. If this message persists, it\n",
       "  likely means that the widgets JavaScript library is either not installed or\n",
       "  not enabled. See the <a href=\"https://ipywidgets.readthedocs.io/en/stable/user_install.html\">Jupyter\n",
       "  Widgets Documentation</a> for setup instructions.\n",
       "</p>\n",
       "<p>\n",
       "  If you're reading this message in another frontend (for example, a static\n",
       "  rendering on GitHub or <a href=\"https://nbviewer.jupyter.org/\">NBViewer</a>),\n",
       "  it may mean that your frontend doesn't currently support widgets.\n",
       "</p>\n"
      ],
      "text/plain": [
       "HBox(children=(IntProgress(value=1, bar_style='info', max=1), HTML(value='')))"
      ]
     },
     "metadata": {},
     "output_type": "display_data"
    },
    {
     "name": "stdout",
     "output_type": "stream",
     "text": [
      "\n",
      "train 15 (20704): loss=0.118081, precision=0.769753, recall=0.467556, F1=0.58175\n",
      "dev 15 (20704): loss=0.135126, precision=0.666194, recall=0.472419, F1=0.552817\n"
     ]
    },
    {
     "data": {
      "application/vnd.jupyter.widget-view+json": {
       "model_id": "3465150475a349ee87bc7a195106ead4",
       "version_major": 2,
       "version_minor": 0
      },
      "text/html": [
       "<p>Failed to display Jupyter Widget of type <code>HBox</code>.</p>\n",
       "<p>\n",
       "  If you're reading this message in the Jupyter Notebook or JupyterLab Notebook, it may mean\n",
       "  that the widgets JavaScript is still loading. If this message persists, it\n",
       "  likely means that the widgets JavaScript library is either not installed or\n",
       "  not enabled. See the <a href=\"https://ipywidgets.readthedocs.io/en/stable/user_install.html\">Jupyter\n",
       "  Widgets Documentation</a> for setup instructions.\n",
       "</p>\n",
       "<p>\n",
       "  If you're reading this message in another frontend (for example, a static\n",
       "  rendering on GitHub or <a href=\"https://nbviewer.jupyter.org/\">NBViewer</a>),\n",
       "  it may mean that your frontend doesn't currently support widgets.\n",
       "</p>\n"
      ],
      "text/plain": [
       "HBox(children=(IntProgress(value=1, bar_style='info', max=1), HTML(value='')))"
      ]
     },
     "metadata": {},
     "output_type": "display_data"
    },
    {
     "name": "stdout",
     "output_type": "stream",
     "text": [
      "\n",
      "train 16 (21998): loss=0.117315, precision=0.770956, recall=0.471973, F1=0.585505\n",
      "dev 16 (21998): loss=0.133478, precision=0.686055, recall=0.458804, F1=0.549875\n"
     ]
    },
    {
     "data": {
      "application/vnd.jupyter.widget-view+json": {
       "model_id": "3b8c8c7b64f5471ca709fff75d806a1e",
       "version_major": 2,
       "version_minor": 0
      },
      "text/html": [
       "<p>Failed to display Jupyter Widget of type <code>HBox</code>.</p>\n",
       "<p>\n",
       "  If you're reading this message in the Jupyter Notebook or JupyterLab Notebook, it may mean\n",
       "  that the widgets JavaScript is still loading. If this message persists, it\n",
       "  likely means that the widgets JavaScript library is either not installed or\n",
       "  not enabled. See the <a href=\"https://ipywidgets.readthedocs.io/en/stable/user_install.html\">Jupyter\n",
       "  Widgets Documentation</a> for setup instructions.\n",
       "</p>\n",
       "<p>\n",
       "  If you're reading this message in another frontend (for example, a static\n",
       "  rendering on GitHub or <a href=\"https://nbviewer.jupyter.org/\">NBViewer</a>),\n",
       "  it may mean that your frontend doesn't currently support widgets.\n",
       "</p>\n"
      ],
      "text/plain": [
       "HBox(children=(IntProgress(value=1, bar_style='info', max=1), HTML(value='')))"
      ]
     },
     "metadata": {},
     "output_type": "display_data"
    },
    {
     "name": "stdout",
     "output_type": "stream",
     "text": [
      "\n",
      "train 17 (23292): loss=0.116579, precision=0.77306, recall=0.476103, F1=0.589284\n",
      "dev 17 (23292): loss=0.133834, precision=0.677485, recall=0.468294, F1=0.553793\n"
     ]
    },
    {
     "data": {
      "application/vnd.jupyter.widget-view+json": {
       "model_id": "29d90111059f492c85dfde002d4358c1",
       "version_major": 2,
       "version_minor": 0
      },
      "text/html": [
       "<p>Failed to display Jupyter Widget of type <code>HBox</code>.</p>\n",
       "<p>\n",
       "  If you're reading this message in the Jupyter Notebook or JupyterLab Notebook, it may mean\n",
       "  that the widgets JavaScript is still loading. If this message persists, it\n",
       "  likely means that the widgets JavaScript library is either not installed or\n",
       "  not enabled. See the <a href=\"https://ipywidgets.readthedocs.io/en/stable/user_install.html\">Jupyter\n",
       "  Widgets Documentation</a> for setup instructions.\n",
       "</p>\n",
       "<p>\n",
       "  If you're reading this message in another frontend (for example, a static\n",
       "  rendering on GitHub or <a href=\"https://nbviewer.jupyter.org/\">NBViewer</a>),\n",
       "  it may mean that your frontend doesn't currently support widgets.\n",
       "</p>\n"
      ],
      "text/plain": [
       "HBox(children=(IntProgress(value=1, bar_style='info', max=1), HTML(value='')))"
      ]
     },
     "metadata": {},
     "output_type": "display_data"
    },
    {
     "name": "stdout",
     "output_type": "stream",
     "text": [
      "\n",
      "train 18 (24586): loss=0.115959, precision=0.773423, recall=0.479261, F1=0.591804\n",
      "dev 18 (24586): loss=0.133607, precision=0.690648, recall=0.451963, F1=0.546376\n"
     ]
    },
    {
     "data": {
      "application/vnd.jupyter.widget-view+json": {
       "model_id": "942633a2ee1b48fea33dcf41f0d71dfe",
       "version_major": 2,
       "version_minor": 0
      },
      "text/html": [
       "<p>Failed to display Jupyter Widget of type <code>HBox</code>.</p>\n",
       "<p>\n",
       "  If you're reading this message in the Jupyter Notebook or JupyterLab Notebook, it may mean\n",
       "  that the widgets JavaScript is still loading. If this message persists, it\n",
       "  likely means that the widgets JavaScript library is either not installed or\n",
       "  not enabled. See the <a href=\"https://ipywidgets.readthedocs.io/en/stable/user_install.html\">Jupyter\n",
       "  Widgets Documentation</a> for setup instructions.\n",
       "</p>\n",
       "<p>\n",
       "  If you're reading this message in another frontend (for example, a static\n",
       "  rendering on GitHub or <a href=\"https://nbviewer.jupyter.org/\">NBViewer</a>),\n",
       "  it may mean that your frontend doesn't currently support widgets.\n",
       "</p>\n"
      ],
      "text/plain": [
       "HBox(children=(IntProgress(value=1, bar_style='info', max=1), HTML(value='')))"
      ]
     },
     "metadata": {},
     "output_type": "display_data"
    },
    {
     "name": "stdout",
     "output_type": "stream",
     "text": [
      "\n",
      "train 19 (25880): loss=0.115387, precision=0.774432, recall=0.482528, F1=0.594586\n",
      "dev 19 (25880): loss=0.13477, precision=0.665508, recall=0.475303, F1=0.554549\n"
     ]
    },
    {
     "data": {
      "application/vnd.jupyter.widget-view+json": {
       "model_id": "5f5bf1fd8a8d4f36a1e96855a771967b",
       "version_major": 2,
       "version_minor": 0
      },
      "text/html": [
       "<p>Failed to display Jupyter Widget of type <code>HBox</code>.</p>\n",
       "<p>\n",
       "  If you're reading this message in the Jupyter Notebook or JupyterLab Notebook, it may mean\n",
       "  that the widgets JavaScript is still loading. If this message persists, it\n",
       "  likely means that the widgets JavaScript library is either not installed or\n",
       "  not enabled. See the <a href=\"https://ipywidgets.readthedocs.io/en/stable/user_install.html\">Jupyter\n",
       "  Widgets Documentation</a> for setup instructions.\n",
       "</p>\n",
       "<p>\n",
       "  If you're reading this message in another frontend (for example, a static\n",
       "  rendering on GitHub or <a href=\"https://nbviewer.jupyter.org/\">NBViewer</a>),\n",
       "  it may mean that your frontend doesn't currently support widgets.\n",
       "</p>\n"
      ],
      "text/plain": [
       "HBox(children=(IntProgress(value=1, bar_style='info', max=1), HTML(value='')))"
      ]
     },
     "metadata": {},
     "output_type": "display_data"
    },
    {
     "name": "stdout",
     "output_type": "stream",
     "text": [
      "\n",
      "train 20 (27174): loss=0.114712, precision=0.775049, recall=0.485942, F1=0.597353\n",
      "dev 20 (27174): loss=0.132676, precision=0.720884, recall=0.423426, F1=0.533494\n"
     ]
    },
    {
     "data": {
      "application/vnd.jupyter.widget-view+json": {
       "model_id": "6fcca409b0264cf1817ae465f3b1e6c3",
       "version_major": 2,
       "version_minor": 0
      },
      "text/html": [
       "<p>Failed to display Jupyter Widget of type <code>HBox</code>.</p>\n",
       "<p>\n",
       "  If you're reading this message in the Jupyter Notebook or JupyterLab Notebook, it may mean\n",
       "  that the widgets JavaScript is still loading. If this message persists, it\n",
       "  likely means that the widgets JavaScript library is either not installed or\n",
       "  not enabled. See the <a href=\"https://ipywidgets.readthedocs.io/en/stable/user_install.html\">Jupyter\n",
       "  Widgets Documentation</a> for setup instructions.\n",
       "</p>\n",
       "<p>\n",
       "  If you're reading this message in another frontend (for example, a static\n",
       "  rendering on GitHub or <a href=\"https://nbviewer.jupyter.org/\">NBViewer</a>),\n",
       "  it may mean that your frontend doesn't currently support widgets.\n",
       "</p>\n"
      ],
      "text/plain": [
       "HBox(children=(IntProgress(value=1, bar_style='info', max=1), HTML(value='')))"
      ]
     },
     "metadata": {},
     "output_type": "display_data"
    },
    {
     "name": "stdout",
     "output_type": "stream",
     "text": [
      "\n",
      "train 21 (28468): loss=0.114094, precision=0.776279, recall=0.489591, F1=0.600471\n",
      "dev 21 (28468): loss=0.132975, precision=0.704879, recall=0.435063, F1=0.538039\n"
     ]
    },
    {
     "data": {
      "application/vnd.jupyter.widget-view+json": {
       "model_id": "871d78ac8a5a411b92eb66c8dde3d3ec",
       "version_major": 2,
       "version_minor": 0
      },
      "text/html": [
       "<p>Failed to display Jupyter Widget of type <code>HBox</code>.</p>\n",
       "<p>\n",
       "  If you're reading this message in the Jupyter Notebook or JupyterLab Notebook, it may mean\n",
       "  that the widgets JavaScript is still loading. If this message persists, it\n",
       "  likely means that the widgets JavaScript library is either not installed or\n",
       "  not enabled. See the <a href=\"https://ipywidgets.readthedocs.io/en/stable/user_install.html\">Jupyter\n",
       "  Widgets Documentation</a> for setup instructions.\n",
       "</p>\n",
       "<p>\n",
       "  If you're reading this message in another frontend (for example, a static\n",
       "  rendering on GitHub or <a href=\"https://nbviewer.jupyter.org/\">NBViewer</a>),\n",
       "  it may mean that your frontend doesn't currently support widgets.\n",
       "</p>\n"
      ],
      "text/plain": [
       "HBox(children=(IntProgress(value=1, bar_style='info', max=1), HTML(value='')))"
      ]
     },
     "metadata": {},
     "output_type": "display_data"
    },
    {
     "name": "stdout",
     "output_type": "stream",
     "text": [
      "\n",
      "train 22 (29762): loss=0.113576, precision=0.776874, recall=0.492108, F1=0.60254\n",
      "dev 22 (29762): loss=0.132698, precision=0.716366, recall=0.427283, F1=0.535288\n"
     ]
    },
    {
     "data": {
      "application/vnd.jupyter.widget-view+json": {
       "model_id": "fce78e94bb2c4fed94c16da77e0ec668",
       "version_major": 2,
       "version_minor": 0
      },
      "text/html": [
       "<p>Failed to display Jupyter Widget of type <code>HBox</code>.</p>\n",
       "<p>\n",
       "  If you're reading this message in the Jupyter Notebook or JupyterLab Notebook, it may mean\n",
       "  that the widgets JavaScript is still loading. If this message persists, it\n",
       "  likely means that the widgets JavaScript library is either not installed or\n",
       "  not enabled. See the <a href=\"https://ipywidgets.readthedocs.io/en/stable/user_install.html\">Jupyter\n",
       "  Widgets Documentation</a> for setup instructions.\n",
       "</p>\n",
       "<p>\n",
       "  If you're reading this message in another frontend (for example, a static\n",
       "  rendering on GitHub or <a href=\"https://nbviewer.jupyter.org/\">NBViewer</a>),\n",
       "  it may mean that your frontend doesn't currently support widgets.\n",
       "</p>\n"
      ],
      "text/plain": [
       "HBox(children=(IntProgress(value=1, bar_style='info', max=1), HTML(value='')))"
      ]
     },
     "metadata": {},
     "output_type": "display_data"
    },
    {
     "name": "stdout",
     "output_type": "stream",
     "text": [
      "\n",
      "train 23 (31056): loss=0.113096, precision=0.778262, recall=0.494762, F1=0.604944\n",
      "dev 23 (31056): loss=0.133288, precision=0.714732, recall=0.429161, F1=0.5363\n"
     ]
    },
    {
     "data": {
      "application/vnd.jupyter.widget-view+json": {
       "model_id": "e5a73d35db3144c8a8becae1e048a305",
       "version_major": 2,
       "version_minor": 0
      },
      "text/html": [
       "<p>Failed to display Jupyter Widget of type <code>HBox</code>.</p>\n",
       "<p>\n",
       "  If you're reading this message in the Jupyter Notebook or JupyterLab Notebook, it may mean\n",
       "  that the widgets JavaScript is still loading. If this message persists, it\n",
       "  likely means that the widgets JavaScript library is either not installed or\n",
       "  not enabled. See the <a href=\"https://ipywidgets.readthedocs.io/en/stable/user_install.html\">Jupyter\n",
       "  Widgets Documentation</a> for setup instructions.\n",
       "</p>\n",
       "<p>\n",
       "  If you're reading this message in another frontend (for example, a static\n",
       "  rendering on GitHub or <a href=\"https://nbviewer.jupyter.org/\">NBViewer</a>),\n",
       "  it may mean that your frontend doesn't currently support widgets.\n",
       "</p>\n"
      ],
      "text/plain": [
       "HBox(children=(IntProgress(value=1, bar_style='info', max=1), HTML(value='')))"
      ]
     },
     "metadata": {},
     "output_type": "display_data"
    },
    {
     "name": "stdout",
     "output_type": "stream",
     "text": [
      "\n",
      "train 24 (32350): loss=0.112585, precision=0.779109, recall=0.497645, F1=0.607352\n",
      "dev 24 (32350): loss=0.134384, precision=0.696695, recall=0.448141, F1=0.545436\n"
     ]
    },
    {
     "data": {
      "application/vnd.jupyter.widget-view+json": {
       "model_id": "ac8a50dbd427469ea7540c7bccb376e1",
       "version_major": 2,
       "version_minor": 0
      },
      "text/html": [
       "<p>Failed to display Jupyter Widget of type <code>HBox</code>.</p>\n",
       "<p>\n",
       "  If you're reading this message in the Jupyter Notebook or JupyterLab Notebook, it may mean\n",
       "  that the widgets JavaScript is still loading. If this message persists, it\n",
       "  likely means that the widgets JavaScript library is either not installed or\n",
       "  not enabled. See the <a href=\"https://ipywidgets.readthedocs.io/en/stable/user_install.html\">Jupyter\n",
       "  Widgets Documentation</a> for setup instructions.\n",
       "</p>\n",
       "<p>\n",
       "  If you're reading this message in another frontend (for example, a static\n",
       "  rendering on GitHub or <a href=\"https://nbviewer.jupyter.org/\">NBViewer</a>),\n",
       "  it may mean that your frontend doesn't currently support widgets.\n",
       "</p>\n"
      ],
      "text/plain": [
       "HBox(children=(IntProgress(value=1, bar_style='info', max=1), HTML(value='')))"
      ]
     },
     "metadata": {},
     "output_type": "display_data"
    },
    {
     "name": "stdout",
     "output_type": "stream",
     "text": [
      "\n",
      "train 25 (33644): loss=0.112061, precision=0.780206, recall=0.500228, F1=0.609607\n",
      "dev 25 (33644): loss=0.133334, precision=0.707635, recall=0.433252, F1=0.537449\n"
     ]
    },
    {
     "data": {
      "application/vnd.jupyter.widget-view+json": {
       "model_id": "47855475b229444a8425af73d2cc17e5",
       "version_major": 2,
       "version_minor": 0
      },
      "text/html": [
       "<p>Failed to display Jupyter Widget of type <code>HBox</code>.</p>\n",
       "<p>\n",
       "  If you're reading this message in the Jupyter Notebook or JupyterLab Notebook, it may mean\n",
       "  that the widgets JavaScript is still loading. If this message persists, it\n",
       "  likely means that the widgets JavaScript library is either not installed or\n",
       "  not enabled. See the <a href=\"https://ipywidgets.readthedocs.io/en/stable/user_install.html\">Jupyter\n",
       "  Widgets Documentation</a> for setup instructions.\n",
       "</p>\n",
       "<p>\n",
       "  If you're reading this message in another frontend (for example, a static\n",
       "  rendering on GitHub or <a href=\"https://nbviewer.jupyter.org/\">NBViewer</a>),\n",
       "  it may mean that your frontend doesn't currently support widgets.\n",
       "</p>\n"
      ],
      "text/plain": [
       "HBox(children=(IntProgress(value=1, bar_style='info', max=1), HTML(value='')))"
      ]
     },
     "metadata": {},
     "output_type": "display_data"
    },
    {
     "name": "stdout",
     "output_type": "stream",
     "text": [
      "\n",
      "train 26 (34938): loss=0.111617, precision=0.780244, recall=0.502922, F1=0.611615\n",
      "dev 26 (34938): loss=0.13308, precision=0.72439, recall=0.418296, F1=0.530346\n"
     ]
    },
    {
     "data": {
      "application/vnd.jupyter.widget-view+json": {
       "model_id": "5bbd80e5d35044ad990ca05640f87873",
       "version_major": 2,
       "version_minor": 0
      },
      "text/html": [
       "<p>Failed to display Jupyter Widget of type <code>HBox</code>.</p>\n",
       "<p>\n",
       "  If you're reading this message in the Jupyter Notebook or JupyterLab Notebook, it may mean\n",
       "  that the widgets JavaScript is still loading. If this message persists, it\n",
       "  likely means that the widgets JavaScript library is either not installed or\n",
       "  not enabled. See the <a href=\"https://ipywidgets.readthedocs.io/en/stable/user_install.html\">Jupyter\n",
       "  Widgets Documentation</a> for setup instructions.\n",
       "</p>\n",
       "<p>\n",
       "  If you're reading this message in another frontend (for example, a static\n",
       "  rendering on GitHub or <a href=\"https://nbviewer.jupyter.org/\">NBViewer</a>),\n",
       "  it may mean that your frontend doesn't currently support widgets.\n",
       "</p>\n"
      ],
      "text/plain": [
       "HBox(children=(IntProgress(value=1, bar_style='info', max=1), HTML(value='')))"
      ]
     },
     "metadata": {},
     "output_type": "display_data"
    },
    {
     "name": "stdout",
     "output_type": "stream",
     "text": [
      "\n",
      "train 27 (36232): loss=0.11123, precision=0.780948, recall=0.504739, F1=0.613174\n",
      "dev 27 (36232): loss=0.133926, precision=0.700538, recall=0.445491, F1=0.544635\n"
     ]
    },
    {
     "data": {
      "application/vnd.jupyter.widget-view+json": {
       "model_id": "d8c31dfdb6ed41d395135880be3e6a62",
       "version_major": 2,
       "version_minor": 0
      },
      "text/html": [
       "<p>Failed to display Jupyter Widget of type <code>HBox</code>.</p>\n",
       "<p>\n",
       "  If you're reading this message in the Jupyter Notebook or JupyterLab Notebook, it may mean\n",
       "  that the widgets JavaScript is still loading. If this message persists, it\n",
       "  likely means that the widgets JavaScript library is either not installed or\n",
       "  not enabled. See the <a href=\"https://ipywidgets.readthedocs.io/en/stable/user_install.html\">Jupyter\n",
       "  Widgets Documentation</a> for setup instructions.\n",
       "</p>\n",
       "<p>\n",
       "  If you're reading this message in another frontend (for example, a static\n",
       "  rendering on GitHub or <a href=\"https://nbviewer.jupyter.org/\">NBViewer</a>),\n",
       "  it may mean that your frontend doesn't currently support widgets.\n",
       "</p>\n"
      ],
      "text/plain": [
       "HBox(children=(IntProgress(value=1, bar_style='info', max=1), HTML(value='')))"
      ]
     },
     "metadata": {},
     "output_type": "display_data"
    },
    {
     "name": "stdout",
     "output_type": "stream",
     "text": [
      "\n",
      "train 28 (37526): loss=0.110753, precision=0.782479, recall=0.50704, F1=0.615343\n",
      "dev 28 (37526): loss=0.133764, precision=0.712828, recall=0.428591, F1=0.535319\n"
     ]
    },
    {
     "data": {
      "application/vnd.jupyter.widget-view+json": {
       "model_id": "4336773f34294b39a52b9be26adcfdbe",
       "version_major": 2,
       "version_minor": 0
      },
      "text/html": [
       "<p>Failed to display Jupyter Widget of type <code>HBox</code>.</p>\n",
       "<p>\n",
       "  If you're reading this message in the Jupyter Notebook or JupyterLab Notebook, it may mean\n",
       "  that the widgets JavaScript is still loading. If this message persists, it\n",
       "  likely means that the widgets JavaScript library is either not installed or\n",
       "  not enabled. See the <a href=\"https://ipywidgets.readthedocs.io/en/stable/user_install.html\">Jupyter\n",
       "  Widgets Documentation</a> for setup instructions.\n",
       "</p>\n",
       "<p>\n",
       "  If you're reading this message in another frontend (for example, a static\n",
       "  rendering on GitHub or <a href=\"https://nbviewer.jupyter.org/\">NBViewer</a>),\n",
       "  it may mean that your frontend doesn't currently support widgets.\n",
       "</p>\n"
      ],
      "text/plain": [
       "HBox(children=(IntProgress(value=1, bar_style='info', max=1), HTML(value='')))"
      ]
     },
     "metadata": {},
     "output_type": "display_data"
    },
    {
     "name": "stdout",
     "output_type": "stream",
     "text": [
      "\n",
      "train 29 (38820): loss=0.110484, precision=0.782839, recall=0.50809, F1=0.616227\n",
      "dev 29 (38820): loss=0.133095, precision=0.721594, recall=0.421884, F1=0.532461\n"
     ]
    },
    {
     "data": {
      "application/vnd.jupyter.widget-view+json": {
       "model_id": "4921c32aa6cd4104a5d90b873fed7bdc",
       "version_major": 2,
       "version_minor": 0
      },
      "text/html": [
       "<p>Failed to display Jupyter Widget of type <code>HBox</code>.</p>\n",
       "<p>\n",
       "  If you're reading this message in the Jupyter Notebook or JupyterLab Notebook, it may mean\n",
       "  that the widgets JavaScript is still loading. If this message persists, it\n",
       "  likely means that the widgets JavaScript library is either not installed or\n",
       "  not enabled. See the <a href=\"https://ipywidgets.readthedocs.io/en/stable/user_install.html\">Jupyter\n",
       "  Widgets Documentation</a> for setup instructions.\n",
       "</p>\n",
       "<p>\n",
       "  If you're reading this message in another frontend (for example, a static\n",
       "  rendering on GitHub or <a href=\"https://nbviewer.jupyter.org/\">NBViewer</a>),\n",
       "  it may mean that your frontend doesn't currently support widgets.\n",
       "</p>\n"
      ],
      "text/plain": [
       "HBox(children=(IntProgress(value=1, bar_style='info', max=1), HTML(value='')))"
      ]
     },
     "metadata": {},
     "output_type": "display_data"
    },
    {
     "name": "stdout",
     "output_type": "stream",
     "text": [
      "\n",
      "train 30 (40114): loss=0.110163, precision=0.783293, recall=0.510069, F1=0.617822\n",
      "dev 30 (40114): loss=0.133489, precision=0.722974, recall=0.426545, F1=0.536539\n"
     ]
    },
    {
     "data": {
      "application/vnd.jupyter.widget-view+json": {
       "model_id": "12a83e2312bd483c9151d0e7d681a80f",
       "version_major": 2,
       "version_minor": 0
      },
      "text/html": [
       "<p>Failed to display Jupyter Widget of type <code>HBox</code>.</p>\n",
       "<p>\n",
       "  If you're reading this message in the Jupyter Notebook or JupyterLab Notebook, it may mean\n",
       "  that the widgets JavaScript is still loading. If this message persists, it\n",
       "  likely means that the widgets JavaScript library is either not installed or\n",
       "  not enabled. See the <a href=\"https://ipywidgets.readthedocs.io/en/stable/user_install.html\">Jupyter\n",
       "  Widgets Documentation</a> for setup instructions.\n",
       "</p>\n",
       "<p>\n",
       "  If you're reading this message in another frontend (for example, a static\n",
       "  rendering on GitHub or <a href=\"https://nbviewer.jupyter.org/\">NBViewer</a>),\n",
       "  it may mean that your frontend doesn't currently support widgets.\n",
       "</p>\n"
      ],
      "text/plain": [
       "HBox(children=(IntProgress(value=1, bar_style='info', max=1), HTML(value='')))"
      ]
     },
     "metadata": {},
     "output_type": "display_data"
    },
    {
     "name": "stdout",
     "output_type": "stream",
     "text": [
      "\n",
      "train 31 (41408): loss=0.109744, precision=0.783726, recall=0.512415, F1=0.619675\n",
      "dev 31 (41408): loss=0.13417, precision=0.724909, recall=0.42071, F1=0.532422\n"
     ]
    },
    {
     "data": {
      "application/vnd.jupyter.widget-view+json": {
       "model_id": "26d2f73b857e4fc0a892b8d84ee5182a",
       "version_major": 2,
       "version_minor": 0
      },
      "text/html": [
       "<p>Failed to display Jupyter Widget of type <code>HBox</code>.</p>\n",
       "<p>\n",
       "  If you're reading this message in the Jupyter Notebook or JupyterLab Notebook, it may mean\n",
       "  that the widgets JavaScript is still loading. If this message persists, it\n",
       "  likely means that the widgets JavaScript library is either not installed or\n",
       "  not enabled. See the <a href=\"https://ipywidgets.readthedocs.io/en/stable/user_install.html\">Jupyter\n",
       "  Widgets Documentation</a> for setup instructions.\n",
       "</p>\n",
       "<p>\n",
       "  If you're reading this message in another frontend (for example, a static\n",
       "  rendering on GitHub or <a href=\"https://nbviewer.jupyter.org/\">NBViewer</a>),\n",
       "  it may mean that your frontend doesn't currently support widgets.\n",
       "</p>\n"
      ],
      "text/plain": [
       "HBox(children=(IntProgress(value=1, bar_style='info', max=1), HTML(value='')))"
      ]
     },
     "metadata": {},
     "output_type": "display_data"
    },
    {
     "name": "stdout",
     "output_type": "stream",
     "text": [
      "\n",
      "train 32 (42702): loss=0.109248, precision=0.784642, recall=0.515446, F1=0.622174\n",
      "dev 32 (42702): loss=0.134404, precision=0.723066, recall=0.424902, F1=0.535262\n"
     ]
    },
    {
     "data": {
      "application/vnd.jupyter.widget-view+json": {
       "model_id": "22e21e909fdb41be81c3190191807145",
       "version_major": 2,
       "version_minor": 0
      },
      "text/html": [
       "<p>Failed to display Jupyter Widget of type <code>HBox</code>.</p>\n",
       "<p>\n",
       "  If you're reading this message in the Jupyter Notebook or JupyterLab Notebook, it may mean\n",
       "  that the widgets JavaScript is still loading. If this message persists, it\n",
       "  likely means that the widgets JavaScript library is either not installed or\n",
       "  not enabled. See the <a href=\"https://ipywidgets.readthedocs.io/en/stable/user_install.html\">Jupyter\n",
       "  Widgets Documentation</a> for setup instructions.\n",
       "</p>\n",
       "<p>\n",
       "  If you're reading this message in another frontend (for example, a static\n",
       "  rendering on GitHub or <a href=\"https://nbviewer.jupyter.org/\">NBViewer</a>),\n",
       "  it may mean that your frontend doesn't currently support widgets.\n",
       "</p>\n"
      ],
      "text/plain": [
       "HBox(children=(IntProgress(value=1, bar_style='info', max=1), HTML(value='')))"
      ]
     },
     "metadata": {},
     "output_type": "display_data"
    },
    {
     "name": "stdout",
     "output_type": "stream",
     "text": [
      "\n",
      "train 33 (43996): loss=0.108867, precision=0.785802, recall=0.517186, F1=0.623806\n",
      "dev 33 (43996): loss=0.134808, precision=0.702329, recall=0.444888, F1=0.544723\n"
     ]
    },
    {
     "data": {
      "application/vnd.jupyter.widget-view+json": {
       "model_id": "d6a65ec9d4d94dad946483daa71ca88b",
       "version_major": 2,
       "version_minor": 0
      },
      "text/html": [
       "<p>Failed to display Jupyter Widget of type <code>HBox</code>.</p>\n",
       "<p>\n",
       "  If you're reading this message in the Jupyter Notebook or JupyterLab Notebook, it may mean\n",
       "  that the widgets JavaScript is still loading. If this message persists, it\n",
       "  likely means that the widgets JavaScript library is either not installed or\n",
       "  not enabled. See the <a href=\"https://ipywidgets.readthedocs.io/en/stable/user_install.html\">Jupyter\n",
       "  Widgets Documentation</a> for setup instructions.\n",
       "</p>\n",
       "<p>\n",
       "  If you're reading this message in another frontend (for example, a static\n",
       "  rendering on GitHub or <a href=\"https://nbviewer.jupyter.org/\">NBViewer</a>),\n",
       "  it may mean that your frontend doesn't currently support widgets.\n",
       "</p>\n"
      ],
      "text/plain": [
       "HBox(children=(IntProgress(value=1, bar_style='info', max=1), HTML(value='')))"
      ]
     },
     "metadata": {},
     "output_type": "display_data"
    },
    {
     "name": "stdout",
     "output_type": "stream",
     "text": [
      "\n",
      "train 34 (45290): loss=0.108487, precision=0.786853, recall=0.519519, F1=0.625833\n",
      "dev 34 (45290): loss=0.136342, precision=0.722391, recall=0.423125, F1=0.533666\n"
     ]
    },
    {
     "data": {
      "application/vnd.jupyter.widget-view+json": {
       "model_id": "60df97c403284d3897fcd38b8dc68a21",
       "version_major": 2,
       "version_minor": 0
      },
      "text/html": [
       "<p>Failed to display Jupyter Widget of type <code>HBox</code>.</p>\n",
       "<p>\n",
       "  If you're reading this message in the Jupyter Notebook or JupyterLab Notebook, it may mean\n",
       "  that the widgets JavaScript is still loading. If this message persists, it\n",
       "  likely means that the widgets JavaScript library is either not installed or\n",
       "  not enabled. See the <a href=\"https://ipywidgets.readthedocs.io/en/stable/user_install.html\">Jupyter\n",
       "  Widgets Documentation</a> for setup instructions.\n",
       "</p>\n",
       "<p>\n",
       "  If you're reading this message in another frontend (for example, a static\n",
       "  rendering on GitHub or <a href=\"https://nbviewer.jupyter.org/\">NBViewer</a>),\n",
       "  it may mean that your frontend doesn't currently support widgets.\n",
       "</p>\n"
      ],
      "text/plain": [
       "HBox(children=(IntProgress(value=1, bar_style='info', max=1), HTML(value='')))"
      ]
     },
     "metadata": {},
     "output_type": "display_data"
    },
    {
     "name": "stdout",
     "output_type": "stream",
     "text": [
      "\n",
      "train 35 (46584): loss=0.108194, precision=0.78675, recall=0.521031, F1=0.626896\n",
      "dev 35 (46584): loss=0.134664, precision=0.73205, recall=0.419503, F1=0.533362\n"
     ]
    },
    {
     "data": {
      "application/vnd.jupyter.widget-view+json": {
       "model_id": "44245591bafe4bfe950c54e0e90cb1eb",
       "version_major": 2,
       "version_minor": 0
      },
      "text/html": [
       "<p>Failed to display Jupyter Widget of type <code>HBox</code>.</p>\n",
       "<p>\n",
       "  If you're reading this message in the Jupyter Notebook or JupyterLab Notebook, it may mean\n",
       "  that the widgets JavaScript is still loading. If this message persists, it\n",
       "  likely means that the widgets JavaScript library is either not installed or\n",
       "  not enabled. See the <a href=\"https://ipywidgets.readthedocs.io/en/stable/user_install.html\">Jupyter\n",
       "  Widgets Documentation</a> for setup instructions.\n",
       "</p>\n",
       "<p>\n",
       "  If you're reading this message in another frontend (for example, a static\n",
       "  rendering on GitHub or <a href=\"https://nbviewer.jupyter.org/\">NBViewer</a>),\n",
       "  it may mean that your frontend doesn't currently support widgets.\n",
       "</p>\n"
      ],
      "text/plain": [
       "HBox(children=(IntProgress(value=1, bar_style='info', max=1), HTML(value='')))"
      ]
     },
     "metadata": {},
     "output_type": "display_data"
    },
    {
     "name": "stdout",
     "output_type": "stream",
     "text": [
      "\n",
      "train 36 (47878): loss=0.107821, precision=0.787561, recall=0.522566, F1=0.628264\n",
      "dev 36 (47878): loss=0.135096, precision=0.724882, recall=0.418799, F1=0.530882\n"
     ]
    },
    {
     "data": {
      "application/vnd.jupyter.widget-view+json": {
       "model_id": "319f9f216bd4401693f34cc2e2177f85",
       "version_major": 2,
       "version_minor": 0
      },
      "text/html": [
       "<p>Failed to display Jupyter Widget of type <code>HBox</code>.</p>\n",
       "<p>\n",
       "  If you're reading this message in the Jupyter Notebook or JupyterLab Notebook, it may mean\n",
       "  that the widgets JavaScript is still loading. If this message persists, it\n",
       "  likely means that the widgets JavaScript library is either not installed or\n",
       "  not enabled. See the <a href=\"https://ipywidgets.readthedocs.io/en/stable/user_install.html\">Jupyter\n",
       "  Widgets Documentation</a> for setup instructions.\n",
       "</p>\n",
       "<p>\n",
       "  If you're reading this message in another frontend (for example, a static\n",
       "  rendering on GitHub or <a href=\"https://nbviewer.jupyter.org/\">NBViewer</a>),\n",
       "  it may mean that your frontend doesn't currently support widgets.\n",
       "</p>\n"
      ],
      "text/plain": [
       "HBox(children=(IntProgress(value=1, bar_style='info', max=1), HTML(value='')))"
      ]
     },
     "metadata": {},
     "output_type": "display_data"
    },
    {
     "name": "stdout",
     "output_type": "stream",
     "text": [
      "\n",
      "train 37 (49172): loss=0.107555, precision=0.788213, recall=0.523796, F1=0.62936\n",
      "dev 37 (49172): loss=0.14406, precision=0.603179, recall=0.533114, F1=0.565987\n"
     ]
    },
    {
     "data": {
      "application/vnd.jupyter.widget-view+json": {
       "model_id": "f0f6722777c043ae96c4204fc9a8dba0",
       "version_major": 2,
       "version_minor": 0
      },
      "text/html": [
       "<p>Failed to display Jupyter Widget of type <code>HBox</code>.</p>\n",
       "<p>\n",
       "  If you're reading this message in the Jupyter Notebook or JupyterLab Notebook, it may mean\n",
       "  that the widgets JavaScript is still loading. If this message persists, it\n",
       "  likely means that the widgets JavaScript library is either not installed or\n",
       "  not enabled. See the <a href=\"https://ipywidgets.readthedocs.io/en/stable/user_install.html\">Jupyter\n",
       "  Widgets Documentation</a> for setup instructions.\n",
       "</p>\n",
       "<p>\n",
       "  If you're reading this message in another frontend (for example, a static\n",
       "  rendering on GitHub or <a href=\"https://nbviewer.jupyter.org/\">NBViewer</a>),\n",
       "  it may mean that your frontend doesn't currently support widgets.\n",
       "</p>\n"
      ],
      "text/plain": [
       "HBox(children=(IntProgress(value=1, bar_style='info', max=1), HTML(value='')))"
      ]
     },
     "metadata": {},
     "output_type": "display_data"
    },
    {
     "name": "stdout",
     "output_type": "stream",
     "text": [
      "\n",
      "train 38 (50466): loss=0.108344, precision=0.785793, recall=0.520149, F1=0.625953\n",
      "dev 38 (50466): loss=0.134549, precision=0.732268, recall=0.413366, F1=0.528432\n"
     ]
    },
    {
     "data": {
      "application/vnd.jupyter.widget-view+json": {
       "model_id": "a68770f2a20b4513a2b14086f9ae21cd",
       "version_major": 2,
       "version_minor": 0
      },
      "text/html": [
       "<p>Failed to display Jupyter Widget of type <code>HBox</code>.</p>\n",
       "<p>\n",
       "  If you're reading this message in the Jupyter Notebook or JupyterLab Notebook, it may mean\n",
       "  that the widgets JavaScript is still loading. If this message persists, it\n",
       "  likely means that the widgets JavaScript library is either not installed or\n",
       "  not enabled. See the <a href=\"https://ipywidgets.readthedocs.io/en/stable/user_install.html\">Jupyter\n",
       "  Widgets Documentation</a> for setup instructions.\n",
       "</p>\n",
       "<p>\n",
       "  If you're reading this message in another frontend (for example, a static\n",
       "  rendering on GitHub or <a href=\"https://nbviewer.jupyter.org/\">NBViewer</a>),\n",
       "  it may mean that your frontend doesn't currently support widgets.\n",
       "</p>\n"
      ],
      "text/plain": [
       "HBox(children=(IntProgress(value=1, bar_style='info', max=1), HTML(value='')))"
      ]
     },
     "metadata": {},
     "output_type": "display_data"
    },
    {
     "name": "stdout",
     "output_type": "stream",
     "text": [
      "\n",
      "train 39 (51760): loss=0.10712, precision=0.789111, recall=0.526281, F1=0.631438\n",
      "dev 39 (51760): loss=0.135816, precision=0.711431, recall=0.435767, F1=0.540479\n"
     ]
    },
    {
     "data": {
      "application/vnd.jupyter.widget-view+json": {
       "model_id": "80f3437892364f598da07d12ea2f0447",
       "version_major": 2,
       "version_minor": 0
      },
      "text/html": [
       "<p>Failed to display Jupyter Widget of type <code>HBox</code>.</p>\n",
       "<p>\n",
       "  If you're reading this message in the Jupyter Notebook or JupyterLab Notebook, it may mean\n",
       "  that the widgets JavaScript is still loading. If this message persists, it\n",
       "  likely means that the widgets JavaScript library is either not installed or\n",
       "  not enabled. See the <a href=\"https://ipywidgets.readthedocs.io/en/stable/user_install.html\">Jupyter\n",
       "  Widgets Documentation</a> for setup instructions.\n",
       "</p>\n",
       "<p>\n",
       "  If you're reading this message in another frontend (for example, a static\n",
       "  rendering on GitHub or <a href=\"https://nbviewer.jupyter.org/\">NBViewer</a>),\n",
       "  it may mean that your frontend doesn't currently support widgets.\n",
       "</p>\n"
      ],
      "text/plain": [
       "HBox(children=(IntProgress(value=1, bar_style='info', max=1), HTML(value='')))"
      ]
     },
     "metadata": {},
     "output_type": "display_data"
    },
    {
     "name": "stdout",
     "output_type": "stream",
     "text": [
      "\n",
      "train 40 (53054): loss=0.106755, precision=0.789926, recall=0.52829, F1=0.633143\n",
      "dev 40 (53054): loss=0.135466, precision=0.722229, recall=0.422085, F1=0.532794\n"
     ]
    },
    {
     "data": {
      "application/vnd.jupyter.widget-view+json": {
       "model_id": "c10a42542e334ad4a909c932362180c2",
       "version_major": 2,
       "version_minor": 0
      },
      "text/html": [
       "<p>Failed to display Jupyter Widget of type <code>HBox</code>.</p>\n",
       "<p>\n",
       "  If you're reading this message in the Jupyter Notebook or JupyterLab Notebook, it may mean\n",
       "  that the widgets JavaScript is still loading. If this message persists, it\n",
       "  likely means that the widgets JavaScript library is either not installed or\n",
       "  not enabled. See the <a href=\"https://ipywidgets.readthedocs.io/en/stable/user_install.html\">Jupyter\n",
       "  Widgets Documentation</a> for setup instructions.\n",
       "</p>\n",
       "<p>\n",
       "  If you're reading this message in another frontend (for example, a static\n",
       "  rendering on GitHub or <a href=\"https://nbviewer.jupyter.org/\">NBViewer</a>),\n",
       "  it may mean that your frontend doesn't currently support widgets.\n",
       "</p>\n"
      ],
      "text/plain": [
       "HBox(children=(IntProgress(value=1, bar_style='info', max=1), HTML(value='')))"
      ]
     },
     "metadata": {},
     "output_type": "display_data"
    },
    {
     "name": "stdout",
     "output_type": "stream",
     "text": [
      "\n",
      "train 41 (54348): loss=0.106425, precision=0.79041, recall=0.529954, F1=0.634493\n",
      "dev 41 (54348): loss=0.136275, precision=0.709024, recall=0.436337, F1=0.54022\n"
     ]
    },
    {
     "data": {
      "application/vnd.jupyter.widget-view+json": {
       "model_id": "fa3359a6a9e54dcc997cbc7d95c2639b",
       "version_major": 2,
       "version_minor": 0
      },
      "text/html": [
       "<p>Failed to display Jupyter Widget of type <code>HBox</code>.</p>\n",
       "<p>\n",
       "  If you're reading this message in the Jupyter Notebook or JupyterLab Notebook, it may mean\n",
       "  that the widgets JavaScript is still loading. If this message persists, it\n",
       "  likely means that the widgets JavaScript library is either not installed or\n",
       "  not enabled. See the <a href=\"https://ipywidgets.readthedocs.io/en/stable/user_install.html\">Jupyter\n",
       "  Widgets Documentation</a> for setup instructions.\n",
       "</p>\n",
       "<p>\n",
       "  If you're reading this message in another frontend (for example, a static\n",
       "  rendering on GitHub or <a href=\"https://nbviewer.jupyter.org/\">NBViewer</a>),\n",
       "  it may mean that your frontend doesn't currently support widgets.\n",
       "</p>\n"
      ],
      "text/plain": [
       "HBox(children=(IntProgress(value=1, bar_style='info', max=1), HTML(value='')))"
      ]
     },
     "metadata": {},
     "output_type": "display_data"
    },
    {
     "name": "stdout",
     "output_type": "stream",
     "text": [
      "\n",
      "train 42 (55642): loss=0.106216, precision=0.789977, recall=0.531631, F1=0.635553\n",
      "dev 42 (55642): loss=0.135581, precision=0.724316, recall=0.417525, F1=0.529706\n"
     ]
    },
    {
     "data": {
      "application/vnd.jupyter.widget-view+json": {
       "model_id": "d0651be8e3734569ba51eeca1ddbc6c0",
       "version_major": 2,
       "version_minor": 0
      },
      "text/html": [
       "<p>Failed to display Jupyter Widget of type <code>HBox</code>.</p>\n",
       "<p>\n",
       "  If you're reading this message in the Jupyter Notebook or JupyterLab Notebook, it may mean\n",
       "  that the widgets JavaScript is still loading. If this message persists, it\n",
       "  likely means that the widgets JavaScript library is either not installed or\n",
       "  not enabled. See the <a href=\"https://ipywidgets.readthedocs.io/en/stable/user_install.html\">Jupyter\n",
       "  Widgets Documentation</a> for setup instructions.\n",
       "</p>\n",
       "<p>\n",
       "  If you're reading this message in another frontend (for example, a static\n",
       "  rendering on GitHub or <a href=\"https://nbviewer.jupyter.org/\">NBViewer</a>),\n",
       "  it may mean that your frontend doesn't currently support widgets.\n",
       "</p>\n"
      ],
      "text/plain": [
       "HBox(children=(IntProgress(value=1, bar_style='info', max=1), HTML(value='')))"
      ]
     },
     "metadata": {},
     "output_type": "display_data"
    },
    {
     "name": "stdout",
     "output_type": "stream",
     "text": [
      "\n",
      "train 43 (56936): loss=0.105948, precision=0.790808, recall=0.532653, F1=0.636553\n",
      "dev 43 (56936): loss=0.136794, precision=0.715704, recall=0.423024, F1=0.531751\n"
     ]
    },
    {
     "data": {
      "application/vnd.jupyter.widget-view+json": {
       "model_id": "9965faaa32ad4f5caf83eabf6df69154",
       "version_major": 2,
       "version_minor": 0
      },
      "text/html": [
       "<p>Failed to display Jupyter Widget of type <code>HBox</code>.</p>\n",
       "<p>\n",
       "  If you're reading this message in the Jupyter Notebook or JupyterLab Notebook, it may mean\n",
       "  that the widgets JavaScript is still loading. If this message persists, it\n",
       "  likely means that the widgets JavaScript library is either not installed or\n",
       "  not enabled. See the <a href=\"https://ipywidgets.readthedocs.io/en/stable/user_install.html\">Jupyter\n",
       "  Widgets Documentation</a> for setup instructions.\n",
       "</p>\n",
       "<p>\n",
       "  If you're reading this message in another frontend (for example, a static\n",
       "  rendering on GitHub or <a href=\"https://nbviewer.jupyter.org/\">NBViewer</a>),\n",
       "  it may mean that your frontend doesn't currently support widgets.\n",
       "</p>\n"
      ],
      "text/plain": [
       "HBox(children=(IntProgress(value=1, bar_style='info', max=1), HTML(value='')))"
      ]
     },
     "metadata": {},
     "output_type": "display_data"
    },
    {
     "name": "stdout",
     "output_type": "stream",
     "text": [
      "\n",
      "train 44 (58230): loss=0.105721, precision=0.791176, recall=0.533983, F1=0.637621\n",
      "dev 44 (58230): loss=0.137585, precision=0.70713, recall=0.436001, F1=0.539413\n"
     ]
    },
    {
     "data": {
      "application/vnd.jupyter.widget-view+json": {
       "model_id": "783f2fcb86d241ad95039efa95a6650e",
       "version_major": 2,
       "version_minor": 0
      },
      "text/html": [
       "<p>Failed to display Jupyter Widget of type <code>HBox</code>.</p>\n",
       "<p>\n",
       "  If you're reading this message in the Jupyter Notebook or JupyterLab Notebook, it may mean\n",
       "  that the widgets JavaScript is still loading. If this message persists, it\n",
       "  likely means that the widgets JavaScript library is either not installed or\n",
       "  not enabled. See the <a href=\"https://ipywidgets.readthedocs.io/en/stable/user_install.html\">Jupyter\n",
       "  Widgets Documentation</a> for setup instructions.\n",
       "</p>\n",
       "<p>\n",
       "  If you're reading this message in another frontend (for example, a static\n",
       "  rendering on GitHub or <a href=\"https://nbviewer.jupyter.org/\">NBViewer</a>),\n",
       "  it may mean that your frontend doesn't currently support widgets.\n",
       "</p>\n"
      ],
      "text/plain": [
       "HBox(children=(IntProgress(value=1, bar_style='info', max=1), HTML(value='')))"
      ]
     },
     "metadata": {},
     "output_type": "display_data"
    },
    {
     "name": "stdout",
     "output_type": "stream",
     "text": [
      "\n",
      "train 45 (59524): loss=0.105359, precision=0.792318, recall=0.536001, F1=0.639429\n",
      "dev 45 (59524): loss=0.137305, precision=0.710646, recall=0.434023, F1=0.53891\n"
     ]
    },
    {
     "data": {
      "application/vnd.jupyter.widget-view+json": {
       "model_id": "9cdf5919145b4330b2a59b5fb1ca86af",
       "version_major": 2,
       "version_minor": 0
      },
      "text/html": [
       "<p>Failed to display Jupyter Widget of type <code>HBox</code>.</p>\n",
       "<p>\n",
       "  If you're reading this message in the Jupyter Notebook or JupyterLab Notebook, it may mean\n",
       "  that the widgets JavaScript is still loading. If this message persists, it\n",
       "  likely means that the widgets JavaScript library is either not installed or\n",
       "  not enabled. See the <a href=\"https://ipywidgets.readthedocs.io/en/stable/user_install.html\">Jupyter\n",
       "  Widgets Documentation</a> for setup instructions.\n",
       "</p>\n",
       "<p>\n",
       "  If you're reading this message in another frontend (for example, a static\n",
       "  rendering on GitHub or <a href=\"https://nbviewer.jupyter.org/\">NBViewer</a>),\n",
       "  it may mean that your frontend doesn't currently support widgets.\n",
       "</p>\n"
      ],
      "text/plain": [
       "HBox(children=(IntProgress(value=1, bar_style='info', max=1), HTML(value='')))"
      ]
     },
     "metadata": {},
     "output_type": "display_data"
    },
    {
     "name": "stdout",
     "output_type": "stream",
     "text": [
      "\n",
      "train 46 (60818): loss=0.10521, precision=0.792354, recall=0.536899, F1=0.64008\n",
      "dev 46 (60818): loss=0.136562, precision=0.720865, recall=0.419402, F1=0.530283\n"
     ]
    },
    {
     "data": {
      "application/vnd.jupyter.widget-view+json": {
       "model_id": "4cc76bddf251417a9dd03ff0a40597d9",
       "version_major": 2,
       "version_minor": 0
      },
      "text/html": [
       "<p>Failed to display Jupyter Widget of type <code>HBox</code>.</p>\n",
       "<p>\n",
       "  If you're reading this message in the Jupyter Notebook or JupyterLab Notebook, it may mean\n",
       "  that the widgets JavaScript is still loading. If this message persists, it\n",
       "  likely means that the widgets JavaScript library is either not installed or\n",
       "  not enabled. See the <a href=\"https://ipywidgets.readthedocs.io/en/stable/user_install.html\">Jupyter\n",
       "  Widgets Documentation</a> for setup instructions.\n",
       "</p>\n",
       "<p>\n",
       "  If you're reading this message in another frontend (for example, a static\n",
       "  rendering on GitHub or <a href=\"https://nbviewer.jupyter.org/\">NBViewer</a>),\n",
       "  it may mean that your frontend doesn't currently support widgets.\n",
       "</p>\n"
      ],
      "text/plain": [
       "HBox(children=(IntProgress(value=1, bar_style='info', max=1), HTML(value='')))"
      ]
     },
     "metadata": {},
     "output_type": "display_data"
    },
    {
     "name": "stdout",
     "output_type": "stream",
     "text": [
      "\n",
      "train 47 (62112): loss=0.105068, precision=0.792482, recall=0.537866, F1=0.640808\n",
      "dev 47 (62112): loss=0.138217, precision=0.730794, recall=0.418195, F1=0.531971\n"
     ]
    },
    {
     "data": {
      "application/vnd.jupyter.widget-view+json": {
       "model_id": "d3e61303d6d0403d96c80b175ce1d2e9",
       "version_major": 2,
       "version_minor": 0
      },
      "text/html": [
       "<p>Failed to display Jupyter Widget of type <code>HBox</code>.</p>\n",
       "<p>\n",
       "  If you're reading this message in the Jupyter Notebook or JupyterLab Notebook, it may mean\n",
       "  that the widgets JavaScript is still loading. If this message persists, it\n",
       "  likely means that the widgets JavaScript library is either not installed or\n",
       "  not enabled. See the <a href=\"https://ipywidgets.readthedocs.io/en/stable/user_install.html\">Jupyter\n",
       "  Widgets Documentation</a> for setup instructions.\n",
       "</p>\n",
       "<p>\n",
       "  If you're reading this message in another frontend (for example, a static\n",
       "  rendering on GitHub or <a href=\"https://nbviewer.jupyter.org/\">NBViewer</a>),\n",
       "  it may mean that your frontend doesn't currently support widgets.\n",
       "</p>\n"
      ],
      "text/plain": [
       "HBox(children=(IntProgress(value=1, bar_style='info', max=1), HTML(value='')))"
      ]
     },
     "metadata": {},
     "output_type": "display_data"
    },
    {
     "name": "stdout",
     "output_type": "stream",
     "text": [
      "\n",
      "train 48 (63406): loss=0.104896, precision=0.792923, recall=0.538365, F1=0.641307\n",
      "dev 48 (63406): loss=0.137306, precision=0.72152, recall=0.419034, F1=0.530165\n"
     ]
    },
    {
     "data": {
      "application/vnd.jupyter.widget-view+json": {
       "model_id": "25a7b0480885410996eb0acbf1cd3cbf",
       "version_major": 2,
       "version_minor": 0
      },
      "text/html": [
       "<p>Failed to display Jupyter Widget of type <code>HBox</code>.</p>\n",
       "<p>\n",
       "  If you're reading this message in the Jupyter Notebook or JupyterLab Notebook, it may mean\n",
       "  that the widgets JavaScript is still loading. If this message persists, it\n",
       "  likely means that the widgets JavaScript library is either not installed or\n",
       "  not enabled. See the <a href=\"https://ipywidgets.readthedocs.io/en/stable/user_install.html\">Jupyter\n",
       "  Widgets Documentation</a> for setup instructions.\n",
       "</p>\n",
       "<p>\n",
       "  If you're reading this message in another frontend (for example, a static\n",
       "  rendering on GitHub or <a href=\"https://nbviewer.jupyter.org/\">NBViewer</a>),\n",
       "  it may mean that your frontend doesn't currently support widgets.\n",
       "</p>\n"
      ],
      "text/plain": [
       "HBox(children=(IntProgress(value=1, bar_style='info', max=1), HTML(value='')))"
      ]
     },
     "metadata": {},
     "output_type": "display_data"
    },
    {
     "name": "stdout",
     "output_type": "stream",
     "text": [
      "\n",
      "train 49 (64700): loss=0.104799, precision=0.792281, recall=0.539334, F1=0.641783\n",
      "dev 49 (64700): loss=0.136156, precision=0.68986, recall=0.45582, F1=0.548935\n"
     ]
    },
    {
     "data": {
      "application/vnd.jupyter.widget-view+json": {
       "model_id": "41600ea7ddf547b2a4b9df2817781748",
       "version_major": 2,
       "version_minor": 0
      },
      "text/html": [
       "<p>Failed to display Jupyter Widget of type <code>HBox</code>.</p>\n",
       "<p>\n",
       "  If you're reading this message in the Jupyter Notebook or JupyterLab Notebook, it may mean\n",
       "  that the widgets JavaScript is still loading. If this message persists, it\n",
       "  likely means that the widgets JavaScript library is either not installed or\n",
       "  not enabled. See the <a href=\"https://ipywidgets.readthedocs.io/en/stable/user_install.html\">Jupyter\n",
       "  Widgets Documentation</a> for setup instructions.\n",
       "</p>\n",
       "<p>\n",
       "  If you're reading this message in another frontend (for example, a static\n",
       "  rendering on GitHub or <a href=\"https://nbviewer.jupyter.org/\">NBViewer</a>),\n",
       "  it may mean that your frontend doesn't currently support widgets.\n",
       "</p>\n"
      ],
      "text/plain": [
       "HBox(children=(IntProgress(value=1, bar_style='info', max=1), HTML(value='')))"
      ]
     },
     "metadata": {},
     "output_type": "display_data"
    },
    {
     "name": "stdout",
     "output_type": "stream",
     "text": [
      "\n",
      "train 50 (65994): loss=0.104534, precision=0.792839, recall=0.540597, F1=0.64286\n",
      "dev 50 (65994): loss=0.136964, precision=0.711902, recall=0.432045, F1=0.537741\n"
     ]
    },
    {
     "data": {
      "application/vnd.jupyter.widget-view+json": {
       "model_id": "0db6645811fb4e019103d27886fb2705",
       "version_major": 2,
       "version_minor": 0
      },
      "text/html": [
       "<p>Failed to display Jupyter Widget of type <code>HBox</code>.</p>\n",
       "<p>\n",
       "  If you're reading this message in the Jupyter Notebook or JupyterLab Notebook, it may mean\n",
       "  that the widgets JavaScript is still loading. If this message persists, it\n",
       "  likely means that the widgets JavaScript library is either not installed or\n",
       "  not enabled. See the <a href=\"https://ipywidgets.readthedocs.io/en/stable/user_install.html\">Jupyter\n",
       "  Widgets Documentation</a> for setup instructions.\n",
       "</p>\n",
       "<p>\n",
       "  If you're reading this message in another frontend (for example, a static\n",
       "  rendering on GitHub or <a href=\"https://nbviewer.jupyter.org/\">NBViewer</a>),\n",
       "  it may mean that your frontend doesn't currently support widgets.\n",
       "</p>\n"
      ],
      "text/plain": [
       "HBox(children=(IntProgress(value=1, bar_style='info', max=1), HTML(value='')))"
      ]
     },
     "metadata": {},
     "output_type": "display_data"
    },
    {
     "name": "stdout",
     "output_type": "stream",
     "text": [
      "\n",
      "train 51 (67288): loss=0.104359, precision=0.793833, recall=0.541311, F1=0.643692\n",
      "dev 51 (67288): loss=0.137501, precision=0.693528, recall=0.449918, F1=0.545773\n"
     ]
    },
    {
     "data": {
      "application/vnd.jupyter.widget-view+json": {
       "model_id": "141e13efae2e4539b23c72caadba340a",
       "version_major": 2,
       "version_minor": 0
      },
      "text/html": [
       "<p>Failed to display Jupyter Widget of type <code>HBox</code>.</p>\n",
       "<p>\n",
       "  If you're reading this message in the Jupyter Notebook or JupyterLab Notebook, it may mean\n",
       "  that the widgets JavaScript is still loading. If this message persists, it\n",
       "  likely means that the widgets JavaScript library is either not installed or\n",
       "  not enabled. See the <a href=\"https://ipywidgets.readthedocs.io/en/stable/user_install.html\">Jupyter\n",
       "  Widgets Documentation</a> for setup instructions.\n",
       "</p>\n",
       "<p>\n",
       "  If you're reading this message in another frontend (for example, a static\n",
       "  rendering on GitHub or <a href=\"https://nbviewer.jupyter.org/\">NBViewer</a>),\n",
       "  it may mean that your frontend doesn't currently support widgets.\n",
       "</p>\n"
      ],
      "text/plain": [
       "HBox(children=(IntProgress(value=1, bar_style='info', max=1), HTML(value='')))"
      ]
     },
     "metadata": {},
     "output_type": "display_data"
    },
    {
     "name": "stdout",
     "output_type": "stream",
     "text": [
      "\n",
      "train 52 (68582): loss=0.104079, precision=0.794751, recall=0.542599, F1=0.644904\n",
      "dev 52 (68582): loss=0.137327, precision=0.700881, recall=0.445357, F1=0.544638\n"
     ]
    },
    {
     "data": {
      "application/vnd.jupyter.widget-view+json": {
       "model_id": "dbadb61961f5429b9f23c0a9e37abfc5",
       "version_major": 2,
       "version_minor": 0
      },
      "text/html": [
       "<p>Failed to display Jupyter Widget of type <code>HBox</code>.</p>\n",
       "<p>\n",
       "  If you're reading this message in the Jupyter Notebook or JupyterLab Notebook, it may mean\n",
       "  that the widgets JavaScript is still loading. If this message persists, it\n",
       "  likely means that the widgets JavaScript library is either not installed or\n",
       "  not enabled. See the <a href=\"https://ipywidgets.readthedocs.io/en/stable/user_install.html\">Jupyter\n",
       "  Widgets Documentation</a> for setup instructions.\n",
       "</p>\n",
       "<p>\n",
       "  If you're reading this message in another frontend (for example, a static\n",
       "  rendering on GitHub or <a href=\"https://nbviewer.jupyter.org/\">NBViewer</a>),\n",
       "  it may mean that your frontend doesn't currently support widgets.\n",
       "</p>\n"
      ],
      "text/plain": [
       "HBox(children=(IntProgress(value=1, bar_style='info', max=1), HTML(value='')))"
      ]
     },
     "metadata": {},
     "output_type": "display_data"
    },
    {
     "name": "stdout",
     "output_type": "stream",
     "text": [
      "\n",
      "train 53 (69876): loss=0.103716, precision=0.795081, recall=0.544108, F1=0.646078\n",
      "dev 53 (69876): loss=0.13808, precision=0.698906, recall=0.447805, F1=0.545863\n"
     ]
    },
    {
     "data": {
      "application/vnd.jupyter.widget-view+json": {
       "model_id": "420b28198eb5495a9fb9cc07acf1abf8",
       "version_major": 2,
       "version_minor": 0
      },
      "text/html": [
       "<p>Failed to display Jupyter Widget of type <code>HBox</code>.</p>\n",
       "<p>\n",
       "  If you're reading this message in the Jupyter Notebook or JupyterLab Notebook, it may mean\n",
       "  that the widgets JavaScript is still loading. If this message persists, it\n",
       "  likely means that the widgets JavaScript library is either not installed or\n",
       "  not enabled. See the <a href=\"https://ipywidgets.readthedocs.io/en/stable/user_install.html\">Jupyter\n",
       "  Widgets Documentation</a> for setup instructions.\n",
       "</p>\n",
       "<p>\n",
       "  If you're reading this message in another frontend (for example, a static\n",
       "  rendering on GitHub or <a href=\"https://nbviewer.jupyter.org/\">NBViewer</a>),\n",
       "  it may mean that your frontend doesn't currently support widgets.\n",
       "</p>\n"
      ],
      "text/plain": [
       "HBox(children=(IntProgress(value=1, bar_style='info', max=1), HTML(value='')))"
      ]
     },
     "metadata": {},
     "output_type": "display_data"
    },
    {
     "name": "stdout",
     "output_type": "stream",
     "text": [
      "\n",
      "train 54 (71170): loss=0.103531, precision=0.794732, recall=0.545457, F1=0.646912\n",
      "dev 54 (71170): loss=0.137678, precision=0.713826, recall=0.431273, F1=0.53769\n"
     ]
    },
    {
     "data": {
      "application/vnd.jupyter.widget-view+json": {
       "model_id": "fc7fd824fa124226958b8c0a635fac09",
       "version_major": 2,
       "version_minor": 0
      },
      "text/html": [
       "<p>Failed to display Jupyter Widget of type <code>HBox</code>.</p>\n",
       "<p>\n",
       "  If you're reading this message in the Jupyter Notebook or JupyterLab Notebook, it may mean\n",
       "  that the widgets JavaScript is still loading. If this message persists, it\n",
       "  likely means that the widgets JavaScript library is either not installed or\n",
       "  not enabled. See the <a href=\"https://ipywidgets.readthedocs.io/en/stable/user_install.html\">Jupyter\n",
       "  Widgets Documentation</a> for setup instructions.\n",
       "</p>\n",
       "<p>\n",
       "  If you're reading this message in another frontend (for example, a static\n",
       "  rendering on GitHub or <a href=\"https://nbviewer.jupyter.org/\">NBViewer</a>),\n",
       "  it may mean that your frontend doesn't currently support widgets.\n",
       "</p>\n"
      ],
      "text/plain": [
       "HBox(children=(IntProgress(value=1, bar_style='info', max=1), HTML(value='')))"
      ]
     },
     "metadata": {},
     "output_type": "display_data"
    },
    {
     "name": "stdout",
     "output_type": "stream",
     "text": [
      "\n",
      "train 55 (72464): loss=0.103451, precision=0.795677, recall=0.54608, F1=0.647663\n",
      "dev 55 (72464): loss=0.138626, precision=0.709679, recall=0.437645, F1=0.541412\n"
     ]
    },
    {
     "data": {
      "application/vnd.jupyter.widget-view+json": {
       "model_id": "110247a9c66d4394996095c0545404ae",
       "version_major": 2,
       "version_minor": 0
      },
      "text/html": [
       "<p>Failed to display Jupyter Widget of type <code>HBox</code>.</p>\n",
       "<p>\n",
       "  If you're reading this message in the Jupyter Notebook or JupyterLab Notebook, it may mean\n",
       "  that the widgets JavaScript is still loading. If this message persists, it\n",
       "  likely means that the widgets JavaScript library is either not installed or\n",
       "  not enabled. See the <a href=\"https://ipywidgets.readthedocs.io/en/stable/user_install.html\">Jupyter\n",
       "  Widgets Documentation</a> for setup instructions.\n",
       "</p>\n",
       "<p>\n",
       "  If you're reading this message in another frontend (for example, a static\n",
       "  rendering on GitHub or <a href=\"https://nbviewer.jupyter.org/\">NBViewer</a>),\n",
       "  it may mean that your frontend doesn't currently support widgets.\n",
       "</p>\n"
      ],
      "text/plain": [
       "HBox(children=(IntProgress(value=1, bar_style='info', max=1), HTML(value='')))"
      ]
     },
     "metadata": {},
     "output_type": "display_data"
    },
    {
     "name": "stdout",
     "output_type": "stream",
     "text": [
      "\n",
      "train 56 (73758): loss=0.103274, precision=0.79549, recall=0.546902, F1=0.648179\n",
      "dev 56 (73758): loss=0.137885, precision=0.706978, recall=0.445391, F1=0.546494\n"
     ]
    },
    {
     "data": {
      "application/vnd.jupyter.widget-view+json": {
       "model_id": "c82664da4c094671b33f60ab06d71478",
       "version_major": 2,
       "version_minor": 0
      },
      "text/html": [
       "<p>Failed to display Jupyter Widget of type <code>HBox</code>.</p>\n",
       "<p>\n",
       "  If you're reading this message in the Jupyter Notebook or JupyterLab Notebook, it may mean\n",
       "  that the widgets JavaScript is still loading. If this message persists, it\n",
       "  likely means that the widgets JavaScript library is either not installed or\n",
       "  not enabled. See the <a href=\"https://ipywidgets.readthedocs.io/en/stable/user_install.html\">Jupyter\n",
       "  Widgets Documentation</a> for setup instructions.\n",
       "</p>\n",
       "<p>\n",
       "  If you're reading this message in another frontend (for example, a static\n",
       "  rendering on GitHub or <a href=\"https://nbviewer.jupyter.org/\">NBViewer</a>),\n",
       "  it may mean that your frontend doesn't currently support widgets.\n",
       "</p>\n"
      ],
      "text/plain": [
       "HBox(children=(IntProgress(value=1, bar_style='info', max=1), HTML(value='')))"
      ]
     },
     "metadata": {},
     "output_type": "display_data"
    },
    {
     "name": "stdout",
     "output_type": "stream",
     "text": [
      "\n",
      "train 57 (75052): loss=0.103035, precision=0.796036, recall=0.548096, F1=0.649199\n",
      "dev 57 (75052): loss=0.13833, precision=0.701553, recall=0.449784, F1=0.548141\n"
     ]
    },
    {
     "data": {
      "application/vnd.jupyter.widget-view+json": {
       "model_id": "00e062d8d8e04d1fbc366d2e78a2cde9",
       "version_major": 2,
       "version_minor": 0
      },
      "text/html": [
       "<p>Failed to display Jupyter Widget of type <code>HBox</code>.</p>\n",
       "<p>\n",
       "  If you're reading this message in the Jupyter Notebook or JupyterLab Notebook, it may mean\n",
       "  that the widgets JavaScript is still loading. If this message persists, it\n",
       "  likely means that the widgets JavaScript library is either not installed or\n",
       "  not enabled. See the <a href=\"https://ipywidgets.readthedocs.io/en/stable/user_install.html\">Jupyter\n",
       "  Widgets Documentation</a> for setup instructions.\n",
       "</p>\n",
       "<p>\n",
       "  If you're reading this message in another frontend (for example, a static\n",
       "  rendering on GitHub or <a href=\"https://nbviewer.jupyter.org/\">NBViewer</a>),\n",
       "  it may mean that your frontend doesn't currently support widgets.\n",
       "</p>\n"
      ],
      "text/plain": [
       "HBox(children=(IntProgress(value=1, bar_style='info', max=1), HTML(value='')))"
      ]
     },
     "metadata": {},
     "output_type": "display_data"
    },
    {
     "name": "stdout",
     "output_type": "stream",
     "text": [
      "\n",
      "train 58 (76346): loss=0.102889, precision=0.796781, recall=0.548589, F1=0.649792\n",
      "dev 58 (76346): loss=0.139691, precision=0.696316, recall=0.446263, F1=0.543927\n"
     ]
    },
    {
     "data": {
      "application/vnd.jupyter.widget-view+json": {
       "model_id": "d134cd868b51421caa27619093c9dc37",
       "version_major": 2,
       "version_minor": 0
      },
      "text/html": [
       "<p>Failed to display Jupyter Widget of type <code>HBox</code>.</p>\n",
       "<p>\n",
       "  If you're reading this message in the Jupyter Notebook or JupyterLab Notebook, it may mean\n",
       "  that the widgets JavaScript is still loading. If this message persists, it\n",
       "  likely means that the widgets JavaScript library is either not installed or\n",
       "  not enabled. See the <a href=\"https://ipywidgets.readthedocs.io/en/stable/user_install.html\">Jupyter\n",
       "  Widgets Documentation</a> for setup instructions.\n",
       "</p>\n",
       "<p>\n",
       "  If you're reading this message in another frontend (for example, a static\n",
       "  rendering on GitHub or <a href=\"https://nbviewer.jupyter.org/\">NBViewer</a>),\n",
       "  it may mean that your frontend doesn't currently support widgets.\n",
       "</p>\n"
      ],
      "text/plain": [
       "HBox(children=(IntProgress(value=1, bar_style='info', max=1), HTML(value='')))"
      ]
     },
     "metadata": {},
     "output_type": "display_data"
    },
    {
     "ename": "KeyboardInterrupt",
     "evalue": "",
     "output_type": "error",
     "traceback": [
      "\u001b[0;31m---------------------------------------------------------------------------\u001b[0m",
      "\u001b[0;31mKeyboardInterrupt\u001b[0m                         Traceback (most recent call last)",
      "\u001b[0;32m<ipython-input-7-519cbb300f2e>\u001b[0m in \u001b[0;36m<module>\u001b[0;34m()\u001b[0m\n\u001b[1;32m      6\u001b[0m                            \u001b[0mheader\u001b[0m\u001b[0;34m=\u001b[0m\u001b[0;34m'train %d'\u001b[0m \u001b[0;34m%\u001b[0m \u001b[0mepoch\u001b[0m\u001b[0;34m,\u001b[0m\u001b[0;34m\u001b[0m\u001b[0m\n\u001b[1;32m      7\u001b[0m                            \u001b[0mtrain\u001b[0m\u001b[0;34m=\u001b[0m\u001b[0;32mTrue\u001b[0m\u001b[0;34m,\u001b[0m\u001b[0;34m\u001b[0m\u001b[0m\n\u001b[0;32m----> 8\u001b[0;31m                            show_progress=True)\n\u001b[0m\u001b[1;32m      9\u001b[0m     model.evaluate_dataset(sess,\n\u001b[1;32m     10\u001b[0m                            \u001b[0;34m'../data/simplewiki/simplewiki-20171103.entity_recognition.dev.tfrecords'\u001b[0m\u001b[0;34m,\u001b[0m\u001b[0;34m\u001b[0m\u001b[0m\n",
      "\u001b[0;32m~/src/jupyter/deep-learning/modules/mediawiki_er.py\u001b[0m in \u001b[0;36mevaluate_dataset\u001b[0;34m(self, sess, dataset_filename, options, run_metadata, header, train, show_progress)\u001b[0m\n\u001b[1;32m    170\u001b[0m                                                   \u001b[0mfeed_dict\u001b[0m \u001b[0;34m=\u001b[0m \u001b[0;34m{\u001b[0m \u001b[0mself\u001b[0m\u001b[0;34m.\u001b[0m\u001b[0m_is_training\u001b[0m\u001b[0;34m:\u001b[0m \u001b[0mtrain\u001b[0m \u001b[0;34m}\u001b[0m\u001b[0;34m,\u001b[0m\u001b[0;34m\u001b[0m\u001b[0m\n\u001b[1;32m    171\u001b[0m                                                   \u001b[0moptions\u001b[0m \u001b[0;34m=\u001b[0m \u001b[0moptions\u001b[0m\u001b[0;34m,\u001b[0m\u001b[0;34m\u001b[0m\u001b[0m\n\u001b[0;32m--> 172\u001b[0;31m                                                   run_metadata = run_metadata)\n\u001b[0m\u001b[1;32m    173\u001b[0m             \u001b[0;32mexcept\u001b[0m \u001b[0mtf\u001b[0m\u001b[0;34m.\u001b[0m\u001b[0merrors\u001b[0m\u001b[0;34m.\u001b[0m\u001b[0mOutOfRangeError\u001b[0m\u001b[0;34m:\u001b[0m\u001b[0;34m\u001b[0m\u001b[0m\n\u001b[1;32m    174\u001b[0m                 \u001b[0;32mbreak\u001b[0m\u001b[0;34m\u001b[0m\u001b[0m\n",
      "\u001b[0;32m~/anaconda3/lib/python3.5/site-packages/tensorflow/python/client/session.py\u001b[0m in \u001b[0;36mrun\u001b[0;34m(self, fetches, feed_dict, options, run_metadata)\u001b[0m\n\u001b[1;32m    887\u001b[0m     \u001b[0;32mtry\u001b[0m\u001b[0;34m:\u001b[0m\u001b[0;34m\u001b[0m\u001b[0m\n\u001b[1;32m    888\u001b[0m       result = self._run(None, fetches, feed_dict, options_ptr,\n\u001b[0;32m--> 889\u001b[0;31m                          run_metadata_ptr)\n\u001b[0m\u001b[1;32m    890\u001b[0m       \u001b[0;32mif\u001b[0m \u001b[0mrun_metadata\u001b[0m\u001b[0;34m:\u001b[0m\u001b[0;34m\u001b[0m\u001b[0m\n\u001b[1;32m    891\u001b[0m         \u001b[0mproto_data\u001b[0m \u001b[0;34m=\u001b[0m \u001b[0mtf_session\u001b[0m\u001b[0;34m.\u001b[0m\u001b[0mTF_GetBuffer\u001b[0m\u001b[0;34m(\u001b[0m\u001b[0mrun_metadata_ptr\u001b[0m\u001b[0;34m)\u001b[0m\u001b[0;34m\u001b[0m\u001b[0m\n",
      "\u001b[0;32m~/anaconda3/lib/python3.5/site-packages/tensorflow/python/client/session.py\u001b[0m in \u001b[0;36m_run\u001b[0;34m(self, handle, fetches, feed_dict, options, run_metadata)\u001b[0m\n\u001b[1;32m   1118\u001b[0m     \u001b[0;32mif\u001b[0m \u001b[0mfinal_fetches\u001b[0m \u001b[0;32mor\u001b[0m \u001b[0mfinal_targets\u001b[0m \u001b[0;32mor\u001b[0m \u001b[0;34m(\u001b[0m\u001b[0mhandle\u001b[0m \u001b[0;32mand\u001b[0m \u001b[0mfeed_dict_tensor\u001b[0m\u001b[0;34m)\u001b[0m\u001b[0;34m:\u001b[0m\u001b[0;34m\u001b[0m\u001b[0m\n\u001b[1;32m   1119\u001b[0m       results = self._do_run(handle, final_targets, final_fetches,\n\u001b[0;32m-> 1120\u001b[0;31m                              feed_dict_tensor, options, run_metadata)\n\u001b[0m\u001b[1;32m   1121\u001b[0m     \u001b[0;32melse\u001b[0m\u001b[0;34m:\u001b[0m\u001b[0;34m\u001b[0m\u001b[0m\n\u001b[1;32m   1122\u001b[0m       \u001b[0mresults\u001b[0m \u001b[0;34m=\u001b[0m \u001b[0;34m[\u001b[0m\u001b[0;34m]\u001b[0m\u001b[0;34m\u001b[0m\u001b[0m\n",
      "\u001b[0;32m~/anaconda3/lib/python3.5/site-packages/tensorflow/python/client/session.py\u001b[0m in \u001b[0;36m_do_run\u001b[0;34m(self, handle, target_list, fetch_list, feed_dict, options, run_metadata)\u001b[0m\n\u001b[1;32m   1315\u001b[0m     \u001b[0;32mif\u001b[0m \u001b[0mhandle\u001b[0m \u001b[0;32mis\u001b[0m \u001b[0;32mNone\u001b[0m\u001b[0;34m:\u001b[0m\u001b[0;34m\u001b[0m\u001b[0m\n\u001b[1;32m   1316\u001b[0m       return self._do_call(_run_fn, self._session, feeds, fetches, targets,\n\u001b[0;32m-> 1317\u001b[0;31m                            options, run_metadata)\n\u001b[0m\u001b[1;32m   1318\u001b[0m     \u001b[0;32melse\u001b[0m\u001b[0;34m:\u001b[0m\u001b[0;34m\u001b[0m\u001b[0m\n\u001b[1;32m   1319\u001b[0m       \u001b[0;32mreturn\u001b[0m \u001b[0mself\u001b[0m\u001b[0;34m.\u001b[0m\u001b[0m_do_call\u001b[0m\u001b[0;34m(\u001b[0m\u001b[0m_prun_fn\u001b[0m\u001b[0;34m,\u001b[0m \u001b[0mself\u001b[0m\u001b[0;34m.\u001b[0m\u001b[0m_session\u001b[0m\u001b[0;34m,\u001b[0m \u001b[0mhandle\u001b[0m\u001b[0;34m,\u001b[0m \u001b[0mfeeds\u001b[0m\u001b[0;34m,\u001b[0m \u001b[0mfetches\u001b[0m\u001b[0;34m)\u001b[0m\u001b[0;34m\u001b[0m\u001b[0m\n",
      "\u001b[0;32m~/anaconda3/lib/python3.5/site-packages/tensorflow/python/client/session.py\u001b[0m in \u001b[0;36m_do_call\u001b[0;34m(self, fn, *args)\u001b[0m\n\u001b[1;32m   1321\u001b[0m   \u001b[0;32mdef\u001b[0m \u001b[0m_do_call\u001b[0m\u001b[0;34m(\u001b[0m\u001b[0mself\u001b[0m\u001b[0;34m,\u001b[0m \u001b[0mfn\u001b[0m\u001b[0;34m,\u001b[0m \u001b[0;34m*\u001b[0m\u001b[0margs\u001b[0m\u001b[0;34m)\u001b[0m\u001b[0;34m:\u001b[0m\u001b[0;34m\u001b[0m\u001b[0m\n\u001b[1;32m   1322\u001b[0m     \u001b[0;32mtry\u001b[0m\u001b[0;34m:\u001b[0m\u001b[0;34m\u001b[0m\u001b[0m\n\u001b[0;32m-> 1323\u001b[0;31m       \u001b[0;32mreturn\u001b[0m \u001b[0mfn\u001b[0m\u001b[0;34m(\u001b[0m\u001b[0;34m*\u001b[0m\u001b[0margs\u001b[0m\u001b[0;34m)\u001b[0m\u001b[0;34m\u001b[0m\u001b[0m\n\u001b[0m\u001b[1;32m   1324\u001b[0m     \u001b[0;32mexcept\u001b[0m \u001b[0merrors\u001b[0m\u001b[0;34m.\u001b[0m\u001b[0mOpError\u001b[0m \u001b[0;32mas\u001b[0m \u001b[0me\u001b[0m\u001b[0;34m:\u001b[0m\u001b[0;34m\u001b[0m\u001b[0m\n\u001b[1;32m   1325\u001b[0m       \u001b[0mmessage\u001b[0m \u001b[0;34m=\u001b[0m \u001b[0mcompat\u001b[0m\u001b[0;34m.\u001b[0m\u001b[0mas_text\u001b[0m\u001b[0;34m(\u001b[0m\u001b[0me\u001b[0m\u001b[0;34m.\u001b[0m\u001b[0mmessage\u001b[0m\u001b[0;34m)\u001b[0m\u001b[0;34m\u001b[0m\u001b[0m\n",
      "\u001b[0;32m~/anaconda3/lib/python3.5/site-packages/tensorflow/python/client/session.py\u001b[0m in \u001b[0;36m_run_fn\u001b[0;34m(session, feed_dict, fetch_list, target_list, options, run_metadata)\u001b[0m\n\u001b[1;32m   1300\u001b[0m           return tf_session.TF_Run(session, options,\n\u001b[1;32m   1301\u001b[0m                                    \u001b[0mfeed_dict\u001b[0m\u001b[0;34m,\u001b[0m \u001b[0mfetch_list\u001b[0m\u001b[0;34m,\u001b[0m \u001b[0mtarget_list\u001b[0m\u001b[0;34m,\u001b[0m\u001b[0;34m\u001b[0m\u001b[0m\n\u001b[0;32m-> 1302\u001b[0;31m                                    status, run_metadata)\n\u001b[0m\u001b[1;32m   1303\u001b[0m \u001b[0;34m\u001b[0m\u001b[0m\n\u001b[1;32m   1304\u001b[0m     \u001b[0;32mdef\u001b[0m \u001b[0m_prun_fn\u001b[0m\u001b[0;34m(\u001b[0m\u001b[0msession\u001b[0m\u001b[0;34m,\u001b[0m \u001b[0mhandle\u001b[0m\u001b[0;34m,\u001b[0m \u001b[0mfeed_dict\u001b[0m\u001b[0;34m,\u001b[0m \u001b[0mfetch_list\u001b[0m\u001b[0;34m)\u001b[0m\u001b[0;34m:\u001b[0m\u001b[0;34m\u001b[0m\u001b[0m\n",
      "\u001b[0;31mKeyboardInterrupt\u001b[0m: "
     ]
    }
   ],
   "source": [
    "num_epochs = 100\n",
    "\n",
    "for epoch in range(num_epochs):\n",
    "    model.evaluate_dataset(sess,\n",
    "                           '../data/simplewiki/simplewiki-20171103.entity_recognition.train.tfrecords',\n",
    "                           header='train %d' % epoch,\n",
    "                           train=True,\n",
    "                           show_progress=True)\n",
    "    model.evaluate_dataset(sess,\n",
    "                           '../data/simplewiki/simplewiki-20171103.entity_recognition.dev.tfrecords',\n",
    "                           header='dev %d' % epoch,\n",
    "                           train=False,\n",
    "                           show_progress=False)"
   ]
  },
  {
   "cell_type": "code",
   "execution_count": 8,
   "metadata": {},
   "outputs": [],
   "source": [
    "sess.run(model._dataset_iterator.initializer, feed_dict={\n",
    "    model._dataset_filenames: ['../data/simplewiki/simplewiki-20171103.entity_recognition.train.tfrecords']\n",
    "})"
   ]
  },
  {
   "cell_type": "code",
   "execution_count": 12,
   "metadata": {},
   "outputs": [],
   "source": [
    "with open('../data/simplewiki/simplewiki-20171103.vocab_30k.txt', 'rt', encoding='utf-8') as f:\n",
    "    id_to_word_30k = [line.strip() for line in f]"
   ]
  },
  {
   "cell_type": "code",
   "execution_count": 19,
   "metadata": {},
   "outputs": [],
   "source": [
    "(input_page_ids,\n",
    " input_para_ids,\n",
    " input_sentence_ids,\n",
    " input_sequences,\n",
    " input_lengths,\n",
    " input_positions,\n",
    " target_sequences) = sess.run((model._input_page_ids,\n",
    "                               model._input_para_ids,\n",
    "                               model._input_sentence_ids,\n",
    "                               model._input_sequences,\n",
    "                               model._input_lengths,\n",
    "                               model._input_positions,\n",
    "                               model._target_sequences))"
   ]
  },
  {
   "cell_type": "code",
   "execution_count": 30,
   "metadata": {},
   "outputs": [
    {
     "name": "stdout",
     "output_type": "stream",
     "text": [
      "|-\n",
      "<UNK> song has vocals from <UNK> .\n",
      "<UNK> combination of <UNK> henderson charts , his strong clarinet playing , and his band that practiced well made him a rising star in <UNK> <UNK> .\n",
      "\\begin { bmatrix }\n",
      "earlier , witnesses saw a man dressed in blue jeans and a black jacket with a head scarf arrive at <UNK> national war memorial in a car , carrying a <UNK> shotgun .\n",
      "scent marks are what animals leave when they are marking their *TERRITORY* .\n",
      "<UNK> parasites live off <UNK> host .\n",
      "<UNK> <UNK> was once among <UNK> most threatened *WATERFOWL* *SPECIES* around <UNK> world .\n",
      "__notoc__\n",
      "according to popular *BRITISH* folklore , <UNK> tradition once had a sinister twist , in that <UNK> may queen was put to death once <UNK> festivities were over .\n",
      "human beings , their faculties developed in balanced fashion , able to see <UNK> system of\n",
      "<UNK> line was <UNK> probably <UNK> written by ken <UNK> during one of <UNK> episode 's <UNK> sessions , although none of those present on <UNK> episode 's dvd audio commentary could remember for sure .\n",
      "namely , y ( 0 ) <UNK> , y ( <UNK> ) <UNK> , y ( & pi ; ) <UNK> , ... . no matter what value of x is input , <UNK> output is <UNK> 4 <UNK> .\n",
      "it has a mixture of advanced and primitive features and may turn out to be a <UNK> .\n",
      "she has not used them since .\n",
      "|-\n",
      "<UNK> 's <UNK> included characteristics of nature and <UNK> four seasons .\n",
      "domenico <UNK> died in 1744 .\n",
      "nuremberg is still associated with <UNK> ( <UNK> ) products , sausages , and <UNK> toys .\n",
      "it is long .\n",
      "|2009/10||||||||||||||||\n",
      "it was created by rapper pimp c just after he got out of *PRISON* .\n",
      "[ [ air india ] ] ( republican ) { { bull } }\n",
      "for example , if you were one of only two psychiatrists in chicago , then it would not matter how bad <UNK> economy was because you would always have a huge slice of <UNK> <UNK> <UNK> pie <UNK> for your\n",
      "he eventually won a case for patent infringement in 1854 , and was awarded <UNK> right to claim royalties from <UNK> manufacturers using ideas covered by his patent , including singer .\n",
      "*HERBERT* *SPENCER* was a *BRITISH* *SOCIAL* *PHILOSOPHER* who applied his personal conception of *EVOLUTION* to many other fields , from <UNK> origin of <UNK> solar system to *ECONOMICS* .\n",
      "|-\n",
      "there was a small *CEMETERY* that was <UNK> point of reference in <UNK> dense virgin forest , where were buried those who died at that time .\n",
      "<UNK>\n",
      "<UNK> soundtrack was released in october 2002 .\n",
      "<UNK> died on 26 june 2017 in <UNK> , curaçao at <UNK> age of 84 .\n",
      "on 10 september 1926 , <UNK> arrondissement of orange was eliminated and <UNK> subprefecture of apt was moved to <UNK> but went back to apt in 1933 .\n",
      "|1983/84||rowspan= <UNK> 9 <UNK> <UNK> <UNK> <UNK> 9 <UNK> *|DIVIZIA* <UNK>\n",
      "by 1865 , union general *ULYSSES* *S.* *GRANT* had taken richmond and forced lee to give up <UNK> fight at <UNK> .\n",
      "[ [ bangkok airways ] ] { { bull } }\n",
      "he reigned after *MALCOLM* *I* and was succeeded by *DUB* *.* an interesting note is that dub was supposedly black , nicknamed <UNK> niger or <UNK> <UNK> .\n",
      "-- --\n",
      "jones ' third album with his band , my kind of evil ( 2004 ) , was produced by *KIM* *WILSON* ( singer for <UNK> fabulous <UNK> ) .\n",
      "these people were descendants of <UNK> <UNK> from hms bounty .\n",
      "<UNK> *A||4||0*\n",
      "<UNK> university of pennsylvania is nearby .\n",
      "in 1998 , he played drums for *PEARL* *JAM* 's yield tour .\n",
      "he and his brother <UNK> joined <UNK> *ARMY* during <UNK> *WAR* *OF* *1812* .\n",
      "<UNK> fictional characters <UNK> <UNK> ( invented by *RUDYARD* *KIPLING* ) and harry <UNK> <UNK> ( invented by george macdonald fraser ) each held a <UNK> ; kipling 's engineer <UNK> in <UNK> day 's work ( 1908 ) wants\n",
      "<UNK> <UNK> < br >\n",
      "he quoted samuel robert <UNK> , director of <UNK> center for media and public affairs , on his preference for <UNK> ease of turning on <UNK> tv instead of reading a book .\n",
      "on 11 august 2009 , whitesnake was playing a show at red rocks amphitheatre in morrison , colorado , when coverdale suffered a vocal injury .\n",
      "nut and geb had *SEX* .\n",
      "barnard wants to hide form <UNK> police and look for gold .\n",
      "he was also <UNK> first runner-up during <UNK> fourth season of wwe 's *TOUGH* *ENOUGH* .\n",
      "<UNK>\n",
      "two stories became popular english language *MOVIES* : planet of <UNK> apes and <UNK> *BRIDGE* *ON* <UNK> *RIVER* <UNK> .\n",
      "both *DUSTIN* *HOFFMAN* and *ROBIN* *WILLIAMS* were in popular comedy films where they played most scenes as men in women 's *CLOTHES* , pretending to be women .\n",
      "he was <UNK> <UNK> skater of <UNK> year in 2003 .\n",
      "each weighs , and can be lifted by six men .\n",
      "in episode ii , *ATTACK* *OF* <UNK> *CLONES* , <UNK> secretly continues to bring <UNK> galaxy to civil war .\n",
      "|-\n",
      "[ [ atlantic island air ] ] { { bull } }\n",
      "compared to other stick insects ( *ORDER* <UNK> ) , <UNK> genus <UNK> is *BASAL* .\n",
      "<UNK>\n",
      "<UNK> <UNK> *STADIUM* , <UNK> only olympic stadium used in <UNK> 19th century , <UNK> with <UNK> largest crowd ever to watch a sporting event .\n",
      "*JESUS* *CHRIST* ( also called <UNK> <UNK> prince of peace <UNK> in <UNK> *BOOK* *OF* *ISAIAH* ) said : <UNK> peace i leave with you ; my peace i give you .\n",
      "most western *SCHOLARS* believe them to be a group of *VIKINGS* , specifically from *SWEDEN* .\n",
      "in 1981 , <UNK> name was changed to <UNK> ( pittsburgh 11 , with xi being <UNK> roman numeral sign for 11 ) .\n",
      "<UNK> *CAT* can easily become feral .\n",
      "<UNK> <UNK> is <UNK> fourth <UNK> in this story and naruto 's father .\n",
      "seth <UNK> is often shown as a mysterious and unknown creature called <UNK> set <UNK> set animal had a curved snout , square ears , <UNK> body , forked tail , red eyes and red hair .\n",
      "it affected <UNK> *BAHAMAS* and <UNK> southeastern *UNITED* *STATES* this storm 's winds were at .\n",
      "<UNK> is an <UNK> script used to write *NORTH* *INDIAN* languages , including *SANSKRIT* , *HINDI* , *MARATHI* , *SINDHI* , <UNK> , <UNK> , <UNK> , <UNK> , *NEPAL* <UNK> and *NEPALI* from *NEPAL* and sometimes *KASHMIRI* .\n",
      "this is how <UNK> theatre got its name .\n",
      "<UNK> expansion of <UNK> collection brief to include online publications set <UNK> course for collecting , <UNK> and storing such publications as part of germany 's cultural heritage .\n",
      "fifteen thousand people waited in <UNK> *HERCULES* *ROOM* for <UNK> ball to begin .\n",
      "he made his first album , <UNK> sandwiches for breakfast , in 1990 , but it did not have much success .\n",
      "they *EVOLVED* from moths in <UNK> latest cretaceous or <UNK> earliest *CAINOZOIC* .\n",
      "<UNK> movie explores cinderella 's <UNK> happily ever after <UNK> life as a princess in three stories , with help from <UNK> fairy godmother .\n",
      "it is equal to <UNK> price of one share of *STOCK* , times <UNK> number of shares of stock in a *PUBLIC* *COMPANY* .\n",
      "| < tt > <UNK> < /tt > || [ [ jordan ] ] < /tr >\n",
      "<UNK> last <UNK> of egypt was *ABBAS* *II* , but <UNK> dynasty of muhammed ali continued to rule egypt , though under british <UNK> ' .\n",
      "there are currently about 4,000 people from this nation living in small communities spread out across their homeland .\n",
      "if <UNK> bowler does not do it right , <UNK> ball might not knock all <UNK> pins down or might roll into <UNK> <UNK> and hit none .\n",
      "she was <UNK> last person known to have been born in 1894 and <UNK> oldest ever person to have been born in that year .\n",
      "<UNK> opposite of <UNK> jedi are <UNK> *SITH* , who follow <UNK> dark side of <UNK> force ( using <UNK> force for evil ) .\n",
      "|-\n",
      "<UNK> ( or <UNK> ) combines <UNK> study of *PALEONTOLOGY* and *PHYSICAL* *ANTHROPOLOGY* .\n",
      "*CANDLES* lit *HORSE-DRAWN* *CARRIAGES* . <UNK> first *CARS* , then called <UNK> were lit by gas lights .\n",
      "<UNK> second draft was completed in 1936 by which point all <UNK> major plot lines of <UNK> final version were in place .\n",
      "in conversation they use few words and speak in riddles , for <UNK> most part <UNK> at things and leaving a great deal to be understood .\n",
      "he described more than 340 reptile species .\n",
      "<UNK> new version was announced at <UNK> company 's < ! -- apple -- > worldwide developers conference ( <UNK> ) on june 10 , 2013 , and it was released on september 18 , <UNK> ios 7 includes a\n",
      "! <UNK>\n",
      "<UNK> novel was made into a movie .\n",
      "<UNK>\n",
      "*NAVAL* *MINES* sank or damaged several ships and soon <UNK> turks fought back and stopped <UNK> allies from entering <UNK> *SEA* *OF* *MARMARA* .\n",
      "<UNK> is a <UNK> restaurant .\n",
      "they range in length from <UNK> metres , and weigh <UNK> kg .\n",
      "sales in britain dropped 33 % in value during <UNK> same period .\n",
      "<UNK> made a fourth journey to acquire more books in <UNK> .\n",
      "<UNK> signing of <UNK> *TREATY* led to a split in <UNK> ira between those who were against <UNK> treaty and those who were for it .\n",
      "<UNK>\n",
      "!\n",
      "its *COUNTY* *SEAT* is <UNK> .\n",
      "he invaded england after <UNK> death of king *EDWARD* <UNK> *CONFESSOR* because he believed he had <UNK> most right to be *KING* *OF* *ENGLAND* .\n",
      "| < ! -- 7/server 2008 r2 -- - > { { no } }\n",
      "!\n",
      "to ease <UNK> housing shortage a large estate was built by <UNK> housing commission of victoria on <UNK> old ballarat common this area is now called <UNK> west .\n",
      "his friends looked after him until he died .\n",
      "they often grow on wet , infertile soils .\n",
      "england soon had an english king again .\n",
      "<UNK> kingdom of holland was a *COUNTRY* that existed from *1806* to *1810* .\n",
      "in order to work on rough terrain , mountain bikes have several *GEARS* from which to choose .\n",
      "<UNK> married author mona simpson in 1993 .\n",
      "<UNK> term <UNK> resistant steel ' is used when <UNK> *ALLOY* has less than <UNK> 12 % minimum of *CHROMIUM* , for example in <UNK> *AVIATION* industry .\n",
      "it was revived by european weaving manufacturers , who got interested in oriental patterns and models .\n",
      "<UNK> poison frog .\n",
      "swimming and other <UNK> are also welcome at <UNK> lake .\n",
      "marc <UNK> ( born *22* *FEBRUARY* *1969* ) is a *BELGIAN* football manager and former football player .\n",
      "similarly , before christ , shortened as bc or <UNK> , is used in <UNK> english language to refer to all years before <UNK> start of <UNK> time period anno domini .\n",
      "< big > ô , ơ , â , ă , ê , ư , đ < /big >\n",
      "<UNK>\n",
      "<UNK> san luis rey river is a *RIVER* in <UNK> southern part of <UNK> *U.S.* state of *CALIFORNIA* .\n",
      "this would make them <UNK> oldest living things on *EARTH* .\n",
      "<UNK> classical tamil literature records details about <UNK> carnatic music .\n",
      "nicolas sarkozy , born on 28 january 1955 in *PARIS* , *FRANCE* ,\n",
      "<UNK> building of <UNK> museum was originally <UNK> <UNK> grammar school .\n",
      "<UNK> <UNK> / <UNK> <UNK> beat elena <UNK> / <UNK> <UNK> , <UNK> , 6–3 [ <UNK> ]\n",
      "it has also been popular with journal service providers .\n",
      "daniel hale williams iii was born on january 18 , 1856 , in <UNK> , pennsylvania , to sarah price williams and daniel hale williams ii , who was a barber .\n",
      "they are shown on pay television or *CABLE* *TELEVISION* , and sold or rented on *DVD* disks or <UNK> tapes , so that people can watch <UNK> movies at home .\n",
      "however , <UNK> term is used for many ways of <UNK> biological organisms for <UNK> needs of humanity .\n",
      "not everyone agreed with this : pierre <UNK> and paul <UNK> had different ideas .\n",
      "this list of 100 is based on an attendance survey compiled by <UNK> art newspaper published in april 2013 .\n",
      "<UNK>\n",
      "in earlier tribal councils , keith had no votes , but mitchell had one ; so he was <UNK> < /small > < br >\n",
      "mathematical note : in this section <UNK> abstract index notation will be used .\n",
      "<UNK> <UNK> of a new *BISHOP* is also called a <UNK> .\n",
      "is helps carry <UNK> seeds long distances on <UNK> wind so that <UNK> baby plant can grow up far away .\n",
      "as of 2014 , <UNK> population was <UNK> .\n",
      "his nickname <UNK> <UNK> <UNK> means <UNK> pug <UNK> because he had a flat nose and it looked like a *PUG* .\n",
      "|-\n",
      "<UNK> , <UNK> island was settled by england in 1609 , making it <UNK> oldest and most *POPULOUS* remaining british overseas territory .\n",
      "to make whipped cream , a person <UNK> or beats <UNK> heavy cream with a <UNK> or an electric mixer until it becomes fluffy and filled with air .\n",
      "he moved to *SAN* *FRANCISCO* *,* *CALIFORNIA* in <UNK> 1960s and studied at santa clara university .\n",
      "[ [ royal nepal airlines ] ] { { bull } }\n",
      "|1992||rowspan= <UNK> 4 <UNK> *|GAMBA* *OSAKA||ROWSPAN=* <UNK> 4 <UNK> *|J* *.* *LEAGUE* *1||COLSPAN=* <UNK> 2 <UNK> |-||||||0||0||0||0\n",
      "dwight wayne <UNK> ( born may 12 , 1963 in *BRANDON* *,* *MANITOBA* ) is a retired professional ice hockey player who played in <UNK> *NATIONAL* *HOCKEY* *LEAGUE* with <UNK> *PITTSBURGH* *PENGUINS* .\n",
      "he thought that not enough money was being spent on <UNK> *ARTS* and that <UNK> politicians were not interested in music .\n",
      "|-\n",
      "| <UNK>\n",
      "was a *OLD* *PROVINCE* of *JAPAN* in <UNK> area of *OSAKA* *PREFECTURE* on <UNK> island of *HONSHŪ* .\n",
      "*COCA-COLA* 's ad in <UNK> is <UNK> life ho to <UNK> <UNK> ( life should be like this ) .\n",
      "<UNK> for emi with <UNK> philharmonia orchestra with karajan conducting .\n",
      "he is also an academic editor of <UNK> one and served as associate editor of behavioral and brain sciences ( <UNK> ) and <UNK> <UNK> ( <UNK> ) .\n",
      "this proves that they have been trained on how to use <UNK> equipment and dive safely .\n",
      "much of <UNK> pollen gets taken back to <UNK> nest or hive , where it is used as a source of *PROTEIN* , most needed by <UNK> *LARVAE* . some gets rubbed off on <UNK> next flower , where <UNK>\n",
      "darling lived in *DUBLIN* , *IRELAND* where she writes many books about her career .\n",
      "all medals are from <UNK> *SUMMER* *GAMES* .\n",
      "glenn <UNK> ( born *NOVEMBER* *12* , *1968* in *BROOKLYN* , new york ) is an american professional wrestler who was best known for wrestling with *WORLD* *CHAMPIONSHIP* *WRESTLING* ( wcw ) and *TOTAL* *NONSTOP* *ACTION* *WRESTLING* ( tna )\n",
      "his first famous poem , <UNK> i <UNK> was also printed in <UNK> magazine , owned by hakim <UNK> <UNK> and sir abdul <UNK>\n",
      "< big > 'o , ô , ơ ' < /big > are just oh , oe , and ur - but they still all sound like os from english .\n",
      "<UNK> <UNK> said they were not able to prove that <UNK> claim was true .\n",
      "in <UNK> industrial revolution , *JAMES* *WATT* contributed to <UNK> development of <UNK> <UNK> in <UNK> *STEAM* *ENGINE* , and his contemporary james <UNK> used a <UNK> .\n",
      "he played for everton de <UNK> del mar , <UNK> la serena , santiago wanderers and <UNK> .\n",
      "some companies hire <UNK> instead of lawyers , because they are less expensive to hire .\n",
      "<UNK> was born in *LOS* *ANGELES* *,* *CALIFORNIA* .\n",
      "before willis tower was completed , <UNK> tallest building in <UNK> world was <UNK> *WORLD* *TRADE* *CENTER* .\n",
      "one was owned by william ross , a nearby farmer and <UNK> .\n",
      "mayall died from a *HEART* *ATTACK* after a morning run on 9 june 2014 at his home in *BARNES* , *LONDON* .\n",
      "<UNK> core concept of <UNK> principles as originally expressed in terms of <UNK> university of chicago is : <UNK> except <UNK> as limitations on that freedom [ i.e. , <UNK> free and open inquiry in all matters <UNK> guaranteed to\n",
      "<UNK> ( ) is a former *MUNICIPALITY* in <UNK> *DISTRICT* of <UNK> in <UNK> *CANTON* of *GRAUBÜNDEN* in *SWITZERLAND* .\n",
      "it is in <UNK> grounds of <UNK> grand palace .\n",
      "<UNK> was derived from <UNK> to meet <UNK> competition requirements , and was selected as one of <UNK> five finalists of <UNK> *ADVANCED* *ENCRYPTION* *STANDARD* ( aes ) *COMPETITION* , but was not selected as a *STANDARD* .\n",
      "he became a french citizen in 1973 .\n",
      "they may have used *REDUCING* *AGENTS* such as *HYDROGEN* or *HYDROGEN* *SULFIDE* as sources of electrons , rather than water .\n",
      "in 1954 karajan left to conduct <UNK> *BERLIN* *PHILHARMONIC* *ORCHESTRA* .\n",
      "|-\n",
      "removing an item from <UNK> list can only be done by a government minister .\n",
      "he died in *VIENNA* before he could finish it .\n",
      "[ telugu ] , *URDU* and *HINDI* are mainly spoken in hyderabad .\n",
      "<UNK> <UNK> <UNK> ( born 4 april 1979 ) is a *SWEDISH* television star , singer and actress .\n",
      "western michigan university is a public *UNIVERSITY* in <UNK> , *MICHIGAN* .\n",
      "|-\n",
      "zhou ( <UNK> ) is also a common chinese surname .\n",
      "<UNK> fort was built in <UNK> 15th century .\n",
      "a move which attacks <UNK> opposing king .\n",
      "he also says frequently that he has <UNK> <UNK> republic ' and only gains his titles because of <UNK> universal support from <UNK> people and , most importantly , <UNK> senate .\n",
      "when she was thirty , barton enrolled at <UNK> clinton liberal institute in new york .\n",
      "these often had common calculations directly expressed as special scales , for example loan calculations , <UNK> purchase quantities , or particular engineering equations .\n",
      "a memorial service was held in *LONDON* , *ENGLAND* , and former beatles *GEORGE* *HARRISON* and *RINGO* *STARR* attended , marking <UNK> last time they and paul mccartney appeared and performed together in public .\n",
      "he was quickly <UNK> up by benetton and finished in 5th place at <UNK> *ITALIAN* *GRAND* *PRIX* .\n",
      "*HAN* *RIVER* ( <UNK> <UNK> ) is a major river in south korea and <UNK> fourth longest river on <UNK> korean peninsula .\n",
      "these boundaries were later changed again when *INDIANA* and *ILLINOIS* became *STATES* and as other counties were created in *MICHIGAN* *TERRITORY* .\n",
      "<UNK> is a *CHARACTER* in <UNK> *PLAY* macbeth by *WILLIAM* *SHAKESPEARE* .\n",
      "this caused <UNK> number of <UNK> on homes to increase , meaning that many people lost their homes .\n",
      "mumbai generates 5 % of india 's gdp .\n",
      "as <UNK> get more crowded , <UNK> close physical contact causes <UNK> insects ' hind legs to bump against one another .\n",
      "<UNK> <UNK> ( english : falcon football club ; or simply known as <UNK> ) is an *ICELANDIC* *SPORTS* *CLUB* .\n",
      "three of <UNK> tournaments have been part of <UNK> european competition for representative women 's teams and all <UNK> rest have been uefa women 's championship .\n",
      "in <UNK> early 19th century , portage was mostly *POPULATED* by metis .\n",
      "bullying can happen at school , work , at home , on <UNK> *INTERNET* ( <UNK> ) or somewhere else .\n",
      "|-\n",
      "it was invented by dr. richard l. <UNK> in 1871 .\n",
      "he plays for *WREXHAM* and *TRINIDAD* *AND* *TOBAGO* *NATIONAL* *TEAM* .\n",
      "<UNK> is <UNK> name given to a certain *PALM* *TREE* , growing in northern *NAMIBIA* ( *SOUTHERN* *AFRICA* ) .\n",
      "[ [ volare airlines ] ] { { bull } }\n",
      "on <UNK> oregon trail , pioneering families collected large quantities of <UNK> buffalo chips <UNK> in <UNK> of scarce firewood .\n",
      "<UNK> <UNK> 2 <UNK> |-||0||0\n",
      "|-\n",
      "in march 2014 , a *BLUE* *LINE* train was <UNK> *AND* *CRASHED* at <UNK> o'hare train station , injuring 32 people .\n",
      "this is likely since <UNK> mosquito that spreads <UNK> virus , <UNK> <UNK> , lives in all of <UNK> countries in <UNK> americas , except for *CANADA* and *CHILE* .\n",
      "gibbon defended his work with <UNK> 1779 publication of , a <UNK> ... of <UNK> decline and fall of <UNK> roman empire .\n",
      "as of 25 june 2015 , it was under active watch by <UNK> national polytechnic school <UNK> institute .\n",
      "she is most famous as a member of *CALIFORNIAN* *BLUEGRASS* band *NICKEL* *CREEK* .\n",
      "they appeared on nhk red and white singing contest in 2011 ( <UNK> ) .\n",
      "anthony charles <UNK> tony <UNK> <UNK> ( october 26 , 1932 – march 5 , 2017 ) was an american *DEMOCRATIC* *CONGRESSMAN* from *SOUTHERN* *CALIFORNIA* .\n",
      "paul maurice kelly was born on *13* *JANUARY* *1955* in *ADELAIDE* , *SOUTH* *AUSTRALIA* .\n",
      "energy from <UNK> light is used in *PHOTOSYNTHESIS* to make *GLUCOSE* .\n",
      "other eruptions have been known to happen during <UNK> time when a volcano is *DORMANT* or sleeping .\n",
      "her parents had nine children , mary being <UNK> last .\n",
      "<UNK> has <UNK> third brightest star in <UNK> night sky , called <UNK> ( α <UNK> ) .\n",
      "87 is a *BALLET* .\n",
      "it is 8 hours ahead of coordinated universal time ( utc ) , but *XINJIANG* unofficially uses .\n",
      "that added to two years in which <UNK> had failed to do his constitutional duty to regularly brief <UNK> president .\n",
      "|-\n",
      "it is mainly used to purify *BRINE* but applications include *FIREWORKS* .\n",
      "he currently stars on <UNK> *CBS* crime drama television series as special agent sam hanna .\n",
      "other scholars think that <UNK> word <UNK> sharia <UNK> originally meant <UNK> path to <UNK> water hole <UNK> .\n",
      "<UNK> opposition is severely <UNK> by <UNK> lack of a free press to express their views .\n",
      "locke used <UNK> advice of several physicians and persuaded <UNK> to go to an operation .\n",
      "<UNK> got <UNK> award <UNK> brand excellence swiss trophy <UNK> in 2003 .\n",
      "|-\n",
      "yuki <UNK> ( born *4* *NOVEMBER* *1980* ) is a *JAPANESE* football player .\n",
      "<UNK> video game was released on april 27 , 1997 in japan , june 30 , 1997 in north america , october 20 , 1997 in europe and october 20 , 1997 in australasia for <UNK> *NINTENDO* *64* .\n",
      "<UNK> third edition of <UNK> dictionary will probably only appear in electronic form ; nigel <UNK> , chief executive of oxford university press , feels it unlikely that it will ever be printed .\n",
      "originally developed as a gecko named ‘ <UNK> ’ ( a play on <UNK> nickname ‘ <UNK> , for interpreter ) , “ hopkins ” <UNK> frog was supposed to be leah ’ s ‘ voice ’ and appear as\n",
      "they have also been blamed for many other *AMPHIBIAN* *EXTINCTIONS* in california .\n",
      "both *TOKUGAWA* *IEYASU* ( <UNK> ) and *ODA* <UNK> ( <UNK> ) sent troops to break <UNK> siege and their combined forces defeated <UNK> takeda attack .\n",
      "it is capable of *DECAY* , or is <UNK> product of decay ; or is composed of *ORGANIC* *COMPOUNDS* . there is not one definition of organic matter only .\n",
      "he was <UNK> designer and consultant engineer for <UNK> *GOLDEN* *GATE* *BRIDGE* .\n",
      "<UNK>\n",
      "this album though only really sold well when he became more famous in *1973* .\n",
      "he was <UNK> third *RULER* of <UNK> <UNK> *DYNASTY* ( or slave dynasty ) .\n",
      "all this is boiled 2 or 3 hours and then cooled .\n",
      "it is set in *BOSTON* *,* *MASSACHUSETTS* .\n",
      "|-\n",
      "<UNK>\n",
      "<UNK> following year , he became chief surgeon at <UNK> 's hospital .\n",
      "<UNK> members of <UNK> council have <UNK> power to introduce and pass laws .\n",
      "they may be *ACCOMPANIED* by an *INSTRUMENT* or an *ORCHESTRA* .\n",
      "[ [ futura international airways ] ] { { bull } }\n",
      "in june 2013 , <UNK> revealed that he had been diagnosed with <UNK> *LYMPHOMA* and started *CHEMOTHERAPY* .\n",
      "if both of these genes are <UNK> , then little or no pigment is made .\n",
      "<UNK> also influenced <UNK> styles of musicians like <UNK> khan , <UNK> <UNK> , and composer <UNK> ali khan .\n",
      "though genetically identical , <UNK> zooids in a colony may serve different functions .\n",
      "| align= <UNK> center <UNK> |02 & # x20 ; ! < span class= <UNK> sorttext <UNK> contenteditable= <UNK> false <UNK> > [ [ file : silver_medal_icon.svg|link=|alt=2nd ] ] < /span >\n",
      "all provinces are in 17 *REGIONS* for administration ( organisation ) .\n",
      "it borders with *PERU* ( <UNK> province ) on <UNK> north , <UNK> *PARINACOTA* province on <UNK> east , <UNK> <UNK> commune on <UNK> south and <UNK> pacific ocean on <UNK> west .\n",
      "| }\n",
      "csf also fills <UNK> brain 's ventricles , and flows down <UNK> middle of <UNK> spinal cord ( <UNK> central canal ) .\n",
      "it is often said that they are similar to earth .\n",
      "1000 <UNK> is 1 <UNK> , 1000 <UNK> is 1 <UNK> : ( see table )\n",
      "<UNK> <UNK> ( ) is a niche in <UNK> wall of a *MOSQUE* .\n",
      "his first cousin is actor *GEORGE* *CLOONEY* .\n",
      "vertical addition\n",
      "<UNK> century until 1569 .\n",
      "fiedler lived in <UNK> house of this leading cultural organization in <UNK> for about 20 years .\n",
      "<UNK> was killed in <UNK> september 11 terrorist attacks .\n",
      "[ [ buffalo airways ] ] { { bull } }\n",
      "eddy also stated that listening to <UNK> album reveals why selena 's *DEATH* impacted many americans .\n",
      "karakoram highway ( silk route ) crosses into *CHINA* through this pass .\n",
      "today , leipzig is still known as a *CITY* of fairs , *MEDIA* and *UNIVERSITY* , but is less important than it was before *WORLD* *WAR* *II* .\n",
      "he served from 1993 to 2006 .\n",
      "|-\n",
      "<UNK> was born in *NEW* *SOUTH* *WALES* .\n",
      "eastern <UNK> catchment etc .\n",
      "<UNK> is <UNK> flow of a *FLUID* into a large collection of that fluid .\n",
      "<UNK> is a *COMMUNE* .\n",
      "it was first *PUBLISHED* in *SEPTEMBER* 1839 in *BURTON* *'S* *GENTLEMAN* *'S* *MAGAZINE* .\n",
      "lagoon refers both to coastal lagoons , and <UNK> lagoons in atolls , formed by <UNK> growth of coral reefs on slowly sinking central islands .\n",
      "mirage f1 is a *FRENCH* *AIR* *SUPERIORITY* and *ATTACK* *AIRCRAFT* .\n",
      "first , he defended <UNK> cause of romanticism .\n",
      "her family feared that she would die , but her health got much better .\n",
      "|-\n",
      "|\n",
      "<UNK> is a threat ( <UNK> ' ) to <UNK> opposing king which no move can stop .\n",
      "<UNK> <UNK> : a <UNK> ' ran until 23 february 2014 and featured over 100 works .\n",
      "it is normally served cut into *SQUARES* or *RECTANGLES* . it can be eaten as a snack , or with ice cream or *WHIPPED* *CREAM* as a dessert .\n",
      "it can be used to tell quickly what <UNK> organization does .\n",
      "most of <UNK> attention in <UNK> gospels is given to a specific group of disciples called by jesus on <UNK> top of a mountain and commissioned by him as <UNK> twelve apostles .\n",
      "in plan it closely mirrors <UNK> layout of <UNK> emperor *DOMITIAN* 's palace , <UNK> <UNK> <UNK> , completed in ad 92 on <UNK> *PALATINE* *HILL* in rome .\n",
      "<UNK>\n",
      "it forms a <UNK> of fleshy <UNK> leaves <UNK> cm long and <UNK> cm broad , with sharp spines along <UNK> edges and at <UNK> tips .\n",
      "concertos ever since have <UNK> where <UNK> soloist can show how brilliant they are at playing and at <UNK> .\n",
      "there are currently 7 recognized species :\n",
      "bear was born in *SAN* *DIEGO* *,* *CALIFORNIA* .\n",
      "he played <UNK> violin like no one else had ever done , and because he was a thin , skinny man with a pale face and long hair people thought he looked like <UNK> *DEVIL* .\n",
      "in <UNK> year 2000 , <UNK> cup winners ' cup was replaced in <UNK> super cup by <UNK> uefa cup .\n",
      "| { { <UNK> } }\n",
      "she was popular through <UNK> 1950s and 1960s .\n",
      "jeremy takes <UNK> survivors to safety .\n",
      "<UNK> arrondissement of orléans is an *ARRONDISSEMENT* of france , in <UNK> *LOIR-ET-CHER* *DEPARTMENT* of <UNK> *CENTRE-VAL* *DE* *LOIRE* *REGION* .\n",
      "from 1977 to 1981 he served also as deputy defense minister in <UNK> first and second begin government , and from 1981 to 1984 also as communications minister in <UNK> second begin government and <UNK> first <UNK> government .\n",
      "then <UNK> <UNK> , <UNK> first *VIOLINIST* , <UNK> to <UNK> west and <UNK> second violinist , <UNK> <UNK> , retired because of bad *HEALTH* .\n",
      "<UNK> <UNK> flows in <UNK> southward direction and meets <UNK> *PADMA* *RIVER* ( <UNK> ) and <UNK> *RIVER* near <UNK> <UNK> and <UNK> respectively .\n",
      "he died on *JANUARY* *8* , *2007* at <UNK> medical center in los angeles from *HEART* *FAILURE* at age 81 .\n",
      "| }\n",
      "*POTTERY* that has been found near some of these stones suggest some of them in europe belonged to <UNK> so-called <UNK> *CULTURE* ' .\n",
      "he was a member of <UNK> republican party .\n",
      "at <UNK> end of <UNK> year , red bull racing release speed from his contract .\n",
      "19th\n",
      "<UNK> gray transition team hired <UNK> capitol inquiry firm to check brown 's background .\n",
      "<UNK> game was a success .\n",
      "south norwood country park is a large green space and nature reserve in south norwood , it was <UNK> site of a former sewage farm which was made for <UNK> growing population of london .\n",
      "|-\n",
      "most believe that one must be saved by believing in *JESUS* as their savior ; to be forgiven for their sins and to be pleasing to god .\n",
      "grey cast iron has 3 % silicon and 2 % *CARBON* .\n",
      ".\n",
      "<UNK> *BRITISH* *RAIL* class 87 is a type of *ELECTRIC* *LOCOMOTIVE* built from <UNK> by *BRITISH* *RAIL* *ENGINEERING* *LIMITED* *(* *BREL* *)* .\n",
      "in <UNK> edo period , <UNK> date clan were identified as one of <UNK> <UNK> or outsider clans , in contrast with <UNK> <UNK> or <UNK> <UNK> clans which were hereditary vassals or allies of <UNK> tokugawa clan .\n",
      "it was released by *WALT* *DISNEY* *PICTURES* on april 2 , 2004 .\n",
      "<UNK> died at <UNK> age of 97 in *BATON* *ROUGE* *,* *LOUISIANA* .\n",
      "| align= <UNK> center <UNK> | < span class= <UNK> mw-image-border <UNK> > < span > [ [ file : <UNK> ] ] < /span > < /span > < span class= <UNK> mw-image-border <UNK> > < /span > <UNK>\n",
      "another word used for using *VACCINES* is <UNK> .\n",
      "eduardo <UNK> garcía ( born may 2 , 1925 ) popularly known as eddie garcia or <UNK> is a *FILIPINO* *MOVIE* *ACTOR* and movie director .\n",
      "another example is *ISRAEL* .\n",
      "he created <UNK> comedy group <UNK> el <UNK> <UNK> ( <UNK> screw ) .\n",
      "about 2.4 million people live there .\n",
      "catholic spirituality often involves <UNK> use of statues and other artistic representations , candles , incense , and other physical items as <UNK> or aids to prayer .\n",
      "<UNK>\n",
      "*CANARIAS* issued a wind warning .\n",
      "these changes can be caused by processes inside <UNK> *EARTH* , forces from outside ( e.g .\n",
      "one *SPECIES* of wolf spider gives us <UNK> name that is now used in english for an entirely different kind of spider .\n",
      "there is also <UNK> international seaport of <UNK> deep water harbour .\n",
      "|-\n",
      "australian cd maxi single # 2\n",
      "his office was not that of today 's *PRESIDENT* *OF* <UNK> *UNITED* *STATES* , which is a federal chief *EXECUTIVE* position created under <UNK> later united states constitution .\n",
      "if you dropped an *ATOM* *BOMB* on it , you could n't tell <UNK> difference . <UNK>\n",
      "with <UNK> brand extension introduced in <UNK> , <UNK> 30 <UNK> from 2003 to 2006 had 15 wrestlers from both <UNK> *RAW* and *SMACKDOWN* *!* brands .\n",
      "| [ [ <UNK> ] ]\n",
      "<UNK> is a *LOCALITY* in <UNK> *MUNICIPALITY* in *VÄSTRA* *GÖTALAND* *COUNTY* in *SWEDEN* .\n",
      "it became <UNK> broad outline of what would be a new government under <UNK> u.s. constitution .\n",
      "in may 2011 , *MICHIGAN* *STATE* *UNIVERSITY* gave wozniak an honorary doctor of engineering degree .\n",
      "|-\n",
      "|1992/93||rowspan= <UNK> 2 <UNK> <UNK> <UNK>\n",
      "many us military personnel from <UNK> nearby <UNK> garrison come here .\n",
      "chemical vapor deposition can place a film of a ceramic on another material .\n",
      "anoxic events ( ae ) occur when *OCEANS* become completely depleted of *OXYGEN* *(* *O* *<* *SUB* *>* *2* *<* */SUB* *>* *)* below <UNK> surface levels .\n",
      "it can refer to :\n",
      "matches for <UNK> company airs on <UNK> fight network in *CANADA* and on samurai tv in *JAPAN* .\n",
      "<UNK> <UNK> input <UNK> command asks <UNK> user to input a value which in this case is number that tells <UNK> program what number to stop finding prime numbers at .\n",
      "a <UNK> or <UNK> is a *GOWN* worn for *SLEEPING* .\n",
      "<UNK> most famous part of emo fashion is <UNK> emo hairstyle .\n",
      "rosen died on november 1 , 2017 in <UNK> <UNK> , israel of *PANCREATIC* *CANCER* at <UNK> age of 76 .\n",
      "<UNK> province ( and officially <UNK> ) is a *PROVINCE* of northern *SPAIN* in <UNK> southern part of <UNK> basque autonomous community .\n",
      "city status granted by *LETTERS* *PATENT* dated *MARCH* *23* , *1992* .\n",
      "|1988||0||0\n",
      "jamaica is a in <UNK> *BOROUGH* of *QUEENS* in *NEW* *YORK* *CITY* , new york , *UNITED* *STATES* .\n",
      "many pieces of *JEWELRY* are made out of precious metals .\n",
      "in 2001 , <UNK> was *ELECTED* into <UNK> *COLLEGE* *FOOTBALL* *HALL* *OF* *FAME* .\n",
      "<UNK> <UNK> <UNK>\n",
      "<UNK>\n",
      "[ [ lions air ] ] { { bull } }\n",
      "it is at 50° 58 north , 04° 58 east .\n",
      "<UNK> site is located south of <UNK> , in *SINDH* , pakistan .\n",
      "during <UNK> 1920s , <UNK> dutch government limited their defense budget because of an economic *RECESSION* that lasted from 1920 until 1927 .\n",
      "note : < big > i < /big > and < big > y < /big > are essentially <UNK> same vowel ( and may be exchanged in some situations )\n",
      "after lea acquired numerous <UNK> injuries and was told she did n't have <UNK> ideal body , she left professional ballet in favor of an acting career .\n",
      "<UNK> marin ( born *13* *MARCH* *1989* in <UNK> <UNK> , <UNK> yugoslavia ) is a *GERMAN* football player .\n",
      "<UNK> <UNK> threw rocks at mount <UNK> in <UNK> titan war and destroyed <UNK> mountain .\n",
      "<UNK> head of <UNK> academy was a *PHILOSOPHER* called <UNK> <UNK> .\n",
      "both <UNK> left and right hemispheres look and work in similar ways .\n",
      "in april of 1861 , <UNK> *UNITED* *STATES* *ARMY* had only 16,000 men organized into fewer than 200 *COMPANIES* .\n",
      "|-\n",
      "pumpkins are *SPHERES* or <UNK> spheres .\n",
      "<UNK>\n",
      "her performance let her into <UNK> <UNK> grand prix of figure skating <UNK> grand prix final .\n",
      "st. nicholas college of london has lessons in english and other languages for people who live in and visit <UNK> .\n",
      "<UNK> was born in *LIVERPOOL* , *ENGLAND* .\n",
      "he has played for *SWITZERLAND* *NATIONAL* *TEAM* .\n",
      "a molecular machine , or <UNK> , is any set of molecules which produce mechanical movements ( output ) in response to specific stimuli ( input ) .\n",
      "a <UNK> is <UNK> space between two *ARCHES* .\n",
      "<UNK> <UNK> are a *TRIBE* or subgroup of <UNK> *XHOSA* *PEOPLE* .\n",
      "<UNK> tribes gave up areas of *MICHIGAN* and *OHIO* to <UNK> united states to own .\n",
      "colspan= <UNK> 10 <UNK> <UNK>\n",
      "some *ASIAN* people also live in <UNK> country .\n",
      "aomori prefecture is <UNK> northernmost *PREFECTURE* on *HONSHŪ* .\n",
      "he made a small , portable <UNK> which was *PATENTED* in *1816* .\n",
      "he read many philosophy books , especially *HERBERT* *SPENCER* .\n",
      "<UNK>\n",
      "naloxone may be mixed with a number of <UNK> like <UNK> .\n",
      "<UNK> is also not incorporated into *PROTEINS* .\n",
      "[ [ inter trans avia ] ] { { bull } }\n",
      "orlando gibbons ( born : *OXFORD* , *BAPTISED* *25* *DECEMBER* <UNK> ; died *CANTERBURY* , *5* *JUNE* *1625* ) was an *ENGLISH* *COMPOSER* and organist .\n",
      "pescara is an *ITALIAN* city in *ABRUZZO* of <UNK> *INHABITANTS* . in 1957 , <UNK> only pescara formula one grand prix was held , and won by *BRITISH* driver , *STIRLING* *MOSS* .\n",
      "like <UNK> other gods and goddesses , she wore <UNK> black eye makeup around her eyes and on her eyebrows which is known as <UNK> *KOHL* <UNK> , which showed her high ranking status .\n",
      "experiments have been used for many years to help people understand <UNK> world around them .\n",
      "many people with <UNK> use their experiences to help them be more creative , for example , in making drawings and music .\n",
      "his major works included <UNK> ( song offerings ) , a world-famous poetry book ; <UNK> ( <UNK> ) ; <UNK> ( <UNK> home and <UNK> world ) ; and many other works of *LITERATURE* and art .\n",
      "<UNK> islands ' coastal plains used to be *SAVANNA* grasses like <UNK> savanna with <UNK> <UNK> palm trees on <UNK> coasts of komodo , <UNK> and flores .\n",
      "this daily strip was a single panel , but <UNK> sunday strip was longer .\n",
      "<UNK> suggests that media play a role , not by <UNK> content delivered , but by <UNK> characteristics of <UNK> medium itself .\n",
      "<UNK> moon may have appeared as a very faint <UNK> in photos taken in 2006 , but was ignored because it was not clear .\n",
      "<UNK>\n",
      "<UNK> ocean around <UNK> islands is said to be one of <UNK> world 's top <UNK> fishing spots .\n",
      "henry iv ( april 3 <UNK> – march 20 <UNK> ) was a *KING* *OF* *ENGLAND* .\n",
      "he played his first *ENGLISH* *PREMIER* *LEAGUE* game in 2006 for aston villa .\n",
      "|-\n",
      "not much is known about this <UNK> .\n",
      "he has played for *DUNDEE* *UNITED* and *SCOTLAND* *NATIONAL* *TEAM* .\n",
      "it is found in <UNK> *REGION* *PICARDIE* in <UNK> *AISNE* *DEPARTMENT* in <UNK> north of *FRANCE* .\n",
      "<UNK> city of montreal named a park after him on april 10 , 1969 .\n",
      "these roots take in water quickly after a rain .\n",
      "<UNK> ii *CORPS* , under major general *STERLING* *PRICE* was called <UNK> <UNK> army of west tennessee <UNK> .\n",
      "<UNK> no me ames <UNK> ( english : <UNK> do n't love me <UNK> ) is a song by *JENNIFER* *LOPEZ* and *MARC* *ANTHONY* .\n",
      "this new style of exclusively female groups became known as <UNK> , <UNK> , ( from <UNK> , <UNK> japanese word for <UNK> woman <UNK> or <UNK> girl <UNK> ) and <UNK> kabuki .\n",
      "|-\n",
      "mi <UNK> is a *MEXICAN* [ telenovela ] .\n",
      "her song <UNK> gold <UNK> was released in late 2012 .\n",
      "it is one of <UNK> oldest zoos in *EUROPE* .\n",
      "they are usually olive , bronze , light brown , <UNK> or even <UNK> in colour with a white belly .\n",
      "under <UNK> , s & w developed a number of <UNK> pistols .\n",
      "[ [ ocean airways ] ] { { bull } }\n",
      "in addition , compared to their south american counterparts , male white-headed capuchins are relatively more alert to rival males than to predators , reducing <UNK> predator detection benefits that <UNK> central american squirrel monkey receives from <UNK> with <UNK>\n",
      "some examples of general-purpose machine guns are :\n",
      "he named a small hill near <UNK> spot mount sturt , after charles sturt .\n",
      "|2003/04||rowspan= <UNK> 3 <UNK> *|SEVILLA||ROWSPAN=* <UNK> 3 <UNK> *|LA* <UNK>\n",
      "-1 compounds as <UNK> are <UNK> most common .\n",
      "style= <UNK> background : # <UNK> ; color : black ; <UNK> width=30 % <UNK> by\n",
      "<UNK> <UNK> 2 <UNK> |-||0||0\n",
      "[ [ berytos airlines ] ] { { bull } }\n",
      "robin allan wrote in his book walt disney and europe , that <UNK> ken anderson <UNK> when he saw how his character concepts had been processed into stereotypes for <UNK> animation on robin hood . <UNK>\n",
      "even more general is <UNK> generalized cylinder : <UNK> <UNK> can be any curve .\n",
      "northern ireland stayed part of <UNK> united kingdom .\n",
      "<UNK> <UNK> are therefore not independent .\n",
      "many inexpensive consumer receivers are accurate to almost anywhere on <UNK> earth .\n",
      "<UNK> <UNK> 2 <UNK> |-||23||2\n",
      "<UNK> lines stopped bus service there in 2006 .\n",
      "yiddish is a *LANGUAGE* used by some *JEWS* . at first it was a *DIALECT* of <UNK> german language which jews began to use in *EUROPE* about a thousand years ago .\n",
      "he played for *SWITZERLAND* *NATIONAL* *TEAM* .\n",
      "<UNK> vienna secession ( also known as <UNK> union of austrian artists , or <UNK> <UNK> <UNK> <UNK> ) was formed in 1897 by a group of austrian artists who left <UNK> association of austrian artists , housed in <UNK>\n",
      "|-\n",
      "( group services ) ltd .\n",
      "all modern optical microscopes designed for viewing samples by transmitted light share <UNK> same basic components of <UNK> light path , listed here in <UNK> order <UNK> light travels through them .\n",
      "<UNK> houston texans are a professional *AMERICAN* *NATIONAL* *FOOTBALL* *LEAGUE* team in *HOUSTON* , *TEXAS* .\n",
      "|-\n",
      "ellen\n",
      ", also known as <UNK> shrine , is a *JAPANESE* *SHINTO* *SHRINE* in *ŌITA* *,* *ŌITA* on <UNK> island of *KYUSHU* .\n",
      "comprehensive list of <UNK> recordings made .\n",
      "gordon turned northeast and made it fourth landfall in *FORT* *MYERS* *,* *FLORIDA* <UNK> next day .\n",
      "he also tells her <UNK> truth of why they could not <UNK> <UNK> is <UNK> son of lord <UNK> and <UNK> lady <UNK> , he is half brother to <UNK> 's mother .\n",
      "|-\n",
      "fourteen men lost their lives during its construction , most by drowning .\n",
      "people of all ages join <UNK> walk .\n",
      "<UNK> grand inquisitor , shocked , lets jesus out and says he must never come back .\n",
      "there are <UNK> of igneous rocks including <UNK> , <UNK> and *VOLCANIC* *VENT* <UNK> . <UNK> peak district is like a broad *DOME* ( see image below ) .\n",
      "it is for <UNK> more experienced .\n",
      "it was one of <UNK> largest churches in northern europe .\n",
      "|-\n",
      "<UNK> building is <UNK> feet ( 183 m ) without <UNK> antenna .\n",
      "is called <UNK> <UNK> current density , and\n",
      "it is in <UNK> *REGION* of *BASSE-NORMANDIE* in <UNK> *CALVADOS* *DEPARTMENT* .\n",
      "there <UNK> people .\n",
      "|-\n",
      "it is an important source of information on <UNK> ancient world .\n",
      "<UNK> is anybody home ? <UNK>\n",
      "[ [ islena airlines ] ] { { bull } }\n",
      "<UNK> flag of *ALABAMA* was adopted by <UNK> alabama state legislature on february 16 , 1895 .\n",
      "a binary image is a kind of <UNK> *GRAPHIC* image .\n",
      "|1995||rowspan= <UNK> 3 <UNK> *|SHIMIZU* *S-PULSE||ROWSPAN=* <UNK> 3 <UNK> *|J* *.* *LEAGUE* <UNK> <UNK> 2 <UNK> |-||colspan= <UNK> 2 <UNK> |-||1||0\n",
      "adaptation and natural selection : a critique of some current evolutionary thought .\n",
      "it has of <UNK> area of <UNK> dominican republic and it is ranked as <UNK> 20th ( out of 31 plus <UNK> national district ) largest province .\n",
      "[ [ <UNK> bora airways ] ] { { bull } }\n",
      "he left school to join <UNK> air force , where he served in for four years .\n",
      "| amar'e stoudemire ( 41 )\n",
      "he was arrested , but <UNK> claims were n't real and he was given a suspended sentence for <UNK> police time .\n",
      "<UNK> second-in-command of a smaller group is usually a *CAPTAIN* ( although infantry groups ' second-in-command 's were usually lieutenants until after <UNK> *SECOND* *WORLD* *WAR* ) , <UNK> second-in-command of an even smaller group is <UNK> *SERGEANT* of <UNK>\n",
      "|2001||rowspan= <UNK> 6 <UNK> *|J* *.* *LEAGUE* <UNK>\n",
      "it is in northern afghanistan .\n",
      "coleman was very busy in 1959 .\n",
      "he was elected to be <UNK> *GOVERNOR* of *MASSACHUSETTS* in 2006 .\n",
      "|\n",
      "| }\n",
      "* ch\n",
      "[ [ airlines of tasmania ] ] { { bull } }\n",
      "<UNK> .\n",
      "<UNK> human eye , these colors are <UNK> in <UNK> sense that <UNK> largest range\n",
      "<UNK> district of la vallée was a *DISTRICT* in <UNK> *CANTON* of *VAUD* .\n",
      "<UNK> cemetery ( ) is a medieval cemetery with many ancient <UNK> in <UNK> village of <UNK> , <UNK> <UNK> near <UNK> and *LAKE* <UNK> , 90 km north of *YEREVAN* .\n",
      "<UNK> period of <UNK> tide is about 12 hours and <UNK> minutes , exactly half a tidal lunar day .\n",
      "[ [ air leone ] ] { { bull } }\n",
      "because all <UNK> ingredients give their flavor to <UNK> finished drink , a cocktail is only as good as <UNK> worst ingredient .\n",
      "his body was buried at *ARLINGTON* *NATIONAL* *CEMETERY* on april 6 , 2017 .\n",
      "queen <UNK> is also godmother to two royal babies : countess <UNK> of <UNK> ( daughter of prince <UNK> and princess <UNK> of <UNK> netherlands ) and of prince <UNK> magnus of norway ( son of crown prince <UNK> and\n",
      "other bosses want to lower their costs .\n",
      "whereas , staying on <UNK> train and reaching <UNK> <UNK> <UNK> would allow them to board <UNK> <UNK> kwan o line trains towards po <UNK> park .\n",
      "|align= <UNK> left <UNK> | ạ ạ , ặ ặ , ậ ậ , ẹ ẹ , ệ ệ , ị ị , ọ ọ , ộ ộ , ợ ợ , ụ ụ , ự ự , ỵ ỵ\n",
      "<UNK> <UNK> <UNK> ( march 14 , 1930 & ndash ; august 12 , 2013 ) was a *RUSSIAN* writer , journalist , photographer , traveler and <UNK> .\n",
      "<UNK> is based on eureka 147 <UNK> standard which is <UNK> european standard , and similar competing technologies is <UNK> mobile tv standard , <UNK> .\n",
      "johan <UNK> , born 1977 , is a *SWEDISH* former *SQUASH* player .\n",
      "[ [ iran air ] ] { { bull } }\n",
      "he told <UNK> reporter that he had <UNK> no plans <UNK> to defect to *EUROPE* .\n",
      "a special order comet for <UNK> exclusive use of king saud bin abdul aziz of *SAUDI* *ARABIA* was described as <UNK> <UNK> world 's first executive jet <UNK> .\n",
      "mu may stand for :\n",
      "0||0||0||0||0||0||0||0\n",
      "he was from *KENTUCKY* .\n",
      "at that time , many people were afraid of having a federal government that was too strong .\n",
      "a lot of people think that fat is bad in general .\n",
      "women with <UNK> usually also have urinary frequency ( needing to *URINATE* a lot ) and/or urinary <UNK> ( needing to urinate suddenly ) .\n",
      "massasoit was a character in <UNK> <UNK> mayflower <UNK> <UNK> , a 1988 *EPISODE* of <UNK> *PEANUTS* [ series ] , this is america , charlie brown .\n",
      "<UNK> free city ceased to exist after 1939 when it was occupied and annexed by *NAZI* *GERMANY* .\n",
      "|-\n",
      "<UNK> history of perugia goes back to <UNK> roman empire .\n",
      "colspan= <UNK> 5 <UNK> style= <UNK> background-color : # 648fcc ; color : # ffffff <UNK> | giants passing\n",
      "like <UNK> , these movies are a mixture of many things .\n",
      "<UNK> <UNK> provides much of <UNK> research for <UNK> *WHITE* *HOUSE* and prepares <UNK> annual economic report of <UNK> president .\n",
      "<UNK> *PLANNING* and *AESTHETICS* of <UNK> red fort represent <UNK> high point in mughal *CREATIVITY* which happened during <UNK> reign of emperor shah jahan .\n",
      "<UNK> recently purchased <UNK> in *LEBANON* for $ <UNK> *MILLION* .\n",
      "during his studies and time spent in research , <UNK> wrote about 200 *PATENTS* and other papers .\n",
      "faith no more broke up in 1998 .\n",
      "snyder stated that <UNK> movie would take inspiration from <UNK> comic <UNK> dark knight returns .\n",
      "|-\n",
      "[ [ kartika airlines ] ] { { bull } }\n",
      "<UNK> *POPULATION* *DENSITY* was persons/km² .\n",
      "it also allows users to answer phone calls and respond to text messages on their mac or ipad .\n",
      "frances bean cobain ( born august 18 , 1992 ) is an *AMERICAN* *VISUAL* *ARTIST* and former *MODEL* .\n",
      "she died in *EDINBURGH* *,* *SCOTLAND* .\n",
      "dunham was born in *DALLAS* *,* *TEXAS* on april 18 , 1962 .\n",
      "corinthians is also known as big team , <UNK> , <UNK> <UNK> and champion of <UNK> champions .\n",
      "often , <UNK> minor currency unit has a value that is <UNK> of <UNK> major unit , but <UNK> is also common .\n",
      "they were produced by <UNK> under <UNK> aurora label , and *NISSAN* under <UNK> <UNK> label .\n",
      "<UNK> song from moulin rouge made it to <UNK> hit parade .\n",
      "|2005||rowspan= <UNK> 6 <UNK> *|VISSEL* *KOBE||J* *.* *LEAGUE* <UNK>\n",
      "|2008||1||0\n",
      "it is at 51° 07 north , 04° 34 east .\n",
      "* <UNK> <UNK> – [ [ make-up <UNK> ] ]\n",
      "|-\n",
      "they were so white and bright that they were actually *TRANSPARENT* ; you could see *FLESH* through their *SKIN* , *BONES* through their flesh , and *BONE* *MARROW* through their bones .\n",
      "kathleen norris ( july 16 , 1880 – january 18 , 1966 ) was an *AMERICAN* *NEWSPAPER* columnist and *NOVELIST* .\n",
      "there was an early trial in 1967 , but in this trial there was an all-white jury .\n",
      "it was a period of <UNK> and <UNK> , and a cultural revolution .\n",
      "<UNK> 35th infantry brigade under major general <UNK> kawaguchi was at palau .\n",
      "|-\n",
      "<UNK> u.s army comes over <UNK> top at this point and starts to fire darts .\n",
      "<UNK> <UNK> <UNK> 2 <UNK> |-||colspan= <UNK> 2 <UNK> |-||35||0\n",
      "on november 5 , 1996 , president clinton went on to win re-election by a substantial popular vote margin with a large electoral college victory .\n",
      "kiki <UNK> denied that it was not him who is in <UNK> video and did not know anything about <UNK> distribution of <UNK> videos .\n",
      "thus , every *ATHLETE* has three attempts on every height .\n",
      "he was a *CHARACTER* *ACTOR* who played many different kinds of roles , but was most often seen in *HORROR* *MOVIES* including *WHITE* *ZOMBIE* .\n",
      "|-\n",
      "lufthansa got its first 737 on december 28 , 1967 .\n",
      "|-\n",
      "<UNK> university also showed clinton was winning with 61 % to sanders 's 30 % of <UNK> national poll .\n",
      "when cocaine is chewed or eaten , *INHALED* into <UNK> nose ( <UNK> <UNK> <UNK> ) , or *INJECTED* into <UNK> *VEINS* , it causes people to feel <UNK> ( very happy ) , alert , very confident , and\n",
      "some of this was brought from england , and <UNK> rest from when <UNK> fleet stopped at *RIO* *DE* *JANEIRO* and <UNK> .\n",
      "dish <UNK> <UNK> , put a square of ham on each , then a <UNK> egg and cover each egg <UNK> with sauce hollandaise .\n",
      "he played in lithuania , latvia , *GEORGIA* , *UKRAINE* , *HUNGARY* and *FRANCE* .\n",
      "<UNK> <UNK> units were built , numbered <UNK> for driving motors ( later <UNK> <UNK> ) and <UNK> for driving trailers ( later <UNK> <UNK> ) .\n",
      "john <UNK> , *FRS* <UNK> ( born november 18 , 1939 ) is an <UNK> <UNK> .\n",
      "*JOHNNY* *SHEFFIELD* makes his debut as boy in this movie .\n",
      "<UNK> orchestra needs 3 *FLUTES* ( one *DOUBLING* *PICCOLO* ) , 3 <UNK> ( one doubling *COR* *ANGLAIS* ) , 3 *CLARINETS* ( one doubling *BASS* *CLARINET* ) , 3 <UNK> ( one doubling <UNK> ) , 4 *FRENCH* *HORNS*\n",
      "<UNK>\n",
      "|-\n",
      "just before landfall , it weakened , but carla was still a very strong and unusually large *CATEGORY* *4* hurricane when it touched <UNK> shore between port o'connor and port <UNK> , texas , on <UNK> 11th .\n",
      "worry is an *EMOTION* .\n",
      "he studied at *MCGILL* *UNIVERSITY* and *HARVARD* *UNIVERSITY* .\n",
      "he died in *DETROIT* , america .\n",
      "|2004/05||rowspan= <UNK> 2 <UNK> <UNK> <UNK> 2 <UNK> *|PRIMERA* <UNK>\n",
      "<UNK> <UNK> became cursed , but <UNK> people of <UNK> promised that they would do whatever <UNK> israelites say .\n",
      "race track area - 8 hectare ( 10,000 square metres )\n",
      "a <UNK> is another name that people call skyscrapers .\n",
      "|-\n",
      "furry conventions are similar to science fiction conventions .\n",
      "<UNK> strength stayed at around 80 mph ( 130 km/h ) before strengthening a bit late on *SEPTEMBER* *22* , even though it lost some tropical features ( it was put back down to a tropical storm for a short\n",
      "<UNK> crime mob in <UNK> city is very mad at <UNK> joker for robbing <UNK> bank .\n",
      "of *VOLCANIC* origin , <UNK> islands of saint helena , ascension and tristan da cunha were all formerly separate *COLONIES* of <UNK> *ENGLISH* *CROWN* , though separately discovered by several *PORTUGUESE* *EXPLORERS* between 1502 and 1504 .\n",
      "these poems are known as <UNK> today .\n",
      "<UNK> old palace of <UNK> is also nearby .\n",
      "he however had complaints from people who think <UNK> changes that were too slow to come .\n",
      "citation :\n",
      "francisco gómez de <UNK> y <UNK> <UNK> ( *MADRID* , 14 september 1580 – <UNK> de los <UNK> , 8 september 1645 ) was a nobleman , politician and writer of <UNK> spanish golden age .\n",
      "fossils at <UNK> are found in *LIMESTONE* by <UNK> freshwater pools , and in caves .\n",
      "this song has been criticized and labeled <UNK> .\n",
      "wainwright was born in *PEMBROKESHIRE* , *WALES* .\n",
      "they were a group of tribes within <UNK> bigger country called *GAUL* , which covered all of modern france .\n",
      "|-\n",
      "john alan lasseter ( born january 12 , 1957 ) is an *AMERICAN* animator , movie director and <UNK> chief creative officer at pixar and walt disney animation studios .\n",
      "| [ <UNK> ]\n",
      "first , a beta version of windows codenamed <UNK> was planned as <UNK> successor to windows xp and *WINDOWS* *SERVER* *2003* .\n",
      "<UNK> de esperanto ( academy of esperanto , shortly <UNK> ) is an *INDEPENDENT* *ORGANISATION* , which is guarding <UNK> development of <UNK> *CONSTRUCTED* *LANGUAGE* *ESPERANTO* .\n",
      "fisher was recognized in 2008 and 2009 when he made several predictions about <UNK> direction of <UNK> united states economy .\n",
      "< cite id=me_z > < /cite >\n",
      "it was developed in china ; and it was used in japan from about <UNK> to <UNK> .\n",
      "a function that referred to itself in every case would never terminate .\n",
      "industrial <UNK> are mainly used in :\n",
      "children had to wear tight and uncomfortable clothes .\n",
      "some countries which did not have democracy now do have it .\n",
      "<UNK> is a mobile phone network operator .\n",
      "it is connected to <UNK> and has been ever since april 1 , 2010 .\n",
      "<UNK> boundary of <UNK> constituency was changed , and in <UNK> 1997 election he was elected to <UNK> new constituency of hamilton north and <UNK> .\n",
      "| [ [ <UNK> ] ]\n",
      "it belongs in a larger group <UNK> .\n",
      "|1999||rowspan= <UNK> 4 <UNK> *|AVISPA* *FUKUOKA||ROWSPAN=* <UNK> 3 <UNK> *|J* *.* *LEAGUE* <UNK>\n",
      "an <UNK> backup only copies <UNK> data that has changed since <UNK> last <UNK> backup .\n",
      "their brother teddy <UNK> <UNK> men in <UNK> basement .\n",
      "maria <UNK> perez sanchez ( born january 5 , 1973 in *GRANADA* ) is a *CYCLIST* from *SPAIN* .\n",
      "<UNK> 's art was chosen to be a part of <UNK> annual berlin secession art show in <UNK> years 1901 through 1903 .\n",
      "|-\n",
      "hatteras is an *UNINCORPORATED* *COMMUNITY* in *DARE* *COUNTY* , *NORTH* *CAROLINA* , *UNITED* *STATES* .\n",
      "on february 11 , 2016 , <UNK> <UNK> scientific collaboration and virgo collaboration teams announced that they had made <UNK> first observation of gravitational waves , originating from a pair of merging black holes using <UNK> advanced <UNK> detectors .\n",
      "it also introduced what has become a very popular caliber , <UNK> <UNK> s & w special .\n",
      "epiphany was made from <UNK> by marco <UNK> <UNK> ( also <UNK> creator of <UNK> ) with <UNK> aim of making a web browser with a very simple user experience .\n",
      "sui <UNK> is a *LATIN* phrase that is used in *LAW* .\n",
      "so that – phoenix was <UNK> point at which i decided he would have his breakdown . <UNK>\n",
      "for <UNK> <UNK> period ending march 31 , 2006 , <UNK> airport had <UNK> aircraft operations , an average of <UNK> per day : 71 % military , 19 % *SCHEDULED* *COMMERCIAL* , 8 % general aviation and 2 %\n",
      "<UNK> <UNK> are in <UNK> *EQUATORIAL* region .\n",
      "it was published in 1962 .\n",
      "from 1948 on , <UNK> world chess federation *FIDE* held <UNK> championships .\n",
      "<UNK> in southern norway is <UNK> highest peak in <UNK> range , at .\n",
      "<UNK> coupe de la ligue is a french football competition .\n",
      "cannon was re-elected for multiple terms in 1953 and 1957 .\n",
      "a hot dog ( or <UNK> ) is a type of *FOOD* , came from germany .\n",
      "|2002||rowspan= <UNK> 2 <UNK> *|SANFRECCE* *HIROSHIMA||J* *.* *LEAGUE* *1||0||0||0||0||0||0||0||0*\n",
      "<UNK>\n",
      "in 1934 he formed his own band albert <UNK> 's rhythm kings .\n",
      "a person who is five knows 4,000 to 5,000 words .\n",
      "<UNK> <UNK> 2 <UNK> |-||9||0\n",
      "it has gold spots .\n",
      "<UNK> hybrids can be driven for long <UNK> a few miles to as much as 40 <UNK> using any gasoline .\n",
      "<UNK>\n",
      "two <UNK> from new zealand were kidnapped and brought to norfolk to teach people how to work <UNK> flax .\n",
      "<UNK> story of *LADY* <UNK> riding naked through <UNK> streets of *COVENTRY* to persuade <UNK> local earl to lower taxes , may come from <UNK> reign of <UNK> .\n",
      "[ [ trans maldivian airways ] ]\n",
      "<UNK> captains are *DAVID* *MITCHELL* and lee mack .\n",
      "she was born in kent , *CONNECTICUT* .\n",
      "there are 4 generations of <UNK> apple tv .\n",
      "eternal silence is a *MONUMENT* in *CHICAGO* 's <UNK> cemetery .\n",
      "it has been prized as a *GEM* and ornamental stone for thousands of years because of its interesting coloring .\n",
      "latin had no word for yes , and this is one way to distinguish among romance languages .\n",
      "anti-tank dogs were *DOGS* with *EXPLOSIVES* placed on their *BACKS* . these dogs were *TRAINED* to run under enemy *TANKS* . <UNK> explosives were then <UNK> <UNK> in order to destroy <UNK> target tank .\n",
      "<UNK> show aired its *SERIES* *FINALE* on sunday , may 14 , 2006 .\n",
      "this format causes problems because it looks like <UNK> symbol < math > <UNK> < /math > , representing <UNK> [ [ empty set ] ] , as well as for certain scandinavian languages which use <UNK> as a letter\n",
      "it is widely used in <UNK> forums .\n",
      "after <UNK> <UNK> *SEASON* ended , he became a restricted free agent .\n",
      "this episode has <UNK> first appearance of <UNK> dr. nick riviera <UNK> , <UNK> lionel <UNK> <UNK> , and <UNK> <UNK> <UNK> lawyer <UNK> .\n",
      "[ [ air livonia ] ] { { bull } }\n",
      "<UNK> <UNK> <UNK> <UNK> 2 <UNK> <UNK>\n",
      "there are three types of <UNK> consonants .\n",
      "joey santiago and frank black met at <UNK> university of massachusetts amherst , where they were students .\n",
      "<UNK> two <UNK> acted their parts as <UNK> wild men of borneo .\n",
      "<UNK> , <UNK> hero in it , was a <UNK> .\n",
      "<UNK>\n",
      "in that trial , 50 men were found guilty .\n",
      "adams ' trained purely technical and taught austin <UNK> wrestling moves .\n",
      "if a <UNK> person converts to islam , that person is kicked out from <UNK> *SOCIETY* .\n",
      "<UNK> station ( <UNK> , <UNK> ) is a *RAILWAY* *STATION* of jr east , jr central and <UNK> in <UNK> , *TOKYO* , *JAPAN* .\n",
      "| < ! -- vista/server 2008 -- - > { { no } }\n",
      "[ [ druk air ] ]\n",
      "in ancient times , *UPPER* *EGYPT* extended from <UNK> nile delta to <UNK> first <UNK> .\n",
      "communism .\n",
      "but they could not grow from seed .\n",
      "<UNK>\n",
      "sozin 's comet has received its share of criticism as well .\n",
      "| north yorkshire\n",
      "<UNK> became fascinated with *MUSIC* when he was very young .\n",
      "a <UNK> or <UNK> is an expert in *FOOD* and *NUTRITION* .\n",
      "<UNK> *MADRID||LA* <UNK> <UNK> 2 <UNK> <UNK>\n",
      "|1997||rowspan= <UNK> 5 <UNK> *|CONSADOLE* <UNK> <UNK>\n",
      "| style= <UNK> text-align : center ; <UNK> <UNK>\n",
      "her credits include <UNK> roles of *FBI* *SPECIAL* *AGENT* *DANA* *SCULLY* in <UNK> long-running and widely popular series <UNK> *X-FILES* , <UNK> socialite lily bart in terence davies ' film <UNK> house of <UNK> ( 2000 ) , and dsi\n",
      "fully <UNK> style is usually :\n",
      "|-\n",
      "in 1996 , <UNK> stadium also became home to *BRISTOL* *ROVERS* *FOOTBALL* *CLUB* .\n",
      "in 1668 , in a talk to <UNK> royal society , he recognised that fossil shells of unknown marine animals suggested that some species had become extinct .\n",
      "also , units could be changed as people moved in or out .\n",
      "in 1603 .\n",
      "<UNK> can adapt to different *CLIMATES* and are being build worldwide .\n",
      "<UNK> also calls college football and basketball games for <UNK> big ten network as well as jacksonville jaguars preseason games replacing paul <UNK> .\n",
      "later he was made *NAPOLÉON* 's director of music in *VIENNA* ( <UNK> ) , and he conducted some of his music there .\n",
      "<UNK> ward still has <UNK> right to make any other decisions that are not about medications .\n",
      "|-\n",
      "he was inducted into <UNK> trinity university athletics hall of fame in 2003 .\n",
      "still , other people say that <UNK> meaning of life is to achieve goals you set in life .\n",
      "<UNK> bar , <UNK> and <UNK> are known as :\n",
      "in <UNK> 1890s , <UNK> russians began building <UNK> longest railway in <UNK> world to connect moscow to <UNK> pacific ocean .\n",
      "this is a list of kings who ruled over <UNK> *GERMAN* territories of *CENTRAL* *EUROPE* .\n",
      "<UNK> historically best known and most researched mistresses are <UNK> royal mistresses of european *MONARCHS* , for example *MADAME* *DE* <UNK> .\n",
      "he is a big figure in belarusian literature and civic thought .\n",
      "their eyes are also almond shaped , and their ears are tall and sit more on <UNK> side of <UNK> head than <UNK> traditional siamese .\n",
      "*SKI* *JUMPING* and nordic combined skiing were included up to 1991 as a recurring event .\n",
      "it was his performances of this role that made people call him <UNK> <UNK> king of <UNK> high cs <UNK> ( <UNK> *NOTE* c above middle c is a very high note for a tenor to sing ) .\n",
      "cloth can be made from natural fibres or man-made ones .\n",
      "examples include :\n",
      "but , even though a good emergency communication system must be easy to use , its technology should be very advanced and complex .\n",
      "but , he was unable to get to <UNK> mountain because his path was blocked by <UNK> lake .\n",
      "<UNK> is a *COMMUNE* .\n",
      "<UNK> square took its name from <UNK> newspaper .\n",
      "usually it is done for *HYGIENE* or for *RELIGIOUS* purposes , or for *FUN* .\n",
      "it was made in 1968 .\n",
      "<UNK> is known for its sandy beach and is popular with <UNK> and <UNK> .\n",
      "later , objects were found orbiting <UNK> <UNK> points of *NEPTUNE* , *MARS* , and *EARTH* .\n",
      "|-\n",
      "major lance was born in <UNK> , *MISSISSIPPI* .\n",
      "< br / >\n",
      "one example of alliteration is <UNK> sally sold sea shells by <UNK> sea shore <UNK> .\n",
      "<UNK> <UNK> 2 <UNK> |-||colspan= <UNK> 2 <UNK> <UNK>\n",
      "<UNK> <UNK> declaration was a letter from british <UNK> minister *ARTHUR* <UNK> to jewish leader walter rothschild , 2nd baron rothschild , dated *2* *NOVEMBER* *1917* .\n",
      "*JULIE* *ANDREWS* was <UNK> original eliza in <UNK> stage musical .\n",
      "* gh\n",
      "carson made his will on may 15 , 1868 at fort lyon , and named thomas <UNK> his administrator .\n",
      "<UNK> <UNK> <UNK> miranda ( born august 26 , 1971 ) , known as <UNK> , is a *MEXICAN* singer , songwriter and actress .\n",
      "<UNK> observatory is at above *SEA* *LEVEL* .\n",
      "previously he played for <UNK> <UNK> .\n",
      "its colours of club are <UNK> black and <UNK> white .\n",
      "william , duke of cambridge is his great grandson .\n",
      "<UNK>\n",
      "[ [ airlines of tasmania ] ] { { bull } }\n",
      "instead of taking <UNK> chance to run home belle helps him back to <UNK> castle .\n",
      "not listed above are [ [ hugh magnus of <UNK> magnus ] ] , eldest son of robert ii , and [ [ philip of france ( <UNK> ) <UNK> of france ] ] , eldest son of louis vi\n",
      "he was in <UNK> *ROBERT* <UNK> ' *MOVIE* , beowulf .\n",
      "he has also coached other top-level teams in *EUROPE* including teams from *ITALY* , *GREECE* , and *SPAIN* .\n",
      "ports that exported these slaves from africa include <UNK> , *LAGOS* , <UNK> ( little <UNK> ) , <UNK> , <UNK> , <UNK> , <UNK> , and <UNK> .\n",
      "he later became a u.s. citizen .\n",
      "he was then sent to *PHILLIPS* *EXETER* *ACADEMY* in *NEW* *HAMPSHIRE* from 1913 to 1914 .\n",
      "a *MOVIE* *ADAPTATION* of twilight came out in 2008 , and in 2009 .\n",
      "was a *JAPANESE* *POLITICIAN* .\n",
      "*ROBERT* *BURNS* *WOODWARD* , who received <UNK> 1965 *NOBEL* *PRIZE* *IN* *CHEMISTRY* for several total <UNK> ( for example , his 1954 synthesis of <UNK> ) , is regarded as <UNK> father of modern organic synthesis .\n",
      "he was also <UNK> <UNK> of <UNK> phoenix park .\n",
      "| 44 ||align= <UNK> left <UNK> | [ [ <UNK> ] ] < sup > 2 < /sup > || <UNK> || new || new\n",
      "<UNK>\n",
      "martin played a wealthy *BUSINESSMAN* who strikes up a romance with a <UNK> 5th avenue counter girl ( *CLAIRE* *DANES* ) .\n",
      "valentin 's company returns from <UNK> war to a military march ( <UNK> les <UNK> and <UNK> <UNK> de <UNK> <UNK> , <UNK> well-known <UNK> soldiers ' chorus <UNK> ) .\n",
      "port of belfast is <UNK> main port in *NORTHERN* *IRELAND* .\n",
      "however , <UNK> bass guitar produces lower tones than <UNK> electric guitar .\n",
      "<UNK> married a woman named <UNK> , whose parents are not known today .\n",
      "it is a popular album , and sold within <UNK> top ten most popular album in several countries when it was released .\n",
      "<UNK> feeding habits , *PHYSIOLOGY* and potential speed of tyrannosaurus rex are some topics .\n",
      "<UNK> is a *FINNISH* *POWER* *METAL* band that formed in 1983 .\n",
      "<UNK> *CAPITAL* of <UNK> county is <UNK> .\n",
      "fifteen minutes after *TAKEOFF* , <UNK> hijackers forced their way into <UNK> *COCKPIT* .\n",
      "prior to ie7 , clearing <UNK> cache used to clear <UNK> index but <UNK> files themselves were not reliably removed , posing a potential security and privacy risk .\n",
      "<UNK> album is a collection of covers .\n",
      "|-\n",
      "taylor then enters a sixth room which is a thin , blank corridor occupied by guitarist *MICK* *THOMSON* .\n",
      "|-\n",
      "a sound effect or audio effect is a sound used for *MOVIES* , [ programme|television ] , *APPS* , *MUSIC* , or other types of *MEDIA* .\n",
      "in 2001 there were <UNK> people living in <UNK> fell .\n",
      "airstrip one is only a small part of <UNK> mega state ( big country ) of oceania .\n",
      "it was released on 14 february 2005 in <UNK> uk .\n",
      "albert dean <UNK> ( born january 21 , 1910 in *TACOMA* *,* *WASHINGTON* ; died october 10 , 2011 in *SEATTLE* , washington ) was a *LAWYER* from <UNK> *U.S.* *STATE* of *WASHINGTON* .\n",
      "<UNK> here i am <UNK> is a song by canadian singer *BRYAN* *ADAMS* .\n",
      "|-\n",
      "few <UNK> people in four centuries have been given a *STATE* *FUNERAL* in <UNK> *UNITED* *KINGDOM* .\n",
      "<UNK>\n",
      "he actively manages areas of *WOODLAND* , moorland , *WATERWAY* or farmland for <UNK> benefit of game birds , *DEER* , *FISH* and wildlife in general .\n",
      "after four years out of <UNK> sport , *RENAULT* returned as an engine supplier .\n",
      "|-\n",
      "<UNK> fossil was published in nature on 15 august 1959 , but due to a strike of <UNK> printers <UNK> issue was not released until september .\n",
      "it was incorporated as a city in 1897 and <UNK> to <UNK> *UNITED* *STATES* *CENSUS* of 2010 , has a population of <UNK> .\n",
      "<UNK> name windows nt 6.0 ( formerly known as windows <UNK> ) can be one of <UNK> two versions of *MICROSOFT* *WINDOWS* :\n",
      "<UNK> our work resolved <UNK> long held debate on <UNK> genetic origin of antibody diversity .\n",
      "he wrote eight numbered symphonies since , a <UNK> <UNK> ( 1982 ) , as well as <UNK> series of ten *STRATHCLYDE* concertos for various instruments ( pieces he wrote when he worked with <UNK> scottish chamber orchestra ) .\n",
      "he was never married .\n",
      "some sharks are <UNK> , laying their eggs in <UNK> water .\n",
      "<UNK> is a *COMMUNE* .\n",
      "a basic story treatment was completed in 1995 and production began soon after .\n",
      "she also had a *VIRUS* .\n",
      "after elections , or when a government loses or wins a majority in <UNK> *AUSTRALIAN* *HOUSE* *OF* *REPRESENTATIVES* , <UNK> governor general is <UNK> person who legally decides that <UNK> prime minister has <UNK> numbers to lead a government .\n",
      "< ref > http : //www.omniglot.com/writing/vietnamese.htm < /ref >\n",
      "|-\n",
      "similarly , <UNK> discovered specimens of <UNK> *HOMO* <UNK> species have been classified by some as a subspecies , but this classification is not widely accepted .\n",
      "|2009||rowspan= <UNK> 2 <UNK> <UNK> <UNK> 2 <UNK> *|FOOTBALL* <UNK> <UNK> 2 <UNK> |-||colspan= <UNK> 2 <UNK> |-||24||1\n",
      "<UNK> university was started in 1974 .\n",
      "<UNK> band took a break before and after their third *ALBUM* <UNK> because *SINGER* *MAYNARD* *JAMES* *KEENAN* was working with his other band , *A* *PERFECT* *CIRCLE* , at <UNK> same time .\n",
      "<UNK> article was soon made into a book .\n",
      "|-\n",
      "it is <UNK> *CAPITAL* of *TANDO* <UNK> *DISTRICT* .\n",
      "they are also very popular now in europe and <UNK> united states .\n",
      "<UNK> has *SCHEDULED* ( planned ) and charter ( irregular ) flights .\n",
      "<UNK> town has been <UNK> point of several communist movements in <UNK> past .\n",
      "<UNK> most common ways of committing suicide are not <UNK> same in every country .\n",
      "it was signed in belfast on 10 april 1998 ( good friday ) by <UNK> british and irish governments and it was supported by most of <UNK> political parties in northern ireland .\n",
      "wwe smackdown !\n",
      "in <UNK> duccio was asked to go to florence to paint an altarpiece of <UNK> madonna and child for <UNK> church of santa maria novella which had been rebuilt for <UNK> <UNK> friars .\n",
      "is a *JAPANESE* football player .\n",
      "they often depict animals rather than humans .\n",
      "| colspan= <UNK> 1 <UNK> | <UNK> <UNK>\n",
      "he is signed to *WORLD* *WRESTLING* *ENTERTAINMENT* ( wwe ) .\n",
      "also , cocoa was given as a gift when <UNK> spanish royal family married other royalty .\n",
      "william succeeded his father as leader in <UNK> early in his reign he faced a rebellion from by other *NORMANS* who did not think he was fit to lead them .\n",
      "|-\n",
      "metropolis is a *FICTIONAL* *CITY* in *DC* *COMICS* .\n",
      "curtis is best known for her *ACRYLIC* *PAINTINGS* , but she is also still involved in traditional <UNK> work ( making grass *BASKETS* and *WOODEN* *CARVINGS* ) .\n",
      "<UNK>\n",
      "it is <UNK> birthplace of <UNK> 18th *PRESIDENT* *OF* <UNK> *UNITED* *STATES* *ULYSSES* *S.* *GRANT* .\n",
      "similar <UNK> crack dumplings are made with <UNK> , egg and milk .\n",
      "dale leon <UNK> ( august 12 , 1925 & ndash ; january 1 , 2016 ) was an *AMERICAN* *POLITICIAN* .\n",
      "<UNK> river was <UNK> to a height of at least 100 meters , forming a *LAKE* .\n",
      "<UNK> rescuers has had a lifetime gross of $ <UNK> million across its original release and several <UNK> .\n",
      "it is found in <UNK> *AUVERGNE-RHÔNE-ALPES* *REGION* in <UNK> *AIN* *DEPARTMENT* in <UNK> east of *FRANCE* .\n",
      "<UNK> ( <UNK> <UNK> % )\n",
      "however , they release their energy more quickly , thus are more *POWERFUL* .\n",
      "| < tt > <UNK> < /tt > || [ [ falkland <UNK> islands ( <UNK> ) ] ] < ! -- official country name used by <UNK> iso 3166/ma -- > < /tr >\n",
      "copper is sometimes just taken out of <UNK> ground and shaped into objects .\n",
      "<UNK>\n",
      "|-\n",
      "amor prohibido ( ) is <UNK> name of *SELENA* 's fifth studio album .\n",
      "<UNK> album is <UNK> partly recorded <UNK> on an ipad and was released in <UNK> form of a series of apps .\n",
      "all 42 crew members and two of their wives were killed during <UNK> sinking .\n",
      "this song was featured in <UNK> movie morning glory .\n",
      "economic criteria are usually seen as most important .\n",
      "she does this by taking drugs .\n",
      "it is now a national historic site .\n",
      "there are about <UNK> *MILLION* people who speak these *LANGUAGES* . <UNK> <UNK> languages are spoken by <UNK> austronesian people of <UNK> island nations of *SOUTHEAST* *ASIA* and <UNK> pacific ocean .\n",
      "he was an expert with <UNK> <UNK> circular picture at <UNK> bottom of a cup .\n",
      "[ [ bmibaby ] ] { { bull } }\n",
      "in canada :\n",
      "this lets anyone to program <UNK> calculator to do whatever he or she wants .\n",
      "he was a member of <UNK> united nations human rights committee .\n",
      "in 800 , *POPE* *LEO* *III* crowned *CHARLEMAGNE* as <UNK> *HOLY* *ROMAN* *EMPEROR* .\n",
      "|-\n",
      "|2009||4||0\n",
      "in 1928 geiger and his student walther müller created an improved version of <UNK> geiger tube , <UNK> <UNK> tube .\n",
      "gregorian chant was a big influence on *POLYPHONIC* music in <UNK> middle ages and *RENAISSANCE* .\n",
      "<UNK> transfer had been specified in <UNK> partition agreement , but <UNK> indian government had refused to complete it , complaining of continued pakistani rebel occupation of disputed parts of *KASHMIR* .\n",
      "in 2012 <UNK> hunger games was released .\n",
      "it sold three million copies in ten weeks and was <UNK> fastest selling video game of *2006* .\n",
      "it did not come easily , perhaps inspiring getty 's widely quoted <UNK> <UNK> <UNK> <UNK> shall inherit <UNK> earth , but not <UNK> mineral rights . <UNK>\n",
      "they want to act out their <UNK> , such as being tied up and kidnapped , or becoming <UNK> slave of another person .\n",
      "during that same year , *NETSCAPE* introduced <UNK> encryption of data transferred online , which has become essential for secure online shopping .\n",
      "<UNK> coolest month on average is january , with an average temperature of .\n",
      "sai <UNK> national park ( <UNK> ) , a park since 1980 , most of <UNK> area is limestone mountains with mixed deciduous forest .\n",
      "since *COLONIAL* times , <UNK> territory was part of <UNK> *AZUA* province until it was changed to <UNK> *BARAHONA* when barahona became a province in 1881 .\n",
      "a telenovela is a *SERIAL* *DRAMA* [ programme|television program ] .\n",
      "some of <UNK> most popular include “ sweet lorraine , ” “ nature boy , ” “ those <UNK> days of summer , ” “ when i fall in love , ” and “ mona <UNK> ” in 1950 ,\n",
      "jon fisher was born on january 19 , 1972 .\n",
      "|-\n",
      "its orbit seemed to be changing from an almost round outer solar system orbit to a stretched orbit taking it to <UNK> inner solar system .\n",
      "on *MAY* *14* , *2007* workers from <UNK> governmental forest and nature agency with help from <UNK> police , entered christiania to destroy <UNK> abandoned building of <UNK> ( 'the cigar box ' ) .\n",
      "on <UNK> very summit , there is a *STATUE* of <UNK> *MADONNA* facing south .\n",
      "! result\n",
      "upon <UNK> death of his father on 2 december 1723 , he became *DUKE* *OF* *ORLÉANS* .\n",
      "they have three children : twins matthew and andrew ( b .\n",
      "further carvings and art treasures are : <UNK> shrine of <UNK> apostles ( about 1500 ) , that is called <UNK> <UNK> ( nose altar ) in popular because of <UNK> expressive faces of <UNK> apostles .\n",
      "some of his songs were :\n",
      "however , <UNK> rules for election were different in gehrig 's day .\n",
      "it is now used in *TURKMENISTAN* , *UZBEKISTAN* , and *AZERBAIJAN* .\n",
      "during <UNK> , <UNK> levels go down .\n",
      "it is on an off-road circuit .\n",
      "pompey stepped in and made judea a *CLIENT* *STATE* .\n",
      "<UNK> has a very old *SYNAGOGUE* .\n",
      "county mayo is a *COUNTY* in <UNK> *PROVINCE* of <UNK> , in *IRELAND* .\n",
      "<UNK> car is now in its sixth generation .\n",
      "on may 26 , 2006 , <UNK> blackhawks signed <UNK> to a three-year contract .\n",
      "as <UNK> song ends , <UNK> camera pans back up to <UNK> street level where life is continuing on , completely <UNK> of what is going on below <UNK> streets .\n",
      "folk religion also retains traces of some of its ancestral *NEOLITHIC* belief systems which include <UNK> <UNK> of <UNK> *SUN* , *MOON* , *EARTH* , *HEAVEN* and various *STARS* , as well as communication with animals .\n",
      "it was originally designed for wind protection while <UNK> .\n",
      "she attacked <UNK> ships of nearby people .\n",
      "|-\n",
      "he died while going back to *HANOVER* from *ENGLAND* on 11 june 1727 .\n",
      "<UNK> state or ruler even made laws for certain aspects of feuds .\n",
      "they did not favor states ' rights for new states joining <UNK> union on <UNK> question of slavery .\n",
      "<UNK> scenes can require more digital storage space , weaken *SUSPENSION* *OF* <UNK> through contrast with real-time animation of normal gameplay , and limit interaction .\n",
      "it contains private law , criminal law , and law of <UNK> public institutions .\n",
      "as a noun , it must be spelled <UNK> descendant <UNK> .\n",
      "<UNK> has <UNK> lowest local taxation rate in finland ( <UNK> % ) .\n",
      "almost 100 % of <UNK> volcano fell in to <UNK> ocean leaving a small lake in <UNK> *VOLCANIC* *CRATER* .\n",
      "she is <UNK> daughter of singer *PAT* *BOONE* .\n",
      "<UNK> film initially did not have any sort of christmas theme , although curtis 's <UNK> for such movies eventually caused him to write it as one .\n",
      "in a general sense , painters such *EL* *GRECO* could be called expressionist ; in practice , <UNK> term is applied only to 20th century works .\n",
      "they had 9,000 5 in ( <UNK> ) *ROUNDS* , 12,000 rounds , and <UNK> rounds .\n",
      "as part of <UNK> *COMPROMISE* *OF* *1850* , *CALIFORNIA* was admitted as a free state ( 1850 ) , without a slave state pair .\n",
      "<UNK>\n",
      "he is known for his energetic stage personality and his <UNK> , high-pitched voice .\n",
      "<UNK> is a city in *LAKE* *COUNTY* , *OHIO* , *UNITED* *STATES* .\n",
      "<UNK>\n",
      "|-\n",
      "they allow animals with a keen sense of smell to identify individuals .\n",
      "it is most notable for exposing <UNK> watergate scandal , among other achievements .\n",
      "just before midnight is @ 999 .\n",
      "<UNK> wood <UNK> was replaced by steel and reinforced concrete .\n",
      "<UNK>\n",
      "in this case , three different men who had been sentenced to death argued that georgia was giving them a cruel and unusual punishment .\n",
      "| total\n",
      "a <UNK> , or <UNK> , is a raised bank of a river .\n",
      "<UNK>\n",
      "states may not , without <UNK> consent of congress , tax imports or exports except for <UNK> <UNK> of state inspection laws ( which may be revised by congress ) .\n",
      "[ [ westjet ] ] { { bull } }\n",
      "muzzle velocity is between <UNK> and <UNK> following variants .\n",
      "pegasus airlines flies to 100 destinations in 17 countries .\n",
      "<UNK> local council meet in this town .\n",
      "in early 1990 he joined *CROWDED* *HOUSE* , <UNK> group neil had formed after split <UNK> split up .\n",
      "| [ [ file : <UNK> ] ]\n",
      "a doctor would decide what mixture of chemicals would be needed for each patient .\n",
      "here is <UNK> opening of <UNK> creation story :\n",
      "this is in <UNK> north of *FRANCE* .\n",
      "kylie jenner is famous for creating her own cosmetics line called kylie cosmetics .\n",
      "|-\n",
      "after <UNK> reorganisation of <UNK> cantons in france , cantons are not subdivisions of <UNK> arrondissements so they could have communes that belong to different arrondissements .\n",
      "they include <UNK> jan j. <UNK> award and <UNK> henry <UNK> prize .\n",
      "<UNK>\n",
      "more telling , <UNK> <UNK> green <UNK> in <UNK> national gallery painting by <UNK> placement of <UNK> top of <UNK> bridge 's arch just below <UNK> painting 's top <UNK> back to <UNK> <UNK> <UNK> ( closed garden ) of\n",
      "is a *JAPANESE* professional *ATHLETE* .\n",
      "he sold millions of copies worldwide of this quest game , mainly in *FRANCE* .\n",
      "<UNK>\n",
      "<UNK> <UNK> <UNK> peaked at number 27 on <UNK> *HOT* *LATIN* *TRACKS* and number 21 on <UNK> regional mexican airplay chart .\n",
      "|-\n",
      "numerous different ways of playing <UNK> game can be used , such as using stealth and <UNK> .\n",
      "at first sisley and his friends had few chances to show or sell their work .\n",
      "| <UNK>\n",
      "it was supported by <UNK> singles <UNK> i never knew you <UNK> and <UNK> i found my mind in connecticut <UNK> .\n",
      "<UNK>\n",
      "<UNK> 's popularity with *CHILDREN* prompted an educational *ANIMATED* *SERIES* of <UNK> same name on *PBS* *KIDS* .\n",
      "for example , in most places that use <UNK> *COMMON* *LAW* , a person has no legal duty to rescue another person from harm , even if <UNK> rescue is very easy and does not cost anything or put anyone\n",
      "baldwin was born on february 11 , 1962 in *MADISON* , *WISCONSIN* .\n",
      "parsley is a fresh *FLAVORED* bright *GREEN* *HERB* .\n",
      "<UNK> <UNK> river and duck creek flow into <UNK> *OHIO* *RIVER* at <UNK> .\n",
      "<UNK> teatro colón ( spanish ) ( columbus theatre ) in *BUENOS* *AIRES* , *ARGENTINA* , is one of <UNK> world 's best known *OPERA* *HOUSES* .\n",
      "but <UNK> <UNK> cost more money than <UNK> video game consoles that were already popular .\n",
      "<UNK> often pretended to be stupid , but were actually very clever .\n",
      "it is a desire to avoid , restrict , remove , or destroy that person or thing .\n",
      "| }\n",
      "|100 m t12\n",
      "<UNK> <UNK> ( born *18* *MARCH* *1984* ) is a *JAPANESE* football player .\n",
      "<UNK> others include judaism ( 1.7 % ) , islam ( 0.8 % ) , *BUDDHISM* ( 0.7 % ) , hinduism ( 0.4 % ) , and unitarian <UNK> ( 0.3 % ) .\n",
      "<UNK> lithuanian archive was moved to *SAINT* *PETERSBURG* ( where it remains ) .\n",
      "racing was interrupted in <UNK> by *WORLD* *WAR* *I* .\n",
      "|rowspan= <UNK> 2 <UNK> | <UNK> naughty girl <UNK> <UNK> performed song || { { won } }\n",
      "both houses is must agree to new laws but <UNK> senate very rarely rejects bills passed by <UNK> commons ( though <UNK> senate does occasionally <UNK> bills ) .\n",
      "<UNK> tribe takes <UNK> hostage , believing he is <UNK> <UNK> silver cat that will save <UNK> tribe . <UNK>\n",
      "edward teller ( january 15 , 1908 – september 9 , 2003 ) was an *AMERICAN* *THEORETICAL* *PHYSICIST* .\n",
      "<UNK> series was first *PUBLISHED* in 2003 by image comics .\n",
      "it is <UNK> oldest permanent settlement in <UNK> *LOUISIANA* *PURCHASE* .\n",
      "<UNK> wind has *KINETIC* *ENERGY* ( movement energy ) which is changed into mechanical energy by <UNK> blades on <UNK> turbine .\n",
      "<UNK> is a *COMMUNE* .\n",
      "between 1963 and 1972 she won 15 national titles and set 27 national records .\n",
      "<UNK> might mean :\n",
      "a *BABY* rabbit is called a kit , which is short for kitten .\n",
      "in <UNK> 1960s , *WILLIAM* <UNK> was a pioneer in using nmr to study chemical structures .\n",
      "<UNK>\n",
      "it was founded in 2009 by american rapper <UNK> and damien <UNK> dame <UNK> ritter .\n",
      "| colspan= <UNK> 4 <UNK> align= <UNK> center <UNK> |did not advance\n",
      "in his last years he was pursued by <UNK> princess catherine <UNK> , a polish <UNK> .\n",
      "a pistol may use heavier springs that younger and elderly shooters may find difficult to use .\n",
      "*BIOLOGISTS* call a fertilized egg a *ZYGOTE* .\n",
      "he was born in <UNK> , england .\n",
      "|5 september 1986\n",
      "<UNK> avatar possesses a unique power called <UNK> avatar state , which <UNK> <UNK> avatar with <UNK> knowledge and abilities of all past lives and acts as a <UNK> defense mechanism , although it can be made subject to <UNK>\n",
      "outside of algeria , <UNK> gia established a presence in france , belgium , britain , italy and <UNK> united states .\n",
      "it is in northern queensland , and is named after sir *ROBERT* *HERBERT* , <UNK> first *PREMIER* *OF* *QUEENSLAND* ( <UNK> ) .\n",
      "by <UNK> he had regained control over somerset .\n",
      "a <UNK> *STROKE* disabled his right arm two years later .\n",
      "|event =\n",
      "she died in <UNK> *WIMBLEDON* area of *LONDON* , aged 38 .\n",
      "they were <UNK> first goals he scored at home since march 2013 .\n",
      "once a pokémon has reached a certain happiness level , it will evolve after it is <UNK> once , sometimes depending on <UNK> time of day :\n",
      "hatfield took a long look at jumbo , then left <UNK> ship with <UNK> sense that jumbo was indeed a gentle animal .\n",
      "in 2015 , there is still no treatment for <UNK> disease itself .\n",
      "ernest scott garrett ( born july 9 , 1959 ) is an american politician and banker .\n",
      "<UNK> quad city international airport ( code : <UNK> ) is public *AIRPORT* in <UNK> *,* *ILLINOIS* ; it provides service in <UNK> *QUAD* *CITIES* of southeastern *IOWA* and western *ILLINOIS* .\n",
      "at <UNK> top of <UNK> *SINN* *FÉIN* joined gerry adams , <UNK> party clearly to <UNK> left .\n",
      "only <UNK> instrumental version of <UNK> song appeared on <UNK> movie 's official *SOUNDTRACK* album .\n",
      "soon he was singing in : <UNK> vienna state opera .\n",
      "during <UNK> night , she *PRAYED* to god .\n",
      "iranian authorities said <UNK> and <UNK> could be *TEMPORARILY* out of prison on *BAIL* if they got property *BONDS* worth 7 and 10 billion <UNK> ( us $ 300,000 ) for <UNK> <UNK> and 5 billion <UNK> ( us $\n",
      "<UNK> spots are feet , <UNK> and sides of stomach .\n",
      "as a result , <UNK> legislation was dropped .\n",
      "[ [ air canada jetz ] ] { { bull } }\n",
      "<UNK> <UNK> works show a stronger *INFLUENCE* of <UNK> <UNK> tradition than <UNK> swords .\n",
      "this business has become very successful making specialty cheese and now employs more than 200 people .\n",
      "people are nude at one end of a public nude beach called crystal crescent beach near *HALIFAX* , *NOVA* *SCOTIA* , *CANADA* .\n",
      "peter van <UNK> ( 25 march 1935 & ndash ; 8 december 2016 ) was a *DUTCH* *CARTOONIST* and comics artist .\n",
      "it differs from a *UNITARY* *STATE* in that in a federal republic , <UNK> authorities of <UNK> state governments can not be taken back by <UNK> central government .\n",
      "|-\n",
      "more fuel tanks were added to allow it to fly further .\n",
      "each production had a different work , often with well known british stage actors in <UNK> leading roles .\n",
      "|-\n",
      "they are also seen as free *PUBLIC* *GOODS* . this means that if there are no rules on how to use these goods , they will be used too much .\n",
      "police got almost 7 out of every 10 of these false confessions from children ages 15 and under .\n",
      "<UNK> list includes only *NATURAL* lakes .\n",
      "<UNK> trophy is named in honor of frank calder , <UNK> former president of <UNK> *NATIONAL* *HOCKEY* *LEAGUE* from its inception in *1917* to his death in *1943* .\n",
      "he believed that many of <UNK> ballets of his time used <UNK> and mime which did not reflect <UNK> themes of <UNK> ballets .\n",
      "a major hurricane moving through <UNK> *GULF* *OF* *MEXICO* hit <UNK> *RIO* *GRANDE* valley on august 4 .\n",
      "<UNK> retina is at <UNK> back of <UNK> inside of <UNK> eye .\n",
      "a <UNK> is a modified arm used to by male *CEPHALOPODS* to put *SPERM* on females .\n",
      "[ [ jetstar asia airways ] ] { { bull } }\n",
      "it created a catch phrase ( <UNK> album 's title ) .\n",
      "<UNK>\n",
      "in introduction to arithmetic , <UNK> writes extensively on *NUMBER* , especially on <UNK> significance of *PRIME* *NUMBERS* and perfect numbers and argues that *ARITHMETIC* is <UNK> starting point that makes it possible to do <UNK> other mathematical sciences :\n",
      "|-\n",
      "<UNK> title was changed to simply wwe in 2011 with <UNK> release of *WWE* <UNK> .\n",
      "some *20TH* *CENTURY* composers have also used <UNK> .\n",
      "that , in all of them , bourgeoisie and proletariat have become <UNK> decisive classes , and <UNK> struggle\n",
      "<UNK> chancellor can not be removed from office during a <UNK> term unless <UNK> bundestag has agreed on a successor .\n",
      "driving back from a trip to town , they crash <UNK> car and are killed .\n",
      "<UNK> <UNK> is different from other schools , because was created to try to create new ways of *TEACHING* .\n",
      "in 1974 , *WALES* was <UNK> for local government purposes into <UNK> districts .\n",
      "they won <UNK> 24 hours of le mans and <UNK> world <UNK> championship in 1989 and 1990 , competing against *JAGUAR* and *PORSCHE* .\n",
      "<UNK>\n",
      "joão carlos batista <UNK> ( born 13 january , 1932 ) is a former *BRAZILIAN* football player .\n",
      "<UNK>\n",
      "despite this , many of <UNK> best-known types of co-evolution have lasted for many millions of years , even though <UNK> species themselves have constantly changed .\n",
      "<UNK>\n",
      "|-\n",
      "it must be *THREE-DIMENSIONAL* ( meaning it must have height , width , and depth like a *CUBE* ) .\n",
      "they are in <UNK> far northwest of *SOUTH* *AUSTRALIA* , with a small section running over <UNK> border into <UNK> *NORTHERN* *TERRITORY* .\n",
      "he was <UNK> mayor of <UNK> in <UNK> 11th , 12th , 13th , and 16th national consultative assembly .\n",
      "thai boxing has influenced a lot on developing of *KICKBOXING* which afterwards has been created in *JAPAN* , in *EUROPE* , and in *NORTH* *AMERICA* and some parts of *AFRICA*\n",
      "a <UNK> of uday 's and a bodyguard both said saddam wrote something like <UNK> do n't be like your [ mother 's father ] , with no morals or principles . <UNK>\n",
      "<UNK> <UNK> was used to replace *STEAM* *LOCOMOTIVES* on *BRANCH* *LINES* . they were used until <UNK> 1990s .\n",
      "<UNK> <UNK>\n",
      "if it uses a fuel cell that generates electricity through reaction between hydrogen and oxygen , it does not matter .\n",
      "when it was published in 1977 , it was one of <UNK> first of its kind .\n",
      "<UNK> league went back to <UNK> indy racing league name for <UNK> 2002 season .\n",
      "samuel <UNK> , born 22 may 1706 in <UNK> <UNK> , *SWEDEN* , dead 18 january 1764 in *UPPSALA* , sweden was a swedish lutheran clergyman .\n",
      "<UNK>\n",
      "|2008||rowspan= <UNK> 2 <UNK> *|URAWA* *RED* *DIAMONDS||ROWSPAN=* <UNK> 2 <UNK> *|J* *.* *LEAGUE* <UNK>\n",
      "|-\n",
      "in late 2013 , she performed in a fund raising event organized by star india .\n",
      "white people did not have to do these things .\n",
      "|-\n",
      "|2007||rowspan= <UNK> 6 <UNK> *|KYOTO* *SANGA||J* *.* *LEAGUE* <UNK> <UNK> 2 <UNK> |-||6||0\n",
      "<UNK> following year , jordan was <UNK> *OPENING* *ACT* for *SMOKEY* *ROBINSON* at a *STEVIE* *WONDER* tribute concert .\n",
      "sir thomas john woodward , *OBE* ( born 7 june 1940 ) , known by his stage name tom jones , is a *WELSH* *SINGER* .\n",
      "<UNK> sa played a key role in adolf hitler 's rise to power in <UNK> *1930S* .\n",
      "|-\n"
     ]
    }
   ],
   "source": [
    "for page_ids, para_ids, sent_ids, seqs, seq_len, pos, targs in zip(input_page_ids, input_para_ids, input_sentence_ids, input_sequences, input_lengths, input_positions, target_sequences):\n",
    "    strs = []\n",
    "    for word_id, targ_id in zip(seqs[:seq_len], targs):\n",
    "        if targ_id:\n",
    "            strs.append('*' + id_to_word_30k[word_id].upper() + '*')\n",
    "        else:\n",
    "            strs.append(id_to_word_30k[word_id])\n",
    "    print(' '.join(strs))"
   ]
  },
  {
   "cell_type": "code",
   "execution_count": null,
   "metadata": {},
   "outputs": [],
   "source": []
  }
 ],
 "metadata": {
  "kernelspec": {
   "display_name": "Python 3",
   "language": "python",
   "name": "python3"
  },
  "language_info": {
   "codemirror_mode": {
    "name": "ipython",
    "version": 3
   },
   "file_extension": ".py",
   "mimetype": "text/x-python",
   "name": "python",
   "nbconvert_exporter": "python",
   "pygments_lexer": "ipython3",
   "version": "3.5.4"
  }
 },
 "nbformat": 4,
 "nbformat_minor": 2
}
