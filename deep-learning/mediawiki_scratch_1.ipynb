{
 "cells": [
  {
   "cell_type": "code",
   "execution_count": 119,
   "metadata": {
    "collapsed": true
   },
   "outputs": [],
   "source": [
    "from lxml import etree\n",
    "import lxml.html\n",
    "import wikitextparser as wtp\n",
    "import nltk\n",
    "import re"
   ]
  },
  {
   "cell_type": "code",
   "execution_count": 6,
   "metadata": {
    "collapsed": true
   },
   "outputs": [],
   "source": [
    "tree = etree.parse('C:\\\\Users\\\\achang\\\\Downloads\\\\simplewiki-20171103-pages-meta-current.xml')"
   ]
  },
  {
   "cell_type": "code",
   "execution_count": 7,
   "metadata": {
    "collapsed": true
   },
   "outputs": [],
   "source": [
    "namespaces = {\n",
    "    'mediawiki': 'http://www.mediawiki.org/xml/export-0.10/'\n",
    "}"
   ]
  },
  {
   "cell_type": "code",
   "execution_count": 398,
   "metadata": {
    "collapsed": true
   },
   "outputs": [],
   "source": [
    "index = 419\n",
    "title = tree.xpath(f'mediawiki:page[{index}]/mediawiki:title', namespaces = namespaces)[0].text\n",
    "text = tree.xpath(f'mediawiki:page[{index}]/mediawiki:revision/mediawiki:text', namespaces = namespaces)[0].text"
   ]
  },
  {
   "cell_type": "code",
   "execution_count": 399,
   "metadata": {
    "scrolled": true
   },
   "outputs": [
    {
     "name": "stdout",
     "output_type": "stream",
     "text": [
      "Niihau\n"
     ]
    }
   ],
   "source": [
    "print(title)"
   ]
  },
  {
   "cell_type": "code",
   "execution_count": 400,
   "metadata": {},
   "outputs": [
    {
     "name": "stdout",
     "output_type": "stream",
     "text": [
      "'''Niihau''' (or '''Niʻihau''') is the smallest of the [[inhabited]] [[island]]s of [[Hawaii]], in the [[United States]]. It has a land area of 70 sq. miles (184 km<sup>2</sup>). It is the oldest of the eight main [[Hawaiian Islands|islands]].\n",
      "\n",
      "The whole island is owned by the [[Robinson]] family. They bought it from the [[Kingdom of Hawaii]] for $10,000. It was said that the buyer, [[Elizabeth Sinclair]] (later Sinclair-Robinson), liked the island better than other places such as [[Waikiki]], [[Pearl Harbor]], and the island of [[Lanai]]. There is a small [[United States Navy|US Navy]] [[Military base|base]] where a [[handful]] of Navy people work.\n",
      "\n",
      "The island has a few hundred [[wikt:permanent|permanent]] [[inhabitant]]s. Almost all of them are [[Indigenous peoples|native]] [[Native Hawaiians|Hawaiians]]. They [[support]] themselves largely with small family farms. Many work for the [[ranch]] owned by the Robinsons. The native Hawaiians lead a [[rural]], [[low-tech]] life. They speak the Hawaiian language and keep [[tradition]]s alive. This is because Ms. Sinclair promised to help [[preserve]] [[Hawaiian culture]] and tradition when she bought the island. Niihau is the only one of the Hawaiian islands where the [[Hawaiian language]] is the main language.\n",
      "\n",
      "Niihau is also known as the \"Forbidden Island\". This is due to the fact that until recently, the island was off-limits to all but family members, US Navy personnel, [[government]] [[official]]s and expressly invited [[wikt:guest|guest]]s. Now, [[tourist]]s can go on one of a limited number of [[supervise]]d [[tour]]s or [[hunting]] [[safaris]].\n",
      "\n",
      "On the beaches of the island are found [[Animal shell|shells]] which are the only shells to be classified as [[gems]]. Niihau shells and the [[jewelry]] made from them are very popular. Many, especially those with darker and richer color, are [[collector]]s items. The [[sale]] of shells and shell jewelry brings extra [[money]] for the local people.\n",
      "\n",
      "[[Category:Islands of Hawaii]]\n"
     ]
    }
   ],
   "source": [
    "print(text)"
   ]
  },
  {
   "cell_type": "code",
   "execution_count": 381,
   "metadata": {},
   "outputs": [],
   "source": [
    "def parse(raw_text):\n",
    "    keep_tags = {'i','p','u','b','tt'}\n",
    "    wiki_text = wtp.parse(raw_text)\n",
    "    links = []\n",
    "    strs = []\n",
    "    offset = 0\n",
    "    \n",
    "    for l in wiki_text.wikilinks:\n",
    "        span = l.span\n",
    "        discard = l.target.startswith('File:') or l.target.startswith('Category:') or l.target.startswith('Image:')\n",
    "        target = l.target if not discard and not l.target.startswith('wikt') else None\n",
    "        text = l.text or l.target\n",
    "        links.append((span, discard, target, text))\n",
    "        \n",
    "    for l in wiki_text.external_links:\n",
    "        span = l.span\n",
    "        discard = False\n",
    "        target = None\n",
    "        text = l.text or l.url\n",
    "        links.append((span, discard, target, text))\n",
    "        \n",
    "    for t in wiki_text.templates:\n",
    "        span = t.span\n",
    "        discard = True\n",
    "        target = None\n",
    "        text = None\n",
    "        links.append((span, discard, target, text))\n",
    "    \n",
    "    for t in wiki_text.tags():\n",
    "        span = t.span\n",
    "        target = None\n",
    "        try:\n",
    "            discard = t.name not in keep_tags\n",
    "            text = t.contents\n",
    "        except TypeError:\n",
    "            discard = True\n",
    "            text = None\n",
    "        links.append((span, discard, target, text))\n",
    "    \n",
    "    for t in wiki_text.tables:\n",
    "        span = t.span\n",
    "        discard = True\n",
    "        target = None\n",
    "        text = None\n",
    "        links.append((span, discard, target, text))\n",
    "    \n",
    "    for l in wiki_text.lists():\n",
    "        span = l.span\n",
    "        discard = True\n",
    "        target = None\n",
    "        text = None\n",
    "        links.append((span, discard, target, text))\n",
    "        \n",
    "    links.sort()\n",
    "    \n",
    "    for (span, discard, target, text) in links:\n",
    "        if span[0] < offset:\n",
    "            continue\n",
    "        strs.append(wiki_text.string[offset:span[0]])\n",
    "        if not discard:\n",
    "            if target:\n",
    "                strs.append(f'_{text}_')\n",
    "            else:\n",
    "                strs.append(text)\n",
    "        offset = span[1]\n",
    "    \n",
    "    strs.append(wiki_text.string[offset:])\n",
    "    \n",
    "    text = ''.join(strs)\n",
    "    \n",
    "    text = re.sub(r\"''+\", '', text)\n",
    "    text = re.sub(r\"==+[^=\\n]+==+\", '', text)\n",
    "    text = re.sub('&nbsp;', ' ', text)\n",
    "    \n",
    "    return text"
   ]
  },
  {
   "cell_type": "code",
   "execution_count": 401,
   "metadata": {},
   "outputs": [
    {
     "name": "stdout",
     "output_type": "stream",
     "text": [
      "Niihau (or Niʻihau) is the smallest of the _inhabited_ _island_s of _Hawaii_, in the _United States_. It has a land area of 70 sq. miles (184 km). It is the oldest of the eight main _islands_.\n",
      "\n",
      "The whole island is owned by the _Robinson_ family. They bought it from the _Kingdom of Hawaii_ for $10,000. It was said that the buyer, _Elizabeth Sinclair_ (later Sinclair-Robinson), liked the island better than other places such as _Waikiki_, _Pearl Harbor_, and the island of _Lanai_. There is a small _US Navy_ _base_ where a _handful_ of Navy people work.\n",
      "\n",
      "The island has a few hundred permanent _inhabitant_s. Almost all of them are _native_ _Hawaiians_. They _support_ themselves largely with small family farms. Many work for the _ranch_ owned by the Robinsons. The native Hawaiians lead a _rural_, _low-tech_ life. They speak the Hawaiian language and keep _tradition_s alive. This is because Ms. Sinclair promised to help _preserve_ _Hawaiian culture_ and tradition when she bought the island. Niihau is the only one of the Hawaiian islands where the _Hawaiian language_ is the main language.\n",
      "\n",
      "Niihau is also known as the \"Forbidden Island\". This is due to the fact that until recently, the island was off-limits to all but family members, US Navy personnel, _government_ _official_s and expressly invited guests. Now, _tourist_s can go on one of a limited number of _supervise_d _tour_s or _hunting_ _safaris_.\n",
      "\n",
      "On the beaches of the island are found _shells_ which are the only shells to be classified as _gems_. Niihau shells and the _jewelry_ made from them are very popular. Many, especially those with darker and richer color, are _collector_s items. The _sale_ of shells and shell jewelry brings extra _money_ for the local people.\n",
      "\n",
      "\n"
     ]
    }
   ],
   "source": [
    "print(parse(text))"
   ]
  },
  {
   "cell_type": "code",
   "execution_count": 333,
   "metadata": {
    "scrolled": true
   },
   "outputs": [],
   "source": [
    "wiki_text = wtp.parse(text)"
   ]
  },
  {
   "cell_type": "code",
   "execution_count": 336,
   "metadata": {},
   "outputs": [
    {
     "data": {
      "text/plain": [
       "'<ref>{{cite book| last= Chandra| first= Sulekh| title= Comprehensive Inorganic Chemistry| date= 2005| publisher= New Age Publishers| isbn= 81-224-1512-1}}</ref>'"
      ]
     },
     "execution_count": 336,
     "metadata": {},
     "output_type": "execute_result"
    }
   ],
   "source": [
    "wiki_text.tags()[0].string"
   ]
  },
  {
   "cell_type": "code",
   "execution_count": 135,
   "metadata": {},
   "outputs": [],
   "source": [
    "for bad in text2.xpath(\"//ref\"):\n",
    "  bad.getparent().remove(bad)"
   ]
  },
  {
   "cell_type": "code",
   "execution_count": 139,
   "metadata": {},
   "outputs": [
    {
     "data": {
      "text/plain": [
       "'Cosmology is the branch of _astronomy_ that deals with the origin, structure, evolution and space-time relationships of the _universe_.http://www.merriam-webster.com/dictionary/cosmology NASA defines cosmology as \"The study of the structure and changes in the present universe\".[http://genesismission.jpl.nasa.gov/educate/scimodule/Cosmogony/CosmogonyPDF/CosCosmolTT.pdf NASA education] Another definition of cosmology is \"the study of the universe, and humanity\\'s place in it\".\\n\\nModern cosmology is dominated by the _Big Bang_ theory, which brings together observational astronomy and _particle physics_.http://oxforddictionaries.com/definition/cosmology \\n\\nThough the word cosmology is recent (first used in 1730 in _Christian Wolff_\\'s Cosmologia Generalis), the study of the universe has a long history.\\n\\nHistory.\\nUntil recently, people thought that the _universe_ was the _Milky Way_. They thought this because they could only see the planets up to _Saturn_ and _star_s. With the invention of the [[telescope]], our universe got bigger. Even in the 20th century, people thought that the Milky Way was the universe. With the _Hubble Space Telescope_, people could see things far away.\\n\\nRelated pages.\\n*_String theory_\\n*_Dark matter_\\n\\nReferences.\\n\\n\\n\\n\\n\\n\\n'"
      ]
     },
     "execution_count": 139,
     "metadata": {},
     "output_type": "execute_result"
    }
   ],
   "source": [
    "text2.text_content()"
   ]
  },
  {
   "cell_type": "code",
   "execution_count": 378,
   "metadata": {},
   "outputs": [
    {
     "data": {
      "text/plain": [
       "{1, 2, 3}"
      ]
     },
     "execution_count": 378,
     "metadata": {},
     "output_type": "execute_result"
    }
   ],
   "source": [
    "set([1,2,3])"
   ]
  },
  {
   "cell_type": "code",
   "execution_count": null,
   "metadata": {
    "collapsed": true
   },
   "outputs": [],
   "source": []
  }
 ],
 "metadata": {
  "kernelspec": {
   "display_name": "Python 3",
   "language": "python",
   "name": "python3"
  },
  "language_info": {
   "codemirror_mode": {
    "name": "ipython",
    "version": 3
   },
   "file_extension": ".py",
   "mimetype": "text/x-python",
   "name": "python",
   "nbconvert_exporter": "python",
   "pygments_lexer": "ipython3",
   "version": "3.6.3"
  }
 },
 "nbformat": 4,
 "nbformat_minor": 2
}
