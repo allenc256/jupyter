{
 "cells": [
  {
   "cell_type": "code",
   "execution_count": 119,
   "metadata": {
    "collapsed": true
   },
   "outputs": [],
   "source": [
    "from lxml import etree\n",
    "import lxml.html\n",
    "import wikitextparser as wtp\n",
    "import nltk\n",
    "import re"
   ]
  },
  {
   "cell_type": "code",
   "execution_count": 6,
   "metadata": {
    "collapsed": true
   },
   "outputs": [],
   "source": [
    "tree = etree.parse('C:\\\\Users\\\\achang\\\\Downloads\\\\simplewiki-20171103-pages-meta-current.xml')"
   ]
  },
  {
   "cell_type": "code",
   "execution_count": 7,
   "metadata": {
    "collapsed": true
   },
   "outputs": [],
   "source": [
    "namespaces = {\n",
    "    'mediawiki': 'http://www.mediawiki.org/xml/export-0.10/'\n",
    "}"
   ]
  },
  {
   "cell_type": "code",
   "execution_count": 591,
   "metadata": {},
   "outputs": [
    {
     "data": {
      "text/plain": [
       "('Phoebe (moon)', '0', [])"
      ]
     },
     "execution_count": 591,
     "metadata": {},
     "output_type": "execute_result"
    }
   ],
   "source": [
    "index = 2502\n",
    "page = tree.xpath(f'mediawiki:page[{index}]', namespaces = namespaces)[0]\n",
    "redirect = tree.xpath(f'mediawiki:page[{index}]/mediawiki:redirect', namespaces = namespaces)\n",
    "ns = tree.xpath(f'mediawiki:page[{index}]/mediawiki:ns', namespaces = namespaces)\n",
    "title = tree.xpath(f'mediawiki:page[{index}]/mediawiki:title', namespaces = namespaces)[0].text\n",
    "text = tree.xpath(f'mediawiki:page[{index}]/mediawiki:revision/mediawiki:text', namespaces = namespaces)[0].text\n",
    "title, ns[0].text, redirect"
   ]
  },
  {
   "cell_type": "code",
   "execution_count": 592,
   "metadata": {},
   "outputs": [
    {
     "name": "stdout",
     "output_type": "stream",
     "text": [
      "[[File:Phoebe cassini.jpg|thumb|A picture of the surface of Phoebe]] \n",
      "\n",
      "'''Phoebe''' is a [[Satellite (natural)|moon]] which goes around ([[orbit]]s) the [[planet]] called [[Saturn (planet)|Saturn]]. It takes eighteen months for Phoebe to go all the way around Saturn. It is half made out of [[mineral|rock]], and half made out of [[ice]]. The ground on Phoebe is black, which means that it is very dark when seen from [[Earth]]. Phoebe does not have any [[air]], and there is no [[water]] on its [[surface]].\n",
      "\n",
      "There are many [[crater]]s on Phoebe. These are from [[asteroids]] and other things crashing into it, and leaving round marks on the surface.\n",
      "\n",
      "Phoebe is slightly irregular, which means that it is not perfectly round like a ball. It has an average [[diameter]] of 213&nbsp;km. This means that the Earth's moon is 15 times bigger than Phoebe. The duration between two sunrises (rotation period) is only 9 hours and 16.5 minutes long. \n",
      "\n",
      "\n",
      "{{Moons of Saturn}}\n",
      "\n",
      "[[Category:Saturn's moons]]\n"
     ]
    }
   ],
   "source": [
    "print(text)"
   ]
  },
  {
   "cell_type": "code",
   "execution_count": 566,
   "metadata": {},
   "outputs": [],
   "source": [
    "def parse(raw_text):\n",
    "    keep_tags = {'i','p','u','b','tt'}\n",
    "    wiki_text = wtp.parse(raw_text)\n",
    "    links = []\n",
    "    strs = []\n",
    "    offset = 0\n",
    "    \n",
    "    for l in wiki_text.wikilinks:\n",
    "        span = l.span\n",
    "        discard = re.match(r'^[^:]+:', l.target) and not l.target.startswith('wikt:')\n",
    "        target = l.target if not discard and not l.target.startswith('wikt:') else None\n",
    "        text = l.text or l.target\n",
    "        links.append((span, discard, target, text))\n",
    "        \n",
    "    for l in wiki_text.external_links:\n",
    "        span = l.span\n",
    "        discard = False\n",
    "        target = None\n",
    "        text = l.text or l.url\n",
    "        links.append((span, discard, target, text))\n",
    "        \n",
    "    for t in wiki_text.templates:\n",
    "        span = t.span\n",
    "        discard = True\n",
    "        target = None\n",
    "        text = None\n",
    "        links.append((span, discard, target, text))\n",
    "    \n",
    "    for t in wiki_text.tags():\n",
    "        span = t.span\n",
    "        target = None\n",
    "        try:\n",
    "            discard = t.name not in keep_tags\n",
    "            text = t.contents\n",
    "        except TypeError:\n",
    "            discard = True\n",
    "            text = None\n",
    "        links.append((span, discard, target, text))\n",
    "    \n",
    "    for t in wiki_text.tables:\n",
    "        span = t.span\n",
    "        discard = True\n",
    "        target = None\n",
    "        text = None\n",
    "        links.append((span, discard, target, text))\n",
    "    \n",
    "    for l in wiki_text.lists():\n",
    "        span = l.span\n",
    "        discard = True\n",
    "        target = None\n",
    "        text = None\n",
    "        links.append((span, discard, target, text))\n",
    "        \n",
    "    for pf in wiki_text.parser_functions:\n",
    "        span = pf.span\n",
    "        discard = True\n",
    "        target = None\n",
    "        text = None\n",
    "        links.append((span, discard, target, text))\n",
    "        \n",
    "    for c in wiki_text.comments:\n",
    "        span = c.span\n",
    "        discard = True\n",
    "        target = None\n",
    "        text = None\n",
    "        links.append((span, discard, target, text))\n",
    "        \n",
    "    links.sort()\n",
    "    \n",
    "    for (span, discard, target, text) in links:\n",
    "        if span[0] < offset:\n",
    "            continue\n",
    "        strs.append(wiki_text.string[offset:span[0]])\n",
    "        if not discard:\n",
    "            if target:\n",
    "                strs.append(f'_{text}_')\n",
    "            else:\n",
    "                strs.append(text)\n",
    "        offset = span[1]\n",
    "    \n",
    "    strs.append(wiki_text.string[offset:])\n",
    "    \n",
    "    text = ''.join(strs)\n",
    "    \n",
    "    text = re.sub(r\"''+\", '', text)\n",
    "    text = re.sub(r\"==+[^=\\n]+==+\", '', text)\n",
    "    text = re.sub('&nbsp;', ' ', text)\n",
    "    text = re.sub('\\n\\n+', '\\n\\n', text)\n",
    "    text = text.strip()\n",
    "    \n",
    "    return text"
   ]
  },
  {
   "cell_type": "code",
   "execution_count": 593,
   "metadata": {},
   "outputs": [
    {
     "name": "stdout",
     "output_type": "stream",
     "text": [
      "Phoebe is a _moon_ which goes around (_orbit_s) the _planet_ called _Saturn_. It takes eighteen months for Phoebe to go all the way around Saturn. It is half made out of _rock_, and half made out of _ice_. The ground on Phoebe is black, which means that it is very dark when seen from _Earth_. Phoebe does not have any _air_, and there is no _water_ on its _surface_.\n",
      "\n",
      "There are many _crater_s on Phoebe. These are from _asteroids_ and other things crashing into it, and leaving round marks on the surface.\n",
      "\n",
      "Phoebe is slightly irregular, which means that it is not perfectly round like a ball. It has an average _diameter_ of 213 km. This means that the Earth's moon is 15 times bigger than Phoebe. The duration between two sunrises (rotation period) is only 9 hours and 16.5 minutes long.\n"
     ]
    }
   ],
   "source": [
    "print(parse(text))"
   ]
  },
  {
   "cell_type": "code",
   "execution_count": 512,
   "metadata": {
    "scrolled": true
   },
   "outputs": [],
   "source": [
    "wiki_text = wtp.parse(text)"
   ]
  },
  {
   "cell_type": "code",
   "execution_count": 513,
   "metadata": {},
   "outputs": [
    {
     "data": {
      "text/plain": [
       "[Comment('<!-- interwiki -->')]"
      ]
     },
     "execution_count": 513,
     "metadata": {},
     "output_type": "execute_result"
    }
   ],
   "source": [
    "wiki_text.comments\n",
    "\n",
    "#  'comments',\n",
    "#  'external_links',\n",
    "#  'insert',\n",
    "#  'lists',\n",
    "#  'nesting_level',\n",
    "#  'parameters',\n",
    "#  'parser_functions',\n"
   ]
  },
  {
   "cell_type": "code",
   "execution_count": 135,
   "metadata": {},
   "outputs": [],
   "source": [
    "for bad in text2.xpath(\"//ref\"):\n",
    "  bad.getparent().remove(bad)"
   ]
  },
  {
   "cell_type": "code",
   "execution_count": 139,
   "metadata": {},
   "outputs": [
    {
     "data": {
      "text/plain": [
       "'Cosmology is the branch of _astronomy_ that deals with the origin, structure, evolution and space-time relationships of the _universe_.http://www.merriam-webster.com/dictionary/cosmology NASA defines cosmology as \"The study of the structure and changes in the present universe\".[http://genesismission.jpl.nasa.gov/educate/scimodule/Cosmogony/CosmogonyPDF/CosCosmolTT.pdf NASA education] Another definition of cosmology is \"the study of the universe, and humanity\\'s place in it\".\\n\\nModern cosmology is dominated by the _Big Bang_ theory, which brings together observational astronomy and _particle physics_.http://oxforddictionaries.com/definition/cosmology \\n\\nThough the word cosmology is recent (first used in 1730 in _Christian Wolff_\\'s Cosmologia Generalis), the study of the universe has a long history.\\n\\nHistory.\\nUntil recently, people thought that the _universe_ was the _Milky Way_. They thought this because they could only see the planets up to _Saturn_ and _star_s. With the invention of the [[telescope]], our universe got bigger. Even in the 20th century, people thought that the Milky Way was the universe. With the _Hubble Space Telescope_, people could see things far away.\\n\\nRelated pages.\\n*_String theory_\\n*_Dark matter_\\n\\nReferences.\\n\\n\\n\\n\\n\\n\\n'"
      ]
     },
     "execution_count": 139,
     "metadata": {},
     "output_type": "execute_result"
    }
   ],
   "source": [
    "text2.text_content()"
   ]
  },
  {
   "cell_type": "code",
   "execution_count": 378,
   "metadata": {},
   "outputs": [
    {
     "data": {
      "text/plain": [
       "{1, 2, 3}"
      ]
     },
     "execution_count": 378,
     "metadata": {},
     "output_type": "execute_result"
    }
   ],
   "source": [
    "set([1,2,3])"
   ]
  },
  {
   "cell_type": "code",
   "execution_count": 565,
   "metadata": {},
   "outputs": [
    {
     "data": {
      "text/plain": [
       "<_sre.SRE_Match object; span=(0, 3), match='de:'>"
      ]
     },
     "execution_count": 565,
     "metadata": {},
     "output_type": "execute_result"
    }
   ],
   "source": [
    "re.match(r'^[^:]+:', 'de:bar')"
   ]
  },
  {
   "cell_type": "code",
   "execution_count": null,
   "metadata": {
    "collapsed": true
   },
   "outputs": [],
   "source": []
  }
 ],
 "metadata": {
  "kernelspec": {
   "display_name": "Python 3",
   "language": "python",
   "name": "python3"
  },
  "language_info": {
   "codemirror_mode": {
    "name": "ipython",
    "version": 3
   },
   "file_extension": ".py",
   "mimetype": "text/x-python",
   "name": "python",
   "nbconvert_exporter": "python",
   "pygments_lexer": "ipython3",
   "version": "3.6.3"
  }
 },
 "nbformat": 4,
 "nbformat_minor": 2
}
