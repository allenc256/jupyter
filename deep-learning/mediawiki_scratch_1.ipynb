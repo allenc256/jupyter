{
 "cells": [
  {
   "cell_type": "code",
   "execution_count": 1,
   "metadata": {
    "collapsed": true
   },
   "outputs": [],
   "source": [
    "from lxml import etree\n",
    "import lxml.html\n",
    "import wikitextparser as wtp\n",
    "import nltk.data\n",
    "import re"
   ]
  },
  {
   "cell_type": "code",
   "execution_count": 3,
   "metadata": {},
   "outputs": [],
   "source": [
    "tree = etree.parse('/home/achang/Downloads/simplewiki-20171103-pages-meta-current.xml')"
   ]
  },
  {
   "cell_type": "code",
   "execution_count": 4,
   "metadata": {
    "collapsed": true
   },
   "outputs": [],
   "source": [
    "namespaces = {\n",
    "    'mediawiki': 'http://www.mediawiki.org/xml/export-0.10/'\n",
    "}"
   ]
  },
  {
   "cell_type": "code",
   "execution_count": 88,
   "metadata": {},
   "outputs": [
    {
     "data": {
      "text/plain": [
       "('Devon', '0', [])"
      ]
     },
     "execution_count": 88,
     "metadata": {},
     "output_type": "execute_result"
    }
   ],
   "source": [
    "index = 3159\n",
    "page = tree.xpath(f'mediawiki:page[{index}]', namespaces = namespaces)[0]\n",
    "redirect = tree.xpath(f'mediawiki:page[{index}]/mediawiki:redirect', namespaces = namespaces)\n",
    "ns = tree.xpath(f'mediawiki:page[{index}]/mediawiki:ns', namespaces = namespaces)\n",
    "title = tree.xpath(f'mediawiki:page[{index}]/mediawiki:title', namespaces = namespaces)[0].text\n",
    "text = tree.xpath(f'mediawiki:page[{index}]/mediawiki:revision/mediawiki:text', namespaces = namespaces)[0].text\n",
    "title, ns[0].text, redirect"
   ]
  },
  {
   "cell_type": "code",
   "execution_count": 89,
   "metadata": {
    "scrolled": true
   },
   "outputs": [
    {
     "name": "stdout",
     "output_type": "stream",
     "text": [
      "[[File:EnglandDevon.png|right|framed|A [[map]] showing where Devon is in England (coloured [[red]])]]\n",
      "'''Devon''' is a [[county]] in southwest [[England]]. Sometimes, it is called ''Devonshire'' although this is not its correct name. Devon is the second largest county in England, and has the longest road network of any county in England.\n",
      "\n",
      "== History ==\n",
      "After the last [[ice age]], Devon was one of the first places in England where people started to live. [[Archaeologist]]s have found many old places in Devon with [[wikt:ancient|ancient]] buildings. For example, many ruins of old buildings have been found in an area called \"[[Dartmoor]]\", which is now a [[National Park]].\n",
      "\n",
      "Devon gets its name from the ''Dumnonii'', a name that the invading [[Roman Britain|Romans]] gave to the Celtic tribe in that area. The Romans invaded Devon about [[AD]] 50. The name ''Dumnonii'' means \"a person who lives in a deep [[valley]]\", and it comes from the [[hill]]s and valleys of the area. The Roman [[army]] stayed in Devon for about 25 years. Their [[military base|base]] was in the city of [[Exeter]].\n",
      "\n",
      "It was a long time before anyone else invaded Devon. [[Saxons]] came to Devon in the [[7th century]], and the King of [[Wessex]] may have attacked in [[614]]. There was a conflict between Devon and Wessex for 200 years. Some [[historian]]s think that Wessex won the war by about [[715]] but others think this did not happen until at least [[936]]. Eventually Wessex took control, but the Kings of Devon still had some power.\n",
      "\n",
      "A person living at the time called [[William of Malmesbury]] said that in Exeter both Britons and Saxons were equal in [[927]] but that King Athelstan of Wessex then chased the Britons from Exeter. From place names and church dedications it seems that the British did not go far and later came back into Exeter because an area in the city was called \"Britayne\" until recently.\n",
      "\n",
      "A large number of Devon placenames include (or are) the word \"combe\" (e.g. [[Ilfracombe]]). This word comes from the [[Brythonic]] (Celtic) language and is like the Welsh word \"cwm\". Another typical Devon word is \"tor\" which is also Brythonic, and like the Welsh word \"twr\".\n",
      "Both of these words are often found in neighbouring counties, but Devon has the greatest number. Overall Devon has a number of other placenames that are Brythonic and others that come from [[Old English]], and a few that come from [[Norse]]. Devon's placenames are like those of western [[Somerset]] and eastern [[Cornwall]] which was also part of the old kingdom of \"Dumnonia\".\n",
      "\n",
      "Starting in the [[9th century]], groups of [[Viking]] [[raider]]s tried to invade Devon. This continued until the [[Norman Conquest]]. The name of ''[[Lundy]] Island'' comes from the Viking [[language]], which was called [[Norse]]. The Vikings are remembered for moving the [[cathedral]] from [[Crediton]] to [[Exeter]].\n",
      "\n",
      "Devon has been involved in most of the civil [[conflict]]s in England since [[1066]]:\n",
      "* During the Norman Conquest of England, Exeter was surrounded by [[William the Conqueror]]'s army for 18 days.\n",
      "* In [[1140]], the towns of Exeter and [[Plympton]] were both defended against [[Stephen of England|King Stephen]].\n",
      "* There were small battles in Devon during the [[Wars of the Roses]].\n",
      "* The army of [[Perkin Warbeck]] surrounded and attacked Exeter in [[1497]].\n",
      "* The [[Prayer Book Rebellion]] of 1549: rebels from Cornwall and Devon marched towards London.\n",
      "* The towns of Exeter and [[Dartmouth]] were both [[siege|besieged]] (surrounded by the enemy) during the [[English Civil War]].\n",
      "* When [[William of Orange]] invaded Britain in [[1688]] (the ''[[Glorious Revolution]]''), he landed at [[Brixham]].\n",
      "\n",
      "There are many [[celebrity|famous]] (well known) people from Devon, especially [[seaman|seamen]]. For example, Sir [[Francis Drake]], Sir [[Richard Grenville]] and Sir [[Walter Raleigh]] all come from Devon. Many other famous people were also born in Devon: for example, the author [[Agatha Christie]] was born in the town of [[Torquay]].\n",
      "\n",
      "== Flag ==\n",
      "[[File:Flag of Devon.svg|thumb|225px|right|The [[flag of Devon]]]]\n",
      "\n",
      "Devon has its own [[flag]]. It is linked to [[St Petroc]], who is a local [[Canonization|saint]] with links to Devon and nearby counties. The flag was chosen after winning a [[competition]] on the [[BBC]] Devon [[website]] in [[2003]].\n",
      "\n",
      "== Economy ==\n",
      "Devon is less wealthy than many parts of England, for example the south east. This is because the traditional [[industry|industries]] of Devon, for example [[fishing]], [[mining]] and [[farming]] are declining. The [[European Union]] has given parts of Devon help ([[Objective 2]]). For example, [[grant]]s of money have been given to help new industries grow. [[Tourism]] has become more important recently as a part of the economy of Devon.\n",
      "\n",
      "An [[epidemic]] of [[Foot and Mouth disease]] in [[2001]] led to many [[farmer]]s losing their [[cattle]], so they lost a lot of money. Other industries also lost a lot of [[income]] because of this.\n",
      "\n",
      "== Politics ==\n",
      "The main city of Devon is [[Plymouth, Devon|Plymouth]]. Exeter is where the county [[council]] is based. The county of Devon is split up into [[district]]s. Each district is run by a [[district council]]. Some things are the job of the county council and others are the job of the district council. There are also smaller [[town]] and [[parish]] councils inside the districts.\n",
      "\n",
      "Plymouth and [[Torbay]] are not run by the county council, but have their own special councils. These councils do the jobs of both a county and a district council. These type of areas are called ''[[Unitary authority|unitary authorities]]''.\n",
      "\n",
      "=== Districts in Devon ===\n",
      "[[File:Devon Ceremonial Numbered.png|framed|right|A map showing the districts of Devon]]\n",
      "The numbers on the map are linked to the numbers below.\n",
      "\n",
      "# [[Exeter]]\n",
      "# [[East Devon]]\n",
      "# [[Mid Devon]]\n",
      "# [[North Devon]]\n",
      "# [[Torridge]]\n",
      "# [[West Devon]]\n",
      "# [[South Hams]]\n",
      "# [[Teignbridge]]\n",
      "# [[Plymouth, Devon]] (Unitary)\n",
      "# [[Torbay (district|Torbay]] (Unitary)\n",
      "\n",
      "=== Members of [[Parliament]] ===\n",
      "* [[Ben Bradshaw]]\n",
      "* [[Angela Browning]]\n",
      "* [[Geoffrey Cox]]\n",
      "* [[Oliver Colvile]]\n",
      "* [[Linda Gilroy]]\n",
      "* [[Nick Harvey]]\n",
      "* [[Adrian Sanders]]\n",
      "* [[Alison Seabeck]]\n",
      "* [[Sarah Wollaston]]\n",
      "* [[Gary Streeter]]\n",
      "* [[Hugo Swire]]\n",
      "* [[Richard Younger-Ross]]\n",
      "\n",
      "== Cities towns and villages ==\n",
      "[[File:Westwardho.beach.arp.750pix.jpg|right|thumb|260px|The [[beach]] at [[Westward Ho!]] in Devon]]\n",
      "This is a list of the main [[towns]] and [[cities]] of Devon:\n",
      "{|cellpadding=4 cellspacing=4 border=0\n",
      "|-\n",
      "||\n",
      "* [[Axminster]]\n",
      "* [[Barnstaple]]\n",
      "* [[Beer (Devon)|Beer]]\n",
      "* [[Bideford]]\n",
      "* [[Brixham]]\n",
      "* [[Dartmouth]]\n",
      "* [[Dawlish]]\n",
      "* [[Exeter]]\n",
      "* [[Exmouth]]\n",
      "* [[Honiton]]\n",
      "* [[Ilfracombe]]\n",
      "* [[Ivybridge]]\n",
      "* [[Lynmouth]]\n",
      "* [[Newton Abbot]]\n",
      "||\n",
      "* [[Okehampton]]\n",
      "* [[Paignton]]\n",
      "* [[Plymouth, Devon|Plymouth]]\n",
      "* [[Plympton]]\n",
      "* [[Princetown]]\n",
      "* [[Salcombe]]\n",
      "* [[Sidmouth]]\n",
      "* [[Tavistock]]\n",
      "* [[Teignmouth]]\n",
      "* [[Tiverton]]\n",
      "* [[Torquay]]\n",
      "* [[Totnes]]\n",
      "|}\n",
      "\n",
      "== Interesting places ==\n",
      "* [[Dartmoor]]\n",
      "* [[Exmoor]]\n",
      "* [[Jurassic Coast]] (a [[World Heritage Site]])\n",
      "* [[Lundy]] Island\n",
      "* [[Buckfast Abbey]]\n",
      "* [[Castles in Devon]]\n",
      "\n",
      "== Rivers ==\n",
      "* [[River Avon (Devon)|River Avon]]\n",
      "* [[River Axe]]\n",
      "* [[River Dart]]\n",
      "* [[River Erme]]\n",
      "* [[River Exe]]\n",
      "* [[River Otter]]\n",
      "* [[River Tamar]] (the [[border]] between Devon and [[Cornwall]])\n",
      "* [[River Tavy]]\n",
      "* [[River Taw]]\n",
      "* [[River Teign]]\n",
      "* [[River Torridge]]\n",
      "\n",
      "== Other websites ==\n",
      "{{Spoken article|Simple Devon, oldid 211351.ogg|2006-10-12}}\n",
      "'''''Note:''' The links below are not in simple English.''\n",
      "* [http://www.devon.gov.uk/ Devon County Council]\n",
      "* [http://www.bbc.co.uk/devon/ BBC Devon]\n",
      "\n",
      "[[Category:Devon| ]]\n"
     ]
    }
   ],
   "source": [
    "print(text)"
   ]
  },
  {
   "cell_type": "code",
   "execution_count": 82,
   "metadata": {
    "collapsed": true
   },
   "outputs": [],
   "source": [
    "def parse(raw_text):\n",
    "    keep_tags = {'i','p','u','b','tt'}\n",
    "    wiki_text = wtp.parse(raw_text)\n",
    "    regions = []\n",
    "    strs = []\n",
    "    links = []\n",
    "    offset = 0\n",
    "    \n",
    "    for l in wiki_text.wikilinks:\n",
    "        span = l.span\n",
    "        discard = re.match(r'^[^:]+:', l.target) and not l.target.startswith('wikt:')\n",
    "        target = l.target if not discard and not l.target.startswith('wikt:') else None\n",
    "        text = l.text or l.target\n",
    "        regions.append((span, discard, target, text))\n",
    "        \n",
    "    for l in wiki_text.external_links:\n",
    "        span = l.span\n",
    "        discard = False\n",
    "        target = None\n",
    "        text = l.text or l.url\n",
    "        regions.append((span, discard, target, text))\n",
    "        \n",
    "    for t in wiki_text.templates:\n",
    "        span = t.span\n",
    "        discard = True\n",
    "        target = None\n",
    "        text = None\n",
    "        regions.append((span, discard, target, text))\n",
    "    \n",
    "    for t in wiki_text.tags():\n",
    "        span = t.span\n",
    "        target = None\n",
    "        try:\n",
    "            discard = t.name not in keep_tags\n",
    "            text = t.contents\n",
    "        except TypeError:\n",
    "            discard = True\n",
    "            text = None\n",
    "        regions.append((span, discard, target, text))\n",
    "    \n",
    "    for t in wiki_text.tables:\n",
    "        span = t.span\n",
    "        discard = True\n",
    "        target = None\n",
    "        text = None\n",
    "        regions.append((span, discard, target, text))\n",
    "    \n",
    "    for l in wiki_text.lists():\n",
    "        span = l.span\n",
    "        discard = True\n",
    "        target = None\n",
    "        text = None\n",
    "        regions.append((span, discard, target, text))\n",
    "        \n",
    "    for pf in wiki_text.parser_functions:\n",
    "        span = pf.span\n",
    "        discard = True\n",
    "        target = None\n",
    "        text = None\n",
    "        regions.append((span, discard, target, text))\n",
    "        \n",
    "    for c in wiki_text.comments:\n",
    "        span = c.span\n",
    "        discard = True\n",
    "        target = None\n",
    "        text = None\n",
    "        regions.append((span, discard, target, text))\n",
    "        \n",
    "    regions.sort()\n",
    "    \n",
    "    for (span, discard, target, text) in regions:\n",
    "        if span[0] < offset:\n",
    "            continue\n",
    "        strs.append(wiki_text.string[offset:span[0]])\n",
    "        if not discard:\n",
    "            if target:\n",
    "                strs.append('{{%d}}' % len(links))\n",
    "                links.append((text, target))\n",
    "            else:\n",
    "                strs.append(text)\n",
    "        offset = span[1]\n",
    "    \n",
    "    strs.append(wiki_text.string[offset:])\n",
    "    \n",
    "    text = ''.join(strs)\n",
    "    \n",
    "    text = re.sub(r\"''+\", '', text)\n",
    "    text = re.sub(r\"==+[^=\\n]+==+\", '', text)\n",
    "    text = re.sub('&nbsp;', ' ', text)\n",
    "    text = re.sub('\\n\\n+', '\\n\\n', text)\n",
    "    text = text.strip()\n",
    "    \n",
    "    return text, links"
   ]
  },
  {
   "cell_type": "code",
   "execution_count": 90,
   "metadata": {},
   "outputs": [
    {
     "name": "stdout",
     "output_type": "stream",
     "text": [
      "Devon is a {{0}} in southwest {{1}}. Sometimes, it is called Devonshire although this is not its correct name. Devon is the second largest county in England, and has the longest road network of any county in England.\n",
      "\n",
      "After the last {{2}}, Devon was one of the first places in England where people started to live. {{3}}s have found many old places in Devon with ancient buildings. For example, many ruins of old buildings have been found in an area called \"{{4}}\", which is now a {{5}}.\n",
      "\n",
      "Devon gets its name from the Dumnonii, a name that the invading {{6}} gave to the Celtic tribe in that area. The Romans invaded Devon about {{7}} 50. The name Dumnonii means \"a person who lives in a deep {{8}}\", and it comes from the {{9}}s and valleys of the area. The Roman {{10}} stayed in Devon for about 25 years. Their {{11}} was in the city of {{12}}.\n",
      "\n",
      "It was a long time before anyone else invaded Devon. {{13}} came to Devon in the {{14}}, and the King of {{15}} may have attacked in {{16}}. There was a conflict between Devon and Wessex for 200 years. Some {{17}}s think that Wessex won the war by about {{18}} but others think this did not happen until at least {{19}}. Eventually Wessex took control, but the Kings of Devon still had some power.\n",
      "\n",
      "A person living at the time called {{20}} said that in Exeter both Britons and Saxons were equal in {{21}} but that King Athelstan of Wessex then chased the Britons from Exeter. From place names and church dedications it seems that the British did not go far and later came back into Exeter because an area in the city was called \"Britayne\" until recently.\n",
      "\n",
      "A large number of Devon placenames include (or are) the word \"combe\" (e.g. {{22}}). This word comes from the {{23}} (Celtic) language and is like the Welsh word \"cwm\". Another typical Devon word is \"tor\" which is also Brythonic, and like the Welsh word \"twr\".\n",
      "Both of these words are often found in neighbouring counties, but Devon has the greatest number. Overall Devon has a number of other placenames that are Brythonic and others that come from {{24}}, and a few that come from {{25}}. Devon's placenames are like those of western {{26}} and eastern {{27}} which was also part of the old kingdom of \"Dumnonia\".\n",
      "\n",
      "Starting in the {{28}}, groups of {{29}} {{30}}s tried to invade Devon. This continued until the {{31}}. The name of {{32}} Island comes from the Viking {{33}}, which was called {{34}}. The Vikings are remembered for moving the {{35}} from {{36}} to {{37}}.\n",
      "\n",
      "Devon has been involved in most of the civil {{38}}s in England since {{39}}:\n",
      "\n",
      "There are many {{40}} (well known) people from Devon, especially {{41}}. For example, Sir {{42}}, Sir {{43}} and Sir {{44}} all come from Devon. Many other famous people were also born in Devon: for example, the author {{45}} was born in the town of {{46}}.\n",
      "\n",
      "Devon has its own {{47}}. It is linked to {{48}}, who is a local {{49}} with links to Devon and nearby counties. The flag was chosen after winning a {{50}} on the {{51}} Devon {{52}} in {{53}}.\n",
      "\n",
      "Devon is less wealthy than many parts of England, for example the south east. This is because the traditional {{54}} of Devon, for example {{55}}, {{56}} and {{57}} are declining. The {{58}} has given parts of Devon help ({{59}}). For example, {{60}}s of money have been given to help new industries grow. {{61}} has become more important recently as a part of the economy of Devon.\n",
      "\n",
      "An {{62}} of {{63}} in {{64}} led to many {{65}}s losing their {{66}}, so they lost a lot of money. Other industries also lost a lot of {{67}} because of this.\n",
      "\n",
      "The main city of Devon is {{68}}. Exeter is where the county {{69}} is based. The county of Devon is split up into {{70}}s. Each district is run by a {{71}}. Some things are the job of the county council and others are the job of the district council. There are also smaller {{72}} and {{73}} councils inside the districts.\n",
      "\n",
      "Plymouth and {{74}} are not run by the county council, but have their own special councils. These councils do the jobs of both a county and a district council. These type of areas are called {{75}}.\n",
      "\n",
      "The numbers on the map are linked to the numbers below.\n",
      "\n",
      "This is a list of the main {{77}} and {{78}} of Devon:\n",
      "\n",
      "Note: The links below are not in simple English.\n",
      "[('county', 'county'), ('England', 'England'), ('ice age', 'ice age'), ('Archaeologist', 'Archaeologist'), ('Dartmoor', 'Dartmoor'), ('National Park', 'National Park'), ('Romans', 'Roman Britain'), ('AD', 'AD'), ('valley', 'valley'), ('hill', 'hill'), ('army', 'army'), ('base', 'military base'), ('Exeter', 'Exeter'), ('Saxons', 'Saxons'), ('7th century', '7th century'), ('Wessex', 'Wessex'), ('614', '614'), ('historian', 'historian'), ('715', '715'), ('936', '936'), ('William of Malmesbury', 'William of Malmesbury'), ('927', '927'), ('Ilfracombe', 'Ilfracombe'), ('Brythonic', 'Brythonic'), ('Old English', 'Old English'), ('Norse', 'Norse'), ('Somerset', 'Somerset'), ('Cornwall', 'Cornwall'), ('9th century', '9th century'), ('Viking', 'Viking'), ('raider', 'raider'), ('Norman Conquest', 'Norman Conquest'), ('Lundy', 'Lundy'), ('language', 'language'), ('Norse', 'Norse'), ('cathedral', 'cathedral'), ('Crediton', 'Crediton'), ('Exeter', 'Exeter'), ('conflict', 'conflict'), ('1066', '1066'), ('famous', 'celebrity'), ('seamen', 'seaman'), ('Francis Drake', 'Francis Drake'), ('Richard Grenville', 'Richard Grenville'), ('Walter Raleigh', 'Walter Raleigh'), ('Agatha Christie', 'Agatha Christie'), ('Torquay', 'Torquay'), ('flag', 'flag'), ('St Petroc', 'St Petroc'), ('saint', 'Canonization'), ('competition', 'competition'), ('BBC', 'BBC'), ('website', 'website'), ('2003', '2003'), ('industries', 'industry'), ('fishing', 'fishing'), ('mining', 'mining'), ('farming', 'farming'), ('European Union', 'European Union'), ('Objective 2', 'Objective 2'), ('grant', 'grant'), ('Tourism', 'Tourism'), ('epidemic', 'epidemic'), ('Foot and Mouth disease', 'Foot and Mouth disease'), ('2001', '2001'), ('farmer', 'farmer'), ('cattle', 'cattle'), ('income', 'income'), ('Plymouth', 'Plymouth, Devon'), ('council', 'council'), ('district', 'district'), ('district council', 'district council'), ('town', 'town'), ('parish', 'parish'), ('Torbay', 'Torbay'), ('unitary authorities', 'Unitary authority'), ('Parliament', 'Parliament'), ('towns', 'towns'), ('cities', 'cities')]\n"
     ]
    }
   ],
   "source": [
    "parsed_text, links = parse(text)\n",
    "print(parsed_text)\n",
    "print(links)"
   ]
  },
  {
   "cell_type": "code",
   "execution_count": 73,
   "metadata": {
    "scrolled": true
   },
   "outputs": [
    {
     "data": {
      "text/plain": [
       "'transliterated'"
      ]
     },
     "execution_count": 73,
     "metadata": {},
     "output_type": "execute_result"
    }
   ],
   "source": [
    "parsed_text[17:31]"
   ]
  },
  {
   "cell_type": "code",
   "execution_count": 41,
   "metadata": {
    "collapsed": true
   },
   "outputs": [],
   "source": [
    "tokenizer = nltk.data.load('tokenizers/punkt/english.pickle')"
   ]
  },
  {
   "cell_type": "code",
   "execution_count": 84,
   "metadata": {},
   "outputs": [
    {
     "data": {
      "text/plain": [
       "['(; also {{0}} Leo, Lev, Trotskii, Trotski, Trotskij and Trotzky; October 26 ({{1}}) = November 7 ({{2}}), {{3}} in {{4}} (nowadays {{5}}) - August 21, {{6}} in {{7}}, {{8}}) was the public name of Leib or Lev Davidovich Bronstein.',\n",
       " 'He was a {{9}} {{10}} and political {{11}}.',\n",
       " 'He was of {{12}}-Ukrainian descent.',\n",
       " 'Trotsky was a {{13}} and a {{14}}.',\n",
       " 'In 1905 there was a revolution in Russia.',\n",
       " 'Trotsky helped organize a {{15}} of workers in {{16}} which was called the {{17}}.',\n",
       " 'When the leader of the Soviet was arrested, Trotsky became leader of the Soviet in his place.',\n",
       " 'Trotsky helped to expand on the idea of {{18}}, which is a {{19}} originally thought up by {{20}}.',\n",
       " 'After the revolution Trotsky left Russia for his own safety.',\n",
       " 'In 1917, he returned to Russia because of the {{21}}.',\n",
       " 'He helped to bring about communism in Russia and defend it during the Russian Civil War.',\n",
       " 'He was in charge of the army at this time.',\n",
       " 'When the leader of the {{22}} (the party who lead the revolution) Vladimir Lenin died, Trotsky became involved in a power struggle with {{23}} for the leadership of the party.',\n",
       " 'He lost, and Stalin came to power.',\n",
       " 'He had to leave Russia because of Stalin, who was now his own enemy and wanted to harm Trotsky.',\n",
       " 'In 1938 Trotsky founded the Fourth International.',\n",
       " 'Stalin had one of his spies, {{24}} {{25}} stab Trotsky to death in Mexico in 1940.',\n",
       " \"People who believe in Trotsky's ideas are called Trotskyists and follow {{26}}.\",\n",
       " 'The main Trotskyist organizations today are the {{27}}, the {{28}} in the UK and the {{29}}.',\n",
       " 'In the novel {{30}} by {{31}}, Trotsky is represented by Snowball the pig and Stalin is represented by Napoleon who was also a pig.']"
      ]
     },
     "execution_count": 84,
     "metadata": {},
     "output_type": "execute_result"
    }
   ],
   "source": [
    "tokenizer.tokenize(parsed_text)"
   ]
  },
  {
   "cell_type": "code",
   "execution_count": null,
   "metadata": {
    "collapsed": true
   },
   "outputs": [],
   "source": []
  }
 ],
 "metadata": {
  "kernelspec": {
   "display_name": "Python 3",
   "language": "python",
   "name": "python3"
  },
  "language_info": {
   "codemirror_mode": {
    "name": "ipython",
    "version": 3
   },
   "file_extension": ".py",
   "mimetype": "text/x-python",
   "name": "python",
   "nbconvert_exporter": "python",
   "pygments_lexer": "ipython3",
   "version": "3.6.1"
  }
 },
 "nbformat": 4,
 "nbformat_minor": 2
}
