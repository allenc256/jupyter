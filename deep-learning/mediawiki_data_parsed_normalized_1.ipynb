{
 "cells": [
  {
   "cell_type": "code",
   "execution_count": 1,
   "metadata": {},
   "outputs": [],
   "source": [
    "import json\n",
    "import gzip\n",
    "import nltk\n",
    "import re\n",
    "from intervaltree import Interval, IntervalTree\n",
    "from tqdm import tqdm_notebook"
   ]
  },
  {
   "cell_type": "code",
   "execution_count": 2,
   "metadata": {},
   "outputs": [],
   "source": [
    "with gzip.open('../data/simplewiki/simplewiki-20171103.parsed.json.gz', 'rt', encoding='utf-8') as f:\n",
    "    wiki = json.load(f)"
   ]
  },
  {
   "cell_type": "code",
   "execution_count": 51,
   "metadata": {},
   "outputs": [],
   "source": [
    "# with open('../data/simplewiki/simplewiki-20171103.vocab_30k.txt', 'rt', encoding='utf-8') as f:\n",
    "#     id_to_word_30k = [line.strip() for line in f]\n",
    "# word_to_id_30k = dict((word, word_id) for word_id, word in enumerate(id_to_word_30k))"
   ]
  },
  {
   "cell_type": "code",
   "execution_count": 3,
   "metadata": {},
   "outputs": [],
   "source": [
    "def normalize_text(text):\n",
    "    text = re.sub(r'\\s+', ' ', text).lower()\n",
    "    text = text.replace(\"``\", '\"')\n",
    "    text = text.replace(\"''\", '\"')\n",
    "    return text\n",
    "\n",
    "def normalize_page(page):\n",
    "    page_id = page['id']\n",
    "    page_links = page['links']\n",
    "    page_text = page['text']\n",
    "    \n",
    "    page_text = normalize_text(page_text)\n",
    "    \n",
    "    norm_frags = []\n",
    "    norm_links = []\n",
    "    \n",
    "    pattern = re.compile(r'\\{\\{\\d+\\}\\}')\n",
    "    \n",
    "    page_offset = 0\n",
    "    norm_offset = 0\n",
    "\n",
    "    while True:\n",
    "        match = pattern.search(page_text, page_offset)\n",
    "        if not match:\n",
    "            break\n",
    "        page_link = page_links[match.group()]\n",
    "        \n",
    "        norm_frags.append(page_text[page_offset:match.start()])\n",
    "        norm_offset += len(norm_frags[-1])\n",
    "        norm_link_start = norm_offset\n",
    "        \n",
    "        norm_frags.append(normalize_text(page_link['text']))\n",
    "        norm_offset += len(norm_frags[-1])\n",
    "        norm_link_end = norm_offset\n",
    "        \n",
    "        norm_links.append({\n",
    "            'target': page_link['target'],\n",
    "            'start': norm_link_start,\n",
    "            'end': norm_link_end,\n",
    "        })\n",
    "        \n",
    "        page_offset = match.end()\n",
    "    \n",
    "    norm_frags.append(page_text[page_offset:])\n",
    "    norm_text = ''.join(norm_frags)\n",
    "    \n",
    "    return {\n",
    "        'id': page_id,\n",
    "        'links': norm_links,\n",
    "        'text': norm_text\n",
    "    }"
   ]
  },
  {
   "cell_type": "code",
   "execution_count": 4,
   "metadata": {},
   "outputs": [
    {
     "data": {
      "application/vnd.jupyter.widget-view+json": {
       "model_id": "9dd923a5844e426d933fd34e72279bc3",
       "version_major": 2,
       "version_minor": 0
      },
      "text/html": [
       "<p>Failed to display Jupyter Widget of type <code>HBox</code>.</p>\n",
       "<p>\n",
       "  If you're reading this message in the Jupyter Notebook or JupyterLab Notebook, it may mean\n",
       "  that the widgets JavaScript is still loading. If this message persists, it\n",
       "  likely means that the widgets JavaScript library is either not installed or\n",
       "  not enabled. See the <a href=\"https://ipywidgets.readthedocs.io/en/stable/user_install.html\">Jupyter\n",
       "  Widgets Documentation</a> for setup instructions.\n",
       "</p>\n",
       "<p>\n",
       "  If you're reading this message in another frontend (for example, a static\n",
       "  rendering on GitHub or <a href=\"https://nbviewer.jupyter.org/\">NBViewer</a>),\n",
       "  it may mean that your frontend doesn't currently support widgets.\n",
       "</p>\n"
      ],
      "text/plain": [
       "HBox(children=(IntProgress(value=0, max=125947), HTML(value='')))"
      ]
     },
     "metadata": {},
     "output_type": "display_data"
    },
    {
     "name": "stdout",
     "output_type": "stream",
     "text": [
      "\n"
     ]
    }
   ],
   "source": [
    "norm_wiki = dict((title, normalize_page(page)) for title, page in tqdm_notebook(wiki.items()))"
   ]
  },
  {
   "cell_type": "code",
   "execution_count": 19,
   "metadata": {},
   "outputs": [],
   "source": [
    "with gzip.open('../data/simplewiki/simplewiki-20171103.parsed.norm.json.gz', 'wt', encoding='utf-8') as f:\n",
    "    json.dump(norm_wiki, f, indent = 1)"
   ]
  },
  {
   "cell_type": "code",
   "execution_count": null,
   "metadata": {},
   "outputs": [],
   "source": []
  }
 ],
 "metadata": {
  "kernelspec": {
   "display_name": "Python 3",
   "language": "python",
   "name": "python3"
  },
  "language_info": {
   "codemirror_mode": {
    "name": "ipython",
    "version": 3
   },
   "file_extension": ".py",
   "mimetype": "text/x-python",
   "name": "python",
   "nbconvert_exporter": "python",
   "pygments_lexer": "ipython3",
   "version": "3.5.4"
  }
 },
 "nbformat": 4,
 "nbformat_minor": 2
}
