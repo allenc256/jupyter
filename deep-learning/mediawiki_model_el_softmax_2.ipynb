{
 "cells": [
  {
   "cell_type": "code",
   "execution_count": 1,
   "metadata": {},
   "outputs": [],
   "source": [
    "import tensorflow as tf\n",
    "import numpy as np\n",
    "import datetime\n",
    "import json\n",
    "import gzip\n",
    "import matplotlib.pyplot as plt\n",
    "import re\n",
    "import os\n",
    "import shutil\n",
    "from tqdm import tqdm_notebook"
   ]
  },
  {
   "cell_type": "code",
   "execution_count": 2,
   "metadata": {},
   "outputs": [],
   "source": [
    "sess = None"
   ]
  },
  {
   "cell_type": "code",
   "execution_count": 3,
   "metadata": {},
   "outputs": [],
   "source": [
    "def reset_tf(sess = None, log_device_placement = False):\n",
    "    if sess:\n",
    "        sess.close()\n",
    "    tf.reset_default_graph()\n",
    "    tf.set_random_seed(0)\n",
    "    return tf.InteractiveSession(config = tf.ConfigProto(log_device_placement = log_device_placement))\n",
    "\n",
    "def dump_statistics():\n",
    "    total_parameters = 0\n",
    "    for variable in tf.trainable_variables():\n",
    "        # shape is an array of tf.Dimension\n",
    "        shape = variable.get_shape()\n",
    "        variable_parameters = 1\n",
    "        for dim in shape:\n",
    "            variable_parameters *= dim.value\n",
    "        print('parameters for \"%s\": %d' % (variable.name, variable_parameters))\n",
    "        total_parameters += variable_parameters\n",
    "    print('total parameters: %d' % total_parameters)"
   ]
  },
  {
   "cell_type": "code",
   "execution_count": 4,
   "metadata": {},
   "outputs": [],
   "source": [
    "class HyperParameters:\n",
    "    learning_rate = 1e-3\n",
    "    \n",
    "    vocab_size = 30000\n",
    "    num_targets = 2000\n",
    "    \n",
    "    dropout_rate = 0.1\n",
    "    \n",
    "    context_size = 81\n",
    "    \n",
    "    d_embedding_position = 32\n",
    "    d_embedding_word = 128\n",
    "    \n",
    "    d_attention = 128\n",
    "    d_attention_ff = 512\n",
    "    \n",
    "    num_attention_heads = 2\n",
    "    d_attention_head = d_attention // num_attention_heads\n",
    "    \n",
    "    attention_num_layers = 3\n",
    "\n",
    "    dataset_batch_size = 512\n",
    "    dataset_num_parallel_calls = 4\n",
    "    dataset_prefetch_size = 4096\n",
    "    dataset_shuffle_size = 4096\n",
    "    \n",
    "    gradient_clip_norm = 5.0"
   ]
  },
  {
   "cell_type": "code",
   "execution_count": 5,
   "metadata": {},
   "outputs": [],
   "source": [
    "class EntityLinkingModel:\n",
    "    def __init__(self, session, hp):\n",
    "        self._session = session\n",
    "        self._hp = hp\n",
    "        \n",
    "    def _parse_example(self, example_proto):\n",
    "        parsed = tf.parse_single_example(example_proto, features = {\n",
    "            'page_id': tf.FixedLenFeature([1], tf.int64),\n",
    "            'target_id': tf.FixedLenFeature([1], tf.int64),\n",
    "            'context_word_ids': tf.FixedLenFeature([self._hp.context_size], tf.int64),\n",
    "            'link_mask': tf.FixedLenFeature([self._hp.context_size], tf.int64) })\n",
    "        \n",
    "#         # apply random crop\n",
    "#         offset = tf.random_uniform(\n",
    "#             [],\n",
    "#             maxval = self._hp.input_context_size - self._hp.context_size,\n",
    "#             dtype = tf.int32)\n",
    "#\n",
    "#         # apply croppings\n",
    "#         context_word_ids = parsed['context_word_ids']\n",
    "#         context_word_ids = context_word_ids[offset:offset + self._hp.context_size]\n",
    "#         link_mask = parsed['link_mask']\n",
    "#         link_mask = link_mask[offset:offset + self._hp.context_size]\n",
    "\n",
    "        context_word_ids = parsed['context_word_ids']\n",
    "        link_mask = parsed['link_mask']\n",
    "        \n",
    "        return (parsed['target_id'], context_word_ids, link_mask)\n",
    "\n",
    "    def _build_data_pipeline(self):\n",
    "        with tf.variable_scope('dataset'):\n",
    "            # placeholders\n",
    "            self._dataset_filenames = tf.placeholder(\n",
    "                tf.string,\n",
    "                shape = [None],\n",
    "                name = 'dataset_filenames')\n",
    "            self._dataset_limit = tf.placeholder_with_default(\n",
    "                tf.constant(-1, tf.int64),\n",
    "                shape = [],\n",
    "                name = 'dataset_limit')\n",
    "            self._dataset_shuffle_size = tf.placeholder_with_default(\n",
    "                tf.constant(self._hp.dataset_batch_size, tf.int64),\n",
    "                shape = [],\n",
    "                name = 'dataset_shuffle_size')\n",
    "            self._dataset_batch_size = tf.placeholder_with_default(\n",
    "                tf.constant(self._hp.dataset_batch_size, tf.int64),\n",
    "                shape = [],\n",
    "                name = 'dataset_batch_size')\n",
    "            self._dataset_prefetch_size = tf.placeholder_with_default(\n",
    "                tf.constant(self._hp.dataset_prefetch_size, tf.int64),\n",
    "                shape = [],\n",
    "                name = 'dataset_prefetch_size')\n",
    "\n",
    "            # build dataset\n",
    "            dataset = tf.data.TFRecordDataset(\n",
    "                tf.random_shuffle(self._dataset_filenames),\n",
    "                compression_type='GZIP')\n",
    "            dataset = dataset.take(self._dataset_limit)\n",
    "            dataset = dataset.map(\n",
    "                self._parse_example,\n",
    "                num_parallel_calls = self._hp.dataset_num_parallel_calls)\n",
    "            dataset = dataset.shuffle(self._dataset_shuffle_size)\n",
    "            dataset = dataset.prefetch(self._dataset_prefetch_size)\n",
    "            dataset = dataset.batch(self._dataset_batch_size)\n",
    "\n",
    "            # build iterator\n",
    "            self._dataset_iterator = dataset.make_initializable_iterator()\n",
    "            (target_labels, context_word_ids, link_mask) = self._dataset_iterator.get_next()\n",
    "            target_labels = tf.squeeze(target_labels, axis = -1)\n",
    "\n",
    "            # give key tensors names\n",
    "            self._context_word_ids = tf.identity(context_word_ids, 'context_word_ids')\n",
    "            self._target_labels = tf.identity(target_labels, 'target_labels')\n",
    "            self._link_mask = tf.identity(link_mask, 'link_mask')\n",
    "\n",
    "            # minibatch size\n",
    "            self._minibatch_size = tf.shape(self._context_word_ids)[0]\n",
    "            self._minibatch_size = tf.identity(self._minibatch_size, 'minibatch_size')\n",
    "            \n",
    "            # positions\n",
    "            p = tf.range(self._hp.context_size, dtype = tf.int64)\n",
    "            p = tf.tile(p, [self._minibatch_size])\n",
    "            p = tf.reshape(\n",
    "                p,\n",
    "                [self._minibatch_size, self._hp.context_size],\n",
    "                name = 'context_positions')\n",
    "            self._context_positions = p\n",
    "            \n",
    "    def _attention_layer(self, A, scope, reuse=None):\n",
    "        with tf.variable_scope(scope, reuse=reuse):\n",
    "            projection_weights = tf.get_variable(\n",
    "                'projection_weights',\n",
    "                [self._hp.num_attention_heads, self._hp.d_attention, self._hp.d_attention_head])\n",
    "            output_weights = tf.get_variable(\n",
    "                'output',\n",
    "                [self._hp.d_attention, self._hp.d_attention])\n",
    "\n",
    "            # compute each attention head\n",
    "            heads = []\n",
    "            for i in range(self._hp.num_attention_heads):\\\n",
    "                # project queries/keys/values\n",
    "                Q_proj = tf.tensordot(A, projection_weights[i], axes = 1)\n",
    "                K_proj = tf.tensordot(A, projection_weights[i], axes = 1)\n",
    "                V_proj = tf.tensordot(A, projection_weights[i], axes = 1)\n",
    "                # N.B., hint shapes since tensordot can't infer\n",
    "                Q_proj.set_shape([None, self._hp.context_size, self._hp.d_attention_head])\n",
    "                K_proj.set_shape([None, self._hp.context_size, self._hp.d_attention_head])\n",
    "                V_proj.set_shape([None, self._hp.context_size, self._hp.d_attention_head])\n",
    "\n",
    "                # compute attention for head\n",
    "                K_proj_T = tf.transpose(K_proj, perm = [0, 2, 1])\n",
    "                scaled_logits = tf.matmul(Q_proj, K_proj_T) / tf.sqrt(float(self._hp.d_attention_head))\n",
    "                head = tf.matmul(tf.nn.softmax(scaled_logits), V_proj)\n",
    "                heads.append(head)\n",
    "\n",
    "            # concatenate heads\n",
    "            result = tf.concat(heads, axis=-1)\n",
    "            \n",
    "            # transform by output weights\n",
    "            result = tf.tensordot(result, output_weights, axes = 1)\n",
    "            # N.B., hint shape since tensordot can't infer\n",
    "            result.set_shape([None, self._hp.context_size, self._hp.d_attention])\n",
    "            \n",
    "            return result\n",
    "\n",
    "    def _attention_ff_layer(self, A, scope, reuse=None):\n",
    "        with tf.variable_scope(scope, reuse=reuse):\n",
    "            A = tf.layers.dense(A, self._hp.d_attention_ff, activation=tf.nn.relu, name='fc1')\n",
    "            A = tf.layers.dense(A, self._hp.d_attention, name='fc2')\n",
    "            return A\n",
    "    \n",
    "    def _attention_full_layer(self, A, scope, reuse=None):\n",
    "        with tf.variable_scope(scope, reuse=reuse):\n",
    "            # attention (plus residual)\n",
    "            A = self._attention_layer(A, 'attention', reuse) + A\n",
    "            \n",
    "            # post-attention batch norm\n",
    "            A = tf.layers.batch_normalization(\n",
    "                A, \n",
    "                training=self._training,\n",
    "                name='attention',\n",
    "                reuse=reuse)\n",
    "            \n",
    "            # post-attention dropout (_after_ batch norm)\n",
    "            A = tf.layers.dropout(\n",
    "                A, \n",
    "                rate=self._hp.dropout_rate, \n",
    "                training=self._training)\n",
    "            \n",
    "            # feed-forward (plus residual)\n",
    "            A = self._attention_ff_layer(A, 'ff', reuse) + A\n",
    "            \n",
    "            # post-feed-forward batch norm\n",
    "            A = tf.layers.batch_normalization(\n",
    "                A,\n",
    "                training=self._training,\n",
    "                name='ff',\n",
    "                reuse=reuse)\n",
    "            \n",
    "            # post-feed-forward dropout\n",
    "            A = tf.layers.dropout(\n",
    "                A, \n",
    "                rate=self._hp.dropout_rate, \n",
    "                training=self._training)\n",
    "            \n",
    "            return A\n",
    "            \n",
    "    def _build_model(self):\n",
    "        with tf.variable_scope('model'):\n",
    "            # placeholder: training flag\n",
    "            self._training = tf.placeholder(tf.bool, name = 'training')\n",
    "            \n",
    "            # embed context words\n",
    "            word_embeddings = tf.get_variable(\n",
    "                'word_embeddings', \n",
    "                [self._hp.vocab_size, self._hp.d_embedding_word])\n",
    "            context_words_embedded = tf.nn.embedding_lookup(\n",
    "                word_embeddings,\n",
    "                self._context_word_ids)\n",
    "\n",
    "            # embed context positions\n",
    "            position_embeddings = tf.get_variable(\n",
    "                'position_embeddings',\n",
    "                [self._hp.context_size, self._hp.d_embedding_position],\n",
    "                dtype=tf.float32)\n",
    "            context_positions_embedded = tf.nn.embedding_lookup(\n",
    "                position_embeddings,\n",
    "                self._context_positions)\n",
    "\n",
    "            # build full context vector (concat embeddings)\n",
    "            context_full = tf.concat(\n",
    "                [context_words_embedded, context_positions_embedded], \n",
    "                axis=-1)\n",
    "#             context_full = context_words_embedded + context_positions_embedded\n",
    "            \n",
    "            # build attention layers\n",
    "            with tf.variable_scope('attention_with_ff'):\n",
    "                # build input vector\n",
    "                context_attention = tf.layers.dense(\n",
    "                    context_full,\n",
    "                    self._hp.d_attention,\n",
    "                    activation=tf.nn.relu,\n",
    "                    name='input')\n",
    "                context_attention = tf.layers.batch_normalization(\n",
    "                    context_attention,\n",
    "                    training=self._training,\n",
    "                    name='input')\n",
    "                context_attention = tf.layers.dropout(\n",
    "                    context_attention,\n",
    "                    rate=self._hp.dropout_rate,\n",
    "                    training=self._training)\n",
    "                \n",
    "                layer = context_attention\n",
    "                for i in range(self._hp.attention_num_layers):\n",
    "                    layer = self._attention_full_layer(layer, 'layer_%d' % i)\n",
    "\n",
    "            # average the attention vectors for the link\n",
    "            # TODO: combine these in a smarter way\n",
    "            link_mask = tf.cast(self._link_mask, tf.float32)\n",
    "            link_mask = tf.reshape(link_mask, [-1, self._hp.context_size, 1])\n",
    "            layer *= link_mask\n",
    "            layer = tf.reduce_sum(layer, axis = -2, keep_dims = True)\n",
    "            layer /= tf.reduce_sum(link_mask, axis = -2, keep_dims = True)\n",
    "            layer = tf.squeeze(layer, axis = -2)\n",
    "            \n",
    "            # build final softmax layer\n",
    "            self._output_logits = tf.layers.dense(\n",
    "                layer,\n",
    "                self._hp.num_targets,\n",
    "                name = 'softmax')\n",
    "\n",
    "    def _build_training_model(self):\n",
    "        with tf.variable_scope('train'):\n",
    "            losses = tf.nn.sparse_softmax_cross_entropy_with_logits(\n",
    "                labels = self._target_labels,\n",
    "                logits = self._output_logits)\n",
    "            \n",
    "            self._total_loss = tf.reduce_sum(losses, name = 'total_loss')\n",
    "            self._mean_loss = tf.reduce_mean(losses, name = 'mean_loss')\n",
    "            \n",
    "            # N.B., tf.nn.softmax here is unnecessary?\n",
    "            output_labels = tf.argmax(tf.nn.softmax(self._output_logits), axis=-1)\n",
    "            correct_labels = tf.cast(\n",
    "                tf.equal(output_labels, self._target_labels), \n",
    "                tf.int32)\n",
    "            self._output_labels = tf.identity(output_labels, name = 'output_labels')\n",
    "            self._num_correct_labels = tf.reduce_sum(correct_labels, name = 'num_correct_labels')\n",
    "            \n",
    "            update_ops = tf.get_collection(tf.GraphKeys.UPDATE_OPS)\n",
    "            with tf.control_dependencies(update_ops):\n",
    "                self._global_step = tf.Variable(0, name='global_step', trainable=False)\n",
    "                self._optimizer = tf.train.AdamOptimizer(learning_rate=self._hp.learning_rate)\n",
    "                \n",
    "                # gradient clipping\n",
    "                gradients, variables = zip(*self._optimizer.compute_gradients(self._mean_loss))\n",
    "                gradients, _ = tf.clip_by_global_norm(\n",
    "                    gradients, \n",
    "                    self._hp.gradient_clip_norm)\n",
    "                \n",
    "                self._train_op = self._optimizer.apply_gradients(\n",
    "                    zip(gradients, variables),\n",
    "                    global_step = self._global_step)\n",
    "#                 self._train_op = self._optimizer.minimize(\n",
    "#                     self._mean_loss,\n",
    "#                     global_step=self._global_step)\n",
    "\n",
    "    \n",
    "    def build_model(self):\n",
    "        self._build_data_pipeline()\n",
    "        self._build_model()\n",
    "        self._build_training_model()\n",
    "\n",
    "    def process(self,\n",
    "                dataset_filenames,\n",
    "                dataset_limit = -1,\n",
    "                header = 'results',\n",
    "                train = False,\n",
    "                log_file = None):\n",
    "        # initialize dataset to files\n",
    "        self._session.run(self._dataset_iterator.initializer, feed_dict={\n",
    "            self._dataset_filenames: dataset_filenames,\n",
    "            self._dataset_limit: dataset_limit })\n",
    "\n",
    "        cum_loss = 0\n",
    "        cum_num_examples = 0\n",
    "        cum_correct_examples = 0\n",
    "        \n",
    "        start = datetime.datetime.now()\n",
    "        progress = tqdm_notebook(leave = False, desc = header)\n",
    "\n",
    "        while True:\n",
    "            # process a minibatch\n",
    "            try:\n",
    "                (_,\n",
    "                 curr_total_loss, \n",
    "                 curr_minibatch_size,\n",
    "                 curr_num_correct_labels) = self._session.run(\n",
    "                    (self._train_op if train else (),\n",
    "                     self._total_loss,\n",
    "                     self._minibatch_size,\n",
    "                     self._num_correct_labels),\n",
    "                    feed_dict = { self._training: train })\n",
    "            except tf.errors.OutOfRangeError:\n",
    "                break\n",
    "\n",
    "            # update stats/progress\n",
    "            cum_loss += curr_total_loss\n",
    "            cum_num_examples += curr_minibatch_size\n",
    "            cum_correct_examples += curr_num_correct_labels\n",
    "            progress.update(curr_minibatch_size)\n",
    "\n",
    "        progress.close()\n",
    "        finish = datetime.datetime.now()\n",
    "\n",
    "        # print/log output\n",
    "        message = '%s: time=%s, step=%d, loss=%g, accuracy=%g' % (\n",
    "            header,\n",
    "            finish - start,\n",
    "            tf.train.global_step(sess, self._global_step),\n",
    "            cum_loss / cum_num_examples,\n",
    "            cum_correct_examples / cum_num_examples)\n",
    "        print(message)\n",
    "        if log_file:\n",
    "            print(message, file=log_file)\n",
    "            log_file.flush()"
   ]
  },
  {
   "cell_type": "code",
   "execution_count": 6,
   "metadata": {},
   "outputs": [
    {
     "name": "stdout",
     "output_type": "stream",
     "text": [
      "parameters for \"model/word_embeddings:0\": 3840000\n",
      "parameters for \"model/position_embeddings:0\": 2592\n",
      "parameters for \"model/attention_with_ff/input/kernel:0\": 20480\n",
      "parameters for \"model/attention_with_ff/input/bias:0\": 128\n",
      "parameters for \"model/attention_with_ff/input/gamma:0\": 128\n",
      "parameters for \"model/attention_with_ff/input/beta:0\": 128\n",
      "parameters for \"model/attention_with_ff/layer_0/attention/projection_weights:0\": 16384\n",
      "parameters for \"model/attention_with_ff/layer_0/attention/output:0\": 16384\n",
      "parameters for \"model/attention_with_ff/layer_0/attention/gamma:0\": 128\n",
      "parameters for \"model/attention_with_ff/layer_0/attention/beta:0\": 128\n",
      "parameters for \"model/attention_with_ff/layer_0/ff/fc1/kernel:0\": 65536\n",
      "parameters for \"model/attention_with_ff/layer_0/ff/fc1/bias:0\": 512\n",
      "parameters for \"model/attention_with_ff/layer_0/ff/fc2/kernel:0\": 65536\n",
      "parameters for \"model/attention_with_ff/layer_0/ff/fc2/bias:0\": 128\n",
      "parameters for \"model/attention_with_ff/layer_0/ff/gamma:0\": 128\n",
      "parameters for \"model/attention_with_ff/layer_0/ff/beta:0\": 128\n",
      "parameters for \"model/attention_with_ff/layer_1/attention/projection_weights:0\": 16384\n",
      "parameters for \"model/attention_with_ff/layer_1/attention/output:0\": 16384\n",
      "parameters for \"model/attention_with_ff/layer_1/attention/gamma:0\": 128\n",
      "parameters for \"model/attention_with_ff/layer_1/attention/beta:0\": 128\n",
      "parameters for \"model/attention_with_ff/layer_1/ff/fc1/kernel:0\": 65536\n",
      "parameters for \"model/attention_with_ff/layer_1/ff/fc1/bias:0\": 512\n",
      "parameters for \"model/attention_with_ff/layer_1/ff/fc2/kernel:0\": 65536\n",
      "parameters for \"model/attention_with_ff/layer_1/ff/fc2/bias:0\": 128\n",
      "parameters for \"model/attention_with_ff/layer_1/ff/gamma:0\": 128\n",
      "parameters for \"model/attention_with_ff/layer_1/ff/beta:0\": 128\n",
      "parameters for \"model/attention_with_ff/layer_2/attention/projection_weights:0\": 16384\n",
      "parameters for \"model/attention_with_ff/layer_2/attention/output:0\": 16384\n",
      "parameters for \"model/attention_with_ff/layer_2/attention/gamma:0\": 128\n",
      "parameters for \"model/attention_with_ff/layer_2/attention/beta:0\": 128\n",
      "parameters for \"model/attention_with_ff/layer_2/ff/fc1/kernel:0\": 65536\n",
      "parameters for \"model/attention_with_ff/layer_2/ff/fc1/bias:0\": 512\n",
      "parameters for \"model/attention_with_ff/layer_2/ff/fc2/kernel:0\": 65536\n",
      "parameters for \"model/attention_with_ff/layer_2/ff/fc2/bias:0\": 128\n",
      "parameters for \"model/attention_with_ff/layer_2/ff/gamma:0\": 128\n",
      "parameters for \"model/attention_with_ff/layer_2/ff/beta:0\": 128\n",
      "parameters for \"model/softmax/kernel:0\": 256000\n",
      "parameters for \"model/softmax/bias:0\": 2000\n",
      "total parameters: 4616432\n"
     ]
    }
   ],
   "source": [
    "sess = reset_tf(sess)\n",
    "\n",
    "model = EntityLinkingModel(sess, HyperParameters())\n",
    "model.build_model()\n",
    "dump_statistics()"
   ]
  },
  {
   "cell_type": "code",
   "execution_count": 7,
   "metadata": {},
   "outputs": [],
   "source": [
    "sess.run(tf.global_variables_initializer())"
   ]
  },
  {
   "cell_type": "code",
   "execution_count": null,
   "metadata": {},
   "outputs": [],
   "source": [
    "def list_files(path):\n",
    "    return sorted([os.path.join(path, file) for file in os.listdir(path)])\n",
    "\n",
    "train_set = list_files('../data/simplewiki/simplewiki-20171103.el_softmax_3.train')\n",
    "dev_set = list_files('../data/simplewiki/simplewiki-20171103.el_softmax_3.dev')\n",
    "test_set = list_files('../data/simplewiki/simplewiki-20171103.el_softmax_3.test')"
   ]
  },
  {
   "cell_type": "code",
   "execution_count": null,
   "metadata": {},
   "outputs": [
    {
     "data": {
      "application/vnd.jupyter.widget-view+json": {
       "model_id": "b4941f33dedf4c29880bcb0d135c4a47",
       "version_major": 2,
       "version_minor": 0
      },
      "text/html": [
       "<p>Failed to display Jupyter Widget of type <code>HBox</code>.</p>\n",
       "<p>\n",
       "  If you're reading this message in the Jupyter Notebook or JupyterLab Notebook, it may mean\n",
       "  that the widgets JavaScript is still loading. If this message persists, it\n",
       "  likely means that the widgets JavaScript library is either not installed or\n",
       "  not enabled. See the <a href=\"https://ipywidgets.readthedocs.io/en/stable/user_install.html\">Jupyter\n",
       "  Widgets Documentation</a> for setup instructions.\n",
       "</p>\n",
       "<p>\n",
       "  If you're reading this message in another frontend (for example, a static\n",
       "  rendering on GitHub or <a href=\"https://nbviewer.jupyter.org/\">NBViewer</a>),\n",
       "  it may mean that your frontend doesn't currently support widgets.\n",
       "</p>\n"
      ],
      "text/plain": [
       "HBox(children=(IntProgress(value=1, bar_style='info', description='train 0', max=1), HTML(value='')))"
      ]
     },
     "metadata": {},
     "output_type": "display_data"
    },
    {
     "name": "stdout",
     "output_type": "stream",
     "text": [
      "\r",
      "train 0: time=0:02:29.614871, step=971, loss=0.84561, accuracy=0.858531\n"
     ]
    },
    {
     "data": {
      "application/vnd.jupyter.widget-view+json": {
       "model_id": "872506ee414a4d759b40d7741ef45b3d",
       "version_major": 2,
       "version_minor": 0
      },
      "text/html": [
       "<p>Failed to display Jupyter Widget of type <code>HBox</code>.</p>\n",
       "<p>\n",
       "  If you're reading this message in the Jupyter Notebook or JupyterLab Notebook, it may mean\n",
       "  that the widgets JavaScript is still loading. If this message persists, it\n",
       "  likely means that the widgets JavaScript library is either not installed or\n",
       "  not enabled. See the <a href=\"https://ipywidgets.readthedocs.io/en/stable/user_install.html\">Jupyter\n",
       "  Widgets Documentation</a> for setup instructions.\n",
       "</p>\n",
       "<p>\n",
       "  If you're reading this message in another frontend (for example, a static\n",
       "  rendering on GitHub or <a href=\"https://nbviewer.jupyter.org/\">NBViewer</a>),\n",
       "  it may mean that your frontend doesn't currently support widgets.\n",
       "</p>\n"
      ],
      "text/plain": [
       "HBox(children=(IntProgress(value=1, bar_style='info', description='dev 0', max=1), HTML(value='')))"
      ]
     },
     "metadata": {},
     "output_type": "display_data"
    },
    {
     "name": "stdout",
     "output_type": "stream",
     "text": [
      "\r",
      "dev 0: time=0:00:02.091512, step=971, loss=0.258697, accuracy=0.94905\n"
     ]
    },
    {
     "data": {
      "application/vnd.jupyter.widget-view+json": {
       "model_id": "b1816780048e49efa7adcd164405de9a",
       "version_major": 2,
       "version_minor": 0
      },
      "text/html": [
       "<p>Failed to display Jupyter Widget of type <code>HBox</code>.</p>\n",
       "<p>\n",
       "  If you're reading this message in the Jupyter Notebook or JupyterLab Notebook, it may mean\n",
       "  that the widgets JavaScript is still loading. If this message persists, it\n",
       "  likely means that the widgets JavaScript library is either not installed or\n",
       "  not enabled. See the <a href=\"https://ipywidgets.readthedocs.io/en/stable/user_install.html\">Jupyter\n",
       "  Widgets Documentation</a> for setup instructions.\n",
       "</p>\n",
       "<p>\n",
       "  If you're reading this message in another frontend (for example, a static\n",
       "  rendering on GitHub or <a href=\"https://nbviewer.jupyter.org/\">NBViewer</a>),\n",
       "  it may mean that your frontend doesn't currently support widgets.\n",
       "</p>\n"
      ],
      "text/plain": [
       "HBox(children=(IntProgress(value=1, bar_style='info', description='train 1', max=1), HTML(value='')))"
      ]
     },
     "metadata": {},
     "output_type": "display_data"
    },
    {
     "name": "stdout",
     "output_type": "stream",
     "text": [
      "\r",
      "train 1: time=0:02:28.827349, step=1942, loss=0.244376, accuracy=0.949469\n"
     ]
    },
    {
     "data": {
      "application/vnd.jupyter.widget-view+json": {
       "model_id": "9537e3829d1342b089413eaf97d6224f",
       "version_major": 2,
       "version_minor": 0
      },
      "text/html": [
       "<p>Failed to display Jupyter Widget of type <code>HBox</code>.</p>\n",
       "<p>\n",
       "  If you're reading this message in the Jupyter Notebook or JupyterLab Notebook, it may mean\n",
       "  that the widgets JavaScript is still loading. If this message persists, it\n",
       "  likely means that the widgets JavaScript library is either not installed or\n",
       "  not enabled. See the <a href=\"https://ipywidgets.readthedocs.io/en/stable/user_install.html\">Jupyter\n",
       "  Widgets Documentation</a> for setup instructions.\n",
       "</p>\n",
       "<p>\n",
       "  If you're reading this message in another frontend (for example, a static\n",
       "  rendering on GitHub or <a href=\"https://nbviewer.jupyter.org/\">NBViewer</a>),\n",
       "  it may mean that your frontend doesn't currently support widgets.\n",
       "</p>\n"
      ],
      "text/plain": [
       "HBox(children=(IntProgress(value=1, bar_style='info', description='dev 1', max=1), HTML(value='')))"
      ]
     },
     "metadata": {},
     "output_type": "display_data"
    },
    {
     "name": "stdout",
     "output_type": "stream",
     "text": [
      "\r",
      "dev 1: time=0:00:01.851109, step=1942, loss=0.214394, accuracy=0.96105\n"
     ]
    },
    {
     "data": {
      "application/vnd.jupyter.widget-view+json": {
       "model_id": "1423a8e0f91b499cb940f9de96cadcc7",
       "version_major": 2,
       "version_minor": 0
      },
      "text/html": [
       "<p>Failed to display Jupyter Widget of type <code>HBox</code>.</p>\n",
       "<p>\n",
       "  If you're reading this message in the Jupyter Notebook or JupyterLab Notebook, it may mean\n",
       "  that the widgets JavaScript is still loading. If this message persists, it\n",
       "  likely means that the widgets JavaScript library is either not installed or\n",
       "  not enabled. See the <a href=\"https://ipywidgets.readthedocs.io/en/stable/user_install.html\">Jupyter\n",
       "  Widgets Documentation</a> for setup instructions.\n",
       "</p>\n",
       "<p>\n",
       "  If you're reading this message in another frontend (for example, a static\n",
       "  rendering on GitHub or <a href=\"https://nbviewer.jupyter.org/\">NBViewer</a>),\n",
       "  it may mean that your frontend doesn't currently support widgets.\n",
       "</p>\n"
      ],
      "text/plain": [
       "HBox(children=(IntProgress(value=1, bar_style='info', description='train 2', max=1), HTML(value='')))"
      ]
     },
     "metadata": {},
     "output_type": "display_data"
    },
    {
     "name": "stdout",
     "output_type": "stream",
     "text": [
      "\r",
      "train 2: time=0:02:28.854099, step=2913, loss=0.190106, accuracy=0.95754\n"
     ]
    },
    {
     "data": {
      "application/vnd.jupyter.widget-view+json": {
       "model_id": "82a7a74876c04e20ad314a82e76529da",
       "version_major": 2,
       "version_minor": 0
      },
      "text/html": [
       "<p>Failed to display Jupyter Widget of type <code>HBox</code>.</p>\n",
       "<p>\n",
       "  If you're reading this message in the Jupyter Notebook or JupyterLab Notebook, it may mean\n",
       "  that the widgets JavaScript is still loading. If this message persists, it\n",
       "  likely means that the widgets JavaScript library is either not installed or\n",
       "  not enabled. See the <a href=\"https://ipywidgets.readthedocs.io/en/stable/user_install.html\">Jupyter\n",
       "  Widgets Documentation</a> for setup instructions.\n",
       "</p>\n",
       "<p>\n",
       "  If you're reading this message in another frontend (for example, a static\n",
       "  rendering on GitHub or <a href=\"https://nbviewer.jupyter.org/\">NBViewer</a>),\n",
       "  it may mean that your frontend doesn't currently support widgets.\n",
       "</p>\n"
      ],
      "text/plain": [
       "HBox(children=(IntProgress(value=1, bar_style='info', description='dev 2', max=1), HTML(value='')))"
      ]
     },
     "metadata": {},
     "output_type": "display_data"
    },
    {
     "name": "stdout",
     "output_type": "stream",
     "text": [
      "\r",
      "dev 2: time=0:00:01.851758, step=2913, loss=0.21328, accuracy=0.9611\n"
     ]
    },
    {
     "data": {
      "application/vnd.jupyter.widget-view+json": {
       "model_id": "c17be661d7c34fe7a07d45c4041d6c2c",
       "version_major": 2,
       "version_minor": 0
      },
      "text/html": [
       "<p>Failed to display Jupyter Widget of type <code>HBox</code>.</p>\n",
       "<p>\n",
       "  If you're reading this message in the Jupyter Notebook or JupyterLab Notebook, it may mean\n",
       "  that the widgets JavaScript is still loading. If this message persists, it\n",
       "  likely means that the widgets JavaScript library is either not installed or\n",
       "  not enabled. See the <a href=\"https://ipywidgets.readthedocs.io/en/stable/user_install.html\">Jupyter\n",
       "  Widgets Documentation</a> for setup instructions.\n",
       "</p>\n",
       "<p>\n",
       "  If you're reading this message in another frontend (for example, a static\n",
       "  rendering on GitHub or <a href=\"https://nbviewer.jupyter.org/\">NBViewer</a>),\n",
       "  it may mean that your frontend doesn't currently support widgets.\n",
       "</p>\n"
      ],
      "text/plain": [
       "HBox(children=(IntProgress(value=1, bar_style='info', description='train 3', max=1), HTML(value='')))"
      ]
     },
     "metadata": {},
     "output_type": "display_data"
    },
    {
     "name": "stdout",
     "output_type": "stream",
     "text": [
      "\r",
      "train 3: time=0:02:28.850646, step=3884, loss=0.155021, accuracy=0.963826\n"
     ]
    },
    {
     "data": {
      "application/vnd.jupyter.widget-view+json": {
       "model_id": "59b2108d2c144cbe9e96d5cf6c5e98d7",
       "version_major": 2,
       "version_minor": 0
      },
      "text/html": [
       "<p>Failed to display Jupyter Widget of type <code>HBox</code>.</p>\n",
       "<p>\n",
       "  If you're reading this message in the Jupyter Notebook or JupyterLab Notebook, it may mean\n",
       "  that the widgets JavaScript is still loading. If this message persists, it\n",
       "  likely means that the widgets JavaScript library is either not installed or\n",
       "  not enabled. See the <a href=\"https://ipywidgets.readthedocs.io/en/stable/user_install.html\">Jupyter\n",
       "  Widgets Documentation</a> for setup instructions.\n",
       "</p>\n",
       "<p>\n",
       "  If you're reading this message in another frontend (for example, a static\n",
       "  rendering on GitHub or <a href=\"https://nbviewer.jupyter.org/\">NBViewer</a>),\n",
       "  it may mean that your frontend doesn't currently support widgets.\n",
       "</p>\n"
      ],
      "text/plain": [
       "HBox(children=(IntProgress(value=1, bar_style='info', description='dev 3', max=1), HTML(value='')))"
      ]
     },
     "metadata": {},
     "output_type": "display_data"
    },
    {
     "name": "stdout",
     "output_type": "stream",
     "text": [
      "\r",
      "dev 3: time=0:00:01.853718, step=3884, loss=0.206888, accuracy=0.96335\n"
     ]
    },
    {
     "data": {
      "application/vnd.jupyter.widget-view+json": {
       "model_id": "c895235dcfe546a19a38a883c9fd9fd2",
       "version_major": 2,
       "version_minor": 0
      },
      "text/html": [
       "<p>Failed to display Jupyter Widget of type <code>HBox</code>.</p>\n",
       "<p>\n",
       "  If you're reading this message in the Jupyter Notebook or JupyterLab Notebook, it may mean\n",
       "  that the widgets JavaScript is still loading. If this message persists, it\n",
       "  likely means that the widgets JavaScript library is either not installed or\n",
       "  not enabled. See the <a href=\"https://ipywidgets.readthedocs.io/en/stable/user_install.html\">Jupyter\n",
       "  Widgets Documentation</a> for setup instructions.\n",
       "</p>\n",
       "<p>\n",
       "  If you're reading this message in another frontend (for example, a static\n",
       "  rendering on GitHub or <a href=\"https://nbviewer.jupyter.org/\">NBViewer</a>),\n",
       "  it may mean that your frontend doesn't currently support widgets.\n",
       "</p>\n"
      ],
      "text/plain": [
       "HBox(children=(IntProgress(value=1, bar_style='info', description='train 4', max=1), HTML(value='')))"
      ]
     },
     "metadata": {},
     "output_type": "display_data"
    },
    {
     "name": "stdout",
     "output_type": "stream",
     "text": [
      "\r",
      "train 4: time=0:02:28.884975, step=4855, loss=0.129345, accuracy=0.968419\n"
     ]
    },
    {
     "data": {
      "application/vnd.jupyter.widget-view+json": {
       "model_id": "85073d8a4dab4644bfcaa136be2dbb88",
       "version_major": 2,
       "version_minor": 0
      },
      "text/html": [
       "<p>Failed to display Jupyter Widget of type <code>HBox</code>.</p>\n",
       "<p>\n",
       "  If you're reading this message in the Jupyter Notebook or JupyterLab Notebook, it may mean\n",
       "  that the widgets JavaScript is still loading. If this message persists, it\n",
       "  likely means that the widgets JavaScript library is either not installed or\n",
       "  not enabled. See the <a href=\"https://ipywidgets.readthedocs.io/en/stable/user_install.html\">Jupyter\n",
       "  Widgets Documentation</a> for setup instructions.\n",
       "</p>\n",
       "<p>\n",
       "  If you're reading this message in another frontend (for example, a static\n",
       "  rendering on GitHub or <a href=\"https://nbviewer.jupyter.org/\">NBViewer</a>),\n",
       "  it may mean that your frontend doesn't currently support widgets.\n",
       "</p>\n"
      ],
      "text/plain": [
       "HBox(children=(IntProgress(value=1, bar_style='info', description='dev 4', max=1), HTML(value='')))"
      ]
     },
     "metadata": {},
     "output_type": "display_data"
    },
    {
     "name": "stdout",
     "output_type": "stream",
     "text": [
      "\r",
      "dev 4: time=0:00:01.843715, step=4855, loss=0.222657, accuracy=0.96235\n"
     ]
    },
    {
     "data": {
      "application/vnd.jupyter.widget-view+json": {
       "model_id": "a4995b1e83b043778526446fa6db0351",
       "version_major": 2,
       "version_minor": 0
      },
      "text/html": [
       "<p>Failed to display Jupyter Widget of type <code>HBox</code>.</p>\n",
       "<p>\n",
       "  If you're reading this message in the Jupyter Notebook or JupyterLab Notebook, it may mean\n",
       "  that the widgets JavaScript is still loading. If this message persists, it\n",
       "  likely means that the widgets JavaScript library is either not installed or\n",
       "  not enabled. See the <a href=\"https://ipywidgets.readthedocs.io/en/stable/user_install.html\">Jupyter\n",
       "  Widgets Documentation</a> for setup instructions.\n",
       "</p>\n",
       "<p>\n",
       "  If you're reading this message in another frontend (for example, a static\n",
       "  rendering on GitHub or <a href=\"https://nbviewer.jupyter.org/\">NBViewer</a>),\n",
       "  it may mean that your frontend doesn't currently support widgets.\n",
       "</p>\n"
      ],
      "text/plain": [
       "HBox(children=(IntProgress(value=1, bar_style='info', description='train 5', max=1), HTML(value='')))"
      ]
     },
     "metadata": {},
     "output_type": "display_data"
    },
    {
     "name": "stdout",
     "output_type": "stream",
     "text": [
      "\r",
      "train 5: time=0:02:28.927630, step=5826, loss=0.108555, accuracy=0.972836\n"
     ]
    },
    {
     "data": {
      "application/vnd.jupyter.widget-view+json": {
       "model_id": "ebd65d3a39bb4086ab266fc079f68f5b",
       "version_major": 2,
       "version_minor": 0
      },
      "text/html": [
       "<p>Failed to display Jupyter Widget of type <code>HBox</code>.</p>\n",
       "<p>\n",
       "  If you're reading this message in the Jupyter Notebook or JupyterLab Notebook, it may mean\n",
       "  that the widgets JavaScript is still loading. If this message persists, it\n",
       "  likely means that the widgets JavaScript library is either not installed or\n",
       "  not enabled. See the <a href=\"https://ipywidgets.readthedocs.io/en/stable/user_install.html\">Jupyter\n",
       "  Widgets Documentation</a> for setup instructions.\n",
       "</p>\n",
       "<p>\n",
       "  If you're reading this message in another frontend (for example, a static\n",
       "  rendering on GitHub or <a href=\"https://nbviewer.jupyter.org/\">NBViewer</a>),\n",
       "  it may mean that your frontend doesn't currently support widgets.\n",
       "</p>\n"
      ],
      "text/plain": [
       "HBox(children=(IntProgress(value=1, bar_style='info', description='dev 5', max=1), HTML(value='')))"
      ]
     },
     "metadata": {},
     "output_type": "display_data"
    },
    {
     "name": "stdout",
     "output_type": "stream",
     "text": [
      "\r",
      "dev 5: time=0:00:01.853467, step=5826, loss=0.210935, accuracy=0.9658\n"
     ]
    },
    {
     "data": {
      "application/vnd.jupyter.widget-view+json": {
       "model_id": "c26a9a3e4084433ca863ad70aaf2f73a",
       "version_major": 2,
       "version_minor": 0
      },
      "text/html": [
       "<p>Failed to display Jupyter Widget of type <code>HBox</code>.</p>\n",
       "<p>\n",
       "  If you're reading this message in the Jupyter Notebook or JupyterLab Notebook, it may mean\n",
       "  that the widgets JavaScript is still loading. If this message persists, it\n",
       "  likely means that the widgets JavaScript library is either not installed or\n",
       "  not enabled. See the <a href=\"https://ipywidgets.readthedocs.io/en/stable/user_install.html\">Jupyter\n",
       "  Widgets Documentation</a> for setup instructions.\n",
       "</p>\n",
       "<p>\n",
       "  If you're reading this message in another frontend (for example, a static\n",
       "  rendering on GitHub or <a href=\"https://nbviewer.jupyter.org/\">NBViewer</a>),\n",
       "  it may mean that your frontend doesn't currently support widgets.\n",
       "</p>\n"
      ],
      "text/plain": [
       "HBox(children=(IntProgress(value=1, bar_style='info', description='train 6', max=1), HTML(value='')))"
      ]
     },
     "metadata": {},
     "output_type": "display_data"
    },
    {
     "name": "stdout",
     "output_type": "stream",
     "text": [
      "\r",
      "train 6: time=0:02:28.916033, step=6797, loss=0.0933886, accuracy=0.976019\n"
     ]
    },
    {
     "data": {
      "application/vnd.jupyter.widget-view+json": {
       "model_id": "9846f095cb8c4bbebc7281f5980a2dd2",
       "version_major": 2,
       "version_minor": 0
      },
      "text/html": [
       "<p>Failed to display Jupyter Widget of type <code>HBox</code>.</p>\n",
       "<p>\n",
       "  If you're reading this message in the Jupyter Notebook or JupyterLab Notebook, it may mean\n",
       "  that the widgets JavaScript is still loading. If this message persists, it\n",
       "  likely means that the widgets JavaScript library is either not installed or\n",
       "  not enabled. See the <a href=\"https://ipywidgets.readthedocs.io/en/stable/user_install.html\">Jupyter\n",
       "  Widgets Documentation</a> for setup instructions.\n",
       "</p>\n",
       "<p>\n",
       "  If you're reading this message in another frontend (for example, a static\n",
       "  rendering on GitHub or <a href=\"https://nbviewer.jupyter.org/\">NBViewer</a>),\n",
       "  it may mean that your frontend doesn't currently support widgets.\n",
       "</p>\n"
      ],
      "text/plain": [
       "HBox(children=(IntProgress(value=1, bar_style='info', description='dev 6', max=1), HTML(value='')))"
      ]
     },
     "metadata": {},
     "output_type": "display_data"
    },
    {
     "name": "stdout",
     "output_type": "stream",
     "text": [
      "\r",
      "dev 6: time=0:00:01.857200, step=6797, loss=0.239637, accuracy=0.96355\n"
     ]
    },
    {
     "data": {
      "application/vnd.jupyter.widget-view+json": {
       "model_id": "2ed6163f8d3f4e648768e3cc85e508a9",
       "version_major": 2,
       "version_minor": 0
      },
      "text/html": [
       "<p>Failed to display Jupyter Widget of type <code>HBox</code>.</p>\n",
       "<p>\n",
       "  If you're reading this message in the Jupyter Notebook or JupyterLab Notebook, it may mean\n",
       "  that the widgets JavaScript is still loading. If this message persists, it\n",
       "  likely means that the widgets JavaScript library is either not installed or\n",
       "  not enabled. See the <a href=\"https://ipywidgets.readthedocs.io/en/stable/user_install.html\">Jupyter\n",
       "  Widgets Documentation</a> for setup instructions.\n",
       "</p>\n",
       "<p>\n",
       "  If you're reading this message in another frontend (for example, a static\n",
       "  rendering on GitHub or <a href=\"https://nbviewer.jupyter.org/\">NBViewer</a>),\n",
       "  it may mean that your frontend doesn't currently support widgets.\n",
       "</p>\n"
      ],
      "text/plain": [
       "HBox(children=(IntProgress(value=1, bar_style='info', description='train 7', max=1), HTML(value='')))"
      ]
     },
     "metadata": {},
     "output_type": "display_data"
    },
    {
     "name": "stdout",
     "output_type": "stream",
     "text": [
      "\r",
      "train 7: time=0:02:28.932654, step=7768, loss=0.0812176, accuracy=0.979149\n"
     ]
    },
    {
     "data": {
      "application/vnd.jupyter.widget-view+json": {
       "model_id": "d2820bee495a499b8e3c0135dc0e1a85",
       "version_major": 2,
       "version_minor": 0
      },
      "text/html": [
       "<p>Failed to display Jupyter Widget of type <code>HBox</code>.</p>\n",
       "<p>\n",
       "  If you're reading this message in the Jupyter Notebook or JupyterLab Notebook, it may mean\n",
       "  that the widgets JavaScript is still loading. If this message persists, it\n",
       "  likely means that the widgets JavaScript library is either not installed or\n",
       "  not enabled. See the <a href=\"https://ipywidgets.readthedocs.io/en/stable/user_install.html\">Jupyter\n",
       "  Widgets Documentation</a> for setup instructions.\n",
       "</p>\n",
       "<p>\n",
       "  If you're reading this message in another frontend (for example, a static\n",
       "  rendering on GitHub or <a href=\"https://nbviewer.jupyter.org/\">NBViewer</a>),\n",
       "  it may mean that your frontend doesn't currently support widgets.\n",
       "</p>\n"
      ],
      "text/plain": [
       "HBox(children=(IntProgress(value=1, bar_style='info', description='dev 7', max=1), HTML(value='')))"
      ]
     },
     "metadata": {},
     "output_type": "display_data"
    },
    {
     "name": "stdout",
     "output_type": "stream",
     "text": [
      "\r",
      "dev 7: time=0:00:01.840130, step=7768, loss=0.242855, accuracy=0.9658\n"
     ]
    },
    {
     "data": {
      "application/vnd.jupyter.widget-view+json": {
       "model_id": "9bb3cfe20eea4037a3f23e29643fa863",
       "version_major": 2,
       "version_minor": 0
      },
      "text/html": [
       "<p>Failed to display Jupyter Widget of type <code>HBox</code>.</p>\n",
       "<p>\n",
       "  If you're reading this message in the Jupyter Notebook or JupyterLab Notebook, it may mean\n",
       "  that the widgets JavaScript is still loading. If this message persists, it\n",
       "  likely means that the widgets JavaScript library is either not installed or\n",
       "  not enabled. See the <a href=\"https://ipywidgets.readthedocs.io/en/stable/user_install.html\">Jupyter\n",
       "  Widgets Documentation</a> for setup instructions.\n",
       "</p>\n",
       "<p>\n",
       "  If you're reading this message in another frontend (for example, a static\n",
       "  rendering on GitHub or <a href=\"https://nbviewer.jupyter.org/\">NBViewer</a>),\n",
       "  it may mean that your frontend doesn't currently support widgets.\n",
       "</p>\n"
      ],
      "text/plain": [
       "HBox(children=(IntProgress(value=1, bar_style='info', description='train 8', max=1), HTML(value='')))"
      ]
     },
     "metadata": {},
     "output_type": "display_data"
    },
    {
     "name": "stdout",
     "output_type": "stream",
     "text": [
      "\r",
      "train 8: time=0:02:28.972083, step=8739, loss=0.0722379, accuracy=0.981295\n"
     ]
    },
    {
     "data": {
      "application/vnd.jupyter.widget-view+json": {
       "model_id": "39b0c6a925d440e9bd0287a35d2f8599",
       "version_major": 2,
       "version_minor": 0
      },
      "text/html": [
       "<p>Failed to display Jupyter Widget of type <code>HBox</code>.</p>\n",
       "<p>\n",
       "  If you're reading this message in the Jupyter Notebook or JupyterLab Notebook, it may mean\n",
       "  that the widgets JavaScript is still loading. If this message persists, it\n",
       "  likely means that the widgets JavaScript library is either not installed or\n",
       "  not enabled. See the <a href=\"https://ipywidgets.readthedocs.io/en/stable/user_install.html\">Jupyter\n",
       "  Widgets Documentation</a> for setup instructions.\n",
       "</p>\n",
       "<p>\n",
       "  If you're reading this message in another frontend (for example, a static\n",
       "  rendering on GitHub or <a href=\"https://nbviewer.jupyter.org/\">NBViewer</a>),\n",
       "  it may mean that your frontend doesn't currently support widgets.\n",
       "</p>\n"
      ],
      "text/plain": [
       "HBox(children=(IntProgress(value=1, bar_style='info', description='dev 8', max=1), HTML(value='')))"
      ]
     },
     "metadata": {},
     "output_type": "display_data"
    },
    {
     "name": "stdout",
     "output_type": "stream",
     "text": [
      "\r",
      "dev 8: time=0:00:01.856607, step=8739, loss=0.238531, accuracy=0.9648\n"
     ]
    },
    {
     "data": {
      "application/vnd.jupyter.widget-view+json": {
       "model_id": "839e2a5ba0344d889ada50e04d057075",
       "version_major": 2,
       "version_minor": 0
      },
      "text/html": [
       "<p>Failed to display Jupyter Widget of type <code>HBox</code>.</p>\n",
       "<p>\n",
       "  If you're reading this message in the Jupyter Notebook or JupyterLab Notebook, it may mean\n",
       "  that the widgets JavaScript is still loading. If this message persists, it\n",
       "  likely means that the widgets JavaScript library is either not installed or\n",
       "  not enabled. See the <a href=\"https://ipywidgets.readthedocs.io/en/stable/user_install.html\">Jupyter\n",
       "  Widgets Documentation</a> for setup instructions.\n",
       "</p>\n",
       "<p>\n",
       "  If you're reading this message in another frontend (for example, a static\n",
       "  rendering on GitHub or <a href=\"https://nbviewer.jupyter.org/\">NBViewer</a>),\n",
       "  it may mean that your frontend doesn't currently support widgets.\n",
       "</p>\n"
      ],
      "text/plain": [
       "HBox(children=(IntProgress(value=1, bar_style='info', description='train 9', max=1), HTML(value='')))"
      ]
     },
     "metadata": {},
     "output_type": "display_data"
    }
   ],
   "source": [
    "with open('../logs/simplewiki/mediawiki_el_softmax_2.log', 'wt') as f:\n",
    "    for i in range(20):\n",
    "        model.process(\n",
    "            train_set,\n",
    "            header = 'train %d' % i,\n",
    "            train = True,\n",
    "            log_file = f)\n",
    "        model.process(\n",
    "            dev_set,\n",
    "            header = 'dev %d' % i,\n",
    "            train = False,\n",
    "            log_file = f)"
   ]
  },
  {
   "cell_type": "code",
   "execution_count": 24,
   "metadata": {},
   "outputs": [],
   "source": [
    "with open('../logs/simplewiki/mediawiki_el_softmax_2.log', 'rt') as f:\n",
    "    lines = ''.join([l for l in f])"
   ]
  },
  {
   "cell_type": "code",
   "execution_count": 25,
   "metadata": {},
   "outputs": [
    {
     "data": {
      "image/png": "[encoded data removed]",
      "text/plain": [
       "<matplotlib.figure.Figure at 0x7fe9886fa400>"
      ]
     },
     "metadata": {},
     "output_type": "display_data"
    }
   ],
   "source": [
    "plt.plot([float(v) for v in re.findall(r'train.*loss=(\\d+\\.\\d+)', lines)])\n",
    "plt.plot([float(v) for v in re.findall(r'dev.*loss=(\\d+\\.\\d+)', lines)])\n",
    "plt.show()"
   ]
  },
  {
   "cell_type": "code",
   "execution_count": 26,
   "metadata": {},
   "outputs": [
    {
     "data": {
      "image/png": "[encoded data removed]",
      "text/plain": [
       "<matplotlib.figure.Figure at 0x7fe9886a03c8>"
      ]
     },
     "metadata": {},
     "output_type": "display_data"
    }
   ],
   "source": [
    "plt.plot([float(v) for v in re.findall(r'train.*accuracy=(\\d+\\.\\d+)', lines)])\n",
    "plt.plot([float(v) for v in re.findall(r'dev.*accuracy=(\\d+\\.\\d+)', lines)])\n",
    "plt.show()"
   ]
  },
  {
   "cell_type": "code",
   "execution_count": 18,
   "metadata": {},
   "outputs": [
    {
     "name": "stdout",
     "output_type": "stream",
     "text": [
      "INFO:tensorflow:No assets to save.\n",
      "INFO:tensorflow:No assets to write.\n",
      "INFO:tensorflow:No assets to save.\n",
      "INFO:tensorflow:No assets to write.\n",
      "INFO:tensorflow:SavedModel written to: b'../models/simplewiki/el_softmax_2/saved_model.pb'\n"
     ]
    },
    {
     "data": {
      "text/plain": [
       "b'../models/simplewiki/el_softmax_2/saved_model.pb'"
      ]
     },
     "execution_count": 18,
     "metadata": {},
     "output_type": "execute_result"
    }
   ],
   "source": [
    "shutil.rmtree(\n",
    "    '../models/simplewiki/el_softmax_2',\n",
    "    ignore_errors = True)\n",
    "builder = tf.saved_model.builder.SavedModelBuilder(\n",
    "    '../models/simplewiki/el_softmax_2')\n",
    "builder.add_meta_graph_and_variables(\n",
    "    sess,\n",
    "    [tf.saved_model.tag_constants.TRAINING])\n",
    "builder.add_meta_graph(\n",
    "    [tf.saved_model.tag_constants.SERVING])\n",
    "builder.save()"
   ]
  },
  {
   "cell_type": "markdown",
   "metadata": {},
   "source": [
    "# Error Analysis"
   ]
  },
  {
   "cell_type": "code",
   "execution_count": 5,
   "metadata": {},
   "outputs": [],
   "source": [
    "sess = reset_tf(sess)"
   ]
  },
  {
   "cell_type": "code",
   "execution_count": 6,
   "metadata": {},
   "outputs": [
    {
     "name": "stdout",
     "output_type": "stream",
     "text": [
      "INFO:tensorflow:Restoring parameters from b'../models/simplewiki/el_softmax_2/variables/variables'\n"
     ]
    }
   ],
   "source": [
    "_ = tf.saved_model.loader.load(\n",
    "    sess,\n",
    "    [tf.saved_model.tag_constants.TRAINING],\n",
    "    '../models/simplewiki/el_softmax_2')"
   ]
  },
  {
   "cell_type": "code",
   "execution_count": 8,
   "metadata": {},
   "outputs": [
    {
     "name": "stdout",
     "output_type": "stream",
     "text": [
      "parameters for \"model/word_embeddings:0\": 7680000\n",
      "parameters for \"model/position_embeddings:0\": 1296\n",
      "parameters for \"model/attention_with_ff/input/kernel:0\": 69632\n",
      "parameters for \"model/attention_with_ff/input/bias:0\": 256\n",
      "parameters for \"model/attention_with_ff/input/gamma:0\": 256\n",
      "parameters for \"model/attention_with_ff/input/beta:0\": 256\n",
      "parameters for \"model/attention_with_ff/layer_0/attention/projection_weights:0\": 65536\n",
      "parameters for \"model/attention_with_ff/layer_0/attention/output:0\": 65536\n",
      "parameters for \"model/attention_with_ff/layer_0/attention/gamma:0\": 256\n",
      "parameters for \"model/attention_with_ff/layer_0/attention/beta:0\": 256\n",
      "parameters for \"model/attention_with_ff/layer_0/ff/fc1/kernel:0\": 131072\n",
      "parameters for \"model/attention_with_ff/layer_0/ff/fc1/bias:0\": 512\n",
      "parameters for \"model/attention_with_ff/layer_0/ff/fc2/kernel:0\": 131072\n",
      "parameters for \"model/attention_with_ff/layer_0/ff/fc2/bias:0\": 256\n",
      "parameters for \"model/attention_with_ff/layer_0/ff/gamma:0\": 256\n",
      "parameters for \"model/attention_with_ff/layer_0/ff/beta:0\": 256\n",
      "parameters for \"model/attention_with_ff/layer_1/attention/projection_weights:0\": 65536\n",
      "parameters for \"model/attention_with_ff/layer_1/attention/output:0\": 65536\n",
      "parameters for \"model/attention_with_ff/layer_1/attention/gamma:0\": 256\n",
      "parameters for \"model/attention_with_ff/layer_1/attention/beta:0\": 256\n",
      "parameters for \"model/attention_with_ff/layer_1/ff/fc1/kernel:0\": 131072\n",
      "parameters for \"model/attention_with_ff/layer_1/ff/fc1/bias:0\": 512\n",
      "parameters for \"model/attention_with_ff/layer_1/ff/fc2/kernel:0\": 131072\n",
      "parameters for \"model/attention_with_ff/layer_1/ff/fc2/bias:0\": 256\n",
      "parameters for \"model/attention_with_ff/layer_1/ff/gamma:0\": 256\n",
      "parameters for \"model/attention_with_ff/layer_1/ff/beta:0\": 256\n",
      "parameters for \"model/attention_with_ff/layer_2/attention/projection_weights:0\": 65536\n",
      "parameters for \"model/attention_with_ff/layer_2/attention/output:0\": 65536\n",
      "parameters for \"model/attention_with_ff/layer_2/attention/gamma:0\": 256\n",
      "parameters for \"model/attention_with_ff/layer_2/attention/beta:0\": 256\n",
      "parameters for \"model/attention_with_ff/layer_2/ff/fc1/kernel:0\": 131072\n",
      "parameters for \"model/attention_with_ff/layer_2/ff/fc1/bias:0\": 512\n",
      "parameters for \"model/attention_with_ff/layer_2/ff/fc2/kernel:0\": 131072\n",
      "parameters for \"model/attention_with_ff/layer_2/ff/fc2/bias:0\": 256\n",
      "parameters for \"model/attention_with_ff/layer_2/ff/gamma:0\": 256\n",
      "parameters for \"model/attention_with_ff/layer_2/ff/beta:0\": 256\n",
      "parameters for \"model/softmax/kernel:0\": 512000\n",
      "parameters for \"model/softmax/bias:0\": 2000\n",
      "total parameters: 9450720\n"
     ]
    }
   ],
   "source": [
    "dump_statistics()"
   ]
  },
  {
   "cell_type": "code",
   "execution_count": 10,
   "metadata": {},
   "outputs": [],
   "source": [
    "dataset_iterator = tf.get_default_graph().get_operation_by_name('dataset/MakeIterator')\n",
    "dataset_filenames = tf.get_default_graph().get_tensor_by_name('dataset/dataset_filenames:0')\n",
    "training = tf.get_default_graph().get_tensor_by_name('model/training:0')\n",
    "context_word_ids = tf.get_default_graph().get_tensor_by_name('dataset/context_word_ids:0')\n",
    "context_positions = tf.get_default_graph().get_tensor_by_name('dataset/Reshape:0')\n",
    "link_mask = tf.get_default_graph().get_tensor_by_name('dataset/link_mask:0')\n",
    "target_labels = tf.get_default_graph().get_tensor_by_name('dataset/target_labels:0')\n",
    "output_labels = tf.get_default_graph().get_tensor_by_name('train/ArgMax:0')"
   ]
  },
  {
   "cell_type": "code",
   "execution_count": 11,
   "metadata": {},
   "outputs": [],
   "source": [
    "with open('../data/simplewiki/simplewiki-20171103.el_softmax_2.vocab.txt', 'rt') as f:\n",
    "    vocab = [w.strip() for w in f]"
   ]
  },
  {
   "cell_type": "code",
   "execution_count": 12,
   "metadata": {},
   "outputs": [],
   "source": [
    "with open('../data/simplewiki/simplewiki-20171103.el_softmax_2.targets.txt', 'rt') as f:\n",
    "    targets = [t.strip() for t in f]"
   ]
  },
  {
   "cell_type": "code",
   "execution_count": 13,
   "metadata": {},
   "outputs": [],
   "source": [
    "def compute_negative_examples(filenames, limit = None):\n",
    "    # initialize dataset iterator\n",
    "    sess.run(dataset_iterator, feed_dict = {\n",
    "        dataset_filenames: filenames,\n",
    "        training: False })\n",
    "    \n",
    "    examples = []\n",
    "    \n",
    "    while True:\n",
    "        # compute minibatch\n",
    "        try:\n",
    "            (curr_context_word_ids, curr_target_labels, curr_output_labels, curr_link_mask) = sess.run(\n",
    "                (context_word_ids, target_labels, output_labels, link_mask),\n",
    "                feed_dict = { training: False })\n",
    "        except tf.errors.OutOfRangeError:\n",
    "                break\n",
    "\n",
    "        # loop through examples\n",
    "        for c, t, o, l in zip(curr_context_word_ids, curr_target_labels, curr_output_labels, curr_link_mask):\n",
    "            # skip accurate inferences\n",
    "            if t == o:\n",
    "                continue\n",
    "                \n",
    "            # stop if limit reached\n",
    "            if limit and len(examples) >= limit:\n",
    "                break\n",
    "            \n",
    "            # decode context\n",
    "            words = []\n",
    "            link_words = []\n",
    "            for word_id, link_mask_flag in zip(c, l):\n",
    "                word = vocab[word_id]\n",
    "                if link_mask_flag:\n",
    "                    words.append('_%s_' % word)\n",
    "                    link_words.append(word)\n",
    "                else:\n",
    "                    words.append(word)\n",
    "\n",
    "            # decode example\n",
    "            examples.append([\n",
    "                targets[t], # target label\n",
    "                targets[o], # output label\n",
    "                ' '.join(link_words), # link\n",
    "                ' '.join(words) ]) # context\n",
    "    \n",
    "    return examples"
   ]
  },
  {
   "cell_type": "code",
   "execution_count": 14,
   "metadata": {},
   "outputs": [],
   "source": [
    "examples = compute_negative_examples([\n",
    "    '../data/simplewiki/simplewiki-20171103.el_softmax_2.dev/examples.0000000000.tfrecords.gz',\n",
    "    '../data/simplewiki/simplewiki-20171103.el_softmax_2.dev/examples.0000010000.tfrecords.gz'])"
   ]
  },
  {
   "cell_type": "code",
   "execution_count": 15,
   "metadata": {},
   "outputs": [
    {
     "data": {
      "text/plain": [
       "487"
      ]
     },
     "execution_count": 15,
     "metadata": {},
     "output_type": "execute_result"
    }
   ],
   "source": [
    "len(examples)"
   ]
  },
  {
   "cell_type": "code",
   "execution_count": 16,
   "metadata": {},
   "outputs": [
    {
     "data": {
      "text/plain": [
       "['PRESIDENT OF THE UNITED STATES',\n",
       " 'PRESIDENT',\n",
       " 'president',\n",
       " 'has the second - highest number of people in the state , after st. louis county . it has two county capitals , independence and kansas city . the county was created december 15 , 1826. it was named for _president_ andrew jackson ( elected 1828 ) . <OOB> <OOB> <OOB> <OOB> <OOB> <OOB> <OOB> <OOB> <OOB> <OOB> <OOB> <OOB> <OOB> <OOB> <OOB> <OOB> <OOB> <OOB> <OOB> <OOB> <OOB> <OOB> <OOB> <OOB> <OOB> <OOB> <OOB> <OOB> <OOB> <OOB> <OOB> <OOB> <OOB>']"
      ]
     },
     "execution_count": 16,
     "metadata": {},
     "output_type": "execute_result"
    }
   ],
   "source": [
    "examples[6]"
   ]
  },
  {
   "cell_type": "code",
   "execution_count": 22,
   "metadata": {},
   "outputs": [],
   "source": [
    "import csv\n",
    "with open('/tmp/errors.csv', 'wt') as f:\n",
    "    writer = csv.writer(f)\n",
    "    writer.writerow(['target', 'output', 'link', 'context'])\n",
    "    for example in examples:\n",
    "        writer.writerow(example)"
   ]
  },
  {
   "cell_type": "code",
   "execution_count": null,
   "metadata": {},
   "outputs": [],
   "source": [
    "# with open('../logs/simplewiki/mediawiki_el_softmax_1.multihead.log.old', 'wt') as f:\n",
    "#     print(lines)"
   ]
  },
  {
   "cell_type": "code",
   "execution_count": null,
   "metadata": {},
   "outputs": [],
   "source": [
    "# with open('../logs/simplewiki/mediawiki_el_softmax_1.multihead.log', 'rt') as f:\n",
    "#     lines = '\\n'.join([l for l in f])\n",
    "    \n",
    "# plt.plot([float(v) for v in re.findall(r'train.*loss=(\\d+\\.\\d+)', lines)], label='train')\n",
    "# plt.plot([float(v) for v in re.findall(r'dev.*loss=(\\d+\\.\\d+)', lines)], label='dev')\n",
    "# plt.title('loss')\n",
    "# plt.legend()\n",
    "# plt.show()\n",
    "# plt.plot([float(v) for v in re.findall(r'train.*accuracy=(\\d+\\.\\d+)', lines)], label='train')\n",
    "# plt.plot([float(v) for v in re.findall(r'dev.*accuracy=(\\d+\\.\\d+)', lines)], label='dev')\n",
    "# plt.title('accuracy')\n",
    "# plt.legend()\n",
    "# plt.show()"
   ]
  },
  {
   "cell_type": "code",
   "execution_count": null,
   "metadata": {},
   "outputs": [],
   "source": []
  }
 ],
 "metadata": {
  "kernelspec": {
   "display_name": "Python 3",
   "language": "python",
   "name": "python3"
  },
  "language_info": {
   "codemirror_mode": {
    "name": "ipython",
    "version": 3
   },
   "file_extension": ".py",
   "mimetype": "text/x-python",
   "name": "python",
   "nbconvert_exporter": "python",
   "pygments_lexer": "ipython3",
   "version": "3.5.4"
  }
 },
 "nbformat": 4,
 "nbformat_minor": 2
}
