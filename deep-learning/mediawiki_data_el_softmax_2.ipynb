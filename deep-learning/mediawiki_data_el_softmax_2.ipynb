{
 "cells": [
  {
   "cell_type": "code",
   "execution_count": 1,
   "metadata": {},
   "outputs": [],
   "source": [
    "import nltk\n",
    "import re\n",
    "import gzip\n",
    "import json\n",
    "import collections\n",
    "import tensorflow as tf\n",
    "import random\n",
    "import shutil\n",
    "import os\n",
    "from tqdm import tqdm_notebook\n",
    "from intervaltree import Interval, IntervalTree"
   ]
  },
  {
   "cell_type": "code",
   "execution_count": 2,
   "metadata": {},
   "outputs": [],
   "source": [
    "with gzip.open('../data/simplewiki/simplewiki-20171103.parsed.norm.json.gz', 'rt', encoding='utf-8') as f:\n",
    "    wiki = json.load(f)"
   ]
  },
  {
   "cell_type": "code",
   "execution_count": 3,
   "metadata": {},
   "outputs": [],
   "source": [
    "def align_tokens(tokens, text):\n",
    "    point = 0\n",
    "    offsets = []\n",
    "    for token in tokens:\n",
    "        if token == '``' or token == \"''\":\n",
    "            token = '\"'\n",
    "        try:\n",
    "            start = text.index(token, point)\n",
    "        except ValueError:\n",
    "            raise ValueError('substring \"{}\" not found in \"{}\"'.format(token, text))\n",
    "        point = start + len(token)\n",
    "        offsets.append((start, point))\n",
    "    return offsets\n",
    "\n",
    "def span_tokenize(text):\n",
    "    return align_tokens(nltk.word_tokenize(text), text)\n",
    "\n",
    "def word_tokenize(text):\n",
    "    return (('\"' if word == '``' or word == \"''\" else word) for word in nltk.word_tokenize(text))"
   ]
  },
  {
   "cell_type": "code",
   "execution_count": 4,
   "metadata": {},
   "outputs": [
    {
     "data": {
      "application/vnd.jupyter.widget-view+json": {
       "model_id": "5c40fb80cdd148c8ae5b0fcc6d35dbe1",
       "version_major": 2,
       "version_minor": 0
      },
      "text/html": [
       "<p>Failed to display Jupyter Widget of type <code>HBox</code>.</p>\n",
       "<p>\n",
       "  If you're reading this message in the Jupyter Notebook or JupyterLab Notebook, it may mean\n",
       "  that the widgets JavaScript is still loading. If this message persists, it\n",
       "  likely means that the widgets JavaScript library is either not installed or\n",
       "  not enabled. See the <a href=\"https://ipywidgets.readthedocs.io/en/stable/user_install.html\">Jupyter\n",
       "  Widgets Documentation</a> for setup instructions.\n",
       "</p>\n",
       "<p>\n",
       "  If you're reading this message in another frontend (for example, a static\n",
       "  rendering on GitHub or <a href=\"https://nbviewer.jupyter.org/\">NBViewer</a>),\n",
       "  it may mean that your frontend doesn't currently support widgets.\n",
       "</p>\n"
      ],
      "text/plain": [
       "HBox(children=(IntProgress(value=0, max=125947), HTML(value='')))"
      ]
     },
     "metadata": {},
     "output_type": "display_data"
    },
    {
     "name": "stdout",
     "output_type": "stream",
     "text": [
      "\r"
     ]
    }
   ],
   "source": [
    "counter = collections.Counter()\n",
    "for _, page in tqdm_notebook(wiki.items(), leave=False):\n",
    "    for link in page['links']:\n",
    "        counter[link['target']] += 1\n",
    "id_to_target_2k = list(target for target, _ in counter.most_common(2000))\n",
    "target_to_id_2k = dict((target, target_id) for target_id, target in enumerate(id_to_target_2k))\n",
    "top_2k_targets = set(id_to_target_2k)"
   ]
  },
  {
   "cell_type": "code",
   "execution_count": 5,
   "metadata": {},
   "outputs": [],
   "source": [
    "def generate_examples_with_words(page, context_width, valid_link_targets):\n",
    "    page_id = page['id']\n",
    "    page_links = page['links']\n",
    "    page_text = page['text']\n",
    "    \n",
    "    link_spans = IntervalTree()\n",
    "    for link in page_links:\n",
    "        link_spans[link['start']:link['end']] = link['target']\n",
    "\n",
    "    word_spans = span_tokenize(page_text)\n",
    "    for i, word_span in enumerate(word_spans):\n",
    "        for target in link_spans[word_span[0]:word_span[1]]:\n",
    "            if target.data not in valid_link_targets:\n",
    "                continue\n",
    "            context = []\n",
    "            link_mask = []\n",
    "            for j in range(i - context_width, i + context_width + 1):\n",
    "                if j < 0 or j >= len(word_spans):\n",
    "                    context.append('<OOB>')\n",
    "                    link_mask.append(False)\n",
    "                else:\n",
    "                    s = word_spans[j]\n",
    "                    w = page_text[s[0]:s[1]]\n",
    "                    context.append(w)\n",
    "                    link_mask.append(target.overlaps(s[0], s[1]))\n",
    "            yield (page_id, target.data, context, link_mask)"
   ]
  },
  {
   "cell_type": "code",
   "execution_count": 6,
   "metadata": {},
   "outputs": [
    {
     "data": {
      "application/vnd.jupyter.widget-view+json": {
       "model_id": "5263e65d90e4458c98a9712b18758022",
       "version_major": 2,
       "version_minor": 0
      },
      "text/html": [
       "<p>Failed to display Jupyter Widget of type <code>HBox</code>.</p>\n",
       "<p>\n",
       "  If you're reading this message in the Jupyter Notebook or JupyterLab Notebook, it may mean\n",
       "  that the widgets JavaScript is still loading. If this message persists, it\n",
       "  likely means that the widgets JavaScript library is either not installed or\n",
       "  not enabled. See the <a href=\"https://ipywidgets.readthedocs.io/en/stable/user_install.html\">Jupyter\n",
       "  Widgets Documentation</a> for setup instructions.\n",
       "</p>\n",
       "<p>\n",
       "  If you're reading this message in another frontend (for example, a static\n",
       "  rendering on GitHub or <a href=\"https://nbviewer.jupyter.org/\">NBViewer</a>),\n",
       "  it may mean that your frontend doesn't currently support widgets.\n",
       "</p>\n"
      ],
      "text/plain": [
       "HBox(children=(IntProgress(value=0, max=125947), HTML(value='')))"
      ]
     },
     "metadata": {},
     "output_type": "display_data"
    },
    {
     "name": "stdout",
     "output_type": "stream",
     "text": [
      "\r"
     ]
    }
   ],
   "source": [
    "examples = []\n",
    "for _, page in tqdm_notebook(wiki.items(), leave=False):\n",
    "    examples.extend(generate_examples_with_words(page, 40, top_2k_targets))\n",
    "random.shuffle(examples)"
   ]
  },
  {
   "cell_type": "code",
   "execution_count": 7,
   "metadata": {},
   "outputs": [
    {
     "data": {
      "text/plain": [
       "(20000, 20000, 635125)"
      ]
     },
     "execution_count": 7,
     "metadata": {},
     "output_type": "execute_result"
    }
   ],
   "source": [
    "dev_set_size = 20000\n",
    "test_set_size = 20000\n",
    "\n",
    "dev_set = examples[:dev_set_size]\n",
    "test_set = examples[dev_set_size:dev_set_size+test_set_size]\n",
    "train_set = examples[dev_set_size+test_set_size:]\n",
    "\n",
    "len(dev_set), len(test_set), len(train_set)"
   ]
  },
  {
   "cell_type": "code",
   "execution_count": 8,
   "metadata": {},
   "outputs": [
    {
     "data": {
      "application/vnd.jupyter.widget-view+json": {
       "model_id": "b1796643211f4e058742d2fe392930ab",
       "version_major": 2,
       "version_minor": 0
      },
      "text/html": [
       "<p>Failed to display Jupyter Widget of type <code>HBox</code>.</p>\n",
       "<p>\n",
       "  If you're reading this message in the Jupyter Notebook or JupyterLab Notebook, it may mean\n",
       "  that the widgets JavaScript is still loading. If this message persists, it\n",
       "  likely means that the widgets JavaScript library is either not installed or\n",
       "  not enabled. See the <a href=\"https://ipywidgets.readthedocs.io/en/stable/user_install.html\">Jupyter\n",
       "  Widgets Documentation</a> for setup instructions.\n",
       "</p>\n",
       "<p>\n",
       "  If you're reading this message in another frontend (for example, a static\n",
       "  rendering on GitHub or <a href=\"https://nbviewer.jupyter.org/\">NBViewer</a>),\n",
       "  it may mean that your frontend doesn't currently support widgets.\n",
       "</p>\n"
      ],
      "text/plain": [
       "HBox(children=(IntProgress(value=0, max=675125), HTML(value='')))"
      ]
     },
     "metadata": {},
     "output_type": "display_data"
    },
    {
     "name": "stdout",
     "output_type": "stream",
     "text": [
      "\r"
     ]
    }
   ],
   "source": [
    "counter = collections.Counter()\n",
    "for _, _, context, _ in tqdm_notebook(examples, leave=False):\n",
    "    for word in context:\n",
    "        if word == '<OOB>':\n",
    "            continue\n",
    "        counter[word] += 1"
   ]
  },
  {
   "cell_type": "code",
   "execution_count": 9,
   "metadata": {},
   "outputs": [],
   "source": [
    "id_to_word_30k = [word for word, _ in counter.most_common(30000-2)] + ['<UNK>', '<OOB>']\n",
    "word_to_id_30k = dict((word, word_id) for word_id, word in enumerate(id_to_word_30k))"
   ]
  },
  {
   "cell_type": "code",
   "execution_count": 10,
   "metadata": {},
   "outputs": [],
   "source": [
    "def convert_to_tfrecord(example):\n",
    "    page_id, target, context, link_mask = example\n",
    "    \n",
    "    # convert target to ID\n",
    "    target_id = target_to_id_2k[target]\n",
    "    \n",
    "    # convert context to IDs\n",
    "    context_word_ids = []\n",
    "    for word in context:\n",
    "        word_id = word_to_id_30k.get(word)\n",
    "        if word_id is None:\n",
    "            word_id = word_to_id_30k['<UNK>']\n",
    "        context_word_ids.append(word_id)\n",
    "\n",
    "    # convert link mask to integers\n",
    "    link_mask_ints = [int(l) for l in link_mask]\n",
    "    \n",
    "    return tf.train.Example(features = tf.train.Features(feature = {\n",
    "        'page_id': tf.train.Feature(int64_list = tf.train.Int64List(value = [page_id])),\n",
    "        'target_id': tf.train.Feature(int64_list = tf.train.Int64List(value = [target_id])),\n",
    "        'context_word_ids': tf.train.Feature(int64_list = tf.train.Int64List(value = context_word_ids)),\n",
    "        'link_mask': tf.train.Feature(int64_list = tf.train.Int64List(value = link_mask_ints))\n",
    "    }))\n",
    "\n",
    "def write_tfrecords(examples, path, batch_size = 10000):\n",
    "    # remove old directory\n",
    "    shutil.rmtree(path, ignore_errors = True)\n",
    "    \n",
    "    # make directory\n",
    "    os.makedirs(path, exist_ok = True)\n",
    "    \n",
    "    # write batches\n",
    "    for offset in tqdm_notebook(range(0, len(examples), batch_size), leave = False):\n",
    "        batch = examples[offset:offset + batch_size]\n",
    "        batch_path = os.path.join(path, 'examples.%010d.tfrecords.gz' % offset)\n",
    "        options = tf.python_io.TFRecordOptions(tf.python_io.TFRecordCompressionType.GZIP)\n",
    "        with tf.python_io.TFRecordWriter(batch_path, options = options) as writer:\n",
    "            for example in batch:\n",
    "                writer.write(convert_to_tfrecord(example).SerializeToString())        "
   ]
  },
  {
   "cell_type": "code",
   "execution_count": 11,
   "metadata": {},
   "outputs": [],
   "source": [
    "with open('../data/simplewiki/simplewiki-20171103.el_softmax_2.vocab.txt', 'wt') as f:\n",
    "    for word in id_to_word_30k:\n",
    "        print(word, file = f)"
   ]
  },
  {
   "cell_type": "code",
   "execution_count": 12,
   "metadata": {},
   "outputs": [],
   "source": [
    "with open('../data/simplewiki/simplewiki-20171103.el_softmax_2.targets.txt', 'wt') as f:\n",
    "    for target in id_to_target_2k:\n",
    "        print(target, file = f)"
   ]
  },
  {
   "cell_type": "code",
   "execution_count": 13,
   "metadata": {},
   "outputs": [
    {
     "data": {
      "application/vnd.jupyter.widget-view+json": {
       "model_id": "fd21766e310e4c6291605addf00a02a0",
       "version_major": 2,
       "version_minor": 0
      },
      "text/html": [
       "<p>Failed to display Jupyter Widget of type <code>HBox</code>.</p>\n",
       "<p>\n",
       "  If you're reading this message in the Jupyter Notebook or JupyterLab Notebook, it may mean\n",
       "  that the widgets JavaScript is still loading. If this message persists, it\n",
       "  likely means that the widgets JavaScript library is either not installed or\n",
       "  not enabled. See the <a href=\"https://ipywidgets.readthedocs.io/en/stable/user_install.html\">Jupyter\n",
       "  Widgets Documentation</a> for setup instructions.\n",
       "</p>\n",
       "<p>\n",
       "  If you're reading this message in another frontend (for example, a static\n",
       "  rendering on GitHub or <a href=\"https://nbviewer.jupyter.org/\">NBViewer</a>),\n",
       "  it may mean that your frontend doesn't currently support widgets.\n",
       "</p>\n"
      ],
      "text/plain": [
       "HBox(children=(IntProgress(value=0, max=2), HTML(value='')))"
      ]
     },
     "metadata": {},
     "output_type": "display_data"
    },
    {
     "name": "stdout",
     "output_type": "stream",
     "text": [
      "\r"
     ]
    },
    {
     "data": {
      "application/vnd.jupyter.widget-view+json": {
       "model_id": "efb65e62448e4f878551627319e6561e",
       "version_major": 2,
       "version_minor": 0
      },
      "text/html": [
       "<p>Failed to display Jupyter Widget of type <code>HBox</code>.</p>\n",
       "<p>\n",
       "  If you're reading this message in the Jupyter Notebook or JupyterLab Notebook, it may mean\n",
       "  that the widgets JavaScript is still loading. If this message persists, it\n",
       "  likely means that the widgets JavaScript library is either not installed or\n",
       "  not enabled. See the <a href=\"https://ipywidgets.readthedocs.io/en/stable/user_install.html\">Jupyter\n",
       "  Widgets Documentation</a> for setup instructions.\n",
       "</p>\n",
       "<p>\n",
       "  If you're reading this message in another frontend (for example, a static\n",
       "  rendering on GitHub or <a href=\"https://nbviewer.jupyter.org/\">NBViewer</a>),\n",
       "  it may mean that your frontend doesn't currently support widgets.\n",
       "</p>\n"
      ],
      "text/plain": [
       "HBox(children=(IntProgress(value=0, max=2), HTML(value='')))"
      ]
     },
     "metadata": {},
     "output_type": "display_data"
    },
    {
     "name": "stdout",
     "output_type": "stream",
     "text": [
      "\r"
     ]
    },
    {
     "data": {
      "application/vnd.jupyter.widget-view+json": {
       "model_id": "c086beb6fed94a2d9d6edd8107ce288b",
       "version_major": 2,
       "version_minor": 0
      },
      "text/html": [
       "<p>Failed to display Jupyter Widget of type <code>HBox</code>.</p>\n",
       "<p>\n",
       "  If you're reading this message in the Jupyter Notebook or JupyterLab Notebook, it may mean\n",
       "  that the widgets JavaScript is still loading. If this message persists, it\n",
       "  likely means that the widgets JavaScript library is either not installed or\n",
       "  not enabled. See the <a href=\"https://ipywidgets.readthedocs.io/en/stable/user_install.html\">Jupyter\n",
       "  Widgets Documentation</a> for setup instructions.\n",
       "</p>\n",
       "<p>\n",
       "  If you're reading this message in another frontend (for example, a static\n",
       "  rendering on GitHub or <a href=\"https://nbviewer.jupyter.org/\">NBViewer</a>),\n",
       "  it may mean that your frontend doesn't currently support widgets.\n",
       "</p>\n"
      ],
      "text/plain": [
       "HBox(children=(IntProgress(value=0, max=64), HTML(value='')))"
      ]
     },
     "metadata": {},
     "output_type": "display_data"
    },
    {
     "name": "stdout",
     "output_type": "stream",
     "text": [
      "\r"
     ]
    }
   ],
   "source": [
    "write_tfrecords(dev_set, '../data/simplewiki/simplewiki-20171103.el_softmax_2.dev')\n",
    "write_tfrecords(test_set, '../data/simplewiki/simplewiki-20171103.el_softmax_2.test')\n",
    "write_tfrecords(train_set, '../data/simplewiki/simplewiki-20171103.el_softmax_2.train')"
   ]
  },
  {
   "cell_type": "code",
   "execution_count": null,
   "metadata": {},
   "outputs": [],
   "source": []
  }
 ],
 "metadata": {
  "kernelspec": {
   "display_name": "Python 3",
   "language": "python",
   "name": "python3"
  },
  "language_info": {
   "codemirror_mode": {
    "name": "ipython",
    "version": 3
   },
   "file_extension": ".py",
   "mimetype": "text/x-python",
   "name": "python",
   "nbconvert_exporter": "python",
   "pygments_lexer": "ipython3",
   "version": "3.5.4"
  }
 },
 "nbformat": 4,
 "nbformat_minor": 2
}
