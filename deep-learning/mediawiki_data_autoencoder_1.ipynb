{
 "cells": [
  {
   "cell_type": "code",
   "execution_count": 21,
   "metadata": {},
   "outputs": [],
   "source": [
    "import json\n",
    "import gzip\n",
    "import nltk.data\n",
    "import nltk.corpus\n",
    "import nltk.stem\n",
    "import re\n",
    "import collections\n",
    "import random\n",
    "import hashlib\n",
    "import os\n",
    "import shutil\n",
    "import tensorflow as tf\n",
    "import numpy as np\n",
    "from tqdm import tqdm_notebook"
   ]
  },
  {
   "cell_type": "code",
   "execution_count": 2,
   "metadata": {},
   "outputs": [],
   "source": [
    "with gzip.open('../data/simplewiki/simplewiki-20171103.parsed.norm.json.gz', 'rt', encoding='utf-8') as f:\n",
    "    wiki = json.load(f)"
   ]
  },
  {
   "cell_type": "code",
   "execution_count": 3,
   "metadata": {},
   "outputs": [],
   "source": [
    "def compute_degrees(wiki):\n",
    "    # sort pages by ID\n",
    "    pages = sorted(wiki.values(), key = lambda page: page['id'])\n",
    "    \n",
    "    # compute in-degrees\n",
    "    counter = collections.Counter()\n",
    "    for _, page in tqdm_notebook(wiki.items(), leave = False):\n",
    "        for link in page['links']:\n",
    "            target_page_id = wiki[link['target']]['id']\n",
    "            counter[target_page_id] += 1\n",
    "    in_degrees = [counter.get(i) or 0 for i in range(len(pages))]\n",
    "    \n",
    "    # compute out-degrees\n",
    "    out_degrees = [len(page['links']) for page in pages]\n",
    "    \n",
    "    return in_degrees, out_degrees"
   ]
  },
  {
   "cell_type": "code",
   "execution_count": 4,
   "metadata": {},
   "outputs": [
    {
     "data": {
      "application/vnd.jupyter.widget-view+json": {
       "model_id": "6c250d0338174c07a4cea083200258f4",
       "version_major": 2,
       "version_minor": 0
      },
      "text/html": [
       "<p>Failed to display Jupyter Widget of type <code>HBox</code>.</p>\n",
       "<p>\n",
       "  If you're reading this message in the Jupyter Notebook or JupyterLab Notebook, it may mean\n",
       "  that the widgets JavaScript is still loading. If this message persists, it\n",
       "  likely means that the widgets JavaScript library is either not installed or\n",
       "  not enabled. See the <a href=\"https://ipywidgets.readthedocs.io/en/stable/user_install.html\">Jupyter\n",
       "  Widgets Documentation</a> for setup instructions.\n",
       "</p>\n",
       "<p>\n",
       "  If you're reading this message in another frontend (for example, a static\n",
       "  rendering on GitHub or <a href=\"https://nbviewer.jupyter.org/\">NBViewer</a>),\n",
       "  it may mean that your frontend doesn't currently support widgets.\n",
       "</p>\n"
      ],
      "text/plain": [
       "HBox(children=(IntProgress(value=0, max=125947), HTML(value='')))"
      ]
     },
     "metadata": {},
     "output_type": "display_data"
    },
    {
     "name": "stdout",
     "output_type": "stream",
     "text": [
      "\r"
     ]
    }
   ],
   "source": [
    "in_degrees, out_degrees = compute_degrees(wiki)\n",
    "non_empty_pages = (page for page in wiki.values() if len(page['text']) > 0)\n",
    "top_10k_pages = sorted(non_empty_pages, key = lambda page: in_degrees[page['id']], reverse = True)[:10000]"
   ]
  },
  {
   "cell_type": "code",
   "execution_count": 5,
   "metadata": {},
   "outputs": [],
   "source": [
    "stopwords = set(nltk.corpus.stopwords.words('english'))\n",
    "stemmer = nltk.stem.SnowballStemmer('english')\n",
    "lemmatizer = nltk.stem.WordNetLemmatizer()\n",
    "\n",
    "def word_tokenize(text):\n",
    "    for word in nltk.word_tokenize(text):\n",
    "        # skip stopwords\n",
    "        if word in stopwords:\n",
    "            continue\n",
    "        \n",
    "        # apply lemmatization\n",
    "        word = lemmatizer.lemmatize(word)\n",
    "\n",
    "        # apply stemming\n",
    "        word = stemmer.stem(word)\n",
    "        \n",
    "        # skip non-words\n",
    "        if not re.match(r'[a-z]', word):\n",
    "            continue\n",
    "        \n",
    "        yield word"
   ]
  },
  {
   "cell_type": "code",
   "execution_count": 12,
   "metadata": {},
   "outputs": [
    {
     "data": {
      "application/vnd.jupyter.widget-view+json": {
       "model_id": "d62aaff25c4c4c7198afde31056c32a9",
       "version_major": 2,
       "version_minor": 0
      },
      "text/html": [
       "<p>Failed to display Jupyter Widget of type <code>HBox</code>.</p>\n",
       "<p>\n",
       "  If you're reading this message in the Jupyter Notebook or JupyterLab Notebook, it may mean\n",
       "  that the widgets JavaScript is still loading. If this message persists, it\n",
       "  likely means that the widgets JavaScript library is either not installed or\n",
       "  not enabled. See the <a href=\"https://ipywidgets.readthedocs.io/en/stable/user_install.html\">Jupyter\n",
       "  Widgets Documentation</a> for setup instructions.\n",
       "</p>\n",
       "<p>\n",
       "  If you're reading this message in another frontend (for example, a static\n",
       "  rendering on GitHub or <a href=\"https://nbviewer.jupyter.org/\">NBViewer</a>),\n",
       "  it may mean that your frontend doesn't currently support widgets.\n",
       "</p>\n"
      ],
      "text/plain": [
       "HBox(children=(IntProgress(value=0, max=10000), HTML(value='')))"
      ]
     },
     "metadata": {},
     "output_type": "display_data"
    },
    {
     "name": "stdout",
     "output_type": "stream",
     "text": [
      "\r"
     ]
    }
   ],
   "source": [
    "page_tfs = []\n",
    "for page in tqdm_notebook(top_10k_pages, leave=False):\n",
    "    page_tfs.append((page['id'], collections.Counter(word_tokenize(page['text']))))"
   ]
  },
  {
   "cell_type": "code",
   "execution_count": 13,
   "metadata": {},
   "outputs": [
    {
     "data": {
      "application/vnd.jupyter.widget-view+json": {
       "model_id": "14012eaed05f4a269dd8b75573277ca2",
       "version_major": 2,
       "version_minor": 0
      },
      "text/html": [
       "<p>Failed to display Jupyter Widget of type <code>HBox</code>.</p>\n",
       "<p>\n",
       "  If you're reading this message in the Jupyter Notebook or JupyterLab Notebook, it may mean\n",
       "  that the widgets JavaScript is still loading. If this message persists, it\n",
       "  likely means that the widgets JavaScript library is either not installed or\n",
       "  not enabled. See the <a href=\"https://ipywidgets.readthedocs.io/en/stable/user_install.html\">Jupyter\n",
       "  Widgets Documentation</a> for setup instructions.\n",
       "</p>\n",
       "<p>\n",
       "  If you're reading this message in another frontend (for example, a static\n",
       "  rendering on GitHub or <a href=\"https://nbviewer.jupyter.org/\">NBViewer</a>),\n",
       "  it may mean that your frontend doesn't currently support widgets.\n",
       "</p>\n"
      ],
      "text/plain": [
       "HBox(children=(IntProgress(value=0, max=10000), HTML(value='')))"
      ]
     },
     "metadata": {},
     "output_type": "display_data"
    },
    {
     "name": "stdout",
     "output_type": "stream",
     "text": [
      "\r"
     ]
    }
   ],
   "source": [
    "wiki_tfs = collections.Counter()\n",
    "for _, counter in tqdm_notebook(page_tfs, leave=False):\n",
    "    wiki_tfs.update(counter)"
   ]
  },
  {
   "cell_type": "code",
   "execution_count": 15,
   "metadata": {},
   "outputs": [],
   "source": [
    "word_to_id_10k = {}\n",
    "id_to_word_10k = []\n",
    "for word_id, (word, _) in enumerate(wiki_tfs.most_common(10000)):\n",
    "    word_to_id_10k[word] = word_id\n",
    "    id_to_word_10k.append(word)"
   ]
  },
  {
   "cell_type": "code",
   "execution_count": 36,
   "metadata": {},
   "outputs": [],
   "source": [
    "def compute_word_idfs(page_tfs, words):\n",
    "    # compute word -> page index\n",
    "    words_set = set(words)\n",
    "    word_to_page = collections.defaultdict(set)\n",
    "    for page_id, counter in page_tfs:\n",
    "        for word in counter.keys():\n",
    "            if word in words_set:\n",
    "                word_to_page[word].add(page_id)\n",
    "\n",
    "    # compute IDFs\n",
    "    word_idfs = []\n",
    "    for word in words:\n",
    "        n = len(word_to_page[word])\n",
    "        word_idf = -np.log(n / len(page_tfs))\n",
    "        word_idfs.append(word_idf)\n",
    "    \n",
    "    return word_idfs"
   ]
  },
  {
   "cell_type": "code",
   "execution_count": 37,
   "metadata": {},
   "outputs": [],
   "source": [
    "word_idfs = compute_word_idfs(page_tfs, id_to_word_10k)"
   ]
  },
  {
   "cell_type": "code",
   "execution_count": 41,
   "metadata": {},
   "outputs": [],
   "source": [
    "def compute_tf_idf_vector(counter):\n",
    "    norm = sum(counter.values())\n",
    "    tuples = []\n",
    "    \n",
    "    for word, freq in counter.items():\n",
    "        # get word ID\n",
    "        word_id = word_to_id_10k.get(word)\n",
    "        if word_id is None:\n",
    "            continue\n",
    "        \n",
    "        # compute TF-IDF\n",
    "        tf = freq / norm\n",
    "        idf = word_idfs[word_id]\n",
    "        \n",
    "        # update outputs\n",
    "        tuples.append((word_id, tf * idf))\n",
    "    \n",
    "    # extract parallel arrays\n",
    "    tuples.sort()\n",
    "    word_ids = [p[0] for p in tuples]\n",
    "    word_tf_idfs = [p[1] for p in tuples]\n",
    "    \n",
    "    return word_ids, word_tf_idfs"
   ]
  },
  {
   "cell_type": "code",
   "execution_count": 49,
   "metadata": {},
   "outputs": [],
   "source": [
    "page_tf_idfs = [(page_id,) + compute_tf_idf_vector(counter) for page_id, counter in page_tfs]"
   ]
  },
  {
   "cell_type": "code",
   "execution_count": 51,
   "metadata": {},
   "outputs": [
    {
     "data": {
      "text/plain": [
       "(300, 300, 9400)"
      ]
     },
     "execution_count": 51,
     "metadata": {},
     "output_type": "execute_result"
    }
   ],
   "source": [
    "shuffled = list(page_tf_idfs)\n",
    "random.shuffle(shuffled)\n",
    "\n",
    "test_set_size = 300\n",
    "dev_set_size = 300\n",
    "\n",
    "test_set  = shuffled[:test_set_size]\n",
    "dev_set   = shuffled[test_set_size:dev_set_size+test_set_size]\n",
    "train_set = shuffled[dev_set_size+test_set_size:]\n",
    "\n",
    "len(test_set), len(dev_set), len(train_set)"
   ]
  },
  {
   "cell_type": "code",
   "execution_count": 59,
   "metadata": {},
   "outputs": [],
   "source": [
    "def write_tfrecords(page_tf_idfs, directory, batch_size = 10000):\n",
    "    # delete directory\n",
    "    shutil.rmtree(directory, ignore_errors = True)\n",
    "    \n",
    "    # make directory\n",
    "    os.makedirs(directory, exist_ok = True)\n",
    "    \n",
    "    # write all batches\n",
    "    for i in tqdm_notebook(range(0, len(page_tfs), batch_size), leave = False):\n",
    "        batch = page_tf_idfs[i:i + batch_size]\n",
    "        \n",
    "        # write a single batch\n",
    "        options = tf.python_io.TFRecordOptions(tf.python_io.TFRecordCompressionType.GZIP)\n",
    "        with tf.python_io.TFRecordWriter('%s/examples.%010d.tfrecords.gz' % (directory, i), options = options) as writer:\n",
    "            for page_id, word_ids, word_tf_idfs in batch:\n",
    "                # create protobuf\n",
    "                example = tf.train.Example(features = tf.train.Features(feature = {\n",
    "                    'page_id': tf.train.Feature(int64_list = tf.train.Int64List(value = [page_id])),\n",
    "                    'word_ids': tf.train.Feature(int64_list = tf.train.Int64List(value = word_ids)),\n",
    "                    'word_tf_idfs': tf.train.Feature(float_list = tf.train.FloatList(value = word_tf_idfs)),\n",
    "                }))\n",
    "\n",
    "                # write protobuf\n",
    "                writer.write(example.SerializeToString())"
   ]
  },
  {
   "cell_type": "code",
   "execution_count": 60,
   "metadata": {},
   "outputs": [
    {
     "data": {
      "application/vnd.jupyter.widget-view+json": {
       "model_id": "d5eff417fa9c4099b6d5dd4e59a3655a",
       "version_major": 2,
       "version_minor": 0
      },
      "text/html": [
       "<p>Failed to display Jupyter Widget of type <code>HBox</code>.</p>\n",
       "<p>\n",
       "  If you're reading this message in the Jupyter Notebook or JupyterLab Notebook, it may mean\n",
       "  that the widgets JavaScript is still loading. If this message persists, it\n",
       "  likely means that the widgets JavaScript library is either not installed or\n",
       "  not enabled. See the <a href=\"https://ipywidgets.readthedocs.io/en/stable/user_install.html\">Jupyter\n",
       "  Widgets Documentation</a> for setup instructions.\n",
       "</p>\n",
       "<p>\n",
       "  If you're reading this message in another frontend (for example, a static\n",
       "  rendering on GitHub or <a href=\"https://nbviewer.jupyter.org/\">NBViewer</a>),\n",
       "  it may mean that your frontend doesn't currently support widgets.\n",
       "</p>\n"
      ],
      "text/plain": [
       "HBox(children=(IntProgress(value=0, max=1), HTML(value='')))"
      ]
     },
     "metadata": {},
     "output_type": "display_data"
    },
    {
     "name": "stdout",
     "output_type": "stream",
     "text": [
      "\r"
     ]
    },
    {
     "data": {
      "application/vnd.jupyter.widget-view+json": {
       "model_id": "4086430072624d4284e27343173580a1",
       "version_major": 2,
       "version_minor": 0
      },
      "text/html": [
       "<p>Failed to display Jupyter Widget of type <code>HBox</code>.</p>\n",
       "<p>\n",
       "  If you're reading this message in the Jupyter Notebook or JupyterLab Notebook, it may mean\n",
       "  that the widgets JavaScript is still loading. If this message persists, it\n",
       "  likely means that the widgets JavaScript library is either not installed or\n",
       "  not enabled. See the <a href=\"https://ipywidgets.readthedocs.io/en/stable/user_install.html\">Jupyter\n",
       "  Widgets Documentation</a> for setup instructions.\n",
       "</p>\n",
       "<p>\n",
       "  If you're reading this message in another frontend (for example, a static\n",
       "  rendering on GitHub or <a href=\"https://nbviewer.jupyter.org/\">NBViewer</a>),\n",
       "  it may mean that your frontend doesn't currently support widgets.\n",
       "</p>\n"
      ],
      "text/plain": [
       "HBox(children=(IntProgress(value=0, max=1), HTML(value='')))"
      ]
     },
     "metadata": {},
     "output_type": "display_data"
    },
    {
     "name": "stdout",
     "output_type": "stream",
     "text": [
      "\r"
     ]
    },
    {
     "data": {
      "application/vnd.jupyter.widget-view+json": {
       "model_id": "6caffe7df36f4a589b1eea22f9cf95d8",
       "version_major": 2,
       "version_minor": 0
      },
      "text/html": [
       "<p>Failed to display Jupyter Widget of type <code>HBox</code>.</p>\n",
       "<p>\n",
       "  If you're reading this message in the Jupyter Notebook or JupyterLab Notebook, it may mean\n",
       "  that the widgets JavaScript is still loading. If this message persists, it\n",
       "  likely means that the widgets JavaScript library is either not installed or\n",
       "  not enabled. See the <a href=\"https://ipywidgets.readthedocs.io/en/stable/user_install.html\">Jupyter\n",
       "  Widgets Documentation</a> for setup instructions.\n",
       "</p>\n",
       "<p>\n",
       "  If you're reading this message in another frontend (for example, a static\n",
       "  rendering on GitHub or <a href=\"https://nbviewer.jupyter.org/\">NBViewer</a>),\n",
       "  it may mean that your frontend doesn't currently support widgets.\n",
       "</p>\n"
      ],
      "text/plain": [
       "HBox(children=(IntProgress(value=0, max=1), HTML(value='')))"
      ]
     },
     "metadata": {},
     "output_type": "display_data"
    },
    {
     "name": "stdout",
     "output_type": "stream",
     "text": [
      "\r"
     ]
    }
   ],
   "source": [
    "write_tfrecords(test_set, '../data/simplewiki/simplewiki-20171103.autoencoder_1.test')\n",
    "write_tfrecords(dev_set, '../data/simplewiki/simplewiki-20171103.autoencoder_1.dev')\n",
    "write_tfrecords(train_set, '../data/simplewiki/simplewiki-20171103.autoencoder_1.train')"
   ]
  }
 ],
 "metadata": {
  "kernelspec": {
   "display_name": "Python 3",
   "language": "python",
   "name": "python3"
  },
  "language_info": {
   "codemirror_mode": {
    "name": "ipython",
    "version": 3
   },
   "file_extension": ".py",
   "mimetype": "text/x-python",
   "name": "python",
   "nbconvert_exporter": "python",
   "pygments_lexer": "ipython3",
   "version": "3.5.4"
  }
 },
 "nbformat": 4,
 "nbformat_minor": 2
}
