{
 "cells": [
  {
   "cell_type": "code",
   "execution_count": 11,
   "metadata": {},
   "outputs": [],
   "source": [
    "import nltk\n",
    "import re\n",
    "import gzip\n",
    "import json\n",
    "import collections\n",
    "import tensorflow as tf\n",
    "import random\n",
    "import shutil\n",
    "import os\n",
    "from tqdm import tqdm_notebook\n",
    "from intervaltree import Interval, IntervalTree"
   ]
  },
  {
   "cell_type": "code",
   "execution_count": 12,
   "metadata": {},
   "outputs": [],
   "source": [
    "with gzip.open('../data/simplewiki/simplewiki-20171103.parsed.norm.json.gz', 'rt', encoding='utf-8') as f:\n",
    "    wiki = json.load(f)"
   ]
  },
  {
   "cell_type": "code",
   "execution_count": 13,
   "metadata": {},
   "outputs": [],
   "source": [
    "def word_tokenize(text):\n",
    "    for word in nltk.word_tokenize(text):\n",
    "        if word == '``' or word == \"''\":\n",
    "            word = '\"'\n",
    "        for subword in re.split('([-/])', word):\n",
    "            yield subword\n",
    "            \n",
    "def span_tokenize(text):\n",
    "    return nltk.tokenize.util.align_tokens(word_tokenize(text), text)"
   ]
  },
  {
   "cell_type": "code",
   "execution_count": 14,
   "metadata": {},
   "outputs": [
    {
     "data": {
      "application/vnd.jupyter.widget-view+json": {
       "model_id": "6af6061172794e7796d1ccb1adddcc86",
       "version_major": 2,
       "version_minor": 0
      },
      "text/html": [
       "<p>Failed to display Jupyter Widget of type <code>HBox</code>.</p>\n",
       "<p>\n",
       "  If you're reading this message in the Jupyter Notebook or JupyterLab Notebook, it may mean\n",
       "  that the widgets JavaScript is still loading. If this message persists, it\n",
       "  likely means that the widgets JavaScript library is either not installed or\n",
       "  not enabled. See the <a href=\"https://ipywidgets.readthedocs.io/en/stable/user_install.html\">Jupyter\n",
       "  Widgets Documentation</a> for setup instructions.\n",
       "</p>\n",
       "<p>\n",
       "  If you're reading this message in another frontend (for example, a static\n",
       "  rendering on GitHub or <a href=\"https://nbviewer.jupyter.org/\">NBViewer</a>),\n",
       "  it may mean that your frontend doesn't currently support widgets.\n",
       "</p>\n"
      ],
      "text/plain": [
       "HBox(children=(IntProgress(value=0, max=125947), HTML(value='')))"
      ]
     },
     "metadata": {},
     "output_type": "display_data"
    },
    {
     "name": "stdout",
     "output_type": "stream",
     "text": [
      "\r"
     ]
    }
   ],
   "source": [
    "counter = collections.Counter()\n",
    "for _, page in tqdm_notebook(wiki.items(), leave=False):\n",
    "    for link in page['links']:\n",
    "        counter[link['target']] += 1\n",
    "id_to_target_2k = list(target for target, _ in counter.most_common(2000))\n",
    "target_to_id_2k = { target: target_id for target_id, target in enumerate(id_to_target_2k) }\n",
    "top_2k_targets = set(id_to_target_2k)"
   ]
  },
  {
   "cell_type": "code",
   "execution_count": 15,
   "metadata": {},
   "outputs": [],
   "source": [
    "def filter_links(page, targets):\n",
    "    filtered = [l for l in page['links'] if l['target'] in targets]\n",
    "    page = dict(page)\n",
    "    page['links'] = filtered\n",
    "    return page"
   ]
  },
  {
   "cell_type": "code",
   "execution_count": 16,
   "metadata": {},
   "outputs": [],
   "source": [
    "def generate_examples(page, width):\n",
    "    page_id = page['id']\n",
    "    page_links = page['links']\n",
    "    page_text = page['text']\n",
    "\n",
    "    # tokenize\n",
    "    word_spans = span_tokenize(page_text)\n",
    "\n",
    "    # index links\n",
    "    link_spans = IntervalTree()\n",
    "    for link in page_links:\n",
    "        link_spans[link['start']:link['end']] = link['target']\n",
    "        \n",
    "    # strip links that collide\n",
    "    for span in word_spans:\n",
    "        if len(link_spans[span[0]:span[1]]) > 1:\n",
    "            link_spans.remove_overlap(span[0], span[1])\n",
    "\n",
    "    # compute words/targets\n",
    "    words = []\n",
    "    targets = []\n",
    "    for i, word_span in enumerate(word_spans):\n",
    "        # append word\n",
    "        words.append(page_text[word_span[0]:word_span[1]])\n",
    "\n",
    "        # append target\n",
    "        spans = link_spans[word_span[0]:word_span[1]]\n",
    "        if len(spans) == 0:\n",
    "            targets.append(None)\n",
    "        elif len(spans) == 1:\n",
    "            targets.append(list(spans)[0].data)\n",
    "        else:\n",
    "            raise ValueError('multiple targets found for span')\n",
    "\n",
    "    # compute target lengths\n",
    "    targets_left = [-1] * len(targets)\n",
    "    targets_right = [-1] * len(targets)\n",
    "    curr_len = 0\n",
    "    for i in range(len(targets)):\n",
    "        if i > 0 and targets[i] and targets[i] == targets[i-1]:\n",
    "            curr_len += 1\n",
    "        else:\n",
    "            curr_len = 0\n",
    "        if targets[i]:\n",
    "            targets_left[i] = curr_len\n",
    "    curr_len = 0\n",
    "    for i in range(len(targets) - 1, -1, -1):\n",
    "        if i < len(targets) - 1 and targets[i] and targets[i] == targets[i+1]:\n",
    "            curr_len += 1\n",
    "        else:\n",
    "            curr_len = 0\n",
    "        if targets[i]:\n",
    "            targets_right[i] = curr_len\n",
    "    \n",
    "    # build examples\n",
    "    context_size = width*2 + 1\n",
    "    for i in range(len(targets)):\n",
    "        if not targets[i] or (i > 0 and targets[i-1] == targets[i]):\n",
    "            continue\n",
    "        curr_words = ['<OOB>'] * context_size\n",
    "        curr_targets = [None] * context_size\n",
    "        curr_left = [-1] * context_size\n",
    "        curr_right = [-1] * context_size\n",
    "        for j in range(context_size):\n",
    "            k = i + j - width\n",
    "            if k < 0 or k >= len(targets):\n",
    "                continue\n",
    "            curr_words[j] = words[k]\n",
    "            curr_targets[j] = targets[k]\n",
    "            curr_left[j] = targets_left[k]\n",
    "            curr_right[j] = targets_right[k]\n",
    "        yield page_id, curr_words, curr_targets, curr_left, curr_right"
   ]
  },
  {
   "cell_type": "code",
   "execution_count": 17,
   "metadata": {},
   "outputs": [
    {
     "data": {
      "application/vnd.jupyter.widget-view+json": {
       "model_id": "f35b6ecca2d84f2c9a7d9f307e003075",
       "version_major": 2,
       "version_minor": 0
      },
      "text/html": [
       "<p>Failed to display Jupyter Widget of type <code>HBox</code>.</p>\n",
       "<p>\n",
       "  If you're reading this message in the Jupyter Notebook or JupyterLab Notebook, it may mean\n",
       "  that the widgets JavaScript is still loading. If this message persists, it\n",
       "  likely means that the widgets JavaScript library is either not installed or\n",
       "  not enabled. See the <a href=\"https://ipywidgets.readthedocs.io/en/stable/user_install.html\">Jupyter\n",
       "  Widgets Documentation</a> for setup instructions.\n",
       "</p>\n",
       "<p>\n",
       "  If you're reading this message in another frontend (for example, a static\n",
       "  rendering on GitHub or <a href=\"https://nbviewer.jupyter.org/\">NBViewer</a>),\n",
       "  it may mean that your frontend doesn't currently support widgets.\n",
       "</p>\n"
      ],
      "text/plain": [
       "HBox(children=(IntProgress(value=0, max=125947), HTML(value='')))"
      ]
     },
     "metadata": {},
     "output_type": "display_data"
    },
    {
     "name": "stdout",
     "output_type": "stream",
     "text": [
      "\r"
     ]
    }
   ],
   "source": [
    "examples = []\n",
    "for _, page in tqdm_notebook(wiki.items(), leave = False):\n",
    "    page = filter_links(page, top_2k_targets)\n",
    "    examples.append(list(generate_examples(page, 60)))\n",
    "random.shuffle(examples)"
   ]
  },
  {
   "cell_type": "code",
   "execution_count": 18,
   "metadata": {},
   "outputs": [
    {
     "data": {
      "text/plain": [
       "(22262, 20917, 493705)"
      ]
     },
     "execution_count": 18,
     "metadata": {},
     "output_type": "execute_result"
    }
   ],
   "source": [
    "dev_set = examples[:5000]\n",
    "test_set = examples[5000:10000]\n",
    "train_set = examples[10000:]\n",
    "\n",
    "dev_set = [e for es in dev_set for e in es]\n",
    "test_set = [e for es in test_set for e in es]\n",
    "train_set = [e for es in train_set for e in es]\n",
    "total_set = [e for es in examples for e in es]\n",
    "\n",
    "len(dev_set), len(test_set), len(train_set)"
   ]
  },
  {
   "cell_type": "code",
   "execution_count": 19,
   "metadata": {},
   "outputs": [
    {
     "data": {
      "application/vnd.jupyter.widget-view+json": {
       "model_id": "a747c2f2b3e541b29b8d73099a8eb3d3",
       "version_major": 2,
       "version_minor": 0
      },
      "text/html": [
       "<p>Failed to display Jupyter Widget of type <code>HBox</code>.</p>\n",
       "<p>\n",
       "  If you're reading this message in the Jupyter Notebook or JupyterLab Notebook, it may mean\n",
       "  that the widgets JavaScript is still loading. If this message persists, it\n",
       "  likely means that the widgets JavaScript library is either not installed or\n",
       "  not enabled. See the <a href=\"https://ipywidgets.readthedocs.io/en/stable/user_install.html\">Jupyter\n",
       "  Widgets Documentation</a> for setup instructions.\n",
       "</p>\n",
       "<p>\n",
       "  If you're reading this message in another frontend (for example, a static\n",
       "  rendering on GitHub or <a href=\"https://nbviewer.jupyter.org/\">NBViewer</a>),\n",
       "  it may mean that your frontend doesn't currently support widgets.\n",
       "</p>\n"
      ],
      "text/plain": [
       "HBox(children=(IntProgress(value=0, max=536884), HTML(value='')))"
      ]
     },
     "metadata": {},
     "output_type": "display_data"
    },
    {
     "name": "stdout",
     "output_type": "stream",
     "text": [
      "\r"
     ]
    }
   ],
   "source": [
    "counter = collections.Counter()\n",
    "for _, context, _, _, _ in tqdm_notebook(total_set, leave=False):\n",
    "    for word in context:\n",
    "        if word == '<OOB>':\n",
    "            continue\n",
    "        counter[word] += 1"
   ]
  },
  {
   "cell_type": "code",
   "execution_count": 20,
   "metadata": {},
   "outputs": [],
   "source": [
    "id_to_word_30k = [word for word, _ in counter.most_common(30000-2)] + ['<UNK>', '<OOB>']\n",
    "word_to_id_30k = { word: word_id for word_id, word in enumerate(id_to_word_30k) }"
   ]
  },
  {
   "cell_type": "code",
   "execution_count": 21,
   "metadata": {},
   "outputs": [],
   "source": [
    "def get_word_id(word):\n",
    "    word_id = word_to_id_30k.get(word)\n",
    "    return word_id if word_id is not None else word_to_id_30k['<UNK>']"
   ]
  },
  {
   "cell_type": "code",
   "execution_count": 22,
   "metadata": {},
   "outputs": [],
   "source": [
    "def convert_to_tfrecord(example):\n",
    "    page_id, words, targets, targets_left, targets_right = example\n",
    "    \n",
    "    # convert words/targets to IDs\n",
    "    word_ids = [get_word_id(w) for w in words]\n",
    "    target_ids = [target_to_id_2k[t] if t else -1 for t in targets]\n",
    "    \n",
    "    return tf.train.Example(features = tf.train.Features(feature = {\n",
    "        'page': tf.train.Feature(int64_list = tf.train.Int64List(value = [page_id])),\n",
    "        'context': tf.train.Feature(int64_list = tf.train.Int64List(value = word_ids)),\n",
    "        'targets': tf.train.Feature(int64_list = tf.train.Int64List(value = target_ids)),\n",
    "        'targets_left': tf.train.Feature(int64_list = tf.train.Int64List(value = targets_left)),\n",
    "        'targets_right': tf.train.Feature(int64_list = tf.train.Int64List(value = targets_right))\n",
    "    }))\n",
    "\n",
    "def write_tfrecords(examples, path, batch_size = 10000):\n",
    "    # remove old directory\n",
    "    shutil.rmtree(path, ignore_errors = True)\n",
    "    \n",
    "    # make directory\n",
    "    os.makedirs(path, exist_ok = True)\n",
    "    \n",
    "    # write batches\n",
    "    for offset in tqdm_notebook(range(0, len(examples), batch_size), leave = False):\n",
    "        batch = examples[offset:offset + batch_size]\n",
    "        batch_path = os.path.join(path, 'examples.%010d.tfrecords.gz' % offset)\n",
    "        options = tf.python_io.TFRecordOptions(tf.python_io.TFRecordCompressionType.GZIP)\n",
    "        with tf.python_io.TFRecordWriter(batch_path, options = options) as writer:\n",
    "            for example in batch:\n",
    "                writer.write(convert_to_tfrecord(example).SerializeToString())        "
   ]
  },
  {
   "cell_type": "code",
   "execution_count": 23,
   "metadata": {},
   "outputs": [],
   "source": [
    "with open('../data/simplewiki/simplewiki-20171103.er_softmax_1.vocab.txt', 'wt') as f:\n",
    "    for word in id_to_word_30k:\n",
    "        print(word, file = f)"
   ]
  },
  {
   "cell_type": "code",
   "execution_count": 24,
   "metadata": {},
   "outputs": [],
   "source": [
    "with open('../data/simplewiki/simplewiki-20171103.er_softmax_1.targets.txt', 'wt') as f:\n",
    "    for target in id_to_target_2k:\n",
    "        print(target, file = f)"
   ]
  },
  {
   "cell_type": "code",
   "execution_count": 25,
   "metadata": {},
   "outputs": [
    {
     "data": {
      "application/vnd.jupyter.widget-view+json": {
       "model_id": "14921b2d4b774b8f84c2065184a54411",
       "version_major": 2,
       "version_minor": 0
      },
      "text/html": [
       "<p>Failed to display Jupyter Widget of type <code>HBox</code>.</p>\n",
       "<p>\n",
       "  If you're reading this message in the Jupyter Notebook or JupyterLab Notebook, it may mean\n",
       "  that the widgets JavaScript is still loading. If this message persists, it\n",
       "  likely means that the widgets JavaScript library is either not installed or\n",
       "  not enabled. See the <a href=\"https://ipywidgets.readthedocs.io/en/stable/user_install.html\">Jupyter\n",
       "  Widgets Documentation</a> for setup instructions.\n",
       "</p>\n",
       "<p>\n",
       "  If you're reading this message in another frontend (for example, a static\n",
       "  rendering on GitHub or <a href=\"https://nbviewer.jupyter.org/\">NBViewer</a>),\n",
       "  it may mean that your frontend doesn't currently support widgets.\n",
       "</p>\n"
      ],
      "text/plain": [
       "HBox(children=(IntProgress(value=0, max=3), HTML(value='')))"
      ]
     },
     "metadata": {},
     "output_type": "display_data"
    },
    {
     "name": "stdout",
     "output_type": "stream",
     "text": [
      "\r"
     ]
    },
    {
     "data": {
      "application/vnd.jupyter.widget-view+json": {
       "model_id": "847421089f804c5eac7a370731378c25",
       "version_major": 2,
       "version_minor": 0
      },
      "text/html": [
       "<p>Failed to display Jupyter Widget of type <code>HBox</code>.</p>\n",
       "<p>\n",
       "  If you're reading this message in the Jupyter Notebook or JupyterLab Notebook, it may mean\n",
       "  that the widgets JavaScript is still loading. If this message persists, it\n",
       "  likely means that the widgets JavaScript library is either not installed or\n",
       "  not enabled. See the <a href=\"https://ipywidgets.readthedocs.io/en/stable/user_install.html\">Jupyter\n",
       "  Widgets Documentation</a> for setup instructions.\n",
       "</p>\n",
       "<p>\n",
       "  If you're reading this message in another frontend (for example, a static\n",
       "  rendering on GitHub or <a href=\"https://nbviewer.jupyter.org/\">NBViewer</a>),\n",
       "  it may mean that your frontend doesn't currently support widgets.\n",
       "</p>\n"
      ],
      "text/plain": [
       "HBox(children=(IntProgress(value=0, max=3), HTML(value='')))"
      ]
     },
     "metadata": {},
     "output_type": "display_data"
    },
    {
     "name": "stdout",
     "output_type": "stream",
     "text": [
      "\r"
     ]
    },
    {
     "data": {
      "application/vnd.jupyter.widget-view+json": {
       "model_id": "8c48b2989b204d64b2040e18a47f2c89",
       "version_major": 2,
       "version_minor": 0
      },
      "text/html": [
       "<p>Failed to display Jupyter Widget of type <code>HBox</code>.</p>\n",
       "<p>\n",
       "  If you're reading this message in the Jupyter Notebook or JupyterLab Notebook, it may mean\n",
       "  that the widgets JavaScript is still loading. If this message persists, it\n",
       "  likely means that the widgets JavaScript library is either not installed or\n",
       "  not enabled. See the <a href=\"https://ipywidgets.readthedocs.io/en/stable/user_install.html\">Jupyter\n",
       "  Widgets Documentation</a> for setup instructions.\n",
       "</p>\n",
       "<p>\n",
       "  If you're reading this message in another frontend (for example, a static\n",
       "  rendering on GitHub or <a href=\"https://nbviewer.jupyter.org/\">NBViewer</a>),\n",
       "  it may mean that your frontend doesn't currently support widgets.\n",
       "</p>\n"
      ],
      "text/plain": [
       "HBox(children=(IntProgress(value=0, max=50), HTML(value='')))"
      ]
     },
     "metadata": {},
     "output_type": "display_data"
    },
    {
     "name": "stdout",
     "output_type": "stream",
     "text": [
      "\r"
     ]
    }
   ],
   "source": [
    "write_tfrecords(dev_set, '../data/simplewiki/simplewiki-20171103.er_softmax_1.dev')\n",
    "write_tfrecords(test_set, '../data/simplewiki/simplewiki-20171103.er_softmax_1.test')\n",
    "write_tfrecords(train_set, '../data/simplewiki/simplewiki-20171103.er_softmax_1.train')"
   ]
  },
  {
   "cell_type": "code",
   "execution_count": null,
   "metadata": {},
   "outputs": [],
   "source": []
  }
 ],
 "metadata": {
  "kernelspec": {
   "display_name": "Python 3",
   "language": "python",
   "name": "python3"
  },
  "language_info": {
   "codemirror_mode": {
    "name": "ipython",
    "version": 3
   },
   "file_extension": ".py",
   "mimetype": "text/x-python",
   "name": "python",
   "nbconvert_exporter": "python",
   "pygments_lexer": "ipython3",
   "version": "3.5.4"
  }
 },
 "nbformat": 4,
 "nbformat_minor": 2
}
