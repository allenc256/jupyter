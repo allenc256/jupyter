{
 "cells": [
  {
   "cell_type": "code",
   "execution_count": 1,
   "metadata": {},
   "outputs": [],
   "source": [
    "import json\n",
    "import gzip\n",
    "import nltk.data\n",
    "import re\n",
    "import collections\n",
    "import random\n",
    "import tensorflow as tf\n",
    "import hashlib\n",
    "from tqdm import tqdm_notebook"
   ]
  },
  {
   "cell_type": "code",
   "execution_count": 2,
   "metadata": {},
   "outputs": [],
   "source": [
    "with gzip.open('../data/simplewiki/simplewiki-20171103.parsed.json.gz', 'rt', encoding='utf-8') as f:\n",
    "    wiki = json.load(f)"
   ]
  },
  {
   "cell_type": "code",
   "execution_count": 3,
   "metadata": {},
   "outputs": [],
   "source": [
    "def sha1_hash(text):\n",
    "    h = hashlib.sha1()\n",
    "    h.update(text.encode())\n",
    "    return h.digest()"
   ]
  },
  {
   "cell_type": "code",
   "execution_count": 4,
   "metadata": {},
   "outputs": [],
   "source": [
    "def get_text(page):\n",
    "    text = page['text']\n",
    "    links = page['links']\n",
    "    fragments = []\n",
    "    \n",
    "    while True:\n",
    "        m = re.search(r'\\{\\{\\d+\\}\\}', text)\n",
    "        if not m:\n",
    "            break\n",
    "        span = m.span()\n",
    "        fragments.append(text[:span[0]])\n",
    "        fragments.append(links[text[span[0]:span[1]]]['text'])\n",
    "        text = text[span[1]:]\n",
    "    \n",
    "    fragments.append(text)\n",
    "    return ''.join(fragments)"
   ]
  },
  {
   "cell_type": "code",
   "execution_count": 5,
   "metadata": {},
   "outputs": [
    {
     "data": {
      "application/vnd.jupyter.widget-view+json": {
       "model_id": "fffbe9bf3cde4325ad14c4f0ef6d595d",
       "version_major": 2,
       "version_minor": 0
      },
      "text/html": [
       "<p>Failed to display Jupyter Widget of type <code>HBox</code>.</p>\n",
       "<p>\n",
       "  If you're reading this message in the Jupyter Notebook or JupyterLab Notebook, it may mean\n",
       "  that the widgets JavaScript is still loading. If this message persists, it\n",
       "  likely means that the widgets JavaScript library is either not installed or\n",
       "  not enabled. See the <a href=\"https://ipywidgets.readthedocs.io/en/stable/user_install.html\">Jupyter\n",
       "  Widgets Documentation</a> for setup instructions.\n",
       "</p>\n",
       "<p>\n",
       "  If you're reading this message in another frontend (for example, a static\n",
       "  rendering on GitHub or <a href=\"https://nbviewer.jupyter.org/\">NBViewer</a>),\n",
       "  it may mean that your frontend doesn't currently support widgets.\n",
       "</p>\n"
      ],
      "text/plain": [
       "HBox(children=(IntProgress(value=0, max=125947), HTML(value='')))"
      ]
     },
     "metadata": {},
     "output_type": "display_data"
    },
    {
     "name": "stdout",
     "output_type": "stream",
     "text": [
      "\n"
     ]
    }
   ],
   "source": [
    "term_freqs = []\n",
    "for title, page in tqdm_notebook(wiki.items()):\n",
    "    text = get_text(page)\n",
    "    page_id = page['id']\n",
    "    \n",
    "    counter = collections.Counter()\n",
    "    for token in nltk.word_tokenize(text):\n",
    "        counter[token.lower()] += 1\n",
    "    term_freqs.append((page_id, -1, counter))\n",
    "\n",
    "# TODO: support paragraph embeddings\n",
    "#     paras = text.split('\\n')\n",
    "#     para_id = 0\n",
    "#     for para in paras:\n",
    "#         para = para.strip()\n",
    "#         if len(para) > 0:\n",
    "#             counter = collections.Counter()\n",
    "#             for token in nltk.word_tokenize(para):\n",
    "#                 counter[token.lower()] += 1\n",
    "#             term_freqs.append((page_id, para_id, counter))\n",
    "#             para_id += 1"
   ]
  },
  {
   "cell_type": "code",
   "execution_count": 6,
   "metadata": {},
   "outputs": [
    {
     "data": {
      "application/vnd.jupyter.widget-view+json": {
       "model_id": "d4344f0878104347b470387bf8aa0d04",
       "version_major": 2,
       "version_minor": 0
      },
      "text/html": [
       "<p>Failed to display Jupyter Widget of type <code>HBox</code>.</p>\n",
       "<p>\n",
       "  If you're reading this message in the Jupyter Notebook or JupyterLab Notebook, it may mean\n",
       "  that the widgets JavaScript is still loading. If this message persists, it\n",
       "  likely means that the widgets JavaScript library is either not installed or\n",
       "  not enabled. See the <a href=\"https://ipywidgets.readthedocs.io/en/stable/user_install.html\">Jupyter\n",
       "  Widgets Documentation</a> for setup instructions.\n",
       "</p>\n",
       "<p>\n",
       "  If you're reading this message in another frontend (for example, a static\n",
       "  rendering on GitHub or <a href=\"https://nbviewer.jupyter.org/\">NBViewer</a>),\n",
       "  it may mean that your frontend doesn't currently support widgets.\n",
       "</p>\n"
      ],
      "text/plain": [
       "HBox(children=(IntProgress(value=0, max=125947), HTML(value='')))"
      ]
     },
     "metadata": {},
     "output_type": "display_data"
    },
    {
     "name": "stdout",
     "output_type": "stream",
     "text": [
      "\n"
     ]
    }
   ],
   "source": [
    "term_freqs_combined = collections.Counter()\n",
    "for _, _, counter in tqdm_notebook(term_freqs):\n",
    "    term_freqs_combined.update(counter)"
   ]
  },
  {
   "cell_type": "code",
   "execution_count": 7,
   "metadata": {},
   "outputs": [],
   "source": [
    "term_to_number_30k = {}\n",
    "number_to_term_30k = []\n",
    "for index, (term, freq) in enumerate(term_freqs_combined.most_common(30000)):\n",
    "    term_to_number_30k[term] = index\n",
    "    number_to_term_30k.append(term)"
   ]
  },
  {
   "cell_type": "code",
   "execution_count": 8,
   "metadata": {},
   "outputs": [],
   "source": [
    "random.shuffle(term_freqs)"
   ]
  },
  {
   "cell_type": "code",
   "execution_count": 9,
   "metadata": {},
   "outputs": [
    {
     "data": {
      "text/plain": [
       "(20000, 20000, 85947)"
      ]
     },
     "execution_count": 9,
     "metadata": {},
     "output_type": "execute_result"
    }
   ],
   "source": [
    "test_set_size = 20000\n",
    "dev_set_size = 20000\n",
    "\n",
    "test_set  = term_freqs[:test_set_size]\n",
    "dev_set   = term_freqs[test_set_size:dev_set_size+test_set_size]\n",
    "train_set = term_freqs[dev_set_size+test_set_size:]\n",
    "\n",
    "len(test_set), len(dev_set), len(train_set)"
   ]
  },
  {
   "cell_type": "code",
   "execution_count": 12,
   "metadata": {},
   "outputs": [],
   "source": [
    "def write_tfrecords(term_freqs, term_index, file):\n",
    "    with tf.python_io.TFRecordWriter(file) as writer:\n",
    "        for page_id, para_id, counter in tqdm_notebook(term_freqs):\n",
    "            indexed = []\n",
    "            for term, freq in counter.most_common():\n",
    "                index = term_index.get(term)\n",
    "                if not index is None: # index can be zero\n",
    "                    indexed.append((index, freq))\n",
    "            indexed.sort()\n",
    "            \n",
    "            indices = [p[0] for p in indexed]\n",
    "            freqs = [p[1] for p in indexed]\n",
    "                    \n",
    "            example = tf.train.Example(features = tf.train.Features(feature = {\n",
    "                'page_id': tf.train.Feature(int64_list = tf.train.Int64List(value = [page_id])),\n",
    "                'para_id': tf.train.Feature(int64_list = tf.train.Int64List(value = [para_id])),\n",
    "                'indices': tf.train.Feature(int64_list = tf.train.Int64List(value = indices)),\n",
    "                'freqs': tf.train.Feature(int64_list = tf.train.Int64List(value = freqs)),\n",
    "            }))\n",
    "            \n",
    "            writer.write(example.SerializeToString())"
   ]
  },
  {
   "cell_type": "code",
   "execution_count": 13,
   "metadata": {},
   "outputs": [
    {
     "data": {
      "application/vnd.jupyter.widget-view+json": {
       "model_id": "d4cf6a71b6d64f9589b7482633704f4e",
       "version_major": 2,
       "version_minor": 0
      },
      "text/html": [
       "<p>Failed to display Jupyter Widget of type <code>HBox</code>.</p>\n",
       "<p>\n",
       "  If you're reading this message in the Jupyter Notebook or JupyterLab Notebook, it may mean\n",
       "  that the widgets JavaScript is still loading. If this message persists, it\n",
       "  likely means that the widgets JavaScript library is either not installed or\n",
       "  not enabled. See the <a href=\"https://ipywidgets.readthedocs.io/en/stable/user_install.html\">Jupyter\n",
       "  Widgets Documentation</a> for setup instructions.\n",
       "</p>\n",
       "<p>\n",
       "  If you're reading this message in another frontend (for example, a static\n",
       "  rendering on GitHub or <a href=\"https://nbviewer.jupyter.org/\">NBViewer</a>),\n",
       "  it may mean that your frontend doesn't currently support widgets.\n",
       "</p>\n"
      ],
      "text/plain": [
       "HBox(children=(IntProgress(value=0, max=20000), HTML(value='')))"
      ]
     },
     "metadata": {},
     "output_type": "display_data"
    },
    {
     "name": "stdout",
     "output_type": "stream",
     "text": [
      "\n"
     ]
    },
    {
     "data": {
      "application/vnd.jupyter.widget-view+json": {
       "model_id": "665fadb93d78485796ca349efc90eb4a",
       "version_major": 2,
       "version_minor": 0
      },
      "text/html": [
       "<p>Failed to display Jupyter Widget of type <code>HBox</code>.</p>\n",
       "<p>\n",
       "  If you're reading this message in the Jupyter Notebook or JupyterLab Notebook, it may mean\n",
       "  that the widgets JavaScript is still loading. If this message persists, it\n",
       "  likely means that the widgets JavaScript library is either not installed or\n",
       "  not enabled. See the <a href=\"https://ipywidgets.readthedocs.io/en/stable/user_install.html\">Jupyter\n",
       "  Widgets Documentation</a> for setup instructions.\n",
       "</p>\n",
       "<p>\n",
       "  If you're reading this message in another frontend (for example, a static\n",
       "  rendering on GitHub or <a href=\"https://nbviewer.jupyter.org/\">NBViewer</a>),\n",
       "  it may mean that your frontend doesn't currently support widgets.\n",
       "</p>\n"
      ],
      "text/plain": [
       "HBox(children=(IntProgress(value=0, max=20000), HTML(value='')))"
      ]
     },
     "metadata": {},
     "output_type": "display_data"
    },
    {
     "name": "stdout",
     "output_type": "stream",
     "text": [
      "\n"
     ]
    },
    {
     "data": {
      "application/vnd.jupyter.widget-view+json": {
       "model_id": "27a60a569f6845e294de7f81b32d3234",
       "version_major": 2,
       "version_minor": 0
      },
      "text/html": [
       "<p>Failed to display Jupyter Widget of type <code>HBox</code>.</p>\n",
       "<p>\n",
       "  If you're reading this message in the Jupyter Notebook or JupyterLab Notebook, it may mean\n",
       "  that the widgets JavaScript is still loading. If this message persists, it\n",
       "  likely means that the widgets JavaScript library is either not installed or\n",
       "  not enabled. See the <a href=\"https://ipywidgets.readthedocs.io/en/stable/user_install.html\">Jupyter\n",
       "  Widgets Documentation</a> for setup instructions.\n",
       "</p>\n",
       "<p>\n",
       "  If you're reading this message in another frontend (for example, a static\n",
       "  rendering on GitHub or <a href=\"https://nbviewer.jupyter.org/\">NBViewer</a>),\n",
       "  it may mean that your frontend doesn't currently support widgets.\n",
       "</p>\n"
      ],
      "text/plain": [
       "HBox(children=(IntProgress(value=0, max=85947), HTML(value='')))"
      ]
     },
     "metadata": {},
     "output_type": "display_data"
    },
    {
     "name": "stdout",
     "output_type": "stream",
     "text": [
      "\n"
     ]
    }
   ],
   "source": [
    "write_tfrecords(test_set, term_to_number_30k, '../data/simplewiki/simplewiki-20171103.topic_model.30k.test.tfrecords')\n",
    "write_tfrecords(dev_set, term_to_number_30k, '../data/simplewiki/simplewiki-20171103.topic_model.30k.dev.tfrecords')\n",
    "write_tfrecords(train_set, term_to_number_30k, '../data/simplewiki/simplewiki-20171103.topic_model.30k.train.tfrecords')"
   ]
  },
  {
   "cell_type": "code",
   "execution_count": null,
   "metadata": {},
   "outputs": [],
   "source": []
  }
 ],
 "metadata": {
  "kernelspec": {
   "display_name": "Python 3",
   "language": "python",
   "name": "python3"
  },
  "language_info": {
   "codemirror_mode": {
    "name": "ipython",
    "version": 3
   },
   "file_extension": ".py",
   "mimetype": "text/x-python",
   "name": "python",
   "nbconvert_exporter": "python",
   "pygments_lexer": "ipython3",
   "version": "3.5.4"
  }
 },
 "nbformat": 4,
 "nbformat_minor": 2
}
