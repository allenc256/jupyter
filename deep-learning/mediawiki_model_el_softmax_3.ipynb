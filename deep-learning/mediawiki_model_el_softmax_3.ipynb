{
 "cells": [
  {
   "cell_type": "code",
   "execution_count": 1,
   "metadata": {},
   "outputs": [],
   "source": [
    "import tensorflow as tf\n",
    "import numpy as np\n",
    "import datetime\n",
    "import json\n",
    "import gzip\n",
    "import matplotlib.pyplot as plt\n",
    "import re\n",
    "import os\n",
    "import shutil\n",
    "from tqdm import tqdm_notebook"
   ]
  },
  {
   "cell_type": "code",
   "execution_count": 2,
   "metadata": {},
   "outputs": [],
   "source": [
    "sess = None"
   ]
  },
  {
   "cell_type": "code",
   "execution_count": 3,
   "metadata": {},
   "outputs": [],
   "source": [
    "def reset_tf(sess = None, log_device_placement = False):\n",
    "    if sess:\n",
    "        sess.close()\n",
    "    tf.reset_default_graph()\n",
    "    tf.set_random_seed(0)\n",
    "    return tf.InteractiveSession(config = tf.ConfigProto(log_device_placement = log_device_placement))\n",
    "\n",
    "def dump_statistics():\n",
    "    total_parameters = 0\n",
    "    for variable in tf.trainable_variables():\n",
    "        # shape is an array of tf.Dimension\n",
    "        shape = variable.get_shape()\n",
    "        variable_parameters = 1\n",
    "        for dim in shape:\n",
    "            variable_parameters *= dim.value\n",
    "        print('parameters for \"%s\": %d' % (variable.name, variable_parameters))\n",
    "        total_parameters += variable_parameters\n",
    "    print('total parameters: %d' % total_parameters)"
   ]
  },
  {
   "cell_type": "code",
   "execution_count": 4,
   "metadata": {},
   "outputs": [],
   "source": [
    "class HyperParameters:\n",
    "    learning_rate = 1e-3\n",
    "    \n",
    "    vocab_size = 30000\n",
    "    num_targets = 2000\n",
    "    \n",
    "    dropout_rate = 0.1\n",
    "    \n",
    "    context_size = 81\n",
    "    \n",
    "    d_embedding_position = 32\n",
    "    d_embedding_word = 128\n",
    "    \n",
    "    d_attention = 128\n",
    "    d_attention_ff = 512\n",
    "    \n",
    "    attention_num_layers = 4\n",
    "\n",
    "    dataset_batch_size = 512\n",
    "    dataset_num_parallel_calls = 4\n",
    "    dataset_prefetch_size = 4096\n",
    "    dataset_shuffle_size = 4096\n",
    "    \n",
    "    gradient_clip_norm = 5.0"
   ]
  },
  {
   "cell_type": "code",
   "execution_count": 5,
   "metadata": {},
   "outputs": [],
   "source": [
    "class EntityLinkingModel:\n",
    "    def __init__(self, session, hp):\n",
    "        self._session = session\n",
    "        self._hp = hp\n",
    "        \n",
    "    def _parse_example(self, example_proto):\n",
    "        parsed = tf.parse_single_example(example_proto, features = {\n",
    "            'page_id': tf.FixedLenFeature([1], tf.int64),\n",
    "            'target_id': tf.FixedLenFeature([1], tf.int64),\n",
    "            'context_word_ids': tf.FixedLenFeature([self._hp.context_size], tf.int64),\n",
    "            'link_mask': tf.FixedLenFeature([self._hp.context_size], tf.int64) })\n",
    "        \n",
    "#         # apply random crop\n",
    "#         offset = tf.random_uniform(\n",
    "#             [],\n",
    "#             maxval = self._hp.input_context_size - self._hp.context_size,\n",
    "#             dtype = tf.int32)\n",
    "#\n",
    "#         # apply croppings\n",
    "#         context_word_ids = parsed['context_word_ids']\n",
    "#         context_word_ids = context_word_ids[offset:offset + self._hp.context_size]\n",
    "#         link_mask = parsed['link_mask']\n",
    "#         link_mask = link_mask[offset:offset + self._hp.context_size]\n",
    "\n",
    "        context_word_ids = parsed['context_word_ids']\n",
    "        link_mask = parsed['link_mask']\n",
    "        \n",
    "        return (parsed['target_id'], context_word_ids, link_mask)\n",
    "\n",
    "    def _build_data_pipeline(self):\n",
    "        with tf.variable_scope('dataset'):\n",
    "            # placeholders\n",
    "            self._dataset_filenames = tf.placeholder(\n",
    "                tf.string,\n",
    "                shape = [None],\n",
    "                name = 'dataset_filenames')\n",
    "            self._dataset_limit = tf.placeholder_with_default(\n",
    "                tf.constant(-1, tf.int64),\n",
    "                shape = [],\n",
    "                name = 'dataset_limit')\n",
    "            self._dataset_shuffle_size = tf.placeholder_with_default(\n",
    "                tf.constant(self._hp.dataset_batch_size, tf.int64),\n",
    "                shape = [],\n",
    "                name = 'dataset_shuffle_size')\n",
    "            self._dataset_batch_size = tf.placeholder_with_default(\n",
    "                tf.constant(self._hp.dataset_batch_size, tf.int64),\n",
    "                shape = [],\n",
    "                name = 'dataset_batch_size')\n",
    "            self._dataset_prefetch_size = tf.placeholder_with_default(\n",
    "                tf.constant(self._hp.dataset_prefetch_size, tf.int64),\n",
    "                shape = [],\n",
    "                name = 'dataset_prefetch_size')\n",
    "\n",
    "            # build dataset\n",
    "            dataset = tf.data.TFRecordDataset(\n",
    "                tf.random_shuffle(self._dataset_filenames),\n",
    "                compression_type='GZIP')\n",
    "            dataset = dataset.take(self._dataset_limit)\n",
    "            dataset = dataset.map(\n",
    "                self._parse_example,\n",
    "                num_parallel_calls = self._hp.dataset_num_parallel_calls)\n",
    "            dataset = dataset.shuffle(self._dataset_shuffle_size)\n",
    "            dataset = dataset.prefetch(self._dataset_prefetch_size)\n",
    "            dataset = dataset.batch(self._dataset_batch_size)\n",
    "\n",
    "            # build iterator\n",
    "            self._dataset_iterator = dataset.make_initializable_iterator()\n",
    "            (target_labels, context_word_ids, link_mask) = self._dataset_iterator.get_next()\n",
    "            target_labels = tf.squeeze(target_labels, axis = -1)\n",
    "\n",
    "            # give key tensors names\n",
    "            self._context_word_ids = tf.identity(context_word_ids, 'context_word_ids')\n",
    "            self._target_labels = tf.identity(target_labels, 'target_labels')\n",
    "            self._link_mask = tf.identity(link_mask, 'link_mask')\n",
    "\n",
    "            # minibatch size\n",
    "            self._minibatch_size = tf.shape(self._context_word_ids)[0]\n",
    "            self._minibatch_size = tf.identity(self._minibatch_size, 'minibatch_size')\n",
    "            \n",
    "            # positions\n",
    "            p = tf.range(self._hp.context_size, dtype = tf.int64)\n",
    "            p = tf.tile(p, [self._minibatch_size])\n",
    "            p = tf.reshape(\n",
    "                p,\n",
    "                [self._minibatch_size, self._hp.context_size],\n",
    "                name = 'context_positions')\n",
    "            self._context_positions = p\n",
    "            \n",
    "    def _attention_self(self, layer):\n",
    "        with tf.variable_scope('self'):\n",
    "            # variables\n",
    "            kernels = tf.get_variable(\n",
    "                'kernels',\n",
    "                [2, self._hp.d_attention, self._hp.d_attention])\n",
    "            \n",
    "            # compute weights\n",
    "            k0 = tf.tensordot(layer, kernels[0], axes = 1) # [batch_size, context_size, d_attention]\n",
    "            k0.set_shape([None, self._hp.context_size, self._hp.d_attention])\n",
    "            k1 = tf.tensordot(layer, kernels[1], axes = 1) # [batch_size, context_size, d_attention]\n",
    "            k1.set_shape([None, self._hp.context_size, self._hp.d_attention])\n",
    "            k1 = tf.transpose(k1, perm = [0, 2, 1])        # [batch_size, d_attention, context_size]\n",
    "            w = tf.matmul(k0, k1)                          # [batch_size, context_size, context_size]\n",
    "            mask = tf.diag([-1e20] * self._hp.context_size)\n",
    "            mask = tf.expand_dims(mask, axis = 0)          # [1, context_size, context_size]\n",
    "            w += mask\n",
    "            w *= self._attention_scaling_factor\n",
    "            w = tf.nn.softmax(w)\n",
    "            \n",
    "            # apply weights\n",
    "            layer += tf.matmul(w, layer)\n",
    "            \n",
    "#             mask1 = tf.fill([self._hp.context_size, self._hp.context_size], -1e20)\n",
    "#             mask2 = mask1\n",
    "#             mask1 = tf.matrix_band_part(mask1, 0, -1)\n",
    "#             mask2 = tf.matrix_band_part(mask2, -1, 0)\n",
    "#             mask1 = tf.expand_dims(mask1, axis = 0)        # [1, context_size, context_size]\n",
    "#             mask2 = tf.expand_dims(mask2, axis = 0)        # [1, context_size, context_size]\n",
    "#             w1 = w + mask1\n",
    "#             w2 = w + mask2\n",
    "# #             w1 *= self._attention_scaling_factor\n",
    "# #             w2 *= self._attention_scaling_factor\n",
    "#             w1 = tf.nn.softmax(w1)\n",
    "#             w2 = tf.nn.softmax(w2)\n",
    "#            \n",
    "#             # apply weights\n",
    "#             layer = layer + tf.matmul(w1, layer) + tf.matmul(w2, layer)\n",
    "            \n",
    "            # batch norm\n",
    "            layer = tf.layers.batch_normalization(\n",
    "                layer,\n",
    "                training = self._training)\n",
    "\n",
    "            # dropout\n",
    "            layer = tf.layers.dropout(\n",
    "                layer,\n",
    "                rate = self._hp.dropout_rate,\n",
    "                training = self._training)\n",
    "            \n",
    "            return layer\n",
    "    \n",
    "    def _attention_output(self, layer):\n",
    "        with tf.variable_scope('output'):\n",
    "            # variables\n",
    "            kernel = tf.get_variable(\n",
    "                'kernel',\n",
    "                [self._hp.d_attention, self._hp.d_attention])\n",
    "            query = tf.get_variable(\n",
    "                'query',\n",
    "                [self._hp.d_attention, 1])\n",
    "            \n",
    "            # compute weights\n",
    "            k = tf.tensordot(layer, kernel, axes = 1) # [batch_size, context_size, d_attention]\n",
    "            k.set_shape([None, self._hp.context_size, self._hp.d_attention])\n",
    "            w = tf.tensordot(k, query, axes = 1)      # [batch_size, context_size, 1]\n",
    "            w.set_shape([None, self._hp.context_size, 1])\n",
    "            w *= self._attention_scaling_factor\n",
    "            mask = (1.0 - tf.cast(self._link_mask, tf.float32)) * -1e20 # [batch_size, context_size]\n",
    "            mask = tf.expand_dims(mask, axis = -1)    # [batch_size, context_size, 1]\n",
    "            w += mask\n",
    "            w = tf.nn.softmax(w, dim = 1)\n",
    "            \n",
    "            # apply weights\n",
    "            layer *= w\n",
    "            layer = tf.reduce_sum(layer, axis = -2)   # [batch_size, d_attention]\n",
    "            \n",
    "            return layer\n",
    "            \n",
    "#     def _attention_self(self, layer):\n",
    "#         with tf.variable_scope('self'):\n",
    "#             # variables\n",
    "#             inner_kernel = tf.get_variable(\n",
    "#                 'inner_kernel',\n",
    "#                 [2, self._hp.d_attention, self._hp.d_attention])\n",
    "#             inner_bias = tf.get_variable(\n",
    "#                 'inner_bias',\n",
    "#                 [1, 1, 1, self._hp.d_attention])\n",
    "#             outer_kernel = tf.get_variable(\n",
    "#                 'outer_kernel',\n",
    "#                 [self._hp.d_attention, 1])\n",
    "#\n",
    "#             # compute weights\n",
    "#             w0 = tf.tensordot(layer, inner_kernel[0], axes = 1)\n",
    "#             w0.set_shape([None, self._hp.context_size, self._hp.d_attention])\n",
    "#             w1 = tf.tensordot(layer, inner_kernel[1], axes = 1)\n",
    "#             w1.set_shape([None, self._hp.context_size, self._hp.d_attention])\n",
    "#             w0 = tf.expand_dims(w0, axis = -2)\n",
    "#             w1 = tf.expand_dims(w1, axis = -3)\n",
    "#             w = tf.tanh(w0 + w1 + inner_bias)\n",
    "#             w = tf.tensordot(w, outer_kernel, axes = 1)\n",
    "#             w.set_shape([None, self._hp.context_size, self._hp.context_size, 1])\n",
    "#             w = tf.nn.softmax(w, dim = 2)\n",
    "#\n",
    "#             # apply weights\n",
    "#             layer = tf.reshape(layer, [-1, 1, self._hp.context_size, self._hp.d_attention])\n",
    "#             layer *= w\n",
    "#             layer = tf.reduce_sum(layer, axis = -2)\n",
    "#\n",
    "#             # batch norm\n",
    "#             layer = tf.layers.batch_normalization(layer, training = self._training)\n",
    "#\n",
    "#             # dropout\n",
    "#             layer = tf.layers.dropout(\n",
    "#                 layer, \n",
    "#                 rate = self._hp.dropout_rate, \n",
    "#                 training = self._training)\n",
    "#\n",
    "#             return layer\n",
    "#\n",
    "#     def _attention_output(self, layer):\n",
    "#         with tf.variable_scope('output'):\n",
    "#             # variables\n",
    "#             inner_kernel = tf.get_variable(\n",
    "#                 'inner_kernel',\n",
    "#                 [self._hp.d_attention, self._hp.d_attention])\n",
    "#             inner_bias = tf.get_variable(\n",
    "#                 'inner_bias',\n",
    "#                 [1, 1, self._hp.d_attention])\n",
    "#             outer_kernel = tf.get_variable(\n",
    "#                 'outer_kernel',\n",
    "#                 [self._hp.d_attention, 1])\n",
    "#            \n",
    "#             # compute weights\n",
    "#             w = tf.tensordot(layer, inner_kernel, axes = 1)\n",
    "#             w.set_shape([None, self._hp.context_size, self._hp.d_attention])\n",
    "#             w += inner_bias\n",
    "#             w = tf.tanh(w)\n",
    "#             w = tf.tensordot(w, outer_kernel, axes = 1)\n",
    "#             w.set_shape([None, self._hp.context_size, 1])\n",
    "#            \n",
    "#             # apply link mask\n",
    "#             link_mask_bias = (1.0 - tf.cast(self._link_mask, tf.float32)) * -1e20\n",
    "#             link_mask_bias = tf.reshape(link_mask_bias, [-1, self._hp.context_size, 1])\n",
    "#             w += link_mask_bias\n",
    "#            \n",
    "#             # softmax\n",
    "#             w = tf.nn.softmax(w, dim = 1)\n",
    "#            \n",
    "#             # apply weights\n",
    "#             layer *= w\n",
    "#             layer = tf.reduce_sum(layer, axis = -2)\n",
    "#            \n",
    "#             return layer\n",
    "\n",
    "    def _attention_feed_forward(self, layer):\n",
    "        with tf.variable_scope('ff'):\n",
    "            # hidden layer\n",
    "            layer = tf.layers.dense(\n",
    "                layer,\n",
    "                self._hp.d_attention_ff,\n",
    "                activation = tf.nn.relu,\n",
    "                name = 'fc1')\n",
    "            \n",
    "            # output\n",
    "            layer = tf.layers.dense(\n",
    "                layer,\n",
    "                self._hp.d_attention,\n",
    "                name = 'fc2')\n",
    "            \n",
    "            # batch norm\n",
    "            layer = tf.layers.batch_normalization(\n",
    "                layer,\n",
    "                training = self._training)\n",
    "            \n",
    "            # dropout\n",
    "            layer = tf.layers.dropout(\n",
    "                layer, \n",
    "                rate = self._hp.dropout_rate, \n",
    "                training = self._training)\n",
    "        \n",
    "            return layer\n",
    "            \n",
    "    def _build_model(self):\n",
    "        with tf.variable_scope('model'):\n",
    "            # placeholder: training flag\n",
    "            self._training = tf.placeholder(tf.bool, name = 'training')\n",
    "            \n",
    "            # embed context words\n",
    "            word_embeddings = tf.get_variable(\n",
    "                'word_embeddings', \n",
    "                [self._hp.vocab_size, self._hp.d_embedding_word])\n",
    "            context_words_embedded = tf.nn.embedding_lookup(\n",
    "                word_embeddings,\n",
    "                self._context_word_ids)\n",
    "\n",
    "            # embed context positions\n",
    "            position_embeddings = tf.get_variable(\n",
    "                'position_embeddings',\n",
    "                [self._hp.context_size, self._hp.d_embedding_position],\n",
    "                dtype=tf.float32)\n",
    "            context_positions_embedded = tf.nn.embedding_lookup(\n",
    "                position_embeddings,\n",
    "                self._context_positions)\n",
    "\n",
    "            # build full context vector (concat embeddings)\n",
    "            context_full = tf.concat(\n",
    "                [context_words_embedded, context_positions_embedded], \n",
    "                axis=-1)\n",
    "            \n",
    "            # build attention layers\n",
    "            with tf.variable_scope('attention'):\n",
    "                # scaling factor\n",
    "                self._attention_scaling_factor = tf.get_variable(\n",
    "                    'scaling_factor',\n",
    "                    shape = [],\n",
    "                    initializer = tf.constant_initializer([1.0 / np.sqrt(self._hp.d_attention)]))\n",
    "                \n",
    "                # build input vector\n",
    "                context_attention = tf.layers.dense(\n",
    "                    context_full,\n",
    "                    self._hp.d_attention,\n",
    "                    activation=tf.nn.relu,\n",
    "                    name='input')\n",
    "                context_attention = tf.layers.batch_normalization(\n",
    "                    context_attention,\n",
    "                    training=self._training,\n",
    "                    name='input')\n",
    "                context_attention = tf.layers.dropout(\n",
    "                    context_attention,\n",
    "                    rate=self._hp.dropout_rate,\n",
    "                    training=self._training)\n",
    "                \n",
    "                layer = context_attention\n",
    "                for i in range(self._hp.attention_num_layers):\n",
    "                    with tf.variable_scope('layer_%d' % i):\n",
    "                        layer = self._attention_self(layer)\n",
    "#                         layer = self._attention_feed_forward(layer)\n",
    "                    \n",
    "                layer = self._attention_output(layer)\n",
    "            \n",
    "            # build final softmax layer\n",
    "            self._output_logits = tf.layers.dense(\n",
    "                layer,\n",
    "                self._hp.num_targets,\n",
    "                name = 'softmax')\n",
    "\n",
    "    def _build_training_model(self):\n",
    "        with tf.variable_scope('train'):\n",
    "            losses = tf.nn.sparse_softmax_cross_entropy_with_logits(\n",
    "                labels = self._target_labels,\n",
    "                logits = self._output_logits)\n",
    "            \n",
    "            self._total_loss = tf.reduce_sum(losses, name = 'total_loss')\n",
    "            self._mean_loss = tf.reduce_mean(losses, name = 'mean_loss')\n",
    "            \n",
    "            # N.B., tf.nn.softmax here is unnecessary?\n",
    "            output_probs = tf.nn.softmax(self._output_logits)\n",
    "            output_labels = tf.argmax(output_probs, axis=-1)\n",
    "            correct_labels = tf.cast(\n",
    "                tf.equal(output_labels, self._target_labels), \n",
    "                tf.int32)\n",
    "            self._output_labels = tf.identity(output_labels, name = 'output_labels')\n",
    "            self._num_correct_labels = tf.reduce_sum(correct_labels, name = 'num_correct_labels')\n",
    "            \n",
    "            update_ops = tf.get_collection(tf.GraphKeys.UPDATE_OPS)\n",
    "            with tf.control_dependencies(update_ops):\n",
    "                self._global_step = tf.Variable(0, name='global_step', trainable=False)\n",
    "                self._optimizer = tf.train.AdamOptimizer(learning_rate=self._hp.learning_rate)\n",
    "                \n",
    "                # gradient clipping\n",
    "                gradients, variables = zip(*self._optimizer.compute_gradients(self._mean_loss))\n",
    "                gradients, _ = tf.clip_by_global_norm(\n",
    "                    gradients, \n",
    "                    self._hp.gradient_clip_norm)\n",
    "                \n",
    "                self._train_op = self._optimizer.apply_gradients(\n",
    "                    zip(gradients, variables),\n",
    "                    global_step = self._global_step)\n",
    "#                 self._train_op = self._optimizer.minimize(\n",
    "#                     self._mean_loss,\n",
    "#                     global_step=self._global_step)\n",
    "\n",
    "    \n",
    "    def build_model(self):\n",
    "        self._build_data_pipeline()\n",
    "        self._build_model()\n",
    "        self._build_training_model()\n",
    "\n",
    "    def process(self,\n",
    "                dataset_filenames,\n",
    "                dataset_limit = -1,\n",
    "                header = 'results',\n",
    "                train = False,\n",
    "                log_file = None):\n",
    "        # initialize dataset to files\n",
    "        self._session.run(self._dataset_iterator.initializer, feed_dict={\n",
    "            self._dataset_filenames: dataset_filenames,\n",
    "            self._dataset_limit: dataset_limit })\n",
    "\n",
    "        cum_loss = 0\n",
    "        cum_num_examples = 0\n",
    "        cum_correct_examples = 0\n",
    "        \n",
    "        start = datetime.datetime.now()\n",
    "        progress = tqdm_notebook(leave = False, desc = header)\n",
    "\n",
    "        while True:\n",
    "            # process a minibatch\n",
    "            try:\n",
    "                (_,\n",
    "                 curr_total_loss, \n",
    "                 curr_minibatch_size,\n",
    "                 curr_num_correct_labels) = self._session.run(\n",
    "                    (self._train_op if train else (),\n",
    "                     self._total_loss,\n",
    "                     self._minibatch_size,\n",
    "                     self._num_correct_labels),\n",
    "                    feed_dict = { self._training: train })\n",
    "            except tf.errors.OutOfRangeError:\n",
    "                break\n",
    "\n",
    "            # update stats/progress\n",
    "            cum_loss += curr_total_loss\n",
    "            cum_num_examples += curr_minibatch_size\n",
    "            cum_correct_examples += curr_num_correct_labels\n",
    "            progress.update(curr_minibatch_size)\n",
    "\n",
    "        progress.close()\n",
    "        finish = datetime.datetime.now()\n",
    "\n",
    "        # print/log output\n",
    "        message = '%s: time=%s, step=%d, loss=%g, accuracy=%g' % (\n",
    "            header,\n",
    "            finish - start,\n",
    "            tf.train.global_step(sess, self._global_step),\n",
    "            cum_loss / cum_num_examples,\n",
    "            cum_correct_examples / cum_num_examples)\n",
    "        print(message)\n",
    "        if log_file:\n",
    "            print(message, file=log_file)\n",
    "            log_file.flush()"
   ]
  },
  {
   "cell_type": "code",
   "execution_count": 6,
   "metadata": {},
   "outputs": [
    {
     "name": "stdout",
     "output_type": "stream",
     "text": [
      "parameters for \"model/word_embeddings:0\": 3840000\n",
      "parameters for \"model/position_embeddings:0\": 2592\n",
      "parameters for \"model/attention/scaling_factor:0\": 1\n",
      "parameters for \"model/attention/input/kernel:0\": 20480\n",
      "parameters for \"model/attention/input/bias:0\": 128\n",
      "parameters for \"model/attention/input/gamma:0\": 128\n",
      "parameters for \"model/attention/input/beta:0\": 128\n",
      "parameters for \"model/attention/layer_0/self/kernels:0\": 32768\n",
      "parameters for \"model/attention/layer_0/self/batch_normalization/gamma:0\": 128\n",
      "parameters for \"model/attention/layer_0/self/batch_normalization/beta:0\": 128\n",
      "parameters for \"model/attention/layer_1/self/kernels:0\": 32768\n",
      "parameters for \"model/attention/layer_1/self/batch_normalization/gamma:0\": 128\n",
      "parameters for \"model/attention/layer_1/self/batch_normalization/beta:0\": 128\n",
      "parameters for \"model/attention/layer_2/self/kernels:0\": 32768\n",
      "parameters for \"model/attention/layer_2/self/batch_normalization/gamma:0\": 128\n",
      "parameters for \"model/attention/layer_2/self/batch_normalization/beta:0\": 128\n",
      "parameters for \"model/attention/layer_3/self/kernels:0\": 32768\n",
      "parameters for \"model/attention/layer_3/self/batch_normalization/gamma:0\": 128\n",
      "parameters for \"model/attention/layer_3/self/batch_normalization/beta:0\": 128\n",
      "parameters for \"model/attention/output/kernel:0\": 16384\n",
      "parameters for \"model/attention/output/query:0\": 128\n",
      "parameters for \"model/softmax/kernel:0\": 256000\n",
      "parameters for \"model/softmax/bias:0\": 2000\n",
      "total parameters: 4270065\n"
     ]
    }
   ],
   "source": [
    "sess = reset_tf(sess)\n",
    "\n",
    "model = EntityLinkingModel(sess, HyperParameters())\n",
    "model.build_model()\n",
    "dump_statistics()"
   ]
  },
  {
   "cell_type": "code",
   "execution_count": 7,
   "metadata": {},
   "outputs": [],
   "source": [
    "sess.run(tf.global_variables_initializer())"
   ]
  },
  {
   "cell_type": "code",
   "execution_count": 8,
   "metadata": {},
   "outputs": [],
   "source": [
    "def list_files(path):\n",
    "    return sorted([os.path.join(path, file) for file in os.listdir(path)])\n",
    "\n",
    "train_set = list_files('../data/simplewiki/simplewiki-20171103.el_softmax_3.train')\n",
    "dev_set = list_files('../data/simplewiki/simplewiki-20171103.el_softmax_3.dev')\n",
    "test_set = list_files('../data/simplewiki/simplewiki-20171103.el_softmax_3.test')"
   ]
  },
  {
   "cell_type": "code",
   "execution_count": 9,
   "metadata": {
    "scrolled": true
   },
   "outputs": [
    {
     "data": {
      "application/vnd.jupyter.widget-view+json": {
       "model_id": "e8c689302d4a49b1a9f001c605ec522e",
       "version_major": 2,
       "version_minor": 0
      },
      "text/html": [
       "<p>Failed to display Jupyter Widget of type <code>HBox</code>.</p>\n",
       "<p>\n",
       "  If you're reading this message in the Jupyter Notebook or JupyterLab Notebook, it may mean\n",
       "  that the widgets JavaScript is still loading. If this message persists, it\n",
       "  likely means that the widgets JavaScript library is either not installed or\n",
       "  not enabled. See the <a href=\"https://ipywidgets.readthedocs.io/en/stable/user_install.html\">Jupyter\n",
       "  Widgets Documentation</a> for setup instructions.\n",
       "</p>\n",
       "<p>\n",
       "  If you're reading this message in another frontend (for example, a static\n",
       "  rendering on GitHub or <a href=\"https://nbviewer.jupyter.org/\">NBViewer</a>),\n",
       "  it may mean that your frontend doesn't currently support widgets.\n",
       "</p>\n"
      ],
      "text/plain": [
       "HBox(children=(IntProgress(value=1, bar_style='info', description='train 0', max=1), HTML(value='')))"
      ]
     },
     "metadata": {},
     "output_type": "display_data"
    },
    {
     "name": "stdout",
     "output_type": "stream",
     "text": [
      "\r",
      "train 0: time=0:01:23.209245, step=971, loss=0.703767, accuracy=0.884498\n"
     ]
    },
    {
     "data": {
      "application/vnd.jupyter.widget-view+json": {
       "model_id": "a6ce05e599be4b5f945131d3418fa116",
       "version_major": 2,
       "version_minor": 0
      },
      "text/html": [
       "<p>Failed to display Jupyter Widget of type <code>HBox</code>.</p>\n",
       "<p>\n",
       "  If you're reading this message in the Jupyter Notebook or JupyterLab Notebook, it may mean\n",
       "  that the widgets JavaScript is still loading. If this message persists, it\n",
       "  likely means that the widgets JavaScript library is either not installed or\n",
       "  not enabled. See the <a href=\"https://ipywidgets.readthedocs.io/en/stable/user_install.html\">Jupyter\n",
       "  Widgets Documentation</a> for setup instructions.\n",
       "</p>\n",
       "<p>\n",
       "  If you're reading this message in another frontend (for example, a static\n",
       "  rendering on GitHub or <a href=\"https://nbviewer.jupyter.org/\">NBViewer</a>),\n",
       "  it may mean that your frontend doesn't currently support widgets.\n",
       "</p>\n"
      ],
      "text/plain": [
       "HBox(children=(IntProgress(value=1, bar_style='info', description='dev 0', max=1), HTML(value='')))"
      ]
     },
     "metadata": {},
     "output_type": "display_data"
    },
    {
     "name": "stdout",
     "output_type": "stream",
     "text": [
      "\r",
      "dev 0: time=0:00:01.104951, step=971, loss=0.201264, accuracy=0.95705\n"
     ]
    },
    {
     "data": {
      "application/vnd.jupyter.widget-view+json": {
       "model_id": "6b57f47b35e849bc876aa3fc0cd40b86",
       "version_major": 2,
       "version_minor": 0
      },
      "text/html": [
       "<p>Failed to display Jupyter Widget of type <code>HBox</code>.</p>\n",
       "<p>\n",
       "  If you're reading this message in the Jupyter Notebook or JupyterLab Notebook, it may mean\n",
       "  that the widgets JavaScript is still loading. If this message persists, it\n",
       "  likely means that the widgets JavaScript library is either not installed or\n",
       "  not enabled. See the <a href=\"https://ipywidgets.readthedocs.io/en/stable/user_install.html\">Jupyter\n",
       "  Widgets Documentation</a> for setup instructions.\n",
       "</p>\n",
       "<p>\n",
       "  If you're reading this message in another frontend (for example, a static\n",
       "  rendering on GitHub or <a href=\"https://nbviewer.jupyter.org/\">NBViewer</a>),\n",
       "  it may mean that your frontend doesn't currently support widgets.\n",
       "</p>\n"
      ],
      "text/plain": [
       "HBox(children=(IntProgress(value=1, bar_style='info', description='train 1', max=1), HTML(value='')))"
      ]
     },
     "metadata": {},
     "output_type": "display_data"
    },
    {
     "name": "stdout",
     "output_type": "stream",
     "text": [
      "\r",
      "train 1: time=0:01:22.770077, step=1942, loss=0.170871, accuracy=0.961664\n"
     ]
    },
    {
     "data": {
      "application/vnd.jupyter.widget-view+json": {
       "model_id": "0203f215f1014497bfc0b206e4bc925c",
       "version_major": 2,
       "version_minor": 0
      },
      "text/html": [
       "<p>Failed to display Jupyter Widget of type <code>HBox</code>.</p>\n",
       "<p>\n",
       "  If you're reading this message in the Jupyter Notebook or JupyterLab Notebook, it may mean\n",
       "  that the widgets JavaScript is still loading. If this message persists, it\n",
       "  likely means that the widgets JavaScript library is either not installed or\n",
       "  not enabled. See the <a href=\"https://ipywidgets.readthedocs.io/en/stable/user_install.html\">Jupyter\n",
       "  Widgets Documentation</a> for setup instructions.\n",
       "</p>\n",
       "<p>\n",
       "  If you're reading this message in another frontend (for example, a static\n",
       "  rendering on GitHub or <a href=\"https://nbviewer.jupyter.org/\">NBViewer</a>),\n",
       "  it may mean that your frontend doesn't currently support widgets.\n",
       "</p>\n"
      ],
      "text/plain": [
       "HBox(children=(IntProgress(value=1, bar_style='info', description='dev 1', max=1), HTML(value='')))"
      ]
     },
     "metadata": {},
     "output_type": "display_data"
    },
    {
     "name": "stdout",
     "output_type": "stream",
     "text": [
      "\r",
      "dev 1: time=0:00:00.992128, step=1942, loss=0.170788, accuracy=0.96365\n"
     ]
    },
    {
     "data": {
      "application/vnd.jupyter.widget-view+json": {
       "model_id": "a3d3a6612c734c97b95ba5822fd1445c",
       "version_major": 2,
       "version_minor": 0
      },
      "text/html": [
       "<p>Failed to display Jupyter Widget of type <code>HBox</code>.</p>\n",
       "<p>\n",
       "  If you're reading this message in the Jupyter Notebook or JupyterLab Notebook, it may mean\n",
       "  that the widgets JavaScript is still loading. If this message persists, it\n",
       "  likely means that the widgets JavaScript library is either not installed or\n",
       "  not enabled. See the <a href=\"https://ipywidgets.readthedocs.io/en/stable/user_install.html\">Jupyter\n",
       "  Widgets Documentation</a> for setup instructions.\n",
       "</p>\n",
       "<p>\n",
       "  If you're reading this message in another frontend (for example, a static\n",
       "  rendering on GitHub or <a href=\"https://nbviewer.jupyter.org/\">NBViewer</a>),\n",
       "  it may mean that your frontend doesn't currently support widgets.\n",
       "</p>\n"
      ],
      "text/plain": [
       "HBox(children=(IntProgress(value=1, bar_style='info', description='train 2', max=1), HTML(value='')))"
      ]
     },
     "metadata": {},
     "output_type": "display_data"
    },
    {
     "name": "stdout",
     "output_type": "stream",
     "text": [
      "\r",
      "train 2: time=0:01:22.776234, step=2913, loss=0.126333, accuracy=0.969252\n"
     ]
    },
    {
     "data": {
      "application/vnd.jupyter.widget-view+json": {
       "model_id": "a355caadb26e471b891fed7955269d3a",
       "version_major": 2,
       "version_minor": 0
      },
      "text/html": [
       "<p>Failed to display Jupyter Widget of type <code>HBox</code>.</p>\n",
       "<p>\n",
       "  If you're reading this message in the Jupyter Notebook or JupyterLab Notebook, it may mean\n",
       "  that the widgets JavaScript is still loading. If this message persists, it\n",
       "  likely means that the widgets JavaScript library is either not installed or\n",
       "  not enabled. See the <a href=\"https://ipywidgets.readthedocs.io/en/stable/user_install.html\">Jupyter\n",
       "  Widgets Documentation</a> for setup instructions.\n",
       "</p>\n",
       "<p>\n",
       "  If you're reading this message in another frontend (for example, a static\n",
       "  rendering on GitHub or <a href=\"https://nbviewer.jupyter.org/\">NBViewer</a>),\n",
       "  it may mean that your frontend doesn't currently support widgets.\n",
       "</p>\n"
      ],
      "text/plain": [
       "HBox(children=(IntProgress(value=1, bar_style='info', description='dev 2', max=1), HTML(value='')))"
      ]
     },
     "metadata": {},
     "output_type": "display_data"
    },
    {
     "name": "stdout",
     "output_type": "stream",
     "text": [
      "\r",
      "dev 2: time=0:00:00.980019, step=2913, loss=0.164789, accuracy=0.96495\n"
     ]
    },
    {
     "data": {
      "application/vnd.jupyter.widget-view+json": {
       "model_id": "8adb9dca2d3647dc95ef150cf5eb7c87",
       "version_major": 2,
       "version_minor": 0
      },
      "text/html": [
       "<p>Failed to display Jupyter Widget of type <code>HBox</code>.</p>\n",
       "<p>\n",
       "  If you're reading this message in the Jupyter Notebook or JupyterLab Notebook, it may mean\n",
       "  that the widgets JavaScript is still loading. If this message persists, it\n",
       "  likely means that the widgets JavaScript library is either not installed or\n",
       "  not enabled. See the <a href=\"https://ipywidgets.readthedocs.io/en/stable/user_install.html\">Jupyter\n",
       "  Widgets Documentation</a> for setup instructions.\n",
       "</p>\n",
       "<p>\n",
       "  If you're reading this message in another frontend (for example, a static\n",
       "  rendering on GitHub or <a href=\"https://nbviewer.jupyter.org/\">NBViewer</a>),\n",
       "  it may mean that your frontend doesn't currently support widgets.\n",
       "</p>\n"
      ],
      "text/plain": [
       "HBox(children=(IntProgress(value=1, bar_style='info', description='train 3', max=1), HTML(value='')))"
      ]
     },
     "metadata": {},
     "output_type": "display_data"
    },
    {
     "name": "stdout",
     "output_type": "stream",
     "text": [
      "\r",
      "train 3: time=0:01:22.778541, step=3884, loss=0.0944217, accuracy=0.975681\n"
     ]
    },
    {
     "data": {
      "application/vnd.jupyter.widget-view+json": {
       "model_id": "28453c9384de498aac41660a5f3f6c5f",
       "version_major": 2,
       "version_minor": 0
      },
      "text/html": [
       "<p>Failed to display Jupyter Widget of type <code>HBox</code>.</p>\n",
       "<p>\n",
       "  If you're reading this message in the Jupyter Notebook or JupyterLab Notebook, it may mean\n",
       "  that the widgets JavaScript is still loading. If this message persists, it\n",
       "  likely means that the widgets JavaScript library is either not installed or\n",
       "  not enabled. See the <a href=\"https://ipywidgets.readthedocs.io/en/stable/user_install.html\">Jupyter\n",
       "  Widgets Documentation</a> for setup instructions.\n",
       "</p>\n",
       "<p>\n",
       "  If you're reading this message in another frontend (for example, a static\n",
       "  rendering on GitHub or <a href=\"https://nbviewer.jupyter.org/\">NBViewer</a>),\n",
       "  it may mean that your frontend doesn't currently support widgets.\n",
       "</p>\n"
      ],
      "text/plain": [
       "HBox(children=(IntProgress(value=1, bar_style='info', description='dev 3', max=1), HTML(value='')))"
      ]
     },
     "metadata": {},
     "output_type": "display_data"
    },
    {
     "name": "stdout",
     "output_type": "stream",
     "text": [
      "\r",
      "dev 3: time=0:00:00.983211, step=3884, loss=0.166011, accuracy=0.9679\n"
     ]
    },
    {
     "data": {
      "application/vnd.jupyter.widget-view+json": {
       "model_id": "d43d04992a0f484db1aacc8834fb0f20",
       "version_major": 2,
       "version_minor": 0
      },
      "text/html": [
       "<p>Failed to display Jupyter Widget of type <code>HBox</code>.</p>\n",
       "<p>\n",
       "  If you're reading this message in the Jupyter Notebook or JupyterLab Notebook, it may mean\n",
       "  that the widgets JavaScript is still loading. If this message persists, it\n",
       "  likely means that the widgets JavaScript library is either not installed or\n",
       "  not enabled. See the <a href=\"https://ipywidgets.readthedocs.io/en/stable/user_install.html\">Jupyter\n",
       "  Widgets Documentation</a> for setup instructions.\n",
       "</p>\n",
       "<p>\n",
       "  If you're reading this message in another frontend (for example, a static\n",
       "  rendering on GitHub or <a href=\"https://nbviewer.jupyter.org/\">NBViewer</a>),\n",
       "  it may mean that your frontend doesn't currently support widgets.\n",
       "</p>\n"
      ],
      "text/plain": [
       "HBox(children=(IntProgress(value=1, bar_style='info', description='train 4', max=1), HTML(value='')))"
      ]
     },
     "metadata": {},
     "output_type": "display_data"
    },
    {
     "name": "stdout",
     "output_type": "stream",
     "text": [
      "\r",
      "train 4: time=0:01:22.780519, step=4855, loss=0.0720634, accuracy=0.98036\n"
     ]
    },
    {
     "data": {
      "application/vnd.jupyter.widget-view+json": {
       "model_id": "ea121166453747f5b121c198ec3d7752",
       "version_major": 2,
       "version_minor": 0
      },
      "text/html": [
       "<p>Failed to display Jupyter Widget of type <code>HBox</code>.</p>\n",
       "<p>\n",
       "  If you're reading this message in the Jupyter Notebook or JupyterLab Notebook, it may mean\n",
       "  that the widgets JavaScript is still loading. If this message persists, it\n",
       "  likely means that the widgets JavaScript library is either not installed or\n",
       "  not enabled. See the <a href=\"https://ipywidgets.readthedocs.io/en/stable/user_install.html\">Jupyter\n",
       "  Widgets Documentation</a> for setup instructions.\n",
       "</p>\n",
       "<p>\n",
       "  If you're reading this message in another frontend (for example, a static\n",
       "  rendering on GitHub or <a href=\"https://nbviewer.jupyter.org/\">NBViewer</a>),\n",
       "  it may mean that your frontend doesn't currently support widgets.\n",
       "</p>\n"
      ],
      "text/plain": [
       "HBox(children=(IntProgress(value=1, bar_style='info', description='dev 4', max=1), HTML(value='')))"
      ]
     },
     "metadata": {},
     "output_type": "display_data"
    },
    {
     "name": "stdout",
     "output_type": "stream",
     "text": [
      "\r",
      "dev 4: time=0:00:00.995295, step=4855, loss=0.173113, accuracy=0.96765\n"
     ]
    },
    {
     "data": {
      "application/vnd.jupyter.widget-view+json": {
       "model_id": "290032f2dbc84b808a21cf782624686e",
       "version_major": 2,
       "version_minor": 0
      },
      "text/html": [
       "<p>Failed to display Jupyter Widget of type <code>HBox</code>.</p>\n",
       "<p>\n",
       "  If you're reading this message in the Jupyter Notebook or JupyterLab Notebook, it may mean\n",
       "  that the widgets JavaScript is still loading. If this message persists, it\n",
       "  likely means that the widgets JavaScript library is either not installed or\n",
       "  not enabled. See the <a href=\"https://ipywidgets.readthedocs.io/en/stable/user_install.html\">Jupyter\n",
       "  Widgets Documentation</a> for setup instructions.\n",
       "</p>\n",
       "<p>\n",
       "  If you're reading this message in another frontend (for example, a static\n",
       "  rendering on GitHub or <a href=\"https://nbviewer.jupyter.org/\">NBViewer</a>),\n",
       "  it may mean that your frontend doesn't currently support widgets.\n",
       "</p>\n"
      ],
      "text/plain": [
       "HBox(children=(IntProgress(value=1, bar_style='info', description='train 5', max=1), HTML(value='')))"
      ]
     },
     "metadata": {},
     "output_type": "display_data"
    },
    {
     "name": "stdout",
     "output_type": "stream",
     "text": [
      "\r",
      "train 5: time=0:01:22.782666, step=5826, loss=0.0578688, accuracy=0.983766\n"
     ]
    },
    {
     "data": {
      "application/vnd.jupyter.widget-view+json": {
       "model_id": "570e4c92ef60434fb61c59e59a43af99",
       "version_major": 2,
       "version_minor": 0
      },
      "text/html": [
       "<p>Failed to display Jupyter Widget of type <code>HBox</code>.</p>\n",
       "<p>\n",
       "  If you're reading this message in the Jupyter Notebook or JupyterLab Notebook, it may mean\n",
       "  that the widgets JavaScript is still loading. If this message persists, it\n",
       "  likely means that the widgets JavaScript library is either not installed or\n",
       "  not enabled. See the <a href=\"https://ipywidgets.readthedocs.io/en/stable/user_install.html\">Jupyter\n",
       "  Widgets Documentation</a> for setup instructions.\n",
       "</p>\n",
       "<p>\n",
       "  If you're reading this message in another frontend (for example, a static\n",
       "  rendering on GitHub or <a href=\"https://nbviewer.jupyter.org/\">NBViewer</a>),\n",
       "  it may mean that your frontend doesn't currently support widgets.\n",
       "</p>\n"
      ],
      "text/plain": [
       "HBox(children=(IntProgress(value=1, bar_style='info', description='dev 5', max=1), HTML(value='')))"
      ]
     },
     "metadata": {},
     "output_type": "display_data"
    },
    {
     "name": "stdout",
     "output_type": "stream",
     "text": [
      "\r",
      "dev 5: time=0:00:00.978940, step=5826, loss=0.185273, accuracy=0.96765\n"
     ]
    },
    {
     "data": {
      "application/vnd.jupyter.widget-view+json": {
       "model_id": "dae3eb9bbd734fdab076832adf3e12c0",
       "version_major": 2,
       "version_minor": 0
      },
      "text/html": [
       "<p>Failed to display Jupyter Widget of type <code>HBox</code>.</p>\n",
       "<p>\n",
       "  If you're reading this message in the Jupyter Notebook or JupyterLab Notebook, it may mean\n",
       "  that the widgets JavaScript is still loading. If this message persists, it\n",
       "  likely means that the widgets JavaScript library is either not installed or\n",
       "  not enabled. See the <a href=\"https://ipywidgets.readthedocs.io/en/stable/user_install.html\">Jupyter\n",
       "  Widgets Documentation</a> for setup instructions.\n",
       "</p>\n",
       "<p>\n",
       "  If you're reading this message in another frontend (for example, a static\n",
       "  rendering on GitHub or <a href=\"https://nbviewer.jupyter.org/\">NBViewer</a>),\n",
       "  it may mean that your frontend doesn't currently support widgets.\n",
       "</p>\n"
      ],
      "text/plain": [
       "HBox(children=(IntProgress(value=1, bar_style='info', description='train 6', max=1), HTML(value='')))"
      ]
     },
     "metadata": {},
     "output_type": "display_data"
    },
    {
     "name": "stdout",
     "output_type": "stream",
     "text": [
      "\r",
      "train 6: time=0:01:22.781438, step=6797, loss=0.0467018, accuracy=0.986749\n"
     ]
    },
    {
     "data": {
      "application/vnd.jupyter.widget-view+json": {
       "model_id": "f9616dfcd9304d7d9979607925b1e442",
       "version_major": 2,
       "version_minor": 0
      },
      "text/html": [
       "<p>Failed to display Jupyter Widget of type <code>HBox</code>.</p>\n",
       "<p>\n",
       "  If you're reading this message in the Jupyter Notebook or JupyterLab Notebook, it may mean\n",
       "  that the widgets JavaScript is still loading. If this message persists, it\n",
       "  likely means that the widgets JavaScript library is either not installed or\n",
       "  not enabled. See the <a href=\"https://ipywidgets.readthedocs.io/en/stable/user_install.html\">Jupyter\n",
       "  Widgets Documentation</a> for setup instructions.\n",
       "</p>\n",
       "<p>\n",
       "  If you're reading this message in another frontend (for example, a static\n",
       "  rendering on GitHub or <a href=\"https://nbviewer.jupyter.org/\">NBViewer</a>),\n",
       "  it may mean that your frontend doesn't currently support widgets.\n",
       "</p>\n"
      ],
      "text/plain": [
       "HBox(children=(IntProgress(value=1, bar_style='info', description='dev 6', max=1), HTML(value='')))"
      ]
     },
     "metadata": {},
     "output_type": "display_data"
    },
    {
     "name": "stdout",
     "output_type": "stream",
     "text": [
      "\r",
      "dev 6: time=0:00:00.998138, step=6797, loss=0.191404, accuracy=0.96775\n"
     ]
    },
    {
     "data": {
      "application/vnd.jupyter.widget-view+json": {
       "model_id": "127120cf8a4d47f9806c23656bc1c795",
       "version_major": 2,
       "version_minor": 0
      },
      "text/html": [
       "<p>Failed to display Jupyter Widget of type <code>HBox</code>.</p>\n",
       "<p>\n",
       "  If you're reading this message in the Jupyter Notebook or JupyterLab Notebook, it may mean\n",
       "  that the widgets JavaScript is still loading. If this message persists, it\n",
       "  likely means that the widgets JavaScript library is either not installed or\n",
       "  not enabled. See the <a href=\"https://ipywidgets.readthedocs.io/en/stable/user_install.html\">Jupyter\n",
       "  Widgets Documentation</a> for setup instructions.\n",
       "</p>\n",
       "<p>\n",
       "  If you're reading this message in another frontend (for example, a static\n",
       "  rendering on GitHub or <a href=\"https://nbviewer.jupyter.org/\">NBViewer</a>),\n",
       "  it may mean that your frontend doesn't currently support widgets.\n",
       "</p>\n"
      ],
      "text/plain": [
       "HBox(children=(IntProgress(value=1, bar_style='info', description='train 7', max=1), HTML(value='')))"
      ]
     },
     "metadata": {},
     "output_type": "display_data"
    },
    {
     "name": "stdout",
     "output_type": "stream",
     "text": [
      "\r",
      "train 7: time=0:01:22.758028, step=7768, loss=0.037135, accuracy=0.989421\n"
     ]
    },
    {
     "data": {
      "application/vnd.jupyter.widget-view+json": {
       "model_id": "0e1f7f2782bd48d487109baf29d02ffd",
       "version_major": 2,
       "version_minor": 0
      },
      "text/html": [
       "<p>Failed to display Jupyter Widget of type <code>HBox</code>.</p>\n",
       "<p>\n",
       "  If you're reading this message in the Jupyter Notebook or JupyterLab Notebook, it may mean\n",
       "  that the widgets JavaScript is still loading. If this message persists, it\n",
       "  likely means that the widgets JavaScript library is either not installed or\n",
       "  not enabled. See the <a href=\"https://ipywidgets.readthedocs.io/en/stable/user_install.html\">Jupyter\n",
       "  Widgets Documentation</a> for setup instructions.\n",
       "</p>\n",
       "<p>\n",
       "  If you're reading this message in another frontend (for example, a static\n",
       "  rendering on GitHub or <a href=\"https://nbviewer.jupyter.org/\">NBViewer</a>),\n",
       "  it may mean that your frontend doesn't currently support widgets.\n",
       "</p>\n"
      ],
      "text/plain": [
       "HBox(children=(IntProgress(value=1, bar_style='info', description='dev 7', max=1), HTML(value='')))"
      ]
     },
     "metadata": {},
     "output_type": "display_data"
    },
    {
     "name": "stdout",
     "output_type": "stream",
     "text": [
      "\r",
      "dev 7: time=0:00:00.992936, step=7768, loss=0.175433, accuracy=0.96885\n"
     ]
    },
    {
     "data": {
      "application/vnd.jupyter.widget-view+json": {
       "model_id": "4ef2f551f3294207b7feba61ee493978",
       "version_major": 2,
       "version_minor": 0
      },
      "text/html": [
       "<p>Failed to display Jupyter Widget of type <code>HBox</code>.</p>\n",
       "<p>\n",
       "  If you're reading this message in the Jupyter Notebook or JupyterLab Notebook, it may mean\n",
       "  that the widgets JavaScript is still loading. If this message persists, it\n",
       "  likely means that the widgets JavaScript library is either not installed or\n",
       "  not enabled. See the <a href=\"https://ipywidgets.readthedocs.io/en/stable/user_install.html\">Jupyter\n",
       "  Widgets Documentation</a> for setup instructions.\n",
       "</p>\n",
       "<p>\n",
       "  If you're reading this message in another frontend (for example, a static\n",
       "  rendering on GitHub or <a href=\"https://nbviewer.jupyter.org/\">NBViewer</a>),\n",
       "  it may mean that your frontend doesn't currently support widgets.\n",
       "</p>\n"
      ],
      "text/plain": [
       "HBox(children=(IntProgress(value=1, bar_style='info', description='train 8', max=1), HTML(value='')))"
      ]
     },
     "metadata": {},
     "output_type": "display_data"
    },
    {
     "name": "stdout",
     "output_type": "stream",
     "text": [
      "\r",
      "train 8: time=0:01:22.703014, step=8739, loss=0.0313213, accuracy=0.991034\n"
     ]
    },
    {
     "data": {
      "application/vnd.jupyter.widget-view+json": {
       "model_id": "b42e59751b6e408fbb559332e67b63b8",
       "version_major": 2,
       "version_minor": 0
      },
      "text/html": [
       "<p>Failed to display Jupyter Widget of type <code>HBox</code>.</p>\n",
       "<p>\n",
       "  If you're reading this message in the Jupyter Notebook or JupyterLab Notebook, it may mean\n",
       "  that the widgets JavaScript is still loading. If this message persists, it\n",
       "  likely means that the widgets JavaScript library is either not installed or\n",
       "  not enabled. See the <a href=\"https://ipywidgets.readthedocs.io/en/stable/user_install.html\">Jupyter\n",
       "  Widgets Documentation</a> for setup instructions.\n",
       "</p>\n",
       "<p>\n",
       "  If you're reading this message in another frontend (for example, a static\n",
       "  rendering on GitHub or <a href=\"https://nbviewer.jupyter.org/\">NBViewer</a>),\n",
       "  it may mean that your frontend doesn't currently support widgets.\n",
       "</p>\n"
      ],
      "text/plain": [
       "HBox(children=(IntProgress(value=1, bar_style='info', description='dev 8', max=1), HTML(value='')))"
      ]
     },
     "metadata": {},
     "output_type": "display_data"
    },
    {
     "name": "stdout",
     "output_type": "stream",
     "text": [
      "\r",
      "dev 8: time=0:00:00.976656, step=8739, loss=0.201133, accuracy=0.9692\n"
     ]
    },
    {
     "data": {
      "application/vnd.jupyter.widget-view+json": {
       "model_id": "bc9abe1a85d04871b799982fe0f94229",
       "version_major": 2,
       "version_minor": 0
      },
      "text/html": [
       "<p>Failed to display Jupyter Widget of type <code>HBox</code>.</p>\n",
       "<p>\n",
       "  If you're reading this message in the Jupyter Notebook or JupyterLab Notebook, it may mean\n",
       "  that the widgets JavaScript is still loading. If this message persists, it\n",
       "  likely means that the widgets JavaScript library is either not installed or\n",
       "  not enabled. See the <a href=\"https://ipywidgets.readthedocs.io/en/stable/user_install.html\">Jupyter\n",
       "  Widgets Documentation</a> for setup instructions.\n",
       "</p>\n",
       "<p>\n",
       "  If you're reading this message in another frontend (for example, a static\n",
       "  rendering on GitHub or <a href=\"https://nbviewer.jupyter.org/\">NBViewer</a>),\n",
       "  it may mean that your frontend doesn't currently support widgets.\n",
       "</p>\n"
      ],
      "text/plain": [
       "HBox(children=(IntProgress(value=1, bar_style='info', description='train 9', max=1), HTML(value='')))"
      ]
     },
     "metadata": {},
     "output_type": "display_data"
    },
    {
     "name": "stdout",
     "output_type": "stream",
     "text": [
      "\r",
      "train 9: time=0:01:22.688108, step=9710, loss=0.0255363, accuracy=0.992732\n"
     ]
    },
    {
     "data": {
      "application/vnd.jupyter.widget-view+json": {
       "model_id": "ff79ce27021949e88fbb34d001d2446f",
       "version_major": 2,
       "version_minor": 0
      },
      "text/html": [
       "<p>Failed to display Jupyter Widget of type <code>HBox</code>.</p>\n",
       "<p>\n",
       "  If you're reading this message in the Jupyter Notebook or JupyterLab Notebook, it may mean\n",
       "  that the widgets JavaScript is still loading. If this message persists, it\n",
       "  likely means that the widgets JavaScript library is either not installed or\n",
       "  not enabled. See the <a href=\"https://ipywidgets.readthedocs.io/en/stable/user_install.html\">Jupyter\n",
       "  Widgets Documentation</a> for setup instructions.\n",
       "</p>\n",
       "<p>\n",
       "  If you're reading this message in another frontend (for example, a static\n",
       "  rendering on GitHub or <a href=\"https://nbviewer.jupyter.org/\">NBViewer</a>),\n",
       "  it may mean that your frontend doesn't currently support widgets.\n",
       "</p>\n"
      ],
      "text/plain": [
       "HBox(children=(IntProgress(value=1, bar_style='info', description='dev 9', max=1), HTML(value='')))"
      ]
     },
     "metadata": {},
     "output_type": "display_data"
    },
    {
     "name": "stdout",
     "output_type": "stream",
     "text": [
      "\r",
      "dev 9: time=0:00:00.978550, step=9710, loss=0.196996, accuracy=0.9686\n"
     ]
    }
   ],
   "source": [
    "with open('../logs/simplewiki/mediawiki_el_softmax_3.log', 'wt') as f:\n",
    "    for i in range(10):\n",
    "        model.process(\n",
    "            train_set,\n",
    "            header = 'train %d' % i,\n",
    "            train = True,\n",
    "            log_file = f)\n",
    "        model.process(\n",
    "            dev_set,\n",
    "            header = 'dev %d' % i,\n",
    "            train = False,\n",
    "            log_file = f)"
   ]
  },
  {
   "cell_type": "code",
   "execution_count": 10,
   "metadata": {},
   "outputs": [],
   "source": [
    "def decode(i):\n",
    "    words = [vocab[word_id] for word_id in context_word_ids[i]]\n",
    "    print('TARGET: %s' % targets[target_labels[i]])\n",
    "    print('OUTPUT: %s' % targets[output_labels[i]])\n",
    "    for j, (word, weight) in enumerate(zip(words, weights[i])):\n",
    "        print('%02d %-40s %g' % (j, word, weight))"
   ]
  },
  {
   "cell_type": "code",
   "execution_count": 10,
   "metadata": {},
   "outputs": [],
   "source": [
    "def plot(i):\n",
    "    plt.figure(figsize=(30, 5))\n",
    "    plt.title('%s / %s' % (targets[target_labels[i]], targets[output_labels[i]]))\n",
    "    plt.bar(np.arange(weights.shape[1]), weights[i].ravel())\n",
    "    plt.xticks(np.arange(weights.shape[1]), [vocab[word_id] for word_id in context_word_ids[i]], rotation='vertical')\n",
    "    plt.show()"
   ]
  },
  {
   "cell_type": "code",
   "execution_count": 11,
   "metadata": {},
   "outputs": [
    {
     "ename": "AttributeError",
     "evalue": "'EntityLinkingModel' object has no attribute '_attention_weights'",
     "output_type": "error",
     "traceback": [
      "\u001b[0;31m---------------------------------------------------------------------------\u001b[0m",
      "\u001b[0;31mAttributeError\u001b[0m                            Traceback (most recent call last)",
      "\u001b[0;32m<ipython-input-11-554a98225274>\u001b[0m in \u001b[0;36m<module>\u001b[0;34m()\u001b[0m\n\u001b[1;32m      3\u001b[0m     model._training: False })\n\u001b[1;32m      4\u001b[0m target_labels, output_labels, context_word_ids, weights = sess.run(\n\u001b[0;32m----> 5\u001b[0;31m     \u001b[0;34m[\u001b[0m\u001b[0mmodel\u001b[0m\u001b[0;34m.\u001b[0m\u001b[0m_target_labels\u001b[0m\u001b[0;34m,\u001b[0m \u001b[0mmodel\u001b[0m\u001b[0;34m.\u001b[0m\u001b[0m_output_labels\u001b[0m\u001b[0;34m,\u001b[0m \u001b[0mmodel\u001b[0m\u001b[0;34m.\u001b[0m\u001b[0m_context_word_ids\u001b[0m\u001b[0;34m,\u001b[0m \u001b[0mmodel\u001b[0m\u001b[0;34m.\u001b[0m\u001b[0m_attention_weights\u001b[0m\u001b[0;34m]\u001b[0m\u001b[0;34m,\u001b[0m\u001b[0;34m\u001b[0m\u001b[0m\n\u001b[0m\u001b[1;32m      6\u001b[0m     feed_dict = { model._training: False })\n",
      "\u001b[0;31mAttributeError\u001b[0m: 'EntityLinkingModel' object has no attribute '_attention_weights'"
     ]
    }
   ],
   "source": [
    "sess.run(model._dataset_iterator.initializer, feed_dict={\n",
    "    model._dataset_filenames: dev_set[:1],\n",
    "    model._training: False })\n",
    "target_labels, output_labels, context_word_ids, weights = sess.run(\n",
    "    [model._target_labels, model._output_labels, model._context_word_ids, model._attention_weights],\n",
    "    feed_dict = { model._training: False })"
   ]
  },
  {
   "cell_type": "code",
   "execution_count": 19,
   "metadata": {},
   "outputs": [
    {
     "data": {
      "image/png": "[encoded data removed]",
      "text/plain": [
       "<matplotlib.figure.Figure at 0x7fa9602599e8>"
      ]
     },
     "metadata": {},
     "output_type": "display_data"
    }
   ],
   "source": [
    "plot(3)"
   ]
  },
  {
   "cell_type": "code",
   "execution_count": 10,
   "metadata": {},
   "outputs": [],
   "source": [
    "with open('../logs/simplewiki/mediawiki_el_softmax_3.log', 'rt') as f:\n",
    "    lines = ''.join([l for l in f])"
   ]
  },
  {
   "cell_type": "code",
   "execution_count": null,
   "metadata": {},
   "outputs": [],
   "source": []
  },
  {
   "cell_type": "code",
   "execution_count": 12,
   "metadata": {},
   "outputs": [
    {
     "data": {
      "image/png": "[encoded data removed]",
      "text/plain": [
       "<matplotlib.figure.Figure at 0x7fd110599198>"
      ]
     },
     "metadata": {},
     "output_type": "display_data"
    }
   ],
   "source": [
    "plt.plot([float(v) for v in re.findall(r'train.*loss=(\\d+\\.\\d+)', lines)])\n",
    "plt.plot([float(v) for v in re.findall(r'dev.*loss=(\\d+\\.\\d+)', lines)])\n",
    "plt.show()"
   ]
  },
  {
   "cell_type": "code",
   "execution_count": 13,
   "metadata": {},
   "outputs": [
    {
     "data": {
      "image/png": "[encoded data removed]",
      "text/plain": [
       "<matplotlib.figure.Figure at 0x7fd11015cf98>"
      ]
     },
     "metadata": {},
     "output_type": "display_data"
    }
   ],
   "source": [
    "plt.plot([float(v) for v in re.findall(r'train.*accuracy=(\\d+\\.\\d+)', lines)])\n",
    "plt.plot([float(v) for v in re.findall(r'dev.*accuracy=(\\d+\\.\\d+)', lines)])\n",
    "plt.show()"
   ]
  },
  {
   "cell_type": "code",
   "execution_count": 18,
   "metadata": {},
   "outputs": [
    {
     "name": "stdout",
     "output_type": "stream",
     "text": [
      "INFO:tensorflow:No assets to save.\n",
      "INFO:tensorflow:No assets to write.\n",
      "INFO:tensorflow:No assets to save.\n",
      "INFO:tensorflow:No assets to write.\n",
      "INFO:tensorflow:SavedModel written to: b'../models/simplewiki/el_softmax_2/saved_model.pb'\n"
     ]
    },
    {
     "data": {
      "text/plain": [
       "b'../models/simplewiki/el_softmax_2/saved_model.pb'"
      ]
     },
     "execution_count": 18,
     "metadata": {},
     "output_type": "execute_result"
    }
   ],
   "source": [
    "shutil.rmtree(\n",
    "    '../models/simplewiki/el_softmax_2',\n",
    "    ignore_errors = True)\n",
    "builder = tf.saved_model.builder.SavedModelBuilder(\n",
    "    '../models/simplewiki/el_softmax_2')\n",
    "builder.add_meta_graph_and_variables(\n",
    "    sess,\n",
    "    [tf.saved_model.tag_constants.TRAINING])\n",
    "builder.add_meta_graph(\n",
    "    [tf.saved_model.tag_constants.SERVING])\n",
    "builder.save()"
   ]
  },
  {
   "cell_type": "markdown",
   "metadata": {},
   "source": [
    "# Error Analysis"
   ]
  },
  {
   "cell_type": "code",
   "execution_count": 5,
   "metadata": {},
   "outputs": [],
   "source": [
    "sess = reset_tf(sess)"
   ]
  },
  {
   "cell_type": "code",
   "execution_count": 6,
   "metadata": {},
   "outputs": [
    {
     "name": "stdout",
     "output_type": "stream",
     "text": [
      "INFO:tensorflow:Restoring parameters from b'../models/simplewiki/el_softmax_2/variables/variables'\n"
     ]
    }
   ],
   "source": [
    "_ = tf.saved_model.loader.load(\n",
    "    sess,\n",
    "    [tf.saved_model.tag_constants.TRAINING],\n",
    "    '../models/simplewiki/el_softmax_2')"
   ]
  },
  {
   "cell_type": "code",
   "execution_count": 8,
   "metadata": {},
   "outputs": [
    {
     "name": "stdout",
     "output_type": "stream",
     "text": [
      "parameters for \"model/word_embeddings:0\": 7680000\n",
      "parameters for \"model/position_embeddings:0\": 1296\n",
      "parameters for \"model/attention_with_ff/input/kernel:0\": 69632\n",
      "parameters for \"model/attention_with_ff/input/bias:0\": 256\n",
      "parameters for \"model/attention_with_ff/input/gamma:0\": 256\n",
      "parameters for \"model/attention_with_ff/input/beta:0\": 256\n",
      "parameters for \"model/attention_with_ff/layer_0/attention/projection_weights:0\": 65536\n",
      "parameters for \"model/attention_with_ff/layer_0/attention/output:0\": 65536\n",
      "parameters for \"model/attention_with_ff/layer_0/attention/gamma:0\": 256\n",
      "parameters for \"model/attention_with_ff/layer_0/attention/beta:0\": 256\n",
      "parameters for \"model/attention_with_ff/layer_0/ff/fc1/kernel:0\": 131072\n",
      "parameters for \"model/attention_with_ff/layer_0/ff/fc1/bias:0\": 512\n",
      "parameters for \"model/attention_with_ff/layer_0/ff/fc2/kernel:0\": 131072\n",
      "parameters for \"model/attention_with_ff/layer_0/ff/fc2/bias:0\": 256\n",
      "parameters for \"model/attention_with_ff/layer_0/ff/gamma:0\": 256\n",
      "parameters for \"model/attention_with_ff/layer_0/ff/beta:0\": 256\n",
      "parameters for \"model/attention_with_ff/layer_1/attention/projection_weights:0\": 65536\n",
      "parameters for \"model/attention_with_ff/layer_1/attention/output:0\": 65536\n",
      "parameters for \"model/attention_with_ff/layer_1/attention/gamma:0\": 256\n",
      "parameters for \"model/attention_with_ff/layer_1/attention/beta:0\": 256\n",
      "parameters for \"model/attention_with_ff/layer_1/ff/fc1/kernel:0\": 131072\n",
      "parameters for \"model/attention_with_ff/layer_1/ff/fc1/bias:0\": 512\n",
      "parameters for \"model/attention_with_ff/layer_1/ff/fc2/kernel:0\": 131072\n",
      "parameters for \"model/attention_with_ff/layer_1/ff/fc2/bias:0\": 256\n",
      "parameters for \"model/attention_with_ff/layer_1/ff/gamma:0\": 256\n",
      "parameters for \"model/attention_with_ff/layer_1/ff/beta:0\": 256\n",
      "parameters for \"model/attention_with_ff/layer_2/attention/projection_weights:0\": 65536\n",
      "parameters for \"model/attention_with_ff/layer_2/attention/output:0\": 65536\n",
      "parameters for \"model/attention_with_ff/layer_2/attention/gamma:0\": 256\n",
      "parameters for \"model/attention_with_ff/layer_2/attention/beta:0\": 256\n",
      "parameters for \"model/attention_with_ff/layer_2/ff/fc1/kernel:0\": 131072\n",
      "parameters for \"model/attention_with_ff/layer_2/ff/fc1/bias:0\": 512\n",
      "parameters for \"model/attention_with_ff/layer_2/ff/fc2/kernel:0\": 131072\n",
      "parameters for \"model/attention_with_ff/layer_2/ff/fc2/bias:0\": 256\n",
      "parameters for \"model/attention_with_ff/layer_2/ff/gamma:0\": 256\n",
      "parameters for \"model/attention_with_ff/layer_2/ff/beta:0\": 256\n",
      "parameters for \"model/softmax/kernel:0\": 512000\n",
      "parameters for \"model/softmax/bias:0\": 2000\n",
      "total parameters: 9450720\n"
     ]
    }
   ],
   "source": [
    "dump_statistics()"
   ]
  },
  {
   "cell_type": "code",
   "execution_count": 10,
   "metadata": {},
   "outputs": [],
   "source": [
    "dataset_iterator = tf.get_default_graph().get_operation_by_name('dataset/MakeIterator')\n",
    "dataset_filenames = tf.get_default_graph().get_tensor_by_name('dataset/dataset_filenames:0')\n",
    "training = tf.get_default_graph().get_tensor_by_name('model/training:0')\n",
    "context_word_ids = tf.get_default_graph().get_tensor_by_name('dataset/context_word_ids:0')\n",
    "link_mask = tf.get_default_graph().get_tensor_by_name('dataset/link_mask:0')\n",
    "target_labels = tf.get_default_graph().get_tensor_by_name('dataset/target_labels:0')\n",
    "output_labels = tf.get_default_graph().get_tensor_by_name('train/ArgMax:0')"
   ]
  },
  {
   "cell_type": "code",
   "execution_count": 11,
   "metadata": {},
   "outputs": [],
   "source": [
    "with open('../data/simplewiki/simplewiki-20171103.el_softmax_3.vocab.txt', 'rt') as f:\n",
    "    vocab = [w.strip() for w in f]"
   ]
  },
  {
   "cell_type": "code",
   "execution_count": 12,
   "metadata": {},
   "outputs": [],
   "source": [
    "with open('../data/simplewiki/simplewiki-20171103.el_softmax_3.targets.txt', 'rt') as f:\n",
    "    targets = [t.strip() for t in f]"
   ]
  },
  {
   "cell_type": "code",
   "execution_count": 13,
   "metadata": {},
   "outputs": [],
   "source": [
    "def compute_negative_examples(filenames, limit = None):\n",
    "    # initialize dataset iterator\n",
    "    sess.run(dataset_iterator, feed_dict = {\n",
    "        dataset_filenames: filenames,\n",
    "        training: False })\n",
    "    \n",
    "    examples = []\n",
    "    \n",
    "    while True:\n",
    "        # compute minibatch\n",
    "        try:\n",
    "            (curr_context_word_ids, curr_target_labels, curr_output_labels, curr_link_mask) = sess.run(\n",
    "                (context_word_ids, target_labels, output_labels, link_mask),\n",
    "                feed_dict = { training: False })\n",
    "        except tf.errors.OutOfRangeError:\n",
    "                break\n",
    "\n",
    "        # loop through examples\n",
    "        for c, t, o, l in zip(curr_context_word_ids, curr_target_labels, curr_output_labels, curr_link_mask):\n",
    "            # skip accurate inferences\n",
    "            if t == o:\n",
    "                continue\n",
    "                \n",
    "            # stop if limit reached\n",
    "            if limit and len(examples) >= limit:\n",
    "                break\n",
    "            \n",
    "            # decode context\n",
    "            words = []\n",
    "            link_words = []\n",
    "            for word_id, link_mask_flag in zip(c, l):\n",
    "                word = vocab[word_id]\n",
    "                if link_mask_flag:\n",
    "                    words.append('_%s_' % word)\n",
    "                    link_words.append(word)\n",
    "                else:\n",
    "                    words.append(word)\n",
    "\n",
    "            # decode example\n",
    "            examples.append([\n",
    "                targets[t], # target label\n",
    "                targets[o], # output label\n",
    "                ' '.join(link_words), # link\n",
    "                ' '.join(words) ]) # context\n",
    "    \n",
    "    return examples"
   ]
  },
  {
   "cell_type": "code",
   "execution_count": 14,
   "metadata": {},
   "outputs": [],
   "source": [
    "examples = compute_negative_examples([\n",
    "    '../data/simplewiki/simplewiki-20171103.el_softmax_3.dev/examples.0000000000.tfrecords.gz',\n",
    "    '../data/simplewiki/simplewiki-20171103.el_softmax_3.dev/examples.0000010000.tfrecords.gz'])"
   ]
  },
  {
   "cell_type": "code",
   "execution_count": 16,
   "metadata": {},
   "outputs": [
    {
     "data": {
      "text/plain": [
       "['GAME SHOW',\n",
       " 'GAME',\n",
       " 'game',\n",
       " '<OOB> <OOB> <OOB> <OOB> <OOB> <OOB> <OOB> <OOB> <OOB> <OOB> <OOB> <OOB> <OOB> alan willis thicke ( born alan willis <UNK> ; march 1 , 1947 – december 13 , 2016 ) was a canadian actor , songwriter , and _game_ and talk show host . he was known for his role as jason <UNK> , the father on the abc television series growing pains . he was the father of singer robin thicke . thicke died at his home in']"
      ]
     },
     "execution_count": 16,
     "metadata": {},
     "output_type": "execute_result"
    }
   ],
   "source": [
    "examples[0]"
   ]
  },
  {
   "cell_type": "code",
   "execution_count": 36,
   "metadata": {},
   "outputs": [],
   "source": [
    "import csv\n",
    "with open('/tmp/errors.csv', 'wt') as f:\n",
    "    writer = csv.writer(f)\n",
    "    writer.writerow(['target', 'output', 'link', 'context'])\n",
    "    for example in examples:\n",
    "        writer.writerow(example)"
   ]
  },
  {
   "cell_type": "code",
   "execution_count": 38,
   "metadata": {},
   "outputs": [],
   "source": [
    "x = tf.reshape(tf.range(16), [4,4])"
   ]
  },
  {
   "cell_type": "code",
   "execution_count": 39,
   "metadata": {},
   "outputs": [
    {
     "data": {
      "text/plain": [
       "array([[ 0,  1,  2,  3],\n",
       "       [ 0,  5,  6,  7],\n",
       "       [ 0,  0, 10, 11],\n",
       "       [ 0,  0,  0, 15]], dtype=int32)"
      ]
     },
     "execution_count": 39,
     "metadata": {},
     "output_type": "execute_result"
    }
   ],
   "source": [
    "tf.matrix_band_part(x, 0, -1).eval()"
   ]
  },
  {
   "cell_type": "code",
   "execution_count": 40,
   "metadata": {},
   "outputs": [
    {
     "data": {
      "text/plain": [
       "array([[ 0,  0,  0,  0],\n",
       "       [ 4,  5,  0,  0],\n",
       "       [ 8,  9, 10,  0],\n",
       "       [12, 13, 14, 15]], dtype=int32)"
      ]
     },
     "execution_count": 40,
     "metadata": {},
     "output_type": "execute_result"
    }
   ],
   "source": [
    "tf.matrix_band_part(x, -1, 0).eval()"
   ]
  },
  {
   "cell_type": "code",
   "execution_count": null,
   "metadata": {},
   "outputs": [],
   "source": [
    "# with open('../logs/simplewiki/mediawiki_el_softmax_1.multihead.log.old', 'wt') as f:\n",
    "#     print(lines)"
   ]
  },
  {
   "cell_type": "code",
   "execution_count": null,
   "metadata": {},
   "outputs": [],
   "source": [
    "# with open('../logs/simplewiki/mediawiki_el_softmax_1.multihead.log', 'rt') as f:\n",
    "#     lines = '\\n'.join([l for l in f])\n",
    "    \n",
    "# plt.plot([float(v) for v in re.findall(r'train.*loss=(\\d+\\.\\d+)', lines)], label='train')\n",
    "# plt.plot([float(v) for v in re.findall(r'dev.*loss=(\\d+\\.\\d+)', lines)], label='dev')\n",
    "# plt.title('loss')\n",
    "# plt.legend()\n",
    "# plt.show()\n",
    "# plt.plot([float(v) for v in re.findall(r'train.*accuracy=(\\d+\\.\\d+)', lines)], label='train')\n",
    "# plt.plot([float(v) for v in re.findall(r'dev.*accuracy=(\\d+\\.\\d+)', lines)], label='dev')\n",
    "# plt.title('accuracy')\n",
    "# plt.legend()\n",
    "# plt.show()"
   ]
  },
  {
   "cell_type": "code",
   "execution_count": null,
   "metadata": {},
   "outputs": [],
   "source": []
  }
 ],
 "metadata": {
  "kernelspec": {
   "display_name": "Python 3",
   "language": "python",
   "name": "python3"
  },
  "language_info": {
   "codemirror_mode": {
    "name": "ipython",
    "version": 3
   },
   "file_extension": ".py",
   "mimetype": "text/x-python",
   "name": "python",
   "nbconvert_exporter": "python",
   "pygments_lexer": "ipython3",
   "version": "3.5.4"
  }
 },
 "nbformat": 4,
 "nbformat_minor": 2
}
