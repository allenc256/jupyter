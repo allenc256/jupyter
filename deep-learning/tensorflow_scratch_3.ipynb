{
 "cells": [
  {
   "cell_type": "code",
   "execution_count": 2,
   "metadata": {
    "collapsed": true
   },
   "outputs": [],
   "source": [
    "import numpy as np\n",
    "import tensorflow as tf\n",
    "import urllib"
   ]
  },
  {
   "cell_type": "code",
   "execution_count": 5,
   "metadata": {
    "collapsed": true
   },
   "outputs": [],
   "source": [
    "def reset_tf():\n",
    "    global sess\n",
    "    sess.close()\n",
    "    tf.reset_default_graph()\n",
    "    sess = tf.InteractiveSession(config=tf.ConfigProto(log_device_placement=True))"
   ]
  },
  {
   "cell_type": "code",
   "execution_count": 6,
   "metadata": {
    "collapsed": true
   },
   "outputs": [],
   "source": [
    "sess = tf.InteractiveSession(config=tf.ConfigProto(log_device_placement=True))"
   ]
  },
  {
   "cell_type": "code",
   "execution_count": 8,
   "metadata": {},
   "outputs": [],
   "source": [
    "reset_tf()\n",
    "\n",
    "seq_length = 50\n",
    "batch_size = 64\n",
    "embedding_size = 64\n",
    "hidden_size = 64\n",
    "vocab_size = 256\n",
    "num_layers = 2\n",
    "\n",
    "input_data = tf.placeholder(tf.int32, [batch_size, seq_length])\n",
    "input_lengths = tf.placeholder(tf.int32, [batch_size])\n",
    "target_data = tf.placeholder(tf.int32, [batch_size, seq_length])\n",
    "\n",
    "rnn_cell = tf.nn.rnn_cell.MultiRNNCell([tf.nn.rnn_cell.GRUCell(hidden_size) for i in range(num_layers)])\n",
    "\n",
    "initial_states = rnn_cell.zero_state(batch_size, tf.float32)\n",
    "\n",
    "# embedded_inputs = tf.one_hot(input_data, vocab_size)\n",
    "\n",
    "embedding = tf.get_variable('embedding', [vocab_size, embedding_size])\n",
    "embedded_inputs = tf.nn.embedding_lookup(embedding, input_data)\n",
    "\n",
    "softmax_w = tf.get_variable(\"softmax_w\", [hidden_size, vocab_size])\n",
    "softmax_b = tf.get_variable(\"softmax_b\", [vocab_size])\n",
    "\n",
    "outputs, final_states = tf.nn.dynamic_rnn(rnn_cell,\n",
    "                                          embedded_inputs, \n",
    "                                          initial_state=initial_states, \n",
    "                                          sequence_length=input_lengths)\n",
    "\n",
    "flat_outputs = tf.reshape(outputs, [-1, hidden_size])\n",
    "flat_targets = tf.reshape(target_data, [-1])\n",
    "\n",
    "flat_output_logits = tf.matmul(flat_outputs, softmax_w) + softmax_b\n",
    "flat_output_probs = tf.nn.softmax(flat_output_logits)\n",
    "\n",
    "flat_loss_mask = tf.sign(tf.to_float(flat_targets))\n",
    "flat_losses = tf.nn.sparse_softmax_cross_entropy_with_logits(logits=flat_output_logits, labels=flat_targets) * flat_loss_mask\n",
    "# flat_losses = tf.nn.sparse_softmax_cross_entropy_with_logits(logits=flat_output_logits, labels=flat_targets)\n",
    "\n",
    "mean_loss = tf.reduce_mean(flat_losses)\n",
    "total_loss = tf.reduce_sum(flat_losses)\n",
    "\n",
    "optimizer = tf.train.AdamOptimizer(1e-3)\n",
    "gradients, variables = zip(*optimizer.compute_gradients(mean_loss))\n",
    "gradients, _ = tf.clip_by_global_norm(gradients, 5.0)\n",
    "train_op = optimizer.apply_gradients(zip(gradients, variables))\n",
    "\n",
    "# train_op = tf.train.AdamOptimizer(0.01).minimize(mean_loss)\n",
    "\n",
    "sess.run(tf.global_variables_initializer())"
   ]
  },
  {
   "cell_type": "code",
   "execution_count": 5,
   "metadata": {
    "collapsed": true
   },
   "outputs": [],
   "source": [
    "def sample(initial_data, count):\n",
    "    curr_initial_states  = sess.run(initial_states)\n",
    "    curr_input_data = np.zeros(input_data.shape)\n",
    "    curr_input_lengths = [1] + [0] * (batch_size - 1)\n",
    "    \n",
    "    result = [initial_data]\n",
    "    \n",
    "    for i in range(count):\n",
    "        curr_input_data[0,0] = result[-1]\n",
    "        ps, curr_initial_states = sess.run((flat_output_probs, final_states), feed_dict = {\n",
    "            input_data: curr_input_data,\n",
    "            input_lengths: curr_input_lengths,\n",
    "            initial_states: curr_initial_states\n",
    "        })\n",
    "        result.append(np.random.choice(len(ps[0]), p = ps[0]))\n",
    "    \n",
    "    return result"
   ]
  },
  {
   "cell_type": "code",
   "execution_count": 6,
   "metadata": {
    "collapsed": true
   },
   "outputs": [],
   "source": [
    "def generate_batches(array, batch_size, seq_length):\n",
    "    num_seqs = (len(array) + seq_length - 1) // seq_length\n",
    "    num_seqs_per_batch = (num_seqs + batch_size - 1) // batch_size\n",
    "    \n",
    "    for i in range(num_seqs_per_batch):\n",
    "        seqs = []\n",
    "        seq_lens = []\n",
    "        \n",
    "        for j in range(batch_size):\n",
    "            offset = (j*num_seqs_per_batch + i)*seq_length\n",
    "            \n",
    "            seq = array[offset:offset+seq_length]\n",
    "            seq_len = len(seq)\n",
    "            seq = np.pad(seq, (0,seq_length-len(seq)), 'constant', constant_values=0)\n",
    "            \n",
    "            seqs.append(seq)\n",
    "            seq_lens.append(seq_len)\n",
    "            \n",
    "        yield np.stack(seqs), seq_lens\n",
    "        \n",
    "    return"
   ]
  },
  {
   "cell_type": "code",
   "execution_count": 7,
   "metadata": {
    "collapsed": true
   },
   "outputs": [],
   "source": [
    "train_text = None\n",
    "with urllib.request.urlopen('http://textfiles.com/stories/13chil.txt') as response:\n",
    "    train_text = response.read().decode(\"utf-8\")\n",
    "train_text = ' '.join(train_text.split())"
   ]
  },
  {
   "cell_type": "code",
   "execution_count": 10,
   "metadata": {},
   "outputs": [
    {
     "name": "stdout",
     "output_type": "stream",
     "text": [
      "epoch 0: loss=0.37350821203115037\n",
      "epoch 50: loss=0.029955742310504525\n",
      "epoch 100: loss=0.02422499413392982\n",
      "epoch 150: loss=0.021637911699256118\n",
      "epoch 200: loss=0.019935383115495954\n",
      "epoch 250: loss=0.018712652459436534\n",
      "epoch 300: loss=0.01770838961309316\n",
      "epoch 350: loss=0.016854421459898655\n",
      "epoch 400: loss=0.01610479111574134\n",
      "epoch 450: loss=0.015439863350926614\n",
      "epoch 500: loss=0.014835039693482068\n",
      "epoch 550: loss=0.014362079634958384\n",
      "epoch 600: loss=0.01379976284747221\n",
      "epoch 650: loss=0.013394939169591787\n",
      "epoch 700: loss=0.02729761065269003\n",
      "epoch 750: loss=0.018836065944360228\n",
      "epoch 800: loss=0.01647875381975758\n",
      "epoch 850: loss=0.015144021900332703\n",
      "epoch 900: loss=0.014278357126274887\n",
      "epoch 950: loss=0.0136388610820381\n",
      "epoch 1000: loss=0.01314244878535368\n",
      "epoch 1050: loss=0.012734600840782633\n",
      "epoch 1100: loss=0.012659464928568625\n",
      "epoch 1150: loss=0.012109175263618936\n",
      "epoch 1200: loss=0.011830008394864141\n",
      "epoch 1250: loss=0.011583019762623067\n",
      "epoch 1300: loss=0.011363625648070355\n",
      "epoch 1350: loss=0.011165472925925742\n",
      "epoch 1400: loss=0.010985141870926838\n",
      "epoch 1450: loss=0.010819480309681016\n",
      "epoch 1500: loss=0.010666441856598367\n",
      "epoch 1550: loss=0.010524773293611955\n",
      "epoch 1600: loss=0.01039353639495616\n",
      "epoch 1650: loss=0.010271724693629206\n",
      "epoch 1700: loss=0.010158389806747437\n",
      "epoch 1750: loss=0.010052753802464932\n",
      "epoch 1800: loss=0.40962490159638076\n",
      "epoch 1850: loss=0.01699772902897426\n",
      "epoch 1900: loss=0.013986571224368348\n",
      "epoch 1950: loss=0.01276303043170851\n",
      "epoch 2000: loss=0.012077741476954246\n",
      "epoch 2050: loss=0.011652308459184607\n",
      "epoch 2100: loss=0.011392660408603901\n",
      "epoch 2150: loss=0.011488763775144304\n",
      "epoch 2200: loss=0.011209107418449557\n",
      "epoch 2250: loss=0.010902815692278803\n",
      "epoch 2300: loss=0.01399409430367606\n",
      "epoch 2350: loss=0.011903026152630242\n",
      "epoch 2400: loss=0.011279903990881784\n",
      "epoch 2450: loss=0.010928795349841215\n",
      "epoch 2500: loss=0.01068575211933681\n",
      "epoch 2550: loss=0.010498456869806562\n",
      "epoch 2600: loss=0.01034478058620375\n",
      "epoch 2650: loss=0.01021382820849516\n",
      "epoch 2700: loss=0.010100200012022135\n",
      "epoch 2750: loss=0.00999977585612511\n",
      "epoch 2800: loss=0.009909577971818496\n",
      "epoch 2850: loss=0.009828412745680129\n",
      "epoch 2900: loss=0.00975465506923442\n",
      "epoch 2950: loss=0.009686731927248896\n",
      "epoch 3000: loss=0.009623184222347883\n",
      "epoch 3050: loss=0.009565283753434005\n",
      "epoch 3100: loss=0.009521444841307037\n",
      "epoch 3150: loss=0.009458020983301863\n",
      "epoch 3200: loss=0.009410447992232382\n",
      "epoch 3250: loss=0.009368359996956222\n",
      "epoch 3300: loss=0.009323696259941373\n",
      "epoch 3350: loss=0.009284794938807584\n",
      "epoch 3400: loss=0.10527965973834602\n",
      "epoch 3450: loss=0.012885562619384455\n",
      "epoch 3500: loss=0.011476344356731493\n",
      "epoch 3550: loss=0.010860298786844526\n",
      "epoch 3600: loss=0.0105012765952519\n",
      "epoch 3650: loss=0.010258031073881655\n",
      "epoch 3700: loss=0.010080980646366975\n",
      "epoch 3750: loss=0.009943788118508398\n",
      "epoch 3800: loss=0.009834394497530801\n",
      "epoch 3850: loss=0.00974951754419171\n",
      "epoch 3900: loss=0.009691868053407085\n",
      "epoch 3950: loss=0.009639809873639322\n",
      "epoch 4000: loss=0.00958037120955331\n",
      "epoch 4050: loss=0.0095020734838077\n",
      "epoch 4100: loss=0.009442847571810898\n",
      "epoch 4150: loss=0.009392545858816225\n",
      "epoch 4200: loss=0.009347670464491357\n",
      "epoch 4250: loss=0.009307619488360931\n",
      "epoch 4300: loss=0.009271190376306067\n",
      "epoch 4350: loss=0.009237664573046625\n",
      "epoch 4400: loss=0.009206560634228648\n",
      "epoch 4450: loss=0.009177481367879985\n",
      "epoch 4500: loss=0.009150149323502365\n",
      "epoch 4550: loss=0.009124386736324855\n",
      "epoch 4600: loss=0.00910005481267462\n",
      "epoch 4650: loss=0.0244786870722868\n",
      "epoch 4700: loss=0.011464804471755515\n",
      "epoch 4750: loss=0.010669606802414874\n",
      "epoch 4800: loss=0.010280380808577246\n",
      "epoch 4850: loss=0.010040452133636085\n",
      "epoch 4900: loss=0.00987046227163198\n",
      "epoch 4950: loss=0.009742950936969445\n",
      "epoch 5000: loss=0.009642137100501937\n",
      "epoch 5050: loss=0.009559632229561708\n",
      "epoch 5100: loss=0.009489999924387251\n",
      "epoch 5150: loss=0.009429632112079736\n",
      "epoch 5200: loss=0.00937681645154953\n",
      "epoch 5250: loss=0.009331174073170643\n",
      "epoch 5300: loss=0.009290802509200816\n",
      "epoch 5350: loss=0.009254559524813476\n",
      "epoch 5400: loss=0.009221677527743943\n",
      "epoch 5450: loss=0.009191545980925463\n",
      "epoch 5500: loss=0.009163658472956443\n",
      "epoch 5550: loss=0.00913763774596915\n",
      "epoch 5600: loss=0.009113206349465311\n",
      "epoch 5650: loss=0.00909023794288538\n",
      "epoch 5700: loss=0.009068622957078777\n",
      "epoch 5750: loss=0.009048232344948516\n",
      "epoch 5800: loss=0.009028950143529444\n",
      "epoch 5850: loss=0.009010748580402258\n",
      "epoch 5900: loss=0.008993528889758247\n",
      "epoch 5950: loss=0.008977229072123158\n",
      "epoch 6000: loss=0.008966843776252805\n",
      "epoch 6050: loss=0.008947072923183442\n",
      "epoch 6100: loss=0.008933040773381992\n",
      "epoch 6150: loss=0.008919658329413861\n",
      "epoch 6200: loss=0.008915968824710165\n",
      "epoch 6250: loss=0.008900589640347326\n",
      "epoch 6300: loss=0.0088871994036801\n",
      "epoch 6350: loss=0.008874953925913694\n",
      "epoch 6400: loss=0.008867243506318453\n",
      "epoch 6450: loss=0.008862840905025298\n",
      "epoch 6500: loss=0.008856957014269974\n",
      "epoch 6550: loss=0.008842415773138709\n",
      "epoch 6600: loss=0.00883107807639302\n",
      "epoch 6650: loss=0.008834143720415175\n",
      "epoch 6700: loss=0.008814933078781683\n",
      "epoch 6750: loss=0.00880644976408506\n",
      "epoch 6800: loss=0.008812019194723393\n",
      "epoch 6850: loss=0.00881305849749823\n",
      "epoch 6900: loss=0.011850221303044533\n",
      "epoch 6950: loss=0.010539003172699285\n",
      "epoch 7000: loss=0.01004098255415352\n",
      "epoch 7050: loss=0.00976282203075837\n",
      "epoch 7100: loss=0.009588271379470825\n",
      "epoch 7150: loss=0.00946602146236264\n",
      "epoch 7200: loss=0.009362526815764757\n",
      "epoch 7250: loss=0.009288654871741119\n",
      "epoch 7300: loss=0.009228822740973258\n",
      "epoch 7350: loss=0.009179890657566032\n",
      "epoch 7400: loss=0.00913856628597999\n",
      "epoch 7450: loss=0.009102587310635313\n",
      "epoch 7500: loss=0.009070369844533958\n",
      "epoch 7550: loss=0.00904291176370212\n",
      "epoch 7600: loss=0.009018731276903834\n",
      "epoch 7650: loss=0.00899719582984642\n",
      "epoch 7700: loss=0.00897786517684557\n",
      "epoch 7750: loss=0.008960422949523341\n",
      "epoch 7800: loss=0.008944625270609952\n",
      "epoch 7850: loss=0.008930241901959691\n",
      "epoch 7900: loss=0.008917053256716047\n",
      "epoch 7950: loss=0.008904863703919916\n",
      "epoch 8000: loss=0.008893525828512347\n",
      "epoch 8050: loss=0.008882921592009312\n",
      "epoch 8100: loss=0.008872954638636842\n",
      "epoch 8150: loss=0.008863545904810331\n",
      "epoch 8200: loss=0.008854638625468527\n",
      "epoch 8250: loss=0.008846189822925597\n",
      "epoch 8300: loss=0.008838154683459777\n",
      "epoch 8350: loss=0.00883050797773259\n",
      "epoch 8400: loss=0.008823217390751353\n",
      "epoch 8450: loss=0.00881626910473011\n",
      "epoch 8500: loss=0.008809573005656806\n",
      "epoch 8550: loss=0.008803303874268824\n",
      "epoch 8600: loss=0.008797355300309707\n",
      "epoch 8650: loss=0.008804477401533905\n",
      "epoch 8700: loss=0.008786551365438773\n",
      "epoch 8750: loss=0.00878432553869729\n",
      "epoch 8800: loss=0.008780357758609617\n",
      "epoch 8850: loss=0.008782399871519634\n",
      "epoch 8900: loss=0.008821796093668257\n",
      "epoch 8950: loss=0.008774081784851697\n",
      "epoch 9000: loss=0.008798573977713074\n",
      "epoch 9050: loss=0.00875761555507779\n",
      "epoch 9100: loss=0.00875432396649706\n",
      "epoch 9150: loss=0.01109852784750413\n",
      "epoch 9200: loss=0.009913670925461516\n",
      "epoch 9250: loss=0.009582669394356863\n",
      "epoch 9300: loss=0.00941226607074543\n",
      "epoch 9350: loss=0.009307267562467225\n",
      "epoch 9400: loss=0.009233984609647673\n",
      "epoch 9450: loss=0.009176360085910681\n",
      "epoch 9500: loss=0.009127726162574729\n",
      "epoch 9550: loss=0.0090856883446781\n",
      "epoch 9600: loss=0.009049583454521335\n",
      "epoch 9650: loss=0.009018739054397661\n",
      "epoch 9700: loss=0.008992310947909646\n",
      "epoch 9750: loss=0.008969461674592933\n",
      "epoch 9800: loss=0.008949481148500832\n",
      "epoch 9850: loss=0.008931818178721837\n",
      "epoch 9900: loss=0.008916030253986924\n",
      "epoch 9950: loss=0.008901758651648248\n"
     ]
    }
   ],
   "source": [
    "train_array = np.array([ord(ch) for ch in train_text])\n",
    "\n",
    "# train_array = np.array(list(range(30)))\n",
    "\n",
    "for i in range(10000):\n",
    "    epoch_loss = 0.0\n",
    "    curr_initial_states = sess.run(initial_states)\n",
    "    train_input_batches = generate_batches(train_array[:-1], batch_size, seq_length)\n",
    "    train_target_batches = generate_batches(train_array[1:], batch_size, seq_length)\n",
    "    \n",
    "    for (curr_input_data, curr_input_lens), (curr_target_data, _) in zip(train_input_batches, train_target_batches):\n",
    "        feed_dict = {\n",
    "            input_data: curr_input_data, \n",
    "            input_lengths: curr_input_lens,\n",
    "            target_data: curr_target_data,\n",
    "            initial_states: curr_initial_states }\n",
    "        _, curr_loss, curr_initial_states = sess.run((train_op, total_loss, final_states), feed_dict = feed_dict)\n",
    "        epoch_loss += curr_loss\n",
    "        \n",
    "    epoch_loss /= len(train_array) - 1\n",
    "    \n",
    "    if i % 50 == 0:\n",
    "        print(f'epoch {i}: loss={epoch_loss}')\n"
   ]
  },
  {
   "cell_type": "code",
   "execution_count": 16,
   "metadata": {},
   "outputs": [
    {
     "data": {
      "text/plain": [
       "'M yound and string became suspicious and cotther toked on end with fright. Oh, how foolish she had been! Her greed had trapped her. If only she had stayed home to a great bedall of the hont at all fright us off it chas suthing. \"Well, firs quilllhing to the worhisg and pad the quird, Mrs. Hedgehog became suspicious and cried, \"How long before we reach that field of grasshoppers?\" \"Why, you silly a hake among as the musinly he stopped digging, and threw back his ears to listen. Then he quickly jum'"
      ]
     },
     "execution_count": 16,
     "metadata": {},
     "output_type": "execute_result"
    }
   ],
   "source": [
    "''.join([chr(ch) for ch in sample(ord('M'), 500)])"
   ]
  },
  {
   "cell_type": "code",
   "execution_count": 202,
   "metadata": {},
   "outputs": [
    {
     "data": {
      "text/plain": [
       "TensorShape([Dimension(64), Dimension(50), Dimension(32)])"
      ]
     },
     "execution_count": 202,
     "metadata": {},
     "output_type": "execute_result"
    }
   ],
   "source": [
    "outputs.shape"
   ]
  },
  {
   "cell_type": "code",
   "execution_count": 3,
   "metadata": {},
   "outputs": [],
   "source": [
    "x = np.array([True, True, False])\n",
    "y = np.array([1., 2., 3.])"
   ]
  },
  {
   "cell_type": "code",
   "execution_count": 4,
   "metadata": {},
   "outputs": [
    {
     "data": {
      "text/plain": [
       "array([ 1.,  2.,  0.])"
      ]
     },
     "execution_count": 4,
     "metadata": {},
     "output_type": "execute_result"
    }
   ],
   "source": [
    "x*y"
   ]
  },
  {
   "cell_type": "code",
   "execution_count": null,
   "metadata": {
    "collapsed": true
   },
   "outputs": [],
   "source": []
  }
 ],
 "metadata": {
  "kernelspec": {
   "display_name": "Python 3",
   "language": "python",
   "name": "python3"
  },
  "language_info": {
   "codemirror_mode": {
    "name": "ipython",
    "version": 3
   },
   "file_extension": ".py",
   "mimetype": "text/x-python",
   "name": "python",
   "nbconvert_exporter": "python",
   "pygments_lexer": "ipython3",
   "version": "3.6.3"
  }
 },
 "nbformat": 4,
 "nbformat_minor": 2
}
