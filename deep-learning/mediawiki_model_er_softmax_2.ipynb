{
 "cells": [
  {
   "cell_type": "code",
   "execution_count": 1,
   "metadata": {},
   "outputs": [
    {
     "name": "stderr",
     "output_type": "stream",
     "text": [
      "/home/achang/anaconda3/lib/python3.5/site-packages/h5py/__init__.py:36: FutureWarning: Conversion of the second argument of issubdtype from `float` to `np.floating` is deprecated. In future, it will be treated as `np.float64 == np.dtype(float).type`.\n",
      "  from ._conv import register_converters as _register_converters\n"
     ]
    }
   ],
   "source": [
    "import tensorflow as tf\n",
    "import numpy as np\n",
    "import datetime\n",
    "import json\n",
    "import gzip\n",
    "import matplotlib.pyplot as plt\n",
    "import re\n",
    "import os\n",
    "import shutil\n",
    "from tqdm import tqdm_notebook"
   ]
  },
  {
   "cell_type": "code",
   "execution_count": 2,
   "metadata": {},
   "outputs": [],
   "source": [
    "sess = tf.InteractiveSession()"
   ]
  },
  {
   "cell_type": "code",
   "execution_count": 3,
   "metadata": {},
   "outputs": [],
   "source": [
    "sess = None"
   ]
  },
  {
   "cell_type": "code",
   "execution_count": 4,
   "metadata": {},
   "outputs": [],
   "source": [
    "def reset_tf(sess = None, log_device_placement = False):\n",
    "    if sess:\n",
    "        sess.close()\n",
    "    tf.reset_default_graph()\n",
    "    tf.set_random_seed(0)\n",
    "    return tf.InteractiveSession(config = tf.ConfigProto(log_device_placement = log_device_placement))\n",
    "\n",
    "def dump_statistics():\n",
    "    total_parameters = 0\n",
    "    for variable in tf.trainable_variables():\n",
    "        # shape is an array of tf.Dimension\n",
    "        shape = variable.get_shape()\n",
    "        variable_parameters = 1\n",
    "        for dim in shape:\n",
    "            variable_parameters *= dim.value\n",
    "        print('parameters for \"%s\": %d' % (variable.name, variable_parameters))\n",
    "        total_parameters += variable_parameters\n",
    "    print('total parameters: %d' % total_parameters)"
   ]
  },
  {
   "cell_type": "code",
   "execution_count": 5,
   "metadata": {},
   "outputs": [],
   "source": [
    "class HyperParameters:\n",
    "    learning_rate = 1e-3\n",
    "    \n",
    "    vocab_size = 30000\n",
    "    num_target_classes = 8000\n",
    "    \n",
    "    dropout_rate = 0.1\n",
    "    \n",
    "    context_size = 81\n",
    "    \n",
    "    d_embedding_position = 32\n",
    "    d_embedding_word = 128\n",
    "    \n",
    "    d_attention = 128\n",
    "    d_attention_ff = 512\n",
    "    \n",
    "    num_encoder_layers = 3\n",
    "    num_decoder_layers = 1\n",
    "\n",
    "    dataset_context_size = 121\n",
    "    dataset_batch_size = 512\n",
    "    dataset_num_parallel_calls = 4\n",
    "    dataset_prefetch_size = 4096\n",
    "    dataset_shuffle_size = 4096\n",
    "    \n",
    "    gradient_clip_norm = 5.0\n",
    "    \n",
    "    link_loss_pos_weight = 3.0\n",
    "    link_loss_scale = 1.0 / 2.0\n",
    "    \n",
    "    max_distance_bias = 10.0"
   ]
  },
  {
   "cell_type": "code",
   "execution_count": 6,
   "metadata": {},
   "outputs": [],
   "source": [
    "class EntityRecognitionModel:\n",
    "    def __init__(self, session, hp):\n",
    "        self._session = session\n",
    "        self._hp = hp\n",
    "        \n",
    "    def _parse_example(self, example_proto):\n",
    "        parsed = tf.parse_single_example(example_proto, features = {\n",
    "            'page': tf.FixedLenFeature([1], tf.int64),\n",
    "            'context': tf.FixedLenFeature([self._hp.dataset_context_size], tf.int64),\n",
    "            'targets': tf.FixedLenFeature([self._hp.dataset_context_size], tf.int64),\n",
    "            'targets_left': tf.FixedLenFeature([self._hp.dataset_context_size], tf.int64),\n",
    "            'targets_right': tf.FixedLenFeature([self._hp.dataset_context_size], tf.int64) })\n",
    "        \n",
    "        # apply random crop\n",
    "        offset = (self._dataset_random_seed + parsed['page'][0]) % (\n",
    "            (self._hp.dataset_context_size - self._hp.context_size) // 2)\n",
    "\n",
    "        # apply croppings\n",
    "        context = parsed['context']\n",
    "        context = context[offset:offset + self._hp.context_size]\n",
    "        targets = parsed['targets']\n",
    "        targets = targets[offset:offset + self._hp.context_size]\n",
    "        \n",
    "        return (context, targets)\n",
    "\n",
    "    def _build_data_pipeline(self):\n",
    "        with tf.variable_scope('dataset'):\n",
    "            # placeholders\n",
    "            self._dataset_filenames = tf.placeholder(\n",
    "                tf.string,\n",
    "                shape = [None],\n",
    "                name = 'dataset_filenames')\n",
    "            self._dataset_limit = tf.placeholder_with_default(\n",
    "                tf.constant(-1, tf.int64),\n",
    "                shape = [],\n",
    "                name = 'dataset_limit')\n",
    "            self._dataset_shuffle_size = tf.placeholder_with_default(\n",
    "                tf.constant(self._hp.dataset_batch_size, tf.int64),\n",
    "                shape = [],\n",
    "                name = 'dataset_shuffle_size')\n",
    "            self._dataset_batch_size = tf.placeholder_with_default(\n",
    "                tf.constant(self._hp.dataset_batch_size, tf.int64),\n",
    "                shape = [],\n",
    "                name = 'dataset_batch_size')\n",
    "            self._dataset_prefetch_size = tf.placeholder_with_default(\n",
    "                tf.constant(self._hp.dataset_prefetch_size, tf.int64),\n",
    "                shape = [],\n",
    "                name = 'dataset_prefetch_size')\n",
    "            self._dataset_random_seed = tf.placeholder_with_default(\n",
    "                tf.constant(0, tf.int64),\n",
    "                shape = [],\n",
    "                name = 'dataset_random_seed')\n",
    "\n",
    "            # build dataset\n",
    "            dataset = tf.data.TFRecordDataset(\n",
    "                tf.random_shuffle(self._dataset_filenames),\n",
    "                compression_type='GZIP')\n",
    "            dataset = dataset.take(self._dataset_limit)\n",
    "            dataset = dataset.map(\n",
    "                self._parse_example,\n",
    "                num_parallel_calls = self._hp.dataset_num_parallel_calls)\n",
    "            dataset = dataset.shuffle(self._dataset_shuffle_size)\n",
    "            dataset = dataset.prefetch(self._dataset_prefetch_size)\n",
    "            dataset = dataset.batch(self._dataset_batch_size)\n",
    "            \n",
    "            # build iterator\n",
    "            self._dataset_iterator = dataset.make_initializable_iterator()\n",
    "            context, targets = self._dataset_iterator.get_next()\n",
    "\n",
    "            # give key tensors names\n",
    "            self._context = tf.identity(context, 'context')\n",
    "            self._targets = tf.identity(targets, 'targets')\n",
    "\n",
    "            # minibatch size\n",
    "            self._minibatch_size = tf.shape(self._context)[0]\n",
    "            self._minibatch_size = tf.identity(self._minibatch_size, 'minibatch_size')\n",
    "            \n",
    "            # positions\n",
    "            p = tf.range(self._hp.context_size, dtype = tf.int64)\n",
    "            p = tf.tile(p, [self._minibatch_size])\n",
    "            p = tf.reshape(\n",
    "                p,\n",
    "                [self._minibatch_size, self._hp.context_size],\n",
    "                name = 'context_positions')\n",
    "            self._context_positions = p\n",
    "            \n",
    "    def _attention_layer(self, keys, queries, values, direction):\n",
    "        with tf.variable_scope('attention'):\n",
    "            # variables\n",
    "            key_projection = tf.get_variable(\n",
    "                'key_projection',\n",
    "                [keys.shape[-1].value, self._hp.d_attention])\n",
    "            query_projection = tf.get_variable(\n",
    "                'query_projection',\n",
    "                [queries.shape[-1].value, self._hp.d_attention])\n",
    "            \n",
    "            # compute weights\n",
    "            q = tf.tensordot(keys, key_projection, axes = 1)      # [batch_size, context_size, d_attention]\n",
    "            q.set_shape([None, self._hp.context_size, self._hp.d_attention])\n",
    "            k = tf.tensordot(queries, query_projection, axes = 1) # [batch_size, context_size, d_attention]\n",
    "            k.set_shape([None, self._hp.context_size, self._hp.d_attention])\n",
    "            k = tf.transpose(k, perm = [0, 2, 1])                 # [batch_size, d_attention, context_size]\n",
    "            w = tf.matmul(q, k)                                   # [batch_size, context_size, context_size]\n",
    "            w /= np.sqrt(self._hp.d_attention)\n",
    "            \n",
    "            # apply distance mask\n",
    "            mask = tf.constant(\n",
    "                [[-max(float(np.abs(i - j)), self._hp.max_distance_bias)\n",
    "                    for j in range(self._hp.context_size)]\n",
    "                    for i in range(self._hp.context_size)])\n",
    "            mask = tf.expand_dims(mask, axis = 0)                 # [1, context_size, context_size]\n",
    "            mask *= self._distance_scaling_factor\n",
    "            w += mask\n",
    "            \n",
    "            # apply directional mask\n",
    "            if direction is not None:\n",
    "                infinity= 1e25\n",
    "                if direction == 'f':\n",
    "                    mask = [[-infinity if i <= j else infinity\n",
    "                        for j in range(self._hp.context_size)]\n",
    "                        for i in range(self._hp.context_size)]\n",
    "                    mask[0][0] = infinity\n",
    "                    mask = tf.constant(mask)\n",
    "                else:\n",
    "                    mask = [[-infinity if i >= j else infinity\n",
    "                        for j in range(self._hp.context_size)]\n",
    "                        for i in range(self._hp.context_size)]\n",
    "                    mask[-1][-1] = infinity\n",
    "                    mask = tf.constant(mask)\n",
    "                mask = tf.expand_dims(mask, axis = 0)             # [1, context_size, context_size]\n",
    "                w = tf.minimum(w, mask)\n",
    "\n",
    "            # softmax\n",
    "            w = tf.nn.softmax(w, name = 'weights')\n",
    "            \n",
    "#             # apply weights\n",
    "#             layer = values + tf.matmul(w, values)\n",
    "            \n",
    "            # apply weights\n",
    "            layer = tf.concat([values, tf.matmul(w, values)], axis = -1)\n",
    "\n",
    "            # feed-forward hidden layer\n",
    "            layer = tf.layers.dense(\n",
    "                layer,\n",
    "                self._hp.d_attention_ff,\n",
    "                activation = tf.nn.relu,\n",
    "                name = 'ff_hidden')\n",
    "          \n",
    "            # feed-forward output layer\n",
    "            layer = tf.layers.dense(\n",
    "                layer,\n",
    "                self._hp.d_attention,\n",
    "                name = 'ff_output')\n",
    "            \n",
    "            # batch norm\n",
    "            layer = tf.layers.batch_normalization(\n",
    "                layer,\n",
    "                training = self._training)\n",
    "\n",
    "            # dropout\n",
    "            layer = tf.layers.dropout(\n",
    "                layer,\n",
    "                rate = self._hp.dropout_rate,\n",
    "                training = self._training)\n",
    "            \n",
    "            return layer\n",
    "    \n",
    "    def _attention_layer_self(self, layer, direction):\n",
    "        return self._attention_layer(layer, layer, layer, direction)\n",
    "            \n",
    "    def _build_model(self):\n",
    "        with tf.variable_scope('model'):\n",
    "            # placeholder: training flag\n",
    "            self._training = tf.placeholder(tf.bool, name = 'training')\n",
    "            \n",
    "            # embed context words\n",
    "            word_embeddings = tf.get_variable(\n",
    "                'word_embeddings', \n",
    "                [self._hp.vocab_size, self._hp.d_embedding_word])\n",
    "            context_embedded = tf.nn.embedding_lookup(\n",
    "                word_embeddings,\n",
    "                self._context)\n",
    "\n",
    "            # embed context positions\n",
    "            position_embeddings = tf.get_variable(\n",
    "                'position_embeddings',\n",
    "                [self._hp.context_size, self._hp.d_embedding_position],\n",
    "                dtype=tf.float32)\n",
    "            context_positions_embedded = tf.nn.embedding_lookup(\n",
    "                position_embeddings,\n",
    "                self._context_positions)\n",
    "\n",
    "            # build full context vector (concat embeddings)\n",
    "            context_full = tf.concat(\n",
    "                [context_embedded, context_positions_embedded], \n",
    "                axis = -1)\n",
    "            \n",
    "            # encoder\n",
    "            with tf.variable_scope('encoder'):\n",
    "                self._distance_scaling_factor = tf.get_variable(\n",
    "                    'distance_scaling_factor',\n",
    "                    shape = [],\n",
    "                    initializer = tf.constant_initializer([0.3]))\n",
    "                \n",
    "                # build input vector\n",
    "                context_attention = tf.layers.dense(\n",
    "                    context_full,\n",
    "                    self._hp.d_attention,\n",
    "                    activation = tf.nn.relu,\n",
    "                    name = 'input')\n",
    "                context_attention = tf.layers.batch_normalization(\n",
    "                    context_attention,\n",
    "                    training = self._training,\n",
    "                    name = 'input')\n",
    "                context_attention = tf.layers.dropout(\n",
    "                    context_attention,\n",
    "                    rate = self._hp.dropout_rate,\n",
    "                    training = self._training)\n",
    "                \n",
    "                # attention layers\n",
    "                layer_f = context_attention\n",
    "                layer_b = context_attention\n",
    "                for i in range(self._hp.num_encoder_layers):\n",
    "                    with tf.variable_scope('layer_f_%d' % i):\n",
    "                        layer_f = self._attention_layer_self(layer_f, direction = 'f')\n",
    "                    with tf.variable_scope('layer_b_%d' % i):\n",
    "                        layer_b = self._attention_layer_self(layer_b, direction = 'b')\n",
    "                \n",
    "                self._encoder_output = tf.concat(\n",
    "                    [layer_f, layer_b],\n",
    "                    axis = -1,\n",
    "                    name = 'encoder_output')\n",
    "                \n",
    "            # decoder\n",
    "            with tf.variable_scope('decoder'):\n",
    "                # build history from targets\n",
    "                sentinels = -tf.ones([self._minibatch_size, 1], dtype = tf.int64)\n",
    "                layer = tf.concat([sentinels, self._targets[:, :-1]], axis = -1)\n",
    "                # N.B., convert -1 -> 0\n",
    "                layer = layer + 1\n",
    "                \n",
    "                # embedding\n",
    "                decoder_embeddings = tf.get_variable(\n",
    "                    'decoder_embeddings',\n",
    "                    [self._hp.num_target_classes + 1, self._hp.d_attention])\n",
    "                layer = tf.nn.embedding_lookup(\n",
    "                    decoder_embeddings,\n",
    "                    layer)\n",
    "\n",
    "                # self attention\n",
    "                for i in range(self._hp.num_decoder_layers):\n",
    "                    with tf.variable_scope('layer_f_%d' % i):\n",
    "                        layer = self._attention_layer_self(layer, direction = 'f')\n",
    "\n",
    "                # encoder-decoder attention\n",
    "                layer = self._attention_layer(\n",
    "                    keys = layer,\n",
    "                    queries = self._encoder_output,\n",
    "                    values = self._encoder_output,\n",
    "                    direction = None)\n",
    "            \n",
    "            # link detection\n",
    "            self._output_link_logits = tf.layers.dense(layer, 1)\n",
    "            self._output_link_logits = tf.squeeze(\n",
    "                self._output_link_logits,\n",
    "                axis = -1,\n",
    "                name = 'output_link_logits')\n",
    "\n",
    "            # class identification\n",
    "            self._output_class_logits = tf.layers.dense(\n",
    "                layer,\n",
    "                self._hp.num_target_classes,\n",
    "                name = 'output_class_logits')\n",
    "\n",
    "    def _build_training_model(self):\n",
    "        with tf.variable_scope('train'):\n",
    "            # link detection losses\n",
    "            target_links = tf.cast(tf.logical_not(tf.less(self._targets, 0)), tf.int64)\n",
    "            link_losses = tf.nn.weighted_cross_entropy_with_logits(\n",
    "                targets = tf.cast(target_links, tf.float32),\n",
    "                logits = self._output_link_logits,\n",
    "                pos_weight = self._hp.link_loss_pos_weight)\n",
    "            link_losses *= self._hp.link_loss_scale\n",
    "            \n",
    "            # class identification losses\n",
    "            targets = tf.maximum(self._targets, 0) # mask out -1s\n",
    "            class_losses = tf.nn.sparse_softmax_cross_entropy_with_logits(\n",
    "                labels = targets,\n",
    "                logits = self._output_class_logits)\n",
    "            # (mask off losses for non-links)\n",
    "            class_losses *= tf.cast(target_links, tf.float32)\n",
    "            \n",
    "            # total loss\n",
    "            self._total_link_loss = tf.reduce_sum(link_losses, name = 'total_link_loss')\n",
    "            self._total_class_loss = tf.reduce_sum(class_losses, name = 'total_class_loss')\n",
    "            self._total_loss = self._total_link_loss + self._total_class_loss\n",
    "            self._total_loss = tf.identity(self._total_loss, name = 'total_loss')\n",
    "\n",
    "            # mean loss\n",
    "            self._mean_loss = self._total_loss / tf.cast(self._minibatch_size, tf.float32)\n",
    "            self._mean_loss = tf.identity(self._mean_loss, name = 'mean_loss')\n",
    "\n",
    "            # outputs and probabilities\n",
    "            self._output_link_probs = tf.sigmoid(\n",
    "                self._output_link_logits,\n",
    "                name = 'output_link_probs')\n",
    "            self._output_links = tf.cast(\n",
    "                self._output_link_probs > 0.5,\n",
    "                tf.int64,\n",
    "                name = 'output_links')\n",
    "            self._output_class_probs = tf.nn.softmax(\n",
    "                self._output_class_logits,\n",
    "                name = 'output_class_probs')\n",
    "            self._output_classes = tf.argmax(\n",
    "                self._output_class_probs,\n",
    "                axis = -1,\n",
    "                name = 'output_class_probs')\n",
    "            \n",
    "            # precision/recall\n",
    "            self._true_positives = tf.reduce_sum(\n",
    "                self._output_links * target_links,\n",
    "                name = 'true_positives')\n",
    "            self._false_positives = tf.reduce_sum(\n",
    "                self._output_links * (1 - target_links),\n",
    "                name = 'false_positives')\n",
    "            self._false_negatives = tf.reduce_sum(\n",
    "                (1 - self._output_links) * target_links,\n",
    "                name = 'false_negatives')\n",
    "            \n",
    "            update_ops = tf.get_collection(tf.GraphKeys.UPDATE_OPS)\n",
    "            with tf.control_dependencies(update_ops):\n",
    "                self._global_step = tf.Variable(0, name='global_step', trainable=False)\n",
    "                self._optimizer = tf.train.AdamOptimizer(learning_rate=self._hp.learning_rate)\n",
    "                \n",
    "                # gradient clipping\n",
    "                gradients, variables = zip(*self._optimizer.compute_gradients(self._mean_loss))\n",
    "                gradients, _ = tf.clip_by_global_norm(\n",
    "                    gradients, \n",
    "                    self._hp.gradient_clip_norm)\n",
    "                \n",
    "                self._train_op = self._optimizer.apply_gradients(\n",
    "                    zip(gradients, variables),\n",
    "                    global_step = self._global_step)\n",
    "    \n",
    "    def build_model(self):\n",
    "        self._build_data_pipeline()\n",
    "        self._build_model()\n",
    "        self._build_training_model()\n",
    "\n",
    "    def process(self,\n",
    "                dataset_filenames,\n",
    "                dataset_limit = -1,\n",
    "                header = 'results',\n",
    "                train = False,\n",
    "                log_file = None):\n",
    "        # initialize dataset to files\n",
    "        self._session.run(self._dataset_iterator.initializer, feed_dict={\n",
    "            self._dataset_filenames: dataset_filenames,\n",
    "            self._dataset_limit: dataset_limit })\n",
    "\n",
    "        cum_loss = 0\n",
    "        cum_link_loss = 0\n",
    "        cum_class_loss = 0\n",
    "        cum_num_examples = 0\n",
    "        cum_true_positives = 0\n",
    "        cum_false_positives = 0\n",
    "        cum_false_negatives = 0\n",
    "        \n",
    "        start = datetime.datetime.now()\n",
    "        progress = tqdm_notebook(leave = False, desc = header)\n",
    "\n",
    "        while True:\n",
    "            # process a minibatch\n",
    "            try:\n",
    "                (_,\n",
    "                 curr_total_loss, \n",
    "                 curr_total_link_loss,\n",
    "                 curr_total_class_loss,\n",
    "                 curr_minibatch_size,\n",
    "                 curr_true_positives,\n",
    "                 curr_false_positives,\n",
    "                 curr_false_negatives) = self._session.run(\n",
    "                    (self._train_op if train else (),\n",
    "                     self._total_loss,\n",
    "                     self._total_link_loss,\n",
    "                     self._total_class_loss,\n",
    "                     self._minibatch_size,\n",
    "                     self._true_positives,\n",
    "                     self._false_positives,\n",
    "                     self._false_negatives),\n",
    "                    feed_dict = { self._training: train })\n",
    "            except tf.errors.OutOfRangeError:\n",
    "                break\n",
    "\n",
    "            # update stats/progress\n",
    "            cum_loss += curr_total_loss\n",
    "            cum_link_loss += curr_total_link_loss\n",
    "            cum_class_loss += curr_total_class_loss\n",
    "            cum_num_examples += curr_minibatch_size\n",
    "            cum_true_positives += curr_true_positives\n",
    "            cum_false_positives += curr_false_positives\n",
    "            cum_false_negatives += curr_false_negatives\n",
    "            progress.update(curr_minibatch_size)\n",
    "\n",
    "        progress.close()\n",
    "        finish = datetime.datetime.now()\n",
    "        \n",
    "        # precision\n",
    "        precision = 0\n",
    "        if cum_true_positives + cum_false_positives > 0:\n",
    "            precision = cum_true_positives / (cum_true_positives + cum_false_positives)\n",
    "            \n",
    "        # recall\n",
    "        recall = 0\n",
    "        if cum_true_positives + cum_false_negatives > 0:\n",
    "            recall = cum_true_positives / (cum_true_positives + cum_false_negatives)\n",
    "            \n",
    "        # F1\n",
    "        F1 = 0\n",
    "        if precision + recall > 0:\n",
    "            F1 = 2 * precision * recall / (precision + recall)\n",
    "        \n",
    "        # print/log output\n",
    "        message = '%s: time=%s, step=%d, loss=%g (%g + %g), precision=%g, recall=%g, F=%g' % (\n",
    "            header,\n",
    "            finish - start,\n",
    "            tf.train.global_step(sess, self._global_step),\n",
    "            cum_loss / cum_num_examples,\n",
    "            cum_link_loss / cum_num_examples,\n",
    "            cum_class_loss / cum_num_examples,\n",
    "            precision,\n",
    "            recall,\n",
    "            F1)\n",
    "        print(message)\n",
    "        if log_file:\n",
    "            print(message, file=log_file)\n",
    "            log_file.flush()"
   ]
  },
  {
   "cell_type": "code",
   "execution_count": 7,
   "metadata": {},
   "outputs": [
    {
     "name": "stdout",
     "output_type": "stream",
     "text": [
      "parameters for \"model/word_embeddings:0\": 3840000\n",
      "parameters for \"model/position_embeddings:0\": 2592\n",
      "parameters for \"model/encoder/distance_scaling_factor:0\": 1\n",
      "parameters for \"model/encoder/input/kernel:0\": 20480\n",
      "parameters for \"model/encoder/input/bias:0\": 128\n",
      "parameters for \"model/encoder/input/gamma:0\": 128\n",
      "parameters for \"model/encoder/input/beta:0\": 128\n",
      "parameters for \"model/encoder/layer_f_0/attention/key_projection:0\": 16384\n",
      "parameters for \"model/encoder/layer_f_0/attention/query_projection:0\": 16384\n",
      "parameters for \"model/encoder/layer_f_0/attention/ff_hidden/kernel:0\": 131072\n",
      "parameters for \"model/encoder/layer_f_0/attention/ff_hidden/bias:0\": 512\n",
      "parameters for \"model/encoder/layer_f_0/attention/ff_output/kernel:0\": 65536\n",
      "parameters for \"model/encoder/layer_f_0/attention/ff_output/bias:0\": 128\n",
      "parameters for \"model/encoder/layer_f_0/attention/batch_normalization/gamma:0\": 128\n",
      "parameters for \"model/encoder/layer_f_0/attention/batch_normalization/beta:0\": 128\n",
      "parameters for \"model/encoder/layer_b_0/attention/key_projection:0\": 16384\n",
      "parameters for \"model/encoder/layer_b_0/attention/query_projection:0\": 16384\n",
      "parameters for \"model/encoder/layer_b_0/attention/ff_hidden/kernel:0\": 131072\n",
      "parameters for \"model/encoder/layer_b_0/attention/ff_hidden/bias:0\": 512\n",
      "parameters for \"model/encoder/layer_b_0/attention/ff_output/kernel:0\": 65536\n",
      "parameters for \"model/encoder/layer_b_0/attention/ff_output/bias:0\": 128\n",
      "parameters for \"model/encoder/layer_b_0/attention/batch_normalization/gamma:0\": 128\n",
      "parameters for \"model/encoder/layer_b_0/attention/batch_normalization/beta:0\": 128\n",
      "parameters for \"model/encoder/layer_f_1/attention/key_projection:0\": 16384\n",
      "parameters for \"model/encoder/layer_f_1/attention/query_projection:0\": 16384\n",
      "parameters for \"model/encoder/layer_f_1/attention/ff_hidden/kernel:0\": 131072\n",
      "parameters for \"model/encoder/layer_f_1/attention/ff_hidden/bias:0\": 512\n",
      "parameters for \"model/encoder/layer_f_1/attention/ff_output/kernel:0\": 65536\n",
      "parameters for \"model/encoder/layer_f_1/attention/ff_output/bias:0\": 128\n",
      "parameters for \"model/encoder/layer_f_1/attention/batch_normalization/gamma:0\": 128\n",
      "parameters for \"model/encoder/layer_f_1/attention/batch_normalization/beta:0\": 128\n",
      "parameters for \"model/encoder/layer_b_1/attention/key_projection:0\": 16384\n",
      "parameters for \"model/encoder/layer_b_1/attention/query_projection:0\": 16384\n",
      "parameters for \"model/encoder/layer_b_1/attention/ff_hidden/kernel:0\": 131072\n",
      "parameters for \"model/encoder/layer_b_1/attention/ff_hidden/bias:0\": 512\n",
      "parameters for \"model/encoder/layer_b_1/attention/ff_output/kernel:0\": 65536\n",
      "parameters for \"model/encoder/layer_b_1/attention/ff_output/bias:0\": 128\n",
      "parameters for \"model/encoder/layer_b_1/attention/batch_normalization/gamma:0\": 128\n",
      "parameters for \"model/encoder/layer_b_1/attention/batch_normalization/beta:0\": 128\n",
      "parameters for \"model/encoder/layer_f_2/attention/key_projection:0\": 16384\n",
      "parameters for \"model/encoder/layer_f_2/attention/query_projection:0\": 16384\n",
      "parameters for \"model/encoder/layer_f_2/attention/ff_hidden/kernel:0\": 131072\n",
      "parameters for \"model/encoder/layer_f_2/attention/ff_hidden/bias:0\": 512\n",
      "parameters for \"model/encoder/layer_f_2/attention/ff_output/kernel:0\": 65536\n",
      "parameters for \"model/encoder/layer_f_2/attention/ff_output/bias:0\": 128\n",
      "parameters for \"model/encoder/layer_f_2/attention/batch_normalization/gamma:0\": 128\n",
      "parameters for \"model/encoder/layer_f_2/attention/batch_normalization/beta:0\": 128\n",
      "parameters for \"model/encoder/layer_b_2/attention/key_projection:0\": 16384\n",
      "parameters for \"model/encoder/layer_b_2/attention/query_projection:0\": 16384\n",
      "parameters for \"model/encoder/layer_b_2/attention/ff_hidden/kernel:0\": 131072\n",
      "parameters for \"model/encoder/layer_b_2/attention/ff_hidden/bias:0\": 512\n",
      "parameters for \"model/encoder/layer_b_2/attention/ff_output/kernel:0\": 65536\n",
      "parameters for \"model/encoder/layer_b_2/attention/ff_output/bias:0\": 128\n",
      "parameters for \"model/encoder/layer_b_2/attention/batch_normalization/gamma:0\": 128\n",
      "parameters for \"model/encoder/layer_b_2/attention/batch_normalization/beta:0\": 128\n",
      "parameters for \"model/decoder/decoder_embeddings:0\": 1024128\n",
      "parameters for \"model/decoder/layer_f_0/attention/key_projection:0\": 16384\n",
      "parameters for \"model/decoder/layer_f_0/attention/query_projection:0\": 16384\n",
      "parameters for \"model/decoder/layer_f_0/attention/ff_hidden/kernel:0\": 131072\n",
      "parameters for \"model/decoder/layer_f_0/attention/ff_hidden/bias:0\": 512\n",
      "parameters for \"model/decoder/layer_f_0/attention/ff_output/kernel:0\": 65536\n",
      "parameters for \"model/decoder/layer_f_0/attention/ff_output/bias:0\": 128\n",
      "parameters for \"model/decoder/layer_f_0/attention/batch_normalization/gamma:0\": 128\n",
      "parameters for \"model/decoder/layer_f_0/attention/batch_normalization/beta:0\": 128\n",
      "parameters for \"model/decoder/attention/key_projection:0\": 16384\n",
      "parameters for \"model/decoder/attention/query_projection:0\": 32768\n",
      "parameters for \"model/decoder/attention/ff_hidden/kernel:0\": 262144\n",
      "parameters for \"model/decoder/attention/ff_hidden/bias:0\": 512\n",
      "parameters for \"model/decoder/attention/ff_output/kernel:0\": 65536\n",
      "parameters for \"model/decoder/attention/ff_output/bias:0\": 128\n",
      "parameters for \"model/decoder/attention/batch_normalization/gamma:0\": 128\n",
      "parameters for \"model/decoder/attention/batch_normalization/beta:0\": 128\n",
      "parameters for \"model/dense/kernel:0\": 128\n",
      "parameters for \"model/dense/bias:0\": 1\n",
      "parameters for \"model/output_class_logits/kernel:0\": 1024000\n",
      "parameters for \"model/output_class_logits/bias:0\": 8000\n",
      "total parameters: 7909346\n"
     ]
    }
   ],
   "source": [
    "sess = reset_tf(sess)\n",
    "\n",
    "model = EntityRecognitionModel(sess, HyperParameters())\n",
    "model.build_model()\n",
    "dump_statistics()"
   ]
  },
  {
   "cell_type": "code",
   "execution_count": 8,
   "metadata": {},
   "outputs": [],
   "source": [
    "sess.run(tf.global_variables_initializer())"
   ]
  },
  {
   "cell_type": "code",
   "execution_count": 9,
   "metadata": {},
   "outputs": [],
   "source": [
    "def list_files(path):\n",
    "    return sorted([os.path.join(path, file) for file in os.listdir(path)])\n",
    "\n",
    "train_set = list_files('../data/simplewiki/simplewiki-20171103.er_softmax_2.train')\n",
    "dev_set = list_files('../data/simplewiki/simplewiki-20171103.er_softmax_2.dev')\n",
    "test_set = list_files('../data/simplewiki/simplewiki-20171103.er_softmax_2.test')"
   ]
  },
  {
   "cell_type": "code",
   "execution_count": 52,
   "metadata": {},
   "outputs": [
    {
     "data": {
      "application/vnd.jupyter.widget-view+json": {
       "model_id": "1acd181beb1841ffbf20a87a012c07de",
       "version_major": 2,
       "version_minor": 0
      },
      "text/html": [
       "<p>Failed to display Jupyter Widget of type <code>HBox</code>.</p>\n",
       "<p>\n",
       "  If you're reading this message in the Jupyter Notebook or JupyterLab Notebook, it may mean\n",
       "  that the widgets JavaScript is still loading. If this message persists, it\n",
       "  likely means that the widgets JavaScript library is either not installed or\n",
       "  not enabled. See the <a href=\"https://ipywidgets.readthedocs.io/en/stable/user_install.html\">Jupyter\n",
       "  Widgets Documentation</a> for setup instructions.\n",
       "</p>\n",
       "<p>\n",
       "  If you're reading this message in another frontend (for example, a static\n",
       "  rendering on GitHub or <a href=\"https://nbviewer.jupyter.org/\">NBViewer</a>),\n",
       "  it may mean that your frontend doesn't currently support widgets.\n",
       "</p>\n"
      ],
      "text/plain": [
       "HBox(children=(IntProgress(value=1, bar_style='info', description='train 0', max=1), HTML(value='')))"
      ]
     },
     "metadata": {},
     "output_type": "display_data"
    },
    {
     "name": "stdout",
     "output_type": "stream",
     "text": [
      "\r",
      "train 0: time=0:10:46.673041, step=8496, loss=5.83306 (4.36451 + 1.46855), precision=0.750936, recall=0.909589, F=0.822683\n"
     ]
    },
    {
     "data": {
      "application/vnd.jupyter.widget-view+json": {
       "model_id": "593f3f64a7de4b6aab6d2ec516cdab47",
       "version_major": 2,
       "version_minor": 0
      },
      "text/html": [
       "<p>Failed to display Jupyter Widget of type <code>HBox</code>.</p>\n",
       "<p>\n",
       "  If you're reading this message in the Jupyter Notebook or JupyterLab Notebook, it may mean\n",
       "  that the widgets JavaScript is still loading. If this message persists, it\n",
       "  likely means that the widgets JavaScript library is either not installed or\n",
       "  not enabled. See the <a href=\"https://ipywidgets.readthedocs.io/en/stable/user_install.html\">Jupyter\n",
       "  Widgets Documentation</a> for setup instructions.\n",
       "</p>\n",
       "<p>\n",
       "  If you're reading this message in another frontend (for example, a static\n",
       "  rendering on GitHub or <a href=\"https://nbviewer.jupyter.org/\">NBViewer</a>),\n",
       "  it may mean that your frontend doesn't currently support widgets.\n",
       "</p>\n"
      ],
      "text/plain": [
       "HBox(children=(IntProgress(value=1, bar_style='info', description='dev 0', max=1), HTML(value='')))"
      ]
     },
     "metadata": {},
     "output_type": "display_data"
    },
    {
     "name": "stdout",
     "output_type": "stream",
     "text": [
      "\r",
      "dev 0: time=0:00:08.576826, step=8496, loss=8.10786 (5.71356 + 2.3943), precision=0.76562, recall=0.845312, F=0.803495\n"
     ]
    },
    {
     "data": {
      "application/vnd.jupyter.widget-view+json": {
       "model_id": "1b7947c581ea450cbaa0dbf46b903088",
       "version_major": 2,
       "version_minor": 0
      },
      "text/html": [
       "<p>Failed to display Jupyter Widget of type <code>HBox</code>.</p>\n",
       "<p>\n",
       "  If you're reading this message in the Jupyter Notebook or JupyterLab Notebook, it may mean\n",
       "  that the widgets JavaScript is still loading. If this message persists, it\n",
       "  likely means that the widgets JavaScript library is either not installed or\n",
       "  not enabled. See the <a href=\"https://ipywidgets.readthedocs.io/en/stable/user_install.html\">Jupyter\n",
       "  Widgets Documentation</a> for setup instructions.\n",
       "</p>\n",
       "<p>\n",
       "  If you're reading this message in another frontend (for example, a static\n",
       "  rendering on GitHub or <a href=\"https://nbviewer.jupyter.org/\">NBViewer</a>),\n",
       "  it may mean that your frontend doesn't currently support widgets.\n",
       "</p>\n"
      ],
      "text/plain": [
       "HBox(children=(IntProgress(value=1, bar_style='info', description='train 1', max=1), HTML(value='')))"
      ]
     },
     "metadata": {},
     "output_type": "display_data"
    },
    {
     "name": "stdout",
     "output_type": "stream",
     "text": [
      "\r",
      "train 1: time=0:10:44.900593, step=9912, loss=5.46289 (4.15554 + 1.30736), precision=0.759199, recall=0.915894, F=0.830218\n"
     ]
    },
    {
     "data": {
      "application/vnd.jupyter.widget-view+json": {
       "model_id": "0069199024b44c9dbdabc6d6c7925015",
       "version_major": 2,
       "version_minor": 0
      },
      "text/html": [
       "<p>Failed to display Jupyter Widget of type <code>HBox</code>.</p>\n",
       "<p>\n",
       "  If you're reading this message in the Jupyter Notebook or JupyterLab Notebook, it may mean\n",
       "  that the widgets JavaScript is still loading. If this message persists, it\n",
       "  likely means that the widgets JavaScript library is either not installed or\n",
       "  not enabled. See the <a href=\"https://ipywidgets.readthedocs.io/en/stable/user_install.html\">Jupyter\n",
       "  Widgets Documentation</a> for setup instructions.\n",
       "</p>\n",
       "<p>\n",
       "  If you're reading this message in another frontend (for example, a static\n",
       "  rendering on GitHub or <a href=\"https://nbviewer.jupyter.org/\">NBViewer</a>),\n",
       "  it may mean that your frontend doesn't currently support widgets.\n",
       "</p>\n"
      ],
      "text/plain": [
       "HBox(children=(IntProgress(value=1, bar_style='info', description='dev 1', max=1), HTML(value='')))"
      ]
     },
     "metadata": {},
     "output_type": "display_data"
    },
    {
     "name": "stdout",
     "output_type": "stream",
     "text": [
      "\r",
      "dev 1: time=0:00:07.920906, step=9912, loss=8.25942 (5.91168 + 2.34774), precision=0.760886, recall=0.854456, F=0.804961\n"
     ]
    },
    {
     "data": {
      "application/vnd.jupyter.widget-view+json": {
       "model_id": "ab4120ed47e7486daefa5228f63e8a5b",
       "version_major": 2,
       "version_minor": 0
      },
      "text/html": [
       "<p>Failed to display Jupyter Widget of type <code>HBox</code>.</p>\n",
       "<p>\n",
       "  If you're reading this message in the Jupyter Notebook or JupyterLab Notebook, it may mean\n",
       "  that the widgets JavaScript is still loading. If this message persists, it\n",
       "  likely means that the widgets JavaScript library is either not installed or\n",
       "  not enabled. See the <a href=\"https://ipywidgets.readthedocs.io/en/stable/user_install.html\">Jupyter\n",
       "  Widgets Documentation</a> for setup instructions.\n",
       "</p>\n",
       "<p>\n",
       "  If you're reading this message in another frontend (for example, a static\n",
       "  rendering on GitHub or <a href=\"https://nbviewer.jupyter.org/\">NBViewer</a>),\n",
       "  it may mean that your frontend doesn't currently support widgets.\n",
       "</p>\n"
      ],
      "text/plain": [
       "HBox(children=(IntProgress(value=1, bar_style='info', description='train 2', max=1), HTML(value='')))"
      ]
     },
     "metadata": {},
     "output_type": "display_data"
    },
    {
     "name": "stdout",
     "output_type": "stream",
     "text": [
      "\r",
      "train 2: time=0:10:16.596003, step=11328, loss=5.11832 (3.95276 + 1.16556), precision=0.767647, recall=0.921578, F=0.837599\n"
     ]
    },
    {
     "data": {
      "application/vnd.jupyter.widget-view+json": {
       "model_id": "151ed2baa26d4230b6a0fbb1b539f6d5",
       "version_major": 2,
       "version_minor": 0
      },
      "text/html": [
       "<p>Failed to display Jupyter Widget of type <code>HBox</code>.</p>\n",
       "<p>\n",
       "  If you're reading this message in the Jupyter Notebook or JupyterLab Notebook, it may mean\n",
       "  that the widgets JavaScript is still loading. If this message persists, it\n",
       "  likely means that the widgets JavaScript library is either not installed or\n",
       "  not enabled. See the <a href=\"https://ipywidgets.readthedocs.io/en/stable/user_install.html\">Jupyter\n",
       "  Widgets Documentation</a> for setup instructions.\n",
       "</p>\n",
       "<p>\n",
       "  If you're reading this message in another frontend (for example, a static\n",
       "  rendering on GitHub or <a href=\"https://nbviewer.jupyter.org/\">NBViewer</a>),\n",
       "  it may mean that your frontend doesn't currently support widgets.\n",
       "</p>\n"
      ],
      "text/plain": [
       "HBox(children=(IntProgress(value=1, bar_style='info', description='dev 2', max=1), HTML(value='')))"
      ]
     },
     "metadata": {},
     "output_type": "display_data"
    },
    {
     "name": "stdout",
     "output_type": "stream",
     "text": [
      "\r",
      "dev 2: time=0:00:07.893153, step=11328, loss=8.06273 (5.73386 + 2.32886), precision=0.744102, recall=0.86386, F=0.799521\n"
     ]
    },
    {
     "data": {
      "application/vnd.jupyter.widget-view+json": {
       "model_id": "6d8468201c9c43029c1238b5f78bd596",
       "version_major": 2,
       "version_minor": 0
      },
      "text/html": [
       "<p>Failed to display Jupyter Widget of type <code>HBox</code>.</p>\n",
       "<p>\n",
       "  If you're reading this message in the Jupyter Notebook or JupyterLab Notebook, it may mean\n",
       "  that the widgets JavaScript is still loading. If this message persists, it\n",
       "  likely means that the widgets JavaScript library is either not installed or\n",
       "  not enabled. See the <a href=\"https://ipywidgets.readthedocs.io/en/stable/user_install.html\">Jupyter\n",
       "  Widgets Documentation</a> for setup instructions.\n",
       "</p>\n",
       "<p>\n",
       "  If you're reading this message in another frontend (for example, a static\n",
       "  rendering on GitHub or <a href=\"https://nbviewer.jupyter.org/\">NBViewer</a>),\n",
       "  it may mean that your frontend doesn't currently support widgets.\n",
       "</p>\n"
      ],
      "text/plain": [
       "HBox(children=(IntProgress(value=1, bar_style='info', description='train 3', max=1), HTML(value='')))"
      ]
     },
     "metadata": {},
     "output_type": "display_data"
    },
    {
     "name": "stdout",
     "output_type": "stream",
     "text": [
      "\r",
      "train 3: time=0:10:17.169352, step=12744, loss=4.84013 (3.78101 + 1.05911), precision=0.774616, recall=0.926397, F=0.843735\n"
     ]
    },
    {
     "data": {
      "application/vnd.jupyter.widget-view+json": {
       "model_id": "17244aabed7747e2b5aeb29a63644ddb",
       "version_major": 2,
       "version_minor": 0
      },
      "text/html": [
       "<p>Failed to display Jupyter Widget of type <code>HBox</code>.</p>\n",
       "<p>\n",
       "  If you're reading this message in the Jupyter Notebook or JupyterLab Notebook, it may mean\n",
       "  that the widgets JavaScript is still loading. If this message persists, it\n",
       "  likely means that the widgets JavaScript library is either not installed or\n",
       "  not enabled. See the <a href=\"https://ipywidgets.readthedocs.io/en/stable/user_install.html\">Jupyter\n",
       "  Widgets Documentation</a> for setup instructions.\n",
       "</p>\n",
       "<p>\n",
       "  If you're reading this message in another frontend (for example, a static\n",
       "  rendering on GitHub or <a href=\"https://nbviewer.jupyter.org/\">NBViewer</a>),\n",
       "  it may mean that your frontend doesn't currently support widgets.\n",
       "</p>\n"
      ],
      "text/plain": [
       "HBox(children=(IntProgress(value=1, bar_style='info', description='dev 3', max=1), HTML(value='')))"
      ]
     },
     "metadata": {},
     "output_type": "display_data"
    },
    {
     "name": "stdout",
     "output_type": "stream",
     "text": [
      "\r",
      "dev 3: time=0:00:07.914315, step=12744, loss=8.12209 (5.79096 + 2.33113), precision=0.718599, recall=0.881694, F=0.791836\n"
     ]
    },
    {
     "data": {
      "application/vnd.jupyter.widget-view+json": {
       "model_id": "207017c7e0904dff84bcdf72bf8abaae",
       "version_major": 2,
       "version_minor": 0
      },
      "text/html": [
       "<p>Failed to display Jupyter Widget of type <code>HBox</code>.</p>\n",
       "<p>\n",
       "  If you're reading this message in the Jupyter Notebook or JupyterLab Notebook, it may mean\n",
       "  that the widgets JavaScript is still loading. If this message persists, it\n",
       "  likely means that the widgets JavaScript library is either not installed or\n",
       "  not enabled. See the <a href=\"https://ipywidgets.readthedocs.io/en/stable/user_install.html\">Jupyter\n",
       "  Widgets Documentation</a> for setup instructions.\n",
       "</p>\n",
       "<p>\n",
       "  If you're reading this message in another frontend (for example, a static\n",
       "  rendering on GitHub or <a href=\"https://nbviewer.jupyter.org/\">NBViewer</a>),\n",
       "  it may mean that your frontend doesn't currently support widgets.\n",
       "</p>\n"
      ],
      "text/plain": [
       "HBox(children=(IntProgress(value=1, bar_style='info', description='train 4', max=1), HTML(value='')))"
      ]
     },
     "metadata": {},
     "output_type": "display_data"
    },
    {
     "name": "stdout",
     "output_type": "stream",
     "text": [
      "\r",
      "train 4: time=0:10:16.556071, step=14160, loss=4.57726 (3.61937 + 0.957888), precision=0.782001, recall=0.930768, F=0.849924\n"
     ]
    },
    {
     "data": {
      "application/vnd.jupyter.widget-view+json": {
       "model_id": "1bd5ba875a0b43e6b1b92d530216bde1",
       "version_major": 2,
       "version_minor": 0
      },
      "text/html": [
       "<p>Failed to display Jupyter Widget of type <code>HBox</code>.</p>\n",
       "<p>\n",
       "  If you're reading this message in the Jupyter Notebook or JupyterLab Notebook, it may mean\n",
       "  that the widgets JavaScript is still loading. If this message persists, it\n",
       "  likely means that the widgets JavaScript library is either not installed or\n",
       "  not enabled. See the <a href=\"https://ipywidgets.readthedocs.io/en/stable/user_install.html\">Jupyter\n",
       "  Widgets Documentation</a> for setup instructions.\n",
       "</p>\n",
       "<p>\n",
       "  If you're reading this message in another frontend (for example, a static\n",
       "  rendering on GitHub or <a href=\"https://nbviewer.jupyter.org/\">NBViewer</a>),\n",
       "  it may mean that your frontend doesn't currently support widgets.\n",
       "</p>\n"
      ],
      "text/plain": [
       "HBox(children=(IntProgress(value=1, bar_style='info', description='dev 4', max=1), HTML(value='')))"
      ]
     },
     "metadata": {},
     "output_type": "display_data"
    },
    {
     "name": "stdout",
     "output_type": "stream",
     "text": [
      "\r",
      "dev 4: time=0:00:07.950656, step=14160, loss=8.40686 (6.03003 + 2.37683), precision=0.727684, recall=0.869696, F=0.792378\n"
     ]
    }
   ],
   "source": [
    "with open('../logs/simplewiki/mediawiki_er_softmax_2.log', 'at') as f:\n",
    "    for i in range(5):\n",
    "        model.process(\n",
    "            train_set,\n",
    "            header = 'train %d' % i,\n",
    "            train = True,\n",
    "            log_file = f)\n",
    "        model.process(\n",
    "            dev_set, \n",
    "            header = 'dev %d' % i,\n",
    "            train = False,\n",
    "            log_file = f)"
   ]
  },
  {
   "cell_type": "code",
   "execution_count": 255,
   "metadata": {},
   "outputs": [
    {
     "name": "stdout",
     "output_type": "stream",
     "text": [
      "INFO:tensorflow:No assets to save.\n",
      "INFO:tensorflow:No assets to write.\n",
      "INFO:tensorflow:No assets to save.\n",
      "INFO:tensorflow:No assets to write.\n",
      "INFO:tensorflow:SavedModel written to: b'../models/simplewiki/er_softmax_2/saved_model.pb'\n"
     ]
    },
    {
     "data": {
      "text/plain": [
       "b'../models/simplewiki/er_softmax_2/saved_model.pb'"
      ]
     },
     "execution_count": 255,
     "metadata": {},
     "output_type": "execute_result"
    }
   ],
   "source": [
    "shutil.rmtree('../models/simplewiki/er_softmax_2', ignore_errors = True)\n",
    "builder = tf.saved_model.builder.SavedModelBuilder('../models/simplewiki/er_softmax_2')\n",
    "builder.add_meta_graph_and_variables(sess, [tf.saved_model.tag_constants.TRAINING])\n",
    "builder.add_meta_graph([tf.saved_model.tag_constants.SERVING])\n",
    "builder.save()"
   ]
  },
  {
   "cell_type": "markdown",
   "metadata": {},
   "source": [
    "# Weight Analysis"
   ]
  },
  {
   "cell_type": "code",
   "execution_count": 254,
   "metadata": {},
   "outputs": [
    {
     "name": "stdout",
     "output_type": "stream",
     "text": [
      "                 0    1    2    3    4    5    6    7    8    9   10   11   12   13   14   15   16   17   18   19 \n",
      " 0        for 1.00 0.00 0.00 0.00 0.00 0.00 0.00 0.00 0.00 0.00 0.00 0.00 0.00 0.00 0.00 0.00 0.00 0.00 0.00 0.00 \n",
      " 1   elevated 1.00 0.00 0.00 0.00 0.00 0.00 0.00 0.00 0.00 0.00 0.00 0.00 0.00 0.00 0.00 0.00 0.00 0.00 0.00 0.00 \n",
      " 2 temperatur 0.00 1.00 0.00 0.00 0.00 0.00 0.00 0.00 0.00 0.00 0.00 0.00 0.00 0.00 0.00 0.00 0.00 0.00 0.00 0.00 \n",
      " 3          . 0.13 0.41 0.46 0.00 0.00 0.00 0.00 0.00 0.00 0.00 0.00 0.00 0.00 0.00 0.00 0.00 0.00 0.00 0.00 0.00 \n",
      " 4         in 0.69 0.00 0.00 0.31 0.00 0.00 0.00 0.00 0.00 0.00 0.00 0.00 0.00 0.00 0.00 0.00 0.00 0.00 0.00 0.00 \n",
      " 5        the 0.05 0.11 0.14 0.68 0.02 0.00 0.00 0.00 0.00 0.00 0.00 0.00 0.00 0.00 0.00 0.00 0.00 0.00 0.00 0.00 \n",
      " 6       1961 0.32 0.00 0.00 0.20 0.28 0.19 0.00 0.00 0.00 0.00 0.00 0.00 0.00 0.00 0.00 0.00 0.00 0.00 0.00 0.00 \n",
      " 7     disney 0.97 0.00 0.00 0.00 0.03 0.00 0.00 0.00 0.00 0.00 0.00 0.00 0.00 0.00 0.00 0.00 0.00 0.00 0.00 0.00 \n",
      " 8   animated 0.00 0.00 0.00 0.00 0.00 0.00 0.00 1.00 0.00 0.00 0.00 0.00 0.00 0.00 0.00 0.00 0.00 0.00 0.00 0.00 \n",
      " 9      movie 0.00 0.00 0.00 0.00 0.00 0.00 0.00 0.30 0.70 0.00 0.00 0.00 0.00 0.00 0.00 0.00 0.00 0.00 0.00 0.00 \n",
      "10        her 0.10 0.00 0.00 0.01 0.15 0.02 0.00 0.61 0.07 0.04 0.00 0.00 0.00 0.00 0.00 0.00 0.00 0.00 0.00 0.00 \n",
      "11      voice 0.00 0.00 0.00 0.00 0.00 0.00 0.00 0.01 0.01 0.98 0.00 0.00 0.00 0.00 0.00 0.00 0.00 0.00 0.00 0.00 \n",
      "12        was 0.03 0.00 0.00 0.00 0.13 0.00 0.00 0.05 0.03 0.01 0.67 0.08 0.00 0.00 0.00 0.00 0.00 0.00 0.00 0.00 \n",
      "13     played 0.00 0.00 0.00 0.00 0.00 0.00 0.00 0.00 0.00 0.00 0.00 0.99 0.00 0.00 0.00 0.00 0.00 0.00 0.00 0.00 \n",
      "14         by 0.01 0.00 0.00 0.00 0.01 0.00 0.00 0.33 0.12 0.06 0.18 0.03 0.24 0.02 0.00 0.00 0.00 0.00 0.00 0.00 \n",
      "15      betty 0.00 0.00 0.00 0.00 0.00 0.00 0.00 0.90 0.08 0.02 0.00 0.00 0.00 0.00 0.00 0.00 0.00 0.00 0.00 0.00 \n",
      "16        lou 0.00 0.00 0.89 0.01 0.00 0.08 0.00 0.00 0.00 0.00 0.01 0.00 0.00 0.00 0.00 0.00 0.00 0.00 0.00 0.00 \n",
      "17      <UNK> 0.00 0.00 0.00 0.00 0.00 0.00 0.00 0.00 0.00 0.00 0.00 0.00 0.00 0.00 0.00 0.00 1.00 0.00 0.00 0.00 \n",
      "18          . 0.01 0.00 0.00 0.00 0.01 0.01 0.00 0.04 0.01 0.00 0.23 0.00 0.01 0.00 0.13 0.11 0.32 0.11 0.00 0.00 \n",
      "19        the 0.01 0.00 0.00 0.00 0.01 0.02 0.00 0.03 0.01 0.00 0.31 0.00 0.05 0.00 0.20 0.06 0.02 0.01 0.27 0.00 \n"
     ]
    }
   ],
   "source": [
    "sess.run(model._dataset_iterator.initializer, feed_dict = {\n",
    "    model._dataset_filenames: train_set[:1],\n",
    "    model._training: False})\n",
    "weights = tf.get_default_graph().get_tensor_by_name('model/encoder/layer_f_2/attention/weights:0')\n",
    "c, w = sess.run([model._context, weights], feed_dict = { model._training: False })\n",
    "ex = 110\n",
    "print('%2s %10s ' % ('', ''), end = '')\n",
    "for j in range(20):\n",
    "    print('%4d ' % j, end = '')\n",
    "print()\n",
    "for i in range(20):\n",
    "    print('%2d %10.10s ' % (i, id_to_word[c[ex, i]]), end = '')\n",
    "    for j in range(20):\n",
    "        print('%0.02f ' % w[ex, i, j], end = '')\n",
    "    print()"
   ]
  },
  {
   "cell_type": "markdown",
   "metadata": {},
   "source": [
    "# Error Analysis"
   ]
  },
  {
   "cell_type": "code",
   "execution_count": 53,
   "metadata": {},
   "outputs": [],
   "source": [
    "with open('../data/simplewiki/simplewiki-20171103.er_softmax_2.vocab.txt', 'rt') as f:\n",
    "    id_to_word = [w.strip() for w in f]"
   ]
  },
  {
   "cell_type": "code",
   "execution_count": 54,
   "metadata": {},
   "outputs": [],
   "source": [
    "with open('../data/simplewiki/simplewiki-20171103.er_softmax_2.targets.txt', 'rt') as f:\n",
    "    id_to_target = [t.strip() for t in f]"
   ]
  },
  {
   "cell_type": "code",
   "execution_count": 55,
   "metadata": {},
   "outputs": [],
   "source": [
    "def compute_examples(filenames, limit = None):\n",
    "    # initialize dataset iterator\n",
    "    sess.run(model._dataset_iterator.initializer, feed_dict = {\n",
    "        model._dataset_filenames: filenames,\n",
    "        model._dataset_limit: limit,\n",
    "        model._training: False })\n",
    "    \n",
    "    examples = []\n",
    "    \n",
    "    while True:\n",
    "        # encoder output\n",
    "        try:\n",
    "            context, targets, encoder_output = sess.run(\n",
    "                [model._context, model._targets, model._encoder_output],\n",
    "                feed_dict = { model._training: False })\n",
    "        except tf.errors.OutOfRangeError:\n",
    "            break\n",
    "\n",
    "        # decode\n",
    "        output_links = np.zeros(targets.shape, dtype = np.int64)\n",
    "        output_link_probs = np.zeros(targets.shape)\n",
    "        output_classes = np.zeros(targets.shape, dtype = np.int64)\n",
    "        output_class_probs = np.zeros(targets.shape + (model._hp.num_target_classes,))\n",
    "        decode_targets = -np.ones(targets.shape, dtype = np.int64)\n",
    "        for i in range(model._hp.context_size):\n",
    "            ols, olps, ocs, ocps = sess.run(\n",
    "                [model._output_links,\n",
    "                 model._output_link_probs,\n",
    "                 model._output_classes,\n",
    "                 model._output_class_probs],\n",
    "                feed_dict = {\n",
    "                    model._context: context,\n",
    "                    model._targets: decode_targets,\n",
    "                    model._encoder_output: encoder_output,\n",
    "                    model._training: False })\n",
    "            output_links[:, i] = ols[:, i]\n",
    "            output_link_probs[:, i] = olps[:, i]\n",
    "            output_classes[:, i] = ocs[:, i]\n",
    "            output_class_probs[:, i, :] = ocps[:, i, :]\n",
    "            for j in range(targets.shape[0]):\n",
    "                if ols[j, i]:\n",
    "                    decode_targets[j, i] = ocs[j, i]\n",
    "\n",
    "        # loop through examples\n",
    "        for cs, ts, ols, olps, ocs, ocps in zip(context, targets, output_links, output_link_probs, output_classes, output_class_probs):\n",
    "            # stop if limit reached\n",
    "            if limit and len(examples) >= limit:\n",
    "                return examples\n",
    "            \n",
    "            # decode context\n",
    "            decoded_context = [id_to_word[wid] for wid in cs]\n",
    "            decoded_targets = [id_to_target[tid] if tid >= 0 else None for tid in ts]\n",
    "            decoded_output_classes = [id_to_target[ocs[i]] if ols[i] else None for i in range(len(ols))]\n",
    "            decoded_class_probs = [ocps[i, ocs[i]] if ols[i] else 0.0 for i in range(len(ols))]\n",
    "\n",
    "            # decode example\n",
    "            examples.append([\n",
    "                decoded_context,\n",
    "                decoded_targets,\n",
    "                decoded_output_classes,\n",
    "                olps,\n",
    "                decoded_class_probs])\n",
    "    \n",
    "    return examples"
   ]
  },
  {
   "cell_type": "code",
   "execution_count": 124,
   "metadata": {},
   "outputs": [],
   "source": [
    "examples = compute_examples(dev_set[:1], limit = 500)"
   ]
  },
  {
   "cell_type": "code",
   "execution_count": 19,
   "metadata": {},
   "outputs": [],
   "source": [
    "def print_example(e):\n",
    "    context, targets, outputs, link_probs, class_probs = e\n",
    "    for word, target, output, link_prob, class_prob in zip(context, targets, outputs, link_probs, class_probs):\n",
    "        class_prob = ' %0.3f' % class_prob if class_prob else ''\n",
    "        print('%20.20s %20.20s %20.20s  %0.3f %s' % (word, target, output, link_prob, class_prob))"
   ]
  },
  {
   "cell_type": "code",
   "execution_count": 241,
   "metadata": {
    "scrolled": false
   },
   "outputs": [
    {
     "name": "stdout",
     "output_type": "stream",
     "text": [
      "               <OOB>                 None                 None  0.000 \n",
      "               <OOB>                 None                 None  0.000 \n",
      "               <OOB>                 None                 None  0.000 \n",
      "               <OOB>                 None                 None  0.000 \n",
      "               <OOB>                 None                 None  0.000 \n",
      "               <OOB>                 None                 None  0.000 \n",
      "               <OOB>                 None                 None  0.000 \n",
      "               <OOB>                 None                 None  0.000 \n",
      "               <OOB>                 None                 None  0.000 \n",
      "               <OOB>                 None                 None  0.000 \n",
      "               <OOB>                 None                 None  0.000 \n",
      "               <OOB>                 None                 None  0.000 \n",
      "               <OOB>                 None                 None  0.000 \n",
      "               <OOB>                 None                 None  0.000 \n",
      "               <OOB>                 None                 None  0.000 \n",
      "               <OOB>                 None                 None  0.000 \n",
      "               <OOB>                 None                 None  0.000 \n",
      "               <OOB>                 None                 None  0.000 \n",
      "               <OOB>                 None                 None  0.000 \n",
      "               <OOB>                 None                 None  0.000 \n",
      "               <OOB>                 None                 None  0.000 \n",
      "               <OOB>                 None                 None  0.000 \n",
      "               <OOB>                 None                 None  0.000 \n",
      "               <OOB>                 None                 None  0.000 \n",
      "               <OOB>                 None                 None  0.000 \n",
      "               <OOB>                 None                 None  0.000 \n",
      "               <OOB>                 None                 None  0.000 \n",
      "               <OOB>                 None                 None  0.000 \n",
      "               <OOB>                 None                 None  0.000 \n",
      "               <OOB>                 None                 None  0.000 \n",
      "               <OOB>                 None                 None  0.000 \n",
      "               <OOB>                 None                 None  0.000 \n",
      "               <OOB>                 None                 None  0.000 \n",
      "               <OOB>                 None                 None  0.000 \n",
      "               <OOB>                 None                 None  0.000 \n",
      "               <OOB>                 None                 None  0.000 \n",
      "               <OOB>                 None                 None  0.000 \n",
      "               <OOB>                 None                 None  0.000 \n",
      "               <OOB>                 None                 None  0.000 \n",
      "               <OOB>                 None                 None  0.000 \n",
      "               <OOB>                 None                 None  0.000 \n",
      "               <OOB>                 None                 None  0.000 \n",
      "               <OOB>                 None                 None  0.000 \n",
      "               <OOB>                 None                 None  0.000 \n",
      "               <OOB>                 None                 None  0.000 \n",
      "               <OOB>                 None                 None  0.000 \n",
      "              alison                 None                 None  0.000 \n",
      "                  is                 None                 None  0.000 \n",
      "                   a                 None                 None  0.000 \n",
      "              partly                 None                 None  0.000 \n",
      "               rural           RURAL AREA           RURAL AREA  0.735  1.000\n",
      "              suburb               SUBURB               SUBURB  0.775  1.000\n",
      "                  of                 None                 None  0.000 \n",
      "                 the                 None                 None  0.000 \n",
      "             central                 None                 None  0.025 \n",
      "               coast                 None                 None  0.477 \n",
      "              region                 None                 None  0.096 \n",
      "                  of                 None                 None  0.000 \n",
      "                 new      NEW SOUTH WALES      NEW SOUTH WALES  0.988  1.000\n",
      "               south      NEW SOUTH WALES      NEW SOUTH WALES  1.000  1.000\n",
      "               wales      NEW SOUTH WALES      NEW SOUTH WALES  1.000  1.000\n",
      "                   ,                 None                 None  0.020 \n",
      "           australia            AUSTRALIA            AUSTRALIA  0.992  1.000\n",
      "                   .                 None                 None  0.000 \n",
      "                  it                 None                 None  0.000 \n",
      "                  on                 None                 None  0.000 \n",
      "                 the                 None                 None  0.000 \n",
      "               north                 None                 None  0.040 \n",
      "                bank                 None                 None  0.025 \n",
      "                  of                 None                 None  0.000 \n",
      "                 the                 None                 None  0.000 \n",
      "               <UNK>                 None                 None  0.002 \n",
      "               river                 None                 None  0.041 \n",
      "                   .                 None                 None  0.000 \n",
      "                  it                 None                 None  0.000 \n",
      "                  is                 None                 None  0.000 \n",
      "               named                 None                 None  0.000 \n",
      "                 for                 None                 None  0.000 \n",
      "                 the                 None                 None  0.000 \n",
      "              alison                 None                 None  0.000 \n",
      "           homestead                 None                 None  0.008 \n"
     ]
    }
   ],
   "source": [
    "print_example(examples[282])"
   ]
  },
  {
   "cell_type": "code",
   "execution_count": null,
   "metadata": {},
   "outputs": [],
   "source": []
  }
 ],
 "metadata": {
  "kernelspec": {
   "display_name": "Python 3",
   "language": "python",
   "name": "python3"
  },
  "language_info": {
   "codemirror_mode": {
    "name": "ipython",
    "version": 3
   },
   "file_extension": ".py",
   "mimetype": "text/x-python",
   "name": "python",
   "nbconvert_exporter": "python",
   "pygments_lexer": "ipython3",
   "version": "3.5.4"
  },
  "widgets": {
   "application/vnd.jupyter.widget-state+json": {
    "state": {
     "000565a3ca2b4d659d10d2bb7765a045": {
      "model_module": "@jupyter-widgets/controls",
      "model_module_version": "1.0.0",
      "model_name": "IntProgressModel",
      "state": {
       "bar_style": "info",
       "description": "results",
       "layout": "IPY_MODEL_05c67aa9ccfe4879af8807fae9afceb3",
       "max": 1,
       "style": "IPY_MODEL_341084f7732d4553b0545ff1f1e64e32",
       "value": 1
      }
     },
     "0067751e60c84dfebd31b760c6be9e39": {
      "model_module": "@jupyter-widgets/controls",
      "model_module_version": "1.0.0",
      "model_name": "IntProgressModel",
      "state": {
       "bar_style": "info",
       "description": "dev 1",
       "layout": "IPY_MODEL_2af973be1b034f5fa57c6382659d052c",
       "max": 1,
       "style": "IPY_MODEL_60a09f3a18ec4511b88f971bfba2dd8d",
       "value": 1
      }
     },
     "00cc688be02d4ca382166f0bf5eaf025": {
      "model_module": "@jupyter-widgets/controls",
      "model_module_version": "1.0.0",
      "model_name": "DescriptionStyleModel",
      "state": {
       "description_width": ""
      }
     },
     "00dd37024f724241a9fb62b1e2cea7c0": {
      "model_module": "@jupyter-widgets/controls",
      "model_module_version": "1.0.0",
      "model_name": "IntProgressModel",
      "state": {
       "bar_style": "info",
       "description": "dev 4",
       "layout": "IPY_MODEL_f59320aa3abb437395056abd35aed8e0",
       "max": 1,
       "style": "IPY_MODEL_a7bc813103314e9a848e043c136a39d0",
       "value": 1
      }
     },
     "0108803e50ec479b9e28177e75c398aa": {
      "model_module": "@jupyter-widgets/base",
      "model_module_version": "1.0.0",
      "model_name": "LayoutModel",
      "state": {}
     },
     "01d20fef95484f5d8d47f516c71e5f2b": {
      "model_module": "@jupyter-widgets/controls",
      "model_module_version": "1.0.0",
      "model_name": "DescriptionStyleModel",
      "state": {
       "description_width": ""
      }
     },
     "0210d59622654213ac6b3928acd1f778": {
      "model_module": "@jupyter-widgets/base",
      "model_module_version": "1.0.0",
      "model_name": "LayoutModel",
      "state": {}
     },
     "024c2573b9c04c64841752ed6def8e74": {
      "model_module": "@jupyter-widgets/base",
      "model_module_version": "1.0.0",
      "model_name": "LayoutModel",
      "state": {}
     },
     "02e897deb2374c89a344e60359ee41f1": {
      "model_module": "@jupyter-widgets/base",
      "model_module_version": "1.0.0",
      "model_name": "LayoutModel",
      "state": {}
     },
     "02ecd60e59864c8cb65a8d3c26f153a4": {
      "model_module": "@jupyter-widgets/base",
      "model_module_version": "1.0.0",
      "model_name": "LayoutModel",
      "state": {}
     },
     "031c6ff047704cd7a143e7be5bcda5ac": {
      "model_module": "@jupyter-widgets/controls",
      "model_module_version": "1.0.0",
      "model_name": "ProgressStyleModel",
      "state": {
       "description_width": ""
      }
     },
     "0407176239fe4685acce1f107015398a": {
      "model_module": "@jupyter-widgets/controls",
      "model_module_version": "1.0.0",
      "model_name": "HTMLModel",
      "state": {
       "layout": "IPY_MODEL_afd0baae4086498ab6de8953fd5cc8e7",
       "style": "IPY_MODEL_9f3f9707173d4b05be00f113c0abb202",
       "value": "100it [00:00, 744.85it/s]"
      }
     },
     "049f1b1fa8f24a5bbf76b137262906bf": {
      "model_module": "@jupyter-widgets/controls",
      "model_module_version": "1.0.0",
      "model_name": "IntProgressModel",
      "state": {
       "bar_style": "info",
       "description": "results",
       "layout": "IPY_MODEL_7c973043a7a243f4ae8678a51ab9e22a",
       "max": 1,
       "style": "IPY_MODEL_8e2ac8dd622c4ea58aefad58e0bb41b7",
       "value": 1
      }
     },
     "059e325867574467a5ab1ee8225e971d": {
      "model_module": "@jupyter-widgets/base",
      "model_module_version": "1.0.0",
      "model_name": "LayoutModel",
      "state": {}
     },
     "05c67aa9ccfe4879af8807fae9afceb3": {
      "model_module": "@jupyter-widgets/base",
      "model_module_version": "1.0.0",
      "model_name": "LayoutModel",
      "state": {}
     },
     "05ce751dee25472fafd0ff1cf668509d": {
      "model_module": "@jupyter-widgets/controls",
      "model_module_version": "1.0.0",
      "model_name": "IntProgressModel",
      "state": {
       "bar_style": "info",
       "description": "results",
       "layout": "IPY_MODEL_480a22ac07674846bef07a6cb14bd236",
       "max": 1,
       "style": "IPY_MODEL_a15a9a4ffa644e219e4c39d13b89fdfc",
       "value": 1
      }
     },
     "0641f9c2a9934347b68220f9c64e7c81": {
      "model_module": "@jupyter-widgets/base",
      "model_module_version": "1.0.0",
      "model_name": "LayoutModel",
      "state": {}
     },
     "06669f7205ba42ad99e1e970c659ce3d": {
      "model_module": "@jupyter-widgets/controls",
      "model_module_version": "1.0.0",
      "model_name": "HTMLModel",
      "state": {
       "layout": "IPY_MODEL_ffec1fe1763f4c418f8220cc7cb7ef48",
       "style": "IPY_MODEL_00cc688be02d4ca382166f0bf5eaf025",
       "value": "100it [00:00, 731.89it/s]"
      }
     },
     "06ce34e5db9e46de857b4e83b9730dfd": {
      "model_module": "@jupyter-widgets/controls",
      "model_module_version": "1.0.0",
      "model_name": "DescriptionStyleModel",
      "state": {
       "description_width": ""
      }
     },
     "06dadbd3d86f481c8d13be7f097ab996": {
      "model_module": "@jupyter-widgets/base",
      "model_module_version": "1.0.0",
      "model_name": "LayoutModel",
      "state": {}
     },
     "07b9c75922dd48cfbf81d9956193613c": {
      "model_module": "@jupyter-widgets/controls",
      "model_module_version": "1.0.0",
      "model_name": "ProgressStyleModel",
      "state": {
       "description_width": ""
      }
     },
     "083400c3b53744baaf1ad7b05c7d85fc": {
      "model_module": "@jupyter-widgets/controls",
      "model_module_version": "1.0.0",
      "model_name": "ProgressStyleModel",
      "state": {
       "description_width": ""
      }
     },
     "083800416acb47ebac1002e66e513017": {
      "model_module": "@jupyter-widgets/controls",
      "model_module_version": "1.0.0",
      "model_name": "IntProgressModel",
      "state": {
       "bar_style": "info",
       "description": "results",
       "layout": "IPY_MODEL_801f305495c34610a343e305ace8a354",
       "max": 1,
       "style": "IPY_MODEL_cc714bfc39094acb8c4d94bb5dd11fee",
       "value": 1
      }
     },
     "08510270d865472f9636cdd97521f137": {
      "model_module": "@jupyter-widgets/base",
      "model_module_version": "1.0.0",
      "model_name": "LayoutModel",
      "state": {}
     },
     "087002e0815a417fa066f75d4f18af61": {
      "model_module": "@jupyter-widgets/controls",
      "model_module_version": "1.0.0",
      "model_name": "IntProgressModel",
      "state": {
       "bar_style": "info",
       "description": "results",
       "layout": "IPY_MODEL_175d85d6f88f4d15a944308822429561",
       "max": 1,
       "style": "IPY_MODEL_b519e69e44264dc8a24b320ab9fd194b",
       "value": 1
      }
     },
     "087dca6357994f73a94c53dcfeba3e8c": {
      "model_module": "@jupyter-widgets/controls",
      "model_module_version": "1.0.0",
      "model_name": "HTMLModel",
      "state": {
       "layout": "IPY_MODEL_520a1fc94bb14aa3aa2c93030b3a400a",
       "style": "IPY_MODEL_0cf29c0b153846d0a836dd41df34cdb2",
       "value": "724833it [10:26, 1170.40it/s]"
      }
     },
     "08c6c232841e453b80d38eb64d49c125": {
      "model_module": "@jupyter-widgets/controls",
      "model_module_version": "1.0.0",
      "model_name": "HTMLModel",
      "state": {
       "layout": "IPY_MODEL_65b9cfc06d3c4714819ac58f22fea60c",
       "style": "IPY_MODEL_c1084d3b7c7349e88ae6691f97a2cb50",
       "value": "100it [00:00, 754.98it/s]"
      }
     },
     "0a1e10719f504ed4968e7ddb5e2e5812": {
      "model_module": "@jupyter-widgets/controls",
      "model_module_version": "1.0.0",
      "model_name": "ProgressStyleModel",
      "state": {
       "description_width": ""
      }
     },
     "0aecfb0c55a145cfb207d592193d2d94": {
      "model_module": "@jupyter-widgets/base",
      "model_module_version": "1.0.0",
      "model_name": "LayoutModel",
      "state": {}
     },
     "0b9dd0f5cc534654b7d526430f6e5118": {
      "model_module": "@jupyter-widgets/base",
      "model_module_version": "1.0.0",
      "model_name": "LayoutModel",
      "state": {}
     },
     "0ca94bf3e7144ae880cd8e445dbbc0ef": {
      "model_module": "@jupyter-widgets/controls",
      "model_module_version": "1.0.0",
      "model_name": "DescriptionStyleModel",
      "state": {
       "description_width": ""
      }
     },
     "0cf29c0b153846d0a836dd41df34cdb2": {
      "model_module": "@jupyter-widgets/controls",
      "model_module_version": "1.0.0",
      "model_name": "DescriptionStyleModel",
      "state": {
       "description_width": ""
      }
     },
     "0d7fd561cf314fbaa542533c936bd389": {
      "model_module": "@jupyter-widgets/controls",
      "model_module_version": "1.0.0",
      "model_name": "DescriptionStyleModel",
      "state": {
       "description_width": ""
      }
     },
     "0da57d79246f408aa9ca72238b1cddb1": {
      "model_module": "@jupyter-widgets/controls",
      "model_module_version": "1.0.0",
      "model_name": "DescriptionStyleModel",
      "state": {
       "description_width": ""
      }
     },
     "0df3232b954640b689034799340ae192": {
      "model_module": "@jupyter-widgets/controls",
      "model_module_version": "1.0.0",
      "model_name": "DescriptionStyleModel",
      "state": {
       "description_width": ""
      }
     },
     "0dfcd047755b4ec88eeedc939fa3aa08": {
      "model_module": "@jupyter-widgets/controls",
      "model_module_version": "1.0.0",
      "model_name": "ProgressStyleModel",
      "state": {
       "description_width": ""
      }
     },
     "0e6269523f944c20ba9771b394bb1648": {
      "model_module": "@jupyter-widgets/base",
      "model_module_version": "1.0.0",
      "model_name": "LayoutModel",
      "state": {}
     },
     "0ea427cd8cdc4e18a75de92445b15f16": {
      "model_module": "@jupyter-widgets/base",
      "model_module_version": "1.0.0",
      "model_name": "LayoutModel",
      "state": {}
     },
     "0f3964802483479b98ab62f279da613a": {
      "model_module": "@jupyter-widgets/base",
      "model_module_version": "1.0.0",
      "model_name": "LayoutModel",
      "state": {}
     },
     "0f5c6ce2dc1c46b68ce738eb4c596754": {
      "model_module": "@jupyter-widgets/controls",
      "model_module_version": "1.0.0",
      "model_name": "IntProgressModel",
      "state": {
       "bar_style": "info",
       "description": "dev 0",
       "layout": "IPY_MODEL_2463b6ca4e49402894a853670e85fed9",
       "max": 1,
       "style": "IPY_MODEL_a312b922134a43a5a2a34ab6eafe9190",
       "value": 1
      }
     },
     "0ff7c09b96944f64b52b0da0bde811b4": {
      "model_module": "@jupyter-widgets/base",
      "model_module_version": "1.0.0",
      "model_name": "LayoutModel",
      "state": {}
     },
     "106114666a564730a1cfb80615ad727d": {
      "model_module": "@jupyter-widgets/base",
      "model_module_version": "1.0.0",
      "model_name": "LayoutModel",
      "state": {}
     },
     "10f19a9766fc4d56a0f2d3d830cb0cd1": {
      "model_module": "@jupyter-widgets/controls",
      "model_module_version": "1.0.0",
      "model_name": "HTMLModel",
      "state": {
       "layout": "IPY_MODEL_8b7dae70aec84bff93487ca50818e107",
       "style": "IPY_MODEL_1ddefb368c4344fa9fca0fd67f704bd4",
       "value": "724833it [10:46, 1089.77it/s]"
      }
     },
     "11013defe82e42c68d5756e478b7dd87": {
      "model_module": "@jupyter-widgets/base",
      "model_module_version": "1.0.0",
      "model_name": "LayoutModel",
      "state": {}
     },
     "126e4128f72549abaa45040121917ad6": {
      "model_module": "@jupyter-widgets/base",
      "model_module_version": "1.0.0",
      "model_name": "LayoutModel",
      "state": {}
     },
     "1273b8130cf443a09075544d8591c881": {
      "model_module": "@jupyter-widgets/controls",
      "model_module_version": "1.0.0",
      "model_name": "ProgressStyleModel",
      "state": {
       "description_width": ""
      }
     },
     "1336f08f7ba74d9294cc87c36b409c2f": {
      "model_module": "@jupyter-widgets/base",
      "model_module_version": "1.0.0",
      "model_name": "LayoutModel",
      "state": {}
     },
     "136f312383a54b5d9dd187cf167a6d12": {
      "model_module": "@jupyter-widgets/controls",
      "model_module_version": "1.0.0",
      "model_name": "IntProgressModel",
      "state": {
       "bar_style": "info",
       "description": "dev 3",
       "layout": "IPY_MODEL_93d083a2bf414b6987aa571148c7a2d3",
       "max": 1,
       "style": "IPY_MODEL_b49c3c701ca44a0b8e872ae094152383",
       "value": 1
      }
     },
     "1409aa95a5ca4d5288c3d3769d1ddb06": {
      "model_module": "@jupyter-widgets/base",
      "model_module_version": "1.0.0",
      "model_name": "LayoutModel",
      "state": {}
     },
     "144cbdab9d8f4545b8dbcf25bfcbe284": {
      "model_module": "@jupyter-widgets/base",
      "model_module_version": "1.0.0",
      "model_name": "LayoutModel",
      "state": {}
     },
     "14c02ba958614e72957efb88fe3a52c9": {
      "model_module": "@jupyter-widgets/controls",
      "model_module_version": "1.0.0",
      "model_name": "HTMLModel",
      "state": {
       "layout": "IPY_MODEL_74c56f110fe74acdb9419f6de1750c22",
       "style": "IPY_MODEL_2e8ebe8820044270971ba1fcf7a7e3d4",
       "value": "100it [00:00, 722.87it/s]"
      }
     },
     "15018528befd4077816f36f4a5b6ef9d": {
      "model_module": "@jupyter-widgets/controls",
      "model_module_version": "1.0.0",
      "model_name": "HTMLModel",
      "state": {
       "layout": "IPY_MODEL_f7b876635ca947bcb09d62bce6cc93d4",
       "style": "IPY_MODEL_1f4231a6f7634474b5a12f8b4cf39d4e",
       "value": "100it [00:00, 740.07it/s]"
      }
     },
     "153e294a8141496bb08c2af096a580fb": {
      "model_module": "@jupyter-widgets/controls",
      "model_module_version": "1.0.0",
      "model_name": "ProgressStyleModel",
      "state": {
       "description_width": ""
      }
     },
     "15cc542bf8554769abe5deb8129e6ed6": {
      "model_module": "@jupyter-widgets/base",
      "model_module_version": "1.0.0",
      "model_name": "LayoutModel",
      "state": {}
     },
     "1662bfe4fc2241688c13276e10c957a2": {
      "model_module": "@jupyter-widgets/controls",
      "model_module_version": "1.0.0",
      "model_name": "IntProgressModel",
      "state": {
       "bar_style": "info",
       "description": "results",
       "layout": "IPY_MODEL_8d0a8c5cc3e041edbe96eb34086cefbe",
       "max": 1,
       "style": "IPY_MODEL_5a52199c9a9448c1b0d016fd3ffe8052",
       "value": 1
      }
     },
     "167a52d109564fe2a1b2d4367f079142": {
      "model_module": "@jupyter-widgets/base",
      "model_module_version": "1.0.0",
      "model_name": "LayoutModel",
      "state": {}
     },
     "16c55c526b0c4d2f8904c3b1d6f20721": {
      "model_module": "@jupyter-widgets/base",
      "model_module_version": "1.0.0",
      "model_name": "LayoutModel",
      "state": {}
     },
     "1700907fd8af46e9bf8763a7f72df4dd": {
      "model_module": "@jupyter-widgets/base",
      "model_module_version": "1.0.0",
      "model_name": "LayoutModel",
      "state": {}
     },
     "17291f30f6f1423c837855bf05e10d02": {
      "model_module": "@jupyter-widgets/controls",
      "model_module_version": "1.0.0",
      "model_name": "ProgressStyleModel",
      "state": {
       "description_width": ""
      }
     },
     "17550e2fb6d34db6a4e465d22913ea45": {
      "model_module": "@jupyter-widgets/base",
      "model_module_version": "1.0.0",
      "model_name": "LayoutModel",
      "state": {}
     },
     "175d85d6f88f4d15a944308822429561": {
      "model_module": "@jupyter-widgets/base",
      "model_module_version": "1.0.0",
      "model_name": "LayoutModel",
      "state": {}
     },
     "179091224e14470ead66b29da2a8fd4c": {
      "model_module": "@jupyter-widgets/controls",
      "model_module_version": "1.0.0",
      "model_name": "IntProgressModel",
      "state": {
       "bar_style": "info",
       "description": "results",
       "layout": "IPY_MODEL_300ae0584e414067b343d4d50f9d0c01",
       "max": 1,
       "style": "IPY_MODEL_5e5cb85beb2d42449ec17ff633d93a46",
       "value": 1
      }
     },
     "17a0030811f6461f85d04d3428866e74": {
      "model_module": "@jupyter-widgets/base",
      "model_module_version": "1.0.0",
      "model_name": "LayoutModel",
      "state": {}
     },
     "17bcf92b1b5d4093a2bb0926f5cc157b": {
      "model_module": "@jupyter-widgets/base",
      "model_module_version": "1.0.0",
      "model_name": "LayoutModel",
      "state": {}
     },
     "17f67c527f684c19b09070db4ad2581a": {
      "model_module": "@jupyter-widgets/controls",
      "model_module_version": "1.0.0",
      "model_name": "ProgressStyleModel",
      "state": {
       "description_width": ""
      }
     },
     "195dbb526d6d49c091f2a47ad5b718ef": {
      "model_module": "@jupyter-widgets/controls",
      "model_module_version": "1.0.0",
      "model_name": "ProgressStyleModel",
      "state": {
       "description_width": ""
      }
     },
     "19782a0821bf49cf81b010415b6ed2cc": {
      "model_module": "@jupyter-widgets/controls",
      "model_module_version": "1.0.0",
      "model_name": "HTMLModel",
      "state": {
       "layout": "IPY_MODEL_7e4df93661ff456397a75cfdb796e436",
       "style": "IPY_MODEL_7cf32067a7d0452aa7c495fff8fdc903",
       "value": "21974it [00:07, 2798.82it/s]"
      }
     },
     "19a0f5228d84410a96f1bf312e8c45e7": {
      "model_module": "@jupyter-widgets/base",
      "model_module_version": "1.0.0",
      "model_name": "LayoutModel",
      "state": {}
     },
     "1a22578d5f37493bb1a91da54b1fc46f": {
      "model_module": "@jupyter-widgets/controls",
      "model_module_version": "1.0.0",
      "model_name": "DescriptionStyleModel",
      "state": {
       "description_width": ""
      }
     },
     "1b7fdd574dec496bacb95e4183f4aeaa": {
      "model_module": "@jupyter-widgets/base",
      "model_module_version": "1.0.0",
      "model_name": "LayoutModel",
      "state": {}
     },
     "1bc1199e330f4eae884a41fded8e037a": {
      "model_module": "@jupyter-widgets/base",
      "model_module_version": "1.0.0",
      "model_name": "LayoutModel",
      "state": {}
     },
     "1c1a72dec0ba4904a7654695f4ae19a9": {
      "model_module": "@jupyter-widgets/base",
      "model_module_version": "1.0.0",
      "model_name": "LayoutModel",
      "state": {}
     },
     "1c2447ff4f22401abfd4cb7c4c1d5727": {
      "model_module": "@jupyter-widgets/controls",
      "model_module_version": "1.0.0",
      "model_name": "HTMLModel",
      "state": {
       "layout": "IPY_MODEL_dbe88f4eefb8425b9079da0aeec84d0b",
       "style": "IPY_MODEL_d38cdc5b4c2141c185a6adbbf124e238",
       "value": "724833it [10:16, 1159.80it/s]"
      }
     },
     "1c9ff7314f8b42aca0655b35b060042e": {
      "model_module": "@jupyter-widgets/controls",
      "model_module_version": "1.0.0",
      "model_name": "HTMLModel",
      "state": {
       "layout": "IPY_MODEL_5c9534c91d9449d5aa1e270b9ce7009f",
       "style": "IPY_MODEL_3fdfa0002bdf47ba96f347147b8877c0",
       "value": "724833it [10:16, 1160.05it/s]"
      }
     },
     "1cd1ebe2c53a42dea745d5bbe2b75dcf": {
      "model_module": "@jupyter-widgets/controls",
      "model_module_version": "1.0.0",
      "model_name": "DescriptionStyleModel",
      "state": {
       "description_width": ""
      }
     },
     "1ddefb368c4344fa9fca0fd67f704bd4": {
      "model_module": "@jupyter-widgets/controls",
      "model_module_version": "1.0.0",
      "model_name": "DescriptionStyleModel",
      "state": {
       "description_width": ""
      }
     },
     "1e11c671aed640acae41d90beb9ff9aa": {
      "model_module": "@jupyter-widgets/controls",
      "model_module_version": "1.0.0",
      "model_name": "DescriptionStyleModel",
      "state": {
       "description_width": ""
      }
     },
     "1e5f89ca24c143fba04ff1a87bf3f1bf": {
      "model_module": "@jupyter-widgets/controls",
      "model_module_version": "1.0.0",
      "model_name": "IntProgressModel",
      "state": {
       "bar_style": "info",
       "description": "results",
       "layout": "IPY_MODEL_d76cd09c32db4534b3ef22a9b22873fa",
       "max": 1,
       "style": "IPY_MODEL_717ff2ec7647496585b6b1d60a3c8382",
       "value": 1
      }
     },
     "1f39ac836e004e3c9892d6cb6fa42a2c": {
      "model_module": "@jupyter-widgets/controls",
      "model_module_version": "1.0.0",
      "model_name": "HTMLModel",
      "state": {
       "layout": "IPY_MODEL_7ac23b19b1994961b3749118401a1264",
       "style": "IPY_MODEL_1a22578d5f37493bb1a91da54b1fc46f",
       "value": "100it [00:00, 715.33it/s]"
      }
     },
     "1f4231a6f7634474b5a12f8b4cf39d4e": {
      "model_module": "@jupyter-widgets/controls",
      "model_module_version": "1.0.0",
      "model_name": "DescriptionStyleModel",
      "state": {
       "description_width": ""
      }
     },
     "1f5447948c71407e9c104576d8ecef9f": {
      "model_module": "@jupyter-widgets/base",
      "model_module_version": "1.0.0",
      "model_name": "LayoutModel",
      "state": {}
     },
     "1fe65bad22c04f74959116e7f68e0dee": {
      "model_module": "@jupyter-widgets/controls",
      "model_module_version": "1.0.0",
      "model_name": "ProgressStyleModel",
      "state": {
       "description_width": ""
      }
     },
     "1ff40cd58d334923b4467fc31f3c411e": {
      "model_module": "@jupyter-widgets/base",
      "model_module_version": "1.0.0",
      "model_name": "LayoutModel",
      "state": {}
     },
     "2016f13947204d3790a210f49cafef31": {
      "model_module": "@jupyter-widgets/controls",
      "model_module_version": "1.0.0",
      "model_name": "IntProgressModel",
      "state": {
       "bar_style": "info",
       "description": "dev 1",
       "layout": "IPY_MODEL_6e1e765e80e24b538ae806826705bfa5",
       "max": 1,
       "style": "IPY_MODEL_cb12d95349714b55852f024aac37bace",
       "value": 1
      }
     },
     "2044635aeb6343c1b7fed27fb08a928e": {
      "model_module": "@jupyter-widgets/controls",
      "model_module_version": "1.0.0",
      "model_name": "IntProgressModel",
      "state": {
       "bar_style": "info",
       "description": "results",
       "layout": "IPY_MODEL_1c1a72dec0ba4904a7654695f4ae19a9",
       "max": 1,
       "style": "IPY_MODEL_59b109635e15469b8d00dd54d845325f",
       "value": 1
      }
     },
     "20644e2461194e26b5a0a97372187d82": {
      "model_module": "@jupyter-widgets/controls",
      "model_module_version": "1.0.0",
      "model_name": "IntProgressModel",
      "state": {
       "bar_style": "info",
       "description": "results",
       "layout": "IPY_MODEL_693bcacd03c049eea69b53dac008d76f",
       "max": 1,
       "style": "IPY_MODEL_96df4213877c426b86df1ee0672845d5",
       "value": 1
      }
     },
     "21079ca63be1442e9d7cfbaac6315afc": {
      "model_module": "@jupyter-widgets/controls",
      "model_module_version": "1.0.0",
      "model_name": "DescriptionStyleModel",
      "state": {
       "description_width": ""
      }
     },
     "220b9e90b64b43e793d5c06c6a1bf4e0": {
      "model_module": "@jupyter-widgets/controls",
      "model_module_version": "1.0.0",
      "model_name": "ProgressStyleModel",
      "state": {
       "description_width": ""
      }
     },
     "2293679a82b34e37ad6fe947a2fc9609": {
      "model_module": "@jupyter-widgets/base",
      "model_module_version": "1.0.0",
      "model_name": "LayoutModel",
      "state": {}
     },
     "230921145a2d4a328b39a17073e3f58d": {
      "model_module": "@jupyter-widgets/controls",
      "model_module_version": "1.0.0",
      "model_name": "IntProgressModel",
      "state": {
       "bar_style": "info",
       "description": "results",
       "layout": "IPY_MODEL_1ff40cd58d334923b4467fc31f3c411e",
       "max": 1,
       "style": "IPY_MODEL_3f5995c7ed0c4a56961712cc80f819d6",
       "value": 1
      }
     },
     "234e519cd2044120b9003c37935d2d6f": {
      "model_module": "@jupyter-widgets/base",
      "model_module_version": "1.0.0",
      "model_name": "LayoutModel",
      "state": {}
     },
     "23a6bbccabab460ab536d82ff38b5e4b": {
      "model_module": "@jupyter-widgets/base",
      "model_module_version": "1.0.0",
      "model_name": "LayoutModel",
      "state": {}
     },
     "240099be5a7d4af38f822af23b5cbdbc": {
      "model_module": "@jupyter-widgets/base",
      "model_module_version": "1.0.0",
      "model_name": "LayoutModel",
      "state": {}
     },
     "2463b6ca4e49402894a853670e85fed9": {
      "model_module": "@jupyter-widgets/base",
      "model_module_version": "1.0.0",
      "model_name": "LayoutModel",
      "state": {}
     },
     "24944b7f7b88427c87a6282e394b5c86": {
      "model_module": "@jupyter-widgets/controls",
      "model_module_version": "1.0.0",
      "model_name": "HTMLModel",
      "state": {
       "layout": "IPY_MODEL_e85a56a1e8864c92ac2715f8ab7eb1b8",
       "style": "IPY_MODEL_a70ae684a0764677b75f266b3179ccc3",
       "value": "100it [00:00, 730.53it/s]"
      }
     },
     "24c6d5a97c43430995148384612db7a3": {
      "model_module": "@jupyter-widgets/controls",
      "model_module_version": "1.0.0",
      "model_name": "DescriptionStyleModel",
      "state": {
       "description_width": ""
      }
     },
     "252fffd7d8ca4ce1996408822b02b828": {
      "model_module": "@jupyter-widgets/base",
      "model_module_version": "1.0.0",
      "model_name": "LayoutModel",
      "state": {}
     },
     "25e712079a5046ffb91f79d9ea060253": {
      "model_module": "@jupyter-widgets/base",
      "model_module_version": "1.0.0",
      "model_name": "LayoutModel",
      "state": {}
     },
     "26cb900dfc4f467faff764638afbf738": {
      "model_module": "@jupyter-widgets/controls",
      "model_module_version": "1.0.0",
      "model_name": "IntProgressModel",
      "state": {
       "bar_style": "info",
       "description": "results",
       "layout": "IPY_MODEL_a58807cf62224ea581238e81fe2fe1ef",
       "max": 1,
       "style": "IPY_MODEL_2c8798c4e7ca446ea3b04f503b483e01",
       "value": 1
      }
     },
     "27237ec6e0004175a10789f6ca014927": {
      "model_module": "@jupyter-widgets/controls",
      "model_module_version": "1.0.0",
      "model_name": "IntProgressModel",
      "state": {
       "bar_style": "info",
       "description": "train 1",
       "layout": "IPY_MODEL_2783a479af8a471487e3e98117b0f8c4",
       "max": 1,
       "style": "IPY_MODEL_2fa078c789124155a7eeaeee17a50d14",
       "value": 1
      }
     },
     "27408406c3584ae9aede0fac5dcc241b": {
      "model_module": "@jupyter-widgets/base",
      "model_module_version": "1.0.0",
      "model_name": "LayoutModel",
      "state": {}
     },
     "2763aa393bf542b0b4cda3090d1d6ded": {
      "model_module": "@jupyter-widgets/controls",
      "model_module_version": "1.0.0",
      "model_name": "DescriptionStyleModel",
      "state": {
       "description_width": ""
      }
     },
     "2783a479af8a471487e3e98117b0f8c4": {
      "model_module": "@jupyter-widgets/base",
      "model_module_version": "1.0.0",
      "model_name": "LayoutModel",
      "state": {}
     },
     "278e878e0cfd45e9ad710d3740abbe9c": {
      "model_module": "@jupyter-widgets/base",
      "model_module_version": "1.0.0",
      "model_name": "LayoutModel",
      "state": {}
     },
     "2799aa0609c2401fa66f646c5e4f2664": {
      "model_module": "@jupyter-widgets/controls",
      "model_module_version": "1.0.0",
      "model_name": "ProgressStyleModel",
      "state": {
       "description_width": ""
      }
     },
     "27cc665036f54893b386e64aafddd0b8": {
      "model_module": "@jupyter-widgets/controls",
      "model_module_version": "1.0.0",
      "model_name": "ProgressStyleModel",
      "state": {
       "description_width": ""
      }
     },
     "27ef8513abce4e78804953f88f8fe549": {
      "model_module": "@jupyter-widgets/controls",
      "model_module_version": "1.0.0",
      "model_name": "IntProgressModel",
      "state": {
       "bar_style": "info",
       "description": "results",
       "layout": "IPY_MODEL_54f3ef676c3b4e1490a1951569033121",
       "max": 1,
       "style": "IPY_MODEL_4488fee6289b45dda67999619346e1fe",
       "value": 1
      }
     },
     "2871c732d14d45b78eaf6061fc8b7376": {
      "model_module": "@jupyter-widgets/controls",
      "model_module_version": "1.0.0",
      "model_name": "DescriptionStyleModel",
      "state": {
       "description_width": ""
      }
     },
     "291be32abdc34a67bf88e86def064e54": {
      "model_module": "@jupyter-widgets/controls",
      "model_module_version": "1.0.0",
      "model_name": "IntProgressModel",
      "state": {
       "bar_style": "info",
       "description": "results",
       "layout": "IPY_MODEL_75b92304f0424ded8cbbada5945dfbd1",
       "max": 1,
       "style": "IPY_MODEL_82e7fc93b1994d1a9687105b85d09541",
       "value": 1
      }
     },
     "2966dc6881c14ebc82bf9137ef2714fb": {
      "model_module": "@jupyter-widgets/base",
      "model_module_version": "1.0.0",
      "model_name": "LayoutModel",
      "state": {}
     },
     "2a08df10b6e94e0f9c845fd9a8d92253": {
      "model_module": "@jupyter-widgets/controls",
      "model_module_version": "1.0.0",
      "model_name": "HTMLModel",
      "state": {
       "layout": "IPY_MODEL_d823e3983c254084ba3d55083b0616ca",
       "style": "IPY_MODEL_88f6e35f7e1e45f2a7c4bcb1ff8b82b3",
       "value": "100it [00:00, 736.94it/s]"
      }
     },
     "2a1b213735ff4ef5aa5657cd87ccfcc1": {
      "model_module": "@jupyter-widgets/base",
      "model_module_version": "1.0.0",
      "model_name": "LayoutModel",
      "state": {}
     },
     "2a8363e70efe46248736749080d7ed9b": {
      "model_module": "@jupyter-widgets/base",
      "model_module_version": "1.0.0",
      "model_name": "LayoutModel",
      "state": {}
     },
     "2a868986fdfc48b88729b03e7effb65f": {
      "model_module": "@jupyter-widgets/controls",
      "model_module_version": "1.0.0",
      "model_name": "IntProgressModel",
      "state": {
       "bar_style": "info",
       "description": "results",
       "layout": "IPY_MODEL_126e4128f72549abaa45040121917ad6",
       "max": 1,
       "style": "IPY_MODEL_cdbbe173fe314fe7950fd43cf419a537",
       "value": 1
      }
     },
     "2af973be1b034f5fa57c6382659d052c": {
      "model_module": "@jupyter-widgets/base",
      "model_module_version": "1.0.0",
      "model_name": "LayoutModel",
      "state": {}
     },
     "2b36ec03ca31408ba09d21986f1fabf2": {
      "model_module": "@jupyter-widgets/controls",
      "model_module_version": "1.0.0",
      "model_name": "HTMLModel",
      "state": {
       "layout": "IPY_MODEL_a5cd7de0a9bc46d892aaba885e9cbbef",
       "style": "IPY_MODEL_0da57d79246f408aa9ca72238b1cddb1",
       "value": "100it [00:00, 754.76it/s]"
      }
     },
     "2b8c2ed2ff14475cb8b9680545fe8f87": {
      "model_module": "@jupyter-widgets/controls",
      "model_module_version": "1.0.0",
      "model_name": "IntProgressModel",
      "state": {
       "bar_style": "info",
       "description": "results",
       "layout": "IPY_MODEL_08510270d865472f9636cdd97521f137",
       "max": 1,
       "style": "IPY_MODEL_2e700233424143838f3e06fc83875cf4",
       "value": 1
      }
     },
     "2b8edd7bfeb4481a949233be5988d5f9": {
      "model_module": "@jupyter-widgets/controls",
      "model_module_version": "1.0.0",
      "model_name": "DescriptionStyleModel",
      "state": {
       "description_width": ""
      }
     },
     "2be07aeffbfa420caf246ec4c963c607": {
      "model_module": "@jupyter-widgets/controls",
      "model_module_version": "1.0.0",
      "model_name": "DescriptionStyleModel",
      "state": {
       "description_width": ""
      }
     },
     "2c37b54352c842798e02ae5122b73a4a": {
      "model_module": "@jupyter-widgets/controls",
      "model_module_version": "1.0.0",
      "model_name": "IntProgressModel",
      "state": {
       "bar_style": "info",
       "description": "results",
       "layout": "IPY_MODEL_2966dc6881c14ebc82bf9137ef2714fb",
       "max": 1,
       "style": "IPY_MODEL_220b9e90b64b43e793d5c06c6a1bf4e0",
       "value": 1
      }
     },
     "2c444bc2ca2c482198371b5c247705f6": {
      "model_module": "@jupyter-widgets/controls",
      "model_module_version": "1.0.0",
      "model_name": "HTMLModel",
      "state": {
       "layout": "IPY_MODEL_be8d25a0c5f3497696512b183686f205",
       "style": "IPY_MODEL_c35eca344a7f4d478682dc9c917f6fd5",
       "value": "100it [00:00, 760.60it/s]"
      }
     },
     "2c8798c4e7ca446ea3b04f503b483e01": {
      "model_module": "@jupyter-widgets/controls",
      "model_module_version": "1.0.0",
      "model_name": "ProgressStyleModel",
      "state": {
       "description_width": ""
      }
     },
     "2c9497df15bd435da696f35dbbedb599": {
      "model_module": "@jupyter-widgets/controls",
      "model_module_version": "1.0.0",
      "model_name": "IntProgressModel",
      "state": {
       "bar_style": "info",
       "description": "results",
       "layout": "IPY_MODEL_6b96f64586fd442dbc1b795ea32e6c49",
       "max": 1,
       "style": "IPY_MODEL_d4966d551e6d4ebbbda449df18763caf",
       "value": 1
      }
     },
     "2dcec833583e4f08880163a11524903e": {
      "model_module": "@jupyter-widgets/controls",
      "model_module_version": "1.0.0",
      "model_name": "HTMLModel",
      "state": {
       "layout": "IPY_MODEL_9a3f6ff9a9714c0db26d402cb04d7b32",
       "style": "IPY_MODEL_0ca94bf3e7144ae880cd8e445dbbc0ef",
       "value": "100it [00:00, 704.62it/s]"
      }
     },
     "2de310f49bb54c9fb1b662a0d32b3510": {
      "model_module": "@jupyter-widgets/base",
      "model_module_version": "1.0.0",
      "model_name": "LayoutModel",
      "state": {}
     },
     "2e07e2510a65440c9fd3e271634c5cba": {
      "model_module": "@jupyter-widgets/base",
      "model_module_version": "1.0.0",
      "model_name": "LayoutModel",
      "state": {}
     },
     "2e383a7b8a56495d9cf5ba62d0e2c16a": {
      "model_module": "@jupyter-widgets/base",
      "model_module_version": "1.0.0",
      "model_name": "LayoutModel",
      "state": {}
     },
     "2e5e559bb85143069cfca56f1e665e9f": {
      "model_module": "@jupyter-widgets/base",
      "model_module_version": "1.0.0",
      "model_name": "LayoutModel",
      "state": {}
     },
     "2e700233424143838f3e06fc83875cf4": {
      "model_module": "@jupyter-widgets/controls",
      "model_module_version": "1.0.0",
      "model_name": "ProgressStyleModel",
      "state": {
       "description_width": ""
      }
     },
     "2e8ebe8820044270971ba1fcf7a7e3d4": {
      "model_module": "@jupyter-widgets/controls",
      "model_module_version": "1.0.0",
      "model_name": "DescriptionStyleModel",
      "state": {
       "description_width": ""
      }
     },
     "2eba636083ee4eb0b35e9481188aa608": {
      "model_module": "@jupyter-widgets/base",
      "model_module_version": "1.0.0",
      "model_name": "LayoutModel",
      "state": {}
     },
     "2f5d81a8ec864adcb40ee6e8f5f82233": {
      "model_module": "@jupyter-widgets/base",
      "model_module_version": "1.0.0",
      "model_name": "LayoutModel",
      "state": {}
     },
     "2fa078c789124155a7eeaeee17a50d14": {
      "model_module": "@jupyter-widgets/controls",
      "model_module_version": "1.0.0",
      "model_name": "ProgressStyleModel",
      "state": {
       "description_width": ""
      }
     },
     "2fe7321522d942c88e7ed2753d284918": {
      "model_module": "@jupyter-widgets/controls",
      "model_module_version": "1.0.0",
      "model_name": "ProgressStyleModel",
      "state": {
       "description_width": ""
      }
     },
     "300ae0584e414067b343d4d50f9d0c01": {
      "model_module": "@jupyter-widgets/base",
      "model_module_version": "1.0.0",
      "model_name": "LayoutModel",
      "state": {}
     },
     "302c4009162b44c48e2d7409e0282881": {
      "model_module": "@jupyter-widgets/base",
      "model_module_version": "1.0.0",
      "model_name": "LayoutModel",
      "state": {}
     },
     "3052b3699a5d4811b4260e1550b680e7": {
      "model_module": "@jupyter-widgets/base",
      "model_module_version": "1.0.0",
      "model_name": "LayoutModel",
      "state": {}
     },
     "30b77032fd014f6eb4c991c6ce321af8": {
      "model_module": "@jupyter-widgets/controls",
      "model_module_version": "1.0.0",
      "model_name": "DescriptionStyleModel",
      "state": {
       "description_width": ""
      }
     },
     "30bcba645c014e3783c8c9aa96da5ce2": {
      "model_module": "@jupyter-widgets/base",
      "model_module_version": "1.0.0",
      "model_name": "LayoutModel",
      "state": {}
     },
     "3110cb8089a743318cdecf7cb9be5ffd": {
      "model_module": "@jupyter-widgets/controls",
      "model_module_version": "1.0.0",
      "model_name": "ProgressStyleModel",
      "state": {
       "description_width": ""
      }
     },
     "31f6c8e152054abcb346ceeeb7ac8278": {
      "model_module": "@jupyter-widgets/base",
      "model_module_version": "1.0.0",
      "model_name": "LayoutModel",
      "state": {}
     },
     "326506e86c924091b0e18555e10a6f99": {
      "model_module": "@jupyter-widgets/controls",
      "model_module_version": "1.0.0",
      "model_name": "IntProgressModel",
      "state": {
       "bar_style": "info",
       "description": "train 1",
       "layout": "IPY_MODEL_278e878e0cfd45e9ad710d3740abbe9c",
       "max": 1,
       "style": "IPY_MODEL_195dbb526d6d49c091f2a47ad5b718ef",
       "value": 1
      }
     },
     "32961fec7105445aa87fc4cdce68474e": {
      "model_module": "@jupyter-widgets/controls",
      "model_module_version": "1.0.0",
      "model_name": "HTMLModel",
      "state": {
       "layout": "IPY_MODEL_d10294c8a6e1445a99c27646b2d2099c",
       "style": "IPY_MODEL_76260aa82aea42ae9d672779bbf17342",
       "value": "100it [00:00, 728.28it/s]"
      }
     },
     "3305f15ad68145b881db12eae057f0bc": {
      "model_module": "@jupyter-widgets/base",
      "model_module_version": "1.0.0",
      "model_name": "LayoutModel",
      "state": {}
     },
     "33df291b758744e3880c758ebf8d2f14": {
      "model_module": "@jupyter-widgets/controls",
      "model_module_version": "1.0.0",
      "model_name": "DescriptionStyleModel",
      "state": {
       "description_width": ""
      }
     },
     "341084f7732d4553b0545ff1f1e64e32": {
      "model_module": "@jupyter-widgets/controls",
      "model_module_version": "1.0.0",
      "model_name": "ProgressStyleModel",
      "state": {
       "description_width": ""
      }
     },
     "3559461c42384f7f9b41161512f8fe54": {
      "model_module": "@jupyter-widgets/controls",
      "model_module_version": "1.0.0",
      "model_name": "IntProgressModel",
      "state": {
       "bar_style": "info",
       "description": "results",
       "layout": "IPY_MODEL_59dd1a2573604e3d9c7f663dcfe802fc",
       "max": 1,
       "style": "IPY_MODEL_083400c3b53744baaf1ad7b05c7d85fc",
       "value": 1
      }
     },
     "3579f148b7b14e93a1191fbbcab00e23": {
      "model_module": "@jupyter-widgets/base",
      "model_module_version": "1.0.0",
      "model_name": "LayoutModel",
      "state": {}
     },
     "361d94afb1134a67a41f66a382e19ecc": {
      "model_module": "@jupyter-widgets/controls",
      "model_module_version": "1.0.0",
      "model_name": "IntProgressModel",
      "state": {
       "bar_style": "info",
       "description": "results",
       "layout": "IPY_MODEL_5a3d8dc2e2f94a24b4893b69e663c672",
       "max": 1,
       "style": "IPY_MODEL_ffcdf12a00b243e282eebb21e6d1d8fa",
       "value": 1
      }
     },
     "3631829875244e9aa5e664717389ec63": {
      "model_module": "@jupyter-widgets/controls",
      "model_module_version": "1.0.0",
      "model_name": "HTMLModel",
      "state": {
       "layout": "IPY_MODEL_bf94891ac0c04be094a1d600cec83ed1",
       "style": "IPY_MODEL_2b8edd7bfeb4481a949233be5988d5f9",
       "value": "100it [00:00, 758.21it/s]"
      }
     },
     "3673573c164a46d8b4e00b9caf70d3f8": {
      "model_module": "@jupyter-widgets/controls",
      "model_module_version": "1.0.0",
      "model_name": "HTMLModel",
      "state": {
       "layout": "IPY_MODEL_8b7e235c61884105aa19c5907eaf3e86",
       "style": "IPY_MODEL_5a2813954733495092c738c320e524f3",
       "value": "100it [00:00, 749.17it/s]"
      }
     },
     "36a0e61476b443628792d42192cc1cea": {
      "model_module": "@jupyter-widgets/controls",
      "model_module_version": "1.0.0",
      "model_name": "HTMLModel",
      "state": {
       "layout": "IPY_MODEL_2e5e559bb85143069cfca56f1e665e9f",
       "style": "IPY_MODEL_5c0068297a604486bdce0af7c4a72c0b",
       "value": "100it [00:00, 741.73it/s]"
      }
     },
     "36cbb227664d4d518ad97f68fbb57168": {
      "model_module": "@jupyter-widgets/controls",
      "model_module_version": "1.0.0",
      "model_name": "IntProgressModel",
      "state": {
       "bar_style": "info",
       "description": "results",
       "layout": "IPY_MODEL_ce28008192fc4e258c209f8753e9e849",
       "max": 1,
       "style": "IPY_MODEL_aec680c22b6f458f8df109f2b482d85f",
       "value": 1
      }
     },
     "36e72326d2cf482d90724abd4b80e885": {
      "model_module": "@jupyter-widgets/base",
      "model_module_version": "1.0.0",
      "model_name": "LayoutModel",
      "state": {}
     },
     "37abbb5a508b490dbfaca35ff61754fc": {
      "model_module": "@jupyter-widgets/controls",
      "model_module_version": "1.0.0",
      "model_name": "DescriptionStyleModel",
      "state": {
       "description_width": ""
      }
     },
     "37d9a7066c7d4020bf61a8d8a34021d6": {
      "model_module": "@jupyter-widgets/base",
      "model_module_version": "1.0.0",
      "model_name": "LayoutModel",
      "state": {}
     },
     "37e34b234b3541beb54c921b44e2e362": {
      "model_module": "@jupyter-widgets/controls",
      "model_module_version": "1.0.0",
      "model_name": "DescriptionStyleModel",
      "state": {
       "description_width": ""
      }
     },
     "391af67597df4891aeeb80cd497851f6": {
      "model_module": "@jupyter-widgets/controls",
      "model_module_version": "1.0.0",
      "model_name": "IntProgressModel",
      "state": {
       "bar_style": "info",
       "description": "results",
       "layout": "IPY_MODEL_2a1b213735ff4ef5aa5657cd87ccfcc1",
       "max": 1,
       "style": "IPY_MODEL_a1a652c05c734bbdb89bf7893a35d532",
       "value": 1
      }
     },
     "3af42ad03841421bbe7a8883d24ea86f": {
      "model_module": "@jupyter-widgets/controls",
      "model_module_version": "1.0.0",
      "model_name": "IntProgressModel",
      "state": {
       "bar_style": "info",
       "description": "results",
       "layout": "IPY_MODEL_9d30d002058843f3a20bf20c612e1ff9",
       "max": 1,
       "style": "IPY_MODEL_dfc0b04b7bfc4b45ae40fe5d1c27e050",
       "value": 1
      }
     },
     "3b1d9a6dfd824739bd6b596c477b8e59": {
      "model_module": "@jupyter-widgets/controls",
      "model_module_version": "1.0.0",
      "model_name": "IntProgressModel",
      "state": {
       "bar_style": "info",
       "description": "results",
       "layout": "IPY_MODEL_3305f15ad68145b881db12eae057f0bc",
       "max": 1,
       "style": "IPY_MODEL_81918946b2814809898f87c42c01f08a",
       "value": 1
      }
     },
     "3b256e71d8ef42d7bf5a5209bf492acc": {
      "model_module": "@jupyter-widgets/controls",
      "model_module_version": "1.0.0",
      "model_name": "HTMLModel",
      "state": {
       "layout": "IPY_MODEL_ce66c6547718410bbadd55813e44d859",
       "style": "IPY_MODEL_a943c3afeb294931b9072fb62dcb6548",
       "value": "100it [00:00, 744.53it/s]"
      }
     },
     "3c25a2e9585f4ff89cc824062f455d00": {
      "model_module": "@jupyter-widgets/controls",
      "model_module_version": "1.0.0",
      "model_name": "IntProgressModel",
      "state": {
       "bar_style": "info",
       "description": "train 0",
       "layout": "IPY_MODEL_9c0baf47ef8341599df1c360ba1d3b7a",
       "max": 1,
       "style": "IPY_MODEL_e1ee18f588f54f91b7a1ff41e7b23fda",
       "value": 1
      }
     },
     "3c4fde24fd5542afab72d37ceeb1b12f": {
      "model_module": "@jupyter-widgets/controls",
      "model_module_version": "1.0.0",
      "model_name": "IntProgressModel",
      "state": {
       "bar_style": "info",
       "description": "results",
       "layout": "IPY_MODEL_d85642a09175452cac2605b88a7fa2b2",
       "max": 1,
       "style": "IPY_MODEL_1273b8130cf443a09075544d8591c881",
       "value": 1
      }
     },
     "3cde6aec015a445e89b6b0e2c8512d11": {
      "model_module": "@jupyter-widgets/base",
      "model_module_version": "1.0.0",
      "model_name": "LayoutModel",
      "state": {}
     },
     "3e227e1719b34d8889c8c40d5ca2b554": {
      "model_module": "@jupyter-widgets/base",
      "model_module_version": "1.0.0",
      "model_name": "LayoutModel",
      "state": {}
     },
     "3f5995c7ed0c4a56961712cc80f819d6": {
      "model_module": "@jupyter-widgets/controls",
      "model_module_version": "1.0.0",
      "model_name": "ProgressStyleModel",
      "state": {
       "description_width": ""
      }
     },
     "3fdfa0002bdf47ba96f347147b8877c0": {
      "model_module": "@jupyter-widgets/controls",
      "model_module_version": "1.0.0",
      "model_name": "DescriptionStyleModel",
      "state": {
       "description_width": ""
      }
     },
     "400625aa80fe4f968de97b96d5ddc18c": {
      "model_module": "@jupyter-widgets/base",
      "model_module_version": "1.0.0",
      "model_name": "LayoutModel",
      "state": {}
     },
     "40cccbb0989f4dae888ccab233dbe606": {
      "model_module": "@jupyter-widgets/controls",
      "model_module_version": "1.0.0",
      "model_name": "IntProgressModel",
      "state": {
       "bar_style": "info",
       "description": "dev 3",
       "layout": "IPY_MODEL_877bf909d85e4e0c93dd760b58abf589",
       "max": 1,
       "style": "IPY_MODEL_697515f541d24bb4a3f92283453bf28f",
       "value": 1
      }
     },
     "40f35f1b27974684ae8617c22343986b": {
      "model_module": "@jupyter-widgets/base",
      "model_module_version": "1.0.0",
      "model_name": "LayoutModel",
      "state": {}
     },
     "41783c24f9234d2a8ae074055ee68147": {
      "model_module": "@jupyter-widgets/controls",
      "model_module_version": "1.0.0",
      "model_name": "IntProgressModel",
      "state": {
       "bar_style": "info",
       "description": "results",
       "layout": "IPY_MODEL_3579f148b7b14e93a1191fbbcab00e23",
       "max": 1,
       "style": "IPY_MODEL_6e377cb088d149cab35c1133014a9ab8",
       "value": 1
      }
     },
     "4189d5034b8142d1b0dd8589e20940bc": {
      "model_module": "@jupyter-widgets/controls",
      "model_module_version": "1.0.0",
      "model_name": "IntProgressModel",
      "state": {
       "bar_style": "info",
       "description": "results",
       "layout": "IPY_MODEL_11013defe82e42c68d5756e478b7dd87",
       "max": 1,
       "style": "IPY_MODEL_cd0b14c40bfa43bc9a72da0356c544bb",
       "value": 1
      }
     },
     "426a3a3f7e614ad487a66629dee0a74c": {
      "model_module": "@jupyter-widgets/base",
      "model_module_version": "1.0.0",
      "model_name": "LayoutModel",
      "state": {}
     },
     "44035cccd8b94cf58bf6d9a1360265b5": {
      "model_module": "@jupyter-widgets/base",
      "model_module_version": "1.0.0",
      "model_name": "LayoutModel",
      "state": {}
     },
     "442a9575d31b4385990750a91e62699c": {
      "model_module": "@jupyter-widgets/controls",
      "model_module_version": "1.0.0",
      "model_name": "DescriptionStyleModel",
      "state": {
       "description_width": ""
      }
     },
     "4488fee6289b45dda67999619346e1fe": {
      "model_module": "@jupyter-widgets/controls",
      "model_module_version": "1.0.0",
      "model_name": "ProgressStyleModel",
      "state": {
       "description_width": ""
      }
     },
     "4579dfe829a34f8ca881b0235bb10a6e": {
      "model_module": "@jupyter-widgets/controls",
      "model_module_version": "1.0.0",
      "model_name": "IntProgressModel",
      "state": {
       "bar_style": "info",
       "description": "results",
       "layout": "IPY_MODEL_f8710599a6594d598eba9ee0ad50fd60",
       "max": 1,
       "style": "IPY_MODEL_c3752b72f275424c9291fcaea18ef70b",
       "value": 1
      }
     },
     "467f7f79671f4861a217432324686901": {
      "model_module": "@jupyter-widgets/controls",
      "model_module_version": "1.0.0",
      "model_name": "DescriptionStyleModel",
      "state": {
       "description_width": ""
      }
     },
     "46a440336d6f47479cc6748f7ff7dc0b": {
      "model_module": "@jupyter-widgets/base",
      "model_module_version": "1.0.0",
      "model_name": "LayoutModel",
      "state": {}
     },
     "476a89e3dc904414bd123348eeadcb79": {
      "model_module": "@jupyter-widgets/base",
      "model_module_version": "1.0.0",
      "model_name": "LayoutModel",
      "state": {}
     },
     "480a22ac07674846bef07a6cb14bd236": {
      "model_module": "@jupyter-widgets/base",
      "model_module_version": "1.0.0",
      "model_name": "LayoutModel",
      "state": {}
     },
     "481e2dbdd04848aa92a45365a76765fb": {
      "model_module": "@jupyter-widgets/base",
      "model_module_version": "1.0.0",
      "model_name": "LayoutModel",
      "state": {}
     },
     "486f7f3c4ebf4b919e01eb7d837bee7c": {
      "model_module": "@jupyter-widgets/base",
      "model_module_version": "1.0.0",
      "model_name": "LayoutModel",
      "state": {}
     },
     "4935f777ea024127a8561247cab0f540": {
      "model_module": "@jupyter-widgets/controls",
      "model_module_version": "1.0.0",
      "model_name": "HTMLModel",
      "state": {
       "layout": "IPY_MODEL_40f35f1b27974684ae8617c22343986b",
       "style": "IPY_MODEL_a7d5fa21afaa4f389f3e31d6002eb3a6",
       "value": "100it [00:00, 751.83it/s]"
      }
     },
     "4962c49cc75c4aa8ac8133b5e495cf06": {
      "model_module": "@jupyter-widgets/controls",
      "model_module_version": "1.0.0",
      "model_name": "DescriptionStyleModel",
      "state": {
       "description_width": ""
      }
     },
     "49d3d4f9b40c4dcda97879bbbf3511fe": {
      "model_module": "@jupyter-widgets/controls",
      "model_module_version": "1.0.0",
      "model_name": "IntProgressModel",
      "state": {
       "bar_style": "info",
       "description": "results",
       "layout": "IPY_MODEL_02e897deb2374c89a344e60359ee41f1",
       "max": 1,
       "style": "IPY_MODEL_d256f8b97a9a46719a4bb3b95daa8755",
       "value": 1
      }
     },
     "4a6607129b8545238fabe735b1b6bb30": {
      "model_module": "@jupyter-widgets/controls",
      "model_module_version": "1.0.0",
      "model_name": "IntProgressModel",
      "state": {
       "bar_style": "info",
       "description": "results",
       "layout": "IPY_MODEL_b487d6f842334600bf8e37085a2e1006",
       "max": 1,
       "style": "IPY_MODEL_7a60c347194144dcaa2ef2d1086a8a3c",
       "value": 1
      }
     },
     "4a854f1ba46f498a909681fd68fc1ba2": {
      "model_module": "@jupyter-widgets/controls",
      "model_module_version": "1.0.0",
      "model_name": "DescriptionStyleModel",
      "state": {
       "description_width": ""
      }
     },
     "4aff29ba6cfc42b59639c618e8f5e311": {
      "model_module": "@jupyter-widgets/controls",
      "model_module_version": "1.0.0",
      "model_name": "DescriptionStyleModel",
      "state": {
       "description_width": ""
      }
     },
     "4b38dd55f7104897811dd4987c38aea5": {
      "model_module": "@jupyter-widgets/controls",
      "model_module_version": "1.0.0",
      "model_name": "DescriptionStyleModel",
      "state": {
       "description_width": ""
      }
     },
     "4b737b8f78e4493d9d3892d8a1f9f59a": {
      "model_module": "@jupyter-widgets/controls",
      "model_module_version": "1.0.0",
      "model_name": "DescriptionStyleModel",
      "state": {
       "description_width": ""
      }
     },
     "4c0695c38ade46369f89769daaf2db2d": {
      "model_module": "@jupyter-widgets/base",
      "model_module_version": "1.0.0",
      "model_name": "LayoutModel",
      "state": {}
     },
     "4c760f786f1047cbaf0d27fc8801d625": {
      "model_module": "@jupyter-widgets/base",
      "model_module_version": "1.0.0",
      "model_name": "LayoutModel",
      "state": {}
     },
     "4d3c2145f895405ea5ac2e2004e1ff7b": {
      "model_module": "@jupyter-widgets/base",
      "model_module_version": "1.0.0",
      "model_name": "LayoutModel",
      "state": {}
     },
     "4d9d995eb2254880b1d0a69441fadfa7": {
      "model_module": "@jupyter-widgets/base",
      "model_module_version": "1.0.0",
      "model_name": "LayoutModel",
      "state": {}
     },
     "4dd37da322a04678a4d51537d9a881fe": {
      "model_module": "@jupyter-widgets/controls",
      "model_module_version": "1.0.0",
      "model_name": "DescriptionStyleModel",
      "state": {
       "description_width": ""
      }
     },
     "4e845d878d774422a00588179bbd5df3": {
      "model_module": "@jupyter-widgets/controls",
      "model_module_version": "1.0.0",
      "model_name": "HTMLModel",
      "state": {
       "layout": "IPY_MODEL_c66c96983de441b3934799a5cfc6adef",
       "style": "IPY_MODEL_7594b81582cd4caea8721a74c5081c42",
       "value": "100it [00:00, 737.85it/s]"
      }
     },
     "4ec3bebf71d94445ac993dce981ba329": {
      "model_module": "@jupyter-widgets/controls",
      "model_module_version": "1.0.0",
      "model_name": "HTMLModel",
      "state": {
       "layout": "IPY_MODEL_c2c06db9c20c4f8fa6a9f75b7c0ddc15",
       "style": "IPY_MODEL_6360cc94ad1a45cb8b7b60578df45c1c",
       "value": "100it [00:00, 728.17it/s]"
      }
     },
     "4ed4ece860ae4b6881f7fccf4677579d": {
      "model_module": "@jupyter-widgets/controls",
      "model_module_version": "1.0.0",
      "model_name": "IntProgressModel",
      "state": {
       "bar_style": "info",
       "description": "results",
       "layout": "IPY_MODEL_dc9f753343fc4c169470dd4ef9e98cfc",
       "max": 1,
       "style": "IPY_MODEL_031c6ff047704cd7a143e7be5bcda5ac",
       "value": 1
      }
     },
     "502f850fecb04994affb59bd16d10659": {
      "model_module": "@jupyter-widgets/controls",
      "model_module_version": "1.0.0",
      "model_name": "HTMLModel",
      "state": {
       "layout": "IPY_MODEL_b47e19f5a115490f82f0f2fcd990cbaa",
       "style": "IPY_MODEL_c4c152b7fc424f88b9df22faa19186ca",
       "value": "724833it [07:43, 1536.03it/s]"
      }
     },
     "50b2e3603af4464c82672724edb042ba": {
      "model_module": "@jupyter-widgets/controls",
      "model_module_version": "1.0.0",
      "model_name": "HTMLModel",
      "state": {
       "layout": "IPY_MODEL_d3d22b256d7c4e74bfcfb900ac5592c1",
       "style": "IPY_MODEL_5bc5da1f0bc14e9f8c36ada352cb4783",
       "value": "100it [00:00, 742.57it/s]"
      }
     },
     "50b685d42fa94584bd3dd1df0ccf5577": {
      "model_module": "@jupyter-widgets/controls",
      "model_module_version": "1.0.0",
      "model_name": "DescriptionStyleModel",
      "state": {
       "description_width": ""
      }
     },
     "5115414b225744408c3082eb8a7cc131": {
      "model_module": "@jupyter-widgets/controls",
      "model_module_version": "1.0.0",
      "model_name": "ProgressStyleModel",
      "state": {
       "description_width": ""
      }
     },
     "512ada087bbf4671aad9f8ba7c2ae852": {
      "model_module": "@jupyter-widgets/base",
      "model_module_version": "1.0.0",
      "model_name": "LayoutModel",
      "state": {}
     },
     "5148c6d71a0840608cdf6fd1520b76bc": {
      "model_module": "@jupyter-widgets/controls",
      "model_module_version": "1.0.0",
      "model_name": "HTMLModel",
      "state": {
       "layout": "IPY_MODEL_b44f74e86f57445b8ec1838ca84e5e92",
       "style": "IPY_MODEL_cf985311f07a41ab8f7f1754c56b0fbf",
       "value": "100it [00:00, 763.43it/s]"
      }
     },
     "520a1fc94bb14aa3aa2c93030b3a400a": {
      "model_module": "@jupyter-widgets/base",
      "model_module_version": "1.0.0",
      "model_name": "LayoutModel",
      "state": {}
     },
     "523083dec6a04edf9d1a0742ba4ac826": {
      "model_module": "@jupyter-widgets/base",
      "model_module_version": "1.0.0",
      "model_name": "LayoutModel",
      "state": {}
     },
     "52314938b23e414aacd70ab1f0a59c21": {
      "model_module": "@jupyter-widgets/controls",
      "model_module_version": "1.0.0",
      "model_name": "ProgressStyleModel",
      "state": {
       "description_width": ""
      }
     },
     "5258119697dd46ee97221d54dcdbcb73": {
      "model_module": "@jupyter-widgets/controls",
      "model_module_version": "1.0.0",
      "model_name": "HTMLModel",
      "state": {
       "layout": "IPY_MODEL_60262c141a2e46c2a2ab702816ecf5e5",
       "style": "IPY_MODEL_7ad51d17234044ba85275e1400009763",
       "value": "100it [00:00, 746.62it/s]"
      }
     },
     "526ae07fb27544df96b965cc235e4e48": {
      "model_module": "@jupyter-widgets/controls",
      "model_module_version": "1.0.0",
      "model_name": "HBoxModel",
      "state": {
       "children": [
        "IPY_MODEL_e203913f983143579f11157dbc117e61",
        "IPY_MODEL_b86aa6524dc745dab20a7043427e7b42"
       ],
       "layout": "IPY_MODEL_7072c0767dff4803bc410294924cd7dd"
      }
     },
     "5297878f99a046cc8564b2dbedb334db": {
      "model_module": "@jupyter-widgets/controls",
      "model_module_version": "1.0.0",
      "model_name": "HTMLModel",
      "state": {
       "layout": "IPY_MODEL_7e8fa8467b0f487cbc5e40019ba962b8",
       "style": "IPY_MODEL_984e3375469243e48326cad04388c624",
       "value": "724833it [10:16, 1169.38it/s]"
      }
     },
     "531a57e85010423f924161d1a6d72b3c": {
      "model_module": "@jupyter-widgets/base",
      "model_module_version": "1.0.0",
      "model_name": "LayoutModel",
      "state": {}
     },
     "538661d310df4bcfb26212328196f32e": {
      "model_module": "@jupyter-widgets/base",
      "model_module_version": "1.0.0",
      "model_name": "LayoutModel",
      "state": {}
     },
     "54093685b484483683dd8d0ce877f614": {
      "model_module": "@jupyter-widgets/base",
      "model_module_version": "1.0.0",
      "model_name": "LayoutModel",
      "state": {}
     },
     "5452ca3c4e3c4d0f993b4cc9fc8dbfda": {
      "model_module": "@jupyter-widgets/controls",
      "model_module_version": "1.0.0",
      "model_name": "IntProgressModel",
      "state": {
       "bar_style": "info",
       "description": "dev 0",
       "layout": "IPY_MODEL_d11190f872f34b16b88e0dd4a8ebdf9f",
       "max": 1,
       "style": "IPY_MODEL_8eb70f66eb71463eab2155d17d7e5fd0",
       "value": 1
      }
     },
     "547acbc897cd4c788e06ea9bee508050": {
      "model_module": "@jupyter-widgets/base",
      "model_module_version": "1.0.0",
      "model_name": "LayoutModel",
      "state": {}
     },
     "54c520dd6d95404d8718915130421eaf": {
      "model_module": "@jupyter-widgets/base",
      "model_module_version": "1.0.0",
      "model_name": "LayoutModel",
      "state": {}
     },
     "54f3ef676c3b4e1490a1951569033121": {
      "model_module": "@jupyter-widgets/base",
      "model_module_version": "1.0.0",
      "model_name": "LayoutModel",
      "state": {}
     },
     "550d70d9f7eb489191b3e92f53f8e79c": {
      "model_module": "@jupyter-widgets/base",
      "model_module_version": "1.0.0",
      "model_name": "LayoutModel",
      "state": {}
     },
     "556c872d5e7f44f1a2bcb5e65e690113": {
      "model_module": "@jupyter-widgets/controls",
      "model_module_version": "1.0.0",
      "model_name": "ProgressStyleModel",
      "state": {
       "description_width": ""
      }
     },
     "564125bc33484266a9197f078200259d": {
      "model_module": "@jupyter-widgets/base",
      "model_module_version": "1.0.0",
      "model_name": "LayoutModel",
      "state": {}
     },
     "564fa0a1bc6844a889c969e28a66548e": {
      "model_module": "@jupyter-widgets/controls",
      "model_module_version": "1.0.0",
      "model_name": "HTMLModel",
      "state": {
       "layout": "IPY_MODEL_c10c62f4a25645e3bdab93ba68bdff74",
       "style": "IPY_MODEL_bd6b85f91ac4457f9fe7064274755373",
       "value": "100it [00:00, 741.87it/s]"
      }
     },
     "56de2b1622584472a57023178357a222": {
      "model_module": "@jupyter-widgets/controls",
      "model_module_version": "1.0.0",
      "model_name": "HTMLModel",
      "state": {
       "layout": "IPY_MODEL_c367b5cf38b34e7f8f9d5849f30aca34",
       "style": "IPY_MODEL_06ce34e5db9e46de857b4e83b9730dfd",
       "value": "21974it [00:08, 2580.52it/s]"
      }
     },
     "56eb11d7ce7f4dd8b6d49049280dbb78": {
      "model_module": "@jupyter-widgets/controls",
      "model_module_version": "1.0.0",
      "model_name": "IntProgressModel",
      "state": {
       "bar_style": "info",
       "description": "results",
       "layout": "IPY_MODEL_1409aa95a5ca4d5288c3d3769d1ddb06",
       "max": 1,
       "style": "IPY_MODEL_ba931e8496d24e0a9f0c0cc35b5a9ebf",
       "value": 1
      }
     },
     "5776cfc91950450b8bcdf38c8f43b4aa": {
      "model_module": "@jupyter-widgets/base",
      "model_module_version": "1.0.0",
      "model_name": "LayoutModel",
      "state": {}
     },
     "579e43fb2ad348669d3a8e5d1e4c29f5": {
      "model_module": "@jupyter-widgets/controls",
      "model_module_version": "1.0.0",
      "model_name": "ProgressStyleModel",
      "state": {
       "description_width": ""
      }
     },
     "57af5413be38498d8b936f627f57000a": {
      "model_module": "@jupyter-widgets/controls",
      "model_module_version": "1.0.0",
      "model_name": "IntProgressModel",
      "state": {
       "bar_style": "info",
       "description": "results",
       "layout": "IPY_MODEL_f744b235ca394cc6b677d8cdc3acb230",
       "max": 1,
       "style": "IPY_MODEL_27cc665036f54893b386e64aafddd0b8",
       "value": 1
      }
     },
     "57c1e9f56cd6469fa7902b67ccb4a703": {
      "model_module": "@jupyter-widgets/controls",
      "model_module_version": "1.0.0",
      "model_name": "IntProgressModel",
      "state": {
       "bar_style": "info",
       "description": "results",
       "layout": "IPY_MODEL_c933fc7bc12d4981b68252add101ff7d",
       "max": 1,
       "style": "IPY_MODEL_c910c3677aa9484ea2cf3cb222bfa710",
       "value": 1
      }
     },
     "5857ef67b08548059de54260df3455c5": {
      "model_module": "@jupyter-widgets/base",
      "model_module_version": "1.0.0",
      "model_name": "LayoutModel",
      "state": {}
     },
     "58cfdd216f404d2292291e6fc3b0f5c4": {
      "model_module": "@jupyter-widgets/controls",
      "model_module_version": "1.0.0",
      "model_name": "ProgressStyleModel",
      "state": {
       "description_width": ""
      }
     },
     "593ae25e20b44c89850a9db3f0b6018c": {
      "model_module": "@jupyter-widgets/base",
      "model_module_version": "1.0.0",
      "model_name": "LayoutModel",
      "state": {}
     },
     "59b109635e15469b8d00dd54d845325f": {
      "model_module": "@jupyter-widgets/controls",
      "model_module_version": "1.0.0",
      "model_name": "ProgressStyleModel",
      "state": {
       "description_width": ""
      }
     },
     "59dd1a2573604e3d9c7f663dcfe802fc": {
      "model_module": "@jupyter-widgets/base",
      "model_module_version": "1.0.0",
      "model_name": "LayoutModel",
      "state": {}
     },
     "5a2813954733495092c738c320e524f3": {
      "model_module": "@jupyter-widgets/controls",
      "model_module_version": "1.0.0",
      "model_name": "DescriptionStyleModel",
      "state": {
       "description_width": ""
      }
     },
     "5a3d8dc2e2f94a24b4893b69e663c672": {
      "model_module": "@jupyter-widgets/base",
      "model_module_version": "1.0.0",
      "model_name": "LayoutModel",
      "state": {}
     },
     "5a52199c9a9448c1b0d016fd3ffe8052": {
      "model_module": "@jupyter-widgets/controls",
      "model_module_version": "1.0.0",
      "model_name": "ProgressStyleModel",
      "state": {
       "description_width": ""
      }
     },
     "5a52f71865f84179bf3617801756835a": {
      "model_module": "@jupyter-widgets/controls",
      "model_module_version": "1.0.0",
      "model_name": "HTMLModel",
      "state": {
       "layout": "IPY_MODEL_0ff7c09b96944f64b52b0da0bde811b4",
       "style": "IPY_MODEL_0df3232b954640b689034799340ae192",
       "value": "100it [00:00, 741.48it/s]"
      }
     },
     "5b31a288d90b464c88f83d911fbf7462": {
      "model_module": "@jupyter-widgets/controls",
      "model_module_version": "1.0.0",
      "model_name": "IntProgressModel",
      "state": {
       "bar_style": "info",
       "description": "dev 4",
       "layout": "IPY_MODEL_b339e7a46ba0494ba2f16264e75e5591",
       "max": 1,
       "style": "IPY_MODEL_738a0482a66e49cb98e3ca26d309c370",
       "value": 1
      }
     },
     "5bc5da1f0bc14e9f8c36ada352cb4783": {
      "model_module": "@jupyter-widgets/controls",
      "model_module_version": "1.0.0",
      "model_name": "DescriptionStyleModel",
      "state": {
       "description_width": ""
      }
     },
     "5c0068297a604486bdce0af7c4a72c0b": {
      "model_module": "@jupyter-widgets/controls",
      "model_module_version": "1.0.0",
      "model_name": "DescriptionStyleModel",
      "state": {
       "description_width": ""
      }
     },
     "5c1cc5e492b74049a7d8aef5b0c82d3c": {
      "model_module": "@jupyter-widgets/base",
      "model_module_version": "1.0.0",
      "model_name": "LayoutModel",
      "state": {}
     },
     "5c9534c91d9449d5aa1e270b9ce7009f": {
      "model_module": "@jupyter-widgets/base",
      "model_module_version": "1.0.0",
      "model_name": "LayoutModel",
      "state": {}
     },
     "5d6fd32ce3da4ab2b950da7b0818f271": {
      "model_module": "@jupyter-widgets/base",
      "model_module_version": "1.0.0",
      "model_name": "LayoutModel",
      "state": {}
     },
     "5dfd710fdbd841b28eee81ef6ab710f0": {
      "model_module": "@jupyter-widgets/controls",
      "model_module_version": "1.0.0",
      "model_name": "DescriptionStyleModel",
      "state": {
       "description_width": ""
      }
     },
     "5e5cb85beb2d42449ec17ff633d93a46": {
      "model_module": "@jupyter-widgets/controls",
      "model_module_version": "1.0.0",
      "model_name": "ProgressStyleModel",
      "state": {
       "description_width": ""
      }
     },
     "5ef0fb02403b446aa65176131c203c02": {
      "model_module": "@jupyter-widgets/base",
      "model_module_version": "1.0.0",
      "model_name": "LayoutModel",
      "state": {}
     },
     "5f32efed1aec4c8f8eb696ce8767aaf9": {
      "model_module": "@jupyter-widgets/controls",
      "model_module_version": "1.0.0",
      "model_name": "IntProgressModel",
      "state": {
       "bar_style": "info",
       "description": "results",
       "layout": "IPY_MODEL_3e227e1719b34d8889c8c40d5ca2b554",
       "max": 1,
       "style": "IPY_MODEL_6a147bcc457c4149aa836ab48a34edcf",
       "value": 1
      }
     },
     "5fe818bf5d4d4e7183e4b4d26811c527": {
      "model_module": "@jupyter-widgets/controls",
      "model_module_version": "1.0.0",
      "model_name": "DescriptionStyleModel",
      "state": {
       "description_width": ""
      }
     },
     "60262c141a2e46c2a2ab702816ecf5e5": {
      "model_module": "@jupyter-widgets/base",
      "model_module_version": "1.0.0",
      "model_name": "LayoutModel",
      "state": {}
     },
     "60423240f677442585133a2d7ec948d7": {
      "model_module": "@jupyter-widgets/base",
      "model_module_version": "1.0.0",
      "model_name": "LayoutModel",
      "state": {}
     },
     "60a09f3a18ec4511b88f971bfba2dd8d": {
      "model_module": "@jupyter-widgets/controls",
      "model_module_version": "1.0.0",
      "model_name": "ProgressStyleModel",
      "state": {
       "description_width": ""
      }
     },
     "616ec2e799714bc8aef10a289acffaa4": {
      "model_module": "@jupyter-widgets/controls",
      "model_module_version": "1.0.0",
      "model_name": "IntProgressModel",
      "state": {
       "bar_style": "info",
       "description": "results",
       "layout": "IPY_MODEL_dd368c347ab246f1ab8522d880588185",
       "max": 1,
       "style": "IPY_MODEL_b688319559ba4e3d8e134f2809960f18",
       "value": 1
      }
     },
     "6170970b5a1d44ec9fb2a48e20c14942": {
      "model_module": "@jupyter-widgets/controls",
      "model_module_version": "1.0.0",
      "model_name": "HTMLModel",
      "state": {
       "layout": "IPY_MODEL_6d03b6ca5a1a4ab9870d955bdd277558",
       "style": "IPY_MODEL_01d20fef95484f5d8d47f516c71e5f2b",
       "value": "100it [00:00, 735.36it/s]"
      }
     },
     "61acd5cb2b484900b635956a2afa2136": {
      "model_module": "@jupyter-widgets/controls",
      "model_module_version": "1.0.0",
      "model_name": "HTMLModel",
      "state": {
       "layout": "IPY_MODEL_86933bcfaaa04b61983d290f9df9f452",
       "style": "IPY_MODEL_a7c3af2c8d1d428192eb66012e922c25",
       "value": "100it [00:00, 756.14it/s]"
      }
     },
     "621512ac2fac46fdb9573508094a79eb": {
      "model_module": "@jupyter-widgets/controls",
      "model_module_version": "1.0.0",
      "model_name": "IntProgressModel",
      "state": {
       "bar_style": "info",
       "description": "results",
       "layout": "IPY_MODEL_481e2dbdd04848aa92a45365a76765fb",
       "max": 1,
       "style": "IPY_MODEL_3110cb8089a743318cdecf7cb9be5ffd",
       "value": 1
      }
     },
     "625b28a4dfd84d658e339390e4f48e07": {
      "model_module": "@jupyter-widgets/controls",
      "model_module_version": "1.0.0",
      "model_name": "IntProgressModel",
      "state": {
       "bar_style": "info",
       "description": "train 4",
       "layout": "IPY_MODEL_639847ce13074964866265927da53644",
       "max": 1,
       "style": "IPY_MODEL_8384d3d7f5714962a07314ce415c0718",
       "value": 1
      }
     },
     "62731ba2c6ff4d4091af28dfe82f9855": {
      "model_module": "@jupyter-widgets/base",
      "model_module_version": "1.0.0",
      "model_name": "LayoutModel",
      "state": {}
     },
     "627cc19c419d4252b34d050ffa7841fb": {
      "model_module": "@jupyter-widgets/base",
      "model_module_version": "1.0.0",
      "model_name": "LayoutModel",
      "state": {}
     },
     "6360cc94ad1a45cb8b7b60578df45c1c": {
      "model_module": "@jupyter-widgets/controls",
      "model_module_version": "1.0.0",
      "model_name": "DescriptionStyleModel",
      "state": {
       "description_width": ""
      }
     },
     "639847ce13074964866265927da53644": {
      "model_module": "@jupyter-widgets/base",
      "model_module_version": "1.0.0",
      "model_name": "LayoutModel",
      "state": {}
     },
     "65172d0824c34699ad26798c1b54f832": {
      "model_module": "@jupyter-widgets/controls",
      "model_module_version": "1.0.0",
      "model_name": "HTMLModel",
      "state": {
       "layout": "IPY_MODEL_7b55e6969a794879a19506f4d9bea8ba",
       "style": "IPY_MODEL_b29d2de306da4448bff45faaf0e2d70b",
       "value": "100it [00:00, 743.52it/s]"
      }
     },
     "651a14e203794c37b040e004bfcfb290": {
      "model_module": "@jupyter-widgets/controls",
      "model_module_version": "1.0.0",
      "model_name": "HTMLModel",
      "state": {
       "layout": "IPY_MODEL_5d6fd32ce3da4ab2b950da7b0818f271",
       "style": "IPY_MODEL_94e6698f126e4f518c18e150ec761b0c",
       "value": "100it [00:00, 719.72it/s]"
      }
     },
     "6528e59c649f49ce89d05889cf44801a": {
      "model_module": "@jupyter-widgets/base",
      "model_module_version": "1.0.0",
      "model_name": "LayoutModel",
      "state": {}
     },
     "657d42d801364eba976bcbf89c8a44cd": {
      "model_module": "@jupyter-widgets/controls",
      "model_module_version": "1.0.0",
      "model_name": "DescriptionStyleModel",
      "state": {
       "description_width": ""
      }
     },
     "65b9cfc06d3c4714819ac58f22fea60c": {
      "model_module": "@jupyter-widgets/base",
      "model_module_version": "1.0.0",
      "model_name": "LayoutModel",
      "state": {}
     },
     "65d8c408a41e4254941db24a381f179e": {
      "model_module": "@jupyter-widgets/controls",
      "model_module_version": "1.0.0",
      "model_name": "ProgressStyleModel",
      "state": {
       "description_width": ""
      }
     },
     "661190075d514257a2a6541ce637f9ce": {
      "model_module": "@jupyter-widgets/controls",
      "model_module_version": "1.0.0",
      "model_name": "ProgressStyleModel",
      "state": {
       "description_width": ""
      }
     },
     "662b1fdae6d64d559fafec131e92e8ff": {
      "model_module": "@jupyter-widgets/base",
      "model_module_version": "1.0.0",
      "model_name": "LayoutModel",
      "state": {}
     },
     "66dc0866e35e49c898517c423728182d": {
      "model_module": "@jupyter-widgets/base",
      "model_module_version": "1.0.0",
      "model_name": "LayoutModel",
      "state": {}
     },
     "672dde1716d14462932522f5a506279b": {
      "model_module": "@jupyter-widgets/controls",
      "model_module_version": "1.0.0",
      "model_name": "ProgressStyleModel",
      "state": {
       "description_width": ""
      }
     },
     "67eb117250ba40d4a3a3b078c832a082": {
      "model_module": "@jupyter-widgets/base",
      "model_module_version": "1.0.0",
      "model_name": "LayoutModel",
      "state": {}
     },
     "688888036c2c460aa44bed0ebb9a2858": {
      "model_module": "@jupyter-widgets/controls",
      "model_module_version": "1.0.0",
      "model_name": "ProgressStyleModel",
      "state": {
       "description_width": ""
      }
     },
     "68bf39b8622f402eae25aa816f9d38a1": {
      "model_module": "@jupyter-widgets/controls",
      "model_module_version": "1.0.0",
      "model_name": "HTMLModel",
      "state": {
       "layout": "IPY_MODEL_0ea427cd8cdc4e18a75de92445b15f16",
       "style": "IPY_MODEL_c0fde1c335474188af4762fd6ad6a879",
       "value": "100it [00:00, 708.27it/s]"
      }
     },
     "68de85fa475742908acfa8702eda02b3": {
      "model_module": "@jupyter-widgets/controls",
      "model_module_version": "1.0.0",
      "model_name": "IntProgressModel",
      "state": {
       "bar_style": "info",
       "description": "train 2",
       "layout": "IPY_MODEL_476a89e3dc904414bd123348eeadcb79",
       "max": 1,
       "style": "IPY_MODEL_eb31bd6a5a0c4bd49b313d7dea4beba3",
       "value": 1
      }
     },
     "692bf4df145c4c799b47f8feb89161a6": {
      "model_module": "@jupyter-widgets/base",
      "model_module_version": "1.0.0",
      "model_name": "LayoutModel",
      "state": {}
     },
     "693bcacd03c049eea69b53dac008d76f": {
      "model_module": "@jupyter-widgets/base",
      "model_module_version": "1.0.0",
      "model_name": "LayoutModel",
      "state": {}
     },
     "697515f541d24bb4a3f92283453bf28f": {
      "model_module": "@jupyter-widgets/controls",
      "model_module_version": "1.0.0",
      "model_name": "ProgressStyleModel",
      "state": {
       "description_width": ""
      }
     },
     "697997184282441e99aca75e1ab1dc73": {
      "model_module": "@jupyter-widgets/base",
      "model_module_version": "1.0.0",
      "model_name": "LayoutModel",
      "state": {}
     },
     "6a147bcc457c4149aa836ab48a34edcf": {
      "model_module": "@jupyter-widgets/controls",
      "model_module_version": "1.0.0",
      "model_name": "ProgressStyleModel",
      "state": {
       "description_width": ""
      }
     },
     "6a5e2b219d9b44369c93e0507e0ac22a": {
      "model_module": "@jupyter-widgets/base",
      "model_module_version": "1.0.0",
      "model_name": "LayoutModel",
      "state": {}
     },
     "6b96f64586fd442dbc1b795ea32e6c49": {
      "model_module": "@jupyter-widgets/base",
      "model_module_version": "1.0.0",
      "model_name": "LayoutModel",
      "state": {}
     },
     "6c99841fbcd1457f952de863d4d7367e": {
      "model_module": "@jupyter-widgets/controls",
      "model_module_version": "1.0.0",
      "model_name": "DescriptionStyleModel",
      "state": {
       "description_width": ""
      }
     },
     "6cfc7d22cbfe448881f7d024cfd5f485": {
      "model_module": "@jupyter-widgets/base",
      "model_module_version": "1.0.0",
      "model_name": "LayoutModel",
      "state": {}
     },
     "6d03b6ca5a1a4ab9870d955bdd277558": {
      "model_module": "@jupyter-widgets/base",
      "model_module_version": "1.0.0",
      "model_name": "LayoutModel",
      "state": {}
     },
     "6d2a69c3519a405aa32625b496dd862e": {
      "model_module": "@jupyter-widgets/base",
      "model_module_version": "1.0.0",
      "model_name": "LayoutModel",
      "state": {}
     },
     "6dd755025b2a4932a3b8611c6ed53f4a": {
      "model_module": "@jupyter-widgets/controls",
      "model_module_version": "1.0.0",
      "model_name": "HTMLModel",
      "state": {
       "layout": "IPY_MODEL_8cbcf532ddfd4a24b3abb590335d6ec0",
       "style": "IPY_MODEL_c356cc6fa3f7476fab874b337f7a7645",
       "value": "100it [00:00, 726.76it/s]"
      }
     },
     "6e1e765e80e24b538ae806826705bfa5": {
      "model_module": "@jupyter-widgets/base",
      "model_module_version": "1.0.0",
      "model_name": "LayoutModel",
      "state": {}
     },
     "6e377cb088d149cab35c1133014a9ab8": {
      "model_module": "@jupyter-widgets/controls",
      "model_module_version": "1.0.0",
      "model_name": "ProgressStyleModel",
      "state": {
       "description_width": ""
      }
     },
     "6e46155144264c07ae4dfc5c70e5f3af": {
      "model_module": "@jupyter-widgets/base",
      "model_module_version": "1.0.0",
      "model_name": "LayoutModel",
      "state": {}
     },
     "6e9f822e2e5743749676ddd393933746": {
      "model_module": "@jupyter-widgets/controls",
      "model_module_version": "1.0.0",
      "model_name": "HTMLModel",
      "state": {
       "layout": "IPY_MODEL_fda8e427a0604f64b0483aa30c8b268a",
       "style": "IPY_MODEL_d1257138442543a388c66523bf72b43a",
       "value": "100it [00:00, 733.64it/s]"
      }
     },
     "6f5bb0256b27415d8957d34cf2526613": {
      "model_module": "@jupyter-widgets/controls",
      "model_module_version": "1.0.0",
      "model_name": "DescriptionStyleModel",
      "state": {
       "description_width": ""
      }
     },
     "6f8c0651979444aa891caf9536db43d1": {
      "model_module": "@jupyter-widgets/controls",
      "model_module_version": "1.0.0",
      "model_name": "DescriptionStyleModel",
      "state": {
       "description_width": ""
      }
     },
     "7072c0767dff4803bc410294924cd7dd": {
      "model_module": "@jupyter-widgets/base",
      "model_module_version": "1.0.0",
      "model_name": "LayoutModel",
      "state": {}
     },
     "717ff2ec7647496585b6b1d60a3c8382": {
      "model_module": "@jupyter-widgets/controls",
      "model_module_version": "1.0.0",
      "model_name": "ProgressStyleModel",
      "state": {
       "description_width": ""
      }
     },
     "71fffac477c74824bb819f43760e63fd": {
      "model_module": "@jupyter-widgets/controls",
      "model_module_version": "1.0.0",
      "model_name": "IntProgressModel",
      "state": {
       "bar_style": "info",
       "description": "results",
       "layout": "IPY_MODEL_f483e6e7ca604ae9a85af4137bab846b",
       "max": 1,
       "style": "IPY_MODEL_b2750894e2a54c50b66290bcf9ba4507",
       "value": 1
      }
     },
     "738a0482a66e49cb98e3ca26d309c370": {
      "model_module": "@jupyter-widgets/controls",
      "model_module_version": "1.0.0",
      "model_name": "ProgressStyleModel",
      "state": {
       "description_width": ""
      }
     },
     "74039bf611024cdab734ec8d1a24d53f": {
      "model_module": "@jupyter-widgets/controls",
      "model_module_version": "1.0.0",
      "model_name": "HTMLModel",
      "state": {
       "layout": "IPY_MODEL_2de310f49bb54c9fb1b662a0d32b3510",
       "style": "IPY_MODEL_657d42d801364eba976bcbf89c8a44cd",
       "value": "724833it [10:44, 1174.80it/s]"
      }
     },
     "740584ab3ef647b59044f50d1c68b5b5": {
      "model_module": "@jupyter-widgets/base",
      "model_module_version": "1.0.0",
      "model_name": "LayoutModel",
      "state": {}
     },
     "74c56f110fe74acdb9419f6de1750c22": {
      "model_module": "@jupyter-widgets/base",
      "model_module_version": "1.0.0",
      "model_name": "LayoutModel",
      "state": {}
     },
     "752c9bda12aa46f5b9ea94a9cf20915b": {
      "model_module": "@jupyter-widgets/controls",
      "model_module_version": "1.0.0",
      "model_name": "IntProgressModel",
      "state": {
       "bar_style": "info",
       "description": "results",
       "layout": "IPY_MODEL_f89cd8b9ef6245e384a974d0553a64a6",
       "max": 1,
       "style": "IPY_MODEL_daa9bd817f8f44548d61f7d6ffdc3c1f",
       "value": 1
      }
     },
     "7594b81582cd4caea8721a74c5081c42": {
      "model_module": "@jupyter-widgets/controls",
      "model_module_version": "1.0.0",
      "model_name": "DescriptionStyleModel",
      "state": {
       "description_width": ""
      }
     },
     "75b92304f0424ded8cbbada5945dfbd1": {
      "model_module": "@jupyter-widgets/base",
      "model_module_version": "1.0.0",
      "model_name": "LayoutModel",
      "state": {}
     },
     "7625ed8ef81b4e8f8b1c80fe15dfd2d5": {
      "model_module": "@jupyter-widgets/controls",
      "model_module_version": "1.0.0",
      "model_name": "IntProgressModel",
      "state": {
       "bar_style": "info",
       "description": "results",
       "layout": "IPY_MODEL_c9780ff269b24969a8d9aea4726ddfaa",
       "max": 1,
       "style": "IPY_MODEL_5115414b225744408c3082eb8a7cc131",
       "value": 1
      }
     },
     "76260aa82aea42ae9d672779bbf17342": {
      "model_module": "@jupyter-widgets/controls",
      "model_module_version": "1.0.0",
      "model_name": "DescriptionStyleModel",
      "state": {
       "description_width": ""
      }
     },
     "7630494d9f1b4d56a2c3feaac5877cd9": {
      "model_module": "@jupyter-widgets/base",
      "model_module_version": "1.0.0",
      "model_name": "LayoutModel",
      "state": {}
     },
     "76e857e5d1bf4d50a255af7cb83bc83f": {
      "model_module": "@jupyter-widgets/base",
      "model_module_version": "1.0.0",
      "model_name": "LayoutModel",
      "state": {}
     },
     "77364c53c7874c40bf8b2869a4bb33a9": {
      "model_module": "@jupyter-widgets/controls",
      "model_module_version": "1.0.0",
      "model_name": "ProgressStyleModel",
      "state": {
       "description_width": ""
      }
     },
     "77809217a7104cdb9cdafc220a463ce7": {
      "model_module": "@jupyter-widgets/controls",
      "model_module_version": "1.0.0",
      "model_name": "HTMLModel",
      "state": {
       "layout": "IPY_MODEL_0f3964802483479b98ab62f279da613a",
       "style": "IPY_MODEL_4b737b8f78e4493d9d3892d8a1f9f59a",
       "value": "100it [00:00, 740.86it/s]"
      }
     },
     "779f6f03e08f4225a9ffb6247b75fad5": {
      "model_module": "@jupyter-widgets/base",
      "model_module_version": "1.0.0",
      "model_name": "LayoutModel",
      "state": {}
     },
     "78431edea9bb478c9e62287a6a39bd7c": {
      "model_module": "@jupyter-widgets/controls",
      "model_module_version": "1.0.0",
      "model_name": "DescriptionStyleModel",
      "state": {
       "description_width": ""
      }
     },
     "78733214731a455e9f32ae42cec9d83c": {
      "model_module": "@jupyter-widgets/controls",
      "model_module_version": "1.0.0",
      "model_name": "IntProgressModel",
      "state": {
       "bar_style": "info",
       "description": "results",
       "layout": "IPY_MODEL_b5eaa17dcb8741249fa75401a4ce03d4",
       "max": 1,
       "style": "IPY_MODEL_2799aa0609c2401fa66f646c5e4f2664",
       "value": 1
      }
     },
     "79a86421cb5a433d88960fed19d85bae": {
      "model_module": "@jupyter-widgets/base",
      "model_module_version": "1.0.0",
      "model_name": "LayoutModel",
      "state": {}
     },
     "79abe0f03bc74fdb9a791fb36e8125f2": {
      "model_module": "@jupyter-widgets/controls",
      "model_module_version": "1.0.0",
      "model_name": "DescriptionStyleModel",
      "state": {
       "description_width": ""
      }
     },
     "7a60c347194144dcaa2ef2d1086a8a3c": {
      "model_module": "@jupyter-widgets/controls",
      "model_module_version": "1.0.0",
      "model_name": "ProgressStyleModel",
      "state": {
       "description_width": ""
      }
     },
     "7ac23b19b1994961b3749118401a1264": {
      "model_module": "@jupyter-widgets/base",
      "model_module_version": "1.0.0",
      "model_name": "LayoutModel",
      "state": {}
     },
     "7ad51d17234044ba85275e1400009763": {
      "model_module": "@jupyter-widgets/controls",
      "model_module_version": "1.0.0",
      "model_name": "DescriptionStyleModel",
      "state": {
       "description_width": ""
      }
     },
     "7b33716deb0e4e258ee074b10b883a11": {
      "model_module": "@jupyter-widgets/controls",
      "model_module_version": "1.0.0",
      "model_name": "HTMLModel",
      "state": {
       "layout": "IPY_MODEL_7de3f951588d49a09c2ea5c74c1fb175",
       "style": "IPY_MODEL_db7df4722d214b9e82f5bce74ba5635a",
       "value": "100it [00:01, 86.27it/s]"
      }
     },
     "7b4247746c9643e9bb467fe744694e0d": {
      "model_module": "@jupyter-widgets/controls",
      "model_module_version": "1.0.0",
      "model_name": "HTMLModel",
      "state": {
       "layout": "IPY_MODEL_44035cccd8b94cf58bf6d9a1360265b5",
       "style": "IPY_MODEL_a3b4c8e4ec49480d97cb2c3b33bd4006",
       "value": "21974it [00:07, 2800.91it/s]"
      }
     },
     "7b55e6969a794879a19506f4d9bea8ba": {
      "model_module": "@jupyter-widgets/base",
      "model_module_version": "1.0.0",
      "model_name": "LayoutModel",
      "state": {}
     },
     "7bc72b5c824645b891263404a30dec83": {
      "model_module": "@jupyter-widgets/controls",
      "model_module_version": "1.0.0",
      "model_name": "ProgressStyleModel",
      "state": {
       "description_width": ""
      }
     },
     "7bd5fc9135c8434d8340f2fd0a6b3748": {
      "model_module": "@jupyter-widgets/base",
      "model_module_version": "1.0.0",
      "model_name": "LayoutModel",
      "state": {}
     },
     "7c3d6b472ac64de98b8bdaa998ae18a1": {
      "model_module": "@jupyter-widgets/controls",
      "model_module_version": "1.0.0",
      "model_name": "DescriptionStyleModel",
      "state": {
       "description_width": ""
      }
     },
     "7c973043a7a243f4ae8678a51ab9e22a": {
      "model_module": "@jupyter-widgets/base",
      "model_module_version": "1.0.0",
      "model_name": "LayoutModel",
      "state": {}
     },
     "7ce0c10bcf62438cbeb5016cfdf44526": {
      "model_module": "@jupyter-widgets/base",
      "model_module_version": "1.0.0",
      "model_name": "LayoutModel",
      "state": {}
     },
     "7cf32067a7d0452aa7c495fff8fdc903": {
      "model_module": "@jupyter-widgets/controls",
      "model_module_version": "1.0.0",
      "model_name": "DescriptionStyleModel",
      "state": {
       "description_width": ""
      }
     },
     "7d329ebede8b4cc2a9ea7d04e8962d98": {
      "model_module": "@jupyter-widgets/base",
      "model_module_version": "1.0.0",
      "model_name": "LayoutModel",
      "state": {}
     },
     "7d40214bb18546939f1d14e945b76416": {
      "model_module": "@jupyter-widgets/base",
      "model_module_version": "1.0.0",
      "model_name": "LayoutModel",
      "state": {}
     },
     "7d4ae7fe19c843c390700c043bb89a22": {
      "model_module": "@jupyter-widgets/controls",
      "model_module_version": "1.0.0",
      "model_name": "ProgressStyleModel",
      "state": {
       "description_width": ""
      }
     },
     "7de3f951588d49a09c2ea5c74c1fb175": {
      "model_module": "@jupyter-widgets/base",
      "model_module_version": "1.0.0",
      "model_name": "LayoutModel",
      "state": {}
     },
     "7df4c92c4d0a48d38a7a6a500b378a44": {
      "model_module": "@jupyter-widgets/controls",
      "model_module_version": "1.0.0",
      "model_name": "ProgressStyleModel",
      "state": {
       "description_width": ""
      }
     },
     "7e4df93661ff456397a75cfdb796e436": {
      "model_module": "@jupyter-widgets/base",
      "model_module_version": "1.0.0",
      "model_name": "LayoutModel",
      "state": {}
     },
     "7e8fa8467b0f487cbc5e40019ba962b8": {
      "model_module": "@jupyter-widgets/base",
      "model_module_version": "1.0.0",
      "model_name": "LayoutModel",
      "state": {}
     },
     "7e90e5f81d184606b9385c1c20145419": {
      "model_module": "@jupyter-widgets/controls",
      "model_module_version": "1.0.0",
      "model_name": "HTMLModel",
      "state": {
       "layout": "IPY_MODEL_cd0213b8545940eda41f48ee057c49ea",
       "style": "IPY_MODEL_4962c49cc75c4aa8ac8133b5e495cf06",
       "value": "21974it [00:07, 2801.37it/s]"
      }
     },
     "7eab76ea56e2480eb0833c34e59d8b98": {
      "model_module": "@jupyter-widgets/base",
      "model_module_version": "1.0.0",
      "model_name": "LayoutModel",
      "state": {}
     },
     "801f305495c34610a343e305ace8a354": {
      "model_module": "@jupyter-widgets/base",
      "model_module_version": "1.0.0",
      "model_name": "LayoutModel",
      "state": {}
     },
     "804616c9c707444cb10e1a50cf422653": {
      "model_module": "@jupyter-widgets/controls",
      "model_module_version": "1.0.0",
      "model_name": "IntProgressModel",
      "state": {
       "bar_style": "info",
       "description": "results",
       "layout": "IPY_MODEL_66dc0866e35e49c898517c423728182d",
       "max": 1,
       "style": "IPY_MODEL_58cfdd216f404d2292291e6fc3b0f5c4",
       "value": 1
      }
     },
     "80be6a64d86f44fd9491b35d4f1ba5f3": {
      "model_module": "@jupyter-widgets/controls",
      "model_module_version": "1.0.0",
      "model_name": "HTMLModel",
      "state": {
       "layout": "IPY_MODEL_c409cd6de3f443a2ab404c4f7883af07",
       "style": "IPY_MODEL_4b38dd55f7104897811dd4987c38aea5",
       "value": "100it [00:00, 775.23it/s]"
      }
     },
     "81918946b2814809898f87c42c01f08a": {
      "model_module": "@jupyter-widgets/controls",
      "model_module_version": "1.0.0",
      "model_name": "ProgressStyleModel",
      "state": {
       "description_width": ""
      }
     },
     "81ebdd70389b4153b8063bafebf0089a": {
      "model_module": "@jupyter-widgets/controls",
      "model_module_version": "1.0.0",
      "model_name": "ProgressStyleModel",
      "state": {
       "description_width": ""
      }
     },
     "82721778a85d4da2885c6c1b0ec4fce2": {
      "model_module": "@jupyter-widgets/base",
      "model_module_version": "1.0.0",
      "model_name": "LayoutModel",
      "state": {}
     },
     "82e7fc93b1994d1a9687105b85d09541": {
      "model_module": "@jupyter-widgets/controls",
      "model_module_version": "1.0.0",
      "model_name": "ProgressStyleModel",
      "state": {
       "description_width": ""
      }
     },
     "82f60587950d47b29fdadf02323ced77": {
      "model_module": "@jupyter-widgets/controls",
      "model_module_version": "1.0.0",
      "model_name": "IntProgressModel",
      "state": {
       "bar_style": "info",
       "description": "results",
       "layout": "IPY_MODEL_e445158f33bf469e93dc9df263487251",
       "max": 1,
       "style": "IPY_MODEL_7bc72b5c824645b891263404a30dec83",
       "value": 1
      }
     },
     "8384d3d7f5714962a07314ce415c0718": {
      "model_module": "@jupyter-widgets/controls",
      "model_module_version": "1.0.0",
      "model_name": "ProgressStyleModel",
      "state": {
       "description_width": ""
      }
     },
     "84c8be52535944c08174c9d2a53427b5": {
      "model_module": "@jupyter-widgets/base",
      "model_module_version": "1.0.0",
      "model_name": "LayoutModel",
      "state": {}
     },
     "84cbd7d6cf52454cb5b8899e22dd56a0": {
      "model_module": "@jupyter-widgets/controls",
      "model_module_version": "1.0.0",
      "model_name": "HTMLModel",
      "state": {
       "layout": "IPY_MODEL_0e6269523f944c20ba9771b394bb1648",
       "style": "IPY_MODEL_c179e37d9d50451cbf30af8d9c1cfa1d",
       "value": "100it [00:00, 737.51it/s]"
      }
     },
     "84eff66a274745fb9d46335ba683ad9f": {
      "model_module": "@jupyter-widgets/controls",
      "model_module_version": "1.0.0",
      "model_name": "IntProgressModel",
      "state": {
       "bar_style": "info",
       "description": "results",
       "layout": "IPY_MODEL_b0f34968e99942d093a2ee84cf227743",
       "max": 1,
       "style": "IPY_MODEL_fb9379ee99db4c208c995393c595de2b",
       "value": 1
      }
     },
     "8515f16a3b5e416cb10617a4b996b392": {
      "model_module": "@jupyter-widgets/base",
      "model_module_version": "1.0.0",
      "model_name": "LayoutModel",
      "state": {}
     },
     "85ca5bd4603f44b8b5a56aab17d0e169": {
      "model_module": "@jupyter-widgets/controls",
      "model_module_version": "1.0.0",
      "model_name": "HTMLModel",
      "state": {
       "layout": "IPY_MODEL_7bd5fc9135c8434d8340f2fd0a6b3748",
       "style": "IPY_MODEL_4dd37da322a04678a4d51537d9a881fe",
       "value": "100it [00:00, 757.92it/s]"
      }
     },
     "86933bcfaaa04b61983d290f9df9f452": {
      "model_module": "@jupyter-widgets/base",
      "model_module_version": "1.0.0",
      "model_name": "LayoutModel",
      "state": {}
     },
     "877bf909d85e4e0c93dd760b58abf589": {
      "model_module": "@jupyter-widgets/base",
      "model_module_version": "1.0.0",
      "model_name": "LayoutModel",
      "state": {}
     },
     "88f6e35f7e1e45f2a7c4bcb1ff8b82b3": {
      "model_module": "@jupyter-widgets/controls",
      "model_module_version": "1.0.0",
      "model_name": "DescriptionStyleModel",
      "state": {
       "description_width": ""
      }
     },
     "89065a751d6c4882b686d42a93843fc4": {
      "model_module": "@jupyter-widgets/controls",
      "model_module_version": "1.0.0",
      "model_name": "HTMLModel",
      "state": {
       "layout": "IPY_MODEL_564125bc33484266a9197f078200259d",
       "style": "IPY_MODEL_a9f286ce61ec48268df065162d9bb97d",
       "value": "100it [00:00, 753.77it/s]"
      }
     },
     "89d65ddaa0134846816d57c4a03cb5e6": {
      "model_module": "@jupyter-widgets/base",
      "model_module_version": "1.0.0",
      "model_name": "LayoutModel",
      "state": {}
     },
     "8a5dcfd682bd4c5b8b70d65470ea0597": {
      "model_module": "@jupyter-widgets/controls",
      "model_module_version": "1.0.0",
      "model_name": "ProgressStyleModel",
      "state": {
       "description_width": ""
      }
     },
     "8a6d3ca9a24a4711ae2fae6109480400": {
      "model_module": "@jupyter-widgets/base",
      "model_module_version": "1.0.0",
      "model_name": "LayoutModel",
      "state": {}
     },
     "8b0739a4e39d4300ba37c2dd7e46b77c": {
      "model_module": "@jupyter-widgets/base",
      "model_module_version": "1.0.0",
      "model_name": "LayoutModel",
      "state": {}
     },
     "8b7dae70aec84bff93487ca50818e107": {
      "model_module": "@jupyter-widgets/base",
      "model_module_version": "1.0.0",
      "model_name": "LayoutModel",
      "state": {}
     },
     "8b7e235c61884105aa19c5907eaf3e86": {
      "model_module": "@jupyter-widgets/base",
      "model_module_version": "1.0.0",
      "model_name": "LayoutModel",
      "state": {}
     },
     "8c12afce63174fd9a23f0952b69d5648": {
      "model_module": "@jupyter-widgets/base",
      "model_module_version": "1.0.0",
      "model_name": "LayoutModel",
      "state": {}
     },
     "8cbcf532ddfd4a24b3abb590335d6ec0": {
      "model_module": "@jupyter-widgets/base",
      "model_module_version": "1.0.0",
      "model_name": "LayoutModel",
      "state": {}
     },
     "8d0a8c5cc3e041edbe96eb34086cefbe": {
      "model_module": "@jupyter-widgets/base",
      "model_module_version": "1.0.0",
      "model_name": "LayoutModel",
      "state": {}
     },
     "8d9faddb0f154d5ca85666fb2fabbf79": {
      "model_module": "@jupyter-widgets/base",
      "model_module_version": "1.0.0",
      "model_name": "LayoutModel",
      "state": {}
     },
     "8e2ac8dd622c4ea58aefad58e0bb41b7": {
      "model_module": "@jupyter-widgets/controls",
      "model_module_version": "1.0.0",
      "model_name": "ProgressStyleModel",
      "state": {
       "description_width": ""
      }
     },
     "8eb70f66eb71463eab2155d17d7e5fd0": {
      "model_module": "@jupyter-widgets/controls",
      "model_module_version": "1.0.0",
      "model_name": "ProgressStyleModel",
      "state": {
       "description_width": ""
      }
     },
     "8ebc3cc0a2024605b20061defa057013": {
      "model_module": "@jupyter-widgets/controls",
      "model_module_version": "1.0.0",
      "model_name": "DescriptionStyleModel",
      "state": {
       "description_width": ""
      }
     },
     "8ec0db0bba5f4863b464fb8823c5aa53": {
      "model_module": "@jupyter-widgets/base",
      "model_module_version": "1.0.0",
      "model_name": "LayoutModel",
      "state": {}
     },
     "8f3e95106a574652b6c9260d49ec2bcb": {
      "model_module": "@jupyter-widgets/controls",
      "model_module_version": "1.0.0",
      "model_name": "IntProgressModel",
      "state": {
       "bar_style": "info",
       "description": "results",
       "layout": "IPY_MODEL_02ecd60e59864c8cb65a8d3c26f153a4",
       "max": 1,
       "style": "IPY_MODEL_d12df6a127f64df6a64f037e8000e5c4",
       "value": 1
      }
     },
     "8f919846c4474474a2d80f674d6abe29": {
      "model_module": "@jupyter-widgets/controls",
      "model_module_version": "1.0.0",
      "model_name": "ProgressStyleModel",
      "state": {
       "description_width": ""
      }
     },
     "90005fac16544dc781c47f951e26b357": {
      "model_module": "@jupyter-widgets/controls",
      "model_module_version": "1.0.0",
      "model_name": "DescriptionStyleModel",
      "state": {
       "description_width": ""
      }
     },
     "903901b5852543e1952c163b244ef824": {
      "model_module": "@jupyter-widgets/controls",
      "model_module_version": "1.0.0",
      "model_name": "IntProgressModel",
      "state": {
       "bar_style": "info",
       "description": "results",
       "layout": "IPY_MODEL_167a52d109564fe2a1b2d4367f079142",
       "max": 1,
       "style": "IPY_MODEL_77364c53c7874c40bf8b2869a4bb33a9",
       "value": 1
      }
     },
     "90cd0a3088af4254a3362f18a81b6b6c": {
      "model_module": "@jupyter-widgets/base",
      "model_module_version": "1.0.0",
      "model_name": "LayoutModel",
      "state": {}
     },
     "90edd69097474447b6f1924a9299443d": {
      "model_module": "@jupyter-widgets/controls",
      "model_module_version": "1.0.0",
      "model_name": "IntProgressModel",
      "state": {
       "bar_style": "info",
       "description": "results",
       "layout": "IPY_MODEL_3cde6aec015a445e89b6b0e2c8512d11",
       "max": 1,
       "style": "IPY_MODEL_81ebdd70389b4153b8063bafebf0089a",
       "value": 1
      }
     },
     "9132dfe83dae436ba21d76e15c3cf4c6": {
      "model_module": "@jupyter-widgets/controls",
      "model_module_version": "1.0.0",
      "model_name": "HTMLModel",
      "state": {
       "layout": "IPY_MODEL_96ba5bb168914a2ead92966836e1c5fe",
       "style": "IPY_MODEL_0d7fd561cf314fbaa542533c936bd389",
       "value": "100it [00:00, 752.27it/s]"
      }
     },
     "919e4dd8e2b84cc9a4278d515790d7e4": {
      "model_module": "@jupyter-widgets/base",
      "model_module_version": "1.0.0",
      "model_name": "LayoutModel",
      "state": {}
     },
     "9219d0d27dcc4fdab276286b60fa17c1": {
      "model_module": "@jupyter-widgets/base",
      "model_module_version": "1.0.0",
      "model_name": "LayoutModel",
      "state": {}
     },
     "924dfcd0614c4534a6d76a7ec22f1423": {
      "model_module": "@jupyter-widgets/controls",
      "model_module_version": "1.0.0",
      "model_name": "HTMLModel",
      "state": {
       "layout": "IPY_MODEL_8a6d3ca9a24a4711ae2fae6109480400",
       "style": "IPY_MODEL_f2884a28a94b462b827c567d88ea48b3",
       "value": "100it [00:00, 721.73it/s]"
      }
     },
     "92fca37238574e919b64d1886d920284": {
      "model_module": "@jupyter-widgets/controls",
      "model_module_version": "1.0.0",
      "model_name": "HTMLModel",
      "state": {
       "layout": "IPY_MODEL_9f246cbbffc14fd4976aa9739e788bda",
       "style": "IPY_MODEL_2be07aeffbfa420caf246ec4c963c607",
       "value": "100it [00:00, 742.89it/s]"
      }
     },
     "93073dcb220648a4b0d5e990d2a00abb": {
      "model_module": "@jupyter-widgets/controls",
      "model_module_version": "1.0.0",
      "model_name": "ProgressStyleModel",
      "state": {
       "description_width": ""
      }
     },
     "93d083a2bf414b6987aa571148c7a2d3": {
      "model_module": "@jupyter-widgets/base",
      "model_module_version": "1.0.0",
      "model_name": "LayoutModel",
      "state": {}
     },
     "94e6698f126e4f518c18e150ec761b0c": {
      "model_module": "@jupyter-widgets/controls",
      "model_module_version": "1.0.0",
      "model_name": "DescriptionStyleModel",
      "state": {
       "description_width": ""
      }
     },
     "95399e0596014397a5acc95df1767881": {
      "model_module": "@jupyter-widgets/base",
      "model_module_version": "1.0.0",
      "model_name": "LayoutModel",
      "state": {}
     },
     "96058a6192124866b1ac41161fc07535": {
      "model_module": "@jupyter-widgets/controls",
      "model_module_version": "1.0.0",
      "model_name": "IntProgressModel",
      "state": {
       "bar_style": "info",
       "description": "dev 0",
       "layout": "IPY_MODEL_60423240f677442585133a2d7ec948d7",
       "max": 1,
       "style": "IPY_MODEL_dfb5b49c35804061b02d6257b2b6bf76",
       "value": 1
      }
     },
     "963e760b0e76485b9ee53c31125da99a": {
      "model_module": "@jupyter-widgets/controls",
      "model_module_version": "1.0.0",
      "model_name": "HTMLModel",
      "state": {
       "layout": "IPY_MODEL_486f7f3c4ebf4b919e01eb7d837bee7c",
       "style": "IPY_MODEL_7c3d6b472ac64de98b8bdaa998ae18a1",
       "value": "100it [00:00, 746.99it/s]"
      }
     },
     "9662e37c33f8408097384cf4f08fcd32": {
      "model_module": "@jupyter-widgets/controls",
      "model_module_version": "1.0.0",
      "model_name": "ProgressStyleModel",
      "state": {
       "description_width": ""
      }
     },
     "9676566d0c1943718c478b8e19af7a29": {
      "model_module": "@jupyter-widgets/controls",
      "model_module_version": "1.0.0",
      "model_name": "ProgressStyleModel",
      "state": {
       "description_width": ""
      }
     },
     "96ba5bb168914a2ead92966836e1c5fe": {
      "model_module": "@jupyter-widgets/base",
      "model_module_version": "1.0.0",
      "model_name": "LayoutModel",
      "state": {}
     },
     "96df4213877c426b86df1ee0672845d5": {
      "model_module": "@jupyter-widgets/controls",
      "model_module_version": "1.0.0",
      "model_name": "ProgressStyleModel",
      "state": {
       "description_width": ""
      }
     },
     "9823cc0776da4aaf85ee8f54d7d0c21f": {
      "model_module": "@jupyter-widgets/base",
      "model_module_version": "1.0.0",
      "model_name": "LayoutModel",
      "state": {}
     },
     "984e3375469243e48326cad04388c624": {
      "model_module": "@jupyter-widgets/controls",
      "model_module_version": "1.0.0",
      "model_name": "DescriptionStyleModel",
      "state": {
       "description_width": ""
      }
     },
     "9893fd6130e84762b8c1c78fd2cceae0": {
      "model_module": "@jupyter-widgets/controls",
      "model_module_version": "1.0.0",
      "model_name": "HTMLModel",
      "state": {
       "layout": "IPY_MODEL_0210d59622654213ac6b3928acd1f778",
       "style": "IPY_MODEL_467f7f79671f4861a217432324686901",
       "value": "100it [00:00, 669.81it/s]"
      }
     },
     "98c0a250bed84f1da2d612f2dab42aa2": {
      "model_module": "@jupyter-widgets/base",
      "model_module_version": "1.0.0",
      "model_name": "LayoutModel",
      "state": {}
     },
     "9a3f6ff9a9714c0db26d402cb04d7b32": {
      "model_module": "@jupyter-widgets/base",
      "model_module_version": "1.0.0",
      "model_name": "LayoutModel",
      "state": {}
     },
     "9a65247c9caa47fe878b8cf46e2d3dbe": {
      "model_module": "@jupyter-widgets/controls",
      "model_module_version": "1.0.0",
      "model_name": "DescriptionStyleModel",
      "state": {
       "description_width": ""
      }
     },
     "9a81d2b0fa0542d9a4aee03c0a313325": {
      "model_module": "@jupyter-widgets/controls",
      "model_module_version": "1.0.0",
      "model_name": "HTMLModel",
      "state": {
       "layout": "IPY_MODEL_1700907fd8af46e9bf8763a7f72df4dd",
       "style": "IPY_MODEL_f128ce3287cb496a97304b3e8353fae3",
       "value": "21974it [00:07, 2792.56it/s]"
      }
     },
     "9a8c2261b8664f08b7f539124a296443": {
      "model_module": "@jupyter-widgets/controls",
      "model_module_version": "1.0.0",
      "model_name": "IntProgressModel",
      "state": {
       "bar_style": "info",
       "description": "results",
       "layout": "IPY_MODEL_17550e2fb6d34db6a4e465d22913ea45",
       "max": 1,
       "style": "IPY_MODEL_a985f522d07148b8a4405bb702466cf3",
       "value": 1
      }
     },
     "9ab5c7eecc2f4351a2475268314fda93": {
      "model_module": "@jupyter-widgets/controls",
      "model_module_version": "1.0.0",
      "model_name": "DescriptionStyleModel",
      "state": {
       "description_width": ""
      }
     },
     "9b60b57d48154103aeffd7b83435e0a3": {
      "model_module": "@jupyter-widgets/base",
      "model_module_version": "1.0.0",
      "model_name": "LayoutModel",
      "state": {}
     },
     "9bc01e27e36040daa69d740df08db3fb": {
      "model_module": "@jupyter-widgets/controls",
      "model_module_version": "1.0.0",
      "model_name": "HTMLModel",
      "state": {
       "layout": "IPY_MODEL_9b60b57d48154103aeffd7b83435e0a3",
       "style": "IPY_MODEL_33df291b758744e3880c758ebf8d2f14",
       "value": "21974it [00:08, 2797.02it/s]"
      }
     },
     "9bdd287e2a234adba902ad397314029b": {
      "model_module": "@jupyter-widgets/base",
      "model_module_version": "1.0.0",
      "model_name": "LayoutModel",
      "state": {}
     },
     "9c0baf47ef8341599df1c360ba1d3b7a": {
      "model_module": "@jupyter-widgets/base",
      "model_module_version": "1.0.0",
      "model_name": "LayoutModel",
      "state": {}
     },
     "9d14a2230bec4c4bbe7868d2944bc9c4": {
      "model_module": "@jupyter-widgets/base",
      "model_module_version": "1.0.0",
      "model_name": "LayoutModel",
      "state": {}
     },
     "9d30d002058843f3a20bf20c612e1ff9": {
      "model_module": "@jupyter-widgets/base",
      "model_module_version": "1.0.0",
      "model_name": "LayoutModel",
      "state": {}
     },
     "9de1b3f5ff1149e4a8bcb9a342e64882": {
      "model_module": "@jupyter-widgets/base",
      "model_module_version": "1.0.0",
      "model_name": "LayoutModel",
      "state": {}
     },
     "9e3b9892c890404faa78f2677d53b3f6": {
      "model_module": "@jupyter-widgets/controls",
      "model_module_version": "1.0.0",
      "model_name": "IntProgressModel",
      "state": {
       "bar_style": "info",
       "description": "results",
       "layout": "IPY_MODEL_eef2c6d2a4f54b9ebbba9adbbc977ae7",
       "max": 1,
       "style": "IPY_MODEL_cd5daef562ec47ae9ca8c7c76daebd32",
       "value": 1
      }
     },
     "9eefa8dfbf484b219932792f29792821": {
      "model_module": "@jupyter-widgets/controls",
      "model_module_version": "1.0.0",
      "model_name": "HTMLModel",
      "state": {
       "layout": "IPY_MODEL_f8457dfee030476194dbd693fcd00332",
       "style": "IPY_MODEL_5fe818bf5d4d4e7183e4b4d26811c527",
       "value": "100it [00:00, 746.79it/s]"
      }
     },
     "9f246cbbffc14fd4976aa9739e788bda": {
      "model_module": "@jupyter-widgets/base",
      "model_module_version": "1.0.0",
      "model_name": "LayoutModel",
      "state": {}
     },
     "9f3f9707173d4b05be00f113c0abb202": {
      "model_module": "@jupyter-widgets/controls",
      "model_module_version": "1.0.0",
      "model_name": "DescriptionStyleModel",
      "state": {
       "description_width": ""
      }
     },
     "9fa7a89d643f4225926f0f6d4a58258b": {
      "model_module": "@jupyter-widgets/controls",
      "model_module_version": "1.0.0",
      "model_name": "IntProgressModel",
      "state": {
       "bar_style": "info",
       "description": "results",
       "layout": "IPY_MODEL_adcbf6e7bbcb4dcbbaa56dceb2cfb057",
       "max": 1,
       "style": "IPY_MODEL_cfde4fcb7b86459dbe9a91b60d23f3fd",
       "value": 1
      }
     },
     "a15a9a4ffa644e219e4c39d13b89fdfc": {
      "model_module": "@jupyter-widgets/controls",
      "model_module_version": "1.0.0",
      "model_name": "ProgressStyleModel",
      "state": {
       "description_width": ""
      }
     },
     "a1a652c05c734bbdb89bf7893a35d532": {
      "model_module": "@jupyter-widgets/controls",
      "model_module_version": "1.0.0",
      "model_name": "ProgressStyleModel",
      "state": {
       "description_width": ""
      }
     },
     "a304c7c805054de39219fb4535322840": {
      "model_module": "@jupyter-widgets/controls",
      "model_module_version": "1.0.0",
      "model_name": "ProgressStyleModel",
      "state": {
       "description_width": ""
      }
     },
     "a305a735ea28499ca3e701fc6eb12362": {
      "model_module": "@jupyter-widgets/controls",
      "model_module_version": "1.0.0",
      "model_name": "HTMLModel",
      "state": {
       "layout": "IPY_MODEL_b313386ea7d443b8b8f9c2d5ef1f3fc5",
       "style": "IPY_MODEL_4a854f1ba46f498a909681fd68fc1ba2",
       "value": "100it [00:00, 749.13it/s]"
      }
     },
     "a312b922134a43a5a2a34ab6eafe9190": {
      "model_module": "@jupyter-widgets/controls",
      "model_module_version": "1.0.0",
      "model_name": "ProgressStyleModel",
      "state": {
       "description_width": ""
      }
     },
     "a3b4c8e4ec49480d97cb2c3b33bd4006": {
      "model_module": "@jupyter-widgets/controls",
      "model_module_version": "1.0.0",
      "model_name": "DescriptionStyleModel",
      "state": {
       "description_width": ""
      }
     },
     "a49856c3f6a0434b857ca6935cc96835": {
      "model_module": "@jupyter-widgets/base",
      "model_module_version": "1.0.0",
      "model_name": "LayoutModel",
      "state": {}
     },
     "a4b61c3254144860a60d3c1dc514a2d6": {
      "model_module": "@jupyter-widgets/base",
      "model_module_version": "1.0.0",
      "model_name": "LayoutModel",
      "state": {}
     },
     "a519940974754dcf842b46786f9b4488": {
      "model_module": "@jupyter-widgets/controls",
      "model_module_version": "1.0.0",
      "model_name": "HTMLModel",
      "state": {
       "layout": "IPY_MODEL_15cc542bf8554769abe5deb8129e6ed6",
       "style": "IPY_MODEL_6f8c0651979444aa891caf9536db43d1",
       "value": "100it [00:00, 734.09it/s]"
      }
     },
     "a54e1e263f3e44a789da015e7d890c2e": {
      "model_module": "@jupyter-widgets/base",
      "model_module_version": "1.0.0",
      "model_name": "LayoutModel",
      "state": {}
     },
     "a58807cf62224ea581238e81fe2fe1ef": {
      "model_module": "@jupyter-widgets/base",
      "model_module_version": "1.0.0",
      "model_name": "LayoutModel",
      "state": {}
     },
     "a5cd7de0a9bc46d892aaba885e9cbbef": {
      "model_module": "@jupyter-widgets/base",
      "model_module_version": "1.0.0",
      "model_name": "LayoutModel",
      "state": {}
     },
     "a6e8860faf1c4e26a858d70dc7d91aa7": {
      "model_module": "@jupyter-widgets/controls",
      "model_module_version": "1.0.0",
      "model_name": "DescriptionStyleModel",
      "state": {
       "description_width": ""
      }
     },
     "a70ae684a0764677b75f266b3179ccc3": {
      "model_module": "@jupyter-widgets/controls",
      "model_module_version": "1.0.0",
      "model_name": "DescriptionStyleModel",
      "state": {
       "description_width": ""
      }
     },
     "a724b51b9ed1461eb193c24907f10899": {
      "model_module": "@jupyter-widgets/controls",
      "model_module_version": "1.0.0",
      "model_name": "HTMLModel",
      "state": {
       "layout": "IPY_MODEL_b05489f490f043308526093077142432",
       "style": "IPY_MODEL_24c6d5a97c43430995148384612db7a3",
       "value": "100it [00:00, 745.04it/s]"
      }
     },
     "a7bc813103314e9a848e043c136a39d0": {
      "model_module": "@jupyter-widgets/controls",
      "model_module_version": "1.0.0",
      "model_name": "ProgressStyleModel",
      "state": {
       "description_width": ""
      }
     },
     "a7c3af2c8d1d428192eb66012e922c25": {
      "model_module": "@jupyter-widgets/controls",
      "model_module_version": "1.0.0",
      "model_name": "DescriptionStyleModel",
      "state": {
       "description_width": ""
      }
     },
     "a7d5fa21afaa4f389f3e31d6002eb3a6": {
      "model_module": "@jupyter-widgets/controls",
      "model_module_version": "1.0.0",
      "model_name": "DescriptionStyleModel",
      "state": {
       "description_width": ""
      }
     },
     "a7fd65208c14494f901519997be4d38f": {
      "model_module": "@jupyter-widgets/controls",
      "model_module_version": "1.0.0",
      "model_name": "HTMLModel",
      "state": {
       "layout": "IPY_MODEL_692bf4df145c4c799b47f8feb89161a6",
       "style": "IPY_MODEL_50b685d42fa94584bd3dd1df0ccf5577",
       "value": "724833it [10:17, 1166.93it/s]"
      }
     },
     "a943c3afeb294931b9072fb62dcb6548": {
      "model_module": "@jupyter-widgets/controls",
      "model_module_version": "1.0.0",
      "model_name": "DescriptionStyleModel",
      "state": {
       "description_width": ""
      }
     },
     "a985f522d07148b8a4405bb702466cf3": {
      "model_module": "@jupyter-widgets/controls",
      "model_module_version": "1.0.0",
      "model_name": "ProgressStyleModel",
      "state": {
       "description_width": ""
      }
     },
     "a9f286ce61ec48268df065162d9bb97d": {
      "model_module": "@jupyter-widgets/controls",
      "model_module_version": "1.0.0",
      "model_name": "DescriptionStyleModel",
      "state": {
       "description_width": ""
      }
     },
     "aa7c9c3b24ad4aa89fbfb65e0871ece4": {
      "model_module": "@jupyter-widgets/base",
      "model_module_version": "1.0.0",
      "model_name": "LayoutModel",
      "state": {}
     },
     "adcbf6e7bbcb4dcbbaa56dceb2cfb057": {
      "model_module": "@jupyter-widgets/base",
      "model_module_version": "1.0.0",
      "model_name": "LayoutModel",
      "state": {}
     },
     "aec680c22b6f458f8df109f2b482d85f": {
      "model_module": "@jupyter-widgets/controls",
      "model_module_version": "1.0.0",
      "model_name": "ProgressStyleModel",
      "state": {
       "description_width": ""
      }
     },
     "aee16454be5343348500d4d46ba22643": {
      "model_module": "@jupyter-widgets/base",
      "model_module_version": "1.0.0",
      "model_name": "LayoutModel",
      "state": {}
     },
     "afd0baae4086498ab6de8953fd5cc8e7": {
      "model_module": "@jupyter-widgets/base",
      "model_module_version": "1.0.0",
      "model_name": "LayoutModel",
      "state": {}
     },
     "b05489f490f043308526093077142432": {
      "model_module": "@jupyter-widgets/base",
      "model_module_version": "1.0.0",
      "model_name": "LayoutModel",
      "state": {}
     },
     "b07b49dfc81a4900a1787d40d050b517": {
      "model_module": "@jupyter-widgets/controls",
      "model_module_version": "1.0.0",
      "model_name": "HTMLModel",
      "state": {
       "layout": "IPY_MODEL_82721778a85d4da2885c6c1b0ec4fce2",
       "style": "IPY_MODEL_6c99841fbcd1457f952de863d4d7367e",
       "value": "100it [00:00, 752.78it/s]"
      }
     },
     "b07ea96ec5004a54aefd92b4b9489d82": {
      "model_module": "@jupyter-widgets/controls",
      "model_module_version": "1.0.0",
      "model_name": "DescriptionStyleModel",
      "state": {
       "description_width": ""
      }
     },
     "b0dc617da2f54f3abc486305c84a3a9c": {
      "model_module": "@jupyter-widgets/base",
      "model_module_version": "1.0.0",
      "model_name": "LayoutModel",
      "state": {}
     },
     "b0e5f849a5974a1ebef4fa9bf0cd1915": {
      "model_module": "@jupyter-widgets/controls",
      "model_module_version": "1.0.0",
      "model_name": "HTMLModel",
      "state": {
       "layout": "IPY_MODEL_54c520dd6d95404d8718915130421eaf",
       "style": "IPY_MODEL_30b77032fd014f6eb4c991c6ce321af8",
       "value": "100it [00:00, 728.53it/s]"
      }
     },
     "b0f34968e99942d093a2ee84cf227743": {
      "model_module": "@jupyter-widgets/base",
      "model_module_version": "1.0.0",
      "model_name": "LayoutModel",
      "state": {}
     },
     "b1e0fdbe193b49908f2abe3f52cbaf7d": {
      "model_module": "@jupyter-widgets/controls",
      "model_module_version": "1.0.0",
      "model_name": "IntProgressModel",
      "state": {
       "bar_style": "info",
       "description": "dev 2",
       "layout": "IPY_MODEL_de3393d2055c4b9382bbd6978dab3804",
       "max": 1,
       "style": "IPY_MODEL_dbee44633da8422d89b5011ed9ee7a4d",
       "value": 1
      }
     },
     "b2750894e2a54c50b66290bcf9ba4507": {
      "model_module": "@jupyter-widgets/controls",
      "model_module_version": "1.0.0",
      "model_name": "ProgressStyleModel",
      "state": {
       "description_width": ""
      }
     },
     "b29d2de306da4448bff45faaf0e2d70b": {
      "model_module": "@jupyter-widgets/controls",
      "model_module_version": "1.0.0",
      "model_name": "DescriptionStyleModel",
      "state": {
       "description_width": ""
      }
     },
     "b29e7cad7d9147b49e9e8781a7188245": {
      "model_module": "@jupyter-widgets/controls",
      "model_module_version": "1.0.0",
      "model_name": "HTMLModel",
      "state": {
       "layout": "IPY_MODEL_f51d22842f6e4a98a71945ff026d567c",
       "style": "IPY_MODEL_a6e8860faf1c4e26a858d70dc7d91aa7",
       "value": "100it [00:00, 679.97it/s]"
      }
     },
     "b313386ea7d443b8b8f9c2d5ef1f3fc5": {
      "model_module": "@jupyter-widgets/base",
      "model_module_version": "1.0.0",
      "model_name": "LayoutModel",
      "state": {}
     },
     "b339e7a46ba0494ba2f16264e75e5591": {
      "model_module": "@jupyter-widgets/base",
      "model_module_version": "1.0.0",
      "model_name": "LayoutModel",
      "state": {}
     },
     "b37ff57de98242cd8e7158e94eb79df4": {
      "model_module": "@jupyter-widgets/base",
      "model_module_version": "1.0.0",
      "model_name": "LayoutModel",
      "state": {}
     },
     "b449ffe34b0941cfb68ed7fbc4ec8b85": {
      "model_module": "@jupyter-widgets/controls",
      "model_module_version": "1.0.0",
      "model_name": "IntProgressModel",
      "state": {
       "bar_style": "info",
       "description": "dev 2",
       "layout": "IPY_MODEL_e1d0947ca41541649ab12d6f5a849019",
       "max": 1,
       "style": "IPY_MODEL_17f67c527f684c19b09070db4ad2581a",
       "value": 1
      }
     },
     "b44f74e86f57445b8ec1838ca84e5e92": {
      "model_module": "@jupyter-widgets/base",
      "model_module_version": "1.0.0",
      "model_name": "LayoutModel",
      "state": {}
     },
     "b47e19f5a115490f82f0f2fcd990cbaa": {
      "model_module": "@jupyter-widgets/base",
      "model_module_version": "1.0.0",
      "model_name": "LayoutModel",
      "state": {}
     },
     "b487d6f842334600bf8e37085a2e1006": {
      "model_module": "@jupyter-widgets/base",
      "model_module_version": "1.0.0",
      "model_name": "LayoutModel",
      "state": {}
     },
     "b49c3c701ca44a0b8e872ae094152383": {
      "model_module": "@jupyter-widgets/controls",
      "model_module_version": "1.0.0",
      "model_name": "ProgressStyleModel",
      "state": {
       "description_width": ""
      }
     },
     "b519e69e44264dc8a24b320ab9fd194b": {
      "model_module": "@jupyter-widgets/controls",
      "model_module_version": "1.0.0",
      "model_name": "ProgressStyleModel",
      "state": {
       "description_width": ""
      }
     },
     "b5cfa564d5454daf8f07c85e40499ec1": {
      "model_module": "@jupyter-widgets/controls",
      "model_module_version": "1.0.0",
      "model_name": "IntProgressModel",
      "state": {
       "bar_style": "info",
       "description": "results",
       "layout": "IPY_MODEL_98c0a250bed84f1da2d612f2dab42aa2",
       "max": 1,
       "style": "IPY_MODEL_17291f30f6f1423c837855bf05e10d02",
       "value": 1
      }
     },
     "b5eaa17dcb8741249fa75401a4ce03d4": {
      "model_module": "@jupyter-widgets/base",
      "model_module_version": "1.0.0",
      "model_name": "LayoutModel",
      "state": {}
     },
     "b6467ce85da94233be4485d199c71af0": {
      "model_module": "@jupyter-widgets/base",
      "model_module_version": "1.0.0",
      "model_name": "LayoutModel",
      "state": {}
     },
     "b66d110ff59543809663cd9b6c37cac6": {
      "model_module": "@jupyter-widgets/controls",
      "model_module_version": "1.0.0",
      "model_name": "IntProgressModel",
      "state": {
       "bar_style": "info",
       "description": "results",
       "layout": "IPY_MODEL_c594212f05bd4c5f99d2635cadb0693c",
       "max": 1,
       "style": "IPY_MODEL_52314938b23e414aacd70ab1f0a59c21",
       "value": 1
      }
     },
     "b688319559ba4e3d8e134f2809960f18": {
      "model_module": "@jupyter-widgets/controls",
      "model_module_version": "1.0.0",
      "model_name": "ProgressStyleModel",
      "state": {
       "description_width": ""
      }
     },
     "b7dd3ffe4c58495592e6ebc92d5df682": {
      "model_module": "@jupyter-widgets/controls",
      "model_module_version": "1.0.0",
      "model_name": "IntProgressModel",
      "state": {
       "bar_style": "info",
       "description": "results",
       "layout": "IPY_MODEL_6d2a69c3519a405aa32625b496dd862e",
       "max": 1,
       "style": "IPY_MODEL_7df4c92c4d0a48d38a7a6a500b378a44",
       "value": 1
      }
     },
     "b7f66ccf5abd4ece9dc0a98cf8a803bb": {
      "model_module": "@jupyter-widgets/controls",
      "model_module_version": "1.0.0",
      "model_name": "IntProgressModel",
      "state": {
       "bar_style": "info",
       "description": "results",
       "layout": "IPY_MODEL_ec52e021e7b44774ab54f6338bafa98b",
       "max": 1,
       "style": "IPY_MODEL_688888036c2c460aa44bed0ebb9a2858",
       "value": 1
      }
     },
     "b86aa6524dc745dab20a7043427e7b42": {
      "model_module": "@jupyter-widgets/controls",
      "model_module_version": "1.0.0",
      "model_name": "HTMLModel",
      "state": {
       "layout": "IPY_MODEL_1b7fdd574dec496bacb95e4183f4aeaa",
       "style": "IPY_MODEL_8ebc3cc0a2024605b20061defa057013",
       "value": "49152it [00:50, 1637.55it/s]"
      }
     },
     "b9d38640f9ba4bdf8853b9f7b452dc92": {
      "model_module": "@jupyter-widgets/base",
      "model_module_version": "1.0.0",
      "model_name": "LayoutModel",
      "state": {}
     },
     "ba8516501236492a8c13ea6861754e49": {
      "model_module": "@jupyter-widgets/base",
      "model_module_version": "1.0.0",
      "model_name": "LayoutModel",
      "state": {}
     },
     "ba931e8496d24e0a9f0c0cc35b5a9ebf": {
      "model_module": "@jupyter-widgets/controls",
      "model_module_version": "1.0.0",
      "model_name": "ProgressStyleModel",
      "state": {
       "description_width": ""
      }
     },
     "baef80ce3b7949ed8b97a8defa52a02c": {
      "model_module": "@jupyter-widgets/controls",
      "model_module_version": "1.0.0",
      "model_name": "IntProgressModel",
      "state": {
       "bar_style": "info",
       "description": "train 0",
       "layout": "IPY_MODEL_90cd0a3088af4254a3362f18a81b6b6c",
       "max": 1,
       "style": "IPY_MODEL_9676566d0c1943718c478b8e19af7a29",
       "value": 1
      }
     },
     "bbb4b2a1ac5c4f52b29cc5eaca49d92d": {
      "model_module": "@jupyter-widgets/controls",
      "model_module_version": "1.0.0",
      "model_name": "DescriptionStyleModel",
      "state": {
       "description_width": ""
      }
     },
     "bbc3e592798746ad905365005f20bcf1": {
      "model_module": "@jupyter-widgets/base",
      "model_module_version": "1.0.0",
      "model_name": "LayoutModel",
      "state": {}
     },
     "bbccd65a7fbd4f31a01e542c8fea4266": {
      "model_module": "@jupyter-widgets/controls",
      "model_module_version": "1.0.0",
      "model_name": "IntProgressModel",
      "state": {
       "bar_style": "info",
       "description": "results",
       "layout": "IPY_MODEL_cdb7d39782104b08be68d0e14c191b99",
       "max": 1,
       "style": "IPY_MODEL_93073dcb220648a4b0d5e990d2a00abb",
       "value": 1
      }
     },
     "bc1ad4a6b8a94e6cb0a5dcf1f13fa02f": {
      "model_module": "@jupyter-widgets/controls",
      "model_module_version": "1.0.0",
      "model_name": "IntProgressModel",
      "state": {
       "bar_style": "info",
       "description": "results",
       "layout": "IPY_MODEL_c9f75d5aa6cf4c97b6505c2a88f60c7f",
       "max": 1,
       "style": "IPY_MODEL_da339b81e1ea488a9812009a2ae2acc9",
       "value": 1
      }
     },
     "bd3f898a8286442f8fbc7d0df9591594": {
      "model_module": "@jupyter-widgets/controls",
      "model_module_version": "1.0.0",
      "model_name": "IntProgressModel",
      "state": {
       "bar_style": "info",
       "description": "train 3",
       "layout": "IPY_MODEL_62731ba2c6ff4d4091af28dfe82f9855",
       "max": 1,
       "style": "IPY_MODEL_a304c7c805054de39219fb4535322840",
       "value": 1
      }
     },
     "bd6b85f91ac4457f9fe7064274755373": {
      "model_module": "@jupyter-widgets/controls",
      "model_module_version": "1.0.0",
      "model_name": "DescriptionStyleModel",
      "state": {
       "description_width": ""
      }
     },
     "bdc0eae377a4424b8e03eb0c6bdb0f15": {
      "model_module": "@jupyter-widgets/base",
      "model_module_version": "1.0.0",
      "model_name": "LayoutModel",
      "state": {}
     },
     "be6ac6e2d2a54382b81911a89a21c9b1": {
      "model_module": "@jupyter-widgets/base",
      "model_module_version": "1.0.0",
      "model_name": "LayoutModel",
      "state": {}
     },
     "be8d25a0c5f3497696512b183686f205": {
      "model_module": "@jupyter-widgets/base",
      "model_module_version": "1.0.0",
      "model_name": "LayoutModel",
      "state": {}
     },
     "bf94891ac0c04be094a1d600cec83ed1": {
      "model_module": "@jupyter-widgets/base",
      "model_module_version": "1.0.0",
      "model_name": "LayoutModel",
      "state": {}
     },
     "bfddc0e14bb7468b8e1dca664155b08b": {
      "model_module": "@jupyter-widgets/controls",
      "model_module_version": "1.0.0",
      "model_name": "HTMLModel",
      "state": {
       "layout": "IPY_MODEL_27408406c3584ae9aede0fac5dcc241b",
       "style": "IPY_MODEL_c91f5a274c2a4298bc6e776118112776",
       "value": "100it [00:00, 718.52it/s]"
      }
     },
     "c0fde1c335474188af4762fd6ad6a879": {
      "model_module": "@jupyter-widgets/controls",
      "model_module_version": "1.0.0",
      "model_name": "DescriptionStyleModel",
      "state": {
       "description_width": ""
      }
     },
     "c1084d3b7c7349e88ae6691f97a2cb50": {
      "model_module": "@jupyter-widgets/controls",
      "model_module_version": "1.0.0",
      "model_name": "DescriptionStyleModel",
      "state": {
       "description_width": ""
      }
     },
     "c10c62f4a25645e3bdab93ba68bdff74": {
      "model_module": "@jupyter-widgets/base",
      "model_module_version": "1.0.0",
      "model_name": "LayoutModel",
      "state": {}
     },
     "c12dbb712c244344b733dbaa9f9bd7d2": {
      "model_module": "@jupyter-widgets/base",
      "model_module_version": "1.0.0",
      "model_name": "LayoutModel",
      "state": {}
     },
     "c144c6a900cb499187e50160fe8e9531": {
      "model_module": "@jupyter-widgets/base",
      "model_module_version": "1.0.0",
      "model_name": "LayoutModel",
      "state": {}
     },
     "c15eb92be4dd40d88e23892d93f4a320": {
      "model_module": "@jupyter-widgets/base",
      "model_module_version": "1.0.0",
      "model_name": "LayoutModel",
      "state": {}
     },
     "c179e37d9d50451cbf30af8d9c1cfa1d": {
      "model_module": "@jupyter-widgets/controls",
      "model_module_version": "1.0.0",
      "model_name": "DescriptionStyleModel",
      "state": {
       "description_width": ""
      }
     },
     "c2a8fa748c7b4162b74b2ebfed8c5980": {
      "model_module": "@jupyter-widgets/controls",
      "model_module_version": "1.0.0",
      "model_name": "IntProgressModel",
      "state": {
       "bar_style": "info",
       "description": "results",
       "layout": "IPY_MODEL_400625aa80fe4f968de97b96d5ddc18c",
       "max": 1,
       "style": "IPY_MODEL_153e294a8141496bb08c2af096a580fb",
       "value": 1
      }
     },
     "c2c06db9c20c4f8fa6a9f75b7c0ddc15": {
      "model_module": "@jupyter-widgets/base",
      "model_module_version": "1.0.0",
      "model_name": "LayoutModel",
      "state": {}
     },
     "c32d47f5754e4f17b366657c09853191": {
      "model_module": "@jupyter-widgets/controls",
      "model_module_version": "1.0.0",
      "model_name": "IntProgressModel",
      "state": {
       "bar_style": "info",
       "description": "results",
       "layout": "IPY_MODEL_7ce0c10bcf62438cbeb5016cfdf44526",
       "max": 1,
       "style": "IPY_MODEL_07b9c75922dd48cfbf81d9956193613c",
       "value": 1
      }
     },
     "c34e2c16a46643998c7e357e3e4904f2": {
      "model_module": "@jupyter-widgets/base",
      "model_module_version": "1.0.0",
      "model_name": "LayoutModel",
      "state": {}
     },
     "c356cc6fa3f7476fab874b337f7a7645": {
      "model_module": "@jupyter-widgets/controls",
      "model_module_version": "1.0.0",
      "model_name": "DescriptionStyleModel",
      "state": {
       "description_width": ""
      }
     },
     "c35eca344a7f4d478682dc9c917f6fd5": {
      "model_module": "@jupyter-widgets/controls",
      "model_module_version": "1.0.0",
      "model_name": "DescriptionStyleModel",
      "state": {
       "description_width": ""
      }
     },
     "c367b5cf38b34e7f8f9d5849f30aca34": {
      "model_module": "@jupyter-widgets/base",
      "model_module_version": "1.0.0",
      "model_name": "LayoutModel",
      "state": {}
     },
     "c3752b72f275424c9291fcaea18ef70b": {
      "model_module": "@jupyter-widgets/controls",
      "model_module_version": "1.0.0",
      "model_name": "ProgressStyleModel",
      "state": {
       "description_width": ""
      }
     },
     "c409cd6de3f443a2ab404c4f7883af07": {
      "model_module": "@jupyter-widgets/base",
      "model_module_version": "1.0.0",
      "model_name": "LayoutModel",
      "state": {}
     },
     "c4828ffb0cde4f7fa6b5bac30a2a4db4": {
      "model_module": "@jupyter-widgets/controls",
      "model_module_version": "1.0.0",
      "model_name": "IntProgressModel",
      "state": {
       "bar_style": "info",
       "description": "train 0",
       "layout": "IPY_MODEL_36e72326d2cf482d90724abd4b80e885",
       "max": 1,
       "style": "IPY_MODEL_0dfcd047755b4ec88eeedc939fa3aa08",
       "value": 1
      }
     },
     "c4c152b7fc424f88b9df22faa19186ca": {
      "model_module": "@jupyter-widgets/controls",
      "model_module_version": "1.0.0",
      "model_name": "DescriptionStyleModel",
      "state": {
       "description_width": ""
      }
     },
     "c5361696ad824349b961d982d1789772": {
      "model_module": "@jupyter-widgets/base",
      "model_module_version": "1.0.0",
      "model_name": "LayoutModel",
      "state": {}
     },
     "c594212f05bd4c5f99d2635cadb0693c": {
      "model_module": "@jupyter-widgets/base",
      "model_module_version": "1.0.0",
      "model_name": "LayoutModel",
      "state": {}
     },
     "c5c638c4297d4bb7afde95d86f3b67b9": {
      "model_module": "@jupyter-widgets/base",
      "model_module_version": "1.0.0",
      "model_name": "LayoutModel",
      "state": {}
     },
     "c5e7374f716847a5907578cda686d6bf": {
      "model_module": "@jupyter-widgets/base",
      "model_module_version": "1.0.0",
      "model_name": "LayoutModel",
      "state": {}
     },
     "c61056b3847b478eb6dffb48c2363125": {
      "model_module": "@jupyter-widgets/base",
      "model_module_version": "1.0.0",
      "model_name": "LayoutModel",
      "state": {}
     },
     "c652a35924f44fc49692778dc104f621": {
      "model_module": "@jupyter-widgets/controls",
      "model_module_version": "1.0.0",
      "model_name": "IntProgressModel",
      "state": {
       "bar_style": "info",
       "description": "results",
       "layout": "IPY_MODEL_f6bf30ece02d4dca91e7848d7c2eb50a",
       "max": 1,
       "style": "IPY_MODEL_579e43fb2ad348669d3a8e5d1e4c29f5",
       "value": 1
      }
     },
     "c66c96983de441b3934799a5cfc6adef": {
      "model_module": "@jupyter-widgets/base",
      "model_module_version": "1.0.0",
      "model_name": "LayoutModel",
      "state": {}
     },
     "c737be46ae2041d69a2bd97e95084926": {
      "model_module": "@jupyter-widgets/controls",
      "model_module_version": "1.0.0",
      "model_name": "HTMLModel",
      "state": {
       "layout": "IPY_MODEL_106114666a564730a1cfb80615ad727d",
       "style": "IPY_MODEL_e97a7f84c4f94955aebd0179c42d3565",
       "value": "21974it [00:07, 2798.03it/s]"
      }
     },
     "c75593318bf04577953569b60889bd3a": {
      "model_module": "@jupyter-widgets/controls",
      "model_module_version": "1.0.0",
      "model_name": "HTMLModel",
      "state": {
       "layout": "IPY_MODEL_512ada087bbf4671aad9f8ba7c2ae852",
       "style": "IPY_MODEL_2763aa393bf542b0b4cda3090d1d6ded",
       "value": "100it [00:00, 756.26it/s]"
      }
     },
     "c7f55158f110487a87a79c12c43d7508": {
      "model_module": "@jupyter-widgets/controls",
      "model_module_version": "1.0.0",
      "model_name": "HTMLModel",
      "state": {
       "layout": "IPY_MODEL_1336f08f7ba74d9294cc87c36b409c2f",
       "style": "IPY_MODEL_6f5bb0256b27415d8957d34cf2526613",
       "value": "100it [00:00, 734.75it/s]"
      }
     },
     "c8103a18cb624df0b5d715e9a88024ef": {
      "model_module": "@jupyter-widgets/controls",
      "model_module_version": "1.0.0",
      "model_name": "DescriptionStyleModel",
      "state": {
       "description_width": ""
      }
     },
     "c870fe03c6ca4745a354f95a376e2878": {
      "model_module": "@jupyter-widgets/base",
      "model_module_version": "1.0.0",
      "model_name": "LayoutModel",
      "state": {}
     },
     "c910c3677aa9484ea2cf3cb222bfa710": {
      "model_module": "@jupyter-widgets/controls",
      "model_module_version": "1.0.0",
      "model_name": "ProgressStyleModel",
      "state": {
       "description_width": ""
      }
     },
     "c91f5a274c2a4298bc6e776118112776": {
      "model_module": "@jupyter-widgets/controls",
      "model_module_version": "1.0.0",
      "model_name": "DescriptionStyleModel",
      "state": {
       "description_width": ""
      }
     },
     "c933fc7bc12d4981b68252add101ff7d": {
      "model_module": "@jupyter-widgets/base",
      "model_module_version": "1.0.0",
      "model_name": "LayoutModel",
      "state": {}
     },
     "c9780ff269b24969a8d9aea4726ddfaa": {
      "model_module": "@jupyter-widgets/base",
      "model_module_version": "1.0.0",
      "model_name": "LayoutModel",
      "state": {}
     },
     "c9b7aaa1aaa34d8ea7c27b0d3129176f": {
      "model_module": "@jupyter-widgets/controls",
      "model_module_version": "1.0.0",
      "model_name": "HTMLModel",
      "state": {
       "layout": "IPY_MODEL_234e519cd2044120b9003c37935d2d6f",
       "style": "IPY_MODEL_c8103a18cb624df0b5d715e9a88024ef",
       "value": "100it [00:00, 734.29it/s]"
      }
     },
     "c9d92e9211c7459e8681f7763b9c9967": {
      "model_module": "@jupyter-widgets/base",
      "model_module_version": "1.0.0",
      "model_name": "LayoutModel",
      "state": {}
     },
     "c9f75d5aa6cf4c97b6505c2a88f60c7f": {
      "model_module": "@jupyter-widgets/base",
      "model_module_version": "1.0.0",
      "model_name": "LayoutModel",
      "state": {}
     },
     "c9f90685f135401e92190a17cea5f656": {
      "model_module": "@jupyter-widgets/controls",
      "model_module_version": "1.0.0",
      "model_name": "HTMLModel",
      "state": {
       "layout": "IPY_MODEL_4d9d995eb2254880b1d0a69441fadfa7",
       "style": "IPY_MODEL_cde456fce72f425f96160bfc9c2a91e6",
       "value": "100it [00:00, 717.37it/s]"
      }
     },
     "c9fd59997a3a429cb9bea3538666f2f2": {
      "model_module": "@jupyter-widgets/base",
      "model_module_version": "1.0.0",
      "model_name": "LayoutModel",
      "state": {}
     },
     "caa753a44f3047f181f3cf7e9054d42d": {
      "model_module": "@jupyter-widgets/base",
      "model_module_version": "1.0.0",
      "model_name": "LayoutModel",
      "state": {}
     },
     "cb12d95349714b55852f024aac37bace": {
      "model_module": "@jupyter-widgets/controls",
      "model_module_version": "1.0.0",
      "model_name": "ProgressStyleModel",
      "state": {
       "description_width": ""
      }
     },
     "cb8f005f0f774fc491deb8a8bb9b2cda": {
      "model_module": "@jupyter-widgets/base",
      "model_module_version": "1.0.0",
      "model_name": "LayoutModel",
      "state": {}
     },
     "cbd669a29a564fe7a426191a0fd09a9f": {
      "model_module": "@jupyter-widgets/base",
      "model_module_version": "1.0.0",
      "model_name": "LayoutModel",
      "state": {}
     },
     "cc0febb4d3b24229a0622ab6c8572321": {
      "model_module": "@jupyter-widgets/controls",
      "model_module_version": "1.0.0",
      "model_name": "HTMLModel",
      "state": {
       "layout": "IPY_MODEL_2e383a7b8a56495d9cf5ba62d0e2c16a",
       "style": "IPY_MODEL_f1267fc1f0a14fcfbf583177f1e48657",
       "value": "21974it [00:07, 2772.95it/s]"
      }
     },
     "cc338334ad5a46e1a35e7a3246677cfa": {
      "model_module": "@jupyter-widgets/base",
      "model_module_version": "1.0.0",
      "model_name": "LayoutModel",
      "state": {}
     },
     "cc47683d5f014a728e8a7ad5119ed031": {
      "model_module": "@jupyter-widgets/controls",
      "model_module_version": "1.0.0",
      "model_name": "IntProgressModel",
      "state": {
       "bar_style": "info",
       "description": "train 4",
       "layout": "IPY_MODEL_740584ab3ef647b59044f50d1c68b5b5",
       "max": 1,
       "style": "IPY_MODEL_7d4ae7fe19c843c390700c043bb89a22",
       "value": 1
      }
     },
     "cc714bfc39094acb8c4d94bb5dd11fee": {
      "model_module": "@jupyter-widgets/controls",
      "model_module_version": "1.0.0",
      "model_name": "ProgressStyleModel",
      "state": {
       "description_width": ""
      }
     },
     "cc833c25366e44278dcb42d9d970e439": {
      "model_module": "@jupyter-widgets/controls",
      "model_module_version": "1.0.0",
      "model_name": "HTMLModel",
      "state": {
       "layout": "IPY_MODEL_17a0030811f6461f85d04d3428866e74",
       "style": "IPY_MODEL_1cd1ebe2c53a42dea745d5bbe2b75dcf",
       "value": "100it [00:00, 747.46it/s]"
      }
     },
     "cd003af97d24493e809afc6308802653": {
      "model_module": "@jupyter-widgets/base",
      "model_module_version": "1.0.0",
      "model_name": "LayoutModel",
      "state": {}
     },
     "cd0213b8545940eda41f48ee057c49ea": {
      "model_module": "@jupyter-widgets/base",
      "model_module_version": "1.0.0",
      "model_name": "LayoutModel",
      "state": {}
     },
     "cd0b14c40bfa43bc9a72da0356c544bb": {
      "model_module": "@jupyter-widgets/controls",
      "model_module_version": "1.0.0",
      "model_name": "ProgressStyleModel",
      "state": {
       "description_width": ""
      }
     },
     "cd17fb40ac8c40e087ccb296dee39730": {
      "model_module": "@jupyter-widgets/controls",
      "model_module_version": "1.0.0",
      "model_name": "HTMLModel",
      "state": {
       "layout": "IPY_MODEL_3052b3699a5d4811b4260e1550b680e7",
       "style": "IPY_MODEL_ecec369ed080402b833c1210597c8019",
       "value": "100it [00:00, 734.16it/s]"
      }
     },
     "cd5daef562ec47ae9ca8c7c76daebd32": {
      "model_module": "@jupyter-widgets/controls",
      "model_module_version": "1.0.0",
      "model_name": "ProgressStyleModel",
      "state": {
       "description_width": ""
      }
     },
     "cdb7d39782104b08be68d0e14c191b99": {
      "model_module": "@jupyter-widgets/base",
      "model_module_version": "1.0.0",
      "model_name": "LayoutModel",
      "state": {}
     },
     "cdbbe173fe314fe7950fd43cf419a537": {
      "model_module": "@jupyter-widgets/controls",
      "model_module_version": "1.0.0",
      "model_name": "ProgressStyleModel",
      "state": {
       "description_width": ""
      }
     },
     "cdbc63c695c04b1e95ad966879baa964": {
      "model_module": "@jupyter-widgets/controls",
      "model_module_version": "1.0.0",
      "model_name": "ProgressStyleModel",
      "state": {
       "description_width": ""
      }
     },
     "cde456fce72f425f96160bfc9c2a91e6": {
      "model_module": "@jupyter-widgets/controls",
      "model_module_version": "1.0.0",
      "model_name": "DescriptionStyleModel",
      "state": {
       "description_width": ""
      }
     },
     "ce28008192fc4e258c209f8753e9e849": {
      "model_module": "@jupyter-widgets/base",
      "model_module_version": "1.0.0",
      "model_name": "LayoutModel",
      "state": {}
     },
     "ce66c6547718410bbadd55813e44d859": {
      "model_module": "@jupyter-widgets/base",
      "model_module_version": "1.0.0",
      "model_name": "LayoutModel",
      "state": {}
     },
     "cf729295668a439eb1f2ab78918de5d6": {
      "model_module": "@jupyter-widgets/base",
      "model_module_version": "1.0.0",
      "model_name": "LayoutModel",
      "state": {}
     },
     "cf747bc7e64843d2bd5f3710a1cbda39": {
      "model_module": "@jupyter-widgets/base",
      "model_module_version": "1.0.0",
      "model_name": "LayoutModel",
      "state": {}
     },
     "cf985311f07a41ab8f7f1754c56b0fbf": {
      "model_module": "@jupyter-widgets/controls",
      "model_module_version": "1.0.0",
      "model_name": "DescriptionStyleModel",
      "state": {
       "description_width": ""
      }
     },
     "cfc47727bc2c460a886d6bb63c6434b1": {
      "model_module": "@jupyter-widgets/base",
      "model_module_version": "1.0.0",
      "model_name": "LayoutModel",
      "state": {}
     },
     "cfde4fcb7b86459dbe9a91b60d23f3fd": {
      "model_module": "@jupyter-widgets/controls",
      "model_module_version": "1.0.0",
      "model_name": "ProgressStyleModel",
      "state": {
       "description_width": ""
      }
     },
     "cff62021fcac4a59b0ada6068536bcff": {
      "model_module": "@jupyter-widgets/controls",
      "model_module_version": "1.0.0",
      "model_name": "HTMLModel",
      "state": {
       "layout": "IPY_MODEL_6cfc7d22cbfe448881f7d024cfd5f485",
       "style": "IPY_MODEL_1e11c671aed640acae41d90beb9ff9aa",
       "value": "100it [00:00, 741.54it/s]"
      }
     },
     "d060dbbef94d4e2fa8bdbcb220dd3689": {
      "model_module": "@jupyter-widgets/controls",
      "model_module_version": "1.0.0",
      "model_name": "HTMLModel",
      "state": {
       "layout": "IPY_MODEL_8d9faddb0f154d5ca85666fb2fabbf79",
       "style": "IPY_MODEL_bbb4b2a1ac5c4f52b29cc5eaca49d92d",
       "value": "100it [00:00, 761.57it/s]"
      }
     },
     "d10294c8a6e1445a99c27646b2d2099c": {
      "model_module": "@jupyter-widgets/base",
      "model_module_version": "1.0.0",
      "model_name": "LayoutModel",
      "state": {}
     },
     "d10c8d6faeef41bcb19e88de121e2828": {
      "model_module": "@jupyter-widgets/controls",
      "model_module_version": "1.0.0",
      "model_name": "IntProgressModel",
      "state": {
       "bar_style": "info",
       "description": "results",
       "layout": "IPY_MODEL_fe6daef708fe41178f9374a6a3695604",
       "max": 1,
       "style": "IPY_MODEL_f2d447d89b764a04ae837c77bd89bfb9",
       "value": 1
      }
     },
     "d11190f872f34b16b88e0dd4a8ebdf9f": {
      "model_module": "@jupyter-widgets/base",
      "model_module_version": "1.0.0",
      "model_name": "LayoutModel",
      "state": {}
     },
     "d1257138442543a388c66523bf72b43a": {
      "model_module": "@jupyter-widgets/controls",
      "model_module_version": "1.0.0",
      "model_name": "DescriptionStyleModel",
      "state": {
       "description_width": ""
      }
     },
     "d12df6a127f64df6a64f037e8000e5c4": {
      "model_module": "@jupyter-widgets/controls",
      "model_module_version": "1.0.0",
      "model_name": "ProgressStyleModel",
      "state": {
       "description_width": ""
      }
     },
     "d13f3322398242cbb3e82a6732d64df8": {
      "model_module": "@jupyter-widgets/controls",
      "model_module_version": "1.0.0",
      "model_name": "IntProgressModel",
      "state": {
       "bar_style": "info",
       "description": "train 2",
       "layout": "IPY_MODEL_240099be5a7d4af38f822af23b5cbdbc",
       "max": 1,
       "style": "IPY_MODEL_0a1e10719f504ed4968e7ddb5e2e5812",
       "value": 1
      }
     },
     "d2052c51ce144ae7a868c4014640ade3": {
      "model_module": "@jupyter-widgets/controls",
      "model_module_version": "1.0.0",
      "model_name": "IntProgressModel",
      "state": {
       "bar_style": "info",
       "description": "results",
       "layout": "IPY_MODEL_059e325867574467a5ab1ee8225e971d",
       "max": 1,
       "style": "IPY_MODEL_556c872d5e7f44f1a2bcb5e65e690113",
       "value": 1
      }
     },
     "d256f8b97a9a46719a4bb3b95daa8755": {
      "model_module": "@jupyter-widgets/controls",
      "model_module_version": "1.0.0",
      "model_name": "ProgressStyleModel",
      "state": {
       "description_width": ""
      }
     },
     "d2f689b190794c64a874c9ce47cce684": {
      "model_module": "@jupyter-widgets/base",
      "model_module_version": "1.0.0",
      "model_name": "LayoutModel",
      "state": {}
     },
     "d302c145a9cd4e70a39e3a985e9d0b53": {
      "model_module": "@jupyter-widgets/controls",
      "model_module_version": "1.0.0",
      "model_name": "DescriptionStyleModel",
      "state": {
       "description_width": ""
      }
     },
     "d30b354c858241a4936e29da820b407f": {
      "model_module": "@jupyter-widgets/base",
      "model_module_version": "1.0.0",
      "model_name": "LayoutModel",
      "state": {}
     },
     "d3373a3d169d47fb8cb289daa8d6ef7f": {
      "model_module": "@jupyter-widgets/base",
      "model_module_version": "1.0.0",
      "model_name": "LayoutModel",
      "state": {}
     },
     "d38cdc5b4c2141c185a6adbbf124e238": {
      "model_module": "@jupyter-widgets/controls",
      "model_module_version": "1.0.0",
      "model_name": "DescriptionStyleModel",
      "state": {
       "description_width": ""
      }
     },
     "d3d22b256d7c4e74bfcfb900ac5592c1": {
      "model_module": "@jupyter-widgets/base",
      "model_module_version": "1.0.0",
      "model_name": "LayoutModel",
      "state": {}
     },
     "d3e9ee89992547b8b1b24d95bfb8d318": {
      "model_module": "@jupyter-widgets/controls",
      "model_module_version": "1.0.0",
      "model_name": "HTMLModel",
      "state": {
       "layout": "IPY_MODEL_b6467ce85da94233be4485d199c71af0",
       "style": "IPY_MODEL_e9cf8c3b99524d88aa81aa39ee85b762",
       "value": "724833it [10:38, 1164.91it/s]"
      }
     },
     "d4174191f22246deaf6050ab002fdba6": {
      "model_module": "@jupyter-widgets/controls",
      "model_module_version": "1.0.0",
      "model_name": "IntProgressModel",
      "state": {
       "bar_style": "info",
       "description": "results",
       "layout": "IPY_MODEL_5ef0fb02403b446aa65176131c203c02",
       "max": 1,
       "style": "IPY_MODEL_e24e36e0e58444148939e35df7c208fb",
       "value": 1
      }
     },
     "d47f7f79131441e3beadb8ecee69b599": {
      "model_module": "@jupyter-widgets/base",
      "model_module_version": "1.0.0",
      "model_name": "LayoutModel",
      "state": {}
     },
     "d4966d551e6d4ebbbda449df18763caf": {
      "model_module": "@jupyter-widgets/controls",
      "model_module_version": "1.0.0",
      "model_name": "ProgressStyleModel",
      "state": {
       "description_width": ""
      }
     },
     "d4ae57c58cef409fbfe17942e0212525": {
      "model_module": "@jupyter-widgets/controls",
      "model_module_version": "1.0.0",
      "model_name": "IntProgressModel",
      "state": {
       "bar_style": "info",
       "description": "results",
       "layout": "IPY_MODEL_2f5d81a8ec864adcb40ee6e8f5f82233",
       "max": 1,
       "style": "IPY_MODEL_cdbc63c695c04b1e95ad966879baa964",
       "value": 1
      }
     },
     "d50f87702f284b6eb04262a523e173f5": {
      "model_module": "@jupyter-widgets/controls",
      "model_module_version": "1.0.0",
      "model_name": "HTMLModel",
      "state": {
       "layout": "IPY_MODEL_fb55a2be7e614028acd3ff5e3f4e1dc4",
       "style": "IPY_MODEL_90005fac16544dc781c47f951e26b357",
       "value": "100it [00:00, 758.26it/s]"
      }
     },
     "d5841479f94b410fb22cd2a647a5b4eb": {
      "model_module": "@jupyter-widgets/controls",
      "model_module_version": "1.0.0",
      "model_name": "ProgressStyleModel",
      "state": {
       "description_width": ""
      }
     },
     "d679a22d2ba7475e92fa2ad5c9893c7f": {
      "model_module": "@jupyter-widgets/base",
      "model_module_version": "1.0.0",
      "model_name": "LayoutModel",
      "state": {}
     },
     "d6da5814d3cb4d12b8f3fa0dcccdd15b": {
      "model_module": "@jupyter-widgets/controls",
      "model_module_version": "1.0.0",
      "model_name": "DescriptionStyleModel",
      "state": {
       "description_width": ""
      }
     },
     "d76cd09c32db4534b3ef22a9b22873fa": {
      "model_module": "@jupyter-widgets/base",
      "model_module_version": "1.0.0",
      "model_name": "LayoutModel",
      "state": {}
     },
     "d823e3983c254084ba3d55083b0616ca": {
      "model_module": "@jupyter-widgets/base",
      "model_module_version": "1.0.0",
      "model_name": "LayoutModel",
      "state": {}
     },
     "d85642a09175452cac2605b88a7fa2b2": {
      "model_module": "@jupyter-widgets/base",
      "model_module_version": "1.0.0",
      "model_name": "LayoutModel",
      "state": {}
     },
     "da339b81e1ea488a9812009a2ae2acc9": {
      "model_module": "@jupyter-widgets/controls",
      "model_module_version": "1.0.0",
      "model_name": "ProgressStyleModel",
      "state": {
       "description_width": ""
      }
     },
     "da7a4ea73ec24639a2fbffdfb6259b6b": {
      "model_module": "@jupyter-widgets/base",
      "model_module_version": "1.0.0",
      "model_name": "LayoutModel",
      "state": {}
     },
     "da99728d95004a3690ca7aec728733fc": {
      "model_module": "@jupyter-widgets/base",
      "model_module_version": "1.0.0",
      "model_name": "LayoutModel",
      "state": {}
     },
     "daa9bd817f8f44548d61f7d6ffdc3c1f": {
      "model_module": "@jupyter-widgets/controls",
      "model_module_version": "1.0.0",
      "model_name": "ProgressStyleModel",
      "state": {
       "description_width": ""
      }
     },
     "db3c6f7bd7854f36a564c074566ce7dd": {
      "model_module": "@jupyter-widgets/base",
      "model_module_version": "1.0.0",
      "model_name": "LayoutModel",
      "state": {}
     },
     "db7df4722d214b9e82f5bce74ba5635a": {
      "model_module": "@jupyter-widgets/controls",
      "model_module_version": "1.0.0",
      "model_name": "DescriptionStyleModel",
      "state": {
       "description_width": ""
      }
     },
     "dbe88f4eefb8425b9079da0aeec84d0b": {
      "model_module": "@jupyter-widgets/base",
      "model_module_version": "1.0.0",
      "model_name": "LayoutModel",
      "state": {}
     },
     "dbee44633da8422d89b5011ed9ee7a4d": {
      "model_module": "@jupyter-widgets/controls",
      "model_module_version": "1.0.0",
      "model_name": "ProgressStyleModel",
      "state": {
       "description_width": ""
      }
     },
     "dc9f753343fc4c169470dd4ef9e98cfc": {
      "model_module": "@jupyter-widgets/base",
      "model_module_version": "1.0.0",
      "model_name": "LayoutModel",
      "state": {}
     },
     "dd368c347ab246f1ab8522d880588185": {
      "model_module": "@jupyter-widgets/base",
      "model_module_version": "1.0.0",
      "model_name": "LayoutModel",
      "state": {}
     },
     "de3393d2055c4b9382bbd6978dab3804": {
      "model_module": "@jupyter-widgets/base",
      "model_module_version": "1.0.0",
      "model_name": "LayoutModel",
      "state": {}
     },
     "dee51aaf0d0543ff896ea2c80bc0fb31": {
      "model_module": "@jupyter-widgets/base",
      "model_module_version": "1.0.0",
      "model_name": "LayoutModel",
      "state": {}
     },
     "dfb5b49c35804061b02d6257b2b6bf76": {
      "model_module": "@jupyter-widgets/controls",
      "model_module_version": "1.0.0",
      "model_name": "ProgressStyleModel",
      "state": {
       "description_width": ""
      }
     },
     "dfc0b04b7bfc4b45ae40fe5d1c27e050": {
      "model_module": "@jupyter-widgets/controls",
      "model_module_version": "1.0.0",
      "model_name": "ProgressStyleModel",
      "state": {
       "description_width": ""
      }
     },
     "e1d0947ca41541649ab12d6f5a849019": {
      "model_module": "@jupyter-widgets/base",
      "model_module_version": "1.0.0",
      "model_name": "LayoutModel",
      "state": {}
     },
     "e1ee18f588f54f91b7a1ff41e7b23fda": {
      "model_module": "@jupyter-widgets/controls",
      "model_module_version": "1.0.0",
      "model_name": "ProgressStyleModel",
      "state": {
       "description_width": ""
      }
     },
     "e203913f983143579f11157dbc117e61": {
      "model_module": "@jupyter-widgets/controls",
      "model_module_version": "1.0.0",
      "model_name": "IntProgressModel",
      "state": {
       "bar_style": "info",
       "description": "train 1",
       "layout": "IPY_MODEL_9d14a2230bec4c4bbe7868d2944bc9c4",
       "max": 1,
       "style": "IPY_MODEL_2fe7321522d942c88e7ed2753d284918",
       "value": 1
      }
     },
     "e24e36e0e58444148939e35df7c208fb": {
      "model_module": "@jupyter-widgets/controls",
      "model_module_version": "1.0.0",
      "model_name": "ProgressStyleModel",
      "state": {
       "description_width": ""
      }
     },
     "e2e7613b346e40f5b394442e3d35ba39": {
      "model_module": "@jupyter-widgets/controls",
      "model_module_version": "1.0.0",
      "model_name": "HTMLModel",
      "state": {
       "layout": "IPY_MODEL_7eab76ea56e2480eb0833c34e59d8b98",
       "style": "IPY_MODEL_442a9575d31b4385990750a91e62699c",
       "value": "100it [00:00, 740.50it/s]"
      }
     },
     "e385040f54fb4d17bf53d1b771c786d1": {
      "model_module": "@jupyter-widgets/base",
      "model_module_version": "1.0.0",
      "model_name": "LayoutModel",
      "state": {}
     },
     "e43e8de3011f456e88d9720fdcc8691f": {
      "model_module": "@jupyter-widgets/controls",
      "model_module_version": "1.0.0",
      "model_name": "IntProgressModel",
      "state": {
       "bar_style": "info",
       "description": "results",
       "layout": "IPY_MODEL_fddf0f585eb748658c5f278ae52fab61",
       "max": 1,
       "style": "IPY_MODEL_d5841479f94b410fb22cd2a647a5b4eb",
       "value": 1
      }
     },
     "e445158f33bf469e93dc9df263487251": {
      "model_module": "@jupyter-widgets/base",
      "model_module_version": "1.0.0",
      "model_name": "LayoutModel",
      "state": {}
     },
     "e4839049d62f4191be38c621fcdf113f": {
      "model_module": "@jupyter-widgets/controls",
      "model_module_version": "1.0.0",
      "model_name": "HTMLModel",
      "state": {
       "layout": "IPY_MODEL_0108803e50ec479b9e28177e75c398aa",
       "style": "IPY_MODEL_ff1103b287fe44e4be5e996db5d32daa",
       "value": "100it [00:00, 723.22it/s]"
      }
     },
     "e584e4d93e4049a5bbe0542055007fc8": {
      "model_module": "@jupyter-widgets/controls",
      "model_module_version": "1.0.0",
      "model_name": "HTMLModel",
      "state": {
       "layout": "IPY_MODEL_2e07e2510a65440c9fd3e271634c5cba",
       "style": "IPY_MODEL_9a65247c9caa47fe878b8cf46e2d3dbe",
       "value": "21974it [00:07, 2786.75it/s]"
      }
     },
     "e68142f7940b40c1bb1575ad78945ca8": {
      "model_module": "@jupyter-widgets/base",
      "model_module_version": "1.0.0",
      "model_name": "LayoutModel",
      "state": {}
     },
     "e6e4bd2eecea4e828d27b3dae36bdc23": {
      "model_module": "@jupyter-widgets/controls",
      "model_module_version": "1.0.0",
      "model_name": "HTMLModel",
      "state": {
       "layout": "IPY_MODEL_024c2573b9c04c64841752ed6def8e74",
       "style": "IPY_MODEL_d6da5814d3cb4d12b8f3fa0dcccdd15b",
       "value": "100it [00:00, 733.61it/s]"
      }
     },
     "e7731476ba02494db948c36c9625e120": {
      "model_module": "@jupyter-widgets/controls",
      "model_module_version": "1.0.0",
      "model_name": "HTMLModel",
      "state": {
       "layout": "IPY_MODEL_67eb117250ba40d4a3a3b078c832a082",
       "style": "IPY_MODEL_4aff29ba6cfc42b59639c618e8f5e311",
       "value": "100it [00:00, 750.43it/s]"
      }
     },
     "e7e14bd46ad34bdd9358f116648fdcfa": {
      "model_module": "@jupyter-widgets/controls",
      "model_module_version": "1.0.0",
      "model_name": "HTMLModel",
      "state": {
       "layout": "IPY_MODEL_a54e1e263f3e44a789da015e7d890c2e",
       "style": "IPY_MODEL_37abbb5a508b490dbfaca35ff61754fc",
       "value": "100it [00:00, 711.81it/s]"
      }
     },
     "e841af79966c4148a6cce650388c0ab2": {
      "model_module": "@jupyter-widgets/base",
      "model_module_version": "1.0.0",
      "model_name": "LayoutModel",
      "state": {}
     },
     "e85a56a1e8864c92ac2715f8ab7eb1b8": {
      "model_module": "@jupyter-widgets/base",
      "model_module_version": "1.0.0",
      "model_name": "LayoutModel",
      "state": {}
     },
     "e8d16f3572b14c59b86d356c60935712": {
      "model_module": "@jupyter-widgets/controls",
      "model_module_version": "1.0.0",
      "model_name": "IntProgressModel",
      "state": {
       "bar_style": "info",
       "description": "results",
       "layout": "IPY_MODEL_0641f9c2a9934347b68220f9c64e7c81",
       "max": 1,
       "style": "IPY_MODEL_661190075d514257a2a6541ce637f9ce",
       "value": 1
      }
     },
     "e8f1d9ddee734db28e9f4cbe41763089": {
      "model_module": "@jupyter-widgets/controls",
      "model_module_version": "1.0.0",
      "model_name": "HTMLModel",
      "state": {
       "layout": "IPY_MODEL_2eba636083ee4eb0b35e9481188aa608",
       "style": "IPY_MODEL_37e34b234b3541beb54c921b44e2e362",
       "value": "100it [00:00, 738.62it/s]"
      }
     },
     "e97a7f84c4f94955aebd0179c42d3565": {
      "model_module": "@jupyter-widgets/controls",
      "model_module_version": "1.0.0",
      "model_name": "DescriptionStyleModel",
      "state": {
       "description_width": ""
      }
     },
     "e990c0f3d4ac4562a25b6f54c7caeec4": {
      "model_module": "@jupyter-widgets/controls",
      "model_module_version": "1.0.0",
      "model_name": "DescriptionStyleModel",
      "state": {
       "description_width": ""
      }
     },
     "e9cf8c3b99524d88aa81aa39ee85b762": {
      "model_module": "@jupyter-widgets/controls",
      "model_module_version": "1.0.0",
      "model_name": "DescriptionStyleModel",
      "state": {
       "description_width": ""
      }
     },
     "eb31bd6a5a0c4bd49b313d7dea4beba3": {
      "model_module": "@jupyter-widgets/controls",
      "model_module_version": "1.0.0",
      "model_name": "ProgressStyleModel",
      "state": {
       "description_width": ""
      }
     },
     "ec52e021e7b44774ab54f6338bafa98b": {
      "model_module": "@jupyter-widgets/base",
      "model_module_version": "1.0.0",
      "model_name": "LayoutModel",
      "state": {}
     },
     "ec7f85622c37452b91765de6e984685c": {
      "model_module": "@jupyter-widgets/controls",
      "model_module_version": "1.0.0",
      "model_name": "HTMLModel",
      "state": {
       "layout": "IPY_MODEL_be6ac6e2d2a54382b81911a89a21c9b1",
       "style": "IPY_MODEL_21079ca63be1442e9d7cfbaac6315afc",
       "value": "21974it [00:05, 4352.61it/s]"
      }
     },
     "ecc7739619d34b53b1b76b3d29512e89": {
      "model_module": "@jupyter-widgets/base",
      "model_module_version": "1.0.0",
      "model_name": "LayoutModel",
      "state": {}
     },
     "ecec369ed080402b833c1210597c8019": {
      "model_module": "@jupyter-widgets/controls",
      "model_module_version": "1.0.0",
      "model_name": "DescriptionStyleModel",
      "state": {
       "description_width": ""
      }
     },
     "edd850ae2c724f8d8978a91d74dfec2e": {
      "model_module": "@jupyter-widgets/controls",
      "model_module_version": "1.0.0",
      "model_name": "IntProgressModel",
      "state": {
       "bar_style": "info",
       "description": "results",
       "layout": "IPY_MODEL_538661d310df4bcfb26212328196f32e",
       "max": 1,
       "style": "IPY_MODEL_9662e37c33f8408097384cf4f08fcd32",
       "value": 1
      }
     },
     "ee8e92aa711c45f7a751edc419afe1ba": {
      "model_module": "@jupyter-widgets/controls",
      "model_module_version": "1.0.0",
      "model_name": "IntProgressModel",
      "state": {
       "bar_style": "info",
       "description": "results",
       "layout": "IPY_MODEL_9de1b3f5ff1149e4a8bcb9a342e64882",
       "max": 1,
       "style": "IPY_MODEL_8a5dcfd682bd4c5b8b70d65470ea0597",
       "value": 1
      }
     },
     "eef2c6d2a4f54b9ebbba9adbbc977ae7": {
      "model_module": "@jupyter-widgets/base",
      "model_module_version": "1.0.0",
      "model_name": "LayoutModel",
      "state": {}
     },
     "ef129f2720e4436c8021df0f94b217cd": {
      "model_module": "@jupyter-widgets/controls",
      "model_module_version": "1.0.0",
      "model_name": "IntProgressModel",
      "state": {
       "bar_style": "info",
       "description": "train 3",
       "layout": "IPY_MODEL_ecc7739619d34b53b1b76b3d29512e89",
       "max": 1,
       "style": "IPY_MODEL_672dde1716d14462932522f5a506279b",
       "value": 1
      }
     },
     "f09d8529b1104f4ba2443f9e6b1845e4": {
      "model_module": "@jupyter-widgets/controls",
      "model_module_version": "1.0.0",
      "model_name": "HTMLModel",
      "state": {
       "layout": "IPY_MODEL_c34e2c16a46643998c7e357e3e4904f2",
       "style": "IPY_MODEL_78431edea9bb478c9e62287a6a39bd7c",
       "value": "100it [00:00, 754.35it/s]"
      }
     },
     "f1267fc1f0a14fcfbf583177f1e48657": {
      "model_module": "@jupyter-widgets/controls",
      "model_module_version": "1.0.0",
      "model_name": "DescriptionStyleModel",
      "state": {
       "description_width": ""
      }
     },
     "f128ce3287cb496a97304b3e8353fae3": {
      "model_module": "@jupyter-widgets/controls",
      "model_module_version": "1.0.0",
      "model_name": "DescriptionStyleModel",
      "state": {
       "description_width": ""
      }
     },
     "f1c3846e2e8e439f980c76a566dc926b": {
      "model_module": "@jupyter-widgets/base",
      "model_module_version": "1.0.0",
      "model_name": "LayoutModel",
      "state": {}
     },
     "f2884a28a94b462b827c567d88ea48b3": {
      "model_module": "@jupyter-widgets/controls",
      "model_module_version": "1.0.0",
      "model_name": "DescriptionStyleModel",
      "state": {
       "description_width": ""
      }
     },
     "f2b4ebe9589549ac9e837c15f983e3e5": {
      "model_module": "@jupyter-widgets/base",
      "model_module_version": "1.0.0",
      "model_name": "LayoutModel",
      "state": {}
     },
     "f2d447d89b764a04ae837c77bd89bfb9": {
      "model_module": "@jupyter-widgets/controls",
      "model_module_version": "1.0.0",
      "model_name": "ProgressStyleModel",
      "state": {
       "description_width": ""
      }
     },
     "f3368c196c3645d795f6f83e9dd70b86": {
      "model_module": "@jupyter-widgets/controls",
      "model_module_version": "1.0.0",
      "model_name": "HTMLModel",
      "state": {
       "layout": "IPY_MODEL_523083dec6a04edf9d1a0742ba4ac826",
       "style": "IPY_MODEL_d302c145a9cd4e70a39e3a985e9d0b53",
       "value": "21974it [00:08, 2616.66it/s]"
      }
     },
     "f453c4f8e7594710982810f35d0345f4": {
      "model_module": "@jupyter-widgets/base",
      "model_module_version": "1.0.0",
      "model_name": "LayoutModel",
      "state": {}
     },
     "f47d1a23e6f944da9b439b16f79a276d": {
      "model_module": "@jupyter-widgets/controls",
      "model_module_version": "1.0.0",
      "model_name": "HTMLModel",
      "state": {
       "layout": "IPY_MODEL_cfc47727bc2c460a886d6bb63c6434b1",
       "style": "IPY_MODEL_9ab5c7eecc2f4351a2475268314fda93",
       "value": "100it [00:00, 743.95it/s]"
      }
     },
     "f483e6e7ca604ae9a85af4137bab846b": {
      "model_module": "@jupyter-widgets/base",
      "model_module_version": "1.0.0",
      "model_name": "LayoutModel",
      "state": {}
     },
     "f51d22842f6e4a98a71945ff026d567c": {
      "model_module": "@jupyter-widgets/base",
      "model_module_version": "1.0.0",
      "model_name": "LayoutModel",
      "state": {}
     },
     "f59320aa3abb437395056abd35aed8e0": {
      "model_module": "@jupyter-widgets/base",
      "model_module_version": "1.0.0",
      "model_name": "LayoutModel",
      "state": {}
     },
     "f5c2a56640134c32828a747f7c5458dc": {
      "model_module": "@jupyter-widgets/controls",
      "model_module_version": "1.0.0",
      "model_name": "IntProgressModel",
      "state": {
       "bar_style": "info",
       "description": "results",
       "layout": "IPY_MODEL_9823cc0776da4aaf85ee8f54d7d0c21f",
       "max": 1,
       "style": "IPY_MODEL_1fe65bad22c04f74959116e7f68e0dee",
       "value": 1
      }
     },
     "f6bf30ece02d4dca91e7848d7c2eb50a": {
      "model_module": "@jupyter-widgets/base",
      "model_module_version": "1.0.0",
      "model_name": "LayoutModel",
      "state": {}
     },
     "f6fe55112ffd49cbbc4bb03a0ba4e150": {
      "model_module": "@jupyter-widgets/controls",
      "model_module_version": "1.0.0",
      "model_name": "IntProgressModel",
      "state": {
       "bar_style": "info",
       "description": "results",
       "layout": "IPY_MODEL_531a57e85010423f924161d1a6d72b3c",
       "max": 1,
       "style": "IPY_MODEL_8f919846c4474474a2d80f674d6abe29",
       "value": 1
      }
     },
     "f744b235ca394cc6b677d8cdc3acb230": {
      "model_module": "@jupyter-widgets/base",
      "model_module_version": "1.0.0",
      "model_name": "LayoutModel",
      "state": {}
     },
     "f7b876635ca947bcb09d62bce6cc93d4": {
      "model_module": "@jupyter-widgets/base",
      "model_module_version": "1.0.0",
      "model_name": "LayoutModel",
      "state": {}
     },
     "f8457dfee030476194dbd693fcd00332": {
      "model_module": "@jupyter-widgets/base",
      "model_module_version": "1.0.0",
      "model_name": "LayoutModel",
      "state": {}
     },
     "f8710599a6594d598eba9ee0ad50fd60": {
      "model_module": "@jupyter-widgets/base",
      "model_module_version": "1.0.0",
      "model_name": "LayoutModel",
      "state": {}
     },
     "f89cd8b9ef6245e384a974d0553a64a6": {
      "model_module": "@jupyter-widgets/base",
      "model_module_version": "1.0.0",
      "model_name": "LayoutModel",
      "state": {}
     },
     "fa0bd14cd0d347eb8ed3ba03c5f87f68": {
      "model_module": "@jupyter-widgets/controls",
      "model_module_version": "1.0.0",
      "model_name": "HTMLModel",
      "state": {
       "layout": "IPY_MODEL_fb460d4dce70453caba84999ecc714d2",
       "style": "IPY_MODEL_5dfd710fdbd841b28eee81ef6ab710f0",
       "value": "100it [00:00, 719.26it/s]"
      }
     },
     "faea637760f3401d91f5390ba9f29d3b": {
      "model_module": "@jupyter-widgets/base",
      "model_module_version": "1.0.0",
      "model_name": "LayoutModel",
      "state": {}
     },
     "fb44766c151e45519382d2c63ffab63f": {
      "model_module": "@jupyter-widgets/controls",
      "model_module_version": "1.0.0",
      "model_name": "HTMLModel",
      "state": {
       "layout": "IPY_MODEL_9219d0d27dcc4fdab276286b60fa17c1",
       "style": "IPY_MODEL_79abe0f03bc74fdb9a791fb36e8125f2",
       "value": "724833it [10:34, 1152.12it/s]"
      }
     },
     "fb460d4dce70453caba84999ecc714d2": {
      "model_module": "@jupyter-widgets/base",
      "model_module_version": "1.0.0",
      "model_name": "LayoutModel",
      "state": {}
     },
     "fb468d2842fe4403828a6b8771e45495": {
      "model_module": "@jupyter-widgets/controls",
      "model_module_version": "1.0.0",
      "model_name": "HTMLModel",
      "state": {
       "layout": "IPY_MODEL_550d70d9f7eb489191b3e92f53f8e79c",
       "style": "IPY_MODEL_b07ea96ec5004a54aefd92b4b9489d82",
       "value": "100it [00:00, 750.19it/s]"
      }
     },
     "fb55a2be7e614028acd3ff5e3f4e1dc4": {
      "model_module": "@jupyter-widgets/base",
      "model_module_version": "1.0.0",
      "model_name": "LayoutModel",
      "state": {}
     },
     "fb9379ee99db4c208c995393c595de2b": {
      "model_module": "@jupyter-widgets/controls",
      "model_module_version": "1.0.0",
      "model_name": "ProgressStyleModel",
      "state": {
       "description_width": ""
      }
     },
     "fbfefae8caa941cdbf36fb83b50f7ced": {
      "model_module": "@jupyter-widgets/base",
      "model_module_version": "1.0.0",
      "model_name": "LayoutModel",
      "state": {}
     },
     "fc37bc1ce3a343139ec30299006a4fc2": {
      "model_module": "@jupyter-widgets/controls",
      "model_module_version": "1.0.0",
      "model_name": "IntProgressModel",
      "state": {
       "bar_style": "info",
       "description": "results",
       "layout": "IPY_MODEL_779f6f03e08f4225a9ffb6247b75fad5",
       "max": 1,
       "style": "IPY_MODEL_65d8c408a41e4254941db24a381f179e",
       "value": 1
      }
     },
     "fcec5a3737944b1eb78657ab16fdada6": {
      "model_module": "@jupyter-widgets/controls",
      "model_module_version": "1.0.0",
      "model_name": "HTMLModel",
      "state": {
       "layout": "IPY_MODEL_f453c4f8e7594710982810f35d0345f4",
       "style": "IPY_MODEL_2871c732d14d45b78eaf6061fc8b7376",
       "value": "100it [00:00, 738.15it/s]"
      }
     },
     "fda8e427a0604f64b0483aa30c8b268a": {
      "model_module": "@jupyter-widgets/base",
      "model_module_version": "1.0.0",
      "model_name": "LayoutModel",
      "state": {}
     },
     "fdc938d7b4634953af2b95597d4bdc2a": {
      "model_module": "@jupyter-widgets/controls",
      "model_module_version": "1.0.0",
      "model_name": "HTMLModel",
      "state": {
       "layout": "IPY_MODEL_c9fd59997a3a429cb9bea3538666f2f2",
       "style": "IPY_MODEL_e990c0f3d4ac4562a25b6f54c7caeec4",
       "value": "724833it [10:45, 1089.36it/s]"
      }
     },
     "fddf0f585eb748658c5f278ae52fab61": {
      "model_module": "@jupyter-widgets/base",
      "model_module_version": "1.0.0",
      "model_name": "LayoutModel",
      "state": {}
     },
     "fe46d774fcfe4cffb98c74f6aadd9337": {
      "model_module": "@jupyter-widgets/base",
      "model_module_version": "1.0.0",
      "model_name": "LayoutModel",
      "state": {}
     },
     "fe6daef708fe41178f9374a6a3695604": {
      "model_module": "@jupyter-widgets/base",
      "model_module_version": "1.0.0",
      "model_name": "LayoutModel",
      "state": {}
     },
     "ff1103b287fe44e4be5e996db5d32daa": {
      "model_module": "@jupyter-widgets/controls",
      "model_module_version": "1.0.0",
      "model_name": "DescriptionStyleModel",
      "state": {
       "description_width": ""
      }
     },
     "ffcdf12a00b243e282eebb21e6d1d8fa": {
      "model_module": "@jupyter-widgets/controls",
      "model_module_version": "1.0.0",
      "model_name": "ProgressStyleModel",
      "state": {
       "description_width": ""
      }
     },
     "ffec1fe1763f4c418f8220cc7cb7ef48": {
      "model_module": "@jupyter-widgets/base",
      "model_module_version": "1.0.0",
      "model_name": "LayoutModel",
      "state": {}
     }
    },
    "version_major": 2,
    "version_minor": 0
   }
  }
 },
 "nbformat": 4,
 "nbformat_minor": 2
}
