{
 "cells": [
  {
   "cell_type": "code",
   "execution_count": 1,
   "metadata": {},
   "outputs": [],
   "source": [
    "import tensorflow as tf\n",
    "import numpy as np\n",
    "import math\n",
    "import gzip\n",
    "import json\n",
    "import datetime\n",
    "import shutil\n",
    "from tqdm import tqdm"
   ]
  },
  {
   "cell_type": "code",
   "execution_count": 2,
   "metadata": {},
   "outputs": [],
   "source": [
    "def reset_tf():\n",
    "    global sess\n",
    "    sess.close()\n",
    "    tf.reset_default_graph()\n",
    "    tf.set_random_seed(0)\n",
    "    sess = tf.InteractiveSession(config=tf.ConfigProto(log_device_placement=True))"
   ]
  },
  {
   "cell_type": "code",
   "execution_count": 3,
   "metadata": {},
   "outputs": [],
   "source": [
    "sess = tf.InteractiveSession(config=tf.ConfigProto(log_device_placement=True))"
   ]
  },
  {
   "cell_type": "code",
   "execution_count": 4,
   "metadata": {},
   "outputs": [],
   "source": [
    "class HyperParameters():\n",
    "    # maximum number of symbols in an input sequence\n",
    "    max_sequence_length = 40\n",
    "\n",
    "    # number of symbols in vocabulary\n",
    "    # (symbols are expected to be in range(vocab_size))\n",
    "    vocab_size = 10000\n",
    "\n",
    "    # number of dimensions in input embeddings\n",
    "    embedding_size = 256\n",
    "    \n",
    "    # number of sequences per batch\n",
    "    batch_size = 256\n",
    "    \n",
    "    # number of target classes\n",
    "    num_target_classes = 2\n",
    "    \n",
    "    # number of combined (attention + feed forward) layers\n",
    "    num_layers = 4\n",
    "    \n",
    "    # number of parsing threads in data pipeline\n",
    "    dataset_pipeline_parallel_calls = 4\n",
    "    \n",
    "    # size of prefetch in data pipeline\n",
    "    dataset_pipeline_prefetch = batch_size * 16\n",
    "    \n",
    "    # shuffle buffer size\n",
    "    dataset_pipeline_shuffle_buffer_size = 10000\n",
    "\n",
    "hp = HyperParameters()"
   ]
  },
  {
   "cell_type": "code",
   "execution_count": 5,
   "metadata": {},
   "outputs": [],
   "source": [
    "def parse_example(example_proto, max_sequence_length=hp.max_sequence_length):\n",
    "    features = {\n",
    "        'inputs': tf.VarLenFeature(tf.int64),\n",
    "        'word_endings': tf.VarLenFeature(tf.int64),\n",
    "        'targets': tf.VarLenFeature(tf.int64)\n",
    "    }\n",
    "    \n",
    "    parsed = tf.parse_single_example(example_proto, features)\n",
    "    \n",
    "    def convert_and_pad(sparse_tensor):\n",
    "        result = tf.sparse_tensor_to_dense(sparse_tensor)\n",
    "        # TODO: properly ignore elements which are too large (right now we just clip)\n",
    "        result = result[:max_sequence_length]\n",
    "        result = tf.pad(result, [[0, max_sequence_length - tf.shape(result)[0]]])\n",
    "        return result\n",
    "    \n",
    "    return (convert_and_pad(parsed['inputs']),\n",
    "            tf.shape(parsed['inputs'])[0],\n",
    "            convert_and_pad(parsed['word_endings']),\n",
    "            convert_and_pad(parsed['targets']))"
   ]
  },
  {
   "cell_type": "code",
   "execution_count": 6,
   "metadata": {},
   "outputs": [],
   "source": [
    "reset_tf()\n",
    "\n",
    "# Data pipeline\n",
    "# -------------\n",
    "\n",
    "dataset_filenames = tf.placeholder(tf.string, shape=[None])\n",
    "\n",
    "dataset = tf.data.TFRecordDataset(dataset_filenames)\n",
    "dataset = dataset.map(parse_example, \n",
    "                      num_parallel_calls = hp.dataset_pipeline_parallel_calls)\n",
    "dataset = dataset.shuffle(hp.dataset_pipeline_shuffle_buffer_size)\n",
    "dataset = dataset.prefetch(hp.dataset_pipeline_prefetch)\n",
    "dataset = dataset.batch(hp.batch_size)\n",
    "\n",
    "dataset_iterator = dataset.make_initializable_iterator()\n",
    "input_sequences_it, input_lengths_it, input_word_endings_it, target_sequences_it = dataset_iterator.get_next()\n",
    "\n",
    "# Placeholders\n",
    "# ------------\n",
    "\n",
    "input_sequences = input_sequences_it\n",
    "input_lengths = input_lengths_it\n",
    "input_word_endings = input_word_endings_it\n",
    "target_sequences = target_sequences_it\n",
    "\n",
    "# TODO: figure out how to use placeholder_with_default\n",
    "# input_sequences = tf.placeholder_with_default(input_sequences_it, \n",
    "#                                               shape = (hp.batch_size, hp.max_sequence_length), \n",
    "#                                               name = 'input_sequences')\n",
    "# input_lengths = tf.placeholder_with_default(input_lengths_it,\n",
    "#                                             shape = (hp.batch_size),\n",
    "#                                             name = 'input_lengths')\n",
    "# input_word_endings = tf.placeholder_with_default(input_word_endings_it,\n",
    "#                                                  shape = (hp.batch_size, hp.max_sequence_length),\n",
    "#                                                  name = 'input_word_endings')\n",
    "# target_sequences = tf.placeholder_with_default(target_sequences_it,\n",
    "#                                                shape = (hp.batch_size, hp.max_sequence_length),\n",
    "#                                                name = 'target_sequences')\n",
    "\n",
    "# sequences of input positions (not a placeholder)\n",
    "input_positions = tf.range(hp.max_sequence_length, dtype=tf.int32)\n",
    "input_positions = tf.tile(input_positions, [tf.shape(input_sequences)[0]])\n",
    "input_positions = tf.reshape(input_positions, \n",
    "                             (tf.shape(input_sequences)[0], hp.max_sequence_length), \n",
    "                             name = 'input_positions')\n",
    "\n",
    "# Embeddings\n",
    "# ----------\n",
    "\n",
    "# sequences of input embeddings w/ shape:\n",
    "#   (hp.batch_size, hp.max_sequence_length, hp.embedding_size)\n",
    "input_sequence_embeddings = tf.get_variable('input_sequence_embeddings', \n",
    "                                            (hp.vocab_size, hp.embedding_size))\n",
    "input_sequences_embedded = tf.nn.embedding_lookup(input_sequence_embeddings, \n",
    "                                                  input_sequences,\n",
    "                                                  name = 'input_sequences_embedded')\n",
    "\n",
    "# sequences of input position embeddings w/ shape:\n",
    "#   (hp.batch_size, hp.max_sequence_length, hp.embedding_size)\n",
    "input_position_embeddings = tf.get_variable('input_position_embeddings', \n",
    "                                            (hp.max_sequence_length, hp.embedding_size))\n",
    "input_positions_embedded = tf.nn.embedding_lookup(input_position_embeddings, input_positions)\n",
    "\n",
    "# sequences of word ending embeddings w/ shape:\n",
    "#   (hp.batch_size, hp.max_sequence_length, hp.embedding_size)\n",
    "input_word_ending_embeddings = tf.get_variable('input_word_ending_embeddings',\n",
    "                                               (2, hp.embedding_size))\n",
    "input_word_endings_embedded = tf.nn.embedding_lookup(input_word_ending_embeddings, \n",
    "                                                     input_word_endings,\n",
    "                                                     name = 'input_word_endings_embedded')\n",
    "\n",
    "# Sequence mask\n",
    "# -------------\n",
    "\n",
    "sequence_mask = tf.sequence_mask(input_lengths,\n",
    "                                 hp.max_sequence_length,\n",
    "                                 dtype = tf.float32)\n",
    "# expand dimensions to support broadcasting\n",
    "expanded_sequence_mask = tf.expand_dims(sequence_mask, \n",
    "                                        2, \n",
    "                                        name = 'sequence')\n",
    "\n",
    "input_combined_embedded = tf.add_n([input_sequences_embedded, \n",
    "                                    input_positions_embedded, \n",
    "                                    input_word_endings_embedded])\n",
    "# TODO: is this necessary?\n",
    "input_combined_embedded = tf.multiply(input_combined_embedded,\n",
    "                                      expanded_sequence_mask,\n",
    "                                      name = 'input_combined_embedded')\n",
    "\n",
    "# Layer normalization\n",
    "# -------------------\n",
    "\n",
    "def layer_norm(x, num_units, scope, reuse=None, epsilon=1e-6):\n",
    "    with tf.variable_scope(scope, reuse=reuse):\n",
    "        scale = tf.get_variable(\n",
    "            \"layer_norm_scale\", [num_units], initializer=tf.ones_initializer())\n",
    "        bias = tf.get_variable(\n",
    "            \"layer_norm_bias\", [num_units], initializer=tf.zeros_initializer())\n",
    "        result = layer_norm_compute(x, epsilon, scale, bias)\n",
    "        return result\n",
    "\n",
    "def layer_norm_compute(x, epsilon, scale, bias):\n",
    "    # TODO: incorporate length into layer normalization?\n",
    "    mean = tf.reduce_mean(x, axis=[-1], keep_dims=True)\n",
    "    variance = tf.reduce_mean(tf.square(x - mean), axis=[-1], keep_dims=True)\n",
    "    norm_x = (x - mean) * tf.rsqrt(variance + epsilon)\n",
    "    return norm_x * scale + bias\n",
    "    \n",
    "# Attention\n",
    "# ---------\n",
    "\n",
    "def attention_layer(A):\n",
    "    A_T = tf.transpose(A, perm=[0, 2, 1])\n",
    "    scaled_logits = tf.matmul(A, A_T) / tf.sqrt(tf.cast(tf.shape(A)[-1], tf.float32))\n",
    "    return tf.matmul(tf.nn.softmax(scaled_logits), A)\n",
    "\n",
    "# Feed-forward\n",
    "# ------------\n",
    "\n",
    "def feed_forward_layer(A, num_units, scope, reuse=None):\n",
    "    with tf.variable_scope(scope, reuse=reuse):\n",
    "        A = tf.layers.dense(A, num_units, activation=tf.nn.relu, name='fc1')\n",
    "        return tf.layers.dense(A, num_units, name='fc2')\n",
    "\n",
    "# Layers\n",
    "# ------\n",
    "\n",
    "def combined_layer(A, num_units, mask, scope, reuse=None):\n",
    "    with tf.variable_scope(scope, reuse=reuse):\n",
    "        A = layer_norm(A + attention_layer(A), num_units, scope='attention_norm')\n",
    "        A = layer_norm(A + feed_forward_layer(A, num_units, 'ff'), num_units, scope='ff_norm')\n",
    "        A *= mask\n",
    "        return A\n",
    "    \n",
    "layer = input_combined_embedded\n",
    "for i in range(hp.num_layers):\n",
    "    layer = combined_layer(layer, hp.embedding_size, expanded_sequence_mask, 'layer_%d' % i)\n",
    "\n",
    "# Softmax\n",
    "# -------\n",
    "\n",
    "output_logits = tf.layers.dense(layer, hp.num_target_classes, name='softmax')\n",
    "\n",
    "output_sequences = tf.argmax(output_logits, axis=-1)\n",
    "output_sequences *= tf.cast(sequence_mask, tf.int64)\n",
    "\n",
    "# Loss\n",
    "# ----\n",
    "\n",
    "losses = tf.nn.sparse_softmax_cross_entropy_with_logits(labels=target_sequences,\n",
    "                                                        logits=output_logits)\n",
    "losses *= sequence_mask\n",
    "\n",
    "total_loss = tf.reduce_sum(losses)\n",
    "total_input_length = tf.reduce_sum(input_lengths)\n",
    "mean_loss  = total_loss / tf.cast(total_input_length, tf.float32)\n",
    "\n",
    "true_positives = tf.reduce_sum(output_sequences * target_sequences)\n",
    "false_positives = tf.reduce_sum(tf.maximum(output_sequences - target_sequences, 0))\n",
    "false_negatives = tf.reduce_sum(tf.maximum(target_sequences - output_sequences, 0))\n",
    "\n",
    "# Training\n",
    "# --------\n",
    "\n",
    "global_step = tf.Variable(0, name='global_step', trainable=False)\n",
    "optimizer = tf.train.AdamOptimizer(learning_rate=1e-3)\n",
    "train_op = optimizer.minimize(mean_loss, global_step=global_step)\n",
    "\n",
    "# Summaries\n",
    "# ---------\n",
    "\n",
    "tf.summary.scalar('mean_loss', mean_loss)\n",
    "\n",
    "merged_summaries = tf.summary.merge_all()"
   ]
  },
  {
   "cell_type": "code",
   "execution_count": 7,
   "metadata": {},
   "outputs": [
    {
     "name": "stdout",
     "output_type": "stream",
     "text": [
      "parameters for \"input_sequence_embeddings:0\": 2560000\n",
      "parameters for \"input_position_embeddings:0\": 10240\n",
      "parameters for \"input_word_ending_embeddings:0\": 512\n",
      "parameters for \"layer_0/attention_norm/layer_norm_scale:0\": 256\n",
      "parameters for \"layer_0/attention_norm/layer_norm_bias:0\": 256\n",
      "parameters for \"layer_0/ff/fc1/kernel:0\": 65536\n",
      "parameters for \"layer_0/ff/fc1/bias:0\": 256\n",
      "parameters for \"layer_0/ff/fc2/kernel:0\": 65536\n",
      "parameters for \"layer_0/ff/fc2/bias:0\": 256\n",
      "parameters for \"layer_0/ff_norm/layer_norm_scale:0\": 256\n",
      "parameters for \"layer_0/ff_norm/layer_norm_bias:0\": 256\n",
      "parameters for \"layer_1/attention_norm/layer_norm_scale:0\": 256\n",
      "parameters for \"layer_1/attention_norm/layer_norm_bias:0\": 256\n",
      "parameters for \"layer_1/ff/fc1/kernel:0\": 65536\n",
      "parameters for \"layer_1/ff/fc1/bias:0\": 256\n",
      "parameters for \"layer_1/ff/fc2/kernel:0\": 65536\n",
      "parameters for \"layer_1/ff/fc2/bias:0\": 256\n",
      "parameters for \"layer_1/ff_norm/layer_norm_scale:0\": 256\n",
      "parameters for \"layer_1/ff_norm/layer_norm_bias:0\": 256\n",
      "parameters for \"layer_2/attention_norm/layer_norm_scale:0\": 256\n",
      "parameters for \"layer_2/attention_norm/layer_norm_bias:0\": 256\n",
      "parameters for \"layer_2/ff/fc1/kernel:0\": 65536\n",
      "parameters for \"layer_2/ff/fc1/bias:0\": 256\n",
      "parameters for \"layer_2/ff/fc2/kernel:0\": 65536\n",
      "parameters for \"layer_2/ff/fc2/bias:0\": 256\n",
      "parameters for \"layer_2/ff_norm/layer_norm_scale:0\": 256\n",
      "parameters for \"layer_2/ff_norm/layer_norm_bias:0\": 256\n",
      "parameters for \"layer_3/attention_norm/layer_norm_scale:0\": 256\n",
      "parameters for \"layer_3/attention_norm/layer_norm_bias:0\": 256\n",
      "parameters for \"layer_3/ff/fc1/kernel:0\": 65536\n",
      "parameters for \"layer_3/ff/fc1/bias:0\": 256\n",
      "parameters for \"layer_3/ff/fc2/kernel:0\": 65536\n",
      "parameters for \"layer_3/ff/fc2/bias:0\": 256\n",
      "parameters for \"layer_3/ff_norm/layer_norm_scale:0\": 256\n",
      "parameters for \"layer_3/ff_norm/layer_norm_bias:0\": 256\n",
      "parameters for \"softmax/kernel:0\": 512\n",
      "parameters for \"softmax/bias:0\": 2\n",
      "total parameters: 3101698\n"
     ]
    }
   ],
   "source": [
    "total_parameters = 0\n",
    "for variable in tf.trainable_variables():\n",
    "    # shape is an array of tf.Dimension\n",
    "    shape = variable.get_shape()\n",
    "    variable_parameters = 1\n",
    "    for dim in shape:\n",
    "        variable_parameters *= dim.value\n",
    "    print('parameters for \"%s\": %d' % (variable.name, variable_parameters))\n",
    "    total_parameters += variable_parameters\n",
    "print('total parameters: %d' % total_parameters)"
   ]
  },
  {
   "cell_type": "code",
   "execution_count": 8,
   "metadata": {},
   "outputs": [],
   "source": [
    "sess.run(tf.global_variables_initializer())"
   ]
  },
  {
   "cell_type": "code",
   "execution_count": 9,
   "metadata": {},
   "outputs": [],
   "source": [
    "def evaluate_dataset(filename, header='results', train=False, show_progress=True):\n",
    "    cum_loss = 0\n",
    "    cum_input_length = 0\n",
    "    \n",
    "    cum_true_positives = 0\n",
    "    cum_false_positives = 0\n",
    "    cum_false_negatives = 0\n",
    "    \n",
    "    sess.run(dataset_iterator.initializer, feed_dict={\n",
    "        dataset_filenames: [filename]\n",
    "    })\n",
    "    \n",
    "    start = datetime.datetime.now()\n",
    "    \n",
    "    if show_progress:\n",
    "        progress = tqdm()\n",
    "        \n",
    "    while True:\n",
    "        try:\n",
    "            (_,\n",
    "             curr_loss, \n",
    "             curr_input_length, \n",
    "             curr_true_positives,\n",
    "             curr_false_positives,\n",
    "             curr_false_negatives) = sess.run((train_op if train else [],\n",
    "                                               total_loss,\n",
    "                                               total_input_length,\n",
    "                                               true_positives,\n",
    "                                               false_positives,\n",
    "                                               false_negatives))\n",
    "        except tf.errors.OutOfRangeError:\n",
    "            break\n",
    "\n",
    "        if show_progress:\n",
    "            progress.update(curr_input_length)\n",
    "\n",
    "        cum_loss += curr_loss\n",
    "        cum_input_length += curr_input_length\n",
    "        cum_true_positives += curr_true_positives\n",
    "        cum_false_positives += curr_false_positives\n",
    "        cum_false_negatives += curr_false_negatives\n",
    "    \n",
    "    if show_progress:\n",
    "        progress.close()\n",
    "\n",
    "    finish = datetime.datetime.now()\n",
    "    elapsed = (finish - start).total_seconds()\n",
    "    \n",
    "    precision = cum_true_positives / (cum_true_positives + cum_false_positives)\n",
    "    recall = cum_true_positives / (cum_true_positives + cum_false_negatives)\n",
    "    F1 = 2 * (precision * recall) / (precision + recall)\n",
    "    \n",
    "    print('%s: loss=%g, elapsed=%gs, precision=%g, recall=%g, F1=%g' % (header,\n",
    "                                                                        cum_loss/cum_input_length, \n",
    "                                                                        elapsed, \n",
    "                                                                        precision, \n",
    "                                                                        recall, \n",
    "                                                                        F1))"
   ]
  },
  {
   "cell_type": "code",
   "execution_count": 11,
   "metadata": {},
   "outputs": [
    {
     "name": "stdout",
     "output_type": "stream",
     "text": [
      "INFO:tensorflow:No assets to save.\n",
      "INFO:tensorflow:No assets to write.\n"
     ]
    },
    {
     "name": "stderr",
     "output_type": "stream",
     "text": [
      "23965049it [03:22, 118056.29it/s]\n"
     ]
    },
    {
     "name": "stdout",
     "output_type": "stream",
     "text": [
      "train 0: loss=0.190054, elapsed=202.999s, precision=0.677518, recall=0.236595, F1=0.350716\n",
      "test 0: loss=0.176862, elapsed=3.77949s, precision=0.691897, recall=0.311196, F1=0.429303\n",
      "INFO:tensorflow:SavedModel written to: b'../models/simplewiki/attention_1_layer/saved_model.pb'\n"
     ]
    },
    {
     "name": "stderr",
     "output_type": "stream",
     "text": [
      "23965049it [03:22, 118419.58it/s]\n"
     ]
    },
    {
     "name": "stdout",
     "output_type": "stream",
     "text": [
      "train 1: loss=0.16553, elapsed=202.376s, precision=0.705064, recall=0.337775, F1=0.45674\n",
      "test 1: loss=0.170106, elapsed=3.6613s, precision=0.657282, recall=0.393636, F1=0.492389\n",
      "INFO:tensorflow:SavedModel written to: b'../models/simplewiki/attention_1_layer/saved_model.pb'\n"
     ]
    },
    {
     "name": "stderr",
     "output_type": "stream",
     "text": [
      "23965049it [03:20, 117897.28it/s]\n"
     ]
    },
    {
     "name": "stdout",
     "output_type": "stream",
     "text": [
      "train 2: loss=0.157726, elapsed=200.658s, precision=0.716384, recall=0.376675, F1=0.49374\n",
      "test 2: loss=0.166875, elapsed=3.71976s, precision=0.661742, recall=0.411381, F1=0.507357\n",
      "INFO:tensorflow:SavedModel written to: b'../models/simplewiki/attention_1_layer/saved_model.pb'\n"
     ]
    },
    {
     "name": "stderr",
     "output_type": "stream",
     "text": [
      "23965049it [03:20, 119756.96it/s]\n"
     ]
    },
    {
     "name": "stdout",
     "output_type": "stream",
     "text": [
      "train 3: loss=0.152304, elapsed=200.116s, precision=0.724858, recall=0.406654, F1=0.521013\n",
      "test 3: loss=0.165437, elapsed=3.66072s, precision=0.674108, recall=0.404527, F1=0.505629\n",
      "INFO:tensorflow:SavedModel written to: b'../models/simplewiki/attention_1_layer/saved_model.pb'\n"
     ]
    },
    {
     "name": "stderr",
     "output_type": "stream",
     "text": [
      "23965049it [03:19, 119597.18it/s]\n"
     ]
    },
    {
     "name": "stdout",
     "output_type": "stream",
     "text": [
      "train 4: loss=0.147632, elapsed=199.973s, precision=0.732474, recall=0.433532, F1=0.544682\n",
      "test 4: loss=0.165813, elapsed=3.81279s, precision=0.668936, recall=0.41291, F1=0.510628\n",
      "INFO:tensorflow:SavedModel written to: b'../models/simplewiki/attention_1_layer/saved_model.pb'\n"
     ]
    },
    {
     "name": "stderr",
     "output_type": "stream",
     "text": [
      "23965049it [03:20, 119697.43it/s]\n"
     ]
    },
    {
     "name": "stdout",
     "output_type": "stream",
     "text": [
      "train 5: loss=0.143428, elapsed=200.215s, precision=0.739633, recall=0.457684, F1=0.565461\n",
      "test 5: loss=0.166853, elapsed=3.65828s, precision=0.666667, recall=0.413742, F1=0.5106\n",
      "INFO:tensorflow:SavedModel written to: b'../models/simplewiki/attention_1_layer/saved_model.pb'\n"
     ]
    },
    {
     "name": "stderr",
     "output_type": "stream",
     "text": [
      "23965049it [03:21, 118083.84it/s]\n"
     ]
    },
    {
     "name": "stdout",
     "output_type": "stream",
     "text": [
      "train 6: loss=0.139503, elapsed=201.125s, precision=0.746359, recall=0.479805, F1=0.584109\n",
      "test 6: loss=0.16953, elapsed=3.63508s, precision=0.643778, recall=0.436386, F1=0.520172\n",
      "INFO:tensorflow:SavedModel written to: b'../models/simplewiki/attention_1_layer/saved_model.pb'\n"
     ]
    },
    {
     "name": "stderr",
     "output_type": "stream",
     "text": [
      "23965049it [03:20, 119316.55it/s]\n"
     ]
    },
    {
     "name": "stdout",
     "output_type": "stream",
     "text": [
      "train 7: loss=0.135939, elapsed=200.854s, precision=0.753279, recall=0.500535, F1=0.601433\n",
      "test 7: loss=0.172956, elapsed=3.63745s, precision=0.623584, recall=0.459331, F1=0.529001\n",
      "INFO:tensorflow:SavedModel written to: b'../models/simplewiki/attention_1_layer/saved_model.pb'\n"
     ]
    },
    {
     "name": "stderr",
     "output_type": "stream",
     "text": [
      "23965049it [03:20, 119700.62it/s]\n"
     ]
    },
    {
     "name": "stdout",
     "output_type": "stream",
     "text": [
      "train 8: loss=0.132682, elapsed=200.21s, precision=0.759504, recall=0.51839, F1=0.6162\n",
      "test 8: loss=0.176925, elapsed=3.63849s, precision=0.605171, recall=0.474018, F1=0.531625\n",
      "INFO:tensorflow:SavedModel written to: b'../models/simplewiki/attention_1_layer/saved_model.pb'\n"
     ]
    },
    {
     "name": "stderr",
     "output_type": "stream",
     "text": [
      "23965049it [03:20, 119496.85it/s]\n"
     ]
    },
    {
     "name": "stdout",
     "output_type": "stream",
     "text": [
      "train 9: loss=0.129713, elapsed=200.551s, precision=0.765286, recall=0.534754, F1=0.62958\n",
      "test 9: loss=0.180908, elapsed=3.63922s, precision=0.59889, recall=0.473758, F1=0.529025\n",
      "INFO:tensorflow:SavedModel written to: b'../models/simplewiki/attention_1_layer/saved_model.pb'\n"
     ]
    },
    {
     "name": "stderr",
     "output_type": "stream",
     "text": [
      "23965049it [03:20, 119301.49it/s]\n"
     ]
    },
    {
     "name": "stdout",
     "output_type": "stream",
     "text": [
      "train 10: loss=0.127032, elapsed=200.88s, precision=0.770548, recall=0.548818, F1=0.641051\n",
      "test 10: loss=0.184372, elapsed=3.64299s, precision=0.573129, recall=0.50182, F1=0.535109\n",
      "INFO:tensorflow:SavedModel written to: b'../models/simplewiki/attention_1_layer/saved_model.pb'\n"
     ]
    },
    {
     "name": "stderr",
     "output_type": "stream",
     "text": [
      "23965049it [03:20, 117942.42it/s]\n"
     ]
    },
    {
     "name": "stdout",
     "output_type": "stream",
     "text": [
      "train 11: loss=0.124693, elapsed=200.886s, precision=0.7755, recall=0.561095, F1=0.651101\n",
      "test 11: loss=0.184787, elapsed=3.6369s, precision=0.578737, recall=0.489484, F1=0.530382\n",
      "INFO:tensorflow:SavedModel written to: b'../models/simplewiki/attention_1_layer/saved_model.pb'\n"
     ]
    },
    {
     "name": "stderr",
     "output_type": "stream",
     "text": [
      "23965049it [03:19, 119876.17it/s]\n"
     ]
    },
    {
     "name": "stdout",
     "output_type": "stream",
     "text": [
      "train 12: loss=0.122526, elapsed=199.917s, precision=0.779807, recall=0.571854, F1=0.659834\n",
      "test 12: loss=0.186301, elapsed=3.64651s, precision=0.584234, recall=0.480248, F1=0.527162\n",
      "INFO:tensorflow:SavedModel written to: b'../models/simplewiki/attention_1_layer/saved_model.pb'\n"
     ]
    },
    {
     "name": "stderr",
     "output_type": "stream",
     "text": [
      "23965049it [03:20, 118618.41it/s]\n"
     ]
    },
    {
     "name": "stdout",
     "output_type": "stream",
     "text": [
      "train 13: loss=0.120342, elapsed=200.149s, precision=0.784084, recall=0.5829, F1=0.668688\n",
      "test 13: loss=0.187226, elapsed=3.63956s, precision=0.598517, recall=0.457688, F1=0.518714\n",
      "INFO:tensorflow:SavedModel written to: b'../models/simplewiki/attention_1_layer/saved_model.pb'\n"
     ]
    },
    {
     "name": "stderr",
     "output_type": "stream",
     "text": [
      "23965049it [03:20, 119049.12it/s]\n"
     ]
    },
    {
     "name": "stdout",
     "output_type": "stream",
     "text": [
      "train 14: loss=0.118347, elapsed=200.197s, precision=0.788379, recall=0.59238, F1=0.676469\n",
      "test 14: loss=0.190375, elapsed=3.63876s, precision=0.598657, recall=0.455285, F1=0.517219\n",
      "INFO:tensorflow:SavedModel written to: b'../models/simplewiki/attention_1_layer/saved_model.pb'\n"
     ]
    },
    {
     "name": "stderr",
     "output_type": "stream",
     "text": [
      "23965049it [03:20, 119820.70it/s]\n"
     ]
    },
    {
     "name": "stdout",
     "output_type": "stream",
     "text": [
      "train 15: loss=0.116502, elapsed=200.009s, precision=0.792342, recall=0.601205, F1=0.683665\n",
      "test 15: loss=0.19407, elapsed=3.63864s, precision=0.600301, recall=0.448181, F1=0.513206\n",
      "INFO:tensorflow:SavedModel written to: b'../models/simplewiki/attention_1_layer/saved_model.pb'\n"
     ]
    },
    {
     "name": "stderr",
     "output_type": "stream",
     "text": [
      "23965049it [03:20, 119707.67it/s]\n"
     ]
    },
    {
     "name": "stdout",
     "output_type": "stream",
     "text": [
      "train 16: loss=0.115059, elapsed=200.198s, precision=0.79494, recall=0.60805, F1=0.689047\n",
      "test 16: loss=0.196955, elapsed=3.63193s, precision=0.599375, recall=0.451093, F1=0.514769\n",
      "INFO:tensorflow:SavedModel written to: b'../models/simplewiki/attention_1_layer/saved_model.pb'\n"
     ]
    },
    {
     "name": "stderr",
     "output_type": "stream",
     "text": [
      "23965049it [03:20, 118692.05it/s]\n"
     ]
    },
    {
     "name": "stdout",
     "output_type": "stream",
     "text": [
      "train 17: loss=0.113459, elapsed=200.21s, precision=0.798507, recall=0.61554, F1=0.695186\n",
      "test 17: loss=0.203233, elapsed=3.63382s, precision=0.60198, recall=0.445809, F1=0.512256\n",
      "INFO:tensorflow:SavedModel written to: b'../models/simplewiki/attention_1_layer/saved_model.pb'\n"
     ]
    },
    {
     "name": "stderr",
     "output_type": "stream",
     "text": [
      "23965049it [03:20, 119746.58it/s]\n"
     ]
    },
    {
     "name": "stdout",
     "output_type": "stream",
     "text": [
      "train 18: loss=0.11188, elapsed=200.133s, precision=0.801575, recall=0.622567, F1=0.700821\n",
      "test 18: loss=0.203548, elapsed=3.64453s, precision=0.599814, recall=0.442252, F1=0.509121\n",
      "INFO:tensorflow:SavedModel written to: b'../models/simplewiki/attention_1_layer/saved_model.pb'\n"
     ]
    },
    {
     "name": "stderr",
     "output_type": "stream",
     "text": [
      "23965049it [03:20, 119783.00it/s]\n"
     ]
    },
    {
     "name": "stdout",
     "output_type": "stream",
     "text": [
      "train 19: loss=0.110254, elapsed=200.073s, precision=0.805119, recall=0.629825, F1=0.706765\n",
      "test 19: loss=0.206386, elapsed=3.67291s, precision=0.61768, recall=0.425891, F1=0.504162\n",
      "INFO:tensorflow:SavedModel written to: b'../models/simplewiki/attention_1_layer/saved_model.pb'\n"
     ]
    },
    {
     "name": "stderr",
     "output_type": "stream",
     "text": [
      "23965049it [03:20, 118008.71it/s]\n"
     ]
    },
    {
     "name": "stdout",
     "output_type": "stream",
     "text": [
      "train 20: loss=0.109012, elapsed=200.335s, precision=0.807673, recall=0.635695, F1=0.711438\n",
      "test 20: loss=0.209387, elapsed=3.63105s, precision=0.604512, recall=0.42923, F1=0.50201\n",
      "INFO:tensorflow:SavedModel written to: b'../models/simplewiki/attention_1_layer/saved_model.pb'\n"
     ]
    },
    {
     "name": "stderr",
     "output_type": "stream",
     "text": [
      "23965049it [03:20, 119637.62it/s]\n"
     ]
    },
    {
     "name": "stdout",
     "output_type": "stream",
     "text": [
      "train 21: loss=0.107942, elapsed=200.315s, precision=0.809632, recall=0.640576, F1=0.71525\n",
      "test 21: loss=0.206869, elapsed=3.63434s, precision=0.60334, recall=0.429854, F1=0.502032\n",
      "INFO:tensorflow:SavedModel written to: b'../models/simplewiki/attention_1_layer/saved_model.pb'\n"
     ]
    },
    {
     "name": "stderr",
     "output_type": "stream",
     "text": [
      "23965049it [03:20, 119562.77it/s]\n"
     ]
    },
    {
     "name": "stdout",
     "output_type": "stream",
     "text": [
      "train 22: loss=0.106519, elapsed=200.441s, precision=0.813018, recall=0.64618, F1=0.720061\n",
      "test 22: loss=0.215404, elapsed=3.65578s, precision=0.578612, recall=0.458499, F1=0.5116\n",
      "INFO:tensorflow:SavedModel written to: b'../models/simplewiki/attention_1_layer/saved_model.pb'\n"
     ]
    },
    {
     "name": "stderr",
     "output_type": "stream",
     "text": [
      "23965049it [03:20, 118427.76it/s]\n"
     ]
    },
    {
     "name": "stdout",
     "output_type": "stream",
     "text": [
      "train 23: loss=0.105335, elapsed=200.327s, precision=0.815076, recall=0.651402, F1=0.724105\n",
      "test 23: loss=0.210977, elapsed=3.6415s, precision=0.562745, recall=0.474454, F1=0.514842\n",
      "INFO:tensorflow:SavedModel written to: b'../models/simplewiki/attention_1_layer/saved_model.pb'\n"
     ]
    },
    {
     "name": "stderr",
     "output_type": "stream",
     "text": [
      "23965049it [03:20, 119656.13it/s]\n"
     ]
    },
    {
     "name": "stdout",
     "output_type": "stream",
     "text": [
      "train 24: loss=0.104378, elapsed=200.284s, precision=0.816961, recall=0.655372, F1=0.727299\n",
      "test 24: loss=0.217062, elapsed=3.6363s, precision=0.5414, recall=0.504088, F1=0.522078\n",
      "INFO:tensorflow:SavedModel written to: b'../models/simplewiki/attention_1_layer/saved_model.pb'\n"
     ]
    },
    {
     "name": "stderr",
     "output_type": "stream",
     "text": [
      "23965049it [03:20, 119636.12it/s]\n"
     ]
    },
    {
     "name": "stdout",
     "output_type": "stream",
     "text": [
      "train 25: loss=0.103312, elapsed=200.318s, precision=0.819338, recall=0.659868, F1=0.731007\n",
      "test 25: loss=0.214167, elapsed=3.64076s, precision=0.533535, recall=0.511088, F1=0.52207\n",
      "INFO:tensorflow:SavedModel written to: b'../models/simplewiki/attention_1_layer/saved_model.pb'\n"
     ]
    },
    {
     "name": "stderr",
     "output_type": "stream",
     "text": [
      "23965049it [03:20, 119679.23it/s]\n"
     ]
    },
    {
     "name": "stdout",
     "output_type": "stream",
     "text": [
      "train 26: loss=0.102269, elapsed=200.246s, precision=0.821262, recall=0.664333, F1=0.734509\n",
      "test 26: loss=0.217186, elapsed=3.64182s, precision=0.543588, recall=0.495704, F1=0.518543\n",
      "INFO:tensorflow:SavedModel written to: b'../models/simplewiki/attention_1_layer/saved_model.pb'\n"
     ]
    },
    {
     "name": "stderr",
     "output_type": "stream",
     "text": [
      "23965049it [03:20, 119648.92it/s]\n"
     ]
    },
    {
     "name": "stdout",
     "output_type": "stream",
     "text": [
      "train 27: loss=0.101169, elapsed=200.296s, precision=0.82316, recall=0.668619, F1=0.737884\n",
      "test 27: loss=0.216737, elapsed=3.64731s, precision=0.539236, recall=0.498461, F1=0.518047\n",
      "INFO:tensorflow:SavedModel written to: b'../models/simplewiki/attention_1_layer/saved_model.pb'\n"
     ]
    },
    {
     "name": "stderr",
     "output_type": "stream",
     "text": [
      "23965049it [03:20, 119721.58it/s]\n"
     ]
    },
    {
     "name": "stdout",
     "output_type": "stream",
     "text": [
      "train 28: loss=0.100578, elapsed=200.175s, precision=0.82376, recall=0.671639, F1=0.739962\n",
      "test 28: loss=0.213256, elapsed=3.639s, precision=0.574666, recall=0.458426, F1=0.510007\n",
      "INFO:tensorflow:SavedModel written to: b'../models/simplewiki/attention_1_layer/saved_model.pb'\n"
     ]
    },
    {
     "name": "stderr",
     "output_type": "stream",
     "text": [
      "23965049it [03:20, 118374.76it/s]\n"
     ]
    },
    {
     "name": "stdout",
     "output_type": "stream",
     "text": [
      "train 29: loss=0.0995106, elapsed=200.215s, precision=0.826127, recall=0.675608, F1=0.743324\n",
      "test 29: loss=0.215913, elapsed=3.63659s, precision=0.587736, recall=0.440359, F1=0.503484\n",
      "INFO:tensorflow:SavedModel written to: b'../models/simplewiki/attention_1_layer/saved_model.pb'\n"
     ]
    },
    {
     "name": "stderr",
     "output_type": "stream",
     "text": [
      "23965049it [03:20, 119767.67it/s]\n"
     ]
    },
    {
     "name": "stdout",
     "output_type": "stream",
     "text": [
      "train 30: loss=0.0987147, elapsed=200.098s, precision=0.827734, recall=0.678902, F1=0.745967\n",
      "test 30: loss=0.224617, elapsed=3.63223s, precision=0.613229, recall=0.411277, F1=0.492348\n",
      "INFO:tensorflow:SavedModel written to: b'../models/simplewiki/attention_1_layer/saved_model.pb'\n"
     ]
    },
    {
     "name": "stderr",
     "output_type": "stream",
     "text": [
      "23965049it [03:20, 119622.70it/s]\n"
     ]
    },
    {
     "name": "stdout",
     "output_type": "stream",
     "text": [
      "train 31: loss=0.0979734, elapsed=200.341s, precision=0.829255, recall=0.682049, F1=0.748483\n",
      "test 31: loss=0.227101, elapsed=3.64391s, precision=0.627848, recall=0.396403, F1=0.485976\n",
      "INFO:tensorflow:SavedModel written to: b'../models/simplewiki/attention_1_layer/saved_model.pb'\n"
     ]
    },
    {
     "name": "stderr",
     "output_type": "stream",
     "text": [
      "23965049it [03:20, 119567.81it/s]\n"
     ]
    },
    {
     "name": "stdout",
     "output_type": "stream",
     "text": [
      "train 32: loss=0.0969465, elapsed=200.432s, precision=0.831081, recall=0.686083, F1=0.751653\n",
      "test 32: loss=0.229471, elapsed=3.65275s, precision=0.598236, recall=0.419765, F1=0.493356\n",
      "INFO:tensorflow:SavedModel written to: b'../models/simplewiki/attention_1_layer/saved_model.pb'\n"
     ]
    },
    {
     "name": "stderr",
     "output_type": "stream",
     "text": [
      "23965049it [03:20, 119693.24it/s]\n"
     ]
    },
    {
     "name": "stdout",
     "output_type": "stream",
     "text": [
      "train 33: loss=0.0960434, elapsed=200.223s, precision=0.832741, recall=0.689981, F1=0.754669\n",
      "test 33: loss=0.229174, elapsed=3.64856s, precision=0.596931, recall=0.421574, F1=0.494157\n",
      "INFO:tensorflow:SavedModel written to: b'../models/simplewiki/attention_1_layer/saved_model.pb'\n"
     ]
    },
    {
     "name": "stderr",
     "output_type": "stream",
     "text": [
      "23965049it [03:20, 118636.04it/s]\n"
     ]
    },
    {
     "name": "stdout",
     "output_type": "stream",
     "text": [
      "train 34: loss=0.095027, elapsed=200.231s, precision=0.835211, recall=0.694015, F1=0.758094\n",
      "test 34: loss=0.230069, elapsed=3.63559s, precision=0.594053, recall=0.422458, F1=0.493773\n",
      "INFO:tensorflow:SavedModel written to: b'../models/simplewiki/attention_1_layer/saved_model.pb'\n"
     ]
    },
    {
     "name": "stderr",
     "output_type": "stream",
     "text": [
      "23965049it [03:20, 119671.34it/s]\n"
     ]
    },
    {
     "name": "stdout",
     "output_type": "stream",
     "text": [
      "train 35: loss=0.0942449, elapsed=200.259s, precision=0.836236, recall=0.697262, F1=0.760452\n",
      "test 35: loss=0.23354, elapsed=3.62433s, precision=0.588685, recall=0.427305, F1=0.495179\n",
      "INFO:tensorflow:SavedModel written to: b'../models/simplewiki/attention_1_layer/saved_model.pb'\n"
     ]
    },
    {
     "name": "stderr",
     "output_type": "stream",
     "text": [
      "23965049it [03:20, 119741.87it/s]\n"
     ]
    },
    {
     "name": "stdout",
     "output_type": "stream",
     "text": [
      "train 36: loss=0.0934271, elapsed=200.141s, precision=0.837836, recall=0.70062, F1=0.763109\n",
      "test 36: loss=0.232007, elapsed=3.64371s, precision=0.590945, recall=0.422209, F1=0.492526\n",
      "INFO:tensorflow:SavedModel written to: b'../models/simplewiki/attention_1_layer/saved_model.pb'\n"
     ]
    },
    {
     "name": "stderr",
     "output_type": "stream",
     "text": [
      "23965049it [03:20, 119629.16it/s]\n"
     ]
    },
    {
     "name": "stdout",
     "output_type": "stream",
     "text": [
      "train 37: loss=0.0928072, elapsed=200.329s, precision=0.838596, recall=0.703111, F1=0.7649\n",
      "test 37: loss=0.243756, elapsed=3.63855s, precision=0.596928, recall=0.418704, F1=0.492178\n",
      "INFO:tensorflow:SavedModel written to: b'../models/simplewiki/attention_1_layer/saved_model.pb'\n"
     ]
    },
    {
     "name": "stderr",
     "output_type": "stream",
     "text": [
      "23965049it [03:20, 119697.05it/s]\n"
     ]
    },
    {
     "name": "stdout",
     "output_type": "stream",
     "text": [
      "train 38: loss=0.0922693, elapsed=200.216s, precision=0.839677, recall=0.705044, F1=0.766493\n",
      "test 38: loss=0.241078, elapsed=3.64476s, precision=0.594543, recall=0.416134, F1=0.489592\n",
      "INFO:tensorflow:SavedModel written to: b'../models/simplewiki/attention_1_layer/saved_model.pb'\n"
     ]
    },
    {
     "name": "stderr",
     "output_type": "stream",
     "text": [
      "23965049it [03:20, 119597.40it/s]\n"
     ]
    },
    {
     "name": "stdout",
     "output_type": "stream",
     "text": [
      "train 39: loss=0.0915646, elapsed=200.384s, precision=0.840961, recall=0.708164, F1=0.768871\n",
      "test 39: loss=0.241277, elapsed=3.64469s, precision=0.599551, recall=0.416603, F1=0.491608\n",
      "INFO:tensorflow:SavedModel written to: b'../models/simplewiki/attention_1_layer/saved_model.pb'\n"
     ]
    },
    {
     "name": "stderr",
     "output_type": "stream",
     "text": [
      "23965049it [03:20, 118660.95it/s]\n"
     ]
    },
    {
     "name": "stdout",
     "output_type": "stream",
     "text": [
      "train 40: loss=0.0906916, elapsed=200.201s, precision=0.842761, recall=0.71152, F1=0.7716\n",
      "test 40: loss=0.246956, elapsed=3.62954s, precision=0.595846, recall=0.412411, F1=0.487442\n",
      "INFO:tensorflow:SavedModel written to: b'../models/simplewiki/attention_1_layer/saved_model.pb'\n"
     ]
    },
    {
     "name": "stderr",
     "output_type": "stream",
     "text": [
      "23965049it [03:20, 119663.21it/s]\n"
     ]
    },
    {
     "name": "stdout",
     "output_type": "stream",
     "text": [
      "train 41: loss=0.0899328, elapsed=200.272s, precision=0.844132, recall=0.714616, F1=0.773993\n",
      "test 41: loss=0.249434, elapsed=3.63147s, precision=0.584745, recall=0.428034, F1=0.494265\n",
      "INFO:tensorflow:SavedModel written to: b'../models/simplewiki/attention_1_layer/saved_model.pb'\n"
     ]
    },
    {
     "name": "stderr",
     "output_type": "stream",
     "text": [
      "23965049it [03:20, 119685.62it/s]\n"
     ]
    },
    {
     "name": "stdout",
     "output_type": "stream",
     "text": [
      "train 42: loss=0.0894314, elapsed=200.235s, precision=0.844805, recall=0.716663, F1=0.775476\n",
      "test 42: loss=0.247235, elapsed=3.63439s, precision=0.564996, recall=0.451676, F1=0.50202\n",
      "INFO:tensorflow:SavedModel written to: b'../models/simplewiki/attention_1_layer/saved_model.pb'\n"
     ]
    },
    {
     "name": "stderr",
     "output_type": "stream",
     "text": [
      "23965049it [03:20, 119590.15it/s]\n"
     ]
    },
    {
     "name": "stdout",
     "output_type": "stream",
     "text": [
      "train 43: loss=0.0888842, elapsed=200.395s, precision=0.845253, recall=0.71867, F1=0.776839\n",
      "test 43: loss=0.252298, elapsed=3.63515s, precision=0.537697, recall=0.484024, F1=0.509451\n",
      "INFO:tensorflow:SavedModel written to: b'../models/simplewiki/attention_1_layer/saved_model.pb'\n"
     ]
    },
    {
     "name": "stderr",
     "output_type": "stream",
     "text": [
      "23965049it [03:20, 118675.28it/s]\n"
     ]
    },
    {
     "name": "stdout",
     "output_type": "stream",
     "text": [
      "train 44: loss=0.0882696, elapsed=200.225s, precision=0.846448, recall=0.720843, F1=0.778612\n",
      "test 44: loss=0.250428, elapsed=3.63532s, precision=0.522453, recall=0.495787, F1=0.508771\n",
      "INFO:tensorflow:SavedModel written to: b'../models/simplewiki/attention_1_layer/saved_model.pb'\n"
     ]
    },
    {
     "name": "stderr",
     "output_type": "stream",
     "text": [
      "23965049it [03:20, 119682.51it/s]\n"
     ]
    },
    {
     "name": "stdout",
     "output_type": "stream",
     "text": [
      "train 45: loss=0.0875273, elapsed=200.24s, precision=0.848142, recall=0.723634, F1=0.780957\n",
      "test 45: loss=0.248631, elapsed=3.63909s, precision=0.529263, recall=0.495787, F1=0.511979\n",
      "INFO:tensorflow:SavedModel written to: b'../models/simplewiki/attention_1_layer/saved_model.pb'\n"
     ]
    },
    {
     "name": "stderr",
     "output_type": "stream",
     "text": [
      "23965049it [03:20, 118304.80it/s]\n"
     ]
    },
    {
     "name": "stdout",
     "output_type": "stream",
     "text": [
      "train 46: loss=0.0871087, elapsed=200.312s, precision=0.848907, recall=0.725566, F1=0.782405\n",
      "test 46: loss=0.257154, elapsed=3.62713s, precision=0.518317, recall=0.510495, F1=0.514376\n",
      "INFO:tensorflow:SavedModel written to: b'../models/simplewiki/attention_1_layer/saved_model.pb'\n"
     ]
    },
    {
     "name": "stderr",
     "output_type": "stream",
     "text": [
      "23965049it [03:20, 119547.13it/s]\n"
     ]
    },
    {
     "name": "stdout",
     "output_type": "stream",
     "text": [
      "train 47: loss=0.0863985, elapsed=200.467s, precision=0.850136, recall=0.727996, F1=0.78434\n",
      "test 47: loss=0.262683, elapsed=3.63384s, precision=0.523984, recall=0.494352, F1=0.508737\n",
      "INFO:tensorflow:SavedModel written to: b'../models/simplewiki/attention_1_layer/saved_model.pb'\n"
     ]
    },
    {
     "name": "stderr",
     "output_type": "stream",
     "text": [
      "23965049it [03:20, 117942.24it/s]\n"
     ]
    },
    {
     "name": "stdout",
     "output_type": "stream",
     "text": [
      "train 48: loss=0.086018, elapsed=200.237s, precision=0.850614, recall=0.729704, F1=0.785533\n",
      "test 48: loss=0.251579, elapsed=3.64821s, precision=0.529622, recall=0.490025, F1=0.509055\n",
      "INFO:tensorflow:SavedModel written to: b'../models/simplewiki/attention_1_layer/saved_model.pb'\n"
     ]
    },
    {
     "name": "stderr",
     "output_type": "stream",
     "text": [
      "23965049it [03:26, 116037.90it/s]\n"
     ]
    },
    {
     "name": "stdout",
     "output_type": "stream",
     "text": [
      "train 49: loss=0.0856267, elapsed=206.529s, precision=0.851161, recall=0.731503, F1=0.786809\n",
      "test 49: loss=0.262448, elapsed=3.75577s, precision=0.527514, recall=0.497254, F1=0.511937\n",
      "INFO:tensorflow:SavedModel written to: b'../models/simplewiki/attention_1_layer/saved_model.pb'\n"
     ]
    },
    {
     "name": "stderr",
     "output_type": "stream",
     "text": [
      "23965049it [03:20, 118504.09it/s]\n"
     ]
    },
    {
     "name": "stdout",
     "output_type": "stream",
     "text": [
      "train 50: loss=0.0849999, elapsed=200.193s, precision=0.852404, recall=0.733729, F1=0.788627\n",
      "test 50: loss=0.260715, elapsed=3.645s, precision=0.539072, recall=0.482391, F1=0.509159\n",
      "INFO:tensorflow:SavedModel written to: b'../models/simplewiki/attention_1_layer/saved_model.pb'\n"
     ]
    },
    {
     "name": "stderr",
     "output_type": "stream",
     "text": [
      "23965049it [03:20, 119614.33it/s]\n"
     ]
    },
    {
     "name": "stdout",
     "output_type": "stream",
     "text": [
      "train 51: loss=0.0843833, elapsed=200.355s, precision=0.853752, recall=0.736193, F1=0.790626\n",
      "test 51: loss=0.259812, elapsed=3.6426s, precision=0.527441, recall=0.493416, F1=0.509861\n",
      "INFO:tensorflow:SavedModel written to: b'../models/simplewiki/attention_1_layer/saved_model.pb'\n"
     ]
    },
    {
     "name": "stderr",
     "output_type": "stream",
     "text": [
      "23965049it [03:20, 119605.78it/s]\n"
     ]
    },
    {
     "name": "stdout",
     "output_type": "stream",
     "text": [
      "train 52: loss=0.0837843, elapsed=200.369s, precision=0.854812, recall=0.7386, F1=0.792468\n",
      "test 52: loss=0.256943, elapsed=3.63636s, precision=0.536174, recall=0.477772, F1=0.505291\n",
      "INFO:tensorflow:SavedModel written to: b'../models/simplewiki/attention_1_layer/saved_model.pb'\n"
     ]
    },
    {
     "name": "stderr",
     "output_type": "stream",
     "text": [
      "23965049it [03:20, 119646.89it/s]\n"
     ]
    },
    {
     "name": "stdout",
     "output_type": "stream",
     "text": [
      "train 53: loss=0.0833337, elapsed=200.3s, precision=0.854998, recall=0.740715, F1=0.793764\n",
      "test 53: loss=0.250907, elapsed=3.62298s, precision=0.550777, recall=0.463866, F1=0.503599\n",
      "INFO:tensorflow:SavedModel written to: b'../models/simplewiki/attention_1_layer/saved_model.pb'\n"
     ]
    },
    {
     "name": "stderr",
     "output_type": "stream",
     "text": [
      "23965049it [03:20, 119595.00it/s]\n"
     ]
    },
    {
     "name": "stdout",
     "output_type": "stream",
     "text": [
      "train 54: loss=0.0827489, elapsed=200.387s, precision=0.856468, recall=0.742392, F1=0.79536\n",
      "test 54: loss=0.256709, elapsed=3.64258s, precision=0.573677, recall=0.43183, F1=0.492748\n",
      "INFO:tensorflow:SavedModel written to: b'../models/simplewiki/attention_1_layer/saved_model.pb'\n"
     ]
    },
    {
     "name": "stderr",
     "output_type": "stream",
     "text": [
      "23965049it [03:20, 119570.37it/s]\n"
     ]
    },
    {
     "name": "stdout",
     "output_type": "stream",
     "text": [
      "train 55: loss=0.0823004, elapsed=200.428s, precision=0.857258, recall=0.744356, F1=0.796827\n",
      "test 55: loss=0.260823, elapsed=3.65107s, precision=0.556339, recall=0.453007, F1=0.499384\n",
      "INFO:tensorflow:SavedModel written to: b'../models/simplewiki/attention_1_layer/saved_model.pb'\n"
     ]
    },
    {
     "name": "stderr",
     "output_type": "stream",
     "text": [
      "23965049it [03:20, 119689.85it/s]\n"
     ]
    },
    {
     "name": "stdout",
     "output_type": "stream",
     "text": [
      "train 56: loss=0.0816855, elapsed=200.228s, precision=0.858544, recall=0.746587, F1=0.798661\n",
      "test 56: loss=0.26197, elapsed=3.63613s, precision=0.56141, recall=0.440161, F1=0.493447\n",
      "INFO:tensorflow:SavedModel written to: b'../models/simplewiki/attention_1_layer/saved_model.pb'\n"
     ]
    },
    {
     "name": "stderr",
     "output_type": "stream",
     "text": [
      "23965049it [03:20, 119698.23it/s]\n"
     ]
    },
    {
     "name": "stdout",
     "output_type": "stream",
     "text": [
      "train 57: loss=0.081246, elapsed=200.214s, precision=0.858942, recall=0.748179, F1=0.799744\n",
      "test 57: loss=0.26433, elapsed=3.62554s, precision=0.56353, recall=0.44194, F1=0.495383\n",
      "INFO:tensorflow:SavedModel written to: b'../models/simplewiki/attention_1_layer/saved_model.pb'\n"
     ]
    },
    {
     "name": "stderr",
     "output_type": "stream",
     "text": [
      "23965049it [03:20, 119643.08it/s]\n"
     ]
    },
    {
     "name": "stdout",
     "output_type": "stream",
     "text": [
      "train 58: loss=0.0805462, elapsed=200.306s, precision=0.860608, recall=0.750579, F1=0.801836\n",
      "test 58: loss=0.261465, elapsed=3.6546s, precision=0.553619, recall=0.452289, F1=0.49785\n",
      "INFO:tensorflow:SavedModel written to: b'../models/simplewiki/attention_1_layer/saved_model.pb'\n"
     ]
    },
    {
     "name": "stderr",
     "output_type": "stream",
     "text": [
      "23965049it [03:20, 119573.32it/s]\n"
     ]
    },
    {
     "name": "stdout",
     "output_type": "stream",
     "text": [
      "train 59: loss=0.0801762, elapsed=200.423s, precision=0.860943, recall=0.75244, F1=0.803043\n",
      "test 59: loss=0.264653, elapsed=3.63676s, precision=0.576138, recall=0.428283, F1=0.491328\n",
      "INFO:tensorflow:SavedModel written to: b'../models/simplewiki/attention_1_layer/saved_model.pb'\n"
     ]
    },
    {
     "name": "stderr",
     "output_type": "stream",
     "text": [
      "23965049it [03:20, 117744.63it/s]\n"
     ]
    },
    {
     "name": "stdout",
     "output_type": "stream",
     "text": [
      "train 60: loss=0.0796199, elapsed=200.242s, precision=0.862061, recall=0.754474, F1=0.804687\n",
      "test 60: loss=0.268196, elapsed=3.6337s, precision=0.579883, recall=0.420181, F1=0.48728\n",
      "INFO:tensorflow:SavedModel written to: b'../models/simplewiki/attention_1_layer/saved_model.pb'\n"
     ]
    },
    {
     "name": "stderr",
     "output_type": "stream",
     "text": [
      "23965049it [03:20, 119605.79it/s]\n"
     ]
    },
    {
     "name": "stdout",
     "output_type": "stream",
     "text": [
      "train 61: loss=0.0793292, elapsed=200.369s, precision=0.862351, recall=0.755614, F1=0.805462\n",
      "test 61: loss=0.272214, elapsed=3.63778s, precision=0.593303, recall=0.405244, F1=0.481565\n",
      "INFO:tensorflow:SavedModel written to: b'../models/simplewiki/attention_1_layer/saved_model.pb'\n"
     ]
    },
    {
     "name": "stderr",
     "output_type": "stream",
     "text": [
      "23965049it [03:20, 119692.22it/s]\n"
     ]
    },
    {
     "name": "stdout",
     "output_type": "stream",
     "text": [
      "train 62: loss=0.0789761, elapsed=200.224s, precision=0.862732, recall=0.757159, F1=0.806505\n",
      "test 62: loss=0.269808, elapsed=3.64238s, precision=0.593255, recall=0.401614, F1=0.478977\n",
      "INFO:tensorflow:SavedModel written to: b'../models/simplewiki/attention_1_layer/saved_model.pb'\n"
     ]
    },
    {
     "name": "stderr",
     "output_type": "stream",
     "text": [
      "23965049it [03:20, 118381.65it/s]\n"
     ]
    },
    {
     "name": "stdout",
     "output_type": "stream",
     "text": [
      "train 63: loss=0.0785656, elapsed=200.441s, precision=0.863598, recall=0.758353, F1=0.807561\n",
      "test 63: loss=0.272516, elapsed=3.62677s, precision=0.58183, recall=0.413004, F1=0.483092\n",
      "INFO:tensorflow:SavedModel written to: b'../models/simplewiki/attention_1_layer/saved_model.pb'\n"
     ]
    },
    {
     "name": "stderr",
     "output_type": "stream",
     "text": [
      "23965049it [03:20, 118815.27it/s]\n"
     ]
    },
    {
     "name": "stdout",
     "output_type": "stream",
     "text": [
      "train 64: loss=0.0777719, elapsed=200.329s, precision=0.865475, recall=0.761048, F1=0.809909\n",
      "test 64: loss=0.277761, elapsed=3.63471s, precision=0.565247, recall=0.42743, F1=0.486772\n",
      "INFO:tensorflow:SavedModel written to: b'../models/simplewiki/attention_1_layer/saved_model.pb'\n"
     ]
    },
    {
     "name": "stderr",
     "output_type": "stream",
     "text": [
      "23965049it [03:20, 119570.35it/s]\n"
     ]
    },
    {
     "name": "stdout",
     "output_type": "stream",
     "text": [
      "train 65: loss=0.0774724, elapsed=200.428s, precision=0.865447, recall=0.762794, F1=0.810884\n",
      "test 65: loss=0.272728, elapsed=3.62934s, precision=0.561391, recall=0.435814, F1=0.490696\n",
      "INFO:tensorflow:SavedModel written to: b'../models/simplewiki/attention_1_layer/saved_model.pb'\n"
     ]
    },
    {
     "name": "stderr",
     "output_type": "stream",
     "text": [
      "23965049it [03:20, 119179.46it/s]\n"
     ]
    },
    {
     "name": "stdout",
     "output_type": "stream",
     "text": [
      "train 66: loss=0.0771744, elapsed=200.373s, precision=0.865774, recall=0.763808, F1=0.811601\n",
      "test 66: loss=0.274495, elapsed=3.63017s, precision=0.569393, recall=0.422718, F1=0.485214\n",
      "INFO:tensorflow:SavedModel written to: b'../models/simplewiki/attention_1_layer/saved_model.pb'\n"
     ]
    },
    {
     "name": "stderr",
     "output_type": "stream",
     "text": [
      "23965049it [03:20, 119661.06it/s]\n"
     ]
    },
    {
     "name": "stdout",
     "output_type": "stream",
     "text": [
      "train 67: loss=0.0766044, elapsed=200.276s, precision=0.867272, recall=0.765613, F1=0.813278\n",
      "test 67: loss=0.277745, elapsed=3.645s, precision=0.56931, recall=0.42923, F1=0.489444\n",
      "INFO:tensorflow:SavedModel written to: b'../models/simplewiki/attention_1_layer/saved_model.pb'\n"
     ]
    },
    {
     "name": "stderr",
     "output_type": "stream",
     "text": [
      "23965049it [03:20, 118716.59it/s]\n"
     ]
    },
    {
     "name": "stdout",
     "output_type": "stream",
     "text": [
      "train 68: loss=0.0761983, elapsed=200.339s, precision=0.867938, recall=0.767322, F1=0.814534\n",
      "test 68: loss=0.274922, elapsed=3.63875s, precision=0.56523, recall=0.433973, F1=0.49098\n",
      "INFO:tensorflow:SavedModel written to: b'../models/simplewiki/attention_1_layer/saved_model.pb'\n"
     ]
    },
    {
     "name": "stderr",
     "output_type": "stream",
     "text": [
      "23965049it [03:20, 119587.08it/s]\n"
     ]
    },
    {
     "name": "stdout",
     "output_type": "stream",
     "text": [
      "train 69: loss=0.0755752, elapsed=200.4s, precision=0.869436, recall=0.769412, F1=0.816372\n",
      "test 69: loss=0.286982, elapsed=3.62535s, precision=0.564244, recall=0.438175, F1=0.493282\n",
      "INFO:tensorflow:SavedModel written to: b'../models/simplewiki/attention_1_layer/saved_model.pb'\n"
     ]
    },
    {
     "name": "stderr",
     "output_type": "stream",
     "text": [
      "23965049it [03:20, 119039.64it/s]\n"
     ]
    },
    {
     "name": "stdout",
     "output_type": "stream",
     "text": [
      "train 70: loss=0.0752045, elapsed=200.363s, precision=0.869833, recall=0.770996, F1=0.817438\n",
      "test 70: loss=0.287823, elapsed=3.64035s, precision=0.552494, recall=0.449876, F1=0.495932\n",
      "INFO:tensorflow:SavedModel written to: b'../models/simplewiki/attention_1_layer/saved_model.pb'\n"
     ]
    },
    {
     "name": "stderr",
     "output_type": "stream",
     "text": [
      "23965049it [03:20, 118661.51it/s]\n"
     ]
    },
    {
     "name": "stdout",
     "output_type": "stream",
     "text": [
      "train 71: loss=0.0747475, elapsed=200.374s, precision=0.870573, recall=0.772076, F1=0.818372\n",
      "test 71: loss=0.291885, elapsed=3.6378s, precision=0.55291, recall=0.451894, F1=0.497324\n",
      "INFO:tensorflow:SavedModel written to: b'../models/simplewiki/attention_1_layer/saved_model.pb'\n"
     ]
    },
    {
     "name": "stderr",
     "output_type": "stream",
     "text": [
      "23965049it [03:20, 119556.56it/s]\n"
     ]
    },
    {
     "name": "stdout",
     "output_type": "stream",
     "text": [
      "train 72: loss=0.074643, elapsed=200.451s, precision=0.870722, recall=0.772655, F1=0.818763\n",
      "test 72: loss=0.281444, elapsed=3.63682s, precision=0.564996, recall=0.436303, F1=0.492379\n",
      "INFO:tensorflow:SavedModel written to: b'../models/simplewiki/attention_1_layer/saved_model.pb'\n"
     ]
    },
    {
     "name": "stderr",
     "output_type": "stream",
     "text": [
      "23965049it [03:20, 119639.95it/s]\n"
     ]
    },
    {
     "name": "stdout",
     "output_type": "stream",
     "text": [
      "train 73: loss=0.0743493, elapsed=200.312s, precision=0.871085, recall=0.773896, F1=0.819619\n",
      "test 73: loss=0.2766, elapsed=3.64302s, precision=0.577257, recall=0.414387, F1=0.482447\n",
      "INFO:tensorflow:SavedModel written to: b'../models/simplewiki/attention_1_layer/saved_model.pb'\n"
     ]
    },
    {
     "name": "stderr",
     "output_type": "stream",
     "text": [
      "23965049it [03:20, 119617.27it/s]\n"
     ]
    },
    {
     "name": "stdout",
     "output_type": "stream",
     "text": [
      "train 74: loss=0.0740701, elapsed=200.349s, precision=0.871875, recall=0.774896, F1=0.82053\n",
      "test 74: loss=0.293997, elapsed=3.62936s, precision=0.581633, recall=0.407304, F1=0.479103\n",
      "INFO:tensorflow:SavedModel written to: b'../models/simplewiki/attention_1_layer/saved_model.pb'\n"
     ]
    },
    {
     "name": "stderr",
     "output_type": "stream",
     "text": [
      "23965049it [03:20, 119561.67it/s]\n"
     ]
    },
    {
     "name": "stdout",
     "output_type": "stream",
     "text": [
      "train 75: loss=0.0737407, elapsed=200.443s, precision=0.871988, recall=0.776013, F1=0.821206\n",
      "test 75: loss=0.290702, elapsed=3.63646s, precision=0.588939, recall=0.401198, F1=0.47727\n",
      "INFO:tensorflow:SavedModel written to: b'../models/simplewiki/attention_1_layer/saved_model.pb'\n"
     ]
    },
    {
     "name": "stderr",
     "output_type": "stream",
     "text": [
      "23965049it [03:20, 119635.88it/s]\n"
     ]
    },
    {
     "name": "stdout",
     "output_type": "stream",
     "text": [
      "train 76: loss=0.0733173, elapsed=200.318s, precision=0.87297, recall=0.777927, F1=0.822713\n",
      "test 76: loss=0.278785, elapsed=3.62314s, precision=0.587743, recall=0.397516, F1=0.474266\n",
      "INFO:tensorflow:SavedModel written to: b'../models/simplewiki/attention_1_layer/saved_model.pb'\n"
     ]
    },
    {
     "name": "stderr",
     "output_type": "stream",
     "text": [
      "23965049it [03:20, 118643.70it/s]\n"
     ]
    },
    {
     "name": "stdout",
     "output_type": "stream",
     "text": [
      "train 77: loss=0.0727772, elapsed=200.373s, precision=0.87376, recall=0.779787, F1=0.824103\n",
      "test 77: loss=0.285388, elapsed=3.63427s, precision=0.594718, recall=0.393283, F1=0.473466\n",
      "INFO:tensorflow:SavedModel written to: b'../models/simplewiki/attention_1_layer/saved_model.pb'\n"
     ]
    },
    {
     "name": "stderr",
     "output_type": "stream",
     "text": [
      "23965049it [03:20, 118923.27it/s]\n"
     ]
    },
    {
     "name": "stdout",
     "output_type": "stream",
     "text": [
      "train 78: loss=0.0723446, elapsed=200.271s, precision=0.874671, recall=0.781077, F1=0.825229\n",
      "test 78: loss=0.291232, elapsed=3.63918s, precision=0.591456, recall=0.392264, F1=0.471693\n",
      "INFO:tensorflow:SavedModel written to: b'../models/simplewiki/attention_1_layer/saved_model.pb'\n"
     ]
    },
    {
     "name": "stderr",
     "output_type": "stream",
     "text": [
      "23965049it [03:20, 118497.46it/s]\n"
     ]
    },
    {
     "name": "stdout",
     "output_type": "stream",
     "text": [
      "train 79: loss=0.0720511, elapsed=200.373s, precision=0.875153, recall=0.782247, F1=0.826096\n",
      "test 79: loss=0.29124, elapsed=3.64586s, precision=0.582633, recall=0.406805, F1=0.479096\n",
      "INFO:tensorflow:SavedModel written to: b'../models/simplewiki/attention_1_layer/saved_model.pb'\n"
     ]
    },
    {
     "name": "stderr",
     "output_type": "stream",
     "text": [
      "23965049it [03:20, 119596.51it/s]\n"
     ]
    },
    {
     "name": "stdout",
     "output_type": "stream",
     "text": [
      "train 80: loss=0.0715698, elapsed=200.384s, precision=0.876171, recall=0.783898, F1=0.82747\n",
      "test 80: loss=0.278335, elapsed=3.63407s, precision=0.577522, recall=0.40514, F1=0.476211\n",
      "INFO:tensorflow:SavedModel written to: b'../models/simplewiki/attention_1_layer/saved_model.pb'\n"
     ]
    },
    {
     "name": "stderr",
     "output_type": "stream",
     "text": [
      "23965049it [03:20, 118341.07it/s]\n"
     ]
    },
    {
     "name": "stdout",
     "output_type": "stream",
     "text": [
      "train 81: loss=0.0712703, elapsed=200.36s, precision=0.876687, recall=0.785045, F1=0.828339\n",
      "test 81: loss=0.287531, elapsed=3.63743s, precision=0.581346, recall=0.398244, F1=0.472683\n",
      "INFO:tensorflow:SavedModel written to: b'../models/simplewiki/attention_1_layer/saved_model.pb'\n"
     ]
    },
    {
     "name": "stderr",
     "output_type": "stream",
     "text": [
      "23965049it [03:20, 118664.92it/s]\n"
     ]
    },
    {
     "name": "stdout",
     "output_type": "stream",
     "text": [
      "train 82: loss=0.0709491, elapsed=200.398s, precision=0.877098, recall=0.7863, F1=0.829221\n",
      "test 82: loss=0.284251, elapsed=3.64521s, precision=0.579348, recall=0.408843, F1=0.479386\n",
      "INFO:tensorflow:SavedModel written to: b'../models/simplewiki/attention_1_layer/saved_model.pb'\n"
     ]
    },
    {
     "name": "stderr",
     "output_type": "stream",
     "text": [
      "23965049it [03:20, 118889.17it/s]\n"
     ]
    },
    {
     "name": "stdout",
     "output_type": "stream",
     "text": [
      "train 83: loss=0.0705674, elapsed=200.385s, precision=0.877712, recall=0.787507, F1=0.830167\n",
      "test 83: loss=0.288092, elapsed=3.64011s, precision=0.559796, recall=0.431029, F1=0.487045\n",
      "INFO:tensorflow:SavedModel written to: b'../models/simplewiki/attention_1_layer/saved_model.pb'\n"
     ]
    },
    {
     "name": "stderr",
     "output_type": "stream",
     "text": [
      "23965049it [03:20, 119541.85it/s]\n"
     ]
    },
    {
     "name": "stdout",
     "output_type": "stream",
     "text": [
      "train 84: loss=0.0701742, elapsed=200.476s, precision=0.878377, recall=0.789069, F1=0.831331\n",
      "test 84: loss=0.286789, elapsed=3.62234s, precision=0.551993, recall=0.448888, F1=0.49513\n",
      "INFO:tensorflow:SavedModel written to: b'../models/simplewiki/attention_1_layer/saved_model.pb'\n"
     ]
    },
    {
     "name": "stderr",
     "output_type": "stream",
     "text": [
      "23965049it [03:20, 119482.03it/s]\n"
     ]
    },
    {
     "name": "stdout",
     "output_type": "stream",
     "text": [
      "train 85: loss=0.0698354, elapsed=200.576s, precision=0.879043, recall=0.790303, F1=0.832314\n",
      "test 85: loss=0.286581, elapsed=3.63646s, precision=0.538131, recall=0.456741, F1=0.494107\n",
      "INFO:tensorflow:SavedModel written to: b'../models/simplewiki/attention_1_layer/saved_model.pb'\n"
     ]
    },
    {
     "name": "stderr",
     "output_type": "stream",
     "text": [
      "23965049it [03:20, 118597.64it/s]\n"
     ]
    },
    {
     "name": "stdout",
     "output_type": "stream",
     "text": [
      "train 86: loss=0.0695814, elapsed=200.436s, precision=0.879601, recall=0.791251, F1=0.83309\n",
      "test 86: loss=0.291961, elapsed=3.63669s, precision=0.531935, recall=0.466227, F1=0.496918\n",
      "INFO:tensorflow:SavedModel written to: b'../models/simplewiki/attention_1_layer/saved_model.pb'\n"
     ]
    },
    {
     "name": "stderr",
     "output_type": "stream",
     "text": [
      "23965049it [03:20, 118464.94it/s]\n"
     ]
    },
    {
     "name": "stdout",
     "output_type": "stream",
     "text": [
      "train 87: loss=0.0694278, elapsed=200.411s, precision=0.87984, recall=0.791593, F1=0.833387\n",
      "test 87: loss=0.297082, elapsed=3.63244s, precision=0.517036, recall=0.489307, F1=0.50279\n",
      "INFO:tensorflow:SavedModel written to: b'../models/simplewiki/attention_1_layer/saved_model.pb'\n"
     ]
    },
    {
     "name": "stderr",
     "output_type": "stream",
     "text": [
      "23965049it [03:20, 118847.76it/s]\n"
     ]
    },
    {
     "name": "stdout",
     "output_type": "stream",
     "text": [
      "train 88: loss=0.0693051, elapsed=200.39s, precision=0.87949, recall=0.792274, F1=0.833607\n",
      "test 88: loss=0.306247, elapsed=3.64684s, precision=0.527833, recall=0.473903, F1=0.499416\n",
      "INFO:tensorflow:SavedModel written to: b'../models/simplewiki/attention_1_layer/saved_model.pb'\n"
     ]
    },
    {
     "name": "stderr",
     "output_type": "stream",
     "text": [
      "23965049it [03:20, 118430.21it/s]\n"
     ]
    },
    {
     "name": "stdout",
     "output_type": "stream",
     "text": [
      "train 89: loss=0.0689293, elapsed=200.316s, precision=0.880048, recall=0.793346, F1=0.834451\n",
      "test 89: loss=0.307418, elapsed=3.63764s, precision=0.525796, recall=0.476056, F1=0.499692\n",
      "INFO:tensorflow:SavedModel written to: b'../models/simplewiki/attention_1_layer/saved_model.pb'\n"
     ]
    },
    {
     "name": "stderr",
     "output_type": "stream",
     "text": [
      "23965049it [03:20, 119585.03it/s]\n"
     ]
    },
    {
     "name": "stdout",
     "output_type": "stream",
     "text": [
      "train 90: loss=0.0685757, elapsed=200.403s, precision=0.88113, recall=0.794579, F1=0.835619\n",
      "test 90: loss=0.308507, elapsed=3.64224s, precision=0.526379, recall=0.476951, F1=0.500447\n",
      "INFO:tensorflow:SavedModel written to: b'../models/simplewiki/attention_1_layer/saved_model.pb'\n"
     ]
    },
    {
     "name": "stderr",
     "output_type": "stream",
     "text": [
      "23965049it [03:20, 119579.45it/s]\n"
     ]
    },
    {
     "name": "stdout",
     "output_type": "stream",
     "text": [
      "train 91: loss=0.067964, elapsed=200.413s, precision=0.882286, recall=0.796523, F1=0.837214\n",
      "test 91: loss=0.311862, elapsed=3.64314s, precision=0.517595, recall=0.485126, F1=0.500835\n",
      "INFO:tensorflow:SavedModel written to: b'../models/simplewiki/attention_1_layer/saved_model.pb'\n"
     ]
    },
    {
     "name": "stderr",
     "output_type": "stream",
     "text": [
      "23965049it [03:20, 118519.66it/s]\n"
     ]
    },
    {
     "name": "stdout",
     "output_type": "stream",
     "text": [
      "train 92: loss=0.0676807, elapsed=200.417s, precision=0.882693, recall=0.797335, F1=0.837845\n",
      "test 92: loss=0.300285, elapsed=3.6368s, precision=0.527482, recall=0.471043, F1=0.497668\n",
      "INFO:tensorflow:SavedModel written to: b'../models/simplewiki/attention_1_layer/saved_model.pb'\n"
     ]
    },
    {
     "name": "stderr",
     "output_type": "stream",
     "text": [
      "23965049it [03:20, 119668.90it/s]\n"
     ]
    },
    {
     "name": "stdout",
     "output_type": "stream",
     "text": [
      "train 93: loss=0.067324, elapsed=200.263s, precision=0.883551, recall=0.79907, F1=0.839189\n",
      "test 93: loss=0.317121, elapsed=3.63372s, precision=0.518899, recall=0.479915, F1=0.498646\n",
      "INFO:tensorflow:SavedModel written to: b'../models/simplewiki/attention_1_layer/saved_model.pb'\n"
     ]
    },
    {
     "name": "stderr",
     "output_type": "stream",
     "text": [
      "23965049it [03:20, 119505.78it/s]\n"
     ]
    },
    {
     "name": "stdout",
     "output_type": "stream",
     "text": [
      "train 94: loss=0.0669732, elapsed=200.537s, precision=0.884235, recall=0.800339, F1=0.840198\n",
      "test 94: loss=0.304496, elapsed=3.65136s, precision=0.521305, recall=0.478594, F1=0.499037\n",
      "INFO:tensorflow:SavedModel written to: b'../models/simplewiki/attention_1_layer/saved_model.pb'\n"
     ]
    },
    {
     "name": "stderr",
     "output_type": "stream",
     "text": [
      "23965049it [03:20, 117985.16it/s]\n"
     ]
    },
    {
     "name": "stdout",
     "output_type": "stream",
     "text": [
      "train 95: loss=0.0667821, elapsed=200.433s, precision=0.884249, recall=0.800913, F1=0.840521\n",
      "test 95: loss=0.307852, elapsed=3.62915s, precision=0.549494, recall=0.441358, F1=0.489525\n",
      "INFO:tensorflow:SavedModel written to: b'../models/simplewiki/attention_1_layer/saved_model.pb'\n"
     ]
    },
    {
     "name": "stderr",
     "output_type": "stream",
     "text": [
      "23965049it [03:20, 119567.24it/s]\n"
     ]
    },
    {
     "name": "stdout",
     "output_type": "stream",
     "text": [
      "train 96: loss=0.0665446, elapsed=200.433s, precision=0.884827, recall=0.801408, F1=0.841054\n",
      "test 96: loss=0.310469, elapsed=3.64252s, precision=0.537487, recall=0.446881, F1=0.488014\n",
      "INFO:tensorflow:SavedModel written to: b'../models/simplewiki/attention_1_layer/saved_model.pb'\n"
     ]
    },
    {
     "name": "stderr",
     "output_type": "stream",
     "text": [
      "23965049it [03:20, 118526.24it/s]\n"
     ]
    },
    {
     "name": "stdout",
     "output_type": "stream",
     "text": [
      "train 97: loss=0.0662461, elapsed=200.616s, precision=0.88507, recall=0.802694, F1=0.841872\n",
      "test 97: loss=0.309959, elapsed=3.63542s, precision=0.558607, recall=0.427389, F1=0.484266\n",
      "INFO:tensorflow:SavedModel written to: b'../models/simplewiki/attention_1_layer/saved_model.pb'\n"
     ]
    },
    {
     "name": "stderr",
     "output_type": "stream",
     "text": [
      "23965049it [03:20, 116815.58it/s]\n"
     ]
    },
    {
     "name": "stdout",
     "output_type": "stream",
     "text": [
      "train 98: loss=0.0662668, elapsed=200.472s, precision=0.884851, recall=0.80262, F1=0.841732\n",
      "test 98: loss=0.30661, elapsed=3.62745s, precision=0.562456, recall=0.423343, F1=0.483084\n",
      "INFO:tensorflow:SavedModel written to: b'../models/simplewiki/attention_1_layer/saved_model.pb'\n"
     ]
    },
    {
     "name": "stderr",
     "output_type": "stream",
     "text": [
      "23965049it [03:20, 119480.90it/s]\n"
     ]
    },
    {
     "name": "stdout",
     "output_type": "stream",
     "text": [
      "train 99: loss=0.0657102, elapsed=200.578s, precision=0.886584, recall=0.804648, F1=0.843631\n",
      "test 99: loss=0.306067, elapsed=3.62422s, precision=0.540739, recall=0.446485, F1=0.489113\n",
      "INFO:tensorflow:SavedModel written to: b'../models/simplewiki/attention_1_layer/saved_model.pb'\n"
     ]
    },
    {
     "name": "stderr",
     "output_type": "stream",
     "text": [
      "23965049it [03:20, 119544.96it/s]\n"
     ]
    },
    {
     "name": "stdout",
     "output_type": "stream",
     "text": [
      "train 100: loss=0.0651574, elapsed=200.471s, precision=0.887302, recall=0.806424, F1=0.844932\n",
      "test 100: loss=0.314335, elapsed=3.64615s, precision=0.529698, recall=0.461203, F1=0.493083\n",
      "INFO:tensorflow:SavedModel written to: b'../models/simplewiki/attention_1_layer/saved_model.pb'\n"
     ]
    },
    {
     "name": "stderr",
     "output_type": "stream",
     "text": [
      "23965049it [03:20, 119579.03it/s]\n"
     ]
    },
    {
     "name": "stdout",
     "output_type": "stream",
     "text": [
      "train 101: loss=0.0648771, elapsed=200.414s, precision=0.887638, recall=0.807448, F1=0.845646\n",
      "test 101: loss=0.31644, elapsed=3.64432s, precision=0.532536, recall=0.459154, F1=0.49313\n",
      "INFO:tensorflow:SavedModel written to: b'../models/simplewiki/attention_1_layer/saved_model.pb'\n"
     ]
    },
    {
     "name": "stderr",
     "output_type": "stream",
     "text": [
      "23965049it [03:20, 119563.47it/s]\n"
     ]
    },
    {
     "name": "stdout",
     "output_type": "stream",
     "text": [
      "train 102: loss=0.064504, elapsed=200.44s, precision=0.888524, recall=0.808617, F1=0.846689\n",
      "test 102: loss=0.311942, elapsed=3.63842s, precision=0.512, recall=0.48885, F1=0.500157\n",
      "INFO:tensorflow:SavedModel written to: b'../models/simplewiki/attention_1_layer/saved_model.pb'\n"
     ]
    },
    {
     "name": "stderr",
     "output_type": "stream",
     "text": [
      "23965049it [03:20, 119550.28it/s]\n"
     ]
    },
    {
     "name": "stdout",
     "output_type": "stream",
     "text": [
      "train 103: loss=0.0643581, elapsed=200.462s, precision=0.888846, recall=0.808897, F1=0.846989\n",
      "test 103: loss=0.319735, elapsed=3.6273s, precision=0.49964, recall=0.504889, F1=0.50225\n",
      "INFO:tensorflow:SavedModel written to: b'../models/simplewiki/attention_1_layer/saved_model.pb'\n"
     ]
    },
    {
     "name": "stderr",
     "output_type": "stream",
     "text": [
      "23965049it [03:20, 119525.08it/s]\n"
     ]
    },
    {
     "name": "stdout",
     "output_type": "stream",
     "text": [
      "train 104: loss=0.063991, elapsed=200.504s, precision=0.889358, recall=0.8106, F1=0.848154\n",
      "test 104: loss=0.326628, elapsed=3.63272s, precision=0.51319, recall=0.486655, F1=0.49957\n",
      "INFO:tensorflow:SavedModel written to: b'../models/simplewiki/attention_1_layer/saved_model.pb'\n"
     ]
    },
    {
     "name": "stderr",
     "output_type": "stream",
     "text": [
      "23965049it [03:20, 118453.79it/s]\n"
     ]
    },
    {
     "name": "stdout",
     "output_type": "stream",
     "text": [
      "train 105: loss=0.0639357, elapsed=200.453s, precision=0.889347, recall=0.810486, F1=0.848088\n",
      "test 105: loss=0.324313, elapsed=3.62986s, precision=0.518608, recall=0.475703, F1=0.49623\n",
      "INFO:tensorflow:SavedModel written to: b'../models/simplewiki/attention_1_layer/saved_model.pb'\n"
     ]
    },
    {
     "name": "stderr",
     "output_type": "stream",
     "text": [
      "23965049it [03:20, 119560.22it/s]\n"
     ]
    },
    {
     "name": "stdout",
     "output_type": "stream",
     "text": [
      "train 106: loss=0.0636436, elapsed=200.445s, precision=0.889801, recall=0.811442, F1=0.848817\n",
      "test 106: loss=0.324196, elapsed=3.64548s, precision=0.520326, recall=0.471542, F1=0.494735\n",
      "INFO:tensorflow:SavedModel written to: b'../models/simplewiki/attention_1_layer/saved_model.pb'\n"
     ]
    },
    {
     "name": "stderr",
     "output_type": "stream",
     "text": [
      "23965049it [03:20, 118633.20it/s]\n"
     ]
    },
    {
     "name": "stdout",
     "output_type": "stream",
     "text": [
      "train 107: loss=0.0634381, elapsed=200.446s, precision=0.889986, recall=0.812351, F1=0.849398\n",
      "test 107: loss=0.33217, elapsed=3.6378s, precision=0.514838, recall=0.477117, F1=0.49526\n",
      "INFO:tensorflow:SavedModel written to: b'../models/simplewiki/attention_1_layer/saved_model.pb'\n"
     ]
    },
    {
     "name": "stderr",
     "output_type": "stream",
     "text": [
      "23965049it [03:20, 119538.13it/s]\n"
     ]
    },
    {
     "name": "stdout",
     "output_type": "stream",
     "text": [
      "train 108: loss=0.0630442, elapsed=200.482s, precision=0.890663, recall=0.813328, F1=0.850241\n",
      "test 108: loss=0.323354, elapsed=3.63265s, precision=0.515938, recall=0.47796, F1=0.496223\n",
      "INFO:tensorflow:SavedModel written to: b'../models/simplewiki/attention_1_layer/saved_model.pb'\n"
     ]
    },
    {
     "name": "stderr",
     "output_type": "stream",
     "text": [
      "23965049it [03:20, 119610.54it/s]\n"
     ]
    },
    {
     "name": "stdout",
     "output_type": "stream",
     "text": [
      "train 109: loss=0.062891, elapsed=200.361s, precision=0.890839, recall=0.813999, F1=0.850687\n",
      "test 109: loss=0.328943, elapsed=3.64812s, precision=0.513503, recall=0.482359, F1=0.497444\n",
      "INFO:tensorflow:SavedModel written to: b'../models/simplewiki/attention_1_layer/saved_model.pb'\n"
     ]
    },
    {
     "name": "stderr",
     "output_type": "stream",
     "text": [
      "23965049it [03:20, 119515.99it/s]\n"
     ]
    },
    {
     "name": "stdout",
     "output_type": "stream",
     "text": [
      "train 110: loss=0.0626151, elapsed=200.519s, precision=0.891263, recall=0.815117, F1=0.851491\n",
      "test 110: loss=0.336007, elapsed=3.63716s, precision=0.508679, recall=0.487102, F1=0.497657\n",
      "INFO:tensorflow:SavedModel written to: b'../models/simplewiki/attention_1_layer/saved_model.pb'\n"
     ]
    },
    {
     "name": "stderr",
     "output_type": "stream",
     "text": [
      "23965049it [03:20, 119518.12it/s]\n"
     ]
    },
    {
     "name": "stdout",
     "output_type": "stream",
     "text": [
      "train 111: loss=0.062408, elapsed=200.516s, precision=0.89175, recall=0.815894, F1=0.852137\n",
      "test 111: loss=0.33448, elapsed=3.63929s, precision=0.52218, recall=0.466373, F1=0.492701\n",
      "INFO:tensorflow:SavedModel written to: b'../models/simplewiki/attention_1_layer/saved_model.pb'\n"
     ]
    },
    {
     "name": "stderr",
     "output_type": "stream",
     "text": [
      "23965049it [03:20, 119508.30it/s]\n"
     ]
    },
    {
     "name": "stdout",
     "output_type": "stream",
     "text": [
      "train 112: loss=0.0622184, elapsed=200.532s, precision=0.891828, recall=0.816617, F1=0.852567\n",
      "test 112: loss=0.325651, elapsed=3.6421s, precision=0.508872, recall=0.48445, F1=0.496361\n",
      "INFO:tensorflow:SavedModel written to: b'../models/simplewiki/attention_1_layer/saved_model.pb'\n"
     ]
    },
    {
     "name": "stderr",
     "output_type": "stream",
     "text": [
      "23965049it [03:20, 119550.17it/s]\n"
     ]
    },
    {
     "name": "stdout",
     "output_type": "stream",
     "text": [
      "train 113: loss=0.0619545, elapsed=200.462s, precision=0.892509, recall=0.817673, F1=0.853453\n",
      "test 113: loss=0.327047, elapsed=3.63445s, precision=0.507909, recall=0.486624, F1=0.497039\n",
      "INFO:tensorflow:SavedModel written to: b'../models/simplewiki/attention_1_layer/saved_model.pb'\n"
     ]
    },
    {
     "name": "stderr",
     "output_type": "stream",
     "text": [
      "23965049it [03:20, 118616.29it/s]\n"
     ]
    },
    {
     "name": "stdout",
     "output_type": "stream",
     "text": [
      "train 114: loss=0.0616363, elapsed=200.487s, precision=0.893247, recall=0.818334, F1=0.854151\n",
      "test 114: loss=0.325149, elapsed=3.64971s, precision=0.527229, recall=0.463013, F1=0.493039\n",
      "INFO:tensorflow:SavedModel written to: b'../models/simplewiki/attention_1_layer/saved_model.pb'\n"
     ]
    },
    {
     "name": "stderr",
     "output_type": "stream",
     "text": [
      "23965049it [03:20, 118781.47it/s]\n"
     ]
    },
    {
     "name": "stdout",
     "output_type": "stream",
     "text": [
      "train 115: loss=0.0614046, elapsed=200.447s, precision=0.893558, recall=0.819187, F1=0.854758\n",
      "test 115: loss=0.332227, elapsed=3.63472s, precision=0.516727, recall=0.475692, F1=0.495361\n",
      "INFO:tensorflow:SavedModel written to: b'../models/simplewiki/attention_1_layer/saved_model.pb'\n"
     ]
    },
    {
     "name": "stderr",
     "output_type": "stream",
     "text": [
      "23965049it [03:20, 119521.07it/s]\n"
     ]
    },
    {
     "name": "stdout",
     "output_type": "stream",
     "text": [
      "train 116: loss=0.0611659, elapsed=200.511s, precision=0.893881, recall=0.819952, F1=0.855322\n",
      "test 116: loss=0.336043, elapsed=3.64295s, precision=0.506608, recall=0.48885, F1=0.49757\n",
      "INFO:tensorflow:SavedModel written to: b'../models/simplewiki/attention_1_layer/saved_model.pb'\n"
     ]
    },
    {
     "name": "stderr",
     "output_type": "stream",
     "text": [
      "23965049it [03:20, 119602.58it/s]\n"
     ]
    },
    {
     "name": "stdout",
     "output_type": "stream",
     "text": [
      "train 117: loss=0.0610476, elapsed=200.374s, precision=0.894161, recall=0.82032, F1=0.855651\n",
      "test 117: loss=0.335697, elapsed=3.6499s, precision=0.511143, recall=0.48523, F1=0.49785\n",
      "INFO:tensorflow:SavedModel written to: b'../models/simplewiki/attention_1_layer/saved_model.pb'\n"
     ]
    },
    {
     "name": "stderr",
     "output_type": "stream",
     "text": [
      "23965049it [03:20, 119085.89it/s]\n"
     ]
    },
    {
     "name": "stdout",
     "output_type": "stream",
     "text": [
      "train 118: loss=0.0607684, elapsed=200.516s, precision=0.894547, recall=0.821309, F1=0.856365\n",
      "test 118: loss=0.344964, elapsed=3.62615s, precision=0.49706, recall=0.501238, F1=0.49914\n",
      "INFO:tensorflow:SavedModel written to: b'../models/simplewiki/attention_1_layer/saved_model.pb'\n"
     ]
    },
    {
     "name": "stderr",
     "output_type": "stream",
     "text": [
      "23965049it [03:20, 119490.32it/s]\n"
     ]
    },
    {
     "name": "stdout",
     "output_type": "stream",
     "text": [
      "train 119: loss=0.0606271, elapsed=200.562s, precision=0.894732, recall=0.821815, F1=0.856725\n",
      "test 119: loss=0.333015, elapsed=3.65014s, precision=0.4943, recall=0.508727, F1=0.50141\n",
      "INFO:tensorflow:SavedModel written to: b'../models/simplewiki/attention_1_layer/saved_model.pb'\n"
     ]
    },
    {
     "name": "stderr",
     "output_type": "stream",
     "text": [
      "23965049it [03:20, 118790.81it/s]\n"
     ]
    },
    {
     "name": "stdout",
     "output_type": "stream",
     "text": [
      "train 120: loss=0.0601773, elapsed=200.304s, precision=0.895917, recall=0.823404, F1=0.858132\n",
      "test 120: loss=0.345877, elapsed=3.63505s, precision=0.486624, recall=0.521999, F1=0.503691\n",
      "INFO:tensorflow:SavedModel written to: b'../models/simplewiki/attention_1_layer/saved_model.pb'\n"
     ]
    },
    {
     "name": "stderr",
     "output_type": "stream",
     "text": [
      "23965049it [03:20, 119628.92it/s]\n"
     ]
    },
    {
     "name": "stdout",
     "output_type": "stream",
     "text": [
      "train 121: loss=0.0601327, elapsed=200.33s, precision=0.895304, recall=0.823479, F1=0.857891\n",
      "test 121: loss=0.329135, elapsed=3.63906s, precision=0.498182, recall=0.498752, F1=0.498467\n",
      "INFO:tensorflow:SavedModel written to: b'../models/simplewiki/attention_1_layer/saved_model.pb'\n"
     ]
    },
    {
     "name": "stderr",
     "output_type": "stream",
     "text": [
      "23965049it [03:20, 117839.52it/s]\n"
     ]
    },
    {
     "name": "stdout",
     "output_type": "stream",
     "text": [
      "train 122: loss=0.0597733, elapsed=200.68s, precision=0.896448, recall=0.824435, F1=0.858935\n",
      "test 122: loss=0.34466, elapsed=3.63436s, precision=0.499519, recall=0.496536, F1=0.498023\n",
      "INFO:tensorflow:SavedModel written to: b'../models/simplewiki/attention_1_layer/saved_model.pb'\n"
     ]
    },
    {
     "name": "stderr",
     "output_type": "stream",
     "text": [
      "23965049it [03:20, 119661.64it/s]\n"
     ]
    },
    {
     "name": "stdout",
     "output_type": "stream",
     "text": [
      "train 123: loss=0.0595814, elapsed=200.275s, precision=0.896473, recall=0.825635, F1=0.859597\n",
      "test 123: loss=0.336984, elapsed=3.63016s, precision=0.503259, recall=0.492355, F1=0.497747\n",
      "INFO:tensorflow:SavedModel written to: b'../models/simplewiki/attention_1_layer/saved_model.pb'\n"
     ]
    },
    {
     "name": "stderr",
     "output_type": "stream",
     "text": [
      "23965049it [03:20, 119562.85it/s]\n"
     ]
    },
    {
     "name": "stdout",
     "output_type": "stream",
     "text": [
      "train 124: loss=0.0593308, elapsed=200.441s, precision=0.897197, recall=0.826131, F1=0.860199\n",
      "test 124: loss=0.34396, elapsed=3.64333s, precision=0.50953, recall=0.482713, F1=0.495759\n",
      "INFO:tensorflow:SavedModel written to: b'../models/simplewiki/attention_1_layer/saved_model.pb'\n"
     ]
    },
    {
     "name": "stderr",
     "output_type": "stream",
     "text": [
      "23965049it [03:20, 119616.82it/s]\n"
     ]
    },
    {
     "name": "stdout",
     "output_type": "stream",
     "text": [
      "train 125: loss=0.0590077, elapsed=200.35s, precision=0.897633, recall=0.827041, F1=0.860893\n",
      "test 125: loss=0.322703, elapsed=3.63172s, precision=0.521846, recall=0.462004, F1=0.490105\n",
      "INFO:tensorflow:SavedModel written to: b'../models/simplewiki/attention_1_layer/saved_model.pb'\n"
     ]
    },
    {
     "name": "stderr",
     "output_type": "stream",
     "text": [
      "23965049it [03:20, 119548.75it/s]\n"
     ]
    },
    {
     "name": "stdout",
     "output_type": "stream",
     "text": [
      "train 126: loss=0.0588313, elapsed=200.464s, precision=0.897787, recall=0.827847, F1=0.8614\n",
      "test 126: loss=0.33151, elapsed=3.6401s, precision=0.531748, recall=0.448326, F1=0.486487\n",
      "INFO:tensorflow:SavedModel written to: b'../models/simplewiki/attention_1_layer/saved_model.pb'\n"
     ]
    },
    {
     "name": "stderr",
     "output_type": "stream",
     "text": [
      "23965049it [03:20, 119544.73it/s]\n"
     ]
    },
    {
     "name": "stdout",
     "output_type": "stream",
     "text": [
      "train 127: loss=0.0586679, elapsed=200.471s, precision=0.897977, recall=0.828983, F1=0.862102\n",
      "test 127: loss=0.331844, elapsed=3.62905s, precision=0.540235, recall=0.439569, F1=0.484731\n",
      "INFO:tensorflow:SavedModel written to: b'../models/simplewiki/attention_1_layer/saved_model.pb'\n"
     ]
    },
    {
     "name": "stderr",
     "output_type": "stream",
     "text": [
      "23965049it [03:20, 117905.49it/s]\n"
     ]
    },
    {
     "name": "stdout",
     "output_type": "stream",
     "text": [
      "train 128: loss=0.0584006, elapsed=200.438s, precision=0.898537, recall=0.829658, F1=0.862725\n",
      "test 128: loss=0.335572, elapsed=3.62946s, precision=0.532848, recall=0.447962, F1=0.486732\n",
      "INFO:tensorflow:SavedModel written to: b'../models/simplewiki/attention_1_layer/saved_model.pb'\n"
     ]
    },
    {
     "name": "stderr",
     "output_type": "stream",
     "text": [
      "23965049it [03:20, 117842.82it/s]\n"
     ]
    },
    {
     "name": "stdout",
     "output_type": "stream",
     "text": [
      "train 129: loss=0.0582389, elapsed=200.527s, precision=0.898638, recall=0.830355, F1=0.863148\n",
      "test 129: loss=0.327019, elapsed=3.66538s, precision=0.527243, recall=0.45826, F1=0.490337\n",
      "INFO:tensorflow:SavedModel written to: b'../models/simplewiki/attention_1_layer/saved_model.pb'\n"
     ]
    },
    {
     "name": "stderr",
     "output_type": "stream",
     "text": [
      "23965049it [03:20, 119574.25it/s]\n"
     ]
    },
    {
     "name": "stdout",
     "output_type": "stream",
     "text": [
      "train 130: loss=0.0581131, elapsed=200.421s, precision=0.898679, recall=0.830881, F1=0.863451\n",
      "test 130: loss=0.335646, elapsed=3.6351s, precision=0.52303, recall=0.460506, F1=0.489781\n",
      "INFO:tensorflow:SavedModel written to: b'../models/simplewiki/attention_1_layer/saved_model.pb'\n"
     ]
    },
    {
     "name": "stderr",
     "output_type": "stream",
     "text": [
      "23965049it [03:20, 118520.87it/s]\n"
     ]
    },
    {
     "name": "stdout",
     "output_type": "stream",
     "text": [
      "train 131: loss=0.0576964, elapsed=200.532s, precision=0.899775, recall=0.832099, F1=0.864615\n",
      "test 131: loss=0.336401, elapsed=3.6372s, precision=0.519184, recall=0.467995, F1=0.492262\n",
      "INFO:tensorflow:SavedModel written to: b'../models/simplewiki/attention_1_layer/saved_model.pb'\n"
     ]
    },
    {
     "name": "stderr",
     "output_type": "stream",
     "text": [
      "23965049it [03:20, 117534.92it/s]\n"
     ]
    },
    {
     "name": "stdout",
     "output_type": "stream",
     "text": [
      "train 132: loss=0.0575959, elapsed=200.402s, precision=0.900041, recall=0.832316, F1=0.864854\n",
      "test 132: loss=0.346944, elapsed=3.63412s, precision=0.506911, recall=0.482931, F1=0.494631\n",
      "INFO:tensorflow:SavedModel written to: b'../models/simplewiki/attention_1_layer/saved_model.pb'\n"
     ]
    },
    {
     "name": "stderr",
     "output_type": "stream",
     "text": [
      "23965049it [03:20, 116964.28it/s]\n"
     ]
    },
    {
     "name": "stdout",
     "output_type": "stream",
     "text": [
      "train 133: loss=0.0573218, elapsed=200.88s, precision=0.900324, recall=0.833297, F1=0.865515\n",
      "test 133: loss=0.335479, elapsed=3.65084s, precision=0.511667, recall=0.468255, F1=0.488999\n",
      "INFO:tensorflow:SavedModel written to: b'../models/simplewiki/attention_1_layer/saved_model.pb'\n"
     ]
    },
    {
     "name": "stderr",
     "output_type": "stream",
     "text": [
      "23965049it [03:21, 118222.42it/s]\n"
     ]
    },
    {
     "name": "stdout",
     "output_type": "stream",
     "text": [
      "train 134: loss=0.0570393, elapsed=201.714s, precision=0.900726, recall=0.834188, F1=0.866181\n",
      "test 134: loss=0.33792, elapsed=3.64106s, precision=0.514958, recall=0.475183, F1=0.494271\n",
      "INFO:tensorflow:SavedModel written to: b'../models/simplewiki/attention_1_layer/saved_model.pb'\n"
     ]
    },
    {
     "name": "stderr",
     "output_type": "stream",
     "text": [
      "23965049it [03:20, 118429.30it/s]\n"
     ]
    },
    {
     "name": "stdout",
     "output_type": "stream",
     "text": [
      "train 135: loss=0.0568788, elapsed=200.248s, precision=0.901086, recall=0.834679, F1=0.866612\n",
      "test 135: loss=0.348331, elapsed=3.63455s, precision=0.513074, recall=0.475131, F1=0.493374\n",
      "INFO:tensorflow:SavedModel written to: b'../models/simplewiki/attention_1_layer/saved_model.pb'\n"
     ]
    },
    {
     "name": "stderr",
     "output_type": "stream",
     "text": [
      "23965049it [03:20, 119705.74it/s]\n"
     ]
    },
    {
     "name": "stdout",
     "output_type": "stream",
     "text": [
      "train 136: loss=0.0566682, elapsed=200.201s, precision=0.901316, recall=0.835353, F1=0.867082\n",
      "test 136: loss=0.34999, elapsed=3.6342s, precision=0.526285, recall=0.457126, F1=0.489274\n",
      "INFO:tensorflow:SavedModel written to: b'../models/simplewiki/attention_1_layer/saved_model.pb'\n"
     ]
    },
    {
     "name": "stderr",
     "output_type": "stream",
     "text": [
      "23965049it [03:20, 118562.51it/s]\n"
     ]
    },
    {
     "name": "stdout",
     "output_type": "stream",
     "text": [
      "train 137: loss=0.0564853, elapsed=200.504s, precision=0.901909, recall=0.836106, F1=0.867762\n",
      "test 137: loss=0.333492, elapsed=3.63772s, precision=0.534053, recall=0.439621, F1=0.482257\n",
      "INFO:tensorflow:SavedModel written to: b'../models/simplewiki/attention_1_layer/saved_model.pb'\n"
     ]
    },
    {
     "name": "stderr",
     "output_type": "stream",
     "text": [
      "23965049it [03:20, 119633.27it/s]\n"
     ]
    },
    {
     "name": "stdout",
     "output_type": "stream",
     "text": [
      "train 138: loss=0.0563414, elapsed=200.323s, precision=0.902191, recall=0.836606, F1=0.868162\n",
      "test 138: loss=0.327277, elapsed=3.64392s, precision=0.543705, recall=0.429594, F1=0.47996\n",
      "INFO:tensorflow:SavedModel written to: b'../models/simplewiki/attention_1_layer/saved_model.pb'\n"
     ]
    },
    {
     "name": "stderr",
     "output_type": "stream",
     "text": [
      "23965049it [03:20, 119639.76it/s]\n"
     ]
    },
    {
     "name": "stdout",
     "output_type": "stream",
     "text": [
      "train 139: loss=0.0561849, elapsed=200.312s, precision=0.902015, recall=0.837304, F1=0.868456\n",
      "test 139: loss=0.325912, elapsed=3.6498s, precision=0.560437, recall=0.412816, F1=0.475431\n",
      "INFO:tensorflow:SavedModel written to: b'../models/simplewiki/attention_1_layer/saved_model.pb'\n"
     ]
    },
    {
     "name": "stderr",
     "output_type": "stream",
     "text": [
      "23965049it [03:20, 118546.47it/s]\n"
     ]
    },
    {
     "name": "stdout",
     "output_type": "stream",
     "text": [
      "train 140: loss=0.055897, elapsed=200.32s, precision=0.902706, recall=0.838049, F1=0.869177\n",
      "test 140: loss=0.34338, elapsed=3.64291s, precision=0.556442, recall=0.413711, F1=0.474577\n",
      "INFO:tensorflow:SavedModel written to: b'../models/simplewiki/attention_1_layer/saved_model.pb'\n"
     ]
    },
    {
     "name": "stderr",
     "output_type": "stream",
     "text": [
      "23965049it [03:20, 118334.39it/s]\n"
     ]
    },
    {
     "name": "stdout",
     "output_type": "stream",
     "text": [
      "train 141: loss=0.0558505, elapsed=200.196s, precision=0.90263, recall=0.838557, F1=0.869415\n",
      "test 141: loss=0.329582, elapsed=3.62771s, precision=0.542412, recall=0.430665, F1=0.480122\n",
      "INFO:tensorflow:SavedModel written to: b'../models/simplewiki/attention_1_layer/saved_model.pb'\n"
     ]
    },
    {
     "name": "stderr",
     "output_type": "stream",
     "text": [
      "23965049it [03:20, 119698.85it/s]\n"
     ]
    },
    {
     "name": "stdout",
     "output_type": "stream",
     "text": [
      "train 142: loss=0.0555709, elapsed=200.213s, precision=0.903107, recall=0.839396, F1=0.870087\n",
      "test 142: loss=0.34812, elapsed=3.63785s, precision=0.544946, recall=0.428335, F1=0.479655\n",
      "INFO:tensorflow:SavedModel written to: b'../models/simplewiki/attention_1_layer/saved_model.pb'\n"
     ]
    },
    {
     "name": "stderr",
     "output_type": "stream",
     "text": [
      "23965049it [03:20, 119657.56it/s]\n"
     ]
    },
    {
     "name": "stdout",
     "output_type": "stream",
     "text": [
      "train 143: loss=0.0554964, elapsed=200.282s, precision=0.903214, recall=0.83971, F1=0.870305\n",
      "test 143: loss=0.331321, elapsed=3.64422s, precision=0.534685, recall=0.444468, F1=0.48542\n",
      "INFO:tensorflow:SavedModel written to: b'../models/simplewiki/attention_1_layer/saved_model.pb'\n"
     ]
    },
    {
     "name": "stderr",
     "output_type": "stream",
     "text": [
      "23965049it [03:20, 119658.87it/s]\n"
     ]
    },
    {
     "name": "stdout",
     "output_type": "stream",
     "text": [
      "train 144: loss=0.0552467, elapsed=200.28s, precision=0.903536, recall=0.840245, F1=0.870742\n",
      "test 144: loss=0.342051, elapsed=3.63581s, precision=0.520887, recall=0.460943, F1=0.489085\n",
      "INFO:tensorflow:SavedModel written to: b'../models/simplewiki/attention_1_layer/saved_model.pb'\n"
     ]
    },
    {
     "name": "stderr",
     "output_type": "stream",
     "text": [
      "23965049it [03:20, 118621.90it/s]\n"
     ]
    },
    {
     "name": "stdout",
     "output_type": "stream",
     "text": [
      "train 145: loss=0.055008, elapsed=200.233s, precision=0.903869, recall=0.841156, F1=0.871386\n",
      "test 145: loss=0.346671, elapsed=3.63282s, precision=0.509917, recall=0.474402, F1=0.491519\n",
      "INFO:tensorflow:SavedModel written to: b'../models/simplewiki/attention_1_layer/saved_model.pb'\n"
     ]
    },
    {
     "name": "stderr",
     "output_type": "stream",
     "text": [
      "23965049it [03:20, 119574.75it/s]\n"
     ]
    },
    {
     "name": "stdout",
     "output_type": "stream",
     "text": [
      "train 146: loss=0.0547976, elapsed=200.421s, precision=0.904537, recall=0.841933, F1=0.872113\n",
      "test 146: loss=0.360511, elapsed=3.65345s, precision=0.513786, recall=0.471761, F1=0.491877\n",
      "INFO:tensorflow:SavedModel written to: b'../models/simplewiki/attention_1_layer/saved_model.pb'\n"
     ]
    },
    {
     "name": "stderr",
     "output_type": "stream",
     "text": [
      "23965049it [03:20, 119749.74it/s]\n"
     ]
    },
    {
     "name": "stdout",
     "output_type": "stream",
     "text": [
      "train 147: loss=0.0546969, elapsed=200.128s, precision=0.904755, recall=0.842438, F1=0.872485\n",
      "test 147: loss=0.355291, elapsed=3.63395s, precision=0.502101, recall=0.488496, F1=0.495205\n",
      "INFO:tensorflow:SavedModel written to: b'../models/simplewiki/attention_1_layer/saved_model.pb'\n"
     ]
    },
    {
     "name": "stderr",
     "output_type": "stream",
     "text": [
      "23965049it [03:20, 117953.12it/s]\n"
     ]
    },
    {
     "name": "stdout",
     "output_type": "stream",
     "text": [
      "train 148: loss=0.0545584, elapsed=200.27s, precision=0.904929, recall=0.842979, F1=0.872856\n",
      "test 148: loss=0.346208, elapsed=3.64048s, precision=0.519261, recall=0.466185, F1=0.491294\n",
      "INFO:tensorflow:SavedModel written to: b'../models/simplewiki/attention_1_layer/saved_model.pb'\n"
     ]
    },
    {
     "name": "stderr",
     "output_type": "stream",
     "text": [
      "23965049it [03:20, 119619.72it/s]\n"
     ]
    },
    {
     "name": "stdout",
     "output_type": "stream",
     "text": [
      "train 149: loss=0.0543615, elapsed=200.345s, precision=0.905167, recall=0.843553, F1=0.873275\n",
      "test 149: loss=0.348119, elapsed=3.67857s, precision=0.520271, recall=0.460361, F1=0.488486\n",
      "INFO:tensorflow:SavedModel written to: b'../models/simplewiki/attention_1_layer/saved_model.pb'\n"
     ]
    },
    {
     "name": "stderr",
     "output_type": "stream",
     "text": [
      "23965049it [03:20, 117539.68it/s]\n"
     ]
    },
    {
     "name": "stdout",
     "output_type": "stream",
     "text": [
      "train 150: loss=0.0540546, elapsed=200.268s, precision=0.905907, recall=0.844508, F1=0.87413\n",
      "test 150: loss=0.34802, elapsed=3.62831s, precision=0.519878, recall=0.460413, F1=0.488342\n",
      "INFO:tensorflow:SavedModel written to: b'../models/simplewiki/attention_1_layer/saved_model.pb'\n"
     ]
    },
    {
     "name": "stderr",
     "output_type": "stream",
     "text": [
      "23965049it [03:20, 119608.85it/s]\n"
     ]
    },
    {
     "name": "stdout",
     "output_type": "stream",
     "text": [
      "train 151: loss=0.0537565, elapsed=200.364s, precision=0.906671, recall=0.845304, F1=0.874913\n",
      "test 151: loss=0.344444, elapsed=3.6328s, precision=0.527515, recall=0.449179, F1=0.485206\n",
      "INFO:tensorflow:SavedModel written to: b'../models/simplewiki/attention_1_layer/saved_model.pb'\n"
     ]
    },
    {
     "name": "stderr",
     "output_type": "stream",
     "text": [
      "23965049it [03:20, 119637.73it/s]\n"
     ]
    },
    {
     "name": "stdout",
     "output_type": "stream",
     "text": [
      "train 152: loss=0.0536574, elapsed=200.315s, precision=0.906474, recall=0.845857, F1=0.875117\n",
      "test 152: loss=0.33987, elapsed=3.64562s, precision=0.546657, recall=0.429271, F1=0.480905\n",
      "INFO:tensorflow:SavedModel written to: b'../models/simplewiki/attention_1_layer/saved_model.pb'\n"
     ]
    },
    {
     "name": "stderr",
     "output_type": "stream",
     "text": [
      "23965049it [03:20, 118588.52it/s]\n"
     ]
    },
    {
     "name": "stdout",
     "output_type": "stream",
     "text": [
      "train 153: loss=0.0535021, elapsed=200.341s, precision=0.90671, recall=0.84614, F1=0.875379\n",
      "test 153: loss=0.333336, elapsed=3.63502s, precision=0.540554, recall=0.432839, F1=0.480737\n",
      "INFO:tensorflow:SavedModel written to: b'../models/simplewiki/attention_1_layer/saved_model.pb'\n"
     ]
    },
    {
     "name": "stderr",
     "output_type": "stream",
     "text": [
      "23965049it [03:20, 119643.02it/s]\n"
     ]
    },
    {
     "name": "stdout",
     "output_type": "stream",
     "text": [
      "train 154: loss=0.0534045, elapsed=200.306s, precision=0.906775, recall=0.84676, F1=0.87574\n",
      "test 154: loss=0.348389, elapsed=3.63367s, precision=0.5384, recall=0.434149, F1=0.480687\n",
      "INFO:tensorflow:SavedModel written to: b'../models/simplewiki/attention_1_layer/saved_model.pb'\n"
     ]
    },
    {
     "name": "stderr",
     "output_type": "stream",
     "text": [
      "23965049it [03:20, 118236.48it/s]\n"
     ]
    },
    {
     "name": "stdout",
     "output_type": "stream",
     "text": [
      "train 155: loss=0.0531967, elapsed=200.342s, precision=0.907295, recall=0.847462, F1=0.876359\n",
      "test 155: loss=0.349864, elapsed=3.63597s, precision=0.51605, recall=0.45801, F1=0.485301\n",
      "INFO:tensorflow:SavedModel written to: b'../models/simplewiki/attention_1_layer/saved_model.pb'\n"
     ]
    },
    {
     "name": "stderr",
     "output_type": "stream",
     "text": [
      "23965049it [03:20, 119654.03it/s]\n"
     ]
    },
    {
     "name": "stdout",
     "output_type": "stream",
     "text": [
      "train 156: loss=0.0531029, elapsed=200.288s, precision=0.907192, recall=0.84756, F1=0.876363\n",
      "test 156: loss=0.362459, elapsed=3.62532s, precision=0.514084, recall=0.464906, F1=0.48826\n",
      "INFO:tensorflow:SavedModel written to: b'../models/simplewiki/attention_1_layer/saved_model.pb'\n"
     ]
    },
    {
     "name": "stderr",
     "output_type": "stream",
     "text": [
      "23965049it [03:20, 119605.69it/s]\n"
     ]
    },
    {
     "name": "stdout",
     "output_type": "stream",
     "text": [
      "train 157: loss=0.0528394, elapsed=200.369s, precision=0.907951, recall=0.848152, F1=0.877033\n",
      "test 157: loss=0.348285, elapsed=3.63266s, precision=0.50596, recall=0.474569, F1=0.489762\n",
      "INFO:tensorflow:SavedModel written to: b'../models/simplewiki/attention_1_layer/saved_model.pb'\n"
     ]
    },
    {
     "name": "stderr",
     "output_type": "stream",
     "text": [
      "23965049it [03:20, 118896.90it/s]\n"
     ]
    },
    {
     "name": "stdout",
     "output_type": "stream",
     "text": [
      "train 158: loss=0.0526647, elapsed=200.457s, precision=0.908173, recall=0.848837, F1=0.877503\n",
      "test 158: loss=0.357645, elapsed=3.63556s, precision=0.500983, recall=0.484804, F1=0.492761\n",
      "INFO:tensorflow:SavedModel written to: b'../models/simplewiki/attention_1_layer/saved_model.pb'\n"
     ]
    },
    {
     "name": "stderr",
     "output_type": "stream",
     "text": [
      "23965049it [03:20, 119660.31it/s]\n"
     ]
    },
    {
     "name": "stdout",
     "output_type": "stream",
     "text": [
      "train 159: loss=0.052763, elapsed=200.278s, precision=0.9081, recall=0.848478, F1=0.877277\n",
      "test 159: loss=0.355739, elapsed=3.67792s, precision=0.505348, recall=0.479145, F1=0.491898\n",
      "INFO:tensorflow:SavedModel written to: b'../models/simplewiki/attention_1_layer/saved_model.pb'\n"
     ]
    },
    {
     "name": "stderr",
     "output_type": "stream",
     "text": [
      "23965049it [03:20, 119586.98it/s]\n"
     ]
    },
    {
     "name": "stdout",
     "output_type": "stream",
     "text": [
      "train 160: loss=0.0525348, elapsed=200.4s, precision=0.908441, recall=0.849414, F1=0.877937\n",
      "test 160: loss=0.358488, elapsed=3.63698s, precision=0.498549, recall=0.487799, F1=0.493116\n",
      "INFO:tensorflow:SavedModel written to: b'../models/simplewiki/attention_1_layer/saved_model.pb'\n"
     ]
    },
    {
     "name": "stderr",
     "output_type": "stream",
     "text": [
      "23965049it [03:20, 118497.50it/s]\n"
     ]
    },
    {
     "name": "stdout",
     "output_type": "stream",
     "text": [
      "train 161: loss=0.052431, elapsed=200.259s, precision=0.908505, recall=0.849835, F1=0.878191\n",
      "test 161: loss=0.355838, elapsed=3.62524s, precision=0.504474, recall=0.480238, F1=0.492058\n",
      "INFO:tensorflow:SavedModel written to: b'../models/simplewiki/attention_1_layer/saved_model.pb'\n"
     ]
    },
    {
     "name": "stderr",
     "output_type": "stream",
     "text": [
      "23965049it [03:20, 118745.64it/s]\n"
     ]
    },
    {
     "name": "stdout",
     "output_type": "stream",
     "text": [
      "train 162: loss=0.0519555, elapsed=200.259s, precision=0.909543, recall=0.851242, F1=0.879427\n",
      "test 162: loss=0.368513, elapsed=3.63937s, precision=0.497365, recall=0.489765, F1=0.493536\n",
      "INFO:tensorflow:SavedModel written to: b'../models/simplewiki/attention_1_layer/saved_model.pb'\n"
     ]
    },
    {
     "name": "stderr",
     "output_type": "stream",
     "text": [
      "23965049it [03:20, 119600.54it/s]\n"
     ]
    },
    {
     "name": "stdout",
     "output_type": "stream",
     "text": [
      "train 163: loss=0.0517648, elapsed=200.378s, precision=0.909939, recall=0.852162, F1=0.880103\n",
      "test 163: loss=0.357234, elapsed=3.64856s, precision=0.504932, recall=0.48134, F1=0.492854\n",
      "INFO:tensorflow:SavedModel written to: b'../models/simplewiki/attention_1_layer/saved_model.pb'\n"
     ]
    },
    {
     "name": "stderr",
     "output_type": "stream",
     "text": [
      "23965049it [03:20, 118737.21it/s]\n"
     ]
    },
    {
     "name": "stdout",
     "output_type": "stream",
     "text": [
      "train 164: loss=0.0515799, elapsed=200.227s, precision=0.910429, recall=0.852089, F1=0.880293\n",
      "test 164: loss=0.365526, elapsed=3.63758s, precision=0.501387, recall=0.483067, F1=0.492057\n",
      "INFO:tensorflow:SavedModel written to: b'../models/simplewiki/attention_1_layer/saved_model.pb'\n"
     ]
    },
    {
     "name": "stderr",
     "output_type": "stream",
     "text": [
      "23965049it [03:20, 118542.52it/s]\n"
     ]
    },
    {
     "name": "stdout",
     "output_type": "stream",
     "text": [
      "train 165: loss=0.0515747, elapsed=200.451s, precision=0.910327, recall=0.852542, F1=0.880488\n",
      "test 165: loss=0.350514, elapsed=3.63754s, precision=0.504581, recall=0.476025, F1=0.489887\n",
      "INFO:tensorflow:SavedModel written to: b'../models/simplewiki/attention_1_layer/saved_model.pb'\n"
     ]
    },
    {
     "name": "stderr",
     "output_type": "stream",
     "text": [
      "23965049it [03:20, 119581.20it/s]\n"
     ]
    },
    {
     "name": "stdout",
     "output_type": "stream",
     "text": [
      "train 166: loss=0.0514829, elapsed=200.41s, precision=0.910182, recall=0.853178, F1=0.880759\n",
      "test 166: loss=0.354378, elapsed=3.62044s, precision=0.516343, recall=0.460902, F1=0.487049\n",
      "INFO:tensorflow:SavedModel written to: b'../models/simplewiki/attention_1_layer/saved_model.pb'\n"
     ]
    },
    {
     "name": "stderr",
     "output_type": "stream",
     "text": [
      "2114605it [00:18, 114294.21it/s]"
     ]
    },
    {
     "ename": "KeyboardInterrupt",
     "evalue": "",
     "output_type": "error",
     "traceback": [
      "\u001b[0;31m---------------------------------------------------------------------------\u001b[0m",
      "\u001b[0;31mKeyboardInterrupt\u001b[0m                         Traceback (most recent call last)",
      "\u001b[0;32m<ipython-input-11-6c5194598068>\u001b[0m in \u001b[0;36m<module>\u001b[0;34m()\u001b[0m\n\u001b[1;32m      8\u001b[0m                               \u001b[0mheader\u001b[0m\u001b[0;34m=\u001b[0m\u001b[0;34m'train %d'\u001b[0m \u001b[0;34m%\u001b[0m \u001b[0mepoch\u001b[0m\u001b[0;34m,\u001b[0m\u001b[0;34m\u001b[0m\u001b[0m\n\u001b[1;32m      9\u001b[0m                               \u001b[0mtrain\u001b[0m\u001b[0;34m=\u001b[0m\u001b[0;32mTrue\u001b[0m\u001b[0;34m,\u001b[0m\u001b[0;34m\u001b[0m\u001b[0m\n\u001b[0;32m---> 10\u001b[0;31m                               show_progress=True)\n\u001b[0m\u001b[1;32m     11\u001b[0m     result = evaluate_dataset('../data/simplewiki/simplewiki-20171103.entity_recognition.test.tfrecords',\n\u001b[1;32m     12\u001b[0m                               \u001b[0mheader\u001b[0m\u001b[0;34m=\u001b[0m\u001b[0;34m'test %d'\u001b[0m \u001b[0;34m%\u001b[0m \u001b[0mepoch\u001b[0m\u001b[0;34m,\u001b[0m\u001b[0;34m\u001b[0m\u001b[0m\n",
      "\u001b[0;32m<ipython-input-9-b0c8215e15e2>\u001b[0m in \u001b[0;36mevaluate_dataset\u001b[0;34m(filename, header, train, show_progress)\u001b[0m\n\u001b[1;32m     28\u001b[0m                                                \u001b[0mtrue_positives\u001b[0m\u001b[0;34m,\u001b[0m\u001b[0;34m\u001b[0m\u001b[0m\n\u001b[1;32m     29\u001b[0m                                                \u001b[0mfalse_positives\u001b[0m\u001b[0;34m,\u001b[0m\u001b[0;34m\u001b[0m\u001b[0m\n\u001b[0;32m---> 30\u001b[0;31m                                                false_negatives))\n\u001b[0m\u001b[1;32m     31\u001b[0m         \u001b[0;32mexcept\u001b[0m \u001b[0mtf\u001b[0m\u001b[0;34m.\u001b[0m\u001b[0merrors\u001b[0m\u001b[0;34m.\u001b[0m\u001b[0mOutOfRangeError\u001b[0m\u001b[0;34m:\u001b[0m\u001b[0;34m\u001b[0m\u001b[0m\n\u001b[1;32m     32\u001b[0m             \u001b[0;32mbreak\u001b[0m\u001b[0;34m\u001b[0m\u001b[0m\n",
      "\u001b[0;32m~/anaconda3/lib/python3.5/site-packages/tensorflow/python/client/session.py\u001b[0m in \u001b[0;36mrun\u001b[0;34m(self, fetches, feed_dict, options, run_metadata)\u001b[0m\n\u001b[1;32m    887\u001b[0m     \u001b[0;32mtry\u001b[0m\u001b[0;34m:\u001b[0m\u001b[0;34m\u001b[0m\u001b[0m\n\u001b[1;32m    888\u001b[0m       result = self._run(None, fetches, feed_dict, options_ptr,\n\u001b[0;32m--> 889\u001b[0;31m                          run_metadata_ptr)\n\u001b[0m\u001b[1;32m    890\u001b[0m       \u001b[0;32mif\u001b[0m \u001b[0mrun_metadata\u001b[0m\u001b[0;34m:\u001b[0m\u001b[0;34m\u001b[0m\u001b[0m\n\u001b[1;32m    891\u001b[0m         \u001b[0mproto_data\u001b[0m \u001b[0;34m=\u001b[0m \u001b[0mtf_session\u001b[0m\u001b[0;34m.\u001b[0m\u001b[0mTF_GetBuffer\u001b[0m\u001b[0;34m(\u001b[0m\u001b[0mrun_metadata_ptr\u001b[0m\u001b[0;34m)\u001b[0m\u001b[0;34m\u001b[0m\u001b[0m\n",
      "\u001b[0;32m~/anaconda3/lib/python3.5/site-packages/tensorflow/python/client/session.py\u001b[0m in \u001b[0;36m_run\u001b[0;34m(self, handle, fetches, feed_dict, options, run_metadata)\u001b[0m\n\u001b[1;32m   1118\u001b[0m     \u001b[0;32mif\u001b[0m \u001b[0mfinal_fetches\u001b[0m \u001b[0;32mor\u001b[0m \u001b[0mfinal_targets\u001b[0m \u001b[0;32mor\u001b[0m \u001b[0;34m(\u001b[0m\u001b[0mhandle\u001b[0m \u001b[0;32mand\u001b[0m \u001b[0mfeed_dict_tensor\u001b[0m\u001b[0;34m)\u001b[0m\u001b[0;34m:\u001b[0m\u001b[0;34m\u001b[0m\u001b[0m\n\u001b[1;32m   1119\u001b[0m       results = self._do_run(handle, final_targets, final_fetches,\n\u001b[0;32m-> 1120\u001b[0;31m                              feed_dict_tensor, options, run_metadata)\n\u001b[0m\u001b[1;32m   1121\u001b[0m     \u001b[0;32melse\u001b[0m\u001b[0;34m:\u001b[0m\u001b[0;34m\u001b[0m\u001b[0m\n\u001b[1;32m   1122\u001b[0m       \u001b[0mresults\u001b[0m \u001b[0;34m=\u001b[0m \u001b[0;34m[\u001b[0m\u001b[0;34m]\u001b[0m\u001b[0;34m\u001b[0m\u001b[0m\n",
      "\u001b[0;32m~/anaconda3/lib/python3.5/site-packages/tensorflow/python/client/session.py\u001b[0m in \u001b[0;36m_do_run\u001b[0;34m(self, handle, target_list, fetch_list, feed_dict, options, run_metadata)\u001b[0m\n\u001b[1;32m   1315\u001b[0m     \u001b[0;32mif\u001b[0m \u001b[0mhandle\u001b[0m \u001b[0;32mis\u001b[0m \u001b[0;32mNone\u001b[0m\u001b[0;34m:\u001b[0m\u001b[0;34m\u001b[0m\u001b[0m\n\u001b[1;32m   1316\u001b[0m       return self._do_call(_run_fn, self._session, feeds, fetches, targets,\n\u001b[0;32m-> 1317\u001b[0;31m                            options, run_metadata)\n\u001b[0m\u001b[1;32m   1318\u001b[0m     \u001b[0;32melse\u001b[0m\u001b[0;34m:\u001b[0m\u001b[0;34m\u001b[0m\u001b[0m\n\u001b[1;32m   1319\u001b[0m       \u001b[0;32mreturn\u001b[0m \u001b[0mself\u001b[0m\u001b[0;34m.\u001b[0m\u001b[0m_do_call\u001b[0m\u001b[0;34m(\u001b[0m\u001b[0m_prun_fn\u001b[0m\u001b[0;34m,\u001b[0m \u001b[0mself\u001b[0m\u001b[0;34m.\u001b[0m\u001b[0m_session\u001b[0m\u001b[0;34m,\u001b[0m \u001b[0mhandle\u001b[0m\u001b[0;34m,\u001b[0m \u001b[0mfeeds\u001b[0m\u001b[0;34m,\u001b[0m \u001b[0mfetches\u001b[0m\u001b[0;34m)\u001b[0m\u001b[0;34m\u001b[0m\u001b[0m\n",
      "\u001b[0;32m~/anaconda3/lib/python3.5/site-packages/tensorflow/python/client/session.py\u001b[0m in \u001b[0;36m_do_call\u001b[0;34m(self, fn, *args)\u001b[0m\n\u001b[1;32m   1321\u001b[0m   \u001b[0;32mdef\u001b[0m \u001b[0m_do_call\u001b[0m\u001b[0;34m(\u001b[0m\u001b[0mself\u001b[0m\u001b[0;34m,\u001b[0m \u001b[0mfn\u001b[0m\u001b[0;34m,\u001b[0m \u001b[0;34m*\u001b[0m\u001b[0margs\u001b[0m\u001b[0;34m)\u001b[0m\u001b[0;34m:\u001b[0m\u001b[0;34m\u001b[0m\u001b[0m\n\u001b[1;32m   1322\u001b[0m     \u001b[0;32mtry\u001b[0m\u001b[0;34m:\u001b[0m\u001b[0;34m\u001b[0m\u001b[0m\n\u001b[0;32m-> 1323\u001b[0;31m       \u001b[0;32mreturn\u001b[0m \u001b[0mfn\u001b[0m\u001b[0;34m(\u001b[0m\u001b[0;34m*\u001b[0m\u001b[0margs\u001b[0m\u001b[0;34m)\u001b[0m\u001b[0;34m\u001b[0m\u001b[0m\n\u001b[0m\u001b[1;32m   1324\u001b[0m     \u001b[0;32mexcept\u001b[0m \u001b[0merrors\u001b[0m\u001b[0;34m.\u001b[0m\u001b[0mOpError\u001b[0m \u001b[0;32mas\u001b[0m \u001b[0me\u001b[0m\u001b[0;34m:\u001b[0m\u001b[0;34m\u001b[0m\u001b[0m\n\u001b[1;32m   1325\u001b[0m       \u001b[0mmessage\u001b[0m \u001b[0;34m=\u001b[0m \u001b[0mcompat\u001b[0m\u001b[0;34m.\u001b[0m\u001b[0mas_text\u001b[0m\u001b[0;34m(\u001b[0m\u001b[0me\u001b[0m\u001b[0;34m.\u001b[0m\u001b[0mmessage\u001b[0m\u001b[0;34m)\u001b[0m\u001b[0;34m\u001b[0m\u001b[0m\n",
      "\u001b[0;32m~/anaconda3/lib/python3.5/site-packages/tensorflow/python/client/session.py\u001b[0m in \u001b[0;36m_run_fn\u001b[0;34m(session, feed_dict, fetch_list, target_list, options, run_metadata)\u001b[0m\n\u001b[1;32m   1300\u001b[0m           return tf_session.TF_Run(session, options,\n\u001b[1;32m   1301\u001b[0m                                    \u001b[0mfeed_dict\u001b[0m\u001b[0;34m,\u001b[0m \u001b[0mfetch_list\u001b[0m\u001b[0;34m,\u001b[0m \u001b[0mtarget_list\u001b[0m\u001b[0;34m,\u001b[0m\u001b[0;34m\u001b[0m\u001b[0m\n\u001b[0;32m-> 1302\u001b[0;31m                                    status, run_metadata)\n\u001b[0m\u001b[1;32m   1303\u001b[0m \u001b[0;34m\u001b[0m\u001b[0m\n\u001b[1;32m   1304\u001b[0m     \u001b[0;32mdef\u001b[0m \u001b[0m_prun_fn\u001b[0m\u001b[0;34m(\u001b[0m\u001b[0msession\u001b[0m\u001b[0;34m,\u001b[0m \u001b[0mhandle\u001b[0m\u001b[0;34m,\u001b[0m \u001b[0mfeed_dict\u001b[0m\u001b[0;34m,\u001b[0m \u001b[0mfetch_list\u001b[0m\u001b[0;34m)\u001b[0m\u001b[0;34m:\u001b[0m\u001b[0;34m\u001b[0m\u001b[0m\n",
      "\u001b[0;31mKeyboardInterrupt\u001b[0m: "
     ]
    },
    {
     "name": "stderr",
     "output_type": "stream",
     "text": [
      "\r",
      "2125555it [00:30, 114294.21it/s]"
     ]
    }
   ],
   "source": [
    "builder = tf.saved_model.builder.SavedModelBuilder('../models/simplewiki/attention_1_layer')\n",
    "builder.add_meta_graph_and_variables(sess, ['training'])\n",
    "\n",
    "num_epochs = 1000\n",
    "\n",
    "for epoch in range(num_epochs):\n",
    "    result = evaluate_dataset('../data/simplewiki/simplewiki-20171103.entity_recognition.train.tfrecords',\n",
    "                              header='train %d' % epoch,\n",
    "                              train=True,\n",
    "                              show_progress=True)\n",
    "    result = evaluate_dataset('../data/simplewiki/simplewiki-20171103.entity_recognition.test.tfrecords',\n",
    "                              header='test %d' % epoch,\n",
    "                              train=False,\n",
    "                              show_progress=False)\n",
    "    builder.save()"
   ]
  },
  {
   "cell_type": "code",
   "execution_count": null,
   "metadata": {},
   "outputs": [],
   "source": []
  }
 ],
 "metadata": {
  "kernelspec": {
   "display_name": "Python 3",
   "language": "python",
   "name": "python3"
  },
  "language_info": {
   "codemirror_mode": {
    "name": "ipython",
    "version": 3
   },
   "file_extension": ".py",
   "mimetype": "text/x-python",
   "name": "python",
   "nbconvert_exporter": "python",
   "pygments_lexer": "ipython3",
   "version": "3.5.4"
  }
 },
 "nbformat": 4,
 "nbformat_minor": 2
}
