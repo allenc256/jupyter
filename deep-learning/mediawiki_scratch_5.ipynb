{
 "cells": [
  {
   "cell_type": "code",
   "execution_count": 1,
   "metadata": {},
   "outputs": [],
   "source": [
    "import tensorflow as tf\n",
    "import numpy as np\n",
    "import math\n",
    "import gzip\n",
    "import json\n",
    "import datetime\n",
    "import shutil\n",
    "from tqdm import tqdm"
   ]
  },
  {
   "cell_type": "code",
   "execution_count": 2,
   "metadata": {},
   "outputs": [],
   "source": [
    "def reset_tf():\n",
    "    global sess\n",
    "    sess.close()\n",
    "    tf.reset_default_graph()\n",
    "    tf.set_random_seed(0)\n",
    "    sess = tf.InteractiveSession(config=tf.ConfigProto(log_device_placement=True))"
   ]
  },
  {
   "cell_type": "code",
   "execution_count": 3,
   "metadata": {},
   "outputs": [],
   "source": [
    "sess = tf.InteractiveSession(config=tf.ConfigProto(log_device_placement=True))"
   ]
  },
  {
   "cell_type": "code",
   "execution_count": 4,
   "metadata": {},
   "outputs": [],
   "source": [
    "class HyperParameters():\n",
    "    # maximum number of symbols in an input sequence\n",
    "    max_sequence_length = 40\n",
    "\n",
    "    # number of symbols in vocabulary\n",
    "    # (symbols are expected to be in range(vocab_size))\n",
    "    vocab_size = 10000\n",
    "\n",
    "    # number of dimensions in input embeddings\n",
    "    embedding_size = 256\n",
    "    \n",
    "    # number of sequences per batch\n",
    "    batch_size = 256\n",
    "    \n",
    "    # number of target classes\n",
    "    num_target_classes = 2\n",
    "    \n",
    "    # number of combined (attention + feed forward) layers\n",
    "    num_layers = 4\n",
    "    \n",
    "    # number of parsing threads in data pipeline\n",
    "    dataset_pipeline_parallel_calls = 4\n",
    "    \n",
    "    # size of prefetch in data pipeline\n",
    "    dataset_pipeline_prefetch = batch_size * 16\n",
    "    \n",
    "    # shuffle buffer size\n",
    "    dataset_pipeline_shuffle_buffer_size = 10000\n",
    "    \n",
    "    # dropout rate\n",
    "    dropout_rate = 0.1\n",
    "\n",
    "hp = HyperParameters()"
   ]
  },
  {
   "cell_type": "code",
   "execution_count": 5,
   "metadata": {},
   "outputs": [],
   "source": [
    "def parse_example(example_proto, max_sequence_length=hp.max_sequence_length):\n",
    "    features = {\n",
    "        'inputs': tf.VarLenFeature(tf.int64),\n",
    "        'word_endings': tf.VarLenFeature(tf.int64),\n",
    "        'targets': tf.VarLenFeature(tf.int64)\n",
    "    }\n",
    "    \n",
    "    parsed = tf.parse_single_example(example_proto, features)\n",
    "    \n",
    "    def convert_and_pad(sparse_tensor):\n",
    "        result = tf.sparse_tensor_to_dense(sparse_tensor)\n",
    "        # TODO: properly ignore elements which are too large (right now we just clip)\n",
    "        result = result[:max_sequence_length]\n",
    "        result = tf.pad(result, [[0, max_sequence_length - tf.shape(result)[0]]])\n",
    "        return result\n",
    "    \n",
    "    return (convert_and_pad(parsed['inputs']),\n",
    "            tf.shape(parsed['inputs'])[0],\n",
    "            convert_and_pad(parsed['word_endings']),\n",
    "            convert_and_pad(parsed['targets']))"
   ]
  },
  {
   "cell_type": "code",
   "execution_count": 6,
   "metadata": {},
   "outputs": [],
   "source": [
    "reset_tf()\n",
    "\n",
    "# Data pipeline\n",
    "# -------------\n",
    "\n",
    "dataset_filenames = tf.placeholder(tf.string, shape=[None])\n",
    "\n",
    "dataset = tf.data.TFRecordDataset(dataset_filenames)\n",
    "dataset = dataset.map(parse_example, \n",
    "                      num_parallel_calls = hp.dataset_pipeline_parallel_calls)\n",
    "dataset = dataset.shuffle(hp.dataset_pipeline_shuffle_buffer_size)\n",
    "dataset = dataset.prefetch(hp.dataset_pipeline_prefetch)\n",
    "dataset = dataset.batch(hp.batch_size)\n",
    "\n",
    "dataset_iterator = dataset.make_initializable_iterator()\n",
    "input_sequences_it, input_lengths_it, input_word_endings_it, target_sequences_it = dataset_iterator.get_next()\n",
    "\n",
    "# Placeholders\n",
    "# ------------\n",
    "\n",
    "input_sequences = input_sequences_it\n",
    "input_lengths = input_lengths_it\n",
    "input_word_endings = input_word_endings_it\n",
    "target_sequences = target_sequences_it\n",
    "\n",
    "# TODO: figure out how to use placeholder_with_default\n",
    "# input_sequences = tf.placeholder_with_default(input_sequences_it, \n",
    "#                                               shape = (hp.batch_size, hp.max_sequence_length), \n",
    "#                                               name = 'input_sequences')\n",
    "# input_lengths = tf.placeholder_with_default(input_lengths_it,\n",
    "#                                             shape = (hp.batch_size),\n",
    "#                                             name = 'input_lengths')\n",
    "# input_word_endings = tf.placeholder_with_default(input_word_endings_it,\n",
    "#                                                  shape = (hp.batch_size, hp.max_sequence_length),\n",
    "#                                                  name = 'input_word_endings')\n",
    "# target_sequences = tf.placeholder_with_default(target_sequences_it,\n",
    "#                                                shape = (hp.batch_size, hp.max_sequence_length),\n",
    "#                                                name = 'target_sequences')\n",
    "\n",
    "# sequences of input positions (not a placeholder)\n",
    "input_positions = tf.range(hp.max_sequence_length, dtype=tf.int32)\n",
    "input_positions = tf.tile(input_positions, [tf.shape(input_sequences)[0]])\n",
    "input_positions = tf.reshape(input_positions, \n",
    "                             (tf.shape(input_sequences)[0], hp.max_sequence_length), \n",
    "                             name = 'input_positions')\n",
    "\n",
    "is_training = tf.placeholder(tf.bool)\n",
    "\n",
    "# Embeddings\n",
    "# ----------\n",
    "\n",
    "# sequences of input embeddings w/ shape:\n",
    "#   (hp.batch_size, hp.max_sequence_length, hp.embedding_size)\n",
    "input_sequence_embeddings = tf.get_variable('input_sequence_embeddings', \n",
    "                                            (hp.vocab_size, hp.embedding_size))\n",
    "input_sequences_embedded = tf.nn.embedding_lookup(input_sequence_embeddings, \n",
    "                                                  input_sequences,\n",
    "                                                  name = 'input_sequences_embedded')\n",
    "\n",
    "# sequences of input position embeddings w/ shape:\n",
    "#   (hp.batch_size, hp.max_sequence_length, hp.embedding_size)\n",
    "input_position_embeddings = tf.get_variable('input_position_embeddings', \n",
    "                                            (hp.max_sequence_length, hp.embedding_size))\n",
    "input_positions_embedded = tf.nn.embedding_lookup(input_position_embeddings, input_positions)\n",
    "\n",
    "# sequences of word ending embeddings w/ shape:\n",
    "#   (hp.batch_size, hp.max_sequence_length, hp.embedding_size)\n",
    "input_word_ending_embeddings = tf.get_variable('input_word_ending_embeddings',\n",
    "                                               (2, hp.embedding_size))\n",
    "input_word_endings_embedded = tf.nn.embedding_lookup(input_word_ending_embeddings, \n",
    "                                                     input_word_endings,\n",
    "                                                     name = 'input_word_endings_embedded')\n",
    "\n",
    "# Sequence mask\n",
    "# -------------\n",
    "\n",
    "sequence_mask = tf.sequence_mask(input_lengths,\n",
    "                                 hp.max_sequence_length,\n",
    "                                 dtype = tf.float32)\n",
    "# expand dimensions to support broadcasting\n",
    "expanded_sequence_mask = tf.expand_dims(sequence_mask, \n",
    "                                        2, \n",
    "                                        name = 'sequence')\n",
    "\n",
    "input_combined_embedded = tf.add_n([input_sequences_embedded, \n",
    "                                    input_positions_embedded, \n",
    "                                    input_word_endings_embedded])\n",
    "# TODO: is this necessary?\n",
    "input_combined_embedded = tf.multiply(input_combined_embedded,\n",
    "                                      expanded_sequence_mask)\n",
    "input_combined_embedded = tf.layers.dropout(input_combined_embedded,\n",
    "                                            rate = hp.dropout_rate,\n",
    "                                            training = is_training)\n",
    "\n",
    "# Layer normalization\n",
    "# -------------------\n",
    "\n",
    "def layer_norm(x, num_units, scope, reuse=None, epsilon=1e-6):\n",
    "    with tf.variable_scope(scope, reuse=reuse):\n",
    "        scale = tf.get_variable(\n",
    "            \"layer_norm_scale\", [num_units], initializer=tf.ones_initializer())\n",
    "        bias = tf.get_variable(\n",
    "            \"layer_norm_bias\", [num_units], initializer=tf.zeros_initializer())\n",
    "        result = layer_norm_compute(x, epsilon, scale, bias)\n",
    "        return result\n",
    "\n",
    "def layer_norm_compute(x, epsilon, scale, bias):\n",
    "    # TODO: incorporate length into layer normalization?\n",
    "    mean = tf.reduce_mean(x, axis=[-1], keep_dims=True)\n",
    "    variance = tf.reduce_mean(tf.square(x - mean), axis=[-1], keep_dims=True)\n",
    "    norm_x = (x - mean) * tf.rsqrt(variance + epsilon)\n",
    "    return norm_x * scale + bias\n",
    "    \n",
    "# Attention\n",
    "# ---------\n",
    "\n",
    "def attention_layer(A, dropout_rate, is_training):\n",
    "    A_T = tf.transpose(A, perm=[0, 2, 1])\n",
    "    scaled_logits = tf.matmul(A, A_T) / tf.sqrt(tf.cast(tf.shape(A)[-1], tf.float32))\n",
    "    result = tf.matmul(tf.nn.softmax(scaled_logits), A)\n",
    "    result = tf.layers.dropout(result,\n",
    "                               rate = dropout_rate,\n",
    "                               training = is_training)\n",
    "    return result\n",
    "\n",
    "# Feed-forward\n",
    "# ------------\n",
    "\n",
    "def feed_forward_layer(A, num_units, dropout_rate, is_training, scope, reuse=None):\n",
    "    with tf.variable_scope(scope, reuse=reuse):\n",
    "        A = tf.layers.dense(A, num_units, activation=tf.nn.relu, name='fc1')\n",
    "        A = tf.layers.dense(A, num_units, name='fc2')\n",
    "        A = tf.layers.dropout(A, rate = dropout_rate, training = is_training)\n",
    "        return A\n",
    "\n",
    "# Layers\n",
    "# ------\n",
    "\n",
    "def combined_layer(A, num_units, mask, dropout_rate, is_training, scope, reuse=None):\n",
    "    with tf.variable_scope(scope, reuse=reuse):\n",
    "        A = layer_norm(A + attention_layer(A, dropout_rate, is_training), num_units, scope='attention_norm')\n",
    "        A = layer_norm(A + feed_forward_layer(A, num_units, dropout_rate, is_training, 'ff'), num_units, scope='ff_norm')\n",
    "        A *= mask\n",
    "        return A\n",
    "    \n",
    "layer = input_combined_embedded\n",
    "for i in range(hp.num_layers):\n",
    "    layer = combined_layer(layer, \n",
    "                           hp.embedding_size, \n",
    "                           expanded_sequence_mask, \n",
    "                           hp.dropout_rate,\n",
    "                           is_training,\n",
    "                           'layer_%d' % i)\n",
    "\n",
    "# Softmax\n",
    "# -------\n",
    "\n",
    "output_logits = tf.layers.dense(layer, hp.num_target_classes, name='softmax')\n",
    "\n",
    "# TODO: is the softmax here really necessary?\n",
    "output_sequences = tf.nn.softmax(output_logits)\n",
    "output_sequences = tf.argmax(output_sequences, axis=-1)\n",
    "output_sequences *= tf.cast(sequence_mask, tf.int64)\n",
    "\n",
    "# Loss\n",
    "# ----\n",
    "\n",
    "losses = tf.nn.sparse_softmax_cross_entropy_with_logits(labels=target_sequences,\n",
    "                                                        logits=output_logits)\n",
    "losses *= sequence_mask\n",
    "\n",
    "total_loss = tf.reduce_sum(losses)\n",
    "total_input_length = tf.reduce_sum(input_lengths)\n",
    "mean_loss  = total_loss / tf.cast(total_input_length, tf.float32)\n",
    "\n",
    "true_positives = tf.reduce_sum(output_sequences * target_sequences)\n",
    "false_positives = tf.reduce_sum(tf.maximum(output_sequences - target_sequences, 0))\n",
    "false_negatives = tf.reduce_sum(tf.maximum(target_sequences - output_sequences, 0))\n",
    "\n",
    "# Training\n",
    "# --------\n",
    "\n",
    "global_step = tf.Variable(0, name='global_step', trainable=False)\n",
    "optimizer = tf.train.AdamOptimizer(learning_rate=1e-3)\n",
    "train_op = optimizer.minimize(mean_loss, global_step=global_step)\n",
    "\n",
    "# Summaries\n",
    "# ---------\n",
    "\n",
    "tf.summary.scalar('mean_loss', mean_loss)\n",
    "\n",
    "merged_summaries = tf.summary.merge_all()"
   ]
  },
  {
   "cell_type": "code",
   "execution_count": 7,
   "metadata": {},
   "outputs": [
    {
     "name": "stdout",
     "output_type": "stream",
     "text": [
      "parameters for \"input_sequence_embeddings:0\": 2560000\n",
      "parameters for \"input_position_embeddings:0\": 10240\n",
      "parameters for \"input_word_ending_embeddings:0\": 512\n",
      "parameters for \"layer_0/attention_norm/layer_norm_scale:0\": 256\n",
      "parameters for \"layer_0/attention_norm/layer_norm_bias:0\": 256\n",
      "parameters for \"layer_0/ff/fc1/kernel:0\": 65536\n",
      "parameters for \"layer_0/ff/fc1/bias:0\": 256\n",
      "parameters for \"layer_0/ff/fc2/kernel:0\": 65536\n",
      "parameters for \"layer_0/ff/fc2/bias:0\": 256\n",
      "parameters for \"layer_0/ff_norm/layer_norm_scale:0\": 256\n",
      "parameters for \"layer_0/ff_norm/layer_norm_bias:0\": 256\n",
      "parameters for \"layer_1/attention_norm/layer_norm_scale:0\": 256\n",
      "parameters for \"layer_1/attention_norm/layer_norm_bias:0\": 256\n",
      "parameters for \"layer_1/ff/fc1/kernel:0\": 65536\n",
      "parameters for \"layer_1/ff/fc1/bias:0\": 256\n",
      "parameters for \"layer_1/ff/fc2/kernel:0\": 65536\n",
      "parameters for \"layer_1/ff/fc2/bias:0\": 256\n",
      "parameters for \"layer_1/ff_norm/layer_norm_scale:0\": 256\n",
      "parameters for \"layer_1/ff_norm/layer_norm_bias:0\": 256\n",
      "parameters for \"layer_2/attention_norm/layer_norm_scale:0\": 256\n",
      "parameters for \"layer_2/attention_norm/layer_norm_bias:0\": 256\n",
      "parameters for \"layer_2/ff/fc1/kernel:0\": 65536\n",
      "parameters for \"layer_2/ff/fc1/bias:0\": 256\n",
      "parameters for \"layer_2/ff/fc2/kernel:0\": 65536\n",
      "parameters for \"layer_2/ff/fc2/bias:0\": 256\n",
      "parameters for \"layer_2/ff_norm/layer_norm_scale:0\": 256\n",
      "parameters for \"layer_2/ff_norm/layer_norm_bias:0\": 256\n",
      "parameters for \"layer_3/attention_norm/layer_norm_scale:0\": 256\n",
      "parameters for \"layer_3/attention_norm/layer_norm_bias:0\": 256\n",
      "parameters for \"layer_3/ff/fc1/kernel:0\": 65536\n",
      "parameters for \"layer_3/ff/fc1/bias:0\": 256\n",
      "parameters for \"layer_3/ff/fc2/kernel:0\": 65536\n",
      "parameters for \"layer_3/ff/fc2/bias:0\": 256\n",
      "parameters for \"layer_3/ff_norm/layer_norm_scale:0\": 256\n",
      "parameters for \"layer_3/ff_norm/layer_norm_bias:0\": 256\n",
      "parameters for \"softmax/kernel:0\": 512\n",
      "parameters for \"softmax/bias:0\": 2\n",
      "total parameters: 3101698\n"
     ]
    }
   ],
   "source": [
    "total_parameters = 0\n",
    "for variable in tf.trainable_variables():\n",
    "    # shape is an array of tf.Dimension\n",
    "    shape = variable.get_shape()\n",
    "    variable_parameters = 1\n",
    "    for dim in shape:\n",
    "        variable_parameters *= dim.value\n",
    "    print('parameters for \"%s\": %d' % (variable.name, variable_parameters))\n",
    "    total_parameters += variable_parameters\n",
    "print('total parameters: %d' % total_parameters)"
   ]
  },
  {
   "cell_type": "code",
   "execution_count": 8,
   "metadata": {},
   "outputs": [],
   "source": [
    "sess.run(tf.global_variables_initializer())"
   ]
  },
  {
   "cell_type": "code",
   "execution_count": 9,
   "metadata": {},
   "outputs": [],
   "source": [
    "def evaluate_dataset(filename, header='results', train=False, show_progress=True):\n",
    "    cum_loss = 0\n",
    "    cum_input_length = 0\n",
    "    \n",
    "    cum_true_positives = 0\n",
    "    cum_false_positives = 0\n",
    "    cum_false_negatives = 0\n",
    "    \n",
    "    sess.run(dataset_iterator.initializer, feed_dict={\n",
    "        dataset_filenames: [filename]\n",
    "    })\n",
    "    \n",
    "    start = datetime.datetime.now()\n",
    "    \n",
    "    if show_progress:\n",
    "        progress = tqdm()\n",
    "        \n",
    "    while True:\n",
    "        try:\n",
    "            (_,\n",
    "             curr_loss, \n",
    "             curr_input_length, \n",
    "             curr_true_positives,\n",
    "             curr_false_positives,\n",
    "             curr_false_negatives) = sess.run((train_op if train else [],\n",
    "                                               total_loss,\n",
    "                                               total_input_length,\n",
    "                                               true_positives,\n",
    "                                               false_positives,\n",
    "                                               false_negatives),\n",
    "                                              feed_dict = { is_training: train })\n",
    "        except tf.errors.OutOfRangeError:\n",
    "            break\n",
    "\n",
    "        if show_progress:\n",
    "            progress.update(curr_input_length)\n",
    "\n",
    "        cum_loss += curr_loss\n",
    "        cum_input_length += curr_input_length\n",
    "        cum_true_positives += curr_true_positives\n",
    "        cum_false_positives += curr_false_positives\n",
    "        cum_false_negatives += curr_false_negatives\n",
    "    \n",
    "    if show_progress:\n",
    "        progress.close()\n",
    "\n",
    "    finish = datetime.datetime.now()\n",
    "    elapsed = (finish - start).total_seconds()\n",
    "    \n",
    "    precision = cum_true_positives / (cum_true_positives + cum_false_positives)\n",
    "    recall = cum_true_positives / (cum_true_positives + cum_false_negatives)\n",
    "    F1 = 2 * (precision * recall) / (precision + recall)\n",
    "    \n",
    "    print('%s: loss=%g, elapsed=%gs, precision=%g, recall=%g, F1=%g' % (header,\n",
    "                                                                        cum_loss/cum_input_length, \n",
    "                                                                        elapsed, \n",
    "                                                                        precision, \n",
    "                                                                        recall, \n",
    "                                                                        F1))"
   ]
  },
  {
   "cell_type": "code",
   "execution_count": 10,
   "metadata": {},
   "outputs": [
    {
     "name": "stderr",
     "output_type": "stream",
     "text": [
      "23718333it [03:38, 108717.36it/s]\n"
     ]
    },
    {
     "name": "stdout",
     "output_type": "stream",
     "text": [
      "train 0: loss=0.191152, elapsed=218.166s, precision=0.672429, recall=0.224368, F1=0.336468\n"
     ]
    },
    {
     "name": "stderr",
     "output_type": "stream",
     "text": [
      "\r",
      "0it [00:00, ?it/s]"
     ]
    },
    {
     "name": "stdout",
     "output_type": "stream",
     "text": [
      "dev 0: loss=0.177852, elapsed=2.79058s, precision=0.702729, recall=0.304435, F1=0.424827\n"
     ]
    },
    {
     "name": "stderr",
     "output_type": "stream",
     "text": [
      "23718333it [03:35, 110149.53it/s]\n"
     ]
    },
    {
     "name": "stdout",
     "output_type": "stream",
     "text": [
      "train 1: loss=0.170946, elapsed=215.331s, precision=0.702876, recall=0.314277, F1=0.434345\n"
     ]
    },
    {
     "name": "stderr",
     "output_type": "stream",
     "text": [
      "\r",
      "0it [00:00, ?it/s]"
     ]
    },
    {
     "name": "stdout",
     "output_type": "stream",
     "text": [
      "dev 1: loss=0.172337, elapsed=2.37324s, precision=0.757393, recall=0.2814, F1=0.410343\n"
     ]
    },
    {
     "name": "stderr",
     "output_type": "stream",
     "text": [
      "23718333it [03:34, 110809.13it/s]\n"
     ]
    },
    {
     "name": "stdout",
     "output_type": "stream",
     "text": [
      "train 2: loss=0.162695, elapsed=214.05s, precision=0.713418, recall=0.352873, F1=0.47219\n"
     ]
    },
    {
     "name": "stderr",
     "output_type": "stream",
     "text": [
      "\r",
      "0it [00:00, ?it/s]"
     ]
    },
    {
     "name": "stdout",
     "output_type": "stream",
     "text": [
      "dev 2: loss=0.16899, elapsed=2.40012s, precision=0.742294, recall=0.323627, F1=0.45074\n"
     ]
    },
    {
     "name": "stderr",
     "output_type": "stream",
     "text": [
      "23718333it [03:41, 107034.53it/s]\n"
     ]
    },
    {
     "name": "stdout",
     "output_type": "stream",
     "text": [
      "train 3: loss=0.157263, elapsed=221.598s, precision=0.720954, recall=0.382372, F1=0.499712\n"
     ]
    },
    {
     "name": "stderr",
     "output_type": "stream",
     "text": [
      "\r",
      "0it [00:00, ?it/s]"
     ]
    },
    {
     "name": "stdout",
     "output_type": "stream",
     "text": [
      "dev 3: loss=0.166897, elapsed=3.04232s, precision=0.734349, recall=0.34687, F1=0.471179\n"
     ]
    },
    {
     "name": "stderr",
     "output_type": "stream",
     "text": [
      "23718333it [04:06, 117165.23it/s]\n"
     ]
    },
    {
     "name": "stdout",
     "output_type": "stream",
     "text": [
      "train 4: loss=0.153232, elapsed=246.206s, precision=0.727101, recall=0.405301, F1=0.520477\n"
     ]
    },
    {
     "name": "stderr",
     "output_type": "stream",
     "text": [
      "\r",
      "0it [00:00, ?it/s]"
     ]
    },
    {
     "name": "stdout",
     "output_type": "stream",
     "text": [
      "dev 4: loss=0.165216, elapsed=2.7766s, precision=0.717166, recall=0.379622, F1=0.496453\n"
     ]
    },
    {
     "name": "stderr",
     "output_type": "stream",
     "text": [
      "23718333it [03:54, 119578.98it/s]\n"
     ]
    },
    {
     "name": "stdout",
     "output_type": "stream",
     "text": [
      "train 5: loss=0.150061, elapsed=234.352s, precision=0.731925, recall=0.423674, F1=0.536687\n"
     ]
    },
    {
     "name": "stderr",
     "output_type": "stream",
     "text": [
      "\r",
      "0it [00:00, ?it/s]"
     ]
    },
    {
     "name": "stdout",
     "output_type": "stream",
     "text": [
      "dev 5: loss=0.165303, elapsed=2.66284s, precision=0.707554, recall=0.393895, F1=0.506064\n"
     ]
    },
    {
     "name": "stderr",
     "output_type": "stream",
     "text": [
      "23718333it [03:36, 109607.72it/s]\n"
     ]
    },
    {
     "name": "stdout",
     "output_type": "stream",
     "text": [
      "train 6: loss=0.14732, elapsed=216.396s, precision=0.735668, recall=0.440205, F1=0.550816\n"
     ]
    },
    {
     "name": "stderr",
     "output_type": "stream",
     "text": [
      "\r",
      "0it [00:00, ?it/s]"
     ]
    },
    {
     "name": "stdout",
     "output_type": "stream",
     "text": [
      "dev 6: loss=0.166099, elapsed=2.34004s, precision=0.687513, recall=0.416633, F1=0.518846\n"
     ]
    },
    {
     "name": "stderr",
     "output_type": "stream",
     "text": [
      "23718333it [03:35, 110248.30it/s]\n"
     ]
    },
    {
     "name": "stdout",
     "output_type": "stream",
     "text": [
      "train 7: loss=0.145014, elapsed=215.139s, precision=0.739568, recall=0.45469, F1=0.563152\n"
     ]
    },
    {
     "name": "stderr",
     "output_type": "stream",
     "text": [
      "\r",
      "0it [00:00, ?it/s]"
     ]
    },
    {
     "name": "stdout",
     "output_type": "stream",
     "text": [
      "dev 7: loss=0.166568, elapsed=2.33115s, precision=0.667898, recall=0.43374, F1=0.525933\n"
     ]
    },
    {
     "name": "stderr",
     "output_type": "stream",
     "text": [
      "23718333it [03:34, 110784.14it/s]\n"
     ]
    },
    {
     "name": "stdout",
     "output_type": "stream",
     "text": [
      "train 8: loss=0.142883, elapsed=214.098s, precision=0.74302, recall=0.467166, F1=0.573654\n"
     ]
    },
    {
     "name": "stderr",
     "output_type": "stream",
     "text": [
      "\r",
      "0it [00:00, ?it/s]"
     ]
    },
    {
     "name": "stdout",
     "output_type": "stream",
     "text": [
      "dev 8: loss=0.166791, elapsed=2.34984s, precision=0.658678, recall=0.448169, F1=0.533405\n"
     ]
    },
    {
     "name": "stderr",
     "output_type": "stream",
     "text": [
      "23718333it [03:38, 108684.46it/s]\n"
     ]
    },
    {
     "name": "stdout",
     "output_type": "stream",
     "text": [
      "train 9: loss=0.141016, elapsed=218.234s, precision=0.74573, recall=0.478877, F1=0.583229\n"
     ]
    },
    {
     "name": "stderr",
     "output_type": "stream",
     "text": [
      "\r",
      "0it [00:00, ?it/s]"
     ]
    },
    {
     "name": "stdout",
     "output_type": "stream",
     "text": [
      "dev 9: loss=0.169518, elapsed=2.18395s, precision=0.641747, recall=0.466492, F1=0.540262\n"
     ]
    },
    {
     "name": "stderr",
     "output_type": "stream",
     "text": [
      "23718333it [03:37, 109203.67it/s]\n"
     ]
    },
    {
     "name": "stdout",
     "output_type": "stream",
     "text": [
      "train 10: loss=0.13935, elapsed=217.195s, precision=0.748947, recall=0.488417, F1=0.591254\n"
     ]
    },
    {
     "name": "stderr",
     "output_type": "stream",
     "text": [
      "\r",
      "0it [00:00, ?it/s]"
     ]
    },
    {
     "name": "stdout",
     "output_type": "stream",
     "text": [
      "dev 10: loss=0.170255, elapsed=2.05523s, precision=0.643202, recall=0.468265, F1=0.541966\n"
     ]
    },
    {
     "name": "stderr",
     "output_type": "stream",
     "text": [
      "23718333it [03:35, 109990.30it/s]\n"
     ]
    },
    {
     "name": "stdout",
     "output_type": "stream",
     "text": [
      "train 11: loss=0.137789, elapsed=215.642s, precision=0.751528, recall=0.497534, F1=0.598707\n"
     ]
    },
    {
     "name": "stderr",
     "output_type": "stream",
     "text": [
      "\r",
      "0it [00:00, ?it/s]"
     ]
    },
    {
     "name": "stdout",
     "output_type": "stream",
     "text": [
      "dev 11: loss=0.170559, elapsed=2.18298s, precision=0.63364, recall=0.485284, F1=0.549627\n"
     ]
    },
    {
     "name": "stderr",
     "output_type": "stream",
     "text": [
      "23718333it [03:35, 109979.81it/s]\n"
     ]
    },
    {
     "name": "stdout",
     "output_type": "stream",
     "text": [
      "train 12: loss=0.136261, elapsed=215.664s, precision=0.754856, recall=0.506144, F1=0.605973\n"
     ]
    },
    {
     "name": "stderr",
     "output_type": "stream",
     "text": [
      "\r",
      "0it [00:00, ?it/s]"
     ]
    },
    {
     "name": "stdout",
     "output_type": "stream",
     "text": [
      "dev 12: loss=0.171171, elapsed=2.20526s, precision=0.63565, recall=0.480138, F1=0.547057\n"
     ]
    },
    {
     "name": "stderr",
     "output_type": "stream",
     "text": [
      "23718333it [03:35, 110262.85it/s]\n"
     ]
    },
    {
     "name": "stdout",
     "output_type": "stream",
     "text": [
      "train 13: loss=0.134944, elapsed=215.11s, precision=0.757279, recall=0.513634, F1=0.612102\n"
     ]
    },
    {
     "name": "stderr",
     "output_type": "stream",
     "text": [
      "\r",
      "0it [00:00, ?it/s]"
     ]
    },
    {
     "name": "stdout",
     "output_type": "stream",
     "text": [
      "dev 13: loss=0.172007, elapsed=2.18706s, precision=0.63433, recall=0.482207, F1=0.547906\n"
     ]
    },
    {
     "name": "stderr",
     "output_type": "stream",
     "text": [
      "23718333it [03:36, 109733.85it/s]\n"
     ]
    },
    {
     "name": "stdout",
     "output_type": "stream",
     "text": [
      "train 14: loss=0.133634, elapsed=216.147s, precision=0.759387, recall=0.520943, F1=0.617961\n"
     ]
    },
    {
     "name": "stderr",
     "output_type": "stream",
     "text": [
      "\r",
      "0it [00:00, ?it/s]"
     ]
    },
    {
     "name": "stdout",
     "output_type": "stream",
     "text": [
      "dev 14: loss=0.173189, elapsed=2.21151s, precision=0.625803, recall=0.497679, F1=0.554436\n"
     ]
    },
    {
     "name": "stderr",
     "output_type": "stream",
     "text": [
      "23718333it [03:36, 109437.33it/s]\n"
     ]
    },
    {
     "name": "stdout",
     "output_type": "stream",
     "text": [
      "train 15: loss=0.132435, elapsed=216.731s, precision=0.762155, recall=0.527335, F1=0.623364\n"
     ]
    },
    {
     "name": "stderr",
     "output_type": "stream",
     "text": [
      "\r",
      "0it [00:00, ?it/s]"
     ]
    },
    {
     "name": "stdout",
     "output_type": "stream",
     "text": [
      "dev 15: loss=0.174302, elapsed=2.30836s, precision=0.624429, recall=0.494046, F1=0.551638\n"
     ]
    },
    {
     "name": "stderr",
     "output_type": "stream",
     "text": [
      "23718333it [03:29, 113379.96it/s]\n"
     ]
    },
    {
     "name": "stdout",
     "output_type": "stream",
     "text": [
      "train 16: loss=0.13127, elapsed=209.195s, precision=0.764291, recall=0.533421, F1=0.62832\n"
     ]
    },
    {
     "name": "stderr",
     "output_type": "stream",
     "text": [
      "\r",
      "0it [00:00, ?it/s]"
     ]
    },
    {
     "name": "stdout",
     "output_type": "stream",
     "text": [
      "dev 16: loss=0.179509, elapsed=2.30229s, precision=0.612078, recall=0.510961, F1=0.556967\n"
     ]
    },
    {
     "name": "stderr",
     "output_type": "stream",
     "text": [
      "23718333it [03:28, 124378.71it/s]\n"
     ]
    },
    {
     "name": "stdout",
     "output_type": "stream",
     "text": [
      "train 17: loss=0.130353, elapsed=208.401s, precision=0.76662, recall=0.538633, F1=0.632716\n"
     ]
    },
    {
     "name": "stderr",
     "output_type": "stream",
     "text": [
      "\r",
      "0it [00:00, ?it/s]"
     ]
    },
    {
     "name": "stdout",
     "output_type": "stream",
     "text": [
      "dev 17: loss=0.174942, elapsed=2.30234s, precision=0.621262, recall=0.503086, F1=0.555963\n"
     ]
    },
    {
     "name": "stderr",
     "output_type": "stream",
     "text": [
      "23718333it [03:28, 124262.88it/s]\n"
     ]
    },
    {
     "name": "stdout",
     "output_type": "stream",
     "text": [
      "train 18: loss=0.129304, elapsed=208.297s, precision=0.768551, recall=0.543683, F1=0.63685\n"
     ]
    },
    {
     "name": "stderr",
     "output_type": "stream",
     "text": [
      "\r",
      "0it [00:00, ?it/s]"
     ]
    },
    {
     "name": "stdout",
     "output_type": "stream",
     "text": [
      "dev 18: loss=0.179084, elapsed=2.29795s, precision=0.613844, recall=0.507675, F1=0.555734\n"
     ]
    },
    {
     "name": "stderr",
     "output_type": "stream",
     "text": [
      "23718333it [03:28, 113682.68it/s]\n"
     ]
    },
    {
     "name": "stdout",
     "output_type": "stream",
     "text": [
      "train 19: loss=0.128386, elapsed=208.639s, precision=0.770213, recall=0.548354, F1=0.640619\n"
     ]
    },
    {
     "name": "stderr",
     "output_type": "stream",
     "text": [
      "\r",
      "0it [00:00, ?it/s]"
     ]
    },
    {
     "name": "stdout",
     "output_type": "stream",
     "text": [
      "dev 19: loss=0.175883, elapsed=2.30901s, precision=0.623463, recall=0.498149, F1=0.553805\n"
     ]
    },
    {
     "name": "stderr",
     "output_type": "stream",
     "text": [
      "23718333it [03:28, 122722.50it/s]\n"
     ]
    },
    {
     "name": "stdout",
     "output_type": "stream",
     "text": [
      "train 20: loss=0.127557, elapsed=208.576s, precision=0.772103, recall=0.55265, F1=0.6442\n"
     ]
    },
    {
     "name": "stderr",
     "output_type": "stream",
     "text": [
      "\r",
      "0it [00:00, ?it/s]"
     ]
    },
    {
     "name": "stdout",
     "output_type": "stream",
     "text": [
      "dev 20: loss=0.178124, elapsed=2.30607s, precision=0.630287, recall=0.487527, F1=0.549791\n"
     ]
    },
    {
     "name": "stderr",
     "output_type": "stream",
     "text": [
      "23718333it [03:28, 113791.44it/s]\n"
     ]
    },
    {
     "name": "stdout",
     "output_type": "stream",
     "text": [
      "train 21: loss=0.126736, elapsed=208.44s, precision=0.773591, recall=0.556791, F1=0.647526\n"
     ]
    },
    {
     "name": "stderr",
     "output_type": "stream",
     "text": [
      "\r",
      "0it [00:00, ?it/s]"
     ]
    },
    {
     "name": "stdout",
     "output_type": "stream",
     "text": [
      "dev 21: loss=0.175091, elapsed=2.31081s, precision=0.63746, recall=0.483146, F1=0.549678\n"
     ]
    },
    {
     "name": "stderr",
     "output_type": "stream",
     "text": [
      "23718333it [03:28, 123340.98it/s]\n"
     ]
    },
    {
     "name": "stdout",
     "output_type": "stream",
     "text": [
      "train 22: loss=0.125854, elapsed=208.446s, precision=0.775703, recall=0.561503, F1=0.651447\n"
     ]
    },
    {
     "name": "stderr",
     "output_type": "stream",
     "text": [
      "\r",
      "0it [00:00, ?it/s]"
     ]
    },
    {
     "name": "stdout",
     "output_type": "stream",
     "text": [
      "dev 22: loss=0.17925, elapsed=2.26526s, precision=0.631879, recall=0.49123, F1=0.552747\n"
     ]
    },
    {
     "name": "stderr",
     "output_type": "stream",
     "text": [
      "23718333it [03:28, 124064.32it/s]\n"
     ]
    },
    {
     "name": "stdout",
     "output_type": "stream",
     "text": [
      "train 23: loss=0.125196, elapsed=208.397s, precision=0.776697, recall=0.564884, F1=0.654069\n"
     ]
    },
    {
     "name": "stderr",
     "output_type": "stream",
     "text": [
      "\r",
      "0it [00:00, ?it/s]"
     ]
    },
    {
     "name": "stdout",
     "output_type": "stream",
     "text": [
      "dev 23: loss=0.180702, elapsed=2.34658s, precision=0.606261, recall=0.518488, F1=0.55895\n"
     ]
    },
    {
     "name": "stderr",
     "output_type": "stream",
     "text": [
      "23718333it [03:28, 123540.78it/s]\n"
     ]
    },
    {
     "name": "stdout",
     "output_type": "stream",
     "text": [
      "train 24: loss=0.124535, elapsed=208.37s, precision=0.777738, recall=0.56731, F1=0.656064\n"
     ]
    },
    {
     "name": "stderr",
     "output_type": "stream",
     "text": [
      "\r",
      "0it [00:00, ?it/s]"
     ]
    },
    {
     "name": "stdout",
     "output_type": "stream",
     "text": [
      "dev 24: loss=0.181901, elapsed=2.31333s, precision=0.60392, recall=0.5212, F1=0.559519\n"
     ]
    },
    {
     "name": "stderr",
     "output_type": "stream",
     "text": [
      "23718333it [03:28, 123937.55it/s]\n"
     ]
    },
    {
     "name": "stdout",
     "output_type": "stream",
     "text": [
      "train 25: loss=0.123805, elapsed=208.707s, precision=0.779503, recall=0.570755, F1=0.658993\n"
     ]
    },
    {
     "name": "stderr",
     "output_type": "stream",
     "text": [
      "\r",
      "0it [00:00, ?it/s]"
     ]
    },
    {
     "name": "stdout",
     "output_type": "stream",
     "text": [
      "dev 25: loss=0.182244, elapsed=2.3008s, precision=0.613943, recall=0.50352, F1=0.553276\n"
     ]
    },
    {
     "name": "stderr",
     "output_type": "stream",
     "text": [
      "23718333it [03:28, 124109.71it/s]\n"
     ]
    },
    {
     "name": "stdout",
     "output_type": "stream",
     "text": [
      "train 26: loss=0.123176, elapsed=208.453s, precision=0.780947, recall=0.574601, F1=0.662069\n"
     ]
    },
    {
     "name": "stderr",
     "output_type": "stream",
     "text": [
      "\r",
      "0it [00:00, ?it/s]"
     ]
    },
    {
     "name": "stdout",
     "output_type": "stream",
     "text": [
      "dev 26: loss=0.184369, elapsed=2.32449s, precision=0.592683, recall=0.522435, F1=0.555346\n"
     ]
    },
    {
     "name": "stderr",
     "output_type": "stream",
     "text": [
      "23718333it [03:28, 122267.02it/s]\n"
     ]
    },
    {
     "name": "stdout",
     "output_type": "stream",
     "text": [
      "train 27: loss=0.122615, elapsed=208.499s, precision=0.781473, recall=0.577107, F1=0.663919\n"
     ]
    },
    {
     "name": "stderr",
     "output_type": "stream",
     "text": [
      "\r",
      "0it [00:00, ?it/s]"
     ]
    },
    {
     "name": "stdout",
     "output_type": "stream",
     "text": [
      "dev 27: loss=0.186102, elapsed=2.29294s, precision=0.618672, recall=0.494341, F1=0.549562\n"
     ]
    },
    {
     "name": "stderr",
     "output_type": "stream",
     "text": [
      "23718333it [03:28, 124148.42it/s]\n"
     ]
    },
    {
     "name": "stdout",
     "output_type": "stream",
     "text": [
      "train 28: loss=0.12204, elapsed=208.35s, precision=0.782731, recall=0.579598, F1=0.66602\n"
     ]
    },
    {
     "name": "stderr",
     "output_type": "stream",
     "text": [
      "\r",
      "0it [00:00, ?it/s]"
     ]
    },
    {
     "name": "stdout",
     "output_type": "stream",
     "text": [
      "dev 28: loss=0.186386, elapsed=2.30033s, precision=0.610127, recall=0.507762, F1=0.554258\n"
     ]
    },
    {
     "name": "stderr",
     "output_type": "stream",
     "text": [
      "23718333it [03:28, 113780.46it/s]\n"
     ]
    },
    {
     "name": "stdout",
     "output_type": "stream",
     "text": [
      "train 29: loss=0.121423, elapsed=208.46s, precision=0.784155, recall=0.582536, F1=0.668474\n"
     ]
    },
    {
     "name": "stderr",
     "output_type": "stream",
     "text": [
      "\r",
      "0it [00:00, ?it/s]"
     ]
    },
    {
     "name": "stdout",
     "output_type": "stream",
     "text": [
      "dev 29: loss=0.188612, elapsed=2.32519s, precision=0.613598, recall=0.502512, F1=0.552527\n"
     ]
    },
    {
     "name": "stderr",
     "output_type": "stream",
     "text": [
      "23718333it [03:28, 121628.36it/s]\n"
     ]
    },
    {
     "name": "stdout",
     "output_type": "stream",
     "text": [
      "train 30: loss=0.120967, elapsed=208.4s, precision=0.785361, recall=0.584762, F1=0.670376\n"
     ]
    },
    {
     "name": "stderr",
     "output_type": "stream",
     "text": [
      "\r",
      "0it [00:00, ?it/s]"
     ]
    },
    {
     "name": "stdout",
     "output_type": "stream",
     "text": [
      "dev 30: loss=0.188263, elapsed=2.30714s, precision=0.603005, recall=0.511343, F1=0.553404\n"
     ]
    },
    {
     "name": "stderr",
     "output_type": "stream",
     "text": [
      "23718333it [03:28, 124191.66it/s]\n"
     ]
    },
    {
     "name": "stdout",
     "output_type": "stream",
     "text": [
      "train 31: loss=0.120458, elapsed=208.306s, precision=0.786675, recall=0.58669, F1=0.672122\n"
     ]
    },
    {
     "name": "stderr",
     "output_type": "stream",
     "text": [
      "\r",
      "0it [00:00, ?it/s]"
     ]
    },
    {
     "name": "stdout",
     "output_type": "stream",
     "text": [
      "dev 31: loss=0.190228, elapsed=2.2915s, precision=0.595597, recall=0.527737, F1=0.559617\n"
     ]
    },
    {
     "name": "stderr",
     "output_type": "stream",
     "text": [
      "23718333it [03:28, 124381.87it/s]\n"
     ]
    },
    {
     "name": "stdout",
     "output_type": "stream",
     "text": [
      "train 32: loss=0.119818, elapsed=208.479s, precision=0.787247, recall=0.589743, F1=0.674331\n"
     ]
    },
    {
     "name": "stderr",
     "output_type": "stream",
     "text": [
      "\r",
      "0it [00:00, ?it/s]"
     ]
    },
    {
     "name": "stdout",
     "output_type": "stream",
     "text": [
      "dev 32: loss=0.192314, elapsed=2.29593s, precision=0.589593, recall=0.530657, F1=0.558575\n"
     ]
    },
    {
     "name": "stderr",
     "output_type": "stream",
     "text": [
      "23718333it [03:28, 124337.89it/s]\n"
     ]
    },
    {
     "name": "stdout",
     "output_type": "stream",
     "text": [
      "train 33: loss=0.119429, elapsed=208.413s, precision=0.788038, recall=0.591639, F1=0.675859\n"
     ]
    },
    {
     "name": "stderr",
     "output_type": "stream",
     "text": [
      "\r",
      "0it [00:00, ?it/s]"
     ]
    },
    {
     "name": "stdout",
     "output_type": "stream",
     "text": [
      "dev 33: loss=0.190663, elapsed=2.30339s, precision=0.606122, recall=0.510509, F1=0.554222\n"
     ]
    },
    {
     "name": "stderr",
     "output_type": "stream",
     "text": [
      "23718333it [03:28, 123624.60it/s]\n"
     ]
    },
    {
     "name": "stdout",
     "output_type": "stream",
     "text": [
      "train 34: loss=0.119027, elapsed=208.49s, precision=0.788664, recall=0.593513, F1=0.677312\n"
     ]
    },
    {
     "name": "stderr",
     "output_type": "stream",
     "text": [
      "\r",
      "0it [00:00, ?it/s]"
     ]
    },
    {
     "name": "stdout",
     "output_type": "stream",
     "text": [
      "dev 34: loss=0.187146, elapsed=2.31344s, precision=0.644763, recall=0.472159, F1=0.545124\n"
     ]
    },
    {
     "name": "stderr",
     "output_type": "stream",
     "text": [
      "23718333it [03:28, 124977.24it/s]\n"
     ]
    },
    {
     "name": "stdout",
     "output_type": "stream",
     "text": [
      "train 35: loss=0.118513, elapsed=208.432s, precision=0.790307, recall=0.595496, F1=0.679208\n"
     ]
    },
    {
     "name": "stderr",
     "output_type": "stream",
     "text": [
      "\r",
      "0it [00:00, ?it/s]"
     ]
    },
    {
     "name": "stdout",
     "output_type": "stream",
     "text": [
      "dev 35: loss=0.190395, elapsed=2.32561s, precision=0.608275, recall=0.509361, F1=0.554441\n"
     ]
    },
    {
     "name": "stderr",
     "output_type": "stream",
     "text": [
      "23718333it [03:28, 113745.23it/s]\n"
     ]
    },
    {
     "name": "stdout",
     "output_type": "stream",
     "text": [
      "train 36: loss=0.118056, elapsed=208.525s, precision=0.790788, recall=0.598142, F1=0.681105\n"
     ]
    },
    {
     "name": "stderr",
     "output_type": "stream",
     "text": [
      "\r",
      "0it [00:00, ?it/s]"
     ]
    },
    {
     "name": "stdout",
     "output_type": "stream",
     "text": [
      "dev 36: loss=0.191317, elapsed=2.33472s, precision=0.600433, recall=0.516437, F1=0.555276\n"
     ]
    },
    {
     "name": "stderr",
     "output_type": "stream",
     "text": [
      "23718333it [03:28, 123930.81it/s]\n"
     ]
    },
    {
     "name": "stdout",
     "output_type": "stream",
     "text": [
      "train 37: loss=0.117747, elapsed=208.395s, precision=0.791503, recall=0.599202, F1=0.682057\n"
     ]
    },
    {
     "name": "stderr",
     "output_type": "stream",
     "text": [
      "\r",
      "0it [00:00, ?it/s]"
     ]
    },
    {
     "name": "stdout",
     "output_type": "stream",
     "text": [
      "dev 37: loss=0.194088, elapsed=2.31826s, precision=0.599138, recall=0.517271, F1=0.555203\n"
     ]
    },
    {
     "name": "stderr",
     "output_type": "stream",
     "text": [
      "23718333it [03:28, 124035.66it/s]\n"
     ]
    },
    {
     "name": "stdout",
     "output_type": "stream",
     "text": [
      "train 38: loss=0.117262, elapsed=208.47s, precision=0.792214, recall=0.601119, F1=0.683562\n"
     ]
    },
    {
     "name": "stderr",
     "output_type": "stream",
     "text": [
      "\r",
      "0it [00:00, ?it/s]"
     ]
    },
    {
     "name": "stdout",
     "output_type": "stream",
     "text": [
      "dev 38: loss=0.194459, elapsed=2.28394s, precision=0.598132, recall=0.521009, F1=0.556913\n"
     ]
    },
    {
     "name": "stderr",
     "output_type": "stream",
     "text": [
      "23718333it [03:28, 123803.24it/s]\n"
     ]
    },
    {
     "name": "stdout",
     "output_type": "stream",
     "text": [
      "train 39: loss=0.116907, elapsed=208.609s, precision=0.793152, recall=0.60299, F1=0.68512\n"
     ]
    },
    {
     "name": "stderr",
     "output_type": "stream",
     "text": [
      "\r",
      "0it [00:00, ?it/s]"
     ]
    },
    {
     "name": "stdout",
     "output_type": "stream",
     "text": [
      "dev 39: loss=0.194083, elapsed=2.31261s, precision=0.606787, recall=0.505415, F1=0.551481\n"
     ]
    },
    {
     "name": "stderr",
     "output_type": "stream",
     "text": [
      "23718333it [03:28, 113797.59it/s]\n"
     ]
    },
    {
     "name": "stdout",
     "output_type": "stream",
     "text": [
      "train 40: loss=0.116511, elapsed=208.428s, precision=0.794394, recall=0.603678, F1=0.686028\n"
     ]
    },
    {
     "name": "stderr",
     "output_type": "stream",
     "text": [
      "\r",
      "0it [00:00, ?it/s]"
     ]
    },
    {
     "name": "stdout",
     "output_type": "stream",
     "text": [
      "dev 40: loss=0.191537, elapsed=2.30779s, precision=0.607438, recall=0.505398, F1=0.55174\n"
     ]
    },
    {
     "name": "stderr",
     "output_type": "stream",
     "text": [
      "23718333it [03:28, 123815.76it/s]\n"
     ]
    },
    {
     "name": "stdout",
     "output_type": "stream",
     "text": [
      "train 41: loss=0.116245, elapsed=208.306s, precision=0.794086, recall=0.605618, F1=0.687164\n"
     ]
    },
    {
     "name": "stderr",
     "output_type": "stream",
     "text": [
      "\r",
      "0it [00:00, ?it/s]"
     ]
    },
    {
     "name": "stdout",
     "output_type": "stream",
     "text": [
      "dev 41: loss=0.193813, elapsed=2.2922s, precision=0.611712, recall=0.506093, F1=0.553913\n"
     ]
    },
    {
     "name": "stderr",
     "output_type": "stream",
     "text": [
      "23718333it [03:28, 113771.73it/s]\n"
     ]
    },
    {
     "name": "stdout",
     "output_type": "stream",
     "text": [
      "train 42: loss=0.115911, elapsed=208.476s, precision=0.794912, recall=0.606952, F1=0.688331\n"
     ]
    },
    {
     "name": "stderr",
     "output_type": "stream",
     "text": [
      "\r",
      "0it [00:00, ?it/s]"
     ]
    },
    {
     "name": "stdout",
     "output_type": "stream",
     "text": [
      "dev 42: loss=0.193274, elapsed=2.33583s, precision=0.602131, recall=0.507032, F1=0.550504\n"
     ]
    },
    {
     "name": "stderr",
     "output_type": "stream",
     "text": [
      "23718333it [03:28, 124396.29it/s]\n"
     ]
    },
    {
     "name": "stdout",
     "output_type": "stream",
     "text": [
      "train 43: loss=0.115376, elapsed=208.754s, precision=0.79633, recall=0.609573, F1=0.690548\n"
     ]
    },
    {
     "name": "stderr",
     "output_type": "stream",
     "text": [
      "\r",
      "0it [00:00, ?it/s]"
     ]
    },
    {
     "name": "stdout",
     "output_type": "stream",
     "text": [
      "dev 43: loss=0.19597, elapsed=2.2911s, precision=0.584801, recall=0.530553, F1=0.556358\n"
     ]
    },
    {
     "name": "stderr",
     "output_type": "stream",
     "text": [
      "23718333it [03:28, 113874.48it/s]\n"
     ]
    },
    {
     "name": "stdout",
     "output_type": "stream",
     "text": [
      "train 44: loss=0.115067, elapsed=208.292s, precision=0.796838, recall=0.610084, F1=0.691066\n"
     ]
    },
    {
     "name": "stderr",
     "output_type": "stream",
     "text": [
      "\r",
      "0it [00:00, ?it/s]"
     ]
    },
    {
     "name": "stdout",
     "output_type": "stream",
     "text": [
      "dev 44: loss=0.196495, elapsed=2.3452s, precision=0.586112, recall=0.527493, F1=0.55526\n"
     ]
    },
    {
     "name": "stderr",
     "output_type": "stream",
     "text": [
      "23718333it [03:28, 113771.20it/s]\n"
     ]
    },
    {
     "name": "stdout",
     "output_type": "stream",
     "text": [
      "train 45: loss=0.114838, elapsed=208.477s, precision=0.796869, recall=0.611703, F1=0.692116\n"
     ]
    },
    {
     "name": "stderr",
     "output_type": "stream",
     "text": [
      "\r",
      "0it [00:00, ?it/s]"
     ]
    },
    {
     "name": "stdout",
     "output_type": "stream",
     "text": [
      "dev 45: loss=0.19873, elapsed=2.34368s, precision=0.581265, recall=0.535368, F1=0.557373\n"
     ]
    },
    {
     "name": "stderr",
     "output_type": "stream",
     "text": [
      "23718333it [03:28, 113833.29it/s]\n"
     ]
    },
    {
     "name": "stdout",
     "output_type": "stream",
     "text": [
      "train 46: loss=0.114385, elapsed=208.363s, precision=0.798715, recall=0.613061, F1=0.693681\n"
     ]
    },
    {
     "name": "stderr",
     "output_type": "stream",
     "text": [
      "\r",
      "0it [00:00, ?it/s]"
     ]
    },
    {
     "name": "stdout",
     "output_type": "stream",
     "text": [
      "dev 46: loss=0.199481, elapsed=2.2813s, precision=0.578313, recall=0.536359, F1=0.556547\n"
     ]
    },
    {
     "name": "stderr",
     "output_type": "stream",
     "text": [
      "23718333it [03:28, 113724.89it/s]\n"
     ]
    },
    {
     "name": "stdout",
     "output_type": "stream",
     "text": [
      "train 47: loss=0.114093, elapsed=208.562s, precision=0.798847, recall=0.614631, F1=0.694735\n"
     ]
    },
    {
     "name": "stderr",
     "output_type": "stream",
     "text": [
      "\r",
      "0it [00:00, ?it/s]"
     ]
    },
    {
     "name": "stdout",
     "output_type": "stream",
     "text": [
      "dev 47: loss=0.19728, elapsed=2.32746s, precision=0.579427, recall=0.537907, F1=0.557895\n"
     ]
    },
    {
     "name": "stderr",
     "output_type": "stream",
     "text": [
      "23718333it [03:28, 113645.73it/s]\n"
     ]
    },
    {
     "name": "stdout",
     "output_type": "stream",
     "text": [
      "train 48: loss=0.113708, elapsed=208.707s, precision=0.799248, recall=0.616402, F1=0.696017\n"
     ]
    },
    {
     "name": "stderr",
     "output_type": "stream",
     "text": [
      "\r",
      "0it [00:00, ?it/s]"
     ]
    },
    {
     "name": "stdout",
     "output_type": "stream",
     "text": [
      "dev 48: loss=0.198743, elapsed=2.29831s, precision=0.579103, recall=0.532239, F1=0.554683\n"
     ]
    },
    {
     "name": "stderr",
     "output_type": "stream",
     "text": [
      "23718333it [03:28, 123872.99it/s]\n"
     ]
    },
    {
     "name": "stdout",
     "output_type": "stream",
     "text": [
      "train 49: loss=0.113494, elapsed=208.489s, precision=0.800505, recall=0.616851, F1=0.696779\n"
     ]
    },
    {
     "name": "stderr",
     "output_type": "stream",
     "text": [
      "\r",
      "0it [00:00, ?it/s]"
     ]
    },
    {
     "name": "stdout",
     "output_type": "stream",
     "text": [
      "dev 49: loss=0.200338, elapsed=2.31094s, precision=0.598007, recall=0.516472, F1=0.554257\n"
     ]
    },
    {
     "name": "stderr",
     "output_type": "stream",
     "text": [
      "23014221it [03:27, 102272.68it/s]"
     ]
    },
    {
     "ename": "KeyboardInterrupt",
     "evalue": "",
     "output_type": "error",
     "traceback": [
      "\u001b[0;31m---------------------------------------------------------------------------\u001b[0m",
      "\u001b[0;31mKeyboardInterrupt\u001b[0m                         Traceback (most recent call last)",
      "\u001b[0;32m<ipython-input-10-640fb123e91e>\u001b[0m in \u001b[0;36m<module>\u001b[0;34m()\u001b[0m\n\u001b[1;32m      8\u001b[0m                               \u001b[0mheader\u001b[0m\u001b[0;34m=\u001b[0m\u001b[0;34m'train %d'\u001b[0m \u001b[0;34m%\u001b[0m \u001b[0mepoch\u001b[0m\u001b[0;34m,\u001b[0m\u001b[0;34m\u001b[0m\u001b[0m\n\u001b[1;32m      9\u001b[0m                               \u001b[0mtrain\u001b[0m\u001b[0;34m=\u001b[0m\u001b[0;32mTrue\u001b[0m\u001b[0;34m,\u001b[0m\u001b[0;34m\u001b[0m\u001b[0m\n\u001b[0;32m---> 10\u001b[0;31m                               show_progress=True)\n\u001b[0m\u001b[1;32m     11\u001b[0m     result = evaluate_dataset('../data/simplewiki/simplewiki-20171103.entity_recognition.dev.tfrecords',\n\u001b[1;32m     12\u001b[0m                               \u001b[0mheader\u001b[0m\u001b[0;34m=\u001b[0m\u001b[0;34m'dev %d'\u001b[0m \u001b[0;34m%\u001b[0m \u001b[0mepoch\u001b[0m\u001b[0;34m,\u001b[0m\u001b[0;34m\u001b[0m\u001b[0m\n",
      "\u001b[0;32m<ipython-input-9-0cc443b9ac7b>\u001b[0m in \u001b[0;36mevaluate_dataset\u001b[0;34m(filename, header, train, show_progress)\u001b[0m\n\u001b[1;32m     29\u001b[0m                                                \u001b[0mfalse_positives\u001b[0m\u001b[0;34m,\u001b[0m\u001b[0;34m\u001b[0m\u001b[0m\n\u001b[1;32m     30\u001b[0m                                                false_negatives),\n\u001b[0;32m---> 31\u001b[0;31m                                               feed_dict = { is_training: train })\n\u001b[0m\u001b[1;32m     32\u001b[0m         \u001b[0;32mexcept\u001b[0m \u001b[0mtf\u001b[0m\u001b[0;34m.\u001b[0m\u001b[0merrors\u001b[0m\u001b[0;34m.\u001b[0m\u001b[0mOutOfRangeError\u001b[0m\u001b[0;34m:\u001b[0m\u001b[0;34m\u001b[0m\u001b[0m\n\u001b[1;32m     33\u001b[0m             \u001b[0;32mbreak\u001b[0m\u001b[0;34m\u001b[0m\u001b[0m\n",
      "\u001b[0;32m~/anaconda3/lib/python3.5/site-packages/tensorflow/python/client/session.py\u001b[0m in \u001b[0;36mrun\u001b[0;34m(self, fetches, feed_dict, options, run_metadata)\u001b[0m\n\u001b[1;32m    887\u001b[0m     \u001b[0;32mtry\u001b[0m\u001b[0;34m:\u001b[0m\u001b[0;34m\u001b[0m\u001b[0m\n\u001b[1;32m    888\u001b[0m       result = self._run(None, fetches, feed_dict, options_ptr,\n\u001b[0;32m--> 889\u001b[0;31m                          run_metadata_ptr)\n\u001b[0m\u001b[1;32m    890\u001b[0m       \u001b[0;32mif\u001b[0m \u001b[0mrun_metadata\u001b[0m\u001b[0;34m:\u001b[0m\u001b[0;34m\u001b[0m\u001b[0m\n\u001b[1;32m    891\u001b[0m         \u001b[0mproto_data\u001b[0m \u001b[0;34m=\u001b[0m \u001b[0mtf_session\u001b[0m\u001b[0;34m.\u001b[0m\u001b[0mTF_GetBuffer\u001b[0m\u001b[0;34m(\u001b[0m\u001b[0mrun_metadata_ptr\u001b[0m\u001b[0;34m)\u001b[0m\u001b[0;34m\u001b[0m\u001b[0m\n",
      "\u001b[0;32m~/anaconda3/lib/python3.5/site-packages/tensorflow/python/client/session.py\u001b[0m in \u001b[0;36m_run\u001b[0;34m(self, handle, fetches, feed_dict, options, run_metadata)\u001b[0m\n\u001b[1;32m   1118\u001b[0m     \u001b[0;32mif\u001b[0m \u001b[0mfinal_fetches\u001b[0m \u001b[0;32mor\u001b[0m \u001b[0mfinal_targets\u001b[0m \u001b[0;32mor\u001b[0m \u001b[0;34m(\u001b[0m\u001b[0mhandle\u001b[0m \u001b[0;32mand\u001b[0m \u001b[0mfeed_dict_tensor\u001b[0m\u001b[0;34m)\u001b[0m\u001b[0;34m:\u001b[0m\u001b[0;34m\u001b[0m\u001b[0m\n\u001b[1;32m   1119\u001b[0m       results = self._do_run(handle, final_targets, final_fetches,\n\u001b[0;32m-> 1120\u001b[0;31m                              feed_dict_tensor, options, run_metadata)\n\u001b[0m\u001b[1;32m   1121\u001b[0m     \u001b[0;32melse\u001b[0m\u001b[0;34m:\u001b[0m\u001b[0;34m\u001b[0m\u001b[0m\n\u001b[1;32m   1122\u001b[0m       \u001b[0mresults\u001b[0m \u001b[0;34m=\u001b[0m \u001b[0;34m[\u001b[0m\u001b[0;34m]\u001b[0m\u001b[0;34m\u001b[0m\u001b[0m\n",
      "\u001b[0;32m~/anaconda3/lib/python3.5/site-packages/tensorflow/python/client/session.py\u001b[0m in \u001b[0;36m_do_run\u001b[0;34m(self, handle, target_list, fetch_list, feed_dict, options, run_metadata)\u001b[0m\n\u001b[1;32m   1315\u001b[0m     \u001b[0;32mif\u001b[0m \u001b[0mhandle\u001b[0m \u001b[0;32mis\u001b[0m \u001b[0;32mNone\u001b[0m\u001b[0;34m:\u001b[0m\u001b[0;34m\u001b[0m\u001b[0m\n\u001b[1;32m   1316\u001b[0m       return self._do_call(_run_fn, self._session, feeds, fetches, targets,\n\u001b[0;32m-> 1317\u001b[0;31m                            options, run_metadata)\n\u001b[0m\u001b[1;32m   1318\u001b[0m     \u001b[0;32melse\u001b[0m\u001b[0;34m:\u001b[0m\u001b[0;34m\u001b[0m\u001b[0m\n\u001b[1;32m   1319\u001b[0m       \u001b[0;32mreturn\u001b[0m \u001b[0mself\u001b[0m\u001b[0;34m.\u001b[0m\u001b[0m_do_call\u001b[0m\u001b[0;34m(\u001b[0m\u001b[0m_prun_fn\u001b[0m\u001b[0;34m,\u001b[0m \u001b[0mself\u001b[0m\u001b[0;34m.\u001b[0m\u001b[0m_session\u001b[0m\u001b[0;34m,\u001b[0m \u001b[0mhandle\u001b[0m\u001b[0;34m,\u001b[0m \u001b[0mfeeds\u001b[0m\u001b[0;34m,\u001b[0m \u001b[0mfetches\u001b[0m\u001b[0;34m)\u001b[0m\u001b[0;34m\u001b[0m\u001b[0m\n",
      "\u001b[0;32m~/anaconda3/lib/python3.5/site-packages/tensorflow/python/client/session.py\u001b[0m in \u001b[0;36m_do_call\u001b[0;34m(self, fn, *args)\u001b[0m\n\u001b[1;32m   1321\u001b[0m   \u001b[0;32mdef\u001b[0m \u001b[0m_do_call\u001b[0m\u001b[0;34m(\u001b[0m\u001b[0mself\u001b[0m\u001b[0;34m,\u001b[0m \u001b[0mfn\u001b[0m\u001b[0;34m,\u001b[0m \u001b[0;34m*\u001b[0m\u001b[0margs\u001b[0m\u001b[0;34m)\u001b[0m\u001b[0;34m:\u001b[0m\u001b[0;34m\u001b[0m\u001b[0m\n\u001b[1;32m   1322\u001b[0m     \u001b[0;32mtry\u001b[0m\u001b[0;34m:\u001b[0m\u001b[0;34m\u001b[0m\u001b[0m\n\u001b[0;32m-> 1323\u001b[0;31m       \u001b[0;32mreturn\u001b[0m \u001b[0mfn\u001b[0m\u001b[0;34m(\u001b[0m\u001b[0;34m*\u001b[0m\u001b[0margs\u001b[0m\u001b[0;34m)\u001b[0m\u001b[0;34m\u001b[0m\u001b[0m\n\u001b[0m\u001b[1;32m   1324\u001b[0m     \u001b[0;32mexcept\u001b[0m \u001b[0merrors\u001b[0m\u001b[0;34m.\u001b[0m\u001b[0mOpError\u001b[0m \u001b[0;32mas\u001b[0m \u001b[0me\u001b[0m\u001b[0;34m:\u001b[0m\u001b[0;34m\u001b[0m\u001b[0m\n\u001b[1;32m   1325\u001b[0m       \u001b[0mmessage\u001b[0m \u001b[0;34m=\u001b[0m \u001b[0mcompat\u001b[0m\u001b[0;34m.\u001b[0m\u001b[0mas_text\u001b[0m\u001b[0;34m(\u001b[0m\u001b[0me\u001b[0m\u001b[0;34m.\u001b[0m\u001b[0mmessage\u001b[0m\u001b[0;34m)\u001b[0m\u001b[0;34m\u001b[0m\u001b[0m\n",
      "\u001b[0;32m~/anaconda3/lib/python3.5/site-packages/tensorflow/python/client/session.py\u001b[0m in \u001b[0;36m_run_fn\u001b[0;34m(session, feed_dict, fetch_list, target_list, options, run_metadata)\u001b[0m\n\u001b[1;32m   1300\u001b[0m           return tf_session.TF_Run(session, options,\n\u001b[1;32m   1301\u001b[0m                                    \u001b[0mfeed_dict\u001b[0m\u001b[0;34m,\u001b[0m \u001b[0mfetch_list\u001b[0m\u001b[0;34m,\u001b[0m \u001b[0mtarget_list\u001b[0m\u001b[0;34m,\u001b[0m\u001b[0;34m\u001b[0m\u001b[0m\n\u001b[0;32m-> 1302\u001b[0;31m                                    status, run_metadata)\n\u001b[0m\u001b[1;32m   1303\u001b[0m \u001b[0;34m\u001b[0m\u001b[0m\n\u001b[1;32m   1304\u001b[0m     \u001b[0;32mdef\u001b[0m \u001b[0m_prun_fn\u001b[0m\u001b[0;34m(\u001b[0m\u001b[0msession\u001b[0m\u001b[0;34m,\u001b[0m \u001b[0mhandle\u001b[0m\u001b[0;34m,\u001b[0m \u001b[0mfeed_dict\u001b[0m\u001b[0;34m,\u001b[0m \u001b[0mfetch_list\u001b[0m\u001b[0;34m)\u001b[0m\u001b[0;34m:\u001b[0m\u001b[0;34m\u001b[0m\u001b[0m\n",
      "\u001b[0;31mKeyboardInterrupt\u001b[0m: "
     ]
    },
    {
     "name": "stderr",
     "output_type": "stream",
     "text": [
      "\r",
      "23019781it [03:40, 102272.68it/s]"
     ]
    }
   ],
   "source": [
    "# builder = tf.saved_model.builder.SavedModelBuilder('../models/simplewiki/attention_1_layer')\n",
    "# builder.add_meta_graph_and_variables(sess, ['training'])\n",
    "\n",
    "num_epochs = 100\n",
    "\n",
    "for epoch in range(num_epochs):\n",
    "    result = evaluate_dataset('../data/simplewiki/simplewiki-20171103.entity_recognition.train.tfrecords',\n",
    "                              header='train %d' % epoch,\n",
    "                              train=True,\n",
    "                              show_progress=True)\n",
    "    result = evaluate_dataset('../data/simplewiki/simplewiki-20171103.entity_recognition.dev.tfrecords',\n",
    "                              header='dev %d' % epoch,\n",
    "                              train=False,\n",
    "                              show_progress=False)\n",
    "    #builder.save()"
   ]
  },
  {
   "cell_type": "code",
   "execution_count": null,
   "metadata": {},
   "outputs": [],
   "source": []
  }
 ],
 "metadata": {
  "kernelspec": {
   "display_name": "Python 3",
   "language": "python",
   "name": "python3"
  },
  "language_info": {
   "codemirror_mode": {
    "name": "ipython",
    "version": 3
   },
   "file_extension": ".py",
   "mimetype": "text/x-python",
   "name": "python",
   "nbconvert_exporter": "python",
   "pygments_lexer": "ipython3",
   "version": "3.5.4"
  }
 },
 "nbformat": 4,
 "nbformat_minor": 2
}
