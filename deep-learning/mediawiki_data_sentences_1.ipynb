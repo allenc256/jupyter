{
 "cells": [
  {
   "cell_type": "code",
   "execution_count": 1,
   "metadata": {},
   "outputs": [],
   "source": [
    "import json\n",
    "import gzip\n",
    "import nltk.data\n",
    "import re\n",
    "from tqdm import tqdm_notebook"
   ]
  },
  {
   "cell_type": "code",
   "execution_count": 2,
   "metadata": {},
   "outputs": [],
   "source": [
    "with gzip.open('../data/simplewiki/simplewiki-20171103.parsed.json.gz', 'rt', encoding='utf-8') as f:\n",
    "    wiki = json.load(f)"
   ]
  },
  {
   "cell_type": "code",
   "execution_count": 3,
   "metadata": {},
   "outputs": [],
   "source": [
    "sentence_tokenizer = nltk.data.load('tokenizers/punkt/english.pickle')"
   ]
  },
  {
   "cell_type": "code",
   "execution_count": 4,
   "metadata": {},
   "outputs": [],
   "source": [
    "def paragraph_tokenize(text):\n",
    "    return [para for para in text.split('\\n') if len(para.strip()) > 0]"
   ]
  },
  {
   "cell_type": "code",
   "execution_count": 10,
   "metadata": {},
   "outputs": [],
   "source": [
    "def parse_sentences(wiki):\n",
    "    result = []\n",
    "    \n",
    "    for title, page in tqdm_notebook(wiki.items()):\n",
    "        page_id = page['id']\n",
    "        page_text = page['text']\n",
    "        page_links = page['links']\n",
    "        \n",
    "        for para_id, para_text in enumerate(paragraph_tokenize(page_text)):\n",
    "            for sentence_id, sentence_text in enumerate(sentence_tokenizer.tokenize(para_text)):\n",
    "                src_offset = 0\n",
    "                dst_offset = 0\n",
    "                links = []\n",
    "                strs = []\n",
    "\n",
    "                for match in re.finditer(r'\\{\\{\\d+\\}\\}', sentence_text):\n",
    "                    token = sentence_text[match.start():match.end()]\n",
    "                    link = page_links[token]\n",
    "\n",
    "                    src_fragment = sentence_text[src_offset:match.start()]\n",
    "\n",
    "                    link_target = link['target']\n",
    "                    link_text = link['text']\n",
    "                    link_start = dst_offset + len(src_fragment)\n",
    "                    link_finish = link_start + len(link_text)\n",
    "\n",
    "                    strs.append(src_fragment)\n",
    "                    strs.append(link_text)\n",
    "\n",
    "                    links.append({\n",
    "                        'start': link_start,\n",
    "                        'finish': link_finish,\n",
    "                        'target': link_target\n",
    "                    })\n",
    "\n",
    "                    src_offset = match.end()\n",
    "                    dst_offset += len(src_fragment) + len(link_text)\n",
    "\n",
    "                strs.append(sentence_text[src_offset:])\n",
    "\n",
    "                result.append({\n",
    "                    'page_id': page_id,\n",
    "                    'para_id': para_id,\n",
    "                    'sentence_id': sentence_id,\n",
    "                    'text': ''.join(strs),\n",
    "                    'links': links\n",
    "                })\n",
    "                \n",
    "    return result"
   ]
  },
  {
   "cell_type": "code",
   "execution_count": 11,
   "metadata": {},
   "outputs": [
    {
     "data": {
      "application/vnd.jupyter.widget-view+json": {
       "model_id": "86443deb29f64e8ba6b933110cf15437",
       "version_major": 2,
       "version_minor": 0
      },
      "text/html": [
       "<p>Failed to display Jupyter Widget of type <code>HBox</code>.</p>\n",
       "<p>\n",
       "  If you're reading this message in the Jupyter Notebook or JupyterLab Notebook, it may mean\n",
       "  that the widgets JavaScript is still loading. If this message persists, it\n",
       "  likely means that the widgets JavaScript library is either not installed or\n",
       "  not enabled. See the <a href=\"https://ipywidgets.readthedocs.io/en/stable/user_install.html\">Jupyter\n",
       "  Widgets Documentation</a> for setup instructions.\n",
       "</p>\n",
       "<p>\n",
       "  If you're reading this message in another frontend (for example, a static\n",
       "  rendering on GitHub or <a href=\"https://nbviewer.jupyter.org/\">NBViewer</a>),\n",
       "  it may mean that your frontend doesn't currently support widgets.\n",
       "</p>\n"
      ],
      "text/plain": [
       "HBox(children=(IntProgress(value=0, max=125947), HTML(value='')))"
      ]
     },
     "metadata": {},
     "output_type": "display_data"
    },
    {
     "name": "stdout",
     "output_type": "stream",
     "text": [
      "\n"
     ]
    }
   ],
   "source": [
    "sentences = parse_sentences(wiki)"
   ]
  },
  {
   "cell_type": "code",
   "execution_count": 12,
   "metadata": {},
   "outputs": [],
   "source": [
    "with gzip.open('../data/simplewiki/simplewiki-20171103.sentences.json.gz', 'wt', encoding='utf-8') as f:\n",
    "    json.dump(sentences, f, indent = 1)"
   ]
  },
  {
   "cell_type": "code",
   "execution_count": null,
   "metadata": {
    "collapsed": true
   },
   "outputs": [],
   "source": []
  }
 ],
 "metadata": {
  "kernelspec": {
   "display_name": "Python 3",
   "language": "python",
   "name": "python3"
  },
  "language_info": {
   "codemirror_mode": {
    "name": "ipython",
    "version": 3
   },
   "file_extension": ".py",
   "mimetype": "text/x-python",
   "name": "python",
   "nbconvert_exporter": "python",
   "pygments_lexer": "ipython3",
   "version": "3.5.4"
  }
 },
 "nbformat": 4,
 "nbformat_minor": 2
}
