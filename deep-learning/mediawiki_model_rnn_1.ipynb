{
 "cells": [
  {
   "cell_type": "code",
   "execution_count": 1,
   "metadata": {},
   "outputs": [],
   "source": [
    "import tensorflow as tf\n",
    "import numpy as np\n",
    "import modules.mediawiki as mw\n",
    "from tqdm import tqdm"
   ]
  },
  {
   "cell_type": "code",
   "execution_count": 8,
   "metadata": {},
   "outputs": [],
   "source": [
    "class HyperParameters():\n",
    "    # adam learning rate\n",
    "    learning_rate = 1e-3\n",
    "    \n",
    "    # maximum number of symbols in an input sequence\n",
    "    max_sequence_length = 40\n",
    "\n",
    "    # number of symbols in vocabulary\n",
    "    # (symbols are expected to be in range(vocab_size))\n",
    "    vocab_size = 10000\n",
    "\n",
    "    # number of dimensions in input embeddings\n",
    "    embedding_size = 256\n",
    "    \n",
    "    # number of dimensions in hidden state\n",
    "    rnn_hidden_state_size = 256\n",
    "    \n",
    "    # feed-forward hidden state size\n",
    "    ff_hidden_state_size = 512\n",
    "    \n",
    "    # dropout rate\n",
    "    dropout_rate = 0.1\n",
    "    \n",
    "    # number of sequences per batch\n",
    "    pipeline_batch_size = 256\n",
    "    \n",
    "    # number of parsing threads in data pipeline\n",
    "    pipeline_num_parallel_calls = 4\n",
    "    \n",
    "    # size of prefetch in data pipeline\n",
    "    pipeline_prefetch_size = pipeline_batch_size * 16\n",
    "    \n",
    "    # shuffle buffer size\n",
    "    pipeline_shuffle_size = 10000\n",
    "\n",
    "hp = HyperParameters()"
   ]
  },
  {
   "cell_type": "code",
   "execution_count": 3,
   "metadata": {},
   "outputs": [],
   "source": [
    "sess = None"
   ]
  },
  {
   "cell_type": "code",
   "execution_count": 9,
   "metadata": {},
   "outputs": [],
   "source": [
    "class RnnModel(mw.BaseModel):\n",
    "    def __init__(self, hp):\n",
    "        super().__init__(hp)\n",
    "    \n",
    "    def _build_prediction_model_internal(self):\n",
    "        # Embeddings\n",
    "        # ----------\n",
    "        \n",
    "        input_sequence_embeddings = tf.get_variable('input_sequence_embeddings', \n",
    "                                                    (self._hp.vocab_size, self._hp.embedding_size))\n",
    "        input_sequences_embedded = tf.nn.embedding_lookup(input_sequence_embeddings, \n",
    "                                                          self._input_sequences,\n",
    "                                                          name = 'input_sequences_embedded')\n",
    "\n",
    "        input_position_embeddings = tf.get_variable('input_position_embeddings', \n",
    "                                                    (self._hp.max_sequence_length, self._hp.embedding_size))\n",
    "        input_positions_embedded = tf.nn.embedding_lookup(input_position_embeddings, self._input_positions)\n",
    "\n",
    "        input_word_ending_embeddings = tf.get_variable('input_word_ending_embeddings',\n",
    "                                                       (2, self._hp.embedding_size))\n",
    "        input_word_endings_embedded = tf.nn.embedding_lookup(input_word_ending_embeddings, \n",
    "                                                             self._input_word_endings,\n",
    "                                                             name = 'input_word_endings_embedded')\n",
    "\n",
    "        input_combined_embedded = tf.add_n([input_sequences_embedded, \n",
    "                                            input_positions_embedded, \n",
    "                                            input_word_endings_embedded])\n",
    "        input_combined_embedded = tf.layers.dropout(input_combined_embedded,\n",
    "                                                    rate = self._hp.dropout_rate,\n",
    "                                                    training = self._is_training)\n",
    "        \n",
    "        # RNNs\n",
    "        # ----\n",
    "        \n",
    "        dropout_keep_prob = tf.cond(self._is_training,\n",
    "                                    lambda: tf.constant(1.0),\n",
    "                                    lambda: tf.constant(1.0 - self._hp.dropout_rate))\n",
    "\n",
    "        fw_rnn_cell = tf.nn.rnn_cell.GRUCell(self._hp.rnn_hidden_state_size)\n",
    "        fw_rnn_cell = tf.nn.rnn_cell.DropoutWrapper(fw_rnn_cell,\n",
    "                                                    input_keep_prob = dropout_keep_prob,\n",
    "                                                    output_keep_prob = dropout_keep_prob)\n",
    "\n",
    "        bw_rnn_cell = tf.nn.rnn_cell.GRUCell(self._hp.rnn_hidden_state_size)\n",
    "        bw_rnn_cell = tf.nn.rnn_cell.DropoutWrapper(bw_rnn_cell,\n",
    "                                                    input_keep_prob = dropout_keep_prob,\n",
    "                                                    output_keep_prob = dropout_keep_prob)\n",
    "\n",
    "        rnn_outputs, _ = tf.nn.bidirectional_dynamic_rnn(fw_rnn_cell,\n",
    "                                                         bw_rnn_cell,\n",
    "                                                         input_combined_embedded,\n",
    "                                                         sequence_length = self._input_lengths,\n",
    "                                                         dtype = tf.float32)\n",
    "        rnn_outputs = tf.concat(rnn_outputs, 2)\n",
    "        \n",
    "        # Softmax\n",
    "        # -------\n",
    "        \n",
    "        # TODO: more layers here?\n",
    "        feed_forward = tf.layers.dense(rnn_outputs,\n",
    "                                       self._hp.ff_hidden_state_size,\n",
    "                                       activation = tf.nn.relu,\n",
    "                                       name = 'feed_forward')\n",
    "        feed_forward = tf.layers.dropout(feed_forward,\n",
    "                                         rate = self._hp.dropout_rate,\n",
    "                                         training = self._is_training)\n",
    "\n",
    "        output_logits = tf.layers.dense(feed_forward, 2, name = 'softmax')\n",
    "        \n",
    "        return output_logits"
   ]
  },
  {
   "cell_type": "code",
   "execution_count": 10,
   "metadata": {},
   "outputs": [
    {
     "name": "stdout",
     "output_type": "stream",
     "text": [
      "parameters for \"input_sequence_embeddings:0\": 2560000\n",
      "parameters for \"input_position_embeddings:0\": 10240\n",
      "parameters for \"input_word_ending_embeddings:0\": 512\n",
      "parameters for \"bidirectional_rnn/fw/gru_cell/gates/kernel:0\": 262144\n",
      "parameters for \"bidirectional_rnn/fw/gru_cell/gates/bias:0\": 512\n",
      "parameters for \"bidirectional_rnn/fw/gru_cell/candidate/kernel:0\": 131072\n",
      "parameters for \"bidirectional_rnn/fw/gru_cell/candidate/bias:0\": 256\n",
      "parameters for \"bidirectional_rnn/bw/gru_cell/gates/kernel:0\": 262144\n",
      "parameters for \"bidirectional_rnn/bw/gru_cell/gates/bias:0\": 512\n",
      "parameters for \"bidirectional_rnn/bw/gru_cell/candidate/kernel:0\": 131072\n",
      "parameters for \"bidirectional_rnn/bw/gru_cell/candidate/bias:0\": 256\n",
      "parameters for \"feed_forward/kernel:0\": 262144\n",
      "parameters for \"feed_forward/bias:0\": 512\n",
      "parameters for \"softmax/kernel:0\": 1024\n",
      "parameters for \"softmax/bias:0\": 2\n",
      "total parameters: 3622402\n"
     ]
    }
   ],
   "source": [
    "sess = mw.reset_tf(sess)\n",
    "model = RnnModel(hp)\n",
    "model.dump_statistics()"
   ]
  },
  {
   "cell_type": "code",
   "execution_count": 11,
   "metadata": {},
   "outputs": [],
   "source": [
    "sess.run(tf.global_variables_initializer())"
   ]
  },
  {
   "cell_type": "code",
   "execution_count": 13,
   "metadata": {},
   "outputs": [
    {
     "name": "stderr",
     "output_type": "stream",
     "text": [
      "23718333it [08:03, 49049.94it/s]\n"
     ]
    },
    {
     "name": "stdout",
     "output_type": "stream",
     "text": [
      "train 0: loss=0.165133, precision=0.705067, recall=0.341897, F1=0.460494\n"
     ]
    },
    {
     "name": "stderr",
     "output_type": "stream",
     "text": [
      "\r",
      "0it [00:00, ?it/s]"
     ]
    },
    {
     "name": "stdout",
     "output_type": "stream",
     "text": [
      "dev 0: loss=0.158745, precision=0.734976, recall=0.376528, F1=0.497954\n"
     ]
    },
    {
     "name": "stderr",
     "output_type": "stream",
     "text": [
      "132901it [00:02, 58260.65it/s]"
     ]
    },
    {
     "ename": "KeyboardInterrupt",
     "evalue": "",
     "output_type": "error",
     "traceback": [
      "\u001b[0;31m---------------------------------------------------------------------------\u001b[0m",
      "\u001b[0;31mKeyboardInterrupt\u001b[0m                         Traceback (most recent call last)",
      "\u001b[0;32m<ipython-input-13-519cbb300f2e>\u001b[0m in \u001b[0;36m<module>\u001b[0;34m()\u001b[0m\n\u001b[1;32m      6\u001b[0m                            \u001b[0mheader\u001b[0m\u001b[0;34m=\u001b[0m\u001b[0;34m'train %d'\u001b[0m \u001b[0;34m%\u001b[0m \u001b[0mepoch\u001b[0m\u001b[0;34m,\u001b[0m\u001b[0;34m\u001b[0m\u001b[0m\n\u001b[1;32m      7\u001b[0m                            \u001b[0mtrain\u001b[0m\u001b[0;34m=\u001b[0m\u001b[0;32mTrue\u001b[0m\u001b[0;34m,\u001b[0m\u001b[0;34m\u001b[0m\u001b[0m\n\u001b[0;32m----> 8\u001b[0;31m                            show_progress=True)\n\u001b[0m\u001b[1;32m      9\u001b[0m     model.evaluate_dataset(sess,\n\u001b[1;32m     10\u001b[0m                            \u001b[0;34m'../data/simplewiki/simplewiki-20171103.entity_recognition.dev.tfrecords'\u001b[0m\u001b[0;34m,\u001b[0m\u001b[0;34m\u001b[0m\u001b[0m\n",
      "\u001b[0;32m~/src/jupyter/deep-learning/modules/mediawiki.py\u001b[0m in \u001b[0;36mevaluate_dataset\u001b[0;34m(self, sess, dataset_filename, header, train, show_progress)\u001b[0m\n\u001b[1;32m    149\u001b[0m                                                    \u001b[0mself\u001b[0m\u001b[0;34m.\u001b[0m\u001b[0m_false_positives\u001b[0m\u001b[0;34m,\u001b[0m\u001b[0;34m\u001b[0m\u001b[0m\n\u001b[1;32m    150\u001b[0m                                                    self._false_negatives),\n\u001b[0;32m--> 151\u001b[0;31m                                                   feed_dict = { self._is_training: train })\n\u001b[0m\u001b[1;32m    152\u001b[0m             \u001b[0;32mexcept\u001b[0m \u001b[0mtf\u001b[0m\u001b[0;34m.\u001b[0m\u001b[0merrors\u001b[0m\u001b[0;34m.\u001b[0m\u001b[0mOutOfRangeError\u001b[0m\u001b[0;34m:\u001b[0m\u001b[0;34m\u001b[0m\u001b[0m\n\u001b[1;32m    153\u001b[0m                 \u001b[0;32mbreak\u001b[0m\u001b[0;34m\u001b[0m\u001b[0m\n",
      "\u001b[0;32m~/anaconda3/lib/python3.5/site-packages/tensorflow/python/client/session.py\u001b[0m in \u001b[0;36mrun\u001b[0;34m(self, fetches, feed_dict, options, run_metadata)\u001b[0m\n\u001b[1;32m    887\u001b[0m     \u001b[0;32mtry\u001b[0m\u001b[0;34m:\u001b[0m\u001b[0;34m\u001b[0m\u001b[0m\n\u001b[1;32m    888\u001b[0m       result = self._run(None, fetches, feed_dict, options_ptr,\n\u001b[0;32m--> 889\u001b[0;31m                          run_metadata_ptr)\n\u001b[0m\u001b[1;32m    890\u001b[0m       \u001b[0;32mif\u001b[0m \u001b[0mrun_metadata\u001b[0m\u001b[0;34m:\u001b[0m\u001b[0;34m\u001b[0m\u001b[0m\n\u001b[1;32m    891\u001b[0m         \u001b[0mproto_data\u001b[0m \u001b[0;34m=\u001b[0m \u001b[0mtf_session\u001b[0m\u001b[0;34m.\u001b[0m\u001b[0mTF_GetBuffer\u001b[0m\u001b[0;34m(\u001b[0m\u001b[0mrun_metadata_ptr\u001b[0m\u001b[0;34m)\u001b[0m\u001b[0;34m\u001b[0m\u001b[0m\n",
      "\u001b[0;32m~/anaconda3/lib/python3.5/site-packages/tensorflow/python/client/session.py\u001b[0m in \u001b[0;36m_run\u001b[0;34m(self, handle, fetches, feed_dict, options, run_metadata)\u001b[0m\n\u001b[1;32m   1118\u001b[0m     \u001b[0;32mif\u001b[0m \u001b[0mfinal_fetches\u001b[0m \u001b[0;32mor\u001b[0m \u001b[0mfinal_targets\u001b[0m \u001b[0;32mor\u001b[0m \u001b[0;34m(\u001b[0m\u001b[0mhandle\u001b[0m \u001b[0;32mand\u001b[0m \u001b[0mfeed_dict_tensor\u001b[0m\u001b[0;34m)\u001b[0m\u001b[0;34m:\u001b[0m\u001b[0;34m\u001b[0m\u001b[0m\n\u001b[1;32m   1119\u001b[0m       results = self._do_run(handle, final_targets, final_fetches,\n\u001b[0;32m-> 1120\u001b[0;31m                              feed_dict_tensor, options, run_metadata)\n\u001b[0m\u001b[1;32m   1121\u001b[0m     \u001b[0;32melse\u001b[0m\u001b[0;34m:\u001b[0m\u001b[0;34m\u001b[0m\u001b[0m\n\u001b[1;32m   1122\u001b[0m       \u001b[0mresults\u001b[0m \u001b[0;34m=\u001b[0m \u001b[0;34m[\u001b[0m\u001b[0;34m]\u001b[0m\u001b[0;34m\u001b[0m\u001b[0m\n",
      "\u001b[0;32m~/anaconda3/lib/python3.5/site-packages/tensorflow/python/client/session.py\u001b[0m in \u001b[0;36m_do_run\u001b[0;34m(self, handle, target_list, fetch_list, feed_dict, options, run_metadata)\u001b[0m\n\u001b[1;32m   1315\u001b[0m     \u001b[0;32mif\u001b[0m \u001b[0mhandle\u001b[0m \u001b[0;32mis\u001b[0m \u001b[0;32mNone\u001b[0m\u001b[0;34m:\u001b[0m\u001b[0;34m\u001b[0m\u001b[0m\n\u001b[1;32m   1316\u001b[0m       return self._do_call(_run_fn, self._session, feeds, fetches, targets,\n\u001b[0;32m-> 1317\u001b[0;31m                            options, run_metadata)\n\u001b[0m\u001b[1;32m   1318\u001b[0m     \u001b[0;32melse\u001b[0m\u001b[0;34m:\u001b[0m\u001b[0;34m\u001b[0m\u001b[0m\n\u001b[1;32m   1319\u001b[0m       \u001b[0;32mreturn\u001b[0m \u001b[0mself\u001b[0m\u001b[0;34m.\u001b[0m\u001b[0m_do_call\u001b[0m\u001b[0;34m(\u001b[0m\u001b[0m_prun_fn\u001b[0m\u001b[0;34m,\u001b[0m \u001b[0mself\u001b[0m\u001b[0;34m.\u001b[0m\u001b[0m_session\u001b[0m\u001b[0;34m,\u001b[0m \u001b[0mhandle\u001b[0m\u001b[0;34m,\u001b[0m \u001b[0mfeeds\u001b[0m\u001b[0;34m,\u001b[0m \u001b[0mfetches\u001b[0m\u001b[0;34m)\u001b[0m\u001b[0;34m\u001b[0m\u001b[0m\n",
      "\u001b[0;32m~/anaconda3/lib/python3.5/site-packages/tensorflow/python/client/session.py\u001b[0m in \u001b[0;36m_do_call\u001b[0;34m(self, fn, *args)\u001b[0m\n\u001b[1;32m   1321\u001b[0m   \u001b[0;32mdef\u001b[0m \u001b[0m_do_call\u001b[0m\u001b[0;34m(\u001b[0m\u001b[0mself\u001b[0m\u001b[0;34m,\u001b[0m \u001b[0mfn\u001b[0m\u001b[0;34m,\u001b[0m \u001b[0;34m*\u001b[0m\u001b[0margs\u001b[0m\u001b[0;34m)\u001b[0m\u001b[0;34m:\u001b[0m\u001b[0;34m\u001b[0m\u001b[0m\n\u001b[1;32m   1322\u001b[0m     \u001b[0;32mtry\u001b[0m\u001b[0;34m:\u001b[0m\u001b[0;34m\u001b[0m\u001b[0m\n\u001b[0;32m-> 1323\u001b[0;31m       \u001b[0;32mreturn\u001b[0m \u001b[0mfn\u001b[0m\u001b[0;34m(\u001b[0m\u001b[0;34m*\u001b[0m\u001b[0margs\u001b[0m\u001b[0;34m)\u001b[0m\u001b[0;34m\u001b[0m\u001b[0m\n\u001b[0m\u001b[1;32m   1324\u001b[0m     \u001b[0;32mexcept\u001b[0m \u001b[0merrors\u001b[0m\u001b[0;34m.\u001b[0m\u001b[0mOpError\u001b[0m \u001b[0;32mas\u001b[0m \u001b[0me\u001b[0m\u001b[0;34m:\u001b[0m\u001b[0;34m\u001b[0m\u001b[0m\n\u001b[1;32m   1325\u001b[0m       \u001b[0mmessage\u001b[0m \u001b[0;34m=\u001b[0m \u001b[0mcompat\u001b[0m\u001b[0;34m.\u001b[0m\u001b[0mas_text\u001b[0m\u001b[0;34m(\u001b[0m\u001b[0me\u001b[0m\u001b[0;34m.\u001b[0m\u001b[0mmessage\u001b[0m\u001b[0;34m)\u001b[0m\u001b[0;34m\u001b[0m\u001b[0m\n",
      "\u001b[0;32m~/anaconda3/lib/python3.5/site-packages/tensorflow/python/client/session.py\u001b[0m in \u001b[0;36m_run_fn\u001b[0;34m(session, feed_dict, fetch_list, target_list, options, run_metadata)\u001b[0m\n\u001b[1;32m   1300\u001b[0m           return tf_session.TF_Run(session, options,\n\u001b[1;32m   1301\u001b[0m                                    \u001b[0mfeed_dict\u001b[0m\u001b[0;34m,\u001b[0m \u001b[0mfetch_list\u001b[0m\u001b[0;34m,\u001b[0m \u001b[0mtarget_list\u001b[0m\u001b[0;34m,\u001b[0m\u001b[0;34m\u001b[0m\u001b[0m\n\u001b[0;32m-> 1302\u001b[0;31m                                    status, run_metadata)\n\u001b[0m\u001b[1;32m   1303\u001b[0m \u001b[0;34m\u001b[0m\u001b[0m\n\u001b[1;32m   1304\u001b[0m     \u001b[0;32mdef\u001b[0m \u001b[0m_prun_fn\u001b[0m\u001b[0;34m(\u001b[0m\u001b[0msession\u001b[0m\u001b[0;34m,\u001b[0m \u001b[0mhandle\u001b[0m\u001b[0;34m,\u001b[0m \u001b[0mfeed_dict\u001b[0m\u001b[0;34m,\u001b[0m \u001b[0mfetch_list\u001b[0m\u001b[0;34m)\u001b[0m\u001b[0;34m:\u001b[0m\u001b[0;34m\u001b[0m\u001b[0m\n",
      "\u001b[0;31mKeyboardInterrupt\u001b[0m: "
     ]
    }
   ],
   "source": [
    "num_epochs = 100\n",
    "\n",
    "for epoch in range(num_epochs):\n",
    "    model.evaluate_dataset(sess,\n",
    "                           '../data/simplewiki/simplewiki-20171103.entity_recognition.train.tfrecords',\n",
    "                           header='train %d' % epoch,\n",
    "                           train=True,\n",
    "                           show_progress=True)\n",
    "    model.evaluate_dataset(sess,\n",
    "                           '../data/simplewiki/simplewiki-20171103.entity_recognition.dev.tfrecords',\n",
    "                           header='dev %d' % epoch,\n",
    "                           train=False,\n",
    "                           show_progress=False)"
   ]
  },
  {
   "cell_type": "code",
   "execution_count": null,
   "metadata": {},
   "outputs": [],
   "source": []
  }
 ],
 "metadata": {
  "kernelspec": {
   "display_name": "Python 3",
   "language": "python",
   "name": "python3"
  },
  "language_info": {
   "codemirror_mode": {
    "name": "ipython",
    "version": 3
   },
   "file_extension": ".py",
   "mimetype": "text/x-python",
   "name": "python",
   "nbconvert_exporter": "python",
   "pygments_lexer": "ipython3",
   "version": "3.5.4"
  }
 },
 "nbformat": 4,
 "nbformat_minor": 2
}
